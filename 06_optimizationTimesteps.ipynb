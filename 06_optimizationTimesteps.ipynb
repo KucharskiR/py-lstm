{
 "cells": [
  {
   "cell_type": "code",
   "execution_count": null,
   "metadata": {},
   "outputs": [],
   "source": [
    "# Intallation packages before use Jupyter\n",
    "\n",
    "# !pip install pandas\n",
    "# !pip install -U scikit-learn\n",
    "# !pip install keras\n",
    "# !pip install matplotlib\n",
    "# !pip install kaleido\n",
    "# !pip install plotly"
   ]
  },
  {
   "cell_type": "code",
   "execution_count": 1,
   "metadata": {},
   "outputs": [
    {
     "name": "stdout",
     "output_type": "stream",
     "text": [
      "2.16.1\n",
      "Num GPUs Available:  0\n"
     ]
    }
   ],
   "source": [
    "import numpy as np\n",
    "import pandas as pd\n",
    "import tensorflow as tf\n",
    "from pandas import DataFrame\n",
    "from pandas import Series\n",
    "from pandas import concat\n",
    "from pandas import read_csv\n",
    "# from pandas import datetime\n",
    "from sklearn.metrics import mean_squared_error\n",
    "from sklearn.preprocessing import MinMaxScaler\n",
    "from sklearn.model_selection import train_test_split\n",
    "from keras.models import Sequential, load_model\n",
    "from keras.metrics import Precision, Accuracy\n",
    "from keras.layers import LSTM, Dense, Dropout\n",
    "from keras.callbacks import ModelCheckpoint, EarlyStopping, Callback\n",
    "from keras.optimizers import schedules\n",
    "from math import sqrt\n",
    "import matplotlib\n",
    "import matplotlib.pyplot as plt\n",
    "import plotly.graph_objects as go\n",
    "from plotly.subplots import make_subplots\n",
    "# be able to save images on server\n",
    "matplotlib.use('Agg')\n",
    "\n",
    "# Not show warnings\n",
    "import os\n",
    "os.environ['TF_CPP_MIN_LOG_LEVEL'] = '3'\n",
    "\n",
    "# !pip install -U kaleido # w Google Colab wymagany Runtime restart po instalacji (Runtime -> Restart Runtime)\n",
    "import kaleido #required\n",
    "# kaleido.__version__ #0.2.1\n",
    "\n",
    "print(tf.__version__)\n",
    "print(\"Num GPUs Available: \", len(tf.config.list_physical_devices('GPU')))\n"
   ]
  },
  {
   "cell_type": "code",
   "execution_count": null,
   "metadata": {},
   "outputs": [],
   "source": [
    "# Zip\n",
    "# importing the \"tarfile\" module\n",
    "import tarfile # type: ignore\n",
    "\n",
    "# open file\n",
    "file = tarfile.open('2_150x9.tar.gz')\n",
    "\n",
    "# extracting a specific file\n",
    "file.extractall(path='./data/2_150x9/')\n",
    "\n",
    "file.close()"
   ]
  },
  {
   "cell_type": "code",
   "execution_count": 3,
   "metadata": {},
   "outputs": [],
   "source": [
    "# Data generator\n",
    "def data(time, features):\n",
    "    # Timestep \n",
    "    # timestepsPerSample = 20\n",
    "    timestepsPerSample = time\n",
    "\n",
    "    # Timesteps in input data\n",
    "    timestepsPerSampleWholeData = 150\n",
    "\n",
    "    # Replace 'your_file.csv' with the actual file path\n",
    "    file_features = './data/2_150x9/2_150x9f.csv'\n",
    "    file_labels = './data/2_150x9/2_150x9l.csv'\n",
    "\n",
    "    # Read the .csv file and create an array\n",
    "    data_strings = np.genfromtxt(file_features, delimiter=';')\n",
    "    labels_strings = np.genfromtxt(file_labels,delimiter=';')\n",
    "\n",
    "\n",
    "    # Wycinanie wybranych kolumn\n",
    "    #  0    1         2             3        4       5        6    7        8\n",
    "    # RSI, VWAP, HeikenResult, closeHeiken, CMF, Stochastic, OBV, QQE, TrendFilter\n",
    "    # data_s = data_strings[:,[0,2,3,4,5,6,7,8]]\n",
    "    if features == 0:\n",
    "        data_s = data_strings[:,[0,4,5,8]]\n",
    "    elif features == 1:\n",
    "        data_s = data_strings[:,[0,1,4,5,6,8]]\n",
    "    elif features == 2:\n",
    "        data_s = data_strings[:,:]\n",
    "        \n",
    "    num_features = data_s.shape[1]\n",
    "    # print(data_strings[:3])\n",
    "    # print(data_s[:3])\n",
    "\n",
    "    \n",
    "    # Convert from strings to float and int\n",
    "    X = data_s.astype(float).reshape((-1,timestepsPerSampleWholeData,num_features))\n",
    "    Y = labels_strings.astype(float).reshape((-1,6))\n",
    "    # print(X.shape)\n",
    "    # print(Y.shape)\n",
    "\n",
    "    # Modification from imported to new size X[samples,timesteps]\n",
    "    # X_mod = X[1000:11000,timestepsPerSampleWholeData - timestepsPerSample:]\n",
    "    # Y_mod = Y[1000:11000]\n",
    "    X_mod = X[:,timestepsPerSampleWholeData - timestepsPerSample:]\n",
    "    Y_mod = Y[:]\n",
    "    timestepsPerSampleWholeData = X_mod.shape[1]\n",
    "    # print(X_mod.shape)\n",
    "    # print(Y_mod.shape)\n",
    "    # print(X_mod[:1])\n",
    "\n",
    "    # Splitting\n",
    "    x_train, x_test, Y_train, Y_test = train_test_split(X_mod,Y_mod, test_size=0.15, shuffle=False)\n",
    "    y_train = Y_train[:, 0:2]\n",
    "    y_test = Y_test[:, 0:2]\n",
    "    # print(y_train[:2])\n",
    "    # print(y_test[:2])\n",
    "\n",
    "    # Summarize\n",
    "    num_samples = x_train.shape[0]\n",
    "    test_samples = x_test.shape[0]\n",
    "    print(f\"Train shape: {x_train.shape}\")\n",
    "    print(f\"Timesteps: {timestepsPerSampleWholeData}\")\n",
    "    print(f\"Train Samples: {num_samples}\")\n",
    "    print(f\"Test Samples: {test_samples}\")\n",
    "    print(f\"Num features: {num_features}\")\n",
    "    return x_train, x_test, y_train, y_test, Y_test"
   ]
  },
  {
   "cell_type": "code",
   "execution_count": 5,
   "metadata": {},
   "outputs": [
    {
     "name": "stdout",
     "output_type": "stream",
     "text": [
      "Train shape: (29835, 10, 4)\n",
      "Timesteps: 10\n",
      "Train Samples: 29835\n",
      "Test Samples: 5265\n",
      "Num features: 4\n"
     ]
    }
   ],
   "source": [
    "# Data gen\n",
    "timeStep = 10\n",
    "features = 0\n",
    "\n",
    "x_train, x_test, y_train, y_test, Y_test = data(timeStep, features)"
   ]
  },
  {
   "cell_type": "code",
   "execution_count": 99,
   "metadata": {},
   "outputs": [],
   "source": [
    "# fit lstm model\n",
    "from tabnanny import verbose\n",
    "\n",
    "def shuffle_weights(model, weights=None):\n",
    "    \"\"\"Randomly permute the weights in `model`, or the given `weights`.\n",
    "    This is a fast approximation of re-initializing the weights of a model.\n",
    "    Assumes weights are distributed independently of the dimensions of the weight tensors\n",
    "      (i.e., the weights have the same distribution along each dimension).\n",
    "    :param Model model: Modify the weights of the given model.\n",
    "    :param list(ndarray) weights: The model's weights will be replaced by a random permutation of these weights.\n",
    "      If `None`, permute the model's current weights.\n",
    "    \"\"\"\n",
    "    if weights is None:\n",
    "        weights = model.get_weights()\n",
    "    weights = [np.random.permutation(w.flat).reshape(w.shape) for w in weights]\n",
    "    # Faster, but less random: only permutes along the first dimension\n",
    "    # weights = [np.random.permutation(w) for w in weights]\n",
    "    model.set_weights(weights)\n",
    "\n",
    "\n",
    "def fit_lstmModel(i, x_train, y_train, x_test, y_test, batch_size, nb_epoch, neurons, time, denseType, dropout, modelVar, learning_rate):\n",
    "    LstmLayer = LSTM(\n",
    "    units=neurons,\n",
    "    activation=\"tanh\",\n",
    "    recurrent_activation=\"sigmoid\",\n",
    "    use_bias=True, # true if cuDNN\n",
    "    kernel_initializer=\"glorot_uniform\",\n",
    "    recurrent_initializer=\"orthogonal\",\n",
    "    bias_initializer=\"zeros\",\n",
    "    unit_forget_bias=True,\n",
    "    kernel_regularizer=None,\n",
    "    recurrent_regularizer=None,\n",
    "    bias_regularizer=None,\n",
    "    activity_regularizer=None,\n",
    "    kernel_constraint=None,\n",
    "    recurrent_constraint=None,\n",
    "    bias_constraint=None,\n",
    "    dropout=dropout, # !important parameter for optimization => 0 if cuDNN\n",
    "    recurrent_dropout=0.0,\n",
    "    seed=None,\n",
    "    return_sequences=False,\n",
    "    return_state=False,\n",
    "    go_backwards=False,\n",
    "    stateful=False,\n",
    "    unroll=False, # false if cuDNN\n",
    "    input_shape=(x_train.shape[1],x_train.shape[2]),\n",
    "    # input_dim=(x_train.shape[1])\n",
    "    ) \n",
    "\n",
    "    if modelVar == 0:\n",
    "        model = Sequential() # initializing model\n",
    "        # input layer and LSTM layer with 50 neurons\n",
    "        model.add(LstmLayer)\n",
    "        # model.add(Dense(100, activation='relu'))\n",
    "        # model.add(Dense(100, activation='relu'))\n",
    "        # model.add(Dense(20, activation='relu'))\n",
    "        # outpute layer with sigmoid activation\n",
    "        model.add(Dense(y_train.shape[1], activation='sigmoid'))\n",
    "        \n",
    "    if modelVar == 1:\n",
    "        model = Sequential()\n",
    "\n",
    "        # Assuming `data` is your input matrix with shape (samples, time_steps, features)\n",
    "        model.add(LSTM(units=50, return_sequences=True, input_shape=(x_train.shape[1],x_train.shape[2])))\n",
    "        model.add(Dropout(dropout))\n",
    "\n",
    "        model.add(LSTM(units=50, return_sequences=False))\n",
    "        model.add(Dropout(dropout))\n",
    "\n",
    "        model.add(Dense(units=25))\n",
    "        model.add(Dropout(dropout))\n",
    "\n",
    "        # Output layer for price prediction\n",
    "        model.add(Dense(y_train.shape[1], activation='sigmoid'))\n",
    "\n",
    "    elif modelVar == 2:\n",
    "        model = Sequential()\n",
    "\n",
    "        # Assuming `data` is your input matrix with shape (samples, time_steps, features)\n",
    "        model.add(LSTM(units=150, return_sequences=True, input_shape=(x_train.shape[1],x_train.shape[2])))\n",
    "        model.add(Dropout(dropout))\n",
    "\n",
    "        model.add(LSTM(units=150, return_sequences=False))\n",
    "        model.add(Dropout(dropout))\n",
    "\n",
    "        model.add(Dense(units=75))\n",
    "        model.add(Dropout(dropout))\n",
    "\n",
    "        # Output layer for price prediction\n",
    "        model.add(Dense(y_train.shape[1], activation='sigmoid'))\n",
    "\n",
    "    elif modelVar == 3:\n",
    "        model = Sequential()\n",
    "\n",
    "        # Assuming `data` is your input matrix with shape (samples, time_steps, features)\n",
    "        model.add(LSTM(units=300, return_sequences=True, input_shape=(x_train.shape[1],x_train.shape[2])))\n",
    "        model.add(Dropout(dropout))\n",
    "\n",
    "        model.add(LSTM(units=300, return_sequences=False))\n",
    "        model.add(Dropout(dropout))\n",
    "\n",
    "        model.add(Dense(units=150))\n",
    "        model.add(Dropout(dropout))\n",
    "\n",
    "        # Output layer for price prediction\n",
    "        model.add(Dense(y_train.shape[1], activation='sigmoid'))\n",
    "\n",
    "    elif modelVar == 4:\n",
    "        model = Sequential()\n",
    "\n",
    "        # Assuming `data` is your input matrix with shape (samples, time_steps, features)\n",
    "        model.add(LSTM(units=1000, return_sequences=True, input_shape=(x_train.shape[1],x_train.shape[2])))\n",
    "        model.add(Dropout(dropout))\n",
    "\n",
    "        model.add(LSTM(units=1000, return_sequences=False))\n",
    "        model.add(Dropout(dropout))\n",
    "\n",
    "        model.add(Dense(units=500))\n",
    "        model.add(Dropout(dropout))\n",
    "\n",
    "        # Output layer for price prediction\n",
    "        model.add(Dense(y_train.shape[1], activation='sigmoid'))\n",
    "    \n",
    "    # Callback Checkpoint\n",
    "    checkpoint = ModelCheckpoint(\n",
    "            filepath='./saved_models/last_saved_model.keras',\n",
    "            save_best_only=True,\n",
    "            monitor='val_loss',\n",
    "            verbose=1\n",
    "            )\n",
    "\n",
    "    # Callback EarlyStopping\n",
    "    earlyStopping = EarlyStopping(monitor='val_loss',\n",
    "                                             start_from_epoch=5,\n",
    "                                             restore_best_weights=True,\n",
    "                                             verbose=0,\n",
    "                                             patience=3)\n",
    "    \n",
    "    #  Callback profit\n",
    "    profitList = list()\n",
    "    \n",
    "    class MyCallback(Callback):\n",
    "        def on_epoch_end(self, epoch, logs=None):\n",
    "            predict = model.predict(x_test, batch_size=batch_size)\n",
    "            profit = funcProfit(predict, Y_test)\n",
    "            \n",
    "            if len(profitListSaveModel) == 0:\n",
    "                model.save(f'./saved_models/best_model_{str(testingParameter)}_{str(time)}.keras')\n",
    "                print(f\"New best model saved, previous best profit -> First\")\n",
    "            elif profit > max(profitListSaveModel):\n",
    "                model.save(f'./saved_models/best_model_{str(testingParameter)}_{str(time)}.keras')\n",
    "                print(f\"New best model saved, previous best profit -> {str(max(profitListSaveModel))}\")\n",
    "            \n",
    "            profitList.append(profit)\n",
    "            profitListSaveModel.append(profit)\n",
    "            print(f\"Profit: {profit}\")\n",
    "\n",
    "\n",
    "    # Optimizer\n",
    "    num_samples = x_train.shape[0]\n",
    "    STEPS_PER_EPOCH = num_samples/batch_size\n",
    "\n",
    "    lr_schedule = schedules.InverseTimeDecay(\n",
    "    # lr_schedule = schedules.ExponentialDecay(\n",
    "    0.001,\n",
    "    decay_steps=STEPS_PER_EPOCH*100,\n",
    "    decay_rate=0.9,\n",
    "    staircase=False)\n",
    "\n",
    "    def get_optimizer():\n",
    "         # return tf.keras.optimizers.Adam(learning_rate=0.001)\n",
    "        # return tf.keras.optimizers.Adam() # type: ignore\n",
    "        # return tf.keras.optimizers.RMSprop(learning_rate=learning_rate) # type: ignore\n",
    "        return tf.keras.optimizers.Adam(learning_rate= lr_schedule) # type: ignore\n",
    "\n",
    "    optimizer = get_optimizer()\n",
    "\n",
    "    # defining loss function, optimizer, metrics and then compiling model\n",
    "    model.compile(loss='binary_crossentropy',optimizer=optimizer,metrics=['accuracy'])\n",
    "    # model.compile(loss='binary_crossentropy',optimizer=optimizer,metrics=['precision'])\n",
    "\n",
    "    # Save initial weights on first compile. In next compile restore initial weights\n",
    "    if i == 0:\n",
    "        model.save_weights(\"./saved_models/initial.weights.h5\")\n",
    "    elif i > 0:\n",
    "        shuffle_weights(model, weights=None)\n",
    "        \n",
    "    model.summary()\n",
    "\n",
    "    # fit model\n",
    "    history = model.fit(x_train, y_train, epochs=nb_epoch, batch_size=batch_size, \n",
    "                        shuffle=False, validation_data=(x_test, y_test), callbacks=[checkpoint, earlyStopping, MyCallback()], verbose=2) # type: ignore\n",
    "    \n",
    "    # Convert list() to array\n",
    "    profitArray = np.array(profitList)\n",
    "    \n",
    "    return model, history, profitArray"
   ]
  },
  {
   "cell_type": "code",
   "execution_count": 100,
   "metadata": {},
   "outputs": [],
   "source": [
    "# Profit old\n",
    "def funcProfitOld(predict, Y_test):\n",
    "    predict_classes = np.where(predict > 0.5, 1,0)\n",
    "    concat = np.hstack((predict_classes, Y_test[:,2:]))\n",
    "    # df = pd.DataFrame(concat, columns=['Sell', 'Buy', 'Price'])\n",
    "    df = pd.DataFrame(concat, columns=['Sell', 'Buy', 'Price', 'Open', 'High', 'Low'])\n",
    "\n",
    "    # Absolute difference prices\n",
    "    sum = 0\n",
    "    for i in range(0, len(df)):\n",
    "        if (i-1) > 0:\n",
    "            diff = abs((df.at[i,'Sell'] - df.at[i-1,'Sell']))\n",
    "            if diff < 0.5:\n",
    "                if df.at[i,'Sell'] == 1:\n",
    "                    sum += (df.at[i,'Price'] - df.at[i-1,'Price'])*(-1)\n",
    "                elif df.at[i,'Buy'] == 1:\n",
    "                    sum += (df.at[i,'Price'] - df.at[i-1,'Price'])\n",
    "                if df.at[i,'Sell'] != df.at[i-1,'Sell']:\n",
    "                    sum -= 0.03\n",
    "    return sum\n",
    "\n",
    "\n",
    "# Profit\n",
    "def funcProfit(predict, Y_test):\n",
    "    predict_classes = np.where(predict > 0.56, 1,0)\n",
    "    concat = np.hstack((predict_classes, Y_test[:,2:]))\n",
    "    # df = pd.DataFrame(concat, columns=['Sell', 'Buy', 'Price'])\n",
    "    df = pd.DataFrame(concat, columns=['Sell', 'Buy', 'Close', 'Open', 'High', 'Low'])\n",
    "\n",
    "    # Absolute difference prices\n",
    "    spread = 0.03\n",
    "    tp = 1000 # 0.20\n",
    "    sum = 0\n",
    "    sell = 0\n",
    "    buy = 0\n",
    "    for i in range(0, len(df)):\n",
    "        if (i-1) >= 0:\n",
    "            if df.at[i,'Sell'] > 0.8 and df.at[i-1,'Sell'] < 0.2:                  # S 0 1 \n",
    "                if buy > 0:\n",
    "                    sell = df.at[i,'Open'] - spread\n",
    "                    sum += df.at[i,'Open'] - buy\n",
    "                    buy = 0\n",
    "                elif sell == 0:\n",
    "                    sell = df.at[i,'Open'] - spread\n",
    "            elif df.at[i,'Sell'] > 0.8 and df.at[i-1,'Sell'] > 0.8 and sell > 0:   # S 1 1 sell >0\n",
    "                if df.at[i-1,'High'] >= (sell + tp):\n",
    "                    sum -= tp\n",
    "                    sell = 0\n",
    "                if df.at[i-1,'Low'] <= (sell - tp):\n",
    "                    sum += tp\n",
    "                    sell = 0\n",
    "# --------------------------------------------------------------------------------------------------------\n",
    "\n",
    "            elif df.at[i,'Buy'] > 0.8 and df.at[i-1,'Buy'] < 0.2:               # B 0 1 \n",
    "                if sell > 0:\n",
    "                    buy = df.at[i,'Open'] + spread\n",
    "                    sum += sell - df.at[i,'Open']\n",
    "                    sell = 0\n",
    "                elif buy == 0:\n",
    "                    buy = df.at[i,'Open'] + spread\n",
    "            elif df.at[i,'Buy'] > 0.8 and df.at[i-1,'Buy'] > 0.8 and buy > 0:   # B 1 1 buy >0\n",
    "                if df.at[i-1,'Low'] <= (buy - tp):\n",
    "                    sum -= tp\n",
    "                    buy = 0\n",
    "                if df.at[i-1,'High'] >= (buy + tp):\n",
    "                    sum += tp\n",
    "                    buy = 0\n",
    "\n",
    "    return round(sum, 2)"
   ]
  },
  {
   "cell_type": "code",
   "execution_count": 101,
   "metadata": {},
   "outputs": [],
   "source": [
    "# Experiment\n",
    "def experiment(i, repeats, epochs, neurons, time, denseType, dropout, modelVar, features, learning_rate):\n",
    "    # # Data gen\n",
    "    # x_train, x_test, y_train, y_test, Y_test = data(time, features)\n",
    "\n",
    "    # Evaluate declaration\n",
    "    accuracy = list()\n",
    "    profit = list()\n",
    "    profitOld = list()\n",
    "    metrics = list()\n",
    "\n",
    "    # Repeats\n",
    "    for r in range(repeats):\n",
    "        print(f\"Repeat {r} running...\")\n",
    "        # Batch size\n",
    "        batch_size = 64\n",
    "        # model\n",
    "        model, history, profitArray = fit_lstmModel(i, x_train, y_train, x_test, y_test, batch_size, epochs, neurons, time, denseType, dropout, modelVar, learning_rate)\n",
    "        i += 1\n",
    "        \n",
    "        # forecast the entire training dataset to build up state for forecasting\n",
    "        model = load_model(filepath=\"./saved_models/last_saved_model.keras\")\n",
    "        predict = model.predict(x_test, batch_size=batch_size)\n",
    "        test_loss, test_acc = model.evaluate(x_test, y_test, verbose=0) # type: ignore\n",
    "\n",
    "        metric = pd.DataFrame(history.history)\n",
    "        metric['epoch'] = history.epoch\n",
    "\n",
    "        # Add column Profit with profit result for epochs\n",
    "        metric = metric.assign(Profit=profitArray)\n",
    "\n",
    "        metrics.append(metric)\n",
    "        accuracy.append(test_acc*100)\n",
    "        profit.append(funcProfit(predict, Y_test))\n",
    "        profitOld.append(funcProfitOld(predict, Y_test))\n",
    "    \n",
    "    return accuracy, profit, profitOld, metrics"
   ]
  },
  {
   "cell_type": "code",
   "execution_count": 102,
   "metadata": {},
   "outputs": [],
   "source": [
    "# Output\n",
    "def plotsOut(d, metrics):\n",
    "    fig = make_subplots(rows=1, cols=3, subplot_titles=('Accuracy', 'Loss', 'Profit'))\n",
    "\n",
    "    # Layout - set size\n",
    "    fig.update_layout(\n",
    "        autosize=True,\n",
    "        width=1600,\n",
    "        height=1000\n",
    "    )\n",
    "\n",
    "    for idx, m in enumerate(metrics):\n",
    "        fig.add_trace(go.Scatter(x=m['epoch'], y=m['accuracy'], name=f'accuracy{str(idx)}', line_color='#0000ff', showlegend=False), row=1, col=1)\n",
    "        fig.add_trace(go.Scatter(x=m['epoch'], y=m['loss'], name=f'loss{str(idx)}', line_color='#0000ff', showlegend=False), row=1, col=2)\n",
    "        fig.add_trace(go.Scatter(x=m['epoch'], y=m['val_accuracy'], name=f'val_accuracy{str(idx)}', line_color='#EF8260', showlegend=False), row=1, col=1)\n",
    "        fig.add_trace(go.Scatter(x=m['epoch'], y=m['val_loss'], name=f'val_loss{str(idx)}', line_color='#EF8260', showlegend=False), row=1, col=2)\n",
    "        fig.add_trace(go.Scatter(x=m['epoch'], y=m['Profit'], name=f'profit{str(idx)}', line_color='#EF8260', showlegend=False), row=1, col=3)\n",
    "\n",
    "    fig.update_xaxes(title_text='epochs')\n",
    "    fig.update_yaxes(title_text='')\n",
    "    # fig.update_layout(width=1000, title='Accuracy and Loss')\n",
    "    fig.write_image(file=f\"compare_models_{str(d)}.jpg\", engine=\"kaleido\")\n",
    "    fig.show()"
   ]
  },
  {
   "cell_type": "code",
   "execution_count": 103,
   "metadata": {},
   "outputs": [
    {
     "name": "stdout",
     "output_type": "stream",
     "text": [
      "0 Model test start...\n",
      "Repeat 0 running...\n"
     ]
    },
    {
     "name": "stderr",
     "output_type": "stream",
     "text": [
      "C:\\Users\\kucha\\AppData\\Roaming\\Python\\Python310\\site-packages\\keras\\src\\layers\\rnn\\rnn.py:204: UserWarning:\n",
      "\n",
      "Do not pass an `input_shape`/`input_dim` argument to a layer. When using Sequential models, prefer using an `Input(shape)` object as the first layer in the model instead.\n",
      "\n"
     ]
    },
    {
     "data": {
      "text/html": [
       "<pre style=\"white-space:pre;overflow-x:auto;line-height:normal;font-family:Menlo,'DejaVu Sans Mono',consolas,'Courier New',monospace\"><span style=\"font-weight: bold\">Model: \"sequential_25\"</span>\n",
       "</pre>\n"
      ],
      "text/plain": [
       "\u001b[1mModel: \"sequential_25\"\u001b[0m\n"
      ]
     },
     "metadata": {},
     "output_type": "display_data"
    },
    {
     "data": {
      "text/html": [
       "<pre style=\"white-space:pre;overflow-x:auto;line-height:normal;font-family:Menlo,'DejaVu Sans Mono',consolas,'Courier New',monospace\">┏━━━━━━━━━━━━━━━━━━━━━━━━━━━━━━━━━┳━━━━━━━━━━━━━━━━━━━━━━━━┳━━━━━━━━━━━━━━━┓\n",
       "┃<span style=\"font-weight: bold\"> Layer (type)                    </span>┃<span style=\"font-weight: bold\"> Output Shape           </span>┃<span style=\"font-weight: bold\">       Param # </span>┃\n",
       "┡━━━━━━━━━━━━━━━━━━━━━━━━━━━━━━━━━╇━━━━━━━━━━━━━━━━━━━━━━━━╇━━━━━━━━━━━━━━━┩\n",
       "│ lstm_50 (<span style=\"color: #0087ff; text-decoration-color: #0087ff\">LSTM</span>)                  │ (<span style=\"color: #00d7ff; text-decoration-color: #00d7ff\">None</span>, <span style=\"color: #00af00; text-decoration-color: #00af00\">150</span>)            │        <span style=\"color: #00af00; text-decoration-color: #00af00\">93,000</span> │\n",
       "├─────────────────────────────────┼────────────────────────┼───────────────┤\n",
       "│ dense_35 (<span style=\"color: #0087ff; text-decoration-color: #0087ff\">Dense</span>)                │ (<span style=\"color: #00d7ff; text-decoration-color: #00d7ff\">None</span>, <span style=\"color: #00af00; text-decoration-color: #00af00\">2</span>)              │           <span style=\"color: #00af00; text-decoration-color: #00af00\">302</span> │\n",
       "└─────────────────────────────────┴────────────────────────┴───────────────┘\n",
       "</pre>\n"
      ],
      "text/plain": [
       "┏━━━━━━━━━━━━━━━━━━━━━━━━━━━━━━━━━┳━━━━━━━━━━━━━━━━━━━━━━━━┳━━━━━━━━━━━━━━━┓\n",
       "┃\u001b[1m \u001b[0m\u001b[1mLayer (type)                   \u001b[0m\u001b[1m \u001b[0m┃\u001b[1m \u001b[0m\u001b[1mOutput Shape          \u001b[0m\u001b[1m \u001b[0m┃\u001b[1m \u001b[0m\u001b[1m      Param #\u001b[0m\u001b[1m \u001b[0m┃\n",
       "┡━━━━━━━━━━━━━━━━━━━━━━━━━━━━━━━━━╇━━━━━━━━━━━━━━━━━━━━━━━━╇━━━━━━━━━━━━━━━┩\n",
       "│ lstm_50 (\u001b[38;5;33mLSTM\u001b[0m)                  │ (\u001b[38;5;45mNone\u001b[0m, \u001b[38;5;34m150\u001b[0m)            │        \u001b[38;5;34m93,000\u001b[0m │\n",
       "├─────────────────────────────────┼────────────────────────┼───────────────┤\n",
       "│ dense_35 (\u001b[38;5;33mDense\u001b[0m)                │ (\u001b[38;5;45mNone\u001b[0m, \u001b[38;5;34m2\u001b[0m)              │           \u001b[38;5;34m302\u001b[0m │\n",
       "└─────────────────────────────────┴────────────────────────┴───────────────┘\n"
      ]
     },
     "metadata": {},
     "output_type": "display_data"
    },
    {
     "data": {
      "text/html": [
       "<pre style=\"white-space:pre;overflow-x:auto;line-height:normal;font-family:Menlo,'DejaVu Sans Mono',consolas,'Courier New',monospace\"><span style=\"font-weight: bold\"> Total params: </span><span style=\"color: #00af00; text-decoration-color: #00af00\">93,302</span> (364.46 KB)\n",
       "</pre>\n"
      ],
      "text/plain": [
       "\u001b[1m Total params: \u001b[0m\u001b[38;5;34m93,302\u001b[0m (364.46 KB)\n"
      ]
     },
     "metadata": {},
     "output_type": "display_data"
    },
    {
     "data": {
      "text/html": [
       "<pre style=\"white-space:pre;overflow-x:auto;line-height:normal;font-family:Menlo,'DejaVu Sans Mono',consolas,'Courier New',monospace\"><span style=\"font-weight: bold\"> Trainable params: </span><span style=\"color: #00af00; text-decoration-color: #00af00\">93,302</span> (364.46 KB)\n",
       "</pre>\n"
      ],
      "text/plain": [
       "\u001b[1m Trainable params: \u001b[0m\u001b[38;5;34m93,302\u001b[0m (364.46 KB)\n"
      ]
     },
     "metadata": {},
     "output_type": "display_data"
    },
    {
     "data": {
      "text/html": [
       "<pre style=\"white-space:pre;overflow-x:auto;line-height:normal;font-family:Menlo,'DejaVu Sans Mono',consolas,'Courier New',monospace\"><span style=\"font-weight: bold\"> Non-trainable params: </span><span style=\"color: #00af00; text-decoration-color: #00af00\">0</span> (0.00 B)\n",
       "</pre>\n"
      ],
      "text/plain": [
       "\u001b[1m Non-trainable params: \u001b[0m\u001b[38;5;34m0\u001b[0m (0.00 B)\n"
      ]
     },
     "metadata": {},
     "output_type": "display_data"
    },
    {
     "name": "stdout",
     "output_type": "stream",
     "text": [
      "Epoch 1/3\n",
      "\n",
      "Epoch 1: val_loss improved from inf to 0.61585, saving model to ./saved_models/last_saved_model.keras\n",
      "\u001b[1m24/24\u001b[0m \u001b[32m━━━━━━━━━━━━━━━━━━━━\u001b[0m\u001b[37m\u001b[0m \u001b[1m6s\u001b[0m 235ms/step\n",
      "Profit: 4.42\n",
      "133/133 - 74s - 553ms/step - accuracy: 0.6233 - loss: 0.6523 - val_accuracy: 0.6807 - val_loss: 0.6158\n",
      "Epoch 2/3\n",
      "\n",
      "Epoch 2: val_loss improved from 0.61585 to 0.59694, saving model to ./saved_models/last_saved_model.keras\n",
      "\u001b[1m24/24\u001b[0m \u001b[32m━━━━━━━━━━━━━━━━━━━━\u001b[0m\u001b[37m\u001b[0m \u001b[1m4s\u001b[0m 167ms/step\n",
      "Profit: 4.18\n",
      "133/133 - 56s - 421ms/step - accuracy: 0.6578 - loss: 0.6259 - val_accuracy: 0.6840 - val_loss: 0.5969\n",
      "Epoch 3/3\n",
      "\n",
      "Epoch 3: val_loss improved from 0.59694 to 0.58739, saving model to ./saved_models/last_saved_model.keras\n",
      "\u001b[1m24/24\u001b[0m \u001b[32m━━━━━━━━━━━━━━━━━━━━\u001b[0m\u001b[37m\u001b[0m \u001b[1m4s\u001b[0m 169ms/step\n",
      "Profit: 1.1\n",
      "133/133 - 91s - 683ms/step - accuracy: 0.6648 - loss: 0.6169 - val_accuracy: 0.6947 - val_loss: 0.5874\n",
      "\u001b[1m24/24\u001b[0m \u001b[32m━━━━━━━━━━━━━━━━━━━━\u001b[0m\u001b[37m\u001b[0m \u001b[1m5s\u001b[0m 188ms/step\n",
      "Repeat 1 running...\n"
     ]
    },
    {
     "name": "stderr",
     "output_type": "stream",
     "text": [
      "C:\\Users\\kucha\\AppData\\Roaming\\Python\\Python310\\site-packages\\keras\\src\\layers\\rnn\\rnn.py:204: UserWarning:\n",
      "\n",
      "Do not pass an `input_shape`/`input_dim` argument to a layer. When using Sequential models, prefer using an `Input(shape)` object as the first layer in the model instead.\n",
      "\n"
     ]
    },
    {
     "data": {
      "text/html": [
       "<pre style=\"white-space:pre;overflow-x:auto;line-height:normal;font-family:Menlo,'DejaVu Sans Mono',consolas,'Courier New',monospace\"><span style=\"font-weight: bold\">Model: \"sequential_26\"</span>\n",
       "</pre>\n"
      ],
      "text/plain": [
       "\u001b[1mModel: \"sequential_26\"\u001b[0m\n"
      ]
     },
     "metadata": {},
     "output_type": "display_data"
    },
    {
     "data": {
      "text/html": [
       "<pre style=\"white-space:pre;overflow-x:auto;line-height:normal;font-family:Menlo,'DejaVu Sans Mono',consolas,'Courier New',monospace\">┏━━━━━━━━━━━━━━━━━━━━━━━━━━━━━━━━━┳━━━━━━━━━━━━━━━━━━━━━━━━┳━━━━━━━━━━━━━━━┓\n",
       "┃<span style=\"font-weight: bold\"> Layer (type)                    </span>┃<span style=\"font-weight: bold\"> Output Shape           </span>┃<span style=\"font-weight: bold\">       Param # </span>┃\n",
       "┡━━━━━━━━━━━━━━━━━━━━━━━━━━━━━━━━━╇━━━━━━━━━━━━━━━━━━━━━━━━╇━━━━━━━━━━━━━━━┩\n",
       "│ lstm_51 (<span style=\"color: #0087ff; text-decoration-color: #0087ff\">LSTM</span>)                  │ (<span style=\"color: #00d7ff; text-decoration-color: #00d7ff\">None</span>, <span style=\"color: #00af00; text-decoration-color: #00af00\">150</span>)            │        <span style=\"color: #00af00; text-decoration-color: #00af00\">93,000</span> │\n",
       "├─────────────────────────────────┼────────────────────────┼───────────────┤\n",
       "│ dense_36 (<span style=\"color: #0087ff; text-decoration-color: #0087ff\">Dense</span>)                │ (<span style=\"color: #00d7ff; text-decoration-color: #00d7ff\">None</span>, <span style=\"color: #00af00; text-decoration-color: #00af00\">2</span>)              │           <span style=\"color: #00af00; text-decoration-color: #00af00\">302</span> │\n",
       "└─────────────────────────────────┴────────────────────────┴───────────────┘\n",
       "</pre>\n"
      ],
      "text/plain": [
       "┏━━━━━━━━━━━━━━━━━━━━━━━━━━━━━━━━━┳━━━━━━━━━━━━━━━━━━━━━━━━┳━━━━━━━━━━━━━━━┓\n",
       "┃\u001b[1m \u001b[0m\u001b[1mLayer (type)                   \u001b[0m\u001b[1m \u001b[0m┃\u001b[1m \u001b[0m\u001b[1mOutput Shape          \u001b[0m\u001b[1m \u001b[0m┃\u001b[1m \u001b[0m\u001b[1m      Param #\u001b[0m\u001b[1m \u001b[0m┃\n",
       "┡━━━━━━━━━━━━━━━━━━━━━━━━━━━━━━━━━╇━━━━━━━━━━━━━━━━━━━━━━━━╇━━━━━━━━━━━━━━━┩\n",
       "│ lstm_51 (\u001b[38;5;33mLSTM\u001b[0m)                  │ (\u001b[38;5;45mNone\u001b[0m, \u001b[38;5;34m150\u001b[0m)            │        \u001b[38;5;34m93,000\u001b[0m │\n",
       "├─────────────────────────────────┼────────────────────────┼───────────────┤\n",
       "│ dense_36 (\u001b[38;5;33mDense\u001b[0m)                │ (\u001b[38;5;45mNone\u001b[0m, \u001b[38;5;34m2\u001b[0m)              │           \u001b[38;5;34m302\u001b[0m │\n",
       "└─────────────────────────────────┴────────────────────────┴───────────────┘\n"
      ]
     },
     "metadata": {},
     "output_type": "display_data"
    },
    {
     "data": {
      "text/html": [
       "<pre style=\"white-space:pre;overflow-x:auto;line-height:normal;font-family:Menlo,'DejaVu Sans Mono',consolas,'Courier New',monospace\"><span style=\"font-weight: bold\"> Total params: </span><span style=\"color: #00af00; text-decoration-color: #00af00\">93,302</span> (364.46 KB)\n",
       "</pre>\n"
      ],
      "text/plain": [
       "\u001b[1m Total params: \u001b[0m\u001b[38;5;34m93,302\u001b[0m (364.46 KB)\n"
      ]
     },
     "metadata": {},
     "output_type": "display_data"
    },
    {
     "data": {
      "text/html": [
       "<pre style=\"white-space:pre;overflow-x:auto;line-height:normal;font-family:Menlo,'DejaVu Sans Mono',consolas,'Courier New',monospace\"><span style=\"font-weight: bold\"> Trainable params: </span><span style=\"color: #00af00; text-decoration-color: #00af00\">93,302</span> (364.46 KB)\n",
       "</pre>\n"
      ],
      "text/plain": [
       "\u001b[1m Trainable params: \u001b[0m\u001b[38;5;34m93,302\u001b[0m (364.46 KB)\n"
      ]
     },
     "metadata": {},
     "output_type": "display_data"
    },
    {
     "data": {
      "text/html": [
       "<pre style=\"white-space:pre;overflow-x:auto;line-height:normal;font-family:Menlo,'DejaVu Sans Mono',consolas,'Courier New',monospace\"><span style=\"font-weight: bold\"> Non-trainable params: </span><span style=\"color: #00af00; text-decoration-color: #00af00\">0</span> (0.00 B)\n",
       "</pre>\n"
      ],
      "text/plain": [
       "\u001b[1m Non-trainable params: \u001b[0m\u001b[38;5;34m0\u001b[0m (0.00 B)\n"
      ]
     },
     "metadata": {},
     "output_type": "display_data"
    },
    {
     "name": "stdout",
     "output_type": "stream",
     "text": [
      "Epoch 1/3\n",
      "\n",
      "Epoch 1: val_loss improved from inf to 0.60979, saving model to ./saved_models/last_saved_model.keras\n",
      "\u001b[1m24/24\u001b[0m \u001b[32m━━━━━━━━━━━━━━━━━━━━\u001b[0m\u001b[37m\u001b[0m \u001b[1m5s\u001b[0m 189ms/step\n",
      "Profit: 2.73\n",
      "133/133 - 63s - 477ms/step - accuracy: 0.6247 - loss: 0.6531 - val_accuracy: 0.6887 - val_loss: 0.6098\n",
      "Epoch 2/3\n",
      "\n",
      "Epoch 2: val_loss improved from 0.60979 to 0.59118, saving model to ./saved_models/last_saved_model.keras\n",
      "\u001b[1m24/24\u001b[0m \u001b[32m━━━━━━━━━━━━━━━━━━━━\u001b[0m\u001b[37m\u001b[0m \u001b[1m7s\u001b[0m 273ms/step\n",
      "New best model saved, previous best profit -> 0\n",
      "Profit: 3.66\n",
      "133/133 - 70s - 527ms/step - accuracy: 0.6687 - loss: 0.6156 - val_accuracy: 0.6973 - val_loss: 0.5912\n",
      "Epoch 3/3\n",
      "\n",
      "Epoch 3: val_loss improved from 0.59118 to 0.58109, saving model to ./saved_models/last_saved_model.keras\n",
      "\u001b[1m24/24\u001b[0m \u001b[32m━━━━━━━━━━━━━━━━━━━━\u001b[0m\u001b[37m\u001b[0m \u001b[1m5s\u001b[0m 222ms/step\n",
      "Profit: 2.15\n",
      "133/133 - 75s - 567ms/step - accuracy: 0.6781 - loss: 0.6062 - val_accuracy: 0.7040 - val_loss: 0.5811\n",
      "\u001b[1m24/24\u001b[0m \u001b[32m━━━━━━━━━━━━━━━━━━━━\u001b[0m\u001b[37m\u001b[0m \u001b[1m6s\u001b[0m 241ms/step\n"
     ]
    },
    {
     "data": {
      "application/vnd.plotly.v1+json": {
       "config": {
        "plotlyServerURL": "https://plot.ly"
       },
       "data": [
        {
         "line": {
          "color": "#0000ff"
         },
         "name": "accuracy0",
         "showlegend": false,
         "type": "scatter",
         "x": [
          0,
          1,
          2
         ],
         "xaxis": "x",
         "y": [
          0.6232941150665283,
          0.657764732837677,
          0.6648235321044922
         ],
         "yaxis": "y"
        },
        {
         "line": {
          "color": "#0000ff"
         },
         "name": "loss0",
         "showlegend": false,
         "type": "scatter",
         "x": [
          0,
          1,
          2
         ],
         "xaxis": "x2",
         "y": [
          0.6522859334945679,
          0.6259234547615051,
          0.6168550848960876
         ],
         "yaxis": "y2"
        },
        {
         "line": {
          "color": "#EF8260"
         },
         "name": "val_accuracy0",
         "showlegend": false,
         "type": "scatter",
         "x": [
          0,
          1,
          2
         ],
         "xaxis": "x",
         "y": [
          0.6806666851043701,
          0.6840000152587891,
          0.6946666836738586
         ],
         "yaxis": "y"
        },
        {
         "line": {
          "color": "#EF8260"
         },
         "name": "val_loss0",
         "showlegend": false,
         "type": "scatter",
         "x": [
          0,
          1,
          2
         ],
         "xaxis": "x2",
         "y": [
          0.615845799446106,
          0.5969430208206177,
          0.5873857140541077
         ],
         "yaxis": "y2"
        },
        {
         "line": {
          "color": "#EF8260"
         },
         "name": "profit0",
         "showlegend": false,
         "type": "scatter",
         "x": [
          0,
          1,
          2
         ],
         "xaxis": "x3",
         "y": [
          4.42,
          4.18,
          1.1
         ],
         "yaxis": "y3"
        },
        {
         "line": {
          "color": "#0000ff"
         },
         "name": "accuracy1",
         "showlegend": false,
         "type": "scatter",
         "x": [
          0,
          1,
          2
         ],
         "xaxis": "x",
         "y": [
          0.6247059106826782,
          0.6687058806419373,
          0.6781176328659058
         ],
         "yaxis": "y"
        },
        {
         "line": {
          "color": "#0000ff"
         },
         "name": "loss1",
         "showlegend": false,
         "type": "scatter",
         "x": [
          0,
          1,
          2
         ],
         "xaxis": "x2",
         "y": [
          0.6531116962432861,
          0.6155937910079956,
          0.6062077283859253
         ],
         "yaxis": "y2"
        },
        {
         "line": {
          "color": "#EF8260"
         },
         "name": "val_accuracy1",
         "showlegend": false,
         "type": "scatter",
         "x": [
          0,
          1,
          2
         ],
         "xaxis": "x",
         "y": [
          0.6886666417121887,
          0.6973333358764648,
          0.7039999961853027
         ],
         "yaxis": "y"
        },
        {
         "line": {
          "color": "#EF8260"
         },
         "name": "val_loss1",
         "showlegend": false,
         "type": "scatter",
         "x": [
          0,
          1,
          2
         ],
         "xaxis": "x2",
         "y": [
          0.6097854971885681,
          0.5911826491355896,
          0.5810881853103638
         ],
         "yaxis": "y2"
        },
        {
         "line": {
          "color": "#EF8260"
         },
         "name": "profit1",
         "showlegend": false,
         "type": "scatter",
         "x": [
          0,
          1,
          2
         ],
         "xaxis": "x3",
         "y": [
          2.73,
          3.66,
          2.15
         ],
         "yaxis": "y3"
        }
       ],
       "layout": {
        "annotations": [
         {
          "font": {
           "size": 16
          },
          "showarrow": false,
          "text": "Accuracy",
          "x": 0.14444444444444446,
          "xanchor": "center",
          "xref": "paper",
          "y": 1,
          "yanchor": "bottom",
          "yref": "paper"
         },
         {
          "font": {
           "size": 16
          },
          "showarrow": false,
          "text": "Loss",
          "x": 0.5,
          "xanchor": "center",
          "xref": "paper",
          "y": 1,
          "yanchor": "bottom",
          "yref": "paper"
         },
         {
          "font": {
           "size": 16
          },
          "showarrow": false,
          "text": "Profit",
          "x": 0.8555555555555556,
          "xanchor": "center",
          "xref": "paper",
          "y": 1,
          "yanchor": "bottom",
          "yref": "paper"
         }
        ],
        "autosize": true,
        "height": 1000,
        "template": {
         "data": {
          "bar": [
           {
            "error_x": {
             "color": "#2a3f5f"
            },
            "error_y": {
             "color": "#2a3f5f"
            },
            "marker": {
             "line": {
              "color": "#E5ECF6",
              "width": 0.5
             },
             "pattern": {
              "fillmode": "overlay",
              "size": 10,
              "solidity": 0.2
             }
            },
            "type": "bar"
           }
          ],
          "barpolar": [
           {
            "marker": {
             "line": {
              "color": "#E5ECF6",
              "width": 0.5
             },
             "pattern": {
              "fillmode": "overlay",
              "size": 10,
              "solidity": 0.2
             }
            },
            "type": "barpolar"
           }
          ],
          "carpet": [
           {
            "aaxis": {
             "endlinecolor": "#2a3f5f",
             "gridcolor": "white",
             "linecolor": "white",
             "minorgridcolor": "white",
             "startlinecolor": "#2a3f5f"
            },
            "baxis": {
             "endlinecolor": "#2a3f5f",
             "gridcolor": "white",
             "linecolor": "white",
             "minorgridcolor": "white",
             "startlinecolor": "#2a3f5f"
            },
            "type": "carpet"
           }
          ],
          "choropleth": [
           {
            "colorbar": {
             "outlinewidth": 0,
             "ticks": ""
            },
            "type": "choropleth"
           }
          ],
          "contour": [
           {
            "colorbar": {
             "outlinewidth": 0,
             "ticks": ""
            },
            "colorscale": [
             [
              0,
              "#0d0887"
             ],
             [
              0.1111111111111111,
              "#46039f"
             ],
             [
              0.2222222222222222,
              "#7201a8"
             ],
             [
              0.3333333333333333,
              "#9c179e"
             ],
             [
              0.4444444444444444,
              "#bd3786"
             ],
             [
              0.5555555555555556,
              "#d8576b"
             ],
             [
              0.6666666666666666,
              "#ed7953"
             ],
             [
              0.7777777777777778,
              "#fb9f3a"
             ],
             [
              0.8888888888888888,
              "#fdca26"
             ],
             [
              1,
              "#f0f921"
             ]
            ],
            "type": "contour"
           }
          ],
          "contourcarpet": [
           {
            "colorbar": {
             "outlinewidth": 0,
             "ticks": ""
            },
            "type": "contourcarpet"
           }
          ],
          "heatmap": [
           {
            "colorbar": {
             "outlinewidth": 0,
             "ticks": ""
            },
            "colorscale": [
             [
              0,
              "#0d0887"
             ],
             [
              0.1111111111111111,
              "#46039f"
             ],
             [
              0.2222222222222222,
              "#7201a8"
             ],
             [
              0.3333333333333333,
              "#9c179e"
             ],
             [
              0.4444444444444444,
              "#bd3786"
             ],
             [
              0.5555555555555556,
              "#d8576b"
             ],
             [
              0.6666666666666666,
              "#ed7953"
             ],
             [
              0.7777777777777778,
              "#fb9f3a"
             ],
             [
              0.8888888888888888,
              "#fdca26"
             ],
             [
              1,
              "#f0f921"
             ]
            ],
            "type": "heatmap"
           }
          ],
          "heatmapgl": [
           {
            "colorbar": {
             "outlinewidth": 0,
             "ticks": ""
            },
            "colorscale": [
             [
              0,
              "#0d0887"
             ],
             [
              0.1111111111111111,
              "#46039f"
             ],
             [
              0.2222222222222222,
              "#7201a8"
             ],
             [
              0.3333333333333333,
              "#9c179e"
             ],
             [
              0.4444444444444444,
              "#bd3786"
             ],
             [
              0.5555555555555556,
              "#d8576b"
             ],
             [
              0.6666666666666666,
              "#ed7953"
             ],
             [
              0.7777777777777778,
              "#fb9f3a"
             ],
             [
              0.8888888888888888,
              "#fdca26"
             ],
             [
              1,
              "#f0f921"
             ]
            ],
            "type": "heatmapgl"
           }
          ],
          "histogram": [
           {
            "marker": {
             "pattern": {
              "fillmode": "overlay",
              "size": 10,
              "solidity": 0.2
             }
            },
            "type": "histogram"
           }
          ],
          "histogram2d": [
           {
            "colorbar": {
             "outlinewidth": 0,
             "ticks": ""
            },
            "colorscale": [
             [
              0,
              "#0d0887"
             ],
             [
              0.1111111111111111,
              "#46039f"
             ],
             [
              0.2222222222222222,
              "#7201a8"
             ],
             [
              0.3333333333333333,
              "#9c179e"
             ],
             [
              0.4444444444444444,
              "#bd3786"
             ],
             [
              0.5555555555555556,
              "#d8576b"
             ],
             [
              0.6666666666666666,
              "#ed7953"
             ],
             [
              0.7777777777777778,
              "#fb9f3a"
             ],
             [
              0.8888888888888888,
              "#fdca26"
             ],
             [
              1,
              "#f0f921"
             ]
            ],
            "type": "histogram2d"
           }
          ],
          "histogram2dcontour": [
           {
            "colorbar": {
             "outlinewidth": 0,
             "ticks": ""
            },
            "colorscale": [
             [
              0,
              "#0d0887"
             ],
             [
              0.1111111111111111,
              "#46039f"
             ],
             [
              0.2222222222222222,
              "#7201a8"
             ],
             [
              0.3333333333333333,
              "#9c179e"
             ],
             [
              0.4444444444444444,
              "#bd3786"
             ],
             [
              0.5555555555555556,
              "#d8576b"
             ],
             [
              0.6666666666666666,
              "#ed7953"
             ],
             [
              0.7777777777777778,
              "#fb9f3a"
             ],
             [
              0.8888888888888888,
              "#fdca26"
             ],
             [
              1,
              "#f0f921"
             ]
            ],
            "type": "histogram2dcontour"
           }
          ],
          "mesh3d": [
           {
            "colorbar": {
             "outlinewidth": 0,
             "ticks": ""
            },
            "type": "mesh3d"
           }
          ],
          "parcoords": [
           {
            "line": {
             "colorbar": {
              "outlinewidth": 0,
              "ticks": ""
             }
            },
            "type": "parcoords"
           }
          ],
          "pie": [
           {
            "automargin": true,
            "type": "pie"
           }
          ],
          "scatter": [
           {
            "fillpattern": {
             "fillmode": "overlay",
             "size": 10,
             "solidity": 0.2
            },
            "type": "scatter"
           }
          ],
          "scatter3d": [
           {
            "line": {
             "colorbar": {
              "outlinewidth": 0,
              "ticks": ""
             }
            },
            "marker": {
             "colorbar": {
              "outlinewidth": 0,
              "ticks": ""
             }
            },
            "type": "scatter3d"
           }
          ],
          "scattercarpet": [
           {
            "marker": {
             "colorbar": {
              "outlinewidth": 0,
              "ticks": ""
             }
            },
            "type": "scattercarpet"
           }
          ],
          "scattergeo": [
           {
            "marker": {
             "colorbar": {
              "outlinewidth": 0,
              "ticks": ""
             }
            },
            "type": "scattergeo"
           }
          ],
          "scattergl": [
           {
            "marker": {
             "colorbar": {
              "outlinewidth": 0,
              "ticks": ""
             }
            },
            "type": "scattergl"
           }
          ],
          "scattermapbox": [
           {
            "marker": {
             "colorbar": {
              "outlinewidth": 0,
              "ticks": ""
             }
            },
            "type": "scattermapbox"
           }
          ],
          "scatterpolar": [
           {
            "marker": {
             "colorbar": {
              "outlinewidth": 0,
              "ticks": ""
             }
            },
            "type": "scatterpolar"
           }
          ],
          "scatterpolargl": [
           {
            "marker": {
             "colorbar": {
              "outlinewidth": 0,
              "ticks": ""
             }
            },
            "type": "scatterpolargl"
           }
          ],
          "scatterternary": [
           {
            "marker": {
             "colorbar": {
              "outlinewidth": 0,
              "ticks": ""
             }
            },
            "type": "scatterternary"
           }
          ],
          "surface": [
           {
            "colorbar": {
             "outlinewidth": 0,
             "ticks": ""
            },
            "colorscale": [
             [
              0,
              "#0d0887"
             ],
             [
              0.1111111111111111,
              "#46039f"
             ],
             [
              0.2222222222222222,
              "#7201a8"
             ],
             [
              0.3333333333333333,
              "#9c179e"
             ],
             [
              0.4444444444444444,
              "#bd3786"
             ],
             [
              0.5555555555555556,
              "#d8576b"
             ],
             [
              0.6666666666666666,
              "#ed7953"
             ],
             [
              0.7777777777777778,
              "#fb9f3a"
             ],
             [
              0.8888888888888888,
              "#fdca26"
             ],
             [
              1,
              "#f0f921"
             ]
            ],
            "type": "surface"
           }
          ],
          "table": [
           {
            "cells": {
             "fill": {
              "color": "#EBF0F8"
             },
             "line": {
              "color": "white"
             }
            },
            "header": {
             "fill": {
              "color": "#C8D4E3"
             },
             "line": {
              "color": "white"
             }
            },
            "type": "table"
           }
          ]
         },
         "layout": {
          "annotationdefaults": {
           "arrowcolor": "#2a3f5f",
           "arrowhead": 0,
           "arrowwidth": 1
          },
          "autotypenumbers": "strict",
          "coloraxis": {
           "colorbar": {
            "outlinewidth": 0,
            "ticks": ""
           }
          },
          "colorscale": {
           "diverging": [
            [
             0,
             "#8e0152"
            ],
            [
             0.1,
             "#c51b7d"
            ],
            [
             0.2,
             "#de77ae"
            ],
            [
             0.3,
             "#f1b6da"
            ],
            [
             0.4,
             "#fde0ef"
            ],
            [
             0.5,
             "#f7f7f7"
            ],
            [
             0.6,
             "#e6f5d0"
            ],
            [
             0.7,
             "#b8e186"
            ],
            [
             0.8,
             "#7fbc41"
            ],
            [
             0.9,
             "#4d9221"
            ],
            [
             1,
             "#276419"
            ]
           ],
           "sequential": [
            [
             0,
             "#0d0887"
            ],
            [
             0.1111111111111111,
             "#46039f"
            ],
            [
             0.2222222222222222,
             "#7201a8"
            ],
            [
             0.3333333333333333,
             "#9c179e"
            ],
            [
             0.4444444444444444,
             "#bd3786"
            ],
            [
             0.5555555555555556,
             "#d8576b"
            ],
            [
             0.6666666666666666,
             "#ed7953"
            ],
            [
             0.7777777777777778,
             "#fb9f3a"
            ],
            [
             0.8888888888888888,
             "#fdca26"
            ],
            [
             1,
             "#f0f921"
            ]
           ],
           "sequentialminus": [
            [
             0,
             "#0d0887"
            ],
            [
             0.1111111111111111,
             "#46039f"
            ],
            [
             0.2222222222222222,
             "#7201a8"
            ],
            [
             0.3333333333333333,
             "#9c179e"
            ],
            [
             0.4444444444444444,
             "#bd3786"
            ],
            [
             0.5555555555555556,
             "#d8576b"
            ],
            [
             0.6666666666666666,
             "#ed7953"
            ],
            [
             0.7777777777777778,
             "#fb9f3a"
            ],
            [
             0.8888888888888888,
             "#fdca26"
            ],
            [
             1,
             "#f0f921"
            ]
           ]
          },
          "colorway": [
           "#636efa",
           "#EF553B",
           "#00cc96",
           "#ab63fa",
           "#FFA15A",
           "#19d3f3",
           "#FF6692",
           "#B6E880",
           "#FF97FF",
           "#FECB52"
          ],
          "font": {
           "color": "#2a3f5f"
          },
          "geo": {
           "bgcolor": "white",
           "lakecolor": "white",
           "landcolor": "#E5ECF6",
           "showlakes": true,
           "showland": true,
           "subunitcolor": "white"
          },
          "hoverlabel": {
           "align": "left"
          },
          "hovermode": "closest",
          "mapbox": {
           "style": "light"
          },
          "paper_bgcolor": "white",
          "plot_bgcolor": "#E5ECF6",
          "polar": {
           "angularaxis": {
            "gridcolor": "white",
            "linecolor": "white",
            "ticks": ""
           },
           "bgcolor": "#E5ECF6",
           "radialaxis": {
            "gridcolor": "white",
            "linecolor": "white",
            "ticks": ""
           }
          },
          "scene": {
           "xaxis": {
            "backgroundcolor": "#E5ECF6",
            "gridcolor": "white",
            "gridwidth": 2,
            "linecolor": "white",
            "showbackground": true,
            "ticks": "",
            "zerolinecolor": "white"
           },
           "yaxis": {
            "backgroundcolor": "#E5ECF6",
            "gridcolor": "white",
            "gridwidth": 2,
            "linecolor": "white",
            "showbackground": true,
            "ticks": "",
            "zerolinecolor": "white"
           },
           "zaxis": {
            "backgroundcolor": "#E5ECF6",
            "gridcolor": "white",
            "gridwidth": 2,
            "linecolor": "white",
            "showbackground": true,
            "ticks": "",
            "zerolinecolor": "white"
           }
          },
          "shapedefaults": {
           "line": {
            "color": "#2a3f5f"
           }
          },
          "ternary": {
           "aaxis": {
            "gridcolor": "white",
            "linecolor": "white",
            "ticks": ""
           },
           "baxis": {
            "gridcolor": "white",
            "linecolor": "white",
            "ticks": ""
           },
           "bgcolor": "#E5ECF6",
           "caxis": {
            "gridcolor": "white",
            "linecolor": "white",
            "ticks": ""
           }
          },
          "title": {
           "x": 0.05
          },
          "xaxis": {
           "automargin": true,
           "gridcolor": "white",
           "linecolor": "white",
           "ticks": "",
           "title": {
            "standoff": 15
           },
           "zerolinecolor": "white",
           "zerolinewidth": 2
          },
          "yaxis": {
           "automargin": true,
           "gridcolor": "white",
           "linecolor": "white",
           "ticks": "",
           "title": {
            "standoff": 15
           },
           "zerolinecolor": "white",
           "zerolinewidth": 2
          }
         }
        },
        "width": 1600,
        "xaxis": {
         "anchor": "y",
         "domain": [
          0,
          0.2888888888888889
         ],
         "title": {
          "text": "epochs"
         }
        },
        "xaxis2": {
         "anchor": "y2",
         "domain": [
          0.35555555555555557,
          0.6444444444444445
         ],
         "title": {
          "text": "epochs"
         }
        },
        "xaxis3": {
         "anchor": "y3",
         "domain": [
          0.7111111111111111,
          1
         ],
         "title": {
          "text": "epochs"
         }
        },
        "yaxis": {
         "anchor": "x",
         "domain": [
          0,
          1
         ],
         "title": {
          "text": ""
         }
        },
        "yaxis2": {
         "anchor": "x2",
         "domain": [
          0,
          1
         ],
         "title": {
          "text": ""
         }
        },
        "yaxis3": {
         "anchor": "x3",
         "domain": [
          0,
          1
         ],
         "title": {
          "text": ""
         }
        }
       }
      }
     },
     "metadata": {},
     "output_type": "display_data"
    },
    {
     "name": "stdout",
     "output_type": "stream",
     "text": [
      "1 Model test start...\n",
      "Repeat 0 running...\n"
     ]
    },
    {
     "name": "stderr",
     "output_type": "stream",
     "text": [
      "C:\\Users\\kucha\\AppData\\Roaming\\Python\\Python310\\site-packages\\keras\\src\\layers\\rnn\\rnn.py:204: UserWarning:\n",
      "\n",
      "Do not pass an `input_shape`/`input_dim` argument to a layer. When using Sequential models, prefer using an `Input(shape)` object as the first layer in the model instead.\n",
      "\n"
     ]
    },
    {
     "data": {
      "text/html": [
       "<pre style=\"white-space:pre;overflow-x:auto;line-height:normal;font-family:Menlo,'DejaVu Sans Mono',consolas,'Courier New',monospace\"><span style=\"font-weight: bold\">Model: \"sequential_27\"</span>\n",
       "</pre>\n"
      ],
      "text/plain": [
       "\u001b[1mModel: \"sequential_27\"\u001b[0m\n"
      ]
     },
     "metadata": {},
     "output_type": "display_data"
    },
    {
     "data": {
      "text/html": [
       "<pre style=\"white-space:pre;overflow-x:auto;line-height:normal;font-family:Menlo,'DejaVu Sans Mono',consolas,'Courier New',monospace\">┏━━━━━━━━━━━━━━━━━━━━━━━━━━━━━━━━━┳━━━━━━━━━━━━━━━━━━━━━━━━┳━━━━━━━━━━━━━━━┓\n",
       "┃<span style=\"font-weight: bold\"> Layer (type)                    </span>┃<span style=\"font-weight: bold\"> Output Shape           </span>┃<span style=\"font-weight: bold\">       Param # </span>┃\n",
       "┡━━━━━━━━━━━━━━━━━━━━━━━━━━━━━━━━━╇━━━━━━━━━━━━━━━━━━━━━━━━╇━━━━━━━━━━━━━━━┩\n",
       "│ lstm_53 (<span style=\"color: #0087ff; text-decoration-color: #0087ff\">LSTM</span>)                  │ (<span style=\"color: #00d7ff; text-decoration-color: #00d7ff\">None</span>, <span style=\"color: #00af00; text-decoration-color: #00af00\">150</span>, <span style=\"color: #00af00; text-decoration-color: #00af00\">50</span>)        │        <span style=\"color: #00af00; text-decoration-color: #00af00\">11,000</span> │\n",
       "├─────────────────────────────────┼────────────────────────┼───────────────┤\n",
       "│ dropout_30 (<span style=\"color: #0087ff; text-decoration-color: #0087ff\">Dropout</span>)            │ (<span style=\"color: #00d7ff; text-decoration-color: #00d7ff\">None</span>, <span style=\"color: #00af00; text-decoration-color: #00af00\">150</span>, <span style=\"color: #00af00; text-decoration-color: #00af00\">50</span>)        │             <span style=\"color: #00af00; text-decoration-color: #00af00\">0</span> │\n",
       "├─────────────────────────────────┼────────────────────────┼───────────────┤\n",
       "│ lstm_54 (<span style=\"color: #0087ff; text-decoration-color: #0087ff\">LSTM</span>)                  │ (<span style=\"color: #00d7ff; text-decoration-color: #00d7ff\">None</span>, <span style=\"color: #00af00; text-decoration-color: #00af00\">50</span>)             │        <span style=\"color: #00af00; text-decoration-color: #00af00\">20,200</span> │\n",
       "├─────────────────────────────────┼────────────────────────┼───────────────┤\n",
       "│ dropout_31 (<span style=\"color: #0087ff; text-decoration-color: #0087ff\">Dropout</span>)            │ (<span style=\"color: #00d7ff; text-decoration-color: #00d7ff\">None</span>, <span style=\"color: #00af00; text-decoration-color: #00af00\">50</span>)             │             <span style=\"color: #00af00; text-decoration-color: #00af00\">0</span> │\n",
       "├─────────────────────────────────┼────────────────────────┼───────────────┤\n",
       "│ dense_37 (<span style=\"color: #0087ff; text-decoration-color: #0087ff\">Dense</span>)                │ (<span style=\"color: #00d7ff; text-decoration-color: #00d7ff\">None</span>, <span style=\"color: #00af00; text-decoration-color: #00af00\">25</span>)             │         <span style=\"color: #00af00; text-decoration-color: #00af00\">1,275</span> │\n",
       "├─────────────────────────────────┼────────────────────────┼───────────────┤\n",
       "│ dropout_32 (<span style=\"color: #0087ff; text-decoration-color: #0087ff\">Dropout</span>)            │ (<span style=\"color: #00d7ff; text-decoration-color: #00d7ff\">None</span>, <span style=\"color: #00af00; text-decoration-color: #00af00\">25</span>)             │             <span style=\"color: #00af00; text-decoration-color: #00af00\">0</span> │\n",
       "├─────────────────────────────────┼────────────────────────┼───────────────┤\n",
       "│ dense_38 (<span style=\"color: #0087ff; text-decoration-color: #0087ff\">Dense</span>)                │ (<span style=\"color: #00d7ff; text-decoration-color: #00d7ff\">None</span>, <span style=\"color: #00af00; text-decoration-color: #00af00\">2</span>)              │            <span style=\"color: #00af00; text-decoration-color: #00af00\">52</span> │\n",
       "└─────────────────────────────────┴────────────────────────┴───────────────┘\n",
       "</pre>\n"
      ],
      "text/plain": [
       "┏━━━━━━━━━━━━━━━━━━━━━━━━━━━━━━━━━┳━━━━━━━━━━━━━━━━━━━━━━━━┳━━━━━━━━━━━━━━━┓\n",
       "┃\u001b[1m \u001b[0m\u001b[1mLayer (type)                   \u001b[0m\u001b[1m \u001b[0m┃\u001b[1m \u001b[0m\u001b[1mOutput Shape          \u001b[0m\u001b[1m \u001b[0m┃\u001b[1m \u001b[0m\u001b[1m      Param #\u001b[0m\u001b[1m \u001b[0m┃\n",
       "┡━━━━━━━━━━━━━━━━━━━━━━━━━━━━━━━━━╇━━━━━━━━━━━━━━━━━━━━━━━━╇━━━━━━━━━━━━━━━┩\n",
       "│ lstm_53 (\u001b[38;5;33mLSTM\u001b[0m)                  │ (\u001b[38;5;45mNone\u001b[0m, \u001b[38;5;34m150\u001b[0m, \u001b[38;5;34m50\u001b[0m)        │        \u001b[38;5;34m11,000\u001b[0m │\n",
       "├─────────────────────────────────┼────────────────────────┼───────────────┤\n",
       "│ dropout_30 (\u001b[38;5;33mDropout\u001b[0m)            │ (\u001b[38;5;45mNone\u001b[0m, \u001b[38;5;34m150\u001b[0m, \u001b[38;5;34m50\u001b[0m)        │             \u001b[38;5;34m0\u001b[0m │\n",
       "├─────────────────────────────────┼────────────────────────┼───────────────┤\n",
       "│ lstm_54 (\u001b[38;5;33mLSTM\u001b[0m)                  │ (\u001b[38;5;45mNone\u001b[0m, \u001b[38;5;34m50\u001b[0m)             │        \u001b[38;5;34m20,200\u001b[0m │\n",
       "├─────────────────────────────────┼────────────────────────┼───────────────┤\n",
       "│ dropout_31 (\u001b[38;5;33mDropout\u001b[0m)            │ (\u001b[38;5;45mNone\u001b[0m, \u001b[38;5;34m50\u001b[0m)             │             \u001b[38;5;34m0\u001b[0m │\n",
       "├─────────────────────────────────┼────────────────────────┼───────────────┤\n",
       "│ dense_37 (\u001b[38;5;33mDense\u001b[0m)                │ (\u001b[38;5;45mNone\u001b[0m, \u001b[38;5;34m25\u001b[0m)             │         \u001b[38;5;34m1,275\u001b[0m │\n",
       "├─────────────────────────────────┼────────────────────────┼───────────────┤\n",
       "│ dropout_32 (\u001b[38;5;33mDropout\u001b[0m)            │ (\u001b[38;5;45mNone\u001b[0m, \u001b[38;5;34m25\u001b[0m)             │             \u001b[38;5;34m0\u001b[0m │\n",
       "├─────────────────────────────────┼────────────────────────┼───────────────┤\n",
       "│ dense_38 (\u001b[38;5;33mDense\u001b[0m)                │ (\u001b[38;5;45mNone\u001b[0m, \u001b[38;5;34m2\u001b[0m)              │            \u001b[38;5;34m52\u001b[0m │\n",
       "└─────────────────────────────────┴────────────────────────┴───────────────┘\n"
      ]
     },
     "metadata": {},
     "output_type": "display_data"
    },
    {
     "data": {
      "text/html": [
       "<pre style=\"white-space:pre;overflow-x:auto;line-height:normal;font-family:Menlo,'DejaVu Sans Mono',consolas,'Courier New',monospace\"><span style=\"font-weight: bold\"> Total params: </span><span style=\"color: #00af00; text-decoration-color: #00af00\">32,527</span> (127.06 KB)\n",
       "</pre>\n"
      ],
      "text/plain": [
       "\u001b[1m Total params: \u001b[0m\u001b[38;5;34m32,527\u001b[0m (127.06 KB)\n"
      ]
     },
     "metadata": {},
     "output_type": "display_data"
    },
    {
     "data": {
      "text/html": [
       "<pre style=\"white-space:pre;overflow-x:auto;line-height:normal;font-family:Menlo,'DejaVu Sans Mono',consolas,'Courier New',monospace\"><span style=\"font-weight: bold\"> Trainable params: </span><span style=\"color: #00af00; text-decoration-color: #00af00\">32,527</span> (127.06 KB)\n",
       "</pre>\n"
      ],
      "text/plain": [
       "\u001b[1m Trainable params: \u001b[0m\u001b[38;5;34m32,527\u001b[0m (127.06 KB)\n"
      ]
     },
     "metadata": {},
     "output_type": "display_data"
    },
    {
     "data": {
      "text/html": [
       "<pre style=\"white-space:pre;overflow-x:auto;line-height:normal;font-family:Menlo,'DejaVu Sans Mono',consolas,'Courier New',monospace\"><span style=\"font-weight: bold\"> Non-trainable params: </span><span style=\"color: #00af00; text-decoration-color: #00af00\">0</span> (0.00 B)\n",
       "</pre>\n"
      ],
      "text/plain": [
       "\u001b[1m Non-trainable params: \u001b[0m\u001b[38;5;34m0\u001b[0m (0.00 B)\n"
      ]
     },
     "metadata": {},
     "output_type": "display_data"
    },
    {
     "name": "stdout",
     "output_type": "stream",
     "text": [
      "Epoch 1/3\n",
      "\n",
      "Epoch 1: val_loss improved from inf to 0.65599, saving model to ./saved_models/last_saved_model.keras\n",
      "\u001b[1m24/24\u001b[0m \u001b[32m━━━━━━━━━━━━━━━━━━━━\u001b[0m\u001b[37m\u001b[0m \u001b[1m6s\u001b[0m 173ms/step\n",
      "Profit: -0.5\n",
      "133/133 - 63s - 475ms/step - accuracy: 0.5995 - loss: 0.6657 - val_accuracy: 0.6193 - val_loss: 0.6560\n",
      "Epoch 2/3\n",
      "\n",
      "Epoch 2: val_loss improved from 0.65599 to 0.61749, saving model to ./saved_models/last_saved_model.keras\n",
      "\u001b[1m24/24\u001b[0m \u001b[32m━━━━━━━━━━━━━━━━━━━━\u001b[0m\u001b[37m\u001b[0m \u001b[1m3s\u001b[0m 115ms/step\n",
      "New best model saved, previous best profit -> 0\n",
      "Profit: 3.76\n",
      "133/133 - 38s - 285ms/step - accuracy: 0.6334 - loss: 0.6414 - val_accuracy: 0.6727 - val_loss: 0.6175\n",
      "Epoch 3/3\n",
      "\n",
      "Epoch 3: val_loss improved from 0.61749 to 0.60851, saving model to ./saved_models/last_saved_model.keras\n",
      "\u001b[1m24/24\u001b[0m \u001b[32m━━━━━━━━━━━━━━━━━━━━\u001b[0m\u001b[37m\u001b[0m \u001b[1m4s\u001b[0m 161ms/step\n",
      "Profit: 2.76\n",
      "133/133 - 41s - 307ms/step - accuracy: 0.6498 - loss: 0.6310 - val_accuracy: 0.6820 - val_loss: 0.6085\n",
      "\u001b[1m24/24\u001b[0m \u001b[32m━━━━━━━━━━━━━━━━━━━━\u001b[0m\u001b[37m\u001b[0m \u001b[1m6s\u001b[0m 199ms/step\n",
      "Repeat 1 running...\n"
     ]
    },
    {
     "name": "stderr",
     "output_type": "stream",
     "text": [
      "C:\\Users\\kucha\\AppData\\Roaming\\Python\\Python310\\site-packages\\keras\\src\\layers\\rnn\\rnn.py:204: UserWarning:\n",
      "\n",
      "Do not pass an `input_shape`/`input_dim` argument to a layer. When using Sequential models, prefer using an `Input(shape)` object as the first layer in the model instead.\n",
      "\n"
     ]
    },
    {
     "data": {
      "text/html": [
       "<pre style=\"white-space:pre;overflow-x:auto;line-height:normal;font-family:Menlo,'DejaVu Sans Mono',consolas,'Courier New',monospace\"><span style=\"font-weight: bold\">Model: \"sequential_28\"</span>\n",
       "</pre>\n"
      ],
      "text/plain": [
       "\u001b[1mModel: \"sequential_28\"\u001b[0m\n"
      ]
     },
     "metadata": {},
     "output_type": "display_data"
    },
    {
     "data": {
      "text/html": [
       "<pre style=\"white-space:pre;overflow-x:auto;line-height:normal;font-family:Menlo,'DejaVu Sans Mono',consolas,'Courier New',monospace\">┏━━━━━━━━━━━━━━━━━━━━━━━━━━━━━━━━━┳━━━━━━━━━━━━━━━━━━━━━━━━┳━━━━━━━━━━━━━━━┓\n",
       "┃<span style=\"font-weight: bold\"> Layer (type)                    </span>┃<span style=\"font-weight: bold\"> Output Shape           </span>┃<span style=\"font-weight: bold\">       Param # </span>┃\n",
       "┡━━━━━━━━━━━━━━━━━━━━━━━━━━━━━━━━━╇━━━━━━━━━━━━━━━━━━━━━━━━╇━━━━━━━━━━━━━━━┩\n",
       "│ lstm_56 (<span style=\"color: #0087ff; text-decoration-color: #0087ff\">LSTM</span>)                  │ (<span style=\"color: #00d7ff; text-decoration-color: #00d7ff\">None</span>, <span style=\"color: #00af00; text-decoration-color: #00af00\">150</span>, <span style=\"color: #00af00; text-decoration-color: #00af00\">50</span>)        │        <span style=\"color: #00af00; text-decoration-color: #00af00\">11,000</span> │\n",
       "├─────────────────────────────────┼────────────────────────┼───────────────┤\n",
       "│ dropout_33 (<span style=\"color: #0087ff; text-decoration-color: #0087ff\">Dropout</span>)            │ (<span style=\"color: #00d7ff; text-decoration-color: #00d7ff\">None</span>, <span style=\"color: #00af00; text-decoration-color: #00af00\">150</span>, <span style=\"color: #00af00; text-decoration-color: #00af00\">50</span>)        │             <span style=\"color: #00af00; text-decoration-color: #00af00\">0</span> │\n",
       "├─────────────────────────────────┼────────────────────────┼───────────────┤\n",
       "│ lstm_57 (<span style=\"color: #0087ff; text-decoration-color: #0087ff\">LSTM</span>)                  │ (<span style=\"color: #00d7ff; text-decoration-color: #00d7ff\">None</span>, <span style=\"color: #00af00; text-decoration-color: #00af00\">50</span>)             │        <span style=\"color: #00af00; text-decoration-color: #00af00\">20,200</span> │\n",
       "├─────────────────────────────────┼────────────────────────┼───────────────┤\n",
       "│ dropout_34 (<span style=\"color: #0087ff; text-decoration-color: #0087ff\">Dropout</span>)            │ (<span style=\"color: #00d7ff; text-decoration-color: #00d7ff\">None</span>, <span style=\"color: #00af00; text-decoration-color: #00af00\">50</span>)             │             <span style=\"color: #00af00; text-decoration-color: #00af00\">0</span> │\n",
       "├─────────────────────────────────┼────────────────────────┼───────────────┤\n",
       "│ dense_39 (<span style=\"color: #0087ff; text-decoration-color: #0087ff\">Dense</span>)                │ (<span style=\"color: #00d7ff; text-decoration-color: #00d7ff\">None</span>, <span style=\"color: #00af00; text-decoration-color: #00af00\">25</span>)             │         <span style=\"color: #00af00; text-decoration-color: #00af00\">1,275</span> │\n",
       "├─────────────────────────────────┼────────────────────────┼───────────────┤\n",
       "│ dropout_35 (<span style=\"color: #0087ff; text-decoration-color: #0087ff\">Dropout</span>)            │ (<span style=\"color: #00d7ff; text-decoration-color: #00d7ff\">None</span>, <span style=\"color: #00af00; text-decoration-color: #00af00\">25</span>)             │             <span style=\"color: #00af00; text-decoration-color: #00af00\">0</span> │\n",
       "├─────────────────────────────────┼────────────────────────┼───────────────┤\n",
       "│ dense_40 (<span style=\"color: #0087ff; text-decoration-color: #0087ff\">Dense</span>)                │ (<span style=\"color: #00d7ff; text-decoration-color: #00d7ff\">None</span>, <span style=\"color: #00af00; text-decoration-color: #00af00\">2</span>)              │            <span style=\"color: #00af00; text-decoration-color: #00af00\">52</span> │\n",
       "└─────────────────────────────────┴────────────────────────┴───────────────┘\n",
       "</pre>\n"
      ],
      "text/plain": [
       "┏━━━━━━━━━━━━━━━━━━━━━━━━━━━━━━━━━┳━━━━━━━━━━━━━━━━━━━━━━━━┳━━━━━━━━━━━━━━━┓\n",
       "┃\u001b[1m \u001b[0m\u001b[1mLayer (type)                   \u001b[0m\u001b[1m \u001b[0m┃\u001b[1m \u001b[0m\u001b[1mOutput Shape          \u001b[0m\u001b[1m \u001b[0m┃\u001b[1m \u001b[0m\u001b[1m      Param #\u001b[0m\u001b[1m \u001b[0m┃\n",
       "┡━━━━━━━━━━━━━━━━━━━━━━━━━━━━━━━━━╇━━━━━━━━━━━━━━━━━━━━━━━━╇━━━━━━━━━━━━━━━┩\n",
       "│ lstm_56 (\u001b[38;5;33mLSTM\u001b[0m)                  │ (\u001b[38;5;45mNone\u001b[0m, \u001b[38;5;34m150\u001b[0m, \u001b[38;5;34m50\u001b[0m)        │        \u001b[38;5;34m11,000\u001b[0m │\n",
       "├─────────────────────────────────┼────────────────────────┼───────────────┤\n",
       "│ dropout_33 (\u001b[38;5;33mDropout\u001b[0m)            │ (\u001b[38;5;45mNone\u001b[0m, \u001b[38;5;34m150\u001b[0m, \u001b[38;5;34m50\u001b[0m)        │             \u001b[38;5;34m0\u001b[0m │\n",
       "├─────────────────────────────────┼────────────────────────┼───────────────┤\n",
       "│ lstm_57 (\u001b[38;5;33mLSTM\u001b[0m)                  │ (\u001b[38;5;45mNone\u001b[0m, \u001b[38;5;34m50\u001b[0m)             │        \u001b[38;5;34m20,200\u001b[0m │\n",
       "├─────────────────────────────────┼────────────────────────┼───────────────┤\n",
       "│ dropout_34 (\u001b[38;5;33mDropout\u001b[0m)            │ (\u001b[38;5;45mNone\u001b[0m, \u001b[38;5;34m50\u001b[0m)             │             \u001b[38;5;34m0\u001b[0m │\n",
       "├─────────────────────────────────┼────────────────────────┼───────────────┤\n",
       "│ dense_39 (\u001b[38;5;33mDense\u001b[0m)                │ (\u001b[38;5;45mNone\u001b[0m, \u001b[38;5;34m25\u001b[0m)             │         \u001b[38;5;34m1,275\u001b[0m │\n",
       "├─────────────────────────────────┼────────────────────────┼───────────────┤\n",
       "│ dropout_35 (\u001b[38;5;33mDropout\u001b[0m)            │ (\u001b[38;5;45mNone\u001b[0m, \u001b[38;5;34m25\u001b[0m)             │             \u001b[38;5;34m0\u001b[0m │\n",
       "├─────────────────────────────────┼────────────────────────┼───────────────┤\n",
       "│ dense_40 (\u001b[38;5;33mDense\u001b[0m)                │ (\u001b[38;5;45mNone\u001b[0m, \u001b[38;5;34m2\u001b[0m)              │            \u001b[38;5;34m52\u001b[0m │\n",
       "└─────────────────────────────────┴────────────────────────┴───────────────┘\n"
      ]
     },
     "metadata": {},
     "output_type": "display_data"
    },
    {
     "data": {
      "text/html": [
       "<pre style=\"white-space:pre;overflow-x:auto;line-height:normal;font-family:Menlo,'DejaVu Sans Mono',consolas,'Courier New',monospace\"><span style=\"font-weight: bold\"> Total params: </span><span style=\"color: #00af00; text-decoration-color: #00af00\">32,527</span> (127.06 KB)\n",
       "</pre>\n"
      ],
      "text/plain": [
       "\u001b[1m Total params: \u001b[0m\u001b[38;5;34m32,527\u001b[0m (127.06 KB)\n"
      ]
     },
     "metadata": {},
     "output_type": "display_data"
    },
    {
     "data": {
      "text/html": [
       "<pre style=\"white-space:pre;overflow-x:auto;line-height:normal;font-family:Menlo,'DejaVu Sans Mono',consolas,'Courier New',monospace\"><span style=\"font-weight: bold\"> Trainable params: </span><span style=\"color: #00af00; text-decoration-color: #00af00\">32,527</span> (127.06 KB)\n",
       "</pre>\n"
      ],
      "text/plain": [
       "\u001b[1m Trainable params: \u001b[0m\u001b[38;5;34m32,527\u001b[0m (127.06 KB)\n"
      ]
     },
     "metadata": {},
     "output_type": "display_data"
    },
    {
     "data": {
      "text/html": [
       "<pre style=\"white-space:pre;overflow-x:auto;line-height:normal;font-family:Menlo,'DejaVu Sans Mono',consolas,'Courier New',monospace\"><span style=\"font-weight: bold\"> Non-trainable params: </span><span style=\"color: #00af00; text-decoration-color: #00af00\">0</span> (0.00 B)\n",
       "</pre>\n"
      ],
      "text/plain": [
       "\u001b[1m Non-trainable params: \u001b[0m\u001b[38;5;34m0\u001b[0m (0.00 B)\n"
      ]
     },
     "metadata": {},
     "output_type": "display_data"
    },
    {
     "name": "stdout",
     "output_type": "stream",
     "text": [
      "Epoch 1/3\n",
      "\n",
      "Epoch 1: val_loss improved from inf to 0.62443, saving model to ./saved_models/last_saved_model.keras\n",
      "\u001b[1m24/24\u001b[0m \u001b[32m━━━━━━━━━━━━━━━━━━━━\u001b[0m\u001b[37m\u001b[0m \u001b[1m4s\u001b[0m 130ms/step\n",
      "Profit: -1.86\n",
      "133/133 - 56s - 421ms/step - accuracy: 0.5978 - loss: 0.6695 - val_accuracy: 0.6720 - val_loss: 0.6244\n",
      "Epoch 2/3\n",
      "\n",
      "Epoch 2: val_loss improved from 0.62443 to 0.60189, saving model to ./saved_models/last_saved_model.keras\n",
      "\u001b[1m24/24\u001b[0m \u001b[32m━━━━━━━━━━━━━━━━━━━━\u001b[0m\u001b[37m\u001b[0m \u001b[1m4s\u001b[0m 176ms/step\n",
      "New best model saved, previous best profit -> 0\n",
      "Profit: 3.22\n",
      "133/133 - 41s - 311ms/step - accuracy: 0.6573 - loss: 0.6278 - val_accuracy: 0.6860 - val_loss: 0.6019\n",
      "Epoch 3/3\n",
      "\n",
      "Epoch 3: val_loss improved from 0.60189 to 0.59265, saving model to ./saved_models/last_saved_model.keras\n",
      "\u001b[1m24/24\u001b[0m \u001b[32m━━━━━━━━━━━━━━━━━━━━\u001b[0m\u001b[37m\u001b[0m \u001b[1m3s\u001b[0m 136ms/step\n",
      "Profit: 3.06\n",
      "133/133 - 37s - 280ms/step - accuracy: 0.6675 - loss: 0.6165 - val_accuracy: 0.6907 - val_loss: 0.5926\n",
      "\u001b[1m24/24\u001b[0m \u001b[32m━━━━━━━━━━━━━━━━━━━━\u001b[0m\u001b[37m\u001b[0m \u001b[1m5s\u001b[0m 171ms/step\n"
     ]
    },
    {
     "data": {
      "application/vnd.plotly.v1+json": {
       "config": {
        "plotlyServerURL": "https://plot.ly"
       },
       "data": [
        {
         "line": {
          "color": "#0000ff"
         },
         "name": "accuracy0",
         "showlegend": false,
         "type": "scatter",
         "x": [
          0,
          1,
          2
         ],
         "xaxis": "x",
         "y": [
          0.5995293855667114,
          0.6334117650985718,
          0.6497647166252136
         ],
         "yaxis": "y"
        },
        {
         "line": {
          "color": "#0000ff"
         },
         "name": "loss0",
         "showlegend": false,
         "type": "scatter",
         "x": [
          0,
          1,
          2
         ],
         "xaxis": "x2",
         "y": [
          0.6656789779663086,
          0.6413612365722656,
          0.6310134530067444
         ],
         "yaxis": "y2"
        },
        {
         "line": {
          "color": "#EF8260"
         },
         "name": "val_accuracy0",
         "showlegend": false,
         "type": "scatter",
         "x": [
          0,
          1,
          2
         ],
         "xaxis": "x",
         "y": [
          0.6193333268165588,
          0.6726666688919067,
          0.6819999814033508
         ],
         "yaxis": "y"
        },
        {
         "line": {
          "color": "#EF8260"
         },
         "name": "val_loss0",
         "showlegend": false,
         "type": "scatter",
         "x": [
          0,
          1,
          2
         ],
         "xaxis": "x2",
         "y": [
          0.655991792678833,
          0.6174865961074829,
          0.6085077524185181
         ],
         "yaxis": "y2"
        },
        {
         "line": {
          "color": "#EF8260"
         },
         "name": "profit0",
         "showlegend": false,
         "type": "scatter",
         "x": [
          0,
          1,
          2
         ],
         "xaxis": "x3",
         "y": [
          -0.5,
          3.76,
          2.76
         ],
         "yaxis": "y3"
        },
        {
         "line": {
          "color": "#0000ff"
         },
         "name": "accuracy1",
         "showlegend": false,
         "type": "scatter",
         "x": [
          0,
          1,
          2
         ],
         "xaxis": "x",
         "y": [
          0.5977647304534912,
          0.6572940945625305,
          0.6675294041633606
         ],
         "yaxis": "y"
        },
        {
         "line": {
          "color": "#0000ff"
         },
         "name": "loss1",
         "showlegend": false,
         "type": "scatter",
         "x": [
          0,
          1,
          2
         ],
         "xaxis": "x2",
         "y": [
          0.6695016622543335,
          0.6278202533721924,
          0.6164969205856323
         ],
         "yaxis": "y2"
        },
        {
         "line": {
          "color": "#EF8260"
         },
         "name": "val_accuracy1",
         "showlegend": false,
         "type": "scatter",
         "x": [
          0,
          1,
          2
         ],
         "xaxis": "x",
         "y": [
          0.671999990940094,
          0.6859999895095825,
          0.690666675567627
         ],
         "yaxis": "y"
        },
        {
         "line": {
          "color": "#EF8260"
         },
         "name": "val_loss1",
         "showlegend": false,
         "type": "scatter",
         "x": [
          0,
          1,
          2
         ],
         "xaxis": "x2",
         "y": [
          0.6244291663169861,
          0.6018854975700378,
          0.5926496386528015
         ],
         "yaxis": "y2"
        },
        {
         "line": {
          "color": "#EF8260"
         },
         "name": "profit1",
         "showlegend": false,
         "type": "scatter",
         "x": [
          0,
          1,
          2
         ],
         "xaxis": "x3",
         "y": [
          -1.86,
          3.22,
          3.06
         ],
         "yaxis": "y3"
        }
       ],
       "layout": {
        "annotations": [
         {
          "font": {
           "size": 16
          },
          "showarrow": false,
          "text": "Accuracy",
          "x": 0.14444444444444446,
          "xanchor": "center",
          "xref": "paper",
          "y": 1,
          "yanchor": "bottom",
          "yref": "paper"
         },
         {
          "font": {
           "size": 16
          },
          "showarrow": false,
          "text": "Loss",
          "x": 0.5,
          "xanchor": "center",
          "xref": "paper",
          "y": 1,
          "yanchor": "bottom",
          "yref": "paper"
         },
         {
          "font": {
           "size": 16
          },
          "showarrow": false,
          "text": "Profit",
          "x": 0.8555555555555556,
          "xanchor": "center",
          "xref": "paper",
          "y": 1,
          "yanchor": "bottom",
          "yref": "paper"
         }
        ],
        "autosize": true,
        "height": 1000,
        "template": {
         "data": {
          "bar": [
           {
            "error_x": {
             "color": "#2a3f5f"
            },
            "error_y": {
             "color": "#2a3f5f"
            },
            "marker": {
             "line": {
              "color": "#E5ECF6",
              "width": 0.5
             },
             "pattern": {
              "fillmode": "overlay",
              "size": 10,
              "solidity": 0.2
             }
            },
            "type": "bar"
           }
          ],
          "barpolar": [
           {
            "marker": {
             "line": {
              "color": "#E5ECF6",
              "width": 0.5
             },
             "pattern": {
              "fillmode": "overlay",
              "size": 10,
              "solidity": 0.2
             }
            },
            "type": "barpolar"
           }
          ],
          "carpet": [
           {
            "aaxis": {
             "endlinecolor": "#2a3f5f",
             "gridcolor": "white",
             "linecolor": "white",
             "minorgridcolor": "white",
             "startlinecolor": "#2a3f5f"
            },
            "baxis": {
             "endlinecolor": "#2a3f5f",
             "gridcolor": "white",
             "linecolor": "white",
             "minorgridcolor": "white",
             "startlinecolor": "#2a3f5f"
            },
            "type": "carpet"
           }
          ],
          "choropleth": [
           {
            "colorbar": {
             "outlinewidth": 0,
             "ticks": ""
            },
            "type": "choropleth"
           }
          ],
          "contour": [
           {
            "colorbar": {
             "outlinewidth": 0,
             "ticks": ""
            },
            "colorscale": [
             [
              0,
              "#0d0887"
             ],
             [
              0.1111111111111111,
              "#46039f"
             ],
             [
              0.2222222222222222,
              "#7201a8"
             ],
             [
              0.3333333333333333,
              "#9c179e"
             ],
             [
              0.4444444444444444,
              "#bd3786"
             ],
             [
              0.5555555555555556,
              "#d8576b"
             ],
             [
              0.6666666666666666,
              "#ed7953"
             ],
             [
              0.7777777777777778,
              "#fb9f3a"
             ],
             [
              0.8888888888888888,
              "#fdca26"
             ],
             [
              1,
              "#f0f921"
             ]
            ],
            "type": "contour"
           }
          ],
          "contourcarpet": [
           {
            "colorbar": {
             "outlinewidth": 0,
             "ticks": ""
            },
            "type": "contourcarpet"
           }
          ],
          "heatmap": [
           {
            "colorbar": {
             "outlinewidth": 0,
             "ticks": ""
            },
            "colorscale": [
             [
              0,
              "#0d0887"
             ],
             [
              0.1111111111111111,
              "#46039f"
             ],
             [
              0.2222222222222222,
              "#7201a8"
             ],
             [
              0.3333333333333333,
              "#9c179e"
             ],
             [
              0.4444444444444444,
              "#bd3786"
             ],
             [
              0.5555555555555556,
              "#d8576b"
             ],
             [
              0.6666666666666666,
              "#ed7953"
             ],
             [
              0.7777777777777778,
              "#fb9f3a"
             ],
             [
              0.8888888888888888,
              "#fdca26"
             ],
             [
              1,
              "#f0f921"
             ]
            ],
            "type": "heatmap"
           }
          ],
          "heatmapgl": [
           {
            "colorbar": {
             "outlinewidth": 0,
             "ticks": ""
            },
            "colorscale": [
             [
              0,
              "#0d0887"
             ],
             [
              0.1111111111111111,
              "#46039f"
             ],
             [
              0.2222222222222222,
              "#7201a8"
             ],
             [
              0.3333333333333333,
              "#9c179e"
             ],
             [
              0.4444444444444444,
              "#bd3786"
             ],
             [
              0.5555555555555556,
              "#d8576b"
             ],
             [
              0.6666666666666666,
              "#ed7953"
             ],
             [
              0.7777777777777778,
              "#fb9f3a"
             ],
             [
              0.8888888888888888,
              "#fdca26"
             ],
             [
              1,
              "#f0f921"
             ]
            ],
            "type": "heatmapgl"
           }
          ],
          "histogram": [
           {
            "marker": {
             "pattern": {
              "fillmode": "overlay",
              "size": 10,
              "solidity": 0.2
             }
            },
            "type": "histogram"
           }
          ],
          "histogram2d": [
           {
            "colorbar": {
             "outlinewidth": 0,
             "ticks": ""
            },
            "colorscale": [
             [
              0,
              "#0d0887"
             ],
             [
              0.1111111111111111,
              "#46039f"
             ],
             [
              0.2222222222222222,
              "#7201a8"
             ],
             [
              0.3333333333333333,
              "#9c179e"
             ],
             [
              0.4444444444444444,
              "#bd3786"
             ],
             [
              0.5555555555555556,
              "#d8576b"
             ],
             [
              0.6666666666666666,
              "#ed7953"
             ],
             [
              0.7777777777777778,
              "#fb9f3a"
             ],
             [
              0.8888888888888888,
              "#fdca26"
             ],
             [
              1,
              "#f0f921"
             ]
            ],
            "type": "histogram2d"
           }
          ],
          "histogram2dcontour": [
           {
            "colorbar": {
             "outlinewidth": 0,
             "ticks": ""
            },
            "colorscale": [
             [
              0,
              "#0d0887"
             ],
             [
              0.1111111111111111,
              "#46039f"
             ],
             [
              0.2222222222222222,
              "#7201a8"
             ],
             [
              0.3333333333333333,
              "#9c179e"
             ],
             [
              0.4444444444444444,
              "#bd3786"
             ],
             [
              0.5555555555555556,
              "#d8576b"
             ],
             [
              0.6666666666666666,
              "#ed7953"
             ],
             [
              0.7777777777777778,
              "#fb9f3a"
             ],
             [
              0.8888888888888888,
              "#fdca26"
             ],
             [
              1,
              "#f0f921"
             ]
            ],
            "type": "histogram2dcontour"
           }
          ],
          "mesh3d": [
           {
            "colorbar": {
             "outlinewidth": 0,
             "ticks": ""
            },
            "type": "mesh3d"
           }
          ],
          "parcoords": [
           {
            "line": {
             "colorbar": {
              "outlinewidth": 0,
              "ticks": ""
             }
            },
            "type": "parcoords"
           }
          ],
          "pie": [
           {
            "automargin": true,
            "type": "pie"
           }
          ],
          "scatter": [
           {
            "fillpattern": {
             "fillmode": "overlay",
             "size": 10,
             "solidity": 0.2
            },
            "type": "scatter"
           }
          ],
          "scatter3d": [
           {
            "line": {
             "colorbar": {
              "outlinewidth": 0,
              "ticks": ""
             }
            },
            "marker": {
             "colorbar": {
              "outlinewidth": 0,
              "ticks": ""
             }
            },
            "type": "scatter3d"
           }
          ],
          "scattercarpet": [
           {
            "marker": {
             "colorbar": {
              "outlinewidth": 0,
              "ticks": ""
             }
            },
            "type": "scattercarpet"
           }
          ],
          "scattergeo": [
           {
            "marker": {
             "colorbar": {
              "outlinewidth": 0,
              "ticks": ""
             }
            },
            "type": "scattergeo"
           }
          ],
          "scattergl": [
           {
            "marker": {
             "colorbar": {
              "outlinewidth": 0,
              "ticks": ""
             }
            },
            "type": "scattergl"
           }
          ],
          "scattermapbox": [
           {
            "marker": {
             "colorbar": {
              "outlinewidth": 0,
              "ticks": ""
             }
            },
            "type": "scattermapbox"
           }
          ],
          "scatterpolar": [
           {
            "marker": {
             "colorbar": {
              "outlinewidth": 0,
              "ticks": ""
             }
            },
            "type": "scatterpolar"
           }
          ],
          "scatterpolargl": [
           {
            "marker": {
             "colorbar": {
              "outlinewidth": 0,
              "ticks": ""
             }
            },
            "type": "scatterpolargl"
           }
          ],
          "scatterternary": [
           {
            "marker": {
             "colorbar": {
              "outlinewidth": 0,
              "ticks": ""
             }
            },
            "type": "scatterternary"
           }
          ],
          "surface": [
           {
            "colorbar": {
             "outlinewidth": 0,
             "ticks": ""
            },
            "colorscale": [
             [
              0,
              "#0d0887"
             ],
             [
              0.1111111111111111,
              "#46039f"
             ],
             [
              0.2222222222222222,
              "#7201a8"
             ],
             [
              0.3333333333333333,
              "#9c179e"
             ],
             [
              0.4444444444444444,
              "#bd3786"
             ],
             [
              0.5555555555555556,
              "#d8576b"
             ],
             [
              0.6666666666666666,
              "#ed7953"
             ],
             [
              0.7777777777777778,
              "#fb9f3a"
             ],
             [
              0.8888888888888888,
              "#fdca26"
             ],
             [
              1,
              "#f0f921"
             ]
            ],
            "type": "surface"
           }
          ],
          "table": [
           {
            "cells": {
             "fill": {
              "color": "#EBF0F8"
             },
             "line": {
              "color": "white"
             }
            },
            "header": {
             "fill": {
              "color": "#C8D4E3"
             },
             "line": {
              "color": "white"
             }
            },
            "type": "table"
           }
          ]
         },
         "layout": {
          "annotationdefaults": {
           "arrowcolor": "#2a3f5f",
           "arrowhead": 0,
           "arrowwidth": 1
          },
          "autotypenumbers": "strict",
          "coloraxis": {
           "colorbar": {
            "outlinewidth": 0,
            "ticks": ""
           }
          },
          "colorscale": {
           "diverging": [
            [
             0,
             "#8e0152"
            ],
            [
             0.1,
             "#c51b7d"
            ],
            [
             0.2,
             "#de77ae"
            ],
            [
             0.3,
             "#f1b6da"
            ],
            [
             0.4,
             "#fde0ef"
            ],
            [
             0.5,
             "#f7f7f7"
            ],
            [
             0.6,
             "#e6f5d0"
            ],
            [
             0.7,
             "#b8e186"
            ],
            [
             0.8,
             "#7fbc41"
            ],
            [
             0.9,
             "#4d9221"
            ],
            [
             1,
             "#276419"
            ]
           ],
           "sequential": [
            [
             0,
             "#0d0887"
            ],
            [
             0.1111111111111111,
             "#46039f"
            ],
            [
             0.2222222222222222,
             "#7201a8"
            ],
            [
             0.3333333333333333,
             "#9c179e"
            ],
            [
             0.4444444444444444,
             "#bd3786"
            ],
            [
             0.5555555555555556,
             "#d8576b"
            ],
            [
             0.6666666666666666,
             "#ed7953"
            ],
            [
             0.7777777777777778,
             "#fb9f3a"
            ],
            [
             0.8888888888888888,
             "#fdca26"
            ],
            [
             1,
             "#f0f921"
            ]
           ],
           "sequentialminus": [
            [
             0,
             "#0d0887"
            ],
            [
             0.1111111111111111,
             "#46039f"
            ],
            [
             0.2222222222222222,
             "#7201a8"
            ],
            [
             0.3333333333333333,
             "#9c179e"
            ],
            [
             0.4444444444444444,
             "#bd3786"
            ],
            [
             0.5555555555555556,
             "#d8576b"
            ],
            [
             0.6666666666666666,
             "#ed7953"
            ],
            [
             0.7777777777777778,
             "#fb9f3a"
            ],
            [
             0.8888888888888888,
             "#fdca26"
            ],
            [
             1,
             "#f0f921"
            ]
           ]
          },
          "colorway": [
           "#636efa",
           "#EF553B",
           "#00cc96",
           "#ab63fa",
           "#FFA15A",
           "#19d3f3",
           "#FF6692",
           "#B6E880",
           "#FF97FF",
           "#FECB52"
          ],
          "font": {
           "color": "#2a3f5f"
          },
          "geo": {
           "bgcolor": "white",
           "lakecolor": "white",
           "landcolor": "#E5ECF6",
           "showlakes": true,
           "showland": true,
           "subunitcolor": "white"
          },
          "hoverlabel": {
           "align": "left"
          },
          "hovermode": "closest",
          "mapbox": {
           "style": "light"
          },
          "paper_bgcolor": "white",
          "plot_bgcolor": "#E5ECF6",
          "polar": {
           "angularaxis": {
            "gridcolor": "white",
            "linecolor": "white",
            "ticks": ""
           },
           "bgcolor": "#E5ECF6",
           "radialaxis": {
            "gridcolor": "white",
            "linecolor": "white",
            "ticks": ""
           }
          },
          "scene": {
           "xaxis": {
            "backgroundcolor": "#E5ECF6",
            "gridcolor": "white",
            "gridwidth": 2,
            "linecolor": "white",
            "showbackground": true,
            "ticks": "",
            "zerolinecolor": "white"
           },
           "yaxis": {
            "backgroundcolor": "#E5ECF6",
            "gridcolor": "white",
            "gridwidth": 2,
            "linecolor": "white",
            "showbackground": true,
            "ticks": "",
            "zerolinecolor": "white"
           },
           "zaxis": {
            "backgroundcolor": "#E5ECF6",
            "gridcolor": "white",
            "gridwidth": 2,
            "linecolor": "white",
            "showbackground": true,
            "ticks": "",
            "zerolinecolor": "white"
           }
          },
          "shapedefaults": {
           "line": {
            "color": "#2a3f5f"
           }
          },
          "ternary": {
           "aaxis": {
            "gridcolor": "white",
            "linecolor": "white",
            "ticks": ""
           },
           "baxis": {
            "gridcolor": "white",
            "linecolor": "white",
            "ticks": ""
           },
           "bgcolor": "#E5ECF6",
           "caxis": {
            "gridcolor": "white",
            "linecolor": "white",
            "ticks": ""
           }
          },
          "title": {
           "x": 0.05
          },
          "xaxis": {
           "automargin": true,
           "gridcolor": "white",
           "linecolor": "white",
           "ticks": "",
           "title": {
            "standoff": 15
           },
           "zerolinecolor": "white",
           "zerolinewidth": 2
          },
          "yaxis": {
           "automargin": true,
           "gridcolor": "white",
           "linecolor": "white",
           "ticks": "",
           "title": {
            "standoff": 15
           },
           "zerolinecolor": "white",
           "zerolinewidth": 2
          }
         }
        },
        "width": 1600,
        "xaxis": {
         "anchor": "y",
         "domain": [
          0,
          0.2888888888888889
         ],
         "title": {
          "text": "epochs"
         }
        },
        "xaxis2": {
         "anchor": "y2",
         "domain": [
          0.35555555555555557,
          0.6444444444444445
         ],
         "title": {
          "text": "epochs"
         }
        },
        "xaxis3": {
         "anchor": "y3",
         "domain": [
          0.7111111111111111,
          1
         ],
         "title": {
          "text": "epochs"
         }
        },
        "yaxis": {
         "anchor": "x",
         "domain": [
          0,
          1
         ],
         "title": {
          "text": ""
         }
        },
        "yaxis2": {
         "anchor": "x2",
         "domain": [
          0,
          1
         ],
         "title": {
          "text": ""
         }
        },
        "yaxis3": {
         "anchor": "x3",
         "domain": [
          0,
          1
         ],
         "title": {
          "text": ""
         }
        }
       }
      }
     },
     "metadata": {},
     "output_type": "display_data"
    },
    {
     "name": "stdout",
     "output_type": "stream",
     "text": [
      "2 Model test start...\n",
      "Repeat 0 running...\n"
     ]
    },
    {
     "name": "stderr",
     "output_type": "stream",
     "text": [
      "C:\\Users\\kucha\\AppData\\Roaming\\Python\\Python310\\site-packages\\keras\\src\\layers\\rnn\\rnn.py:204: UserWarning:\n",
      "\n",
      "Do not pass an `input_shape`/`input_dim` argument to a layer. When using Sequential models, prefer using an `Input(shape)` object as the first layer in the model instead.\n",
      "\n"
     ]
    },
    {
     "data": {
      "text/html": [
       "<pre style=\"white-space:pre;overflow-x:auto;line-height:normal;font-family:Menlo,'DejaVu Sans Mono',consolas,'Courier New',monospace\"><span style=\"font-weight: bold\">Model: \"sequential_29\"</span>\n",
       "</pre>\n"
      ],
      "text/plain": [
       "\u001b[1mModel: \"sequential_29\"\u001b[0m\n"
      ]
     },
     "metadata": {},
     "output_type": "display_data"
    },
    {
     "data": {
      "text/html": [
       "<pre style=\"white-space:pre;overflow-x:auto;line-height:normal;font-family:Menlo,'DejaVu Sans Mono',consolas,'Courier New',monospace\">┏━━━━━━━━━━━━━━━━━━━━━━━━━━━━━━━━━┳━━━━━━━━━━━━━━━━━━━━━━━━┳━━━━━━━━━━━━━━━┓\n",
       "┃<span style=\"font-weight: bold\"> Layer (type)                    </span>┃<span style=\"font-weight: bold\"> Output Shape           </span>┃<span style=\"font-weight: bold\">       Param # </span>┃\n",
       "┡━━━━━━━━━━━━━━━━━━━━━━━━━━━━━━━━━╇━━━━━━━━━━━━━━━━━━━━━━━━╇━━━━━━━━━━━━━━━┩\n",
       "│ lstm_59 (<span style=\"color: #0087ff; text-decoration-color: #0087ff\">LSTM</span>)                  │ (<span style=\"color: #00d7ff; text-decoration-color: #00d7ff\">None</span>, <span style=\"color: #00af00; text-decoration-color: #00af00\">150</span>, <span style=\"color: #00af00; text-decoration-color: #00af00\">150</span>)       │        <span style=\"color: #00af00; text-decoration-color: #00af00\">93,000</span> │\n",
       "├─────────────────────────────────┼────────────────────────┼───────────────┤\n",
       "│ dropout_36 (<span style=\"color: #0087ff; text-decoration-color: #0087ff\">Dropout</span>)            │ (<span style=\"color: #00d7ff; text-decoration-color: #00d7ff\">None</span>, <span style=\"color: #00af00; text-decoration-color: #00af00\">150</span>, <span style=\"color: #00af00; text-decoration-color: #00af00\">150</span>)       │             <span style=\"color: #00af00; text-decoration-color: #00af00\">0</span> │\n",
       "├─────────────────────────────────┼────────────────────────┼───────────────┤\n",
       "│ lstm_60 (<span style=\"color: #0087ff; text-decoration-color: #0087ff\">LSTM</span>)                  │ (<span style=\"color: #00d7ff; text-decoration-color: #00d7ff\">None</span>, <span style=\"color: #00af00; text-decoration-color: #00af00\">150</span>)            │       <span style=\"color: #00af00; text-decoration-color: #00af00\">180,600</span> │\n",
       "├─────────────────────────────────┼────────────────────────┼───────────────┤\n",
       "│ dropout_37 (<span style=\"color: #0087ff; text-decoration-color: #0087ff\">Dropout</span>)            │ (<span style=\"color: #00d7ff; text-decoration-color: #00d7ff\">None</span>, <span style=\"color: #00af00; text-decoration-color: #00af00\">150</span>)            │             <span style=\"color: #00af00; text-decoration-color: #00af00\">0</span> │\n",
       "├─────────────────────────────────┼────────────────────────┼───────────────┤\n",
       "│ dense_41 (<span style=\"color: #0087ff; text-decoration-color: #0087ff\">Dense</span>)                │ (<span style=\"color: #00d7ff; text-decoration-color: #00d7ff\">None</span>, <span style=\"color: #00af00; text-decoration-color: #00af00\">75</span>)             │        <span style=\"color: #00af00; text-decoration-color: #00af00\">11,325</span> │\n",
       "├─────────────────────────────────┼────────────────────────┼───────────────┤\n",
       "│ dropout_38 (<span style=\"color: #0087ff; text-decoration-color: #0087ff\">Dropout</span>)            │ (<span style=\"color: #00d7ff; text-decoration-color: #00d7ff\">None</span>, <span style=\"color: #00af00; text-decoration-color: #00af00\">75</span>)             │             <span style=\"color: #00af00; text-decoration-color: #00af00\">0</span> │\n",
       "├─────────────────────────────────┼────────────────────────┼───────────────┤\n",
       "│ dense_42 (<span style=\"color: #0087ff; text-decoration-color: #0087ff\">Dense</span>)                │ (<span style=\"color: #00d7ff; text-decoration-color: #00d7ff\">None</span>, <span style=\"color: #00af00; text-decoration-color: #00af00\">2</span>)              │           <span style=\"color: #00af00; text-decoration-color: #00af00\">152</span> │\n",
       "└─────────────────────────────────┴────────────────────────┴───────────────┘\n",
       "</pre>\n"
      ],
      "text/plain": [
       "┏━━━━━━━━━━━━━━━━━━━━━━━━━━━━━━━━━┳━━━━━━━━━━━━━━━━━━━━━━━━┳━━━━━━━━━━━━━━━┓\n",
       "┃\u001b[1m \u001b[0m\u001b[1mLayer (type)                   \u001b[0m\u001b[1m \u001b[0m┃\u001b[1m \u001b[0m\u001b[1mOutput Shape          \u001b[0m\u001b[1m \u001b[0m┃\u001b[1m \u001b[0m\u001b[1m      Param #\u001b[0m\u001b[1m \u001b[0m┃\n",
       "┡━━━━━━━━━━━━━━━━━━━━━━━━━━━━━━━━━╇━━━━━━━━━━━━━━━━━━━━━━━━╇━━━━━━━━━━━━━━━┩\n",
       "│ lstm_59 (\u001b[38;5;33mLSTM\u001b[0m)                  │ (\u001b[38;5;45mNone\u001b[0m, \u001b[38;5;34m150\u001b[0m, \u001b[38;5;34m150\u001b[0m)       │        \u001b[38;5;34m93,000\u001b[0m │\n",
       "├─────────────────────────────────┼────────────────────────┼───────────────┤\n",
       "│ dropout_36 (\u001b[38;5;33mDropout\u001b[0m)            │ (\u001b[38;5;45mNone\u001b[0m, \u001b[38;5;34m150\u001b[0m, \u001b[38;5;34m150\u001b[0m)       │             \u001b[38;5;34m0\u001b[0m │\n",
       "├─────────────────────────────────┼────────────────────────┼───────────────┤\n",
       "│ lstm_60 (\u001b[38;5;33mLSTM\u001b[0m)                  │ (\u001b[38;5;45mNone\u001b[0m, \u001b[38;5;34m150\u001b[0m)            │       \u001b[38;5;34m180,600\u001b[0m │\n",
       "├─────────────────────────────────┼────────────────────────┼───────────────┤\n",
       "│ dropout_37 (\u001b[38;5;33mDropout\u001b[0m)            │ (\u001b[38;5;45mNone\u001b[0m, \u001b[38;5;34m150\u001b[0m)            │             \u001b[38;5;34m0\u001b[0m │\n",
       "├─────────────────────────────────┼────────────────────────┼───────────────┤\n",
       "│ dense_41 (\u001b[38;5;33mDense\u001b[0m)                │ (\u001b[38;5;45mNone\u001b[0m, \u001b[38;5;34m75\u001b[0m)             │        \u001b[38;5;34m11,325\u001b[0m │\n",
       "├─────────────────────────────────┼────────────────────────┼───────────────┤\n",
       "│ dropout_38 (\u001b[38;5;33mDropout\u001b[0m)            │ (\u001b[38;5;45mNone\u001b[0m, \u001b[38;5;34m75\u001b[0m)             │             \u001b[38;5;34m0\u001b[0m │\n",
       "├─────────────────────────────────┼────────────────────────┼───────────────┤\n",
       "│ dense_42 (\u001b[38;5;33mDense\u001b[0m)                │ (\u001b[38;5;45mNone\u001b[0m, \u001b[38;5;34m2\u001b[0m)              │           \u001b[38;5;34m152\u001b[0m │\n",
       "└─────────────────────────────────┴────────────────────────┴───────────────┘\n"
      ]
     },
     "metadata": {},
     "output_type": "display_data"
    },
    {
     "data": {
      "text/html": [
       "<pre style=\"white-space:pre;overflow-x:auto;line-height:normal;font-family:Menlo,'DejaVu Sans Mono',consolas,'Courier New',monospace\"><span style=\"font-weight: bold\"> Total params: </span><span style=\"color: #00af00; text-decoration-color: #00af00\">285,077</span> (1.09 MB)\n",
       "</pre>\n"
      ],
      "text/plain": [
       "\u001b[1m Total params: \u001b[0m\u001b[38;5;34m285,077\u001b[0m (1.09 MB)\n"
      ]
     },
     "metadata": {},
     "output_type": "display_data"
    },
    {
     "data": {
      "text/html": [
       "<pre style=\"white-space:pre;overflow-x:auto;line-height:normal;font-family:Menlo,'DejaVu Sans Mono',consolas,'Courier New',monospace\"><span style=\"font-weight: bold\"> Trainable params: </span><span style=\"color: #00af00; text-decoration-color: #00af00\">285,077</span> (1.09 MB)\n",
       "</pre>\n"
      ],
      "text/plain": [
       "\u001b[1m Trainable params: \u001b[0m\u001b[38;5;34m285,077\u001b[0m (1.09 MB)\n"
      ]
     },
     "metadata": {},
     "output_type": "display_data"
    },
    {
     "data": {
      "text/html": [
       "<pre style=\"white-space:pre;overflow-x:auto;line-height:normal;font-family:Menlo,'DejaVu Sans Mono',consolas,'Courier New',monospace\"><span style=\"font-weight: bold\"> Non-trainable params: </span><span style=\"color: #00af00; text-decoration-color: #00af00\">0</span> (0.00 B)\n",
       "</pre>\n"
      ],
      "text/plain": [
       "\u001b[1m Non-trainable params: \u001b[0m\u001b[38;5;34m0\u001b[0m (0.00 B)\n"
      ]
     },
     "metadata": {},
     "output_type": "display_data"
    },
    {
     "name": "stdout",
     "output_type": "stream",
     "text": [
      "Epoch 1/3\n",
      "\n",
      "Epoch 1: val_loss improved from inf to 0.63256, saving model to ./saved_models/last_saved_model.keras\n",
      "\u001b[1m24/24\u001b[0m \u001b[32m━━━━━━━━━━━━━━━━━━━━\u001b[0m\u001b[37m\u001b[0m \u001b[1m14s\u001b[0m 557ms/step\n",
      "Profit: 1.19\n",
      "133/133 - 189s - 1s/step - accuracy: 0.6136 - loss: 0.6620 - val_accuracy: 0.6733 - val_loss: 0.6326\n",
      "Epoch 2/3\n",
      "\n",
      "Epoch 2: val_loss improved from 0.63256 to 0.60278, saving model to ./saved_models/last_saved_model.keras\n",
      "\u001b[1m24/24\u001b[0m \u001b[32m━━━━━━━━━━━━━━━━━━━━\u001b[0m\u001b[37m\u001b[0m \u001b[1m8s\u001b[0m 316ms/step\n",
      "New best model saved, previous best profit -> 0\n",
      "Profit: 3.92\n",
      "133/133 - 132s - 991ms/step - accuracy: 0.6545 - loss: 0.6294 - val_accuracy: 0.6860 - val_loss: 0.6028\n",
      "Epoch 3/3\n",
      "\n",
      "Epoch 3: val_loss improved from 0.60278 to 0.58555, saving model to ./saved_models/last_saved_model.keras\n",
      "\u001b[1m24/24\u001b[0m \u001b[32m━━━━━━━━━━━━━━━━━━━━\u001b[0m\u001b[37m\u001b[0m \u001b[1m7s\u001b[0m 310ms/step\n",
      "Profit: 3.09\n",
      "133/133 - 168s - 1s/step - accuracy: 0.6668 - loss: 0.6154 - val_accuracy: 0.6947 - val_loss: 0.5855\n",
      "\u001b[1m24/24\u001b[0m \u001b[32m━━━━━━━━━━━━━━━━━━━━\u001b[0m\u001b[37m\u001b[0m \u001b[1m11s\u001b[0m 442ms/step\n",
      "Repeat 1 running...\n"
     ]
    },
    {
     "name": "stderr",
     "output_type": "stream",
     "text": [
      "C:\\Users\\kucha\\AppData\\Roaming\\Python\\Python310\\site-packages\\keras\\src\\layers\\rnn\\rnn.py:204: UserWarning:\n",
      "\n",
      "Do not pass an `input_shape`/`input_dim` argument to a layer. When using Sequential models, prefer using an `Input(shape)` object as the first layer in the model instead.\n",
      "\n"
     ]
    },
    {
     "data": {
      "text/html": [
       "<pre style=\"white-space:pre;overflow-x:auto;line-height:normal;font-family:Menlo,'DejaVu Sans Mono',consolas,'Courier New',monospace\"><span style=\"font-weight: bold\">Model: \"sequential_30\"</span>\n",
       "</pre>\n"
      ],
      "text/plain": [
       "\u001b[1mModel: \"sequential_30\"\u001b[0m\n"
      ]
     },
     "metadata": {},
     "output_type": "display_data"
    },
    {
     "data": {
      "text/html": [
       "<pre style=\"white-space:pre;overflow-x:auto;line-height:normal;font-family:Menlo,'DejaVu Sans Mono',consolas,'Courier New',monospace\">┏━━━━━━━━━━━━━━━━━━━━━━━━━━━━━━━━━┳━━━━━━━━━━━━━━━━━━━━━━━━┳━━━━━━━━━━━━━━━┓\n",
       "┃<span style=\"font-weight: bold\"> Layer (type)                    </span>┃<span style=\"font-weight: bold\"> Output Shape           </span>┃<span style=\"font-weight: bold\">       Param # </span>┃\n",
       "┡━━━━━━━━━━━━━━━━━━━━━━━━━━━━━━━━━╇━━━━━━━━━━━━━━━━━━━━━━━━╇━━━━━━━━━━━━━━━┩\n",
       "│ lstm_62 (<span style=\"color: #0087ff; text-decoration-color: #0087ff\">LSTM</span>)                  │ (<span style=\"color: #00d7ff; text-decoration-color: #00d7ff\">None</span>, <span style=\"color: #00af00; text-decoration-color: #00af00\">150</span>, <span style=\"color: #00af00; text-decoration-color: #00af00\">150</span>)       │        <span style=\"color: #00af00; text-decoration-color: #00af00\">93,000</span> │\n",
       "├─────────────────────────────────┼────────────────────────┼───────────────┤\n",
       "│ dropout_39 (<span style=\"color: #0087ff; text-decoration-color: #0087ff\">Dropout</span>)            │ (<span style=\"color: #00d7ff; text-decoration-color: #00d7ff\">None</span>, <span style=\"color: #00af00; text-decoration-color: #00af00\">150</span>, <span style=\"color: #00af00; text-decoration-color: #00af00\">150</span>)       │             <span style=\"color: #00af00; text-decoration-color: #00af00\">0</span> │\n",
       "├─────────────────────────────────┼────────────────────────┼───────────────┤\n",
       "│ lstm_63 (<span style=\"color: #0087ff; text-decoration-color: #0087ff\">LSTM</span>)                  │ (<span style=\"color: #00d7ff; text-decoration-color: #00d7ff\">None</span>, <span style=\"color: #00af00; text-decoration-color: #00af00\">150</span>)            │       <span style=\"color: #00af00; text-decoration-color: #00af00\">180,600</span> │\n",
       "├─────────────────────────────────┼────────────────────────┼───────────────┤\n",
       "│ dropout_40 (<span style=\"color: #0087ff; text-decoration-color: #0087ff\">Dropout</span>)            │ (<span style=\"color: #00d7ff; text-decoration-color: #00d7ff\">None</span>, <span style=\"color: #00af00; text-decoration-color: #00af00\">150</span>)            │             <span style=\"color: #00af00; text-decoration-color: #00af00\">0</span> │\n",
       "├─────────────────────────────────┼────────────────────────┼───────────────┤\n",
       "│ dense_43 (<span style=\"color: #0087ff; text-decoration-color: #0087ff\">Dense</span>)                │ (<span style=\"color: #00d7ff; text-decoration-color: #00d7ff\">None</span>, <span style=\"color: #00af00; text-decoration-color: #00af00\">75</span>)             │        <span style=\"color: #00af00; text-decoration-color: #00af00\">11,325</span> │\n",
       "├─────────────────────────────────┼────────────────────────┼───────────────┤\n",
       "│ dropout_41 (<span style=\"color: #0087ff; text-decoration-color: #0087ff\">Dropout</span>)            │ (<span style=\"color: #00d7ff; text-decoration-color: #00d7ff\">None</span>, <span style=\"color: #00af00; text-decoration-color: #00af00\">75</span>)             │             <span style=\"color: #00af00; text-decoration-color: #00af00\">0</span> │\n",
       "├─────────────────────────────────┼────────────────────────┼───────────────┤\n",
       "│ dense_44 (<span style=\"color: #0087ff; text-decoration-color: #0087ff\">Dense</span>)                │ (<span style=\"color: #00d7ff; text-decoration-color: #00d7ff\">None</span>, <span style=\"color: #00af00; text-decoration-color: #00af00\">2</span>)              │           <span style=\"color: #00af00; text-decoration-color: #00af00\">152</span> │\n",
       "└─────────────────────────────────┴────────────────────────┴───────────────┘\n",
       "</pre>\n"
      ],
      "text/plain": [
       "┏━━━━━━━━━━━━━━━━━━━━━━━━━━━━━━━━━┳━━━━━━━━━━━━━━━━━━━━━━━━┳━━━━━━━━━━━━━━━┓\n",
       "┃\u001b[1m \u001b[0m\u001b[1mLayer (type)                   \u001b[0m\u001b[1m \u001b[0m┃\u001b[1m \u001b[0m\u001b[1mOutput Shape          \u001b[0m\u001b[1m \u001b[0m┃\u001b[1m \u001b[0m\u001b[1m      Param #\u001b[0m\u001b[1m \u001b[0m┃\n",
       "┡━━━━━━━━━━━━━━━━━━━━━━━━━━━━━━━━━╇━━━━━━━━━━━━━━━━━━━━━━━━╇━━━━━━━━━━━━━━━┩\n",
       "│ lstm_62 (\u001b[38;5;33mLSTM\u001b[0m)                  │ (\u001b[38;5;45mNone\u001b[0m, \u001b[38;5;34m150\u001b[0m, \u001b[38;5;34m150\u001b[0m)       │        \u001b[38;5;34m93,000\u001b[0m │\n",
       "├─────────────────────────────────┼────────────────────────┼───────────────┤\n",
       "│ dropout_39 (\u001b[38;5;33mDropout\u001b[0m)            │ (\u001b[38;5;45mNone\u001b[0m, \u001b[38;5;34m150\u001b[0m, \u001b[38;5;34m150\u001b[0m)       │             \u001b[38;5;34m0\u001b[0m │\n",
       "├─────────────────────────────────┼────────────────────────┼───────────────┤\n",
       "│ lstm_63 (\u001b[38;5;33mLSTM\u001b[0m)                  │ (\u001b[38;5;45mNone\u001b[0m, \u001b[38;5;34m150\u001b[0m)            │       \u001b[38;5;34m180,600\u001b[0m │\n",
       "├─────────────────────────────────┼────────────────────────┼───────────────┤\n",
       "│ dropout_40 (\u001b[38;5;33mDropout\u001b[0m)            │ (\u001b[38;5;45mNone\u001b[0m, \u001b[38;5;34m150\u001b[0m)            │             \u001b[38;5;34m0\u001b[0m │\n",
       "├─────────────────────────────────┼────────────────────────┼───────────────┤\n",
       "│ dense_43 (\u001b[38;5;33mDense\u001b[0m)                │ (\u001b[38;5;45mNone\u001b[0m, \u001b[38;5;34m75\u001b[0m)             │        \u001b[38;5;34m11,325\u001b[0m │\n",
       "├─────────────────────────────────┼────────────────────────┼───────────────┤\n",
       "│ dropout_41 (\u001b[38;5;33mDropout\u001b[0m)            │ (\u001b[38;5;45mNone\u001b[0m, \u001b[38;5;34m75\u001b[0m)             │             \u001b[38;5;34m0\u001b[0m │\n",
       "├─────────────────────────────────┼────────────────────────┼───────────────┤\n",
       "│ dense_44 (\u001b[38;5;33mDense\u001b[0m)                │ (\u001b[38;5;45mNone\u001b[0m, \u001b[38;5;34m2\u001b[0m)              │           \u001b[38;5;34m152\u001b[0m │\n",
       "└─────────────────────────────────┴────────────────────────┴───────────────┘\n"
      ]
     },
     "metadata": {},
     "output_type": "display_data"
    },
    {
     "data": {
      "text/html": [
       "<pre style=\"white-space:pre;overflow-x:auto;line-height:normal;font-family:Menlo,'DejaVu Sans Mono',consolas,'Courier New',monospace\"><span style=\"font-weight: bold\"> Total params: </span><span style=\"color: #00af00; text-decoration-color: #00af00\">285,077</span> (1.09 MB)\n",
       "</pre>\n"
      ],
      "text/plain": [
       "\u001b[1m Total params: \u001b[0m\u001b[38;5;34m285,077\u001b[0m (1.09 MB)\n"
      ]
     },
     "metadata": {},
     "output_type": "display_data"
    },
    {
     "data": {
      "text/html": [
       "<pre style=\"white-space:pre;overflow-x:auto;line-height:normal;font-family:Menlo,'DejaVu Sans Mono',consolas,'Courier New',monospace\"><span style=\"font-weight: bold\"> Trainable params: </span><span style=\"color: #00af00; text-decoration-color: #00af00\">285,077</span> (1.09 MB)\n",
       "</pre>\n"
      ],
      "text/plain": [
       "\u001b[1m Trainable params: \u001b[0m\u001b[38;5;34m285,077\u001b[0m (1.09 MB)\n"
      ]
     },
     "metadata": {},
     "output_type": "display_data"
    },
    {
     "data": {
      "text/html": [
       "<pre style=\"white-space:pre;overflow-x:auto;line-height:normal;font-family:Menlo,'DejaVu Sans Mono',consolas,'Courier New',monospace\"><span style=\"font-weight: bold\"> Non-trainable params: </span><span style=\"color: #00af00; text-decoration-color: #00af00\">0</span> (0.00 B)\n",
       "</pre>\n"
      ],
      "text/plain": [
       "\u001b[1m Non-trainable params: \u001b[0m\u001b[38;5;34m0\u001b[0m (0.00 B)\n"
      ]
     },
     "metadata": {},
     "output_type": "display_data"
    },
    {
     "name": "stdout",
     "output_type": "stream",
     "text": [
      "Epoch 1/3\n"
     ]
    },
    {
     "ename": "KeyboardInterrupt",
     "evalue": "",
     "output_type": "error",
     "traceback": [
      "\u001b[1;31m---------------------------------------------------------------------------\u001b[0m",
      "\u001b[1;31mKeyboardInterrupt\u001b[0m                         Traceback (most recent call last)",
      "Cell \u001b[1;32mIn[103], line 34\u001b[0m\n\u001b[0;32m     31\u001b[0m profitListSaveModel \u001b[38;5;241m=\u001b[39m \u001b[38;5;28mlist\u001b[39m()\n\u001b[0;32m     33\u001b[0m \u001b[38;5;66;03m# Experiment\u001b[39;00m\n\u001b[1;32m---> 34\u001b[0m results_acc[\u001b[38;5;28mstr\u001b[39m(mod)], results_profit[\u001b[38;5;28mstr\u001b[39m(mod)], results_profitOld[\u001b[38;5;28mstr\u001b[39m(mod)], metrics \u001b[38;5;241m=\u001b[39m \u001b[43mexperiment\u001b[49m\u001b[43m(\u001b[49m\n\u001b[0;32m     35\u001b[0m \u001b[43m                                                                                        \u001b[49m\u001b[43mrunMeter\u001b[49m\u001b[43m,\u001b[49m\u001b[43m \u001b[49m\n\u001b[0;32m     36\u001b[0m \u001b[43m                                                                                        \u001b[49m\u001b[43mrepeats\u001b[49m\u001b[43m,\u001b[49m\u001b[43m \u001b[49m\n\u001b[0;32m     37\u001b[0m \u001b[43m                                                                                        \u001b[49m\u001b[43mepochs\u001b[49m\u001b[43m,\u001b[49m\u001b[43m \u001b[49m\n\u001b[0;32m     38\u001b[0m \u001b[43m                                                                                        \u001b[49m\u001b[43mneuronsLstm\u001b[49m\u001b[43m,\u001b[49m\u001b[43m \u001b[49m\n\u001b[0;32m     39\u001b[0m \u001b[43m                                                                                        \u001b[49m\u001b[43mtimeStep\u001b[49m\u001b[43m,\u001b[49m\u001b[43m \u001b[49m\n\u001b[0;32m     40\u001b[0m \u001b[43m                                                                                        \u001b[49m\u001b[43mdenseType\u001b[49m\u001b[43m,\u001b[49m\u001b[43m \u001b[49m\n\u001b[0;32m     41\u001b[0m \u001b[43m                                                                                        \u001b[49m\u001b[43mdropout\u001b[49m\u001b[43m,\u001b[49m\u001b[43m \u001b[49m\n\u001b[0;32m     42\u001b[0m \u001b[43m                                                                                        \u001b[49m\u001b[43mmod\u001b[49m\u001b[43m,\u001b[49m\u001b[43m \u001b[49m\n\u001b[0;32m     43\u001b[0m \u001b[43m                                                                                        \u001b[49m\u001b[43mfeatures\u001b[49m\u001b[43m,\u001b[49m\u001b[43m \u001b[49m\n\u001b[0;32m     44\u001b[0m \u001b[43m                                                                                        \u001b[49m\u001b[43mlearning_rate\u001b[49m\n\u001b[0;32m     45\u001b[0m \u001b[43m                                                                                        \u001b[49m\u001b[43m)\u001b[49m\n\u001b[0;32m     46\u001b[0m \u001b[38;5;66;03m# runMeter commented if next loop parameter has different model weights  \u001b[39;00m\n\u001b[0;32m     47\u001b[0m \u001b[38;5;66;03m#  runMeter += 1\u001b[39;00m\n\u001b[0;32m     49\u001b[0m plotsOut(mod, metrics)\n",
      "Cell \u001b[1;32mIn[101], line 18\u001b[0m, in \u001b[0;36mexperiment\u001b[1;34m(i, repeats, epochs, neurons, time, denseType, dropout, modelVar, features, learning_rate)\u001b[0m\n\u001b[0;32m     16\u001b[0m batch_size \u001b[38;5;241m=\u001b[39m \u001b[38;5;241m64\u001b[39m\n\u001b[0;32m     17\u001b[0m \u001b[38;5;66;03m# model\u001b[39;00m\n\u001b[1;32m---> 18\u001b[0m model, history, profitArray \u001b[38;5;241m=\u001b[39m \u001b[43mfit_lstmModel\u001b[49m\u001b[43m(\u001b[49m\u001b[43mi\u001b[49m\u001b[43m,\u001b[49m\u001b[43m \u001b[49m\u001b[43mx_train\u001b[49m\u001b[43m,\u001b[49m\u001b[43m \u001b[49m\u001b[43my_train\u001b[49m\u001b[43m,\u001b[49m\u001b[43m \u001b[49m\u001b[43mx_test\u001b[49m\u001b[43m,\u001b[49m\u001b[43m \u001b[49m\u001b[43my_test\u001b[49m\u001b[43m,\u001b[49m\u001b[43m \u001b[49m\u001b[43mbatch_size\u001b[49m\u001b[43m,\u001b[49m\u001b[43m \u001b[49m\u001b[43mepochs\u001b[49m\u001b[43m,\u001b[49m\u001b[43m \u001b[49m\u001b[43mneurons\u001b[49m\u001b[43m,\u001b[49m\u001b[43m \u001b[49m\u001b[43mdenseType\u001b[49m\u001b[43m,\u001b[49m\u001b[43m \u001b[49m\u001b[43mdropout\u001b[49m\u001b[43m,\u001b[49m\u001b[43m \u001b[49m\u001b[43mmodelVar\u001b[49m\u001b[43m,\u001b[49m\u001b[43m \u001b[49m\u001b[43mlearning_rate\u001b[49m\u001b[43m)\u001b[49m\n\u001b[0;32m     19\u001b[0m i \u001b[38;5;241m+\u001b[39m\u001b[38;5;241m=\u001b[39m \u001b[38;5;241m1\u001b[39m\n\u001b[0;32m     21\u001b[0m \u001b[38;5;66;03m# forecast the entire training dataset to build up state for forecasting\u001b[39;00m\n",
      "Cell \u001b[1;32mIn[99], line 189\u001b[0m, in \u001b[0;36mfit_lstmModel\u001b[1;34m(i, x_train, y_train, x_test, y_test, batch_size, nb_epoch, neurons, denseType, dropout, modelVar, learning_rate)\u001b[0m\n\u001b[0;32m    186\u001b[0m model\u001b[38;5;241m.\u001b[39msummary()\n\u001b[0;32m    188\u001b[0m \u001b[38;5;66;03m# fit model\u001b[39;00m\n\u001b[1;32m--> 189\u001b[0m history \u001b[38;5;241m=\u001b[39m \u001b[43mmodel\u001b[49m\u001b[38;5;241;43m.\u001b[39;49m\u001b[43mfit\u001b[49m\u001b[43m(\u001b[49m\u001b[43mx_train\u001b[49m\u001b[43m,\u001b[49m\u001b[43m \u001b[49m\u001b[43my_train\u001b[49m\u001b[43m,\u001b[49m\u001b[43m \u001b[49m\u001b[43mepochs\u001b[49m\u001b[38;5;241;43m=\u001b[39;49m\u001b[43mnb_epoch\u001b[49m\u001b[43m,\u001b[49m\u001b[43m \u001b[49m\u001b[43mbatch_size\u001b[49m\u001b[38;5;241;43m=\u001b[39;49m\u001b[43mbatch_size\u001b[49m\u001b[43m,\u001b[49m\u001b[43m \u001b[49m\n\u001b[0;32m    190\u001b[0m \u001b[43m                    \u001b[49m\u001b[43mshuffle\u001b[49m\u001b[38;5;241;43m=\u001b[39;49m\u001b[38;5;28;43;01mFalse\u001b[39;49;00m\u001b[43m,\u001b[49m\u001b[43m \u001b[49m\u001b[43mvalidation_data\u001b[49m\u001b[38;5;241;43m=\u001b[39;49m\u001b[43m(\u001b[49m\u001b[43mx_test\u001b[49m\u001b[43m,\u001b[49m\u001b[43m \u001b[49m\u001b[43my_test\u001b[49m\u001b[43m)\u001b[49m\u001b[43m,\u001b[49m\u001b[43m \u001b[49m\u001b[43mcallbacks\u001b[49m\u001b[38;5;241;43m=\u001b[39;49m\u001b[43m[\u001b[49m\u001b[43mcheckpoint\u001b[49m\u001b[43m,\u001b[49m\u001b[43m \u001b[49m\u001b[43mearlyStopping\u001b[49m\u001b[43m,\u001b[49m\u001b[43m \u001b[49m\u001b[43mMyCallback\u001b[49m\u001b[43m(\u001b[49m\u001b[43m)\u001b[49m\u001b[43m]\u001b[49m\u001b[43m,\u001b[49m\u001b[43m \u001b[49m\u001b[43mverbose\u001b[49m\u001b[38;5;241;43m=\u001b[39;49m\u001b[38;5;241;43m2\u001b[39;49m\u001b[43m)\u001b[49m \u001b[38;5;66;03m# type: ignore\u001b[39;00m\n\u001b[0;32m    192\u001b[0m \u001b[38;5;66;03m# Convert list() to array\u001b[39;00m\n\u001b[0;32m    193\u001b[0m profitArray \u001b[38;5;241m=\u001b[39m np\u001b[38;5;241m.\u001b[39marray(profitList)\n",
      "File \u001b[1;32m~\\AppData\\Roaming\\Python\\Python310\\site-packages\\keras\\src\\utils\\traceback_utils.py:117\u001b[0m, in \u001b[0;36mfilter_traceback.<locals>.error_handler\u001b[1;34m(*args, **kwargs)\u001b[0m\n\u001b[0;32m    115\u001b[0m filtered_tb \u001b[38;5;241m=\u001b[39m \u001b[38;5;28;01mNone\u001b[39;00m\n\u001b[0;32m    116\u001b[0m \u001b[38;5;28;01mtry\u001b[39;00m:\n\u001b[1;32m--> 117\u001b[0m     \u001b[38;5;28;01mreturn\u001b[39;00m fn(\u001b[38;5;241m*\u001b[39margs, \u001b[38;5;241m*\u001b[39m\u001b[38;5;241m*\u001b[39mkwargs)\n\u001b[0;32m    118\u001b[0m \u001b[38;5;28;01mexcept\u001b[39;00m \u001b[38;5;167;01mException\u001b[39;00m \u001b[38;5;28;01mas\u001b[39;00m e:\n\u001b[0;32m    119\u001b[0m     filtered_tb \u001b[38;5;241m=\u001b[39m _process_traceback_frames(e\u001b[38;5;241m.\u001b[39m__traceback__)\n",
      "File \u001b[1;32m~\\AppData\\Roaming\\Python\\Python310\\site-packages\\keras\\src\\backend\\tensorflow\\trainer.py:314\u001b[0m, in \u001b[0;36mTensorFlowTrainer.fit\u001b[1;34m(self, x, y, batch_size, epochs, verbose, callbacks, validation_split, validation_data, shuffle, class_weight, sample_weight, initial_epoch, steps_per_epoch, validation_steps, validation_batch_size, validation_freq)\u001b[0m\n\u001b[0;32m    312\u001b[0m \u001b[38;5;28;01mfor\u001b[39;00m step, iterator \u001b[38;5;129;01min\u001b[39;00m epoch_iterator\u001b[38;5;241m.\u001b[39menumerate_epoch():\n\u001b[0;32m    313\u001b[0m     callbacks\u001b[38;5;241m.\u001b[39mon_train_batch_begin(step)\n\u001b[1;32m--> 314\u001b[0m     logs \u001b[38;5;241m=\u001b[39m \u001b[38;5;28;43mself\u001b[39;49m\u001b[38;5;241;43m.\u001b[39;49m\u001b[43mtrain_function\u001b[49m\u001b[43m(\u001b[49m\u001b[43miterator\u001b[49m\u001b[43m)\u001b[49m\n\u001b[0;32m    315\u001b[0m     logs \u001b[38;5;241m=\u001b[39m \u001b[38;5;28mself\u001b[39m\u001b[38;5;241m.\u001b[39m_pythonify_logs(logs)\n\u001b[0;32m    316\u001b[0m     callbacks\u001b[38;5;241m.\u001b[39mon_train_batch_end(step, logs)\n",
      "File \u001b[1;32m~\\AppData\\Roaming\\Python\\Python310\\site-packages\\tensorflow\\python\\util\\traceback_utils.py:150\u001b[0m, in \u001b[0;36mfilter_traceback.<locals>.error_handler\u001b[1;34m(*args, **kwargs)\u001b[0m\n\u001b[0;32m    148\u001b[0m filtered_tb \u001b[38;5;241m=\u001b[39m \u001b[38;5;28;01mNone\u001b[39;00m\n\u001b[0;32m    149\u001b[0m \u001b[38;5;28;01mtry\u001b[39;00m:\n\u001b[1;32m--> 150\u001b[0m   \u001b[38;5;28;01mreturn\u001b[39;00m fn(\u001b[38;5;241m*\u001b[39margs, \u001b[38;5;241m*\u001b[39m\u001b[38;5;241m*\u001b[39mkwargs)\n\u001b[0;32m    151\u001b[0m \u001b[38;5;28;01mexcept\u001b[39;00m \u001b[38;5;167;01mException\u001b[39;00m \u001b[38;5;28;01mas\u001b[39;00m e:\n\u001b[0;32m    152\u001b[0m   filtered_tb \u001b[38;5;241m=\u001b[39m _process_traceback_frames(e\u001b[38;5;241m.\u001b[39m__traceback__)\n",
      "File \u001b[1;32m~\\AppData\\Roaming\\Python\\Python310\\site-packages\\tensorflow\\python\\eager\\polymorphic_function\\polymorphic_function.py:833\u001b[0m, in \u001b[0;36mFunction.__call__\u001b[1;34m(self, *args, **kwds)\u001b[0m\n\u001b[0;32m    830\u001b[0m compiler \u001b[38;5;241m=\u001b[39m \u001b[38;5;124m\"\u001b[39m\u001b[38;5;124mxla\u001b[39m\u001b[38;5;124m\"\u001b[39m \u001b[38;5;28;01mif\u001b[39;00m \u001b[38;5;28mself\u001b[39m\u001b[38;5;241m.\u001b[39m_jit_compile \u001b[38;5;28;01melse\u001b[39;00m \u001b[38;5;124m\"\u001b[39m\u001b[38;5;124mnonXla\u001b[39m\u001b[38;5;124m\"\u001b[39m\n\u001b[0;32m    832\u001b[0m \u001b[38;5;28;01mwith\u001b[39;00m OptionalXlaContext(\u001b[38;5;28mself\u001b[39m\u001b[38;5;241m.\u001b[39m_jit_compile):\n\u001b[1;32m--> 833\u001b[0m   result \u001b[38;5;241m=\u001b[39m \u001b[38;5;28mself\u001b[39m\u001b[38;5;241m.\u001b[39m_call(\u001b[38;5;241m*\u001b[39margs, \u001b[38;5;241m*\u001b[39m\u001b[38;5;241m*\u001b[39mkwds)\n\u001b[0;32m    835\u001b[0m new_tracing_count \u001b[38;5;241m=\u001b[39m \u001b[38;5;28mself\u001b[39m\u001b[38;5;241m.\u001b[39mexperimental_get_tracing_count()\n\u001b[0;32m    836\u001b[0m without_tracing \u001b[38;5;241m=\u001b[39m (tracing_count \u001b[38;5;241m==\u001b[39m new_tracing_count)\n",
      "File \u001b[1;32m~\\AppData\\Roaming\\Python\\Python310\\site-packages\\tensorflow\\python\\eager\\polymorphic_function\\polymorphic_function.py:878\u001b[0m, in \u001b[0;36mFunction._call\u001b[1;34m(self, *args, **kwds)\u001b[0m\n\u001b[0;32m    875\u001b[0m \u001b[38;5;28mself\u001b[39m\u001b[38;5;241m.\u001b[39m_lock\u001b[38;5;241m.\u001b[39mrelease()\n\u001b[0;32m    876\u001b[0m \u001b[38;5;66;03m# In this case we have not created variables on the first call. So we can\u001b[39;00m\n\u001b[0;32m    877\u001b[0m \u001b[38;5;66;03m# run the first trace but we should fail if variables are created.\u001b[39;00m\n\u001b[1;32m--> 878\u001b[0m results \u001b[38;5;241m=\u001b[39m \u001b[43mtracing_compilation\u001b[49m\u001b[38;5;241;43m.\u001b[39;49m\u001b[43mcall_function\u001b[49m\u001b[43m(\u001b[49m\n\u001b[0;32m    879\u001b[0m \u001b[43m    \u001b[49m\u001b[43margs\u001b[49m\u001b[43m,\u001b[49m\u001b[43m \u001b[49m\u001b[43mkwds\u001b[49m\u001b[43m,\u001b[49m\u001b[43m \u001b[49m\u001b[38;5;28;43mself\u001b[39;49m\u001b[38;5;241;43m.\u001b[39;49m\u001b[43m_variable_creation_config\u001b[49m\n\u001b[0;32m    880\u001b[0m \u001b[43m\u001b[49m\u001b[43m)\u001b[49m\n\u001b[0;32m    881\u001b[0m \u001b[38;5;28;01mif\u001b[39;00m \u001b[38;5;28mself\u001b[39m\u001b[38;5;241m.\u001b[39m_created_variables:\n\u001b[0;32m    882\u001b[0m   \u001b[38;5;28;01mraise\u001b[39;00m \u001b[38;5;167;01mValueError\u001b[39;00m(\u001b[38;5;124m\"\u001b[39m\u001b[38;5;124mCreating variables on a non-first call to a function\u001b[39m\u001b[38;5;124m\"\u001b[39m\n\u001b[0;32m    883\u001b[0m                    \u001b[38;5;124m\"\u001b[39m\u001b[38;5;124m decorated with tf.function.\u001b[39m\u001b[38;5;124m\"\u001b[39m)\n",
      "File \u001b[1;32m~\\AppData\\Roaming\\Python\\Python310\\site-packages\\tensorflow\\python\\eager\\polymorphic_function\\tracing_compilation.py:139\u001b[0m, in \u001b[0;36mcall_function\u001b[1;34m(args, kwargs, tracing_options)\u001b[0m\n\u001b[0;32m    137\u001b[0m bound_args \u001b[38;5;241m=\u001b[39m function\u001b[38;5;241m.\u001b[39mfunction_type\u001b[38;5;241m.\u001b[39mbind(\u001b[38;5;241m*\u001b[39margs, \u001b[38;5;241m*\u001b[39m\u001b[38;5;241m*\u001b[39mkwargs)\n\u001b[0;32m    138\u001b[0m flat_inputs \u001b[38;5;241m=\u001b[39m function\u001b[38;5;241m.\u001b[39mfunction_type\u001b[38;5;241m.\u001b[39munpack_inputs(bound_args)\n\u001b[1;32m--> 139\u001b[0m \u001b[38;5;28;01mreturn\u001b[39;00m \u001b[43mfunction\u001b[49m\u001b[38;5;241;43m.\u001b[39;49m\u001b[43m_call_flat\u001b[49m\u001b[43m(\u001b[49m\u001b[43m  \u001b[49m\u001b[38;5;66;43;03m# pylint: disable=protected-access\u001b[39;49;00m\n\u001b[0;32m    140\u001b[0m \u001b[43m    \u001b[49m\u001b[43mflat_inputs\u001b[49m\u001b[43m,\u001b[49m\u001b[43m \u001b[49m\u001b[43mcaptured_inputs\u001b[49m\u001b[38;5;241;43m=\u001b[39;49m\u001b[43mfunction\u001b[49m\u001b[38;5;241;43m.\u001b[39;49m\u001b[43mcaptured_inputs\u001b[49m\n\u001b[0;32m    141\u001b[0m \u001b[43m\u001b[49m\u001b[43m)\u001b[49m\n",
      "File \u001b[1;32m~\\AppData\\Roaming\\Python\\Python310\\site-packages\\tensorflow\\python\\eager\\polymorphic_function\\concrete_function.py:1322\u001b[0m, in \u001b[0;36mConcreteFunction._call_flat\u001b[1;34m(self, tensor_inputs, captured_inputs)\u001b[0m\n\u001b[0;32m   1318\u001b[0m possible_gradient_type \u001b[38;5;241m=\u001b[39m gradients_util\u001b[38;5;241m.\u001b[39mPossibleTapeGradientTypes(args)\n\u001b[0;32m   1319\u001b[0m \u001b[38;5;28;01mif\u001b[39;00m (possible_gradient_type \u001b[38;5;241m==\u001b[39m gradients_util\u001b[38;5;241m.\u001b[39mPOSSIBLE_GRADIENT_TYPES_NONE\n\u001b[0;32m   1320\u001b[0m     \u001b[38;5;129;01mand\u001b[39;00m executing_eagerly):\n\u001b[0;32m   1321\u001b[0m   \u001b[38;5;66;03m# No tape is watching; skip to running the function.\u001b[39;00m\n\u001b[1;32m-> 1322\u001b[0m   \u001b[38;5;28;01mreturn\u001b[39;00m \u001b[38;5;28;43mself\u001b[39;49m\u001b[38;5;241;43m.\u001b[39;49m\u001b[43m_inference_function\u001b[49m\u001b[38;5;241;43m.\u001b[39;49m\u001b[43mcall_preflattened\u001b[49m\u001b[43m(\u001b[49m\u001b[43margs\u001b[49m\u001b[43m)\u001b[49m\n\u001b[0;32m   1323\u001b[0m forward_backward \u001b[38;5;241m=\u001b[39m \u001b[38;5;28mself\u001b[39m\u001b[38;5;241m.\u001b[39m_select_forward_and_backward_functions(\n\u001b[0;32m   1324\u001b[0m     args,\n\u001b[0;32m   1325\u001b[0m     possible_gradient_type,\n\u001b[0;32m   1326\u001b[0m     executing_eagerly)\n\u001b[0;32m   1327\u001b[0m forward_function, args_with_tangents \u001b[38;5;241m=\u001b[39m forward_backward\u001b[38;5;241m.\u001b[39mforward()\n",
      "File \u001b[1;32m~\\AppData\\Roaming\\Python\\Python310\\site-packages\\tensorflow\\python\\eager\\polymorphic_function\\atomic_function.py:216\u001b[0m, in \u001b[0;36mAtomicFunction.call_preflattened\u001b[1;34m(self, args)\u001b[0m\n\u001b[0;32m    214\u001b[0m \u001b[38;5;28;01mdef\u001b[39;00m \u001b[38;5;21mcall_preflattened\u001b[39m(\u001b[38;5;28mself\u001b[39m, args: Sequence[core\u001b[38;5;241m.\u001b[39mTensor]) \u001b[38;5;241m-\u001b[39m\u001b[38;5;241m>\u001b[39m Any:\n\u001b[0;32m    215\u001b[0m \u001b[38;5;250m  \u001b[39m\u001b[38;5;124;03m\"\"\"Calls with flattened tensor inputs and returns the structured output.\"\"\"\u001b[39;00m\n\u001b[1;32m--> 216\u001b[0m   flat_outputs \u001b[38;5;241m=\u001b[39m \u001b[38;5;28;43mself\u001b[39;49m\u001b[38;5;241;43m.\u001b[39;49m\u001b[43mcall_flat\u001b[49m\u001b[43m(\u001b[49m\u001b[38;5;241;43m*\u001b[39;49m\u001b[43margs\u001b[49m\u001b[43m)\u001b[49m\n\u001b[0;32m    217\u001b[0m   \u001b[38;5;28;01mreturn\u001b[39;00m \u001b[38;5;28mself\u001b[39m\u001b[38;5;241m.\u001b[39mfunction_type\u001b[38;5;241m.\u001b[39mpack_output(flat_outputs)\n",
      "File \u001b[1;32m~\\AppData\\Roaming\\Python\\Python310\\site-packages\\tensorflow\\python\\eager\\polymorphic_function\\atomic_function.py:251\u001b[0m, in \u001b[0;36mAtomicFunction.call_flat\u001b[1;34m(self, *args)\u001b[0m\n\u001b[0;32m    249\u001b[0m \u001b[38;5;28;01mwith\u001b[39;00m record\u001b[38;5;241m.\u001b[39mstop_recording():\n\u001b[0;32m    250\u001b[0m   \u001b[38;5;28;01mif\u001b[39;00m \u001b[38;5;28mself\u001b[39m\u001b[38;5;241m.\u001b[39m_bound_context\u001b[38;5;241m.\u001b[39mexecuting_eagerly():\n\u001b[1;32m--> 251\u001b[0m     outputs \u001b[38;5;241m=\u001b[39m \u001b[38;5;28;43mself\u001b[39;49m\u001b[38;5;241;43m.\u001b[39;49m\u001b[43m_bound_context\u001b[49m\u001b[38;5;241;43m.\u001b[39;49m\u001b[43mcall_function\u001b[49m\u001b[43m(\u001b[49m\n\u001b[0;32m    252\u001b[0m \u001b[43m        \u001b[49m\u001b[38;5;28;43mself\u001b[39;49m\u001b[38;5;241;43m.\u001b[39;49m\u001b[43mname\u001b[49m\u001b[43m,\u001b[49m\n\u001b[0;32m    253\u001b[0m \u001b[43m        \u001b[49m\u001b[38;5;28;43mlist\u001b[39;49m\u001b[43m(\u001b[49m\u001b[43margs\u001b[49m\u001b[43m)\u001b[49m\u001b[43m,\u001b[49m\n\u001b[0;32m    254\u001b[0m \u001b[43m        \u001b[49m\u001b[38;5;28;43mlen\u001b[39;49m\u001b[43m(\u001b[49m\u001b[38;5;28;43mself\u001b[39;49m\u001b[38;5;241;43m.\u001b[39;49m\u001b[43mfunction_type\u001b[49m\u001b[38;5;241;43m.\u001b[39;49m\u001b[43mflat_outputs\u001b[49m\u001b[43m)\u001b[49m\u001b[43m,\u001b[49m\n\u001b[0;32m    255\u001b[0m \u001b[43m    \u001b[49m\u001b[43m)\u001b[49m\n\u001b[0;32m    256\u001b[0m   \u001b[38;5;28;01melse\u001b[39;00m:\n\u001b[0;32m    257\u001b[0m     outputs \u001b[38;5;241m=\u001b[39m make_call_op_in_graph(\n\u001b[0;32m    258\u001b[0m         \u001b[38;5;28mself\u001b[39m,\n\u001b[0;32m    259\u001b[0m         \u001b[38;5;28mlist\u001b[39m(args),\n\u001b[0;32m    260\u001b[0m         \u001b[38;5;28mself\u001b[39m\u001b[38;5;241m.\u001b[39m_bound_context\u001b[38;5;241m.\u001b[39mfunction_call_options\u001b[38;5;241m.\u001b[39mas_attrs(),\n\u001b[0;32m    261\u001b[0m     )\n",
      "File \u001b[1;32m~\\AppData\\Roaming\\Python\\Python310\\site-packages\\tensorflow\\python\\eager\\context.py:1500\u001b[0m, in \u001b[0;36mContext.call_function\u001b[1;34m(self, name, tensor_inputs, num_outputs)\u001b[0m\n\u001b[0;32m   1498\u001b[0m cancellation_context \u001b[38;5;241m=\u001b[39m cancellation\u001b[38;5;241m.\u001b[39mcontext()\n\u001b[0;32m   1499\u001b[0m \u001b[38;5;28;01mif\u001b[39;00m cancellation_context \u001b[38;5;129;01mis\u001b[39;00m \u001b[38;5;28;01mNone\u001b[39;00m:\n\u001b[1;32m-> 1500\u001b[0m   outputs \u001b[38;5;241m=\u001b[39m \u001b[43mexecute\u001b[49m\u001b[38;5;241;43m.\u001b[39;49m\u001b[43mexecute\u001b[49m\u001b[43m(\u001b[49m\n\u001b[0;32m   1501\u001b[0m \u001b[43m      \u001b[49m\u001b[43mname\u001b[49m\u001b[38;5;241;43m.\u001b[39;49m\u001b[43mdecode\u001b[49m\u001b[43m(\u001b[49m\u001b[38;5;124;43m\"\u001b[39;49m\u001b[38;5;124;43mutf-8\u001b[39;49m\u001b[38;5;124;43m\"\u001b[39;49m\u001b[43m)\u001b[49m\u001b[43m,\u001b[49m\n\u001b[0;32m   1502\u001b[0m \u001b[43m      \u001b[49m\u001b[43mnum_outputs\u001b[49m\u001b[38;5;241;43m=\u001b[39;49m\u001b[43mnum_outputs\u001b[49m\u001b[43m,\u001b[49m\n\u001b[0;32m   1503\u001b[0m \u001b[43m      \u001b[49m\u001b[43minputs\u001b[49m\u001b[38;5;241;43m=\u001b[39;49m\u001b[43mtensor_inputs\u001b[49m\u001b[43m,\u001b[49m\n\u001b[0;32m   1504\u001b[0m \u001b[43m      \u001b[49m\u001b[43mattrs\u001b[49m\u001b[38;5;241;43m=\u001b[39;49m\u001b[43mattrs\u001b[49m\u001b[43m,\u001b[49m\n\u001b[0;32m   1505\u001b[0m \u001b[43m      \u001b[49m\u001b[43mctx\u001b[49m\u001b[38;5;241;43m=\u001b[39;49m\u001b[38;5;28;43mself\u001b[39;49m\u001b[43m,\u001b[49m\n\u001b[0;32m   1506\u001b[0m \u001b[43m  \u001b[49m\u001b[43m)\u001b[49m\n\u001b[0;32m   1507\u001b[0m \u001b[38;5;28;01melse\u001b[39;00m:\n\u001b[0;32m   1508\u001b[0m   outputs \u001b[38;5;241m=\u001b[39m execute\u001b[38;5;241m.\u001b[39mexecute_with_cancellation(\n\u001b[0;32m   1509\u001b[0m       name\u001b[38;5;241m.\u001b[39mdecode(\u001b[38;5;124m\"\u001b[39m\u001b[38;5;124mutf-8\u001b[39m\u001b[38;5;124m\"\u001b[39m),\n\u001b[0;32m   1510\u001b[0m       num_outputs\u001b[38;5;241m=\u001b[39mnum_outputs,\n\u001b[1;32m   (...)\u001b[0m\n\u001b[0;32m   1514\u001b[0m       cancellation_manager\u001b[38;5;241m=\u001b[39mcancellation_context,\n\u001b[0;32m   1515\u001b[0m   )\n",
      "File \u001b[1;32m~\\AppData\\Roaming\\Python\\Python310\\site-packages\\tensorflow\\python\\eager\\execute.py:53\u001b[0m, in \u001b[0;36mquick_execute\u001b[1;34m(op_name, num_outputs, inputs, attrs, ctx, name)\u001b[0m\n\u001b[0;32m     51\u001b[0m \u001b[38;5;28;01mtry\u001b[39;00m:\n\u001b[0;32m     52\u001b[0m   ctx\u001b[38;5;241m.\u001b[39mensure_initialized()\n\u001b[1;32m---> 53\u001b[0m   tensors \u001b[38;5;241m=\u001b[39m \u001b[43mpywrap_tfe\u001b[49m\u001b[38;5;241;43m.\u001b[39;49m\u001b[43mTFE_Py_Execute\u001b[49m\u001b[43m(\u001b[49m\u001b[43mctx\u001b[49m\u001b[38;5;241;43m.\u001b[39;49m\u001b[43m_handle\u001b[49m\u001b[43m,\u001b[49m\u001b[43m \u001b[49m\u001b[43mdevice_name\u001b[49m\u001b[43m,\u001b[49m\u001b[43m \u001b[49m\u001b[43mop_name\u001b[49m\u001b[43m,\u001b[49m\n\u001b[0;32m     54\u001b[0m \u001b[43m                                      \u001b[49m\u001b[43minputs\u001b[49m\u001b[43m,\u001b[49m\u001b[43m \u001b[49m\u001b[43mattrs\u001b[49m\u001b[43m,\u001b[49m\u001b[43m \u001b[49m\u001b[43mnum_outputs\u001b[49m\u001b[43m)\u001b[49m\n\u001b[0;32m     55\u001b[0m \u001b[38;5;28;01mexcept\u001b[39;00m core\u001b[38;5;241m.\u001b[39m_NotOkStatusException \u001b[38;5;28;01mas\u001b[39;00m e:\n\u001b[0;32m     56\u001b[0m   \u001b[38;5;28;01mif\u001b[39;00m name \u001b[38;5;129;01mis\u001b[39;00m \u001b[38;5;129;01mnot\u001b[39;00m \u001b[38;5;28;01mNone\u001b[39;00m:\n",
      "\u001b[1;31mKeyboardInterrupt\u001b[0m: "
     ]
    }
   ],
   "source": [
    "# Run\n",
    "from numpy import dtype\n",
    "\n",
    "repeats = 2\n",
    "testingParameter = \"Timestep\"\n",
    "runMeter = 0\n",
    "results_acc = DataFrame(dtype='float')\n",
    "results_profit = DataFrame(dtype='float')\n",
    "results_profitOld = DataFrame(dtype='float')\n",
    "metrics = list()\n",
    "\n",
    "# vary training epochs\n",
    "learning_rate = 0.001\n",
    "model = 2 # [0, 1, 2, 3, 4]\n",
    "dropout = 0 # [0, 0.2, 0.4, 0.6, 0.8]\n",
    "denseType = 0\n",
    "neuronsLstm = 150\n",
    "epochs = 3\n",
    "\n",
    "timeStep = [10, 20, 50, 100, 150] # 150\n",
    "features = 0\n",
    "\n",
    "# # Data gen\n",
    "# x_train, x_test, y_train, y_test, Y_test = data(timeStep, features)\n",
    "\n",
    "# for dr in dropout:\n",
    "for tim in timeStep:\n",
    "    print(f\"{tim} {testingParameter} test start...\")\n",
    " \n",
    "    x_train, x_test, y_train, y_test, Y_test = data(tim, features)\n",
    "\n",
    "    #  Profit list\n",
    "    profitListSaveModel = list()\n",
    "\n",
    "    # Experiment\n",
    "    results_acc[str(tim)], results_profit[str(tim)], results_profitOld[str(tim)], metrics = experiment(\n",
    "                                                                                            runMeter, \n",
    "                                                                                            repeats, \n",
    "                                                                                            epochs, \n",
    "                                                                                            neuronsLstm, \n",
    "                                                                                            tim, \n",
    "                                                                                            denseType, \n",
    "                                                                                            dropout, \n",
    "                                                                                            model, \n",
    "                                                                                            features, \n",
    "                                                                                            learning_rate\n",
    "                                                                                            )\n",
    "    # runMeter commented if next loop parameter has different model weights  \n",
    "    #  runMeter += 1\n",
    "\n",
    "    plotsOut(tim, metrics)\n",
    "\n",
    "# summarize results\n",
    "print(results_acc.describe())\n",
    "print(results_profit.describe())\n",
    "print(results_profitOld.describe())"
   ]
  },
  {
   "cell_type": "code",
   "execution_count": null,
   "metadata": {},
   "outputs": [
    {
     "name": "stdout",
     "output_type": "stream",
     "text": [
      "               0        0.2        0.4        0.6       0.8\n",
      "count   1.000000   1.000000   1.000000   1.000000   1.00000\n",
      "mean   68.203074  69.071478  68.315506  66.666669  67.60841\n",
      "std          NaN        NaN        NaN        NaN       NaN\n",
      "min    68.203074  69.071478  68.315506  66.666669  67.60841\n",
      "25%    68.203074  69.071478  68.315506  66.666669  67.60841\n",
      "50%    68.203074  69.071478  68.315506  66.666669  67.60841\n",
      "75%    68.203074  69.071478  68.315506  66.666669  67.60841\n",
      "max    68.203074  69.071478  68.315506  66.666669  67.60841\n",
      "          0   0.2   0.4   0.6   0.8\n",
      "count  1.00  1.00  1.00  1.00  1.00\n",
      "mean   5.92  5.36  2.25  0.68  0.37\n",
      "std     NaN   NaN   NaN   NaN   NaN\n",
      "min    5.92  5.36  2.25  0.68  0.37\n",
      "25%    5.92  5.36  2.25  0.68  0.37\n",
      "50%    5.92  5.36  2.25  0.68  0.37\n",
      "75%    5.92  5.36  2.25  0.68  0.37\n",
      "max    5.92  5.36  2.25  0.68  0.37\n"
     ]
    }
   ],
   "source": [
    "# summarize results\n",
    "print(results_acc.describe())\n",
    "print(results_profit.describe())"
   ]
  },
  {
   "cell_type": "code",
   "execution_count": null,
   "metadata": {},
   "outputs": [
    {
     "name": "stdout",
     "output_type": "stream",
     "text": [
      "               0        0.2        0.4        0.6       0.8\n",
      "count   1.000000   1.000000   1.000000   1.000000   1.00000\n",
      "mean   68.203074  69.071478  68.315506  66.666669  67.60841\n",
      "std          NaN        NaN        NaN        NaN       NaN\n",
      "min    68.203074  69.071478  68.315506  66.666669  67.60841\n",
      "25%    68.203074  69.071478  68.315506  66.666669  67.60841\n",
      "50%    68.203074  69.071478  68.315506  66.666669  67.60841\n",
      "75%    68.203074  69.071478  68.315506  66.666669  67.60841\n",
      "max    68.203074  69.071478  68.315506  66.666669  67.60841\n"
     ]
    },
    {
     "data": {
      "image/png": "[encoded data removed]",
      "text/plain": [
       "<Figure size 1000x600 with 3 Axes>"
      ]
     },
     "metadata": {},
     "output_type": "display_data"
    }
   ],
   "source": [
    "%matplotlib inline\n",
    "print(results_acc.describe())\n",
    "\n",
    "# 2 subplots in one row\n",
    "fig, ax = plt.subplots(1, 2, figsize=(10, 6))\n",
    "\n",
    "# Generate boxplots\n",
    "results_acc.boxplot(ax=ax[0])\n",
    "results_profit.boxplot(ax=ax[1])\n",
    "\n",
    "# Set labels and titles\n",
    "ax[0].set_title('Accuracy')\n",
    "ax[0].set_xlabel('Model')\n",
    "ax[0].set_ylabel('Accuracy')\n",
    "ax[1].set_title('Profit')\n",
    "ax[1].set_xlabel('Model')\n",
    "ax[1].set_ylabel('Profit')\n",
    "\n",
    "# Save to .png and show plot\n",
    "plt.savefig(f'boxplot_{testingParameter}.png')\n",
    "plt.show()"
   ]
  },
  {
   "cell_type": "code",
   "execution_count": 8,
   "metadata": {},
   "outputs": [
    {
     "name": "stdout",
     "output_type": "stream",
     "text": [
      "\u001b[1m83/83\u001b[0m \u001b[32m━━━━━━━━━━━━━━━━━━━━\u001b[0m\u001b[37m\u001b[0m \u001b[1m5s\u001b[0m 47ms/step\n"
     ]
    }
   ],
   "source": [
    "batch_size = 64\n",
    "model = load_model('./results/18/saved_models/best_model_Timestep_10.keras')\n",
    "predict = model.predict(x_test, batch_size=batch_size)"
   ]
  },
  {
   "cell_type": "code",
   "execution_count": 79,
   "metadata": {},
   "outputs": [
    {
     "data": {
      "application/vnd.plotly.v1+json": {
       "config": {
        "plotlyServerURL": "https://plot.ly"
       },
       "data": [
        {
         "line": {
          "color": "gray"
         },
         "showlegend": false,
         "type": "scatter",
         "x": [
          999,
          1000
         ],
         "y": [
          77.91,
          77.97
         ]
        },
        {
         "line": {
          "color": "green"
         },
         "showlegend": false,
         "type": "scatter",
         "x": [
          1000,
          1001
         ],
         "y": [
          77.97,
          77.85
         ]
        },
        {
         "line": {
          "color": "gray"
         },
         "showlegend": false,
         "type": "scatter",
         "x": [
          1001,
          1002
         ],
         "y": [
          77.85,
          77.83
         ]
        },
        {
         "line": {
          "color": "gray"
         },
         "showlegend": false,
         "type": "scatter",
         "x": [
          1002,
          1003
         ],
         "y": [
          77.83,
          77.84
         ]
        },
        {
         "line": {
          "color": "gray"
         },
         "showlegend": false,
         "type": "scatter",
         "x": [
          1003,
          1004
         ],
         "y": [
          77.84,
          77.86
         ]
        },
        {
         "line": {
          "color": "gray"
         },
         "showlegend": false,
         "type": "scatter",
         "x": [
          1004,
          1005
         ],
         "y": [
          77.86,
          77.94
         ]
        },
        {
         "line": {
          "color": "green"
         },
         "showlegend": false,
         "type": "scatter",
         "x": [
          1005,
          1006
         ],
         "y": [
          77.94,
          78.03
         ]
        },
        {
         "line": {
          "color": "green"
         },
         "showlegend": false,
         "type": "scatter",
         "x": [
          1006,
          1007
         ],
         "y": [
          78.03,
          78.04
         ]
        },
        {
         "line": {
          "color": "green"
         },
         "showlegend": false,
         "type": "scatter",
         "x": [
          1007,
          1008
         ],
         "y": [
          78.04,
          78.05
         ]
        },
        {
         "line": {
          "color": "green"
         },
         "showlegend": false,
         "type": "scatter",
         "x": [
          1008,
          1009
         ],
         "y": [
          78.05,
          78.14
         ]
        },
        {
         "line": {
          "color": "green"
         },
         "showlegend": false,
         "type": "scatter",
         "x": [
          1009,
          1010
         ],
         "y": [
          78.14,
          78.06
         ]
        },
        {
         "line": {
          "color": "green"
         },
         "showlegend": false,
         "type": "scatter",
         "x": [
          1010,
          1011
         ],
         "y": [
          78.06,
          78.13
         ]
        },
        {
         "line": {
          "color": "green"
         },
         "showlegend": false,
         "type": "scatter",
         "x": [
          1011,
          1012
         ],
         "y": [
          78.13,
          78.16
         ]
        },
        {
         "line": {
          "color": "green"
         },
         "showlegend": false,
         "type": "scatter",
         "x": [
          1012,
          1013
         ],
         "y": [
          78.16,
          78.19
         ]
        },
        {
         "line": {
          "color": "green"
         },
         "showlegend": false,
         "type": "scatter",
         "x": [
          1013,
          1014
         ],
         "y": [
          78.19,
          78.25
         ]
        },
        {
         "line": {
          "color": "green"
         },
         "showlegend": false,
         "type": "scatter",
         "x": [
          1014,
          1015
         ],
         "y": [
          78.25,
          78.22
         ]
        },
        {
         "line": {
          "color": "green"
         },
         "showlegend": false,
         "type": "scatter",
         "x": [
          1015,
          1016
         ],
         "y": [
          78.22,
          78.15
         ]
        },
        {
         "line": {
          "color": "green"
         },
         "showlegend": false,
         "type": "scatter",
         "x": [
          1016,
          1017
         ],
         "y": [
          78.15,
          78.14
         ]
        },
        {
         "line": {
          "color": "green"
         },
         "showlegend": false,
         "type": "scatter",
         "x": [
          1017,
          1018
         ],
         "y": [
          78.14,
          78.07
         ]
        },
        {
         "line": {
          "color": "gray"
         },
         "showlegend": false,
         "type": "scatter",
         "x": [
          1018,
          1019
         ],
         "y": [
          78.07,
          78.17
         ]
        },
        {
         "line": {
          "color": "gray"
         },
         "showlegend": false,
         "type": "scatter",
         "x": [
          1019,
          1020
         ],
         "y": [
          78.17,
          78.23
         ]
        },
        {
         "line": {
          "color": "green"
         },
         "showlegend": false,
         "type": "scatter",
         "x": [
          1020,
          1021
         ],
         "y": [
          78.23,
          78.35
         ]
        },
        {
         "line": {
          "color": "green"
         },
         "showlegend": false,
         "type": "scatter",
         "x": [
          1021,
          1022
         ],
         "y": [
          78.35,
          78.39
         ]
        },
        {
         "line": {
          "color": "green"
         },
         "showlegend": false,
         "type": "scatter",
         "x": [
          1022,
          1023
         ],
         "y": [
          78.39,
          78.47
         ]
        },
        {
         "line": {
          "color": "green"
         },
         "showlegend": false,
         "type": "scatter",
         "x": [
          1023,
          1024
         ],
         "y": [
          78.47,
          78.44
         ]
        },
        {
         "line": {
          "color": "green"
         },
         "showlegend": false,
         "type": "scatter",
         "x": [
          1024,
          1025
         ],
         "y": [
          78.44,
          78.5
         ]
        },
        {
         "line": {
          "color": "green"
         },
         "showlegend": false,
         "type": "scatter",
         "x": [
          1025,
          1026
         ],
         "y": [
          78.5,
          78.46
         ]
        },
        {
         "line": {
          "color": "green"
         },
         "showlegend": false,
         "type": "scatter",
         "x": [
          1026,
          1027
         ],
         "y": [
          78.46,
          78.47
         ]
        },
        {
         "line": {
          "color": "green"
         },
         "showlegend": false,
         "type": "scatter",
         "x": [
          1027,
          1028
         ],
         "y": [
          78.47,
          78.45
         ]
        },
        {
         "line": {
          "color": "green"
         },
         "showlegend": false,
         "type": "scatter",
         "x": [
          1028,
          1029
         ],
         "y": [
          78.45,
          78.44
         ]
        },
        {
         "line": {
          "color": "green"
         },
         "showlegend": false,
         "type": "scatter",
         "x": [
          1029,
          1030
         ],
         "y": [
          78.44,
          78.47
         ]
        },
        {
         "line": {
          "color": "green"
         },
         "showlegend": false,
         "type": "scatter",
         "x": [
          1030,
          1031
         ],
         "y": [
          78.47,
          78.5
         ]
        },
        {
         "line": {
          "color": "green"
         },
         "showlegend": false,
         "type": "scatter",
         "x": [
          1031,
          1032
         ],
         "y": [
          78.5,
          78.64
         ]
        },
        {
         "line": {
          "color": "green"
         },
         "showlegend": false,
         "type": "scatter",
         "x": [
          1032,
          1033
         ],
         "y": [
          78.64,
          78.52
         ]
        },
        {
         "line": {
          "color": "gray"
         },
         "showlegend": false,
         "type": "scatter",
         "x": [
          1033,
          1034
         ],
         "y": [
          78.52,
          78.47
         ]
        },
        {
         "line": {
          "color": "gray"
         },
         "showlegend": false,
         "type": "scatter",
         "x": [
          1034,
          1035
         ],
         "y": [
          78.47,
          78.57
         ]
        },
        {
         "line": {
          "color": "gray"
         },
         "showlegend": false,
         "type": "scatter",
         "x": [
          1035,
          1036
         ],
         "y": [
          78.57,
          78.56
         ]
        },
        {
         "line": {
          "color": "green"
         },
         "showlegend": false,
         "type": "scatter",
         "x": [
          1036,
          1037
         ],
         "y": [
          78.56,
          78.56
         ]
        },
        {
         "line": {
          "color": "green"
         },
         "showlegend": false,
         "type": "scatter",
         "x": [
          1037,
          1038
         ],
         "y": [
          78.56,
          78.6
         ]
        },
        {
         "line": {
          "color": "green"
         },
         "showlegend": false,
         "type": "scatter",
         "x": [
          1038,
          1039
         ],
         "y": [
          78.6,
          78.53
         ]
        },
        {
         "line": {
          "color": "gray"
         },
         "showlegend": false,
         "type": "scatter",
         "x": [
          1039,
          1040
         ],
         "y": [
          78.53,
          78.72
         ]
        },
        {
         "line": {
          "color": "green"
         },
         "showlegend": false,
         "type": "scatter",
         "x": [
          1040,
          1041
         ],
         "y": [
          78.72,
          78.66
         ]
        },
        {
         "line": {
          "color": "green"
         },
         "showlegend": false,
         "type": "scatter",
         "x": [
          1041,
          1042
         ],
         "y": [
          78.66,
          78.71
         ]
        },
        {
         "line": {
          "color": "green"
         },
         "showlegend": false,
         "type": "scatter",
         "x": [
          1042,
          1043
         ],
         "y": [
          78.71,
          78.56
         ]
        },
        {
         "line": {
          "color": "gray"
         },
         "showlegend": false,
         "type": "scatter",
         "x": [
          1043,
          1044
         ],
         "y": [
          78.56,
          78.55
         ]
        },
        {
         "line": {
          "color": "gray"
         },
         "showlegend": false,
         "type": "scatter",
         "x": [
          1044,
          1045
         ],
         "y": [
          78.55,
          78.6
         ]
        },
        {
         "line": {
          "color": "gray"
         },
         "showlegend": false,
         "type": "scatter",
         "x": [
          1045,
          1046
         ],
         "y": [
          78.6,
          78.56
         ]
        },
        {
         "line": {
          "color": "gray"
         },
         "showlegend": false,
         "type": "scatter",
         "x": [
          1046,
          1047
         ],
         "y": [
          78.56,
          78.61
         ]
        },
        {
         "line": {
          "color": "gray"
         },
         "showlegend": false,
         "type": "scatter",
         "x": [
          1047,
          1048
         ],
         "y": [
          78.61,
          78.41
         ]
        },
        {
         "line": {
          "color": "red"
         },
         "showlegend": false,
         "type": "scatter",
         "x": [
          1048,
          1049
         ],
         "y": [
          78.41,
          78.41
         ]
        },
        {
         "line": {
          "color": "red"
         },
         "showlegend": false,
         "type": "scatter",
         "x": [
          1049,
          1050
         ],
         "y": [
          78.41,
          78.41
         ]
        },
        {
         "line": {
          "color": "red"
         },
         "showlegend": false,
         "type": "scatter",
         "x": [
          1050,
          1051
         ],
         "y": [
          78.41,
          78.47
         ]
        },
        {
         "line": {
          "color": "gray"
         },
         "showlegend": false,
         "type": "scatter",
         "x": [
          1051,
          1052
         ],
         "y": [
          78.47,
          78.5
         ]
        },
        {
         "line": {
          "color": "gray"
         },
         "showlegend": false,
         "type": "scatter",
         "x": [
          1052,
          1053
         ],
         "y": [
          78.5,
          78.34
         ]
        },
        {
         "line": {
          "color": "red"
         },
         "showlegend": false,
         "type": "scatter",
         "x": [
          1053,
          1054
         ],
         "y": [
          78.34,
          78.4
         ]
        },
        {
         "line": {
          "color": "red"
         },
         "showlegend": false,
         "type": "scatter",
         "x": [
          1054,
          1055
         ],
         "y": [
          78.4,
          78.45
         ]
        },
        {
         "line": {
          "color": "gray"
         },
         "showlegend": false,
         "type": "scatter",
         "x": [
          1055,
          1056
         ],
         "y": [
          78.45,
          78.4
         ]
        },
        {
         "line": {
          "color": "gray"
         },
         "showlegend": false,
         "type": "scatter",
         "x": [
          1056,
          1057
         ],
         "y": [
          78.4,
          78.53
         ]
        },
        {
         "line": {
          "color": "gray"
         },
         "showlegend": false,
         "type": "scatter",
         "x": [
          1057,
          1058
         ],
         "y": [
          78.53,
          78.46
         ]
        },
        {
         "line": {
          "color": "gray"
         },
         "showlegend": false,
         "type": "scatter",
         "x": [
          1058,
          1059
         ],
         "y": [
          78.46,
          78.58
         ]
        },
        {
         "line": {
          "color": "green"
         },
         "showlegend": false,
         "type": "scatter",
         "x": [
          1059,
          1060
         ],
         "y": [
          78.58,
          78.53
         ]
        },
        {
         "line": {
          "color": "gray"
         },
         "showlegend": false,
         "type": "scatter",
         "x": [
          1060,
          1061
         ],
         "y": [
          78.53,
          78.71
         ]
        },
        {
         "line": {
          "color": "green"
         },
         "showlegend": false,
         "type": "scatter",
         "x": [
          1061,
          1062
         ],
         "y": [
          78.71,
          78.71
         ]
        },
        {
         "line": {
          "color": "green"
         },
         "showlegend": false,
         "type": "scatter",
         "x": [
          1062,
          1063
         ],
         "y": [
          78.71,
          78.65
         ]
        },
        {
         "line": {
          "color": "green"
         },
         "showlegend": false,
         "type": "scatter",
         "x": [
          1063,
          1064
         ],
         "y": [
          78.65,
          78.53
         ]
        },
        {
         "line": {
          "color": "gray"
         },
         "showlegend": false,
         "type": "scatter",
         "x": [
          1064,
          1065
         ],
         "y": [
          78.53,
          78.6
         ]
        },
        {
         "line": {
          "color": "green"
         },
         "showlegend": false,
         "type": "scatter",
         "x": [
          1065,
          1066
         ],
         "y": [
          78.6,
          78.83
         ]
        },
        {
         "line": {
          "color": "green"
         },
         "showlegend": false,
         "type": "scatter",
         "x": [
          1066,
          1067
         ],
         "y": [
          78.83,
          78.71
         ]
        },
        {
         "line": {
          "color": "green"
         },
         "showlegend": false,
         "type": "scatter",
         "x": [
          1067,
          1068
         ],
         "y": [
          78.71,
          78.72
         ]
        },
        {
         "line": {
          "color": "green"
         },
         "showlegend": false,
         "type": "scatter",
         "x": [
          1068,
          1069
         ],
         "y": [
          78.72,
          78.71
         ]
        },
        {
         "line": {
          "color": "green"
         },
         "showlegend": false,
         "type": "scatter",
         "x": [
          1069,
          1070
         ],
         "y": [
          78.71,
          78.76
         ]
        },
        {
         "line": {
          "color": "green"
         },
         "showlegend": false,
         "type": "scatter",
         "x": [
          1070,
          1071
         ],
         "y": [
          78.76,
          78.53
         ]
        },
        {
         "line": {
          "color": "gray"
         },
         "showlegend": false,
         "type": "scatter",
         "x": [
          1071,
          1072
         ],
         "y": [
          78.53,
          78.38
         ]
        },
        {
         "line": {
          "color": "red"
         },
         "showlegend": false,
         "type": "scatter",
         "x": [
          1072,
          1073
         ],
         "y": [
          78.38,
          78.38
         ]
        },
        {
         "line": {
          "color": "red"
         },
         "showlegend": false,
         "type": "scatter",
         "x": [
          1073,
          1074
         ],
         "y": [
          78.38,
          78.47
         ]
        },
        {
         "line": {
          "color": "gray"
         },
         "showlegend": false,
         "type": "scatter",
         "x": [
          1074,
          1075
         ],
         "y": [
          78.47,
          78.35
         ]
        },
        {
         "line": {
          "color": "red"
         },
         "showlegend": false,
         "type": "scatter",
         "x": [
          1075,
          1076
         ],
         "y": [
          78.35,
          78.28
         ]
        },
        {
         "line": {
          "color": "red"
         },
         "showlegend": false,
         "type": "scatter",
         "x": [
          1076,
          1077
         ],
         "y": [
          78.28,
          78.26
         ]
        },
        {
         "line": {
          "color": "red"
         },
         "showlegend": false,
         "type": "scatter",
         "x": [
          1077,
          1078
         ],
         "y": [
          78.26,
          78.47
         ]
        },
        {
         "line": {
          "color": "gray"
         },
         "showlegend": false,
         "type": "scatter",
         "x": [
          1078,
          1079
         ],
         "y": [
          78.47,
          78.43
         ]
        },
        {
         "line": {
          "color": "gray"
         },
         "showlegend": false,
         "type": "scatter",
         "x": [
          1079,
          1080
         ],
         "y": [
          78.43,
          78.5
         ]
        },
        {
         "line": {
          "color": "gray"
         },
         "showlegend": false,
         "type": "scatter",
         "x": [
          1080,
          1081
         ],
         "y": [
          78.5,
          78.58
         ]
        },
        {
         "line": {
          "color": "green"
         },
         "showlegend": false,
         "type": "scatter",
         "x": [
          1081,
          1082
         ],
         "y": [
          78.58,
          78.71
         ]
        },
        {
         "line": {
          "color": "green"
         },
         "showlegend": false,
         "type": "scatter",
         "x": [
          1082,
          1083
         ],
         "y": [
          78.71,
          78.7
         ]
        },
        {
         "line": {
          "color": "green"
         },
         "showlegend": false,
         "type": "scatter",
         "x": [
          1083,
          1084
         ],
         "y": [
          78.7,
          78.76
         ]
        },
        {
         "line": {
          "color": "green"
         },
         "showlegend": false,
         "type": "scatter",
         "x": [
          1084,
          1085
         ],
         "y": [
          78.76,
          78.8
         ]
        },
        {
         "line": {
          "color": "green"
         },
         "showlegend": false,
         "type": "scatter",
         "x": [
          1085,
          1086
         ],
         "y": [
          78.8,
          78.89
         ]
        },
        {
         "line": {
          "color": "green"
         },
         "showlegend": false,
         "type": "scatter",
         "x": [
          1086,
          1087
         ],
         "y": [
          78.89,
          78.91
         ]
        },
        {
         "line": {
          "color": "green"
         },
         "showlegend": false,
         "type": "scatter",
         "x": [
          1087,
          1088
         ],
         "y": [
          78.91,
          78.82
         ]
        },
        {
         "line": {
          "color": "green"
         },
         "showlegend": false,
         "type": "scatter",
         "x": [
          1088,
          1089
         ],
         "y": [
          78.82,
          78.87
         ]
        },
        {
         "line": {
          "color": "green"
         },
         "showlegend": false,
         "type": "scatter",
         "x": [
          1089,
          1090
         ],
         "y": [
          78.87,
          78.92
         ]
        },
        {
         "line": {
          "color": "green"
         },
         "showlegend": false,
         "type": "scatter",
         "x": [
          1090,
          1091
         ],
         "y": [
          78.92,
          78.91
         ]
        },
        {
         "line": {
          "color": "green"
         },
         "showlegend": false,
         "type": "scatter",
         "x": [
          1091,
          1092
         ],
         "y": [
          78.91,
          78.98
         ]
        },
        {
         "line": {
          "color": "green"
         },
         "showlegend": false,
         "type": "scatter",
         "x": [
          1092,
          1093
         ],
         "y": [
          78.98,
          78.16
         ]
        },
        {
         "line": {
          "color": "red"
         },
         "showlegend": false,
         "type": "scatter",
         "x": [
          1093,
          1094
         ],
         "y": [
          78.16,
          78.47
         ]
        },
        {
         "line": {
          "color": "gray"
         },
         "showlegend": false,
         "type": "scatter",
         "x": [
          1094,
          1095
         ],
         "y": [
          78.47,
          78.66
         ]
        },
        {
         "line": {
          "color": "gray"
         },
         "showlegend": false,
         "type": "scatter",
         "x": [
          1095,
          1096
         ],
         "y": [
          78.66,
          78.46
         ]
        },
        {
         "line": {
          "color": "gray"
         },
         "showlegend": false,
         "type": "scatter",
         "x": [
          1096,
          1097
         ],
         "y": [
          78.46,
          78.67
         ]
        },
        {
         "line": {
          "color": "gray"
         },
         "showlegend": false,
         "type": "scatter",
         "x": [
          1097,
          1098
         ],
         "y": [
          78.67,
          78.64
         ]
        },
        {
         "line": {
          "color": "gray"
         },
         "showlegend": false,
         "type": "scatter",
         "x": [
          1098,
          1099
         ],
         "y": [
          78.64,
          78.59
         ]
        },
        {
         "line": {
          "color": "gray"
         },
         "showlegend": false,
         "type": "scatter",
         "x": [
          1099,
          1100
         ],
         "y": [
          78.59,
          78.48
         ]
        },
        {
         "line": {
          "color": "gray"
         },
         "showlegend": false,
         "type": "scatter",
         "x": [
          1100,
          1101
         ],
         "y": [
          78.48,
          78.31
         ]
        },
        {
         "line": {
          "color": "red"
         },
         "showlegend": false,
         "type": "scatter",
         "x": [
          1101,
          1102
         ],
         "y": [
          78.31,
          78.26
         ]
        },
        {
         "line": {
          "color": "red"
         },
         "showlegend": false,
         "type": "scatter",
         "x": [
          1102,
          1103
         ],
         "y": [
          78.26,
          78.29
         ]
        },
        {
         "line": {
          "color": "red"
         },
         "showlegend": false,
         "type": "scatter",
         "x": [
          1103,
          1104
         ],
         "y": [
          78.29,
          78.42
         ]
        },
        {
         "line": {
          "color": "gray"
         },
         "showlegend": false,
         "type": "scatter",
         "x": [
          1104,
          1105
         ],
         "y": [
          78.42,
          78.34
         ]
        },
        {
         "line": {
          "color": "gray"
         },
         "showlegend": false,
         "type": "scatter",
         "x": [
          1105,
          1106
         ],
         "y": [
          78.34,
          78.31
         ]
        },
        {
         "line": {
          "color": "gray"
         },
         "showlegend": false,
         "type": "scatter",
         "x": [
          1106,
          1107
         ],
         "y": [
          78.31,
          78.54
         ]
        },
        {
         "line": {
          "color": "gray"
         },
         "showlegend": false,
         "type": "scatter",
         "x": [
          1107,
          1108
         ],
         "y": [
          78.54,
          78.62
         ]
        },
        {
         "line": {
          "color": "gray"
         },
         "showlegend": false,
         "type": "scatter",
         "x": [
          1108,
          1109
         ],
         "y": [
          78.62,
          78.51
         ]
        },
        {
         "line": {
          "color": "gray"
         },
         "showlegend": false,
         "type": "scatter",
         "x": [
          1109,
          1110
         ],
         "y": [
          78.51,
          78.64
         ]
        },
        {
         "line": {
          "color": "gray"
         },
         "showlegend": false,
         "type": "scatter",
         "x": [
          1110,
          1111
         ],
         "y": [
          78.64,
          78.67
         ]
        },
        {
         "line": {
          "color": "green"
         },
         "showlegend": false,
         "type": "scatter",
         "x": [
          1111,
          1112
         ],
         "y": [
          78.67,
          78.65
         ]
        },
        {
         "line": {
          "color": "green"
         },
         "showlegend": false,
         "type": "scatter",
         "x": [
          1112,
          1113
         ],
         "y": [
          78.65,
          78.54
         ]
        },
        {
         "line": {
          "color": "gray"
         },
         "showlegend": false,
         "type": "scatter",
         "x": [
          1113,
          1114
         ],
         "y": [
          78.54,
          78.54
         ]
        },
        {
         "line": {
          "color": "gray"
         },
         "showlegend": false,
         "type": "scatter",
         "x": [
          1114,
          1115
         ],
         "y": [
          78.54,
          78.46
         ]
        },
        {
         "line": {
          "color": "gray"
         },
         "showlegend": false,
         "type": "scatter",
         "x": [
          1115,
          1116
         ],
         "y": [
          78.46,
          78.28
         ]
        },
        {
         "line": {
          "color": "red"
         },
         "showlegend": false,
         "type": "scatter",
         "x": [
          1116,
          1117
         ],
         "y": [
          78.28,
          78.37
         ]
        },
        {
         "line": {
          "color": "red"
         },
         "showlegend": false,
         "type": "scatter",
         "x": [
          1117,
          1118
         ],
         "y": [
          78.37,
          78.65
         ]
        },
        {
         "line": {
          "color": "green"
         },
         "showlegend": false,
         "type": "scatter",
         "x": [
          1118,
          1119
         ],
         "y": [
          78.65,
          78.74
         ]
        },
        {
         "line": {
          "color": "green"
         },
         "showlegend": false,
         "type": "scatter",
         "x": [
          1119,
          1120
         ],
         "y": [
          78.74,
          78.75
         ]
        },
        {
         "line": {
          "color": "green"
         },
         "showlegend": false,
         "type": "scatter",
         "x": [
          1120,
          1121
         ],
         "y": [
          78.75,
          78.77
         ]
        },
        {
         "line": {
          "color": "green"
         },
         "showlegend": false,
         "type": "scatter",
         "x": [
          1121,
          1122
         ],
         "y": [
          78.77,
          78.75
         ]
        },
        {
         "line": {
          "color": "green"
         },
         "showlegend": false,
         "type": "scatter",
         "x": [
          1122,
          1123
         ],
         "y": [
          78.75,
          78.77
         ]
        },
        {
         "line": {
          "color": "green"
         },
         "showlegend": false,
         "type": "scatter",
         "x": [
          1123,
          1124
         ],
         "y": [
          78.77,
          78.76
         ]
        },
        {
         "line": {
          "color": "green"
         },
         "showlegend": false,
         "type": "scatter",
         "x": [
          1124,
          1125
         ],
         "y": [
          78.76,
          78.78
         ]
        },
        {
         "line": {
          "color": "green"
         },
         "showlegend": false,
         "type": "scatter",
         "x": [
          1125,
          1126
         ],
         "y": [
          78.78,
          78.78
         ]
        },
        {
         "line": {
          "color": "green"
         },
         "showlegend": false,
         "type": "scatter",
         "x": [
          1126,
          1127
         ],
         "y": [
          78.78,
          78.75
         ]
        },
        {
         "line": {
          "color": "green"
         },
         "showlegend": false,
         "type": "scatter",
         "x": [
          1127,
          1128
         ],
         "y": [
          78.75,
          78.73
         ]
        },
        {
         "line": {
          "color": "green"
         },
         "showlegend": false,
         "type": "scatter",
         "x": [
          1128,
          1129
         ],
         "y": [
          78.73,
          78.66
         ]
        },
        {
         "line": {
          "color": "gray"
         },
         "showlegend": false,
         "type": "scatter",
         "x": [
          1129,
          1130
         ],
         "y": [
          78.66,
          78.67
         ]
        },
        {
         "line": {
          "color": "gray"
         },
         "showlegend": false,
         "type": "scatter",
         "x": [
          1130,
          1131
         ],
         "y": [
          78.67,
          78.67
         ]
        },
        {
         "line": {
          "color": "gray"
         },
         "showlegend": false,
         "type": "scatter",
         "x": [
          1131,
          1132
         ],
         "y": [
          78.67,
          78.65
         ]
        },
        {
         "line": {
          "color": "gray"
         },
         "showlegend": false,
         "type": "scatter",
         "x": [
          1132,
          1133
         ],
         "y": [
          78.65,
          78.68
         ]
        },
        {
         "line": {
          "color": "gray"
         },
         "showlegend": false,
         "type": "scatter",
         "x": [
          1133,
          1134
         ],
         "y": [
          78.68,
          78.7
         ]
        },
        {
         "line": {
          "color": "gray"
         },
         "showlegend": false,
         "type": "scatter",
         "x": [
          1134,
          1135
         ],
         "y": [
          78.7,
          78.68
         ]
        },
        {
         "line": {
          "color": "gray"
         },
         "showlegend": false,
         "type": "scatter",
         "x": [
          1135,
          1136
         ],
         "y": [
          78.68,
          78.67
         ]
        },
        {
         "line": {
          "color": "gray"
         },
         "showlegend": false,
         "type": "scatter",
         "x": [
          1136,
          1137
         ],
         "y": [
          78.67,
          78.69
         ]
        },
        {
         "line": {
          "color": "gray"
         },
         "showlegend": false,
         "type": "scatter",
         "x": [
          1137,
          1138
         ],
         "y": [
          78.69,
          78.65
         ]
        },
        {
         "line": {
          "color": "red"
         },
         "showlegend": false,
         "type": "scatter",
         "x": [
          1138,
          1139
         ],
         "y": [
          78.65,
          78.67
         ]
        },
        {
         "line": {
          "color": "red"
         },
         "showlegend": false,
         "type": "scatter",
         "x": [
          1139,
          1140
         ],
         "y": [
          78.67,
          78.66
         ]
        },
        {
         "line": {
          "color": "red"
         },
         "showlegend": false,
         "type": "scatter",
         "x": [
          1140,
          1141
         ],
         "y": [
          78.66,
          78.68
         ]
        },
        {
         "line": {
          "color": "gray"
         },
         "showlegend": false,
         "type": "scatter",
         "x": [
          1141,
          1142
         ],
         "y": [
          78.68,
          78.66
         ]
        },
        {
         "line": {
          "color": "red"
         },
         "showlegend": false,
         "type": "scatter",
         "x": [
          1142,
          1143
         ],
         "y": [
          78.66,
          78.69
         ]
        },
        {
         "line": {
          "color": "gray"
         },
         "showlegend": false,
         "type": "scatter",
         "x": [
          1143,
          1144
         ],
         "y": [
          78.69,
          78.71
         ]
        },
        {
         "line": {
          "color": "gray"
         },
         "showlegend": false,
         "type": "scatter",
         "x": [
          1144,
          1145
         ],
         "y": [
          78.71,
          78.68
         ]
        },
        {
         "line": {
          "color": "gray"
         },
         "showlegend": false,
         "type": "scatter",
         "x": [
          1145,
          1146
         ],
         "y": [
          78.68,
          78.68
         ]
        },
        {
         "line": {
          "color": "gray"
         },
         "showlegend": false,
         "type": "scatter",
         "x": [
          1146,
          1147
         ],
         "y": [
          78.68,
          78.67
         ]
        },
        {
         "line": {
          "color": "gray"
         },
         "showlegend": false,
         "type": "scatter",
         "x": [
          1147,
          1148
         ],
         "y": [
          78.67,
          78.62
         ]
        },
        {
         "line": {
          "color": "red"
         },
         "showlegend": false,
         "type": "scatter",
         "x": [
          1148,
          1149
         ],
         "y": [
          78.62,
          78.61
         ]
        },
        {
         "line": {
          "color": "gray"
         },
         "showlegend": false,
         "type": "scatter",
         "x": [
          1149,
          1150
         ],
         "y": [
          78.61,
          78.64
         ]
        },
        {
         "line": {
          "color": "gray"
         },
         "showlegend": false,
         "type": "scatter",
         "x": [
          1150,
          1151
         ],
         "y": [
          78.64,
          78.72
         ]
        },
        {
         "line": {
          "color": "gray"
         },
         "showlegend": false,
         "type": "scatter",
         "x": [
          1151,
          1152
         ],
         "y": [
          78.72,
          78.7
         ]
        },
        {
         "line": {
          "color": "gray"
         },
         "showlegend": false,
         "type": "scatter",
         "x": [
          1152,
          1153
         ],
         "y": [
          78.7,
          78.75
         ]
        },
        {
         "line": {
          "color": "gray"
         },
         "showlegend": false,
         "type": "scatter",
         "x": [
          1153,
          1154
         ],
         "y": [
          78.75,
          78.74
         ]
        },
        {
         "line": {
          "color": "green"
         },
         "showlegend": false,
         "type": "scatter",
         "x": [
          1154,
          1155
         ],
         "y": [
          78.74,
          78.74
         ]
        },
        {
         "line": {
          "color": "green"
         },
         "showlegend": false,
         "type": "scatter",
         "x": [
          1155,
          1156
         ],
         "y": [
          78.74,
          78.74
         ]
        },
        {
         "line": {
          "color": "green"
         },
         "showlegend": false,
         "type": "scatter",
         "x": [
          1156,
          1157
         ],
         "y": [
          78.74,
          78.74
         ]
        },
        {
         "line": {
          "color": "green"
         },
         "showlegend": false,
         "type": "scatter",
         "x": [
          1157,
          1158
         ],
         "y": [
          78.74,
          78.86
         ]
        },
        {
         "line": {
          "color": "green"
         },
         "showlegend": false,
         "type": "scatter",
         "x": [
          1158,
          1159
         ],
         "y": [
          78.86,
          78.89
         ]
        },
        {
         "line": {
          "color": "green"
         },
         "showlegend": false,
         "type": "scatter",
         "x": [
          1159,
          1160
         ],
         "y": [
          78.89,
          78.92
         ]
        },
        {
         "line": {
          "color": "green"
         },
         "showlegend": false,
         "type": "scatter",
         "x": [
          1160,
          1161
         ],
         "y": [
          78.92,
          78.9
         ]
        },
        {
         "line": {
          "color": "green"
         },
         "showlegend": false,
         "type": "scatter",
         "x": [
          1161,
          1162
         ],
         "y": [
          78.9,
          78.85
         ]
        },
        {
         "line": {
          "color": "gray"
         },
         "showlegend": false,
         "type": "scatter",
         "x": [
          1162,
          1163
         ],
         "y": [
          78.85,
          78.8
         ]
        },
        {
         "line": {
          "color": "gray"
         },
         "showlegend": false,
         "type": "scatter",
         "x": [
          1163,
          1164
         ],
         "y": [
          78.8,
          78.87
         ]
        },
        {
         "line": {
          "color": "green"
         },
         "showlegend": false,
         "type": "scatter",
         "x": [
          1164,
          1165
         ],
         "y": [
          78.87,
          78.78
         ]
        },
        {
         "line": {
          "color": "gray"
         },
         "showlegend": false,
         "type": "scatter",
         "x": [
          1165,
          1166
         ],
         "y": [
          78.78,
          78.76
         ]
        },
        {
         "line": {
          "color": "red"
         },
         "showlegend": false,
         "type": "scatter",
         "x": [
          1166,
          1167
         ],
         "y": [
          78.76,
          78.76
         ]
        },
        {
         "line": {
          "color": "red"
         },
         "showlegend": false,
         "type": "scatter",
         "x": [
          1167,
          1168
         ],
         "y": [
          78.76,
          78.81
         ]
        },
        {
         "line": {
          "color": "gray"
         },
         "showlegend": false,
         "type": "scatter",
         "x": [
          1168,
          1169
         ],
         "y": [
          78.81,
          78.85
         ]
        },
        {
         "line": {
          "color": "gray"
         },
         "showlegend": false,
         "type": "scatter",
         "x": [
          1169,
          1170
         ],
         "y": [
          78.85,
          78.88
         ]
        },
        {
         "line": {
          "color": "gray"
         },
         "showlegend": false,
         "type": "scatter",
         "x": [
          1170,
          1171
         ],
         "y": [
          78.88,
          78.85
         ]
        },
        {
         "line": {
          "color": "gray"
         },
         "showlegend": false,
         "type": "scatter",
         "x": [
          1171,
          1172
         ],
         "y": [
          78.85,
          78.82
         ]
        },
        {
         "line": {
          "color": "gray"
         },
         "showlegend": false,
         "type": "scatter",
         "x": [
          1172,
          1173
         ],
         "y": [
          78.82,
          78.82
         ]
        },
        {
         "line": {
          "color": "gray"
         },
         "showlegend": false,
         "type": "scatter",
         "x": [
          1173,
          1174
         ],
         "y": [
          78.82,
          78.84
         ]
        },
        {
         "line": {
          "color": "gray"
         },
         "showlegend": false,
         "type": "scatter",
         "x": [
          1174,
          1175
         ],
         "y": [
          78.84,
          78.81
         ]
        },
        {
         "line": {
          "color": "red"
         },
         "showlegend": false,
         "type": "scatter",
         "x": [
          1175,
          1176
         ],
         "y": [
          78.81,
          78.76
         ]
        },
        {
         "line": {
          "color": "red"
         },
         "showlegend": false,
         "type": "scatter",
         "x": [
          1176,
          1177
         ],
         "y": [
          78.76,
          78.71
         ]
        },
        {
         "line": {
          "color": "red"
         },
         "showlegend": false,
         "type": "scatter",
         "x": [
          1177,
          1178
         ],
         "y": [
          78.71,
          78.74
         ]
        },
        {
         "line": {
          "color": "red"
         },
         "showlegend": false,
         "type": "scatter",
         "x": [
          1178,
          1179
         ],
         "y": [
          78.74,
          78.75
         ]
        },
        {
         "line": {
          "color": "red"
         },
         "showlegend": false,
         "type": "scatter",
         "x": [
          1179,
          1180
         ],
         "y": [
          78.75,
          78.75
         ]
        },
        {
         "line": {
          "color": "gray"
         },
         "showlegend": false,
         "type": "scatter",
         "x": [
          1180,
          1181
         ],
         "y": [
          78.75,
          78.73
         ]
        },
        {
         "line": {
          "color": "red"
         },
         "showlegend": false,
         "type": "scatter",
         "x": [
          1181,
          1182
         ],
         "y": [
          78.73,
          78.69
         ]
        },
        {
         "line": {
          "color": "red"
         },
         "showlegend": false,
         "type": "scatter",
         "x": [
          1182,
          1183
         ],
         "y": [
          78.69,
          78.67
         ]
        },
        {
         "line": {
          "color": "red"
         },
         "showlegend": false,
         "type": "scatter",
         "x": [
          1183,
          1184
         ],
         "y": [
          78.67,
          78.66
         ]
        },
        {
         "line": {
          "color": "red"
         },
         "showlegend": false,
         "type": "scatter",
         "x": [
          1184,
          1185
         ],
         "y": [
          78.66,
          78.7
         ]
        },
        {
         "line": {
          "color": "gray"
         },
         "showlegend": false,
         "type": "scatter",
         "x": [
          1185,
          1186
         ],
         "y": [
          78.7,
          78.69
         ]
        },
        {
         "line": {
          "color": "gray"
         },
         "showlegend": false,
         "type": "scatter",
         "x": [
          1186,
          1187
         ],
         "y": [
          78.69,
          78.72
         ]
        },
        {
         "line": {
          "color": "gray"
         },
         "showlegend": false,
         "type": "scatter",
         "x": [
          1187,
          1188
         ],
         "y": [
          78.72,
          78.73
         ]
        },
        {
         "line": {
          "color": "green"
         },
         "showlegend": false,
         "type": "scatter",
         "x": [
          1188,
          1189
         ],
         "y": [
          78.73,
          78.74
         ]
        },
        {
         "line": {
          "color": "green"
         },
         "showlegend": false,
         "type": "scatter",
         "x": [
          1189,
          1190
         ],
         "y": [
          78.74,
          78.73
         ]
        },
        {
         "line": {
          "color": "green"
         },
         "showlegend": false,
         "type": "scatter",
         "x": [
          1190,
          1191
         ],
         "y": [
          78.73,
          78.72
         ]
        },
        {
         "line": {
          "color": "green"
         },
         "showlegend": false,
         "type": "scatter",
         "x": [
          1191,
          1192
         ],
         "y": [
          78.72,
          78.72
         ]
        },
        {
         "line": {
          "color": "gray"
         },
         "showlegend": false,
         "type": "scatter",
         "x": [
          1192,
          1193
         ],
         "y": [
          78.72,
          78.7
         ]
        },
        {
         "line": {
          "color": "gray"
         },
         "showlegend": false,
         "type": "scatter",
         "x": [
          1193,
          1194
         ],
         "y": [
          78.7,
          78.71
         ]
        },
        {
         "line": {
          "color": "gray"
         },
         "showlegend": false,
         "type": "scatter",
         "x": [
          1194,
          1195
         ],
         "y": [
          78.71,
          78.71
         ]
        },
        {
         "line": {
          "color": "gray"
         },
         "showlegend": false,
         "type": "scatter",
         "x": [
          1195,
          1196
         ],
         "y": [
          78.71,
          78.73
         ]
        },
        {
         "line": {
          "color": "green"
         },
         "showlegend": false,
         "type": "scatter",
         "x": [
          1196,
          1197
         ],
         "y": [
          78.73,
          78.74
         ]
        },
        {
         "line": {
          "color": "green"
         },
         "showlegend": false,
         "type": "scatter",
         "x": [
          1197,
          1198
         ],
         "y": [
          78.74,
          78.73
         ]
        },
        {
         "line": {
          "color": "green"
         },
         "showlegend": false,
         "type": "scatter",
         "x": [
          1198,
          1199
         ],
         "y": [
          78.73,
          78.74
         ]
        },
        {
         "line": {
          "color": "green"
         },
         "showlegend": false,
         "type": "scatter",
         "x": [
          1199,
          1200
         ],
         "y": [
          78.74,
          78.75
         ]
        },
        {
         "line": {
          "color": "green"
         },
         "showlegend": false,
         "type": "scatter",
         "x": [
          1200,
          1201
         ],
         "y": [
          78.75,
          78.78
         ]
        },
        {
         "line": {
          "color": "green"
         },
         "showlegend": false,
         "type": "scatter",
         "x": [
          1201,
          1202
         ],
         "y": [
          78.78,
          78.75
         ]
        },
        {
         "line": {
          "color": "gray"
         },
         "showlegend": false,
         "type": "scatter",
         "x": [
          1202,
          1203
         ],
         "y": [
          78.75,
          78.7
         ]
        },
        {
         "line": {
          "color": "gray"
         },
         "showlegend": false,
         "type": "scatter",
         "x": [
          1203,
          1204
         ],
         "y": [
          78.7,
          78.67
         ]
        },
        {
         "line": {
          "color": "red"
         },
         "showlegend": false,
         "type": "scatter",
         "x": [
          1204,
          1205
         ],
         "y": [
          78.67,
          78.66
         ]
        },
        {
         "line": {
          "color": "red"
         },
         "showlegend": false,
         "type": "scatter",
         "x": [
          1205,
          1206
         ],
         "y": [
          78.66,
          78.67
         ]
        },
        {
         "line": {
          "color": "red"
         },
         "showlegend": false,
         "type": "scatter",
         "x": [
          1206,
          1207
         ],
         "y": [
          78.67,
          78.65
         ]
        },
        {
         "line": {
          "color": "red"
         },
         "showlegend": false,
         "type": "scatter",
         "x": [
          1207,
          1208
         ],
         "y": [
          78.65,
          78.62
         ]
        },
        {
         "line": {
          "color": "red"
         },
         "showlegend": false,
         "type": "scatter",
         "x": [
          1208,
          1209
         ],
         "y": [
          78.62,
          78.59
         ]
        },
        {
         "line": {
          "color": "red"
         },
         "showlegend": false,
         "type": "scatter",
         "x": [
          1209,
          1210
         ],
         "y": [
          78.59,
          78.61
         ]
        },
        {
         "line": {
          "color": "red"
         },
         "showlegend": false,
         "type": "scatter",
         "x": [
          1210,
          1211
         ],
         "y": [
          78.61,
          78.59
         ]
        },
        {
         "line": {
          "color": "red"
         },
         "showlegend": false,
         "type": "scatter",
         "x": [
          1211,
          1212
         ],
         "y": [
          78.59,
          78.6
         ]
        },
        {
         "line": {
          "color": "red"
         },
         "showlegend": false,
         "type": "scatter",
         "x": [
          1212,
          1213
         ],
         "y": [
          78.6,
          78.6
         ]
        },
        {
         "line": {
          "color": "gray"
         },
         "showlegend": false,
         "type": "scatter",
         "x": [
          1213,
          1214
         ],
         "y": [
          78.6,
          78.62
         ]
        },
        {
         "line": {
          "color": "gray"
         },
         "showlegend": false,
         "type": "scatter",
         "x": [
          1214,
          1215
         ],
         "y": [
          78.62,
          78.63
         ]
        },
        {
         "line": {
          "color": "gray"
         },
         "showlegend": false,
         "type": "scatter",
         "x": [
          1215,
          1216
         ],
         "y": [
          78.63,
          78.64
         ]
        },
        {
         "line": {
          "color": "gray"
         },
         "showlegend": false,
         "type": "scatter",
         "x": [
          1216,
          1217
         ],
         "y": [
          78.64,
          78.65
         ]
        },
        {
         "line": {
          "color": "green"
         },
         "showlegend": false,
         "type": "scatter",
         "x": [
          1217,
          1218
         ],
         "y": [
          78.65,
          78.6
         ]
        },
        {
         "line": {
          "color": "red"
         },
         "showlegend": false,
         "type": "scatter",
         "x": [
          1218,
          1219
         ],
         "y": [
          78.6,
          78.63
         ]
        },
        {
         "line": {
          "color": "gray"
         },
         "showlegend": false,
         "type": "scatter",
         "x": [
          1219,
          1220
         ],
         "y": [
          78.63,
          78.6
         ]
        },
        {
         "line": {
          "color": "red"
         },
         "showlegend": false,
         "type": "scatter",
         "x": [
          1220,
          1221
         ],
         "y": [
          78.6,
          78.58
         ]
        },
        {
         "line": {
          "color": "red"
         },
         "showlegend": false,
         "type": "scatter",
         "x": [
          1221,
          1222
         ],
         "y": [
          78.58,
          78.56
         ]
        },
        {
         "line": {
          "color": "red"
         },
         "showlegend": false,
         "type": "scatter",
         "x": [
          1222,
          1223
         ],
         "y": [
          78.56,
          78.58
         ]
        },
        {
         "line": {
          "color": "gray"
         },
         "showlegend": false,
         "type": "scatter",
         "x": [
          1223,
          1224
         ],
         "y": [
          78.58,
          78.61
         ]
        },
        {
         "line": {
          "color": "green"
         },
         "showlegend": false,
         "type": "scatter",
         "x": [
          1224,
          1225
         ],
         "y": [
          78.61,
          78.61
         ]
        },
        {
         "line": {
          "color": "green"
         },
         "showlegend": false,
         "type": "scatter",
         "x": [
          1225,
          1226
         ],
         "y": [
          78.61,
          78.64
         ]
        },
        {
         "line": {
          "color": "green"
         },
         "showlegend": false,
         "type": "scatter",
         "x": [
          1226,
          1227
         ],
         "y": [
          78.64,
          78.63
         ]
        },
        {
         "line": {
          "color": "green"
         },
         "showlegend": false,
         "type": "scatter",
         "x": [
          1227,
          1228
         ],
         "y": [
          78.63,
          78.65
         ]
        },
        {
         "line": {
          "color": "green"
         },
         "showlegend": false,
         "type": "scatter",
         "x": [
          1228,
          1229
         ],
         "y": [
          78.65,
          78.6
         ]
        },
        {
         "line": {
          "color": "gray"
         },
         "showlegend": false,
         "type": "scatter",
         "x": [
          1229,
          1230
         ],
         "y": [
          78.6,
          78.5
         ]
        },
        {
         "line": {
          "color": "red"
         },
         "showlegend": false,
         "type": "scatter",
         "x": [
          1230,
          1231
         ],
         "y": [
          78.5,
          78.55
         ]
        },
        {
         "line": {
          "color": "gray"
         },
         "showlegend": false,
         "type": "scatter",
         "x": [
          1231,
          1232
         ],
         "y": [
          78.55,
          78.53
         ]
        },
        {
         "line": {
          "color": "gray"
         },
         "showlegend": false,
         "type": "scatter",
         "x": [
          1232,
          1233
         ],
         "y": [
          78.53,
          78.54
         ]
        },
        {
         "line": {
          "color": "gray"
         },
         "showlegend": false,
         "type": "scatter",
         "x": [
          1233,
          1234
         ],
         "y": [
          78.54,
          78.65
         ]
        },
        {
         "line": {
          "color": "green"
         },
         "showlegend": false,
         "type": "scatter",
         "x": [
          1234,
          1235
         ],
         "y": [
          78.65,
          78.6
         ]
        },
        {
         "line": {
          "color": "gray"
         },
         "showlegend": false,
         "type": "scatter",
         "x": [
          1235,
          1236
         ],
         "y": [
          78.6,
          78.52
         ]
        },
        {
         "line": {
          "color": "red"
         },
         "showlegend": false,
         "type": "scatter",
         "x": [
          1236,
          1237
         ],
         "y": [
          78.52,
          78.48
         ]
        },
        {
         "line": {
          "color": "red"
         },
         "showlegend": false,
         "type": "scatter",
         "x": [
          1237,
          1238
         ],
         "y": [
          78.48,
          78.52
         ]
        },
        {
         "line": {
          "color": "red"
         },
         "showlegend": false,
         "type": "scatter",
         "x": [
          1238,
          1239
         ],
         "y": [
          78.52,
          78.54
         ]
        },
        {
         "line": {
          "color": "red"
         },
         "showlegend": false,
         "type": "scatter",
         "x": [
          1239,
          1240
         ],
         "y": [
          78.54,
          78.55
         ]
        },
        {
         "line": {
          "color": "gray"
         },
         "showlegend": false,
         "type": "scatter",
         "x": [
          1240,
          1241
         ],
         "y": [
          78.55,
          78.6
         ]
        },
        {
         "line": {
          "color": "gray"
         },
         "showlegend": false,
         "type": "scatter",
         "x": [
          1241,
          1242
         ],
         "y": [
          78.6,
          78.74
         ]
        },
        {
         "line": {
          "color": "green"
         },
         "showlegend": false,
         "type": "scatter",
         "x": [
          1242,
          1243
         ],
         "y": [
          78.74,
          78.83
         ]
        },
        {
         "line": {
          "color": "green"
         },
         "showlegend": false,
         "type": "scatter",
         "x": [
          1243,
          1244
         ],
         "y": [
          78.83,
          78.86
         ]
        },
        {
         "line": {
          "color": "green"
         },
         "showlegend": false,
         "type": "scatter",
         "x": [
          1244,
          1245
         ],
         "y": [
          78.86,
          78.77
         ]
        },
        {
         "line": {
          "color": "green"
         },
         "showlegend": false,
         "type": "scatter",
         "x": [
          1245,
          1246
         ],
         "y": [
          78.77,
          78.76
         ]
        },
        {
         "line": {
          "color": "gray"
         },
         "showlegend": false,
         "type": "scatter",
         "x": [
          1246,
          1247
         ],
         "y": [
          78.76,
          78.74
         ]
        },
        {
         "line": {
          "color": "gray"
         },
         "showlegend": false,
         "type": "scatter",
         "x": [
          1247,
          1248
         ],
         "y": [
          78.74,
          78.78
         ]
        },
        {
         "line": {
          "color": "green"
         },
         "showlegend": false,
         "type": "scatter",
         "x": [
          1248,
          1249
         ],
         "y": [
          78.78,
          78.68
         ]
        },
        {
         "line": {
          "color": "gray"
         },
         "showlegend": false,
         "type": "scatter",
         "x": [
          1249,
          1250
         ],
         "y": [
          78.68,
          78.9
         ]
        },
        {
         "line": {
          "color": "green"
         },
         "showlegend": false,
         "type": "scatter",
         "x": [
          1250,
          1251
         ],
         "y": [
          78.9,
          78.96
         ]
        },
        {
         "line": {
          "color": "green"
         },
         "showlegend": false,
         "type": "scatter",
         "x": [
          1251,
          1252
         ],
         "y": [
          78.96,
          78.94
         ]
        },
        {
         "line": {
          "color": "green"
         },
         "showlegend": false,
         "type": "scatter",
         "x": [
          1252,
          1253
         ],
         "y": [
          78.94,
          79.01
         ]
        },
        {
         "line": {
          "color": "green"
         },
         "showlegend": false,
         "type": "scatter",
         "x": [
          1253,
          1254
         ],
         "y": [
          79.01,
          78.87
         ]
        },
        {
         "line": {
          "color": "green"
         },
         "showlegend": false,
         "type": "scatter",
         "x": [
          1254,
          1255
         ],
         "y": [
          78.87,
          78.82
         ]
        },
        {
         "line": {
          "color": "gray"
         },
         "showlegend": false,
         "type": "scatter",
         "x": [
          1255,
          1256
         ],
         "y": [
          78.82,
          78.84
         ]
        },
        {
         "line": {
          "color": "green"
         },
         "showlegend": false,
         "type": "scatter",
         "x": [
          1256,
          1257
         ],
         "y": [
          78.84,
          78.74
         ]
        },
        {
         "line": {
          "color": "gray"
         },
         "showlegend": false,
         "type": "scatter",
         "x": [
          1257,
          1258
         ],
         "y": [
          78.74,
          78.98
         ]
        },
        {
         "line": {
          "color": "green"
         },
         "showlegend": false,
         "type": "scatter",
         "x": [
          1258,
          1259
         ],
         "y": [
          78.98,
          79.04
         ]
        },
        {
         "line": {
          "color": "green"
         },
         "showlegend": false,
         "type": "scatter",
         "x": [
          1259,
          1260
         ],
         "y": [
          79.04,
          79.11
         ]
        },
        {
         "line": {
          "color": "green"
         },
         "showlegend": false,
         "type": "scatter",
         "x": [
          1260,
          1261
         ],
         "y": [
          79.11,
          79.06
         ]
        },
        {
         "line": {
          "color": "green"
         },
         "showlegend": false,
         "type": "scatter",
         "x": [
          1261,
          1262
         ],
         "y": [
          79.06,
          78.96
         ]
        },
        {
         "line": {
          "color": "gray"
         },
         "showlegend": false,
         "type": "scatter",
         "x": [
          1262,
          1263
         ],
         "y": [
          78.96,
          78.98
         ]
        },
        {
         "line": {
          "color": "gray"
         },
         "showlegend": false,
         "type": "scatter",
         "x": [
          1263,
          1264
         ],
         "y": [
          78.98,
          79.08
         ]
        },
        {
         "line": {
          "color": "green"
         },
         "showlegend": false,
         "type": "scatter",
         "x": [
          1264,
          1265
         ],
         "y": [
          79.08,
          79.13
         ]
        },
        {
         "line": {
          "color": "green"
         },
         "showlegend": false,
         "type": "scatter",
         "x": [
          1265,
          1266
         ],
         "y": [
          79.13,
          79.23
         ]
        },
        {
         "line": {
          "color": "green"
         },
         "showlegend": false,
         "type": "scatter",
         "x": [
          1266,
          1267
         ],
         "y": [
          79.23,
          79.2
         ]
        },
        {
         "line": {
          "color": "green"
         },
         "showlegend": false,
         "type": "scatter",
         "x": [
          1267,
          1268
         ],
         "y": [
          79.2,
          79.19
         ]
        },
        {
         "line": {
          "color": "green"
         },
         "showlegend": false,
         "type": "scatter",
         "x": [
          1268,
          1269
         ],
         "y": [
          79.19,
          79.19
         ]
        },
        {
         "line": {
          "color": "green"
         },
         "showlegend": false,
         "type": "scatter",
         "x": [
          1269,
          1270
         ],
         "y": [
          79.19,
          79.12
         ]
        },
        {
         "line": {
          "color": "gray"
         },
         "showlegend": false,
         "type": "scatter",
         "x": [
          1270,
          1271
         ],
         "y": [
          79.12,
          79.12
         ]
        },
        {
         "line": {
          "color": "gray"
         },
         "showlegend": false,
         "type": "scatter",
         "x": [
          1271,
          1272
         ],
         "y": [
          79.12,
          79.02
         ]
        },
        {
         "line": {
          "color": "gray"
         },
         "showlegend": false,
         "type": "scatter",
         "x": [
          1272,
          1273
         ],
         "y": [
          79.02,
          78.99
         ]
        },
        {
         "line": {
          "color": "red"
         },
         "showlegend": false,
         "type": "scatter",
         "x": [
          1273,
          1274
         ],
         "y": [
          78.99,
          79
         ]
        },
        {
         "line": {
          "color": "red"
         },
         "showlegend": false,
         "type": "scatter",
         "x": [
          1274,
          1275
         ],
         "y": [
          79,
          79.03
         ]
        },
        {
         "line": {
          "color": "gray"
         },
         "showlegend": false,
         "type": "scatter",
         "x": [
          1275,
          1276
         ],
         "y": [
          79.03,
          79.04
         ]
        },
        {
         "line": {
          "color": "gray"
         },
         "showlegend": false,
         "type": "scatter",
         "x": [
          1276,
          1277
         ],
         "y": [
          79.04,
          79.05
         ]
        },
        {
         "line": {
          "color": "gray"
         },
         "showlegend": false,
         "type": "scatter",
         "x": [
          1277,
          1278
         ],
         "y": [
          79.05,
          79.06
         ]
        },
        {
         "line": {
          "color": "gray"
         },
         "showlegend": false,
         "type": "scatter",
         "x": [
          1278,
          1279
         ],
         "y": [
          79.06,
          78.94
         ]
        },
        {
         "line": {
          "color": "red"
         },
         "showlegend": false,
         "type": "scatter",
         "x": [
          1279,
          1280
         ],
         "y": [
          78.94,
          79.02
         ]
        },
        {
         "line": {
          "color": "gray"
         },
         "showlegend": false,
         "type": "scatter",
         "x": [
          1280,
          1281
         ],
         "y": [
          79.02,
          79.03
         ]
        },
        {
         "line": {
          "color": "gray"
         },
         "showlegend": false,
         "type": "scatter",
         "x": [
          1281,
          1282
         ],
         "y": [
          79.03,
          79.05
         ]
        },
        {
         "line": {
          "color": "gray"
         },
         "showlegend": false,
         "type": "scatter",
         "x": [
          1282,
          1283
         ],
         "y": [
          79.05,
          79.04
         ]
        },
        {
         "line": {
          "color": "gray"
         },
         "showlegend": false,
         "type": "scatter",
         "x": [
          1283,
          1284
         ],
         "y": [
          79.04,
          79.41
         ]
        },
        {
         "line": {
          "color": "green"
         },
         "showlegend": false,
         "type": "scatter",
         "x": [
          1284,
          1285
         ],
         "y": [
          79.41,
          79.24
         ]
        },
        {
         "line": {
          "color": "gray"
         },
         "showlegend": false,
         "type": "scatter",
         "x": [
          1285,
          1286
         ],
         "y": [
          79.24,
          79.25
         ]
        },
        {
         "line": {
          "color": "green"
         },
         "showlegend": false,
         "type": "scatter",
         "x": [
          1286,
          1287
         ],
         "y": [
          79.25,
          79.15
         ]
        },
        {
         "line": {
          "color": "gray"
         },
         "showlegend": false,
         "type": "scatter",
         "x": [
          1287,
          1288
         ],
         "y": [
          79.15,
          79.14
         ]
        },
        {
         "line": {
          "color": "gray"
         },
         "showlegend": false,
         "type": "scatter",
         "x": [
          1288,
          1289
         ],
         "y": [
          79.14,
          79.11
         ]
        },
        {
         "line": {
          "color": "gray"
         },
         "showlegend": false,
         "type": "scatter",
         "x": [
          1289,
          1290
         ],
         "y": [
          79.11,
          79.16
         ]
        },
        {
         "line": {
          "color": "gray"
         },
         "showlegend": false,
         "type": "scatter",
         "x": [
          1290,
          1291
         ],
         "y": [
          79.16,
          79.18
         ]
        },
        {
         "line": {
          "color": "gray"
         },
         "showlegend": false,
         "type": "scatter",
         "x": [
          1291,
          1292
         ],
         "y": [
          79.18,
          79.15
         ]
        },
        {
         "line": {
          "color": "gray"
         },
         "showlegend": false,
         "type": "scatter",
         "x": [
          1292,
          1293
         ],
         "y": [
          79.15,
          79.2
         ]
        },
        {
         "line": {
          "color": "gray"
         },
         "showlegend": false,
         "type": "scatter",
         "x": [
          1293,
          1294
         ],
         "y": [
          79.2,
          79.18
         ]
        },
        {
         "line": {
          "color": "gray"
         },
         "showlegend": false,
         "type": "scatter",
         "x": [
          1294,
          1295
         ],
         "y": [
          79.18,
          79.2
         ]
        },
        {
         "line": {
          "color": "gray"
         },
         "showlegend": false,
         "type": "scatter",
         "x": [
          1295,
          1296
         ],
         "y": [
          79.2,
          79.19
         ]
        },
        {
         "line": {
          "color": "gray"
         },
         "showlegend": false,
         "type": "scatter",
         "x": [
          1296,
          1297
         ],
         "y": [
          79.19,
          79.23
         ]
        },
        {
         "line": {
          "color": "gray"
         },
         "showlegend": false,
         "type": "scatter",
         "x": [
          1297,
          1298
         ],
         "y": [
          79.23,
          79.22
         ]
        },
        {
         "line": {
          "color": "gray"
         },
         "showlegend": false,
         "type": "scatter",
         "x": [
          1298,
          1299
         ],
         "y": [
          79.22,
          79.15
         ]
        },
        {
         "line": {
          "color": "gray"
         },
         "showlegend": false,
         "type": "scatter",
         "x": [
          1299,
          1300
         ],
         "y": [
          79.15,
          79.09
         ]
        },
        {
         "line": {
          "color": "red"
         },
         "showlegend": false,
         "type": "scatter",
         "x": [
          1300,
          1301
         ],
         "y": [
          79.09,
          79.06
         ]
        },
        {
         "line": {
          "color": "red"
         },
         "showlegend": false,
         "type": "scatter",
         "x": [
          1301,
          1302
         ],
         "y": [
          79.06,
          79.07
         ]
        },
        {
         "line": {
          "color": "red"
         },
         "showlegend": false,
         "type": "scatter",
         "x": [
          1302,
          1303
         ],
         "y": [
          79.07,
          79.13
         ]
        },
        {
         "line": {
          "color": "gray"
         },
         "showlegend": false,
         "type": "scatter",
         "x": [
          1303,
          1304
         ],
         "y": [
          79.13,
          79.2
         ]
        },
        {
         "line": {
          "color": "green"
         },
         "showlegend": false,
         "type": "scatter",
         "x": [
          1304,
          1305
         ],
         "y": [
          79.2,
          79.11
         ]
        },
        {
         "line": {
          "color": "gray"
         },
         "showlegend": false,
         "type": "scatter",
         "x": [
          1305,
          1306
         ],
         "y": [
          79.11,
          79.15
         ]
        },
        {
         "line": {
          "color": "gray"
         },
         "showlegend": false,
         "type": "scatter",
         "x": [
          1306,
          1307
         ],
         "y": [
          79.15,
          79.1
         ]
        },
        {
         "line": {
          "color": "red"
         },
         "showlegend": false,
         "type": "scatter",
         "x": [
          1307,
          1308
         ],
         "y": [
          79.1,
          79.04
         ]
        },
        {
         "line": {
          "color": "red"
         },
         "showlegend": false,
         "type": "scatter",
         "x": [
          1308,
          1309
         ],
         "y": [
          79.04,
          78.94
         ]
        },
        {
         "line": {
          "color": "red"
         },
         "showlegend": false,
         "type": "scatter",
         "x": [
          1309,
          1310
         ],
         "y": [
          78.94,
          78.97
         ]
        },
        {
         "line": {
          "color": "red"
         },
         "showlegend": false,
         "type": "scatter",
         "x": [
          1310,
          1311
         ],
         "y": [
          78.97,
          78.96
         ]
        },
        {
         "line": {
          "color": "red"
         },
         "showlegend": false,
         "type": "scatter",
         "x": [
          1311,
          1312
         ],
         "y": [
          78.96,
          79.01
         ]
        },
        {
         "line": {
          "color": "gray"
         },
         "showlegend": false,
         "type": "scatter",
         "x": [
          1312,
          1313
         ],
         "y": [
          79.01,
          79.22
         ]
        },
        {
         "line": {
          "color": "green"
         },
         "showlegend": false,
         "type": "scatter",
         "x": [
          1313,
          1314
         ],
         "y": [
          79.22,
          79.1
         ]
        },
        {
         "line": {
          "color": "gray"
         },
         "showlegend": false,
         "type": "scatter",
         "x": [
          1314,
          1315
         ],
         "y": [
          79.1,
          79.04
         ]
        },
        {
         "line": {
          "color": "red"
         },
         "showlegend": false,
         "type": "scatter",
         "x": [
          1315,
          1316
         ],
         "y": [
          79.04,
          79.06
         ]
        },
        {
         "line": {
          "color": "gray"
         },
         "showlegend": false,
         "type": "scatter",
         "x": [
          1316,
          1317
         ],
         "y": [
          79.06,
          78.94
         ]
        },
        {
         "line": {
          "color": "red"
         },
         "showlegend": false,
         "type": "scatter",
         "x": [
          1317,
          1318
         ],
         "y": [
          78.94,
          78.95
         ]
        },
        {
         "line": {
          "color": "red"
         },
         "showlegend": false,
         "type": "scatter",
         "x": [
          1318,
          1319
         ],
         "y": [
          78.95,
          79
         ]
        },
        {
         "line": {
          "color": "gray"
         },
         "showlegend": false,
         "type": "scatter",
         "x": [
          1319,
          1320
         ],
         "y": [
          79,
          79.11
         ]
        },
        {
         "line": {
          "color": "green"
         },
         "showlegend": false,
         "type": "scatter",
         "x": [
          1320,
          1321
         ],
         "y": [
          79.11,
          79.09
         ]
        },
        {
         "line": {
          "color": "gray"
         },
         "showlegend": false,
         "type": "scatter",
         "x": [
          1321,
          1322
         ],
         "y": [
          79.09,
          78.99
         ]
        },
        {
         "line": {
          "color": "gray"
         },
         "showlegend": false,
         "type": "scatter",
         "x": [
          1322,
          1323
         ],
         "y": [
          78.99,
          78.91
         ]
        },
        {
         "line": {
          "color": "red"
         },
         "showlegend": false,
         "type": "scatter",
         "x": [
          1323,
          1324
         ],
         "y": [
          78.91,
          78.86
         ]
        },
        {
         "line": {
          "color": "red"
         },
         "showlegend": false,
         "type": "scatter",
         "x": [
          1324,
          1325
         ],
         "y": [
          78.86,
          78.8
         ]
        },
        {
         "line": {
          "color": "red"
         },
         "showlegend": false,
         "type": "scatter",
         "x": [
          1325,
          1326
         ],
         "y": [
          78.8,
          78.78
         ]
        },
        {
         "line": {
          "color": "red"
         },
         "showlegend": false,
         "type": "scatter",
         "x": [
          1326,
          1327
         ],
         "y": [
          78.78,
          78.88
         ]
        },
        {
         "line": {
          "color": "gray"
         },
         "showlegend": false,
         "type": "scatter",
         "x": [
          1327,
          1328
         ],
         "y": [
          78.88,
          78.82
         ]
        },
        {
         "line": {
          "color": "gray"
         },
         "showlegend": false,
         "type": "scatter",
         "x": [
          1328,
          1329
         ],
         "y": [
          78.82,
          78.94
         ]
        },
        {
         "line": {
          "color": "green"
         },
         "showlegend": false,
         "type": "scatter",
         "x": [
          1329,
          1330
         ],
         "y": [
          78.94,
          78.92
         ]
        },
        {
         "line": {
          "color": "green"
         },
         "showlegend": false,
         "type": "scatter",
         "x": [
          1330,
          1331
         ],
         "y": [
          78.92,
          79.04
         ]
        },
        {
         "line": {
          "color": "green"
         },
         "showlegend": false,
         "type": "scatter",
         "x": [
          1331,
          1332
         ],
         "y": [
          79.04,
          79.36
         ]
        },
        {
         "line": {
          "color": "green"
         },
         "showlegend": false,
         "type": "scatter",
         "x": [
          1332,
          1333
         ],
         "y": [
          79.36,
          79.05
         ]
        },
        {
         "line": {
          "color": "gray"
         },
         "showlegend": false,
         "type": "scatter",
         "x": [
          1333,
          1334
         ],
         "y": [
          79.05,
          78.83
         ]
        },
        {
         "line": {
          "color": "red"
         },
         "showlegend": false,
         "type": "scatter",
         "x": [
          1334,
          1335
         ],
         "y": [
          78.83,
          78.68
         ]
        },
        {
         "line": {
          "color": "red"
         },
         "showlegend": false,
         "type": "scatter",
         "x": [
          1335,
          1336
         ],
         "y": [
          78.68,
          78.72
         ]
        },
        {
         "line": {
          "color": "red"
         },
         "showlegend": false,
         "type": "scatter",
         "x": [
          1336,
          1337
         ],
         "y": [
          78.72,
          78.81
         ]
        },
        {
         "line": {
          "color": "gray"
         },
         "showlegend": false,
         "type": "scatter",
         "x": [
          1337,
          1338
         ],
         "y": [
          78.81,
          79.08
         ]
        },
        {
         "line": {
          "color": "green"
         },
         "showlegend": false,
         "type": "scatter",
         "x": [
          1338,
          1339
         ],
         "y": [
          79.08,
          79.05
         ]
        },
        {
         "line": {
          "color": "green"
         },
         "showlegend": false,
         "type": "scatter",
         "x": [
          1339,
          1340
         ],
         "y": [
          79.05,
          79.06
         ]
        },
        {
         "line": {
          "color": "green"
         },
         "showlegend": false,
         "type": "scatter",
         "x": [
          1340,
          1341
         ],
         "y": [
          79.06,
          78.85
         ]
        },
        {
         "line": {
          "color": "gray"
         },
         "showlegend": false,
         "type": "scatter",
         "x": [
          1341,
          1342
         ],
         "y": [
          78.85,
          78.96
         ]
        },
        {
         "line": {
          "color": "gray"
         },
         "showlegend": false,
         "type": "scatter",
         "x": [
          1342,
          1343
         ],
         "y": [
          78.96,
          79.03
         ]
        },
        {
         "line": {
          "color": "gray"
         },
         "showlegend": false,
         "type": "scatter",
         "x": [
          1343,
          1344
         ],
         "y": [
          79.03,
          78.94
         ]
        },
        {
         "line": {
          "color": "gray"
         },
         "showlegend": false,
         "type": "scatter",
         "x": [
          1344,
          1345
         ],
         "y": [
          78.94,
          78.97
         ]
        },
        {
         "line": {
          "color": "gray"
         },
         "showlegend": false,
         "type": "scatter",
         "x": [
          1345,
          1346
         ],
         "y": [
          78.97,
          78.91
         ]
        },
        {
         "line": {
          "color": "gray"
         },
         "showlegend": false,
         "type": "scatter",
         "x": [
          1346,
          1347
         ],
         "y": [
          78.91,
          78.96
         ]
        },
        {
         "line": {
          "color": "gray"
         },
         "showlegend": false,
         "type": "scatter",
         "x": [
          1347,
          1348
         ],
         "y": [
          78.96,
          78.92
         ]
        },
        {
         "line": {
          "color": "gray"
         },
         "showlegend": false,
         "type": "scatter",
         "x": [
          1348,
          1349
         ],
         "y": [
          78.92,
          78.78
         ]
        },
        {
         "line": {
          "color": "red"
         },
         "showlegend": false,
         "type": "scatter",
         "x": [
          1349,
          1350
         ],
         "y": [
          78.78,
          78.83
         ]
        },
        {
         "line": {
          "color": "gray"
         },
         "showlegend": false,
         "type": "scatter",
         "x": [
          1350,
          1351
         ],
         "y": [
          78.83,
          78.96
         ]
        },
        {
         "line": {
          "color": "gray"
         },
         "showlegend": false,
         "type": "scatter",
         "x": [
          1351,
          1352
         ],
         "y": [
          78.96,
          78.96
         ]
        },
        {
         "line": {
          "color": "gray"
         },
         "showlegend": false,
         "type": "scatter",
         "x": [
          1352,
          1353
         ],
         "y": [
          78.96,
          78.93
         ]
        },
        {
         "line": {
          "color": "gray"
         },
         "showlegend": false,
         "type": "scatter",
         "x": [
          1353,
          1354
         ],
         "y": [
          78.93,
          78.91
         ]
        },
        {
         "line": {
          "color": "gray"
         },
         "showlegend": false,
         "type": "scatter",
         "x": [
          1354,
          1355
         ],
         "y": [
          78.91,
          78.94
         ]
        },
        {
         "line": {
          "color": "gray"
         },
         "showlegend": false,
         "type": "scatter",
         "x": [
          1355,
          1356
         ],
         "y": [
          78.94,
          78.9
         ]
        },
        {
         "line": {
          "color": "gray"
         },
         "showlegend": false,
         "type": "scatter",
         "x": [
          1356,
          1357
         ],
         "y": [
          78.9,
          79
         ]
        },
        {
         "line": {
          "color": "gray"
         },
         "showlegend": false,
         "type": "scatter",
         "x": [
          1357,
          1358
         ],
         "y": [
          79,
          78.97
         ]
        },
        {
         "line": {
          "color": "gray"
         },
         "showlegend": false,
         "type": "scatter",
         "x": [
          1358,
          1359
         ],
         "y": [
          78.97,
          78.95
         ]
        },
        {
         "line": {
          "color": "gray"
         },
         "showlegend": false,
         "type": "scatter",
         "x": [
          1359,
          1360
         ],
         "y": [
          78.95,
          79.05
         ]
        },
        {
         "line": {
          "color": "green"
         },
         "showlegend": false,
         "type": "scatter",
         "x": [
          1360,
          1361
         ],
         "y": [
          79.05,
          79.05
         ]
        },
        {
         "line": {
          "color": "green"
         },
         "showlegend": false,
         "type": "scatter",
         "x": [
          1361,
          1362
         ],
         "y": [
          79.05,
          79.07
         ]
        },
        {
         "line": {
          "color": "green"
         },
         "showlegend": false,
         "type": "scatter",
         "x": [
          1362,
          1363
         ],
         "y": [
          79.07,
          79.11
         ]
        },
        {
         "line": {
          "color": "green"
         },
         "showlegend": false,
         "type": "scatter",
         "x": [
          1363,
          1364
         ],
         "y": [
          79.11,
          79.2
         ]
        },
        {
         "line": {
          "color": "green"
         },
         "showlegend": false,
         "type": "scatter",
         "x": [
          1364,
          1365
         ],
         "y": [
          79.2,
          79.19
         ]
        },
        {
         "line": {
          "color": "green"
         },
         "showlegend": false,
         "type": "scatter",
         "x": [
          1365,
          1366
         ],
         "y": [
          79.19,
          79.13
         ]
        },
        {
         "line": {
          "color": "green"
         },
         "showlegend": false,
         "type": "scatter",
         "x": [
          1366,
          1367
         ],
         "y": [
          79.13,
          79.09
         ]
        },
        {
         "line": {
          "color": "gray"
         },
         "showlegend": false,
         "type": "scatter",
         "x": [
          1367,
          1368
         ],
         "y": [
          79.09,
          79.09
         ]
        },
        {
         "line": {
          "color": "gray"
         },
         "showlegend": false,
         "type": "scatter",
         "x": [
          1368,
          1369
         ],
         "y": [
          79.09,
          79.06
         ]
        },
        {
         "line": {
          "color": "gray"
         },
         "showlegend": false,
         "type": "scatter",
         "x": [
          1369,
          1370
         ],
         "y": [
          79.06,
          78.96
         ]
        },
        {
         "line": {
          "color": "red"
         },
         "showlegend": false,
         "type": "scatter",
         "x": [
          1370,
          1371
         ],
         "y": [
          78.96,
          79
         ]
        },
        {
         "line": {
          "color": "gray"
         },
         "showlegend": false,
         "type": "scatter",
         "x": [
          1371,
          1372
         ],
         "y": [
          79,
          78.99
         ]
        },
        {
         "line": {
          "color": "gray"
         },
         "showlegend": false,
         "type": "scatter",
         "x": [
          1372,
          1373
         ],
         "y": [
          78.99,
          78.94
         ]
        },
        {
         "line": {
          "color": "red"
         },
         "showlegend": false,
         "type": "scatter",
         "x": [
          1373,
          1374
         ],
         "y": [
          78.94,
          78.97
         ]
        },
        {
         "line": {
          "color": "red"
         },
         "showlegend": false,
         "type": "scatter",
         "x": [
          1374,
          1375
         ],
         "y": [
          78.97,
          79.1
         ]
        },
        {
         "line": {
          "color": "gray"
         },
         "showlegend": false,
         "type": "scatter",
         "x": [
          1375,
          1376
         ],
         "y": [
          79.1,
          79.14
         ]
        },
        {
         "line": {
          "color": "green"
         },
         "showlegend": false,
         "type": "scatter",
         "x": [
          1376,
          1377
         ],
         "y": [
          79.14,
          79.19
         ]
        },
        {
         "line": {
          "color": "green"
         },
         "showlegend": false,
         "type": "scatter",
         "x": [
          1377,
          1378
         ],
         "y": [
          79.19,
          79.11
         ]
        },
        {
         "line": {
          "color": "green"
         },
         "showlegend": false,
         "type": "scatter",
         "x": [
          1378,
          1379
         ],
         "y": [
          79.11,
          79.13
         ]
        },
        {
         "line": {
          "color": "green"
         },
         "showlegend": false,
         "type": "scatter",
         "x": [
          1379,
          1380
         ],
         "y": [
          79.13,
          79.11
         ]
        },
        {
         "line": {
          "color": "gray"
         },
         "showlegend": false,
         "type": "scatter",
         "x": [
          1380,
          1381
         ],
         "y": [
          79.11,
          79.11
         ]
        },
        {
         "line": {
          "color": "gray"
         },
         "showlegend": false,
         "type": "scatter",
         "x": [
          1381,
          1382
         ],
         "y": [
          79.11,
          79.16
         ]
        },
        {
         "line": {
          "color": "gray"
         },
         "showlegend": false,
         "type": "scatter",
         "x": [
          1382,
          1383
         ],
         "y": [
          79.16,
          79.19
         ]
        },
        {
         "line": {
          "color": "green"
         },
         "showlegend": false,
         "type": "scatter",
         "x": [
          1383,
          1384
         ],
         "y": [
          79.19,
          79.18
         ]
        },
        {
         "line": {
          "color": "green"
         },
         "showlegend": false,
         "type": "scatter",
         "x": [
          1384,
          1385
         ],
         "y": [
          79.18,
          79.15
         ]
        },
        {
         "line": {
          "color": "gray"
         },
         "showlegend": false,
         "type": "scatter",
         "x": [
          1385,
          1386
         ],
         "y": [
          79.15,
          79.2
         ]
        },
        {
         "line": {
          "color": "green"
         },
         "showlegend": false,
         "type": "scatter",
         "x": [
          1386,
          1387
         ],
         "y": [
          79.2,
          79.25
         ]
        },
        {
         "line": {
          "color": "green"
         },
         "showlegend": false,
         "type": "scatter",
         "x": [
          1387,
          1388
         ],
         "y": [
          79.25,
          79.28
         ]
        },
        {
         "line": {
          "color": "green"
         },
         "showlegend": false,
         "type": "scatter",
         "x": [
          1388,
          1389
         ],
         "y": [
          79.28,
          79.32
         ]
        },
        {
         "line": {
          "color": "green"
         },
         "showlegend": false,
         "type": "scatter",
         "x": [
          1389,
          1390
         ],
         "y": [
          79.32,
          79.32
         ]
        },
        {
         "line": {
          "color": "green"
         },
         "showlegend": false,
         "type": "scatter",
         "x": [
          1390,
          1391
         ],
         "y": [
          79.32,
          79.31
         ]
        },
        {
         "line": {
          "color": "green"
         },
         "showlegend": false,
         "type": "scatter",
         "x": [
          1391,
          1392
         ],
         "y": [
          79.31,
          79.34
         ]
        },
        {
         "line": {
          "color": "green"
         },
         "showlegend": false,
         "type": "scatter",
         "x": [
          1392,
          1393
         ],
         "y": [
          79.34,
          79.36
         ]
        },
        {
         "line": {
          "color": "green"
         },
         "showlegend": false,
         "type": "scatter",
         "x": [
          1393,
          1394
         ],
         "y": [
          79.36,
          79.36
         ]
        },
        {
         "line": {
          "color": "green"
         },
         "showlegend": false,
         "type": "scatter",
         "x": [
          1394,
          1395
         ],
         "y": [
          79.36,
          79.36
         ]
        },
        {
         "line": {
          "color": "green"
         },
         "showlegend": false,
         "type": "scatter",
         "x": [
          1395,
          1396
         ],
         "y": [
          79.36,
          79.37
         ]
        },
        {
         "line": {
          "color": "green"
         },
         "showlegend": false,
         "type": "scatter",
         "x": [
          1396,
          1397
         ],
         "y": [
          79.37,
          79.39
         ]
        },
        {
         "line": {
          "color": "green"
         },
         "showlegend": false,
         "type": "scatter",
         "x": [
          1397,
          1398
         ],
         "y": [
          79.39,
          79.33
         ]
        },
        {
         "line": {
          "color": "gray"
         },
         "showlegend": false,
         "type": "scatter",
         "x": [
          1398,
          1399
         ],
         "y": [
          79.33,
          79.32
         ]
        },
        {
         "line": {
          "color": "gray"
         },
         "showlegend": false,
         "type": "scatter",
         "x": [
          1399,
          1400
         ],
         "y": [
          79.32,
          79.34
         ]
        },
        {
         "line": {
          "color": "gray"
         },
         "showlegend": false,
         "type": "scatter",
         "x": [
          1400,
          1401
         ],
         "y": [
          79.34,
          79.35
         ]
        },
        {
         "line": {
          "color": "gray"
         },
         "showlegend": false,
         "type": "scatter",
         "x": [
          1401,
          1402
         ],
         "y": [
          79.35,
          79.33
         ]
        },
        {
         "line": {
          "color": "gray"
         },
         "showlegend": false,
         "type": "scatter",
         "x": [
          1402,
          1403
         ],
         "y": [
          79.33,
          79.35
         ]
        },
        {
         "line": {
          "color": "gray"
         },
         "showlegend": false,
         "type": "scatter",
         "x": [
          1403,
          1404
         ],
         "y": [
          79.35,
          79.37
         ]
        },
        {
         "line": {
          "color": "gray"
         },
         "showlegend": false,
         "type": "scatter",
         "x": [
          1404,
          1405
         ],
         "y": [
          79.37,
          79.33
         ]
        },
        {
         "line": {
          "color": "gray"
         },
         "showlegend": false,
         "type": "scatter",
         "x": [
          1405,
          1406
         ],
         "y": [
          79.33,
          79.34
         ]
        },
        {
         "line": {
          "color": "gray"
         },
         "showlegend": false,
         "type": "scatter",
         "x": [
          1406,
          1407
         ],
         "y": [
          79.34,
          79.33
         ]
        },
        {
         "line": {
          "color": "red"
         },
         "showlegend": false,
         "type": "scatter",
         "x": [
          1407,
          1408
         ],
         "y": [
          79.33,
          79.34
         ]
        },
        {
         "line": {
          "color": "gray"
         },
         "showlegend": false,
         "type": "scatter",
         "x": [
          1408,
          1409
         ],
         "y": [
          79.34,
          79.37
         ]
        },
        {
         "line": {
          "color": "green"
         },
         "showlegend": false,
         "type": "scatter",
         "x": [
          1409,
          1410
         ],
         "y": [
          79.37,
          79.34
         ]
        },
        {
         "line": {
          "color": "red"
         },
         "showlegend": false,
         "type": "scatter",
         "x": [
          1410,
          1411
         ],
         "y": [
          79.34,
          79.33
         ]
        },
        {
         "line": {
          "color": "red"
         },
         "showlegend": false,
         "type": "scatter",
         "x": [
          1411,
          1412
         ],
         "y": [
          79.33,
          79.31
         ]
        },
        {
         "line": {
          "color": "red"
         },
         "showlegend": false,
         "type": "scatter",
         "x": [
          1412,
          1413
         ],
         "y": [
          79.31,
          79.36
         ]
        },
        {
         "line": {
          "color": "gray"
         },
         "showlegend": false,
         "type": "scatter",
         "x": [
          1413,
          1414
         ],
         "y": [
          79.36,
          79.35
         ]
        },
        {
         "line": {
          "color": "green"
         },
         "showlegend": false,
         "type": "scatter",
         "x": [
          1414,
          1415
         ],
         "y": [
          79.35,
          79.37
         ]
        },
        {
         "line": {
          "color": "green"
         },
         "showlegend": false,
         "type": "scatter",
         "x": [
          1415,
          1416
         ],
         "y": [
          79.37,
          79.39
         ]
        },
        {
         "line": {
          "color": "green"
         },
         "showlegend": false,
         "type": "scatter",
         "x": [
          1416,
          1417
         ],
         "y": [
          79.39,
          79.29
         ]
        },
        {
         "line": {
          "color": "green"
         },
         "showlegend": false,
         "type": "scatter",
         "x": [
          1417,
          1418
         ],
         "y": [
          79.29,
          79.32
         ]
        },
        {
         "line": {
          "color": "gray"
         },
         "showlegend": false,
         "type": "scatter",
         "x": [
          1418,
          1419
         ],
         "y": [
          79.32,
          79.36
         ]
        },
        {
         "line": {
          "color": "green"
         },
         "showlegend": false,
         "type": "scatter",
         "x": [
          1419,
          1420
         ],
         "y": [
          79.36,
          79.37
         ]
        },
        {
         "line": {
          "color": "green"
         },
         "showlegend": false,
         "type": "scatter",
         "x": [
          1420,
          1421
         ],
         "y": [
          79.37,
          79.34
         ]
        },
        {
         "line": {
          "color": "gray"
         },
         "showlegend": false,
         "type": "scatter",
         "x": [
          1421,
          1422
         ],
         "y": [
          79.34,
          79.37
         ]
        },
        {
         "line": {
          "color": "green"
         },
         "showlegend": false,
         "type": "scatter",
         "x": [
          1422,
          1423
         ],
         "y": [
          79.37,
          79.43
         ]
        },
        {
         "line": {
          "color": "green"
         },
         "showlegend": false,
         "type": "scatter",
         "x": [
          1423,
          1424
         ],
         "y": [
          79.43,
          79.43
         ]
        },
        {
         "line": {
          "color": "green"
         },
         "showlegend": false,
         "type": "scatter",
         "x": [
          1424,
          1425
         ],
         "y": [
          79.43,
          79.42
         ]
        },
        {
         "line": {
          "color": "green"
         },
         "showlegend": false,
         "type": "scatter",
         "x": [
          1425,
          1426
         ],
         "y": [
          79.42,
          79.43
         ]
        },
        {
         "line": {
          "color": "green"
         },
         "showlegend": false,
         "type": "scatter",
         "x": [
          1426,
          1427
         ],
         "y": [
          79.43,
          79.47
         ]
        },
        {
         "line": {
          "color": "green"
         },
         "showlegend": false,
         "type": "scatter",
         "x": [
          1427,
          1428
         ],
         "y": [
          79.47,
          79.48
         ]
        },
        {
         "line": {
          "color": "green"
         },
         "showlegend": false,
         "type": "scatter",
         "x": [
          1428,
          1429
         ],
         "y": [
          79.48,
          79.44
         ]
        },
        {
         "line": {
          "color": "gray"
         },
         "showlegend": false,
         "type": "scatter",
         "x": [
          1429,
          1430
         ],
         "y": [
          79.44,
          79.45
         ]
        },
        {
         "line": {
          "color": "green"
         },
         "showlegend": false,
         "type": "scatter",
         "x": [
          1430,
          1431
         ],
         "y": [
          79.45,
          79.46
         ]
        },
        {
         "line": {
          "color": "green"
         },
         "showlegend": false,
         "type": "scatter",
         "x": [
          1431,
          1432
         ],
         "y": [
          79.46,
          79.49
         ]
        },
        {
         "line": {
          "color": "green"
         },
         "showlegend": false,
         "type": "scatter",
         "x": [
          1432,
          1433
         ],
         "y": [
          79.49,
          79.48
         ]
        },
        {
         "line": {
          "color": "green"
         },
         "showlegend": false,
         "type": "scatter",
         "x": [
          1433,
          1434
         ],
         "y": [
          79.48,
          79.46
         ]
        },
        {
         "line": {
          "color": "green"
         },
         "showlegend": false,
         "type": "scatter",
         "x": [
          1434,
          1435
         ],
         "y": [
          79.46,
          79.52
         ]
        },
        {
         "line": {
          "color": "green"
         },
         "showlegend": false,
         "type": "scatter",
         "x": [
          1435,
          1436
         ],
         "y": [
          79.52,
          79.54
         ]
        },
        {
         "line": {
          "color": "green"
         },
         "showlegend": false,
         "type": "scatter",
         "x": [
          1436,
          1437
         ],
         "y": [
          79.54,
          79.59
         ]
        },
        {
         "line": {
          "color": "green"
         },
         "showlegend": false,
         "type": "scatter",
         "x": [
          1437,
          1438
         ],
         "y": [
          79.59,
          79.61
         ]
        },
        {
         "line": {
          "color": "green"
         },
         "showlegend": false,
         "type": "scatter",
         "x": [
          1438,
          1439
         ],
         "y": [
          79.61,
          79.59
         ]
        },
        {
         "line": {
          "color": "green"
         },
         "showlegend": false,
         "type": "scatter",
         "x": [
          1439,
          1440
         ],
         "y": [
          79.59,
          79.56
         ]
        },
        {
         "line": {
          "color": "green"
         },
         "showlegend": false,
         "type": "scatter",
         "x": [
          1440,
          1441
         ],
         "y": [
          79.56,
          79.55
         ]
        },
        {
         "line": {
          "color": "gray"
         },
         "showlegend": false,
         "type": "scatter",
         "x": [
          1441,
          1442
         ],
         "y": [
          79.55,
          79.51
         ]
        },
        {
         "line": {
          "color": "gray"
         },
         "showlegend": false,
         "type": "scatter",
         "x": [
          1442,
          1443
         ],
         "y": [
          79.51,
          79.49
         ]
        },
        {
         "line": {
          "color": "red"
         },
         "showlegend": false,
         "type": "scatter",
         "x": [
          1443,
          1444
         ],
         "y": [
          79.49,
          79.49
         ]
        },
        {
         "line": {
          "color": "red"
         },
         "showlegend": false,
         "type": "scatter",
         "x": [
          1444,
          1445
         ],
         "y": [
          79.49,
          79.51
         ]
        },
        {
         "line": {
          "color": "red"
         },
         "showlegend": false,
         "type": "scatter",
         "x": [
          1445,
          1446
         ],
         "y": [
          79.51,
          79.51
         ]
        },
        {
         "line": {
          "color": "gray"
         },
         "showlegend": false,
         "type": "scatter",
         "x": [
          1446,
          1447
         ],
         "y": [
          79.51,
          79.5
         ]
        },
        {
         "line": {
          "color": "red"
         },
         "showlegend": false,
         "type": "scatter",
         "x": [
          1447,
          1448
         ],
         "y": [
          79.5,
          79.51
         ]
        },
        {
         "line": {
          "color": "gray"
         },
         "showlegend": false,
         "type": "scatter",
         "x": [
          1448,
          1449
         ],
         "y": [
          79.51,
          79.51
         ]
        },
        {
         "line": {
          "color": "gray"
         },
         "showlegend": false,
         "type": "scatter",
         "x": [
          1449,
          1450
         ],
         "y": [
          79.51,
          79.49
         ]
        },
        {
         "line": {
          "color": "gray"
         },
         "showlegend": false,
         "type": "scatter",
         "x": [
          1450,
          1451
         ],
         "y": [
          79.49,
          79.48
         ]
        },
        {
         "line": {
          "color": "red"
         },
         "showlegend": false,
         "type": "scatter",
         "x": [
          1451,
          1452
         ],
         "y": [
          79.48,
          79.5
         ]
        },
        {
         "line": {
          "color": "gray"
         },
         "showlegend": false,
         "type": "scatter",
         "x": [
          1452,
          1453
         ],
         "y": [
          79.5,
          79.49
         ]
        },
        {
         "line": {
          "color": "gray"
         },
         "showlegend": false,
         "type": "scatter",
         "x": [
          1453,
          1454
         ],
         "y": [
          79.49,
          79.5
         ]
        },
        {
         "line": {
          "color": "gray"
         },
         "showlegend": false,
         "type": "scatter",
         "x": [
          1454,
          1455
         ],
         "y": [
          79.5,
          79.48
         ]
        },
        {
         "line": {
          "color": "gray"
         },
         "showlegend": false,
         "type": "scatter",
         "x": [
          1455,
          1456
         ],
         "y": [
          79.48,
          79.51
         ]
        },
        {
         "line": {
          "color": "gray"
         },
         "showlegend": false,
         "type": "scatter",
         "x": [
          1456,
          1457
         ],
         "y": [
          79.51,
          79.51
         ]
        },
        {
         "line": {
          "color": "gray"
         },
         "showlegend": false,
         "type": "scatter",
         "x": [
          1457,
          1458
         ],
         "y": [
          79.51,
          79.51
         ]
        },
        {
         "line": {
          "color": "green"
         },
         "showlegend": false,
         "type": "scatter",
         "x": [
          1458,
          1459
         ],
         "y": [
          79.51,
          79.52
         ]
        },
        {
         "line": {
          "color": "green"
         },
         "showlegend": false,
         "type": "scatter",
         "x": [
          1459,
          1460
         ],
         "y": [
          79.52,
          79.52
         ]
        },
        {
         "line": {
          "color": "green"
         },
         "showlegend": false,
         "type": "scatter",
         "x": [
          1460,
          1461
         ],
         "y": [
          79.52,
          79.52
         ]
        },
        {
         "line": {
          "color": "green"
         },
         "showlegend": false,
         "type": "scatter",
         "x": [
          1461,
          1462
         ],
         "y": [
          79.52,
          79.53
         ]
        },
        {
         "line": {
          "color": "green"
         },
         "showlegend": false,
         "type": "scatter",
         "x": [
          1462,
          1463
         ],
         "y": [
          79.53,
          79.54
         ]
        },
        {
         "line": {
          "color": "green"
         },
         "showlegend": false,
         "type": "scatter",
         "x": [
          1463,
          1464
         ],
         "y": [
          79.54,
          79.52
         ]
        },
        {
         "line": {
          "color": "green"
         },
         "showlegend": false,
         "type": "scatter",
         "x": [
          1464,
          1465
         ],
         "y": [
          79.52,
          79.48
         ]
        },
        {
         "line": {
          "color": "gray"
         },
         "showlegend": false,
         "type": "scatter",
         "x": [
          1465,
          1466
         ],
         "y": [
          79.48,
          79.46
         ]
        },
        {
         "line": {
          "color": "gray"
         },
         "showlegend": false,
         "type": "scatter",
         "x": [
          1466,
          1467
         ],
         "y": [
          79.46,
          79.45
         ]
        },
        {
         "line": {
          "color": "red"
         },
         "showlegend": false,
         "type": "scatter",
         "x": [
          1467,
          1468
         ],
         "y": [
          79.45,
          79.43
         ]
        },
        {
         "line": {
          "color": "red"
         },
         "showlegend": false,
         "type": "scatter",
         "x": [
          1468,
          1469
         ],
         "y": [
          79.43,
          79.42
         ]
        },
        {
         "line": {
          "color": "red"
         },
         "showlegend": false,
         "type": "scatter",
         "x": [
          1469,
          1470
         ],
         "y": [
          79.42,
          79.45
         ]
        },
        {
         "line": {
          "color": "gray"
         },
         "showlegend": false,
         "type": "scatter",
         "x": [
          1470,
          1471
         ],
         "y": [
          79.45,
          79.41
         ]
        },
        {
         "line": {
          "color": "red"
         },
         "showlegend": false,
         "type": "scatter",
         "x": [
          1471,
          1472
         ],
         "y": [
          79.41,
          79.42
         ]
        },
        {
         "line": {
          "color": "red"
         },
         "showlegend": false,
         "type": "scatter",
         "x": [
          1472,
          1473
         ],
         "y": [
          79.42,
          79.41
         ]
        },
        {
         "line": {
          "color": "red"
         },
         "showlegend": false,
         "type": "scatter",
         "x": [
          1473,
          1474
         ],
         "y": [
          79.41,
          79.47
         ]
        },
        {
         "line": {
          "color": "green"
         },
         "showlegend": false,
         "type": "scatter",
         "x": [
          1474,
          1475
         ],
         "y": [
          79.47,
          79.49
         ]
        },
        {
         "line": {
          "color": "green"
         },
         "showlegend": false,
         "type": "scatter",
         "x": [
          1475,
          1476
         ],
         "y": [
          79.49,
          79.54
         ]
        },
        {
         "line": {
          "color": "green"
         },
         "showlegend": false,
         "type": "scatter",
         "x": [
          1476,
          1477
         ],
         "y": [
          79.54,
          79.56
         ]
        },
        {
         "line": {
          "color": "green"
         },
         "showlegend": false,
         "type": "scatter",
         "x": [
          1477,
          1478
         ],
         "y": [
          79.56,
          79.58
         ]
        },
        {
         "line": {
          "color": "green"
         },
         "showlegend": false,
         "type": "scatter",
         "x": [
          1478,
          1479
         ],
         "y": [
          79.58,
          79.56
         ]
        },
        {
         "line": {
          "color": "green"
         },
         "showlegend": false,
         "type": "scatter",
         "x": [
          1479,
          1480
         ],
         "y": [
          79.56,
          79.56
         ]
        },
        {
         "line": {
          "color": "green"
         },
         "showlegend": false,
         "type": "scatter",
         "x": [
          1480,
          1481
         ],
         "y": [
          79.56,
          79.61
         ]
        },
        {
         "line": {
          "color": "green"
         },
         "showlegend": false,
         "type": "scatter",
         "x": [
          1481,
          1482
         ],
         "y": [
          79.61,
          79.56
         ]
        },
        {
         "line": {
          "color": "green"
         },
         "showlegend": false,
         "type": "scatter",
         "x": [
          1482,
          1483
         ],
         "y": [
          79.56,
          79.56
         ]
        },
        {
         "line": {
          "color": "gray"
         },
         "showlegend": false,
         "type": "scatter",
         "x": [
          1483,
          1484
         ],
         "y": [
          79.56,
          79.56
         ]
        },
        {
         "line": {
          "color": "gray"
         },
         "showlegend": false,
         "type": "scatter",
         "x": [
          1484,
          1485
         ],
         "y": [
          79.56,
          79.58
         ]
        },
        {
         "line": {
          "color": "green"
         },
         "showlegend": false,
         "type": "scatter",
         "x": [
          1485,
          1486
         ],
         "y": [
          79.58,
          79.61
         ]
        },
        {
         "line": {
          "color": "green"
         },
         "showlegend": false,
         "type": "scatter",
         "x": [
          1486,
          1487
         ],
         "y": [
          79.61,
          79.6
         ]
        },
        {
         "line": {
          "color": "green"
         },
         "showlegend": false,
         "type": "scatter",
         "x": [
          1487,
          1488
         ],
         "y": [
          79.6,
          79.61
         ]
        },
        {
         "line": {
          "color": "green"
         },
         "showlegend": false,
         "type": "scatter",
         "x": [
          1488,
          1489
         ],
         "y": [
          79.61,
          79.58
         ]
        },
        {
         "line": {
          "color": "gray"
         },
         "showlegend": false,
         "type": "scatter",
         "x": [
          1489,
          1490
         ],
         "y": [
          79.58,
          79.56
         ]
        },
        {
         "line": {
          "color": "gray"
         },
         "showlegend": false,
         "type": "scatter",
         "x": [
          1490,
          1491
         ],
         "y": [
          79.56,
          79.55
         ]
        },
        {
         "line": {
          "color": "gray"
         },
         "showlegend": false,
         "type": "scatter",
         "x": [
          1491,
          1492
         ],
         "y": [
          79.55,
          79.54
         ]
        },
        {
         "line": {
          "color": "gray"
         },
         "showlegend": false,
         "type": "scatter",
         "x": [
          1492,
          1493
         ],
         "y": [
          79.54,
          79.6
         ]
        },
        {
         "line": {
          "color": "gray"
         },
         "showlegend": false,
         "type": "scatter",
         "x": [
          1493,
          1494
         ],
         "y": [
          79.6,
          79.54
         ]
        },
        {
         "line": {
          "color": "gray"
         },
         "showlegend": false,
         "type": "scatter",
         "x": [
          1494,
          1495
         ],
         "y": [
          79.54,
          79.53
         ]
        },
        {
         "line": {
          "color": "red"
         },
         "showlegend": false,
         "type": "scatter",
         "x": [
          1495,
          1496
         ],
         "y": [
          79.53,
          79.51
         ]
        },
        {
         "line": {
          "color": "red"
         },
         "showlegend": false,
         "type": "scatter",
         "x": [
          1496,
          1497
         ],
         "y": [
          79.51,
          79.5
         ]
        },
        {
         "line": {
          "color": "red"
         },
         "showlegend": false,
         "type": "scatter",
         "x": [
          1497,
          1498
         ],
         "y": [
          79.5,
          79.61
         ]
        },
        {
         "line": {
          "color": "green"
         },
         "showlegend": false,
         "type": "scatter",
         "x": [
          1498,
          1499
         ],
         "y": [
          79.61,
          79.56
         ]
        },
        {
         "line": {
          "color": "gray"
         },
         "showlegend": false,
         "type": "scatter",
         "x": [
          1499,
          1500
         ],
         "y": [
          79.56,
          79.49
         ]
        },
        {
         "line": {
          "color": "red"
         },
         "showlegend": false,
         "type": "scatter",
         "x": [
          1500,
          1501
         ],
         "y": [
          79.49,
          79.47
         ]
        },
        {
         "line": {
          "color": "red"
         },
         "showlegend": false,
         "type": "scatter",
         "x": [
          1501,
          1502
         ],
         "y": [
          79.47,
          79.48
         ]
        },
        {
         "line": {
          "color": "red"
         },
         "showlegend": false,
         "type": "scatter",
         "x": [
          1502,
          1503
         ],
         "y": [
          79.48,
          79.39
         ]
        },
        {
         "line": {
          "color": "red"
         },
         "showlegend": false,
         "type": "scatter",
         "x": [
          1503,
          1504
         ],
         "y": [
          79.39,
          79.42
         ]
        },
        {
         "line": {
          "color": "red"
         },
         "showlegend": false,
         "type": "scatter",
         "x": [
          1504,
          1505
         ],
         "y": [
          79.42,
          79.44
         ]
        },
        {
         "line": {
          "color": "red"
         },
         "showlegend": false,
         "type": "scatter",
         "x": [
          1505,
          1506
         ],
         "y": [
          79.44,
          79.47
         ]
        },
        {
         "line": {
          "color": "gray"
         },
         "showlegend": false,
         "type": "scatter",
         "x": [
          1506,
          1507
         ],
         "y": [
          79.47,
          79.51
         ]
        },
        {
         "line": {
          "color": "green"
         },
         "showlegend": false,
         "type": "scatter",
         "x": [
          1507,
          1508
         ],
         "y": [
          79.51,
          79.58
         ]
        },
        {
         "line": {
          "color": "green"
         },
         "showlegend": false,
         "type": "scatter",
         "x": [
          1508,
          1509
         ],
         "y": [
          79.58,
          79.48
         ]
        },
        {
         "line": {
          "color": "gray"
         },
         "showlegend": false,
         "type": "scatter",
         "x": [
          1509,
          1510
         ],
         "y": [
          79.48,
          79.43
         ]
        },
        {
         "line": {
          "color": "red"
         },
         "showlegend": false,
         "type": "scatter",
         "x": [
          1510,
          1511
         ],
         "y": [
          79.43,
          79.36
         ]
        },
        {
         "line": {
          "color": "red"
         },
         "showlegend": false,
         "type": "scatter",
         "x": [
          1511,
          1512
         ],
         "y": [
          79.36,
          79.3
         ]
        },
        {
         "line": {
          "color": "red"
         },
         "showlegend": false,
         "type": "scatter",
         "x": [
          1512,
          1513
         ],
         "y": [
          79.3,
          79.3
         ]
        },
        {
         "line": {
          "color": "red"
         },
         "showlegend": false,
         "type": "scatter",
         "x": [
          1513,
          1514
         ],
         "y": [
          79.3,
          79.34
         ]
        },
        {
         "line": {
          "color": "gray"
         },
         "showlegend": false,
         "type": "scatter",
         "x": [
          1514,
          1515
         ],
         "y": [
          79.34,
          79.36
         ]
        },
        {
         "line": {
          "color": "gray"
         },
         "showlegend": false,
         "type": "scatter",
         "x": [
          1515,
          1516
         ],
         "y": [
          79.36,
          79.45
         ]
        },
        {
         "line": {
          "color": "green"
         },
         "showlegend": false,
         "type": "scatter",
         "x": [
          1516,
          1517
         ],
         "y": [
          79.45,
          79.53
         ]
        },
        {
         "line": {
          "color": "green"
         },
         "showlegend": false,
         "type": "scatter",
         "x": [
          1517,
          1518
         ],
         "y": [
          79.53,
          79.51
         ]
        },
        {
         "line": {
          "color": "green"
         },
         "showlegend": false,
         "type": "scatter",
         "x": [
          1518,
          1519
         ],
         "y": [
          79.51,
          79.11
         ]
        },
        {
         "line": {
          "color": "red"
         },
         "showlegend": false,
         "type": "scatter",
         "x": [
          1519,
          1520
         ],
         "y": [
          79.11,
          79.11
         ]
        },
        {
         "line": {
          "color": "red"
         },
         "showlegend": false,
         "type": "scatter",
         "x": [
          1520,
          1521
         ],
         "y": [
          79.11,
          79.05
         ]
        },
        {
         "line": {
          "color": "red"
         },
         "showlegend": false,
         "type": "scatter",
         "x": [
          1521,
          1522
         ],
         "y": [
          79.05,
          79.07
         ]
        },
        {
         "line": {
          "color": "red"
         },
         "showlegend": false,
         "type": "scatter",
         "x": [
          1522,
          1523
         ],
         "y": [
          79.07,
          79.23
         ]
        },
        {
         "line": {
          "color": "gray"
         },
         "showlegend": false,
         "type": "scatter",
         "x": [
          1523,
          1524
         ],
         "y": [
          79.23,
          79.26
         ]
        },
        {
         "line": {
          "color": "green"
         },
         "showlegend": false,
         "type": "scatter",
         "x": [
          1524,
          1525
         ],
         "y": [
          79.26,
          79.34
         ]
        },
        {
         "line": {
          "color": "green"
         },
         "showlegend": false,
         "type": "scatter",
         "x": [
          1525,
          1526
         ],
         "y": [
          79.34,
          79.36
         ]
        },
        {
         "line": {
          "color": "green"
         },
         "showlegend": false,
         "type": "scatter",
         "x": [
          1526,
          1527
         ],
         "y": [
          79.36,
          79.43
         ]
        },
        {
         "line": {
          "color": "green"
         },
         "showlegend": false,
         "type": "scatter",
         "x": [
          1527,
          1528
         ],
         "y": [
          79.43,
          79.47
         ]
        },
        {
         "line": {
          "color": "green"
         },
         "showlegend": false,
         "type": "scatter",
         "x": [
          1528,
          1529
         ],
         "y": [
          79.47,
          79.6
         ]
        },
        {
         "line": {
          "color": "green"
         },
         "showlegend": false,
         "type": "scatter",
         "x": [
          1529,
          1530
         ],
         "y": [
          79.6,
          79.68
         ]
        },
        {
         "line": {
          "color": "green"
         },
         "showlegend": false,
         "type": "scatter",
         "x": [
          1530,
          1531
         ],
         "y": [
          79.68,
          79.66
         ]
        },
        {
         "line": {
          "color": "green"
         },
         "showlegend": false,
         "type": "scatter",
         "x": [
          1531,
          1532
         ],
         "y": [
          79.66,
          79.81
         ]
        },
        {
         "line": {
          "color": "green"
         },
         "showlegend": false,
         "type": "scatter",
         "x": [
          1532,
          1533
         ],
         "y": [
          79.81,
          79.76
         ]
        },
        {
         "line": {
          "color": "green"
         },
         "showlegend": false,
         "type": "scatter",
         "x": [
          1533,
          1534
         ],
         "y": [
          79.76,
          79.8
         ]
        },
        {
         "line": {
          "color": "green"
         },
         "showlegend": false,
         "type": "scatter",
         "x": [
          1534,
          1535
         ],
         "y": [
          79.8,
          79.82
         ]
        },
        {
         "line": {
          "color": "green"
         },
         "showlegend": false,
         "type": "scatter",
         "x": [
          1535,
          1536
         ],
         "y": [
          79.82,
          79.85
         ]
        },
        {
         "line": {
          "color": "green"
         },
         "showlegend": false,
         "type": "scatter",
         "x": [
          1536,
          1537
         ],
         "y": [
          79.85,
          79.9
         ]
        },
        {
         "line": {
          "color": "green"
         },
         "showlegend": false,
         "type": "scatter",
         "x": [
          1537,
          1538
         ],
         "y": [
          79.9,
          79.87
         ]
        },
        {
         "line": {
          "color": "green"
         },
         "showlegend": false,
         "type": "scatter",
         "x": [
          1538,
          1539
         ],
         "y": [
          79.87,
          79.95
         ]
        },
        {
         "line": {
          "color": "green"
         },
         "showlegend": false,
         "type": "scatter",
         "x": [
          1539,
          1540
         ],
         "y": [
          79.95,
          79.94
         ]
        },
        {
         "line": {
          "color": "green"
         },
         "showlegend": false,
         "type": "scatter",
         "x": [
          1540,
          1541
         ],
         "y": [
          79.94,
          79.87
         ]
        },
        {
         "line": {
          "color": "green"
         },
         "showlegend": false,
         "type": "scatter",
         "x": [
          1541,
          1542
         ],
         "y": [
          79.87,
          79.92
         ]
        },
        {
         "line": {
          "color": "green"
         },
         "showlegend": false,
         "type": "scatter",
         "x": [
          1542,
          1543
         ],
         "y": [
          79.92,
          79.92
         ]
        },
        {
         "line": {
          "color": "green"
         },
         "showlegend": false,
         "type": "scatter",
         "x": [
          1543,
          1544
         ],
         "y": [
          79.92,
          79.94
         ]
        },
        {
         "line": {
          "color": "green"
         },
         "showlegend": false,
         "type": "scatter",
         "x": [
          1544,
          1545
         ],
         "y": [
          79.94,
          79.96
         ]
        },
        {
         "line": {
          "color": "green"
         },
         "showlegend": false,
         "type": "scatter",
         "x": [
          1545,
          1546
         ],
         "y": [
          79.96,
          80.01
         ]
        },
        {
         "line": {
          "color": "green"
         },
         "showlegend": false,
         "type": "scatter",
         "x": [
          1546,
          1547
         ],
         "y": [
          80.01,
          79.99
         ]
        },
        {
         "line": {
          "color": "green"
         },
         "showlegend": false,
         "type": "scatter",
         "x": [
          1547,
          1548
         ],
         "y": [
          79.99,
          80.02
         ]
        },
        {
         "line": {
          "color": "green"
         },
         "showlegend": false,
         "type": "scatter",
         "x": [
          1548,
          1549
         ],
         "y": [
          80.02,
          80.01
         ]
        },
        {
         "line": {
          "color": "green"
         },
         "showlegend": false,
         "type": "scatter",
         "x": [
          1549,
          1550
         ],
         "y": [
          80.01,
          79.96
         ]
        },
        {
         "line": {
          "color": "gray"
         },
         "showlegend": false,
         "type": "scatter",
         "x": [
          1550,
          1551
         ],
         "y": [
          79.96,
          79.99
         ]
        },
        {
         "line": {
          "color": "green"
         },
         "showlegend": false,
         "type": "scatter",
         "x": [
          1551,
          1552
         ],
         "y": [
          79.99,
          80.07
         ]
        },
        {
         "line": {
          "color": "green"
         },
         "showlegend": false,
         "type": "scatter",
         "x": [
          1552,
          1553
         ],
         "y": [
          80.07,
          80.06
         ]
        },
        {
         "line": {
          "color": "green"
         },
         "showlegend": false,
         "type": "scatter",
         "x": [
          1553,
          1554
         ],
         "y": [
          80.06,
          80.08
         ]
        },
        {
         "line": {
          "color": "green"
         },
         "showlegend": false,
         "type": "scatter",
         "x": [
          1554,
          1555
         ],
         "y": [
          80.08,
          80.12
         ]
        },
        {
         "line": {
          "color": "green"
         },
         "showlegend": false,
         "type": "scatter",
         "x": [
          1555,
          1556
         ],
         "y": [
          80.12,
          80.07
         ]
        },
        {
         "line": {
          "color": "green"
         },
         "showlegend": false,
         "type": "scatter",
         "x": [
          1556,
          1557
         ],
         "y": [
          80.07,
          80
         ]
        },
        {
         "line": {
          "color": "gray"
         },
         "showlegend": false,
         "type": "scatter",
         "x": [
          1557,
          1558
         ],
         "y": [
          80,
          80.1
         ]
        },
        {
         "line": {
          "color": "green"
         },
         "showlegend": false,
         "type": "scatter",
         "x": [
          1558,
          1559
         ],
         "y": [
          80.1,
          80.19
         ]
        },
        {
         "line": {
          "color": "green"
         },
         "showlegend": false,
         "type": "scatter",
         "x": [
          1559,
          1560
         ],
         "y": [
          80.19,
          80.19
         ]
        },
        {
         "line": {
          "color": "green"
         },
         "showlegend": false,
         "type": "scatter",
         "x": [
          1560,
          1561
         ],
         "y": [
          80.19,
          80.25
         ]
        },
        {
         "line": {
          "color": "green"
         },
         "showlegend": false,
         "type": "scatter",
         "x": [
          1561,
          1562
         ],
         "y": [
          80.25,
          80.3
         ]
        },
        {
         "line": {
          "color": "green"
         },
         "showlegend": false,
         "type": "scatter",
         "x": [
          1562,
          1563
         ],
         "y": [
          80.3,
          80.25
         ]
        },
        {
         "line": {
          "color": "green"
         },
         "showlegend": false,
         "type": "scatter",
         "x": [
          1563,
          1564
         ],
         "y": [
          80.25,
          80.29
         ]
        },
        {
         "line": {
          "color": "green"
         },
         "showlegend": false,
         "type": "scatter",
         "x": [
          1564,
          1565
         ],
         "y": [
          80.29,
          80.19
         ]
        },
        {
         "line": {
          "color": "gray"
         },
         "showlegend": false,
         "type": "scatter",
         "x": [
          1565,
          1566
         ],
         "y": [
          80.19,
          80.18
         ]
        },
        {
         "line": {
          "color": "gray"
         },
         "showlegend": false,
         "type": "scatter",
         "x": [
          1566,
          1567
         ],
         "y": [
          80.18,
          80.23
         ]
        },
        {
         "line": {
          "color": "green"
         },
         "showlegend": false,
         "type": "scatter",
         "x": [
          1567,
          1568
         ],
         "y": [
          80.23,
          80.32
         ]
        },
        {
         "line": {
          "color": "green"
         },
         "showlegend": false,
         "type": "scatter",
         "x": [
          1568,
          1569
         ],
         "y": [
          80.32,
          80.27
         ]
        },
        {
         "line": {
          "color": "green"
         },
         "showlegend": false,
         "type": "scatter",
         "x": [
          1569,
          1570
         ],
         "y": [
          80.27,
          80.35
         ]
        },
        {
         "line": {
          "color": "green"
         },
         "showlegend": false,
         "type": "scatter",
         "x": [
          1570,
          1571
         ],
         "y": [
          80.35,
          80.31
         ]
        },
        {
         "line": {
          "color": "green"
         },
         "showlegend": false,
         "type": "scatter",
         "x": [
          1571,
          1572
         ],
         "y": [
          80.31,
          80.17
         ]
        },
        {
         "line": {
          "color": "gray"
         },
         "showlegend": false,
         "type": "scatter",
         "x": [
          1572,
          1573
         ],
         "y": [
          80.17,
          80.14
         ]
        },
        {
         "line": {
          "color": "red"
         },
         "showlegend": false,
         "type": "scatter",
         "x": [
          1573,
          1574
         ],
         "y": [
          80.14,
          80.19
         ]
        },
        {
         "line": {
          "color": "gray"
         },
         "showlegend": false,
         "type": "scatter",
         "x": [
          1574,
          1575
         ],
         "y": [
          80.19,
          80.2
         ]
        },
        {
         "line": {
          "color": "gray"
         },
         "showlegend": false,
         "type": "scatter",
         "x": [
          1575,
          1576
         ],
         "y": [
          80.2,
          80.49
         ]
        },
        {
         "line": {
          "color": "green"
         },
         "showlegend": false,
         "type": "scatter",
         "x": [
          1576,
          1577
         ],
         "y": [
          80.49,
          80.42
         ]
        },
        {
         "line": {
          "color": "green"
         },
         "showlegend": false,
         "type": "scatter",
         "x": [
          1577,
          1578
         ],
         "y": [
          80.42,
          80.39
         ]
        },
        {
         "line": {
          "color": "green"
         },
         "showlegend": false,
         "type": "scatter",
         "x": [
          1578,
          1579
         ],
         "y": [
          80.39,
          80.52
         ]
        },
        {
         "line": {
          "color": "green"
         },
         "showlegend": false,
         "type": "scatter",
         "x": [
          1579,
          1580
         ],
         "y": [
          80.52,
          80.54
         ]
        },
        {
         "line": {
          "color": "green"
         },
         "showlegend": false,
         "type": "scatter",
         "x": [
          1580,
          1581
         ],
         "y": [
          80.54,
          80.54
         ]
        },
        {
         "line": {
          "color": "green"
         },
         "showlegend": false,
         "type": "scatter",
         "x": [
          1581,
          1582
         ],
         "y": [
          80.54,
          80.51
         ]
        },
        {
         "line": {
          "color": "green"
         },
         "showlegend": false,
         "type": "scatter",
         "x": [
          1582,
          1583
         ],
         "y": [
          80.51,
          80.59
         ]
        },
        {
         "line": {
          "color": "green"
         },
         "showlegend": false,
         "type": "scatter",
         "x": [
          1583,
          1584
         ],
         "y": [
          80.59,
          80.73
         ]
        },
        {
         "line": {
          "color": "green"
         },
         "showlegend": false,
         "type": "scatter",
         "x": [
          1584,
          1585
         ],
         "y": [
          80.73,
          80.8
         ]
        },
        {
         "line": {
          "color": "green"
         },
         "showlegend": false,
         "type": "scatter",
         "x": [
          1585,
          1586
         ],
         "y": [
          80.8,
          80.83
         ]
        },
        {
         "line": {
          "color": "green"
         },
         "showlegend": false,
         "type": "scatter",
         "x": [
          1586,
          1587
         ],
         "y": [
          80.83,
          80.91
         ]
        },
        {
         "line": {
          "color": "green"
         },
         "showlegend": false,
         "type": "scatter",
         "x": [
          1587,
          1588
         ],
         "y": [
          80.91,
          80.9
         ]
        },
        {
         "line": {
          "color": "green"
         },
         "showlegend": false,
         "type": "scatter",
         "x": [
          1588,
          1589
         ],
         "y": [
          80.9,
          80.93
         ]
        },
        {
         "line": {
          "color": "green"
         },
         "showlegend": false,
         "type": "scatter",
         "x": [
          1589,
          1590
         ],
         "y": [
          80.93,
          80.88
         ]
        },
        {
         "line": {
          "color": "green"
         },
         "showlegend": false,
         "type": "scatter",
         "x": [
          1590,
          1591
         ],
         "y": [
          80.88,
          80.91
         ]
        },
        {
         "line": {
          "color": "green"
         },
         "showlegend": false,
         "type": "scatter",
         "x": [
          1591,
          1592
         ],
         "y": [
          80.91,
          80.73
         ]
        },
        {
         "line": {
          "color": "gray"
         },
         "showlegend": false,
         "type": "scatter",
         "x": [
          1592,
          1593
         ],
         "y": [
          80.73,
          81.02
         ]
        },
        {
         "line": {
          "color": "green"
         },
         "showlegend": false,
         "type": "scatter",
         "x": [
          1593,
          1594
         ],
         "y": [
          81.02,
          81.02
         ]
        },
        {
         "line": {
          "color": "green"
         },
         "showlegend": false,
         "type": "scatter",
         "x": [
          1594,
          1595
         ],
         "y": [
          81.02,
          80.79
         ]
        },
        {
         "line": {
          "color": "gray"
         },
         "showlegend": false,
         "type": "scatter",
         "x": [
          1595,
          1596
         ],
         "y": [
          80.79,
          80.79
         ]
        },
        {
         "line": {
          "color": "gray"
         },
         "showlegend": false,
         "type": "scatter",
         "x": [
          1596,
          1597
         ],
         "y": [
          80.79,
          80.75
         ]
        },
        {
         "line": {
          "color": "gray"
         },
         "showlegend": false,
         "type": "scatter",
         "x": [
          1597,
          1598
         ],
         "y": [
          80.75,
          80.73
         ]
        },
        {
         "line": {
          "color": "gray"
         },
         "showlegend": false,
         "type": "scatter",
         "x": [
          1598,
          1599
         ],
         "y": [
          80.73,
          80.76
         ]
        },
        {
         "line": {
          "color": "gray"
         },
         "showlegend": false,
         "type": "scatter",
         "x": [
          1599,
          1600
         ],
         "y": [
          80.76,
          80.88
         ]
        },
        {
         "line": {
          "color": "gray"
         },
         "showlegend": false,
         "type": "scatter",
         "x": [
          1600,
          1601
         ],
         "y": [
          80.88,
          81.03
         ]
        },
        {
         "line": {
          "color": "green"
         },
         "showlegend": false,
         "type": "scatter",
         "x": [
          1601,
          1602
         ],
         "y": [
          81.03,
          81.1
         ]
        },
        {
         "line": {
          "color": "green"
         },
         "showlegend": false,
         "type": "scatter",
         "x": [
          1602,
          1603
         ],
         "y": [
          81.1,
          81.17
         ]
        },
        {
         "line": {
          "color": "green"
         },
         "showlegend": false,
         "type": "scatter",
         "x": [
          1603,
          1604
         ],
         "y": [
          81.17,
          81.13
         ]
        },
        {
         "line": {
          "color": "green"
         },
         "showlegend": false,
         "type": "scatter",
         "x": [
          1604,
          1605
         ],
         "y": [
          81.13,
          81.16
         ]
        },
        {
         "line": {
          "color": "green"
         },
         "showlegend": false,
         "type": "scatter",
         "x": [
          1605,
          1606
         ],
         "y": [
          81.16,
          81.16
         ]
        },
        {
         "line": {
          "color": "green"
         },
         "showlegend": false,
         "type": "scatter",
         "x": [
          1606,
          1607
         ],
         "y": [
          81.16,
          81.2
         ]
        },
        {
         "line": {
          "color": "green"
         },
         "showlegend": false,
         "type": "scatter",
         "x": [
          1607,
          1608
         ],
         "y": [
          81.2,
          81.26
         ]
        },
        {
         "line": {
          "color": "green"
         },
         "showlegend": false,
         "type": "scatter",
         "x": [
          1608,
          1609
         ],
         "y": [
          81.26,
          81.34
         ]
        },
        {
         "line": {
          "color": "green"
         },
         "showlegend": false,
         "type": "scatter",
         "x": [
          1609,
          1610
         ],
         "y": [
          81.34,
          81.33
         ]
        },
        {
         "line": {
          "color": "green"
         },
         "showlegend": false,
         "type": "scatter",
         "x": [
          1610,
          1611
         ],
         "y": [
          81.33,
          81.36
         ]
        },
        {
         "line": {
          "color": "green"
         },
         "showlegend": false,
         "type": "scatter",
         "x": [
          1611,
          1612
         ],
         "y": [
          81.36,
          81.35
         ]
        },
        {
         "line": {
          "color": "green"
         },
         "showlegend": false,
         "type": "scatter",
         "x": [
          1612,
          1613
         ],
         "y": [
          81.35,
          81.32
         ]
        },
        {
         "line": {
          "color": "green"
         },
         "showlegend": false,
         "type": "scatter",
         "x": [
          1613,
          1614
         ],
         "y": [
          81.32,
          81.32
         ]
        },
        {
         "line": {
          "color": "green"
         },
         "showlegend": false,
         "type": "scatter",
         "x": [
          1614,
          1615
         ],
         "y": [
          81.32,
          81.34
         ]
        },
        {
         "line": {
          "color": "green"
         },
         "showlegend": false,
         "type": "scatter",
         "x": [
          1615,
          1616
         ],
         "y": [
          81.34,
          81.27
         ]
        },
        {
         "line": {
          "color": "gray"
         },
         "showlegend": false,
         "type": "scatter",
         "x": [
          1616,
          1617
         ],
         "y": [
          81.27,
          81.38
         ]
        },
        {
         "line": {
          "color": "green"
         },
         "showlegend": false,
         "type": "scatter",
         "x": [
          1617,
          1618
         ],
         "y": [
          81.38,
          81.47
         ]
        },
        {
         "line": {
          "color": "green"
         },
         "showlegend": false,
         "type": "scatter",
         "x": [
          1618,
          1619
         ],
         "y": [
          81.47,
          81.42
         ]
        },
        {
         "line": {
          "color": "green"
         },
         "showlegend": false,
         "type": "scatter",
         "x": [
          1619,
          1620
         ],
         "y": [
          81.42,
          81.55
         ]
        },
        {
         "line": {
          "color": "green"
         },
         "showlegend": false,
         "type": "scatter",
         "x": [
          1620,
          1621
         ],
         "y": [
          81.55,
          81.52
         ]
        },
        {
         "line": {
          "color": "green"
         },
         "showlegend": false,
         "type": "scatter",
         "x": [
          1621,
          1622
         ],
         "y": [
          81.52,
          81.47
         ]
        },
        {
         "line": {
          "color": "green"
         },
         "showlegend": false,
         "type": "scatter",
         "x": [
          1622,
          1623
         ],
         "y": [
          81.47,
          81.42
         ]
        },
        {
         "line": {
          "color": "gray"
         },
         "showlegend": false,
         "type": "scatter",
         "x": [
          1623,
          1624
         ],
         "y": [
          81.42,
          81.35
         ]
        },
        {
         "line": {
          "color": "gray"
         },
         "showlegend": false,
         "type": "scatter",
         "x": [
          1624,
          1625
         ],
         "y": [
          81.35,
          81.36
         ]
        },
        {
         "line": {
          "color": "gray"
         },
         "showlegend": false,
         "type": "scatter",
         "x": [
          1625,
          1626
         ],
         "y": [
          81.36,
          81.37
         ]
        },
        {
         "line": {
          "color": "gray"
         },
         "showlegend": false,
         "type": "scatter",
         "x": [
          1626,
          1627
         ],
         "y": [
          81.37,
          81.38
         ]
        },
        {
         "line": {
          "color": "gray"
         },
         "showlegend": false,
         "type": "scatter",
         "x": [
          1627,
          1628
         ],
         "y": [
          81.38,
          81.43
         ]
        },
        {
         "line": {
          "color": "gray"
         },
         "showlegend": false,
         "type": "scatter",
         "x": [
          1628,
          1629
         ],
         "y": [
          81.43,
          81.4
         ]
        },
        {
         "line": {
          "color": "gray"
         },
         "showlegend": false,
         "type": "scatter",
         "x": [
          1629,
          1630
         ],
         "y": [
          81.4,
          81.47
         ]
        },
        {
         "line": {
          "color": "green"
         },
         "showlegend": false,
         "type": "scatter",
         "x": [
          1630,
          1631
         ],
         "y": [
          81.47,
          81.46
         ]
        },
        {
         "line": {
          "color": "gray"
         },
         "showlegend": false,
         "type": "scatter",
         "x": [
          1631,
          1632
         ],
         "y": [
          81.46,
          81.49
         ]
        },
        {
         "line": {
          "color": "green"
         },
         "showlegend": false,
         "type": "scatter",
         "x": [
          1632,
          1633
         ],
         "y": [
          81.49,
          81.37
         ]
        },
        {
         "line": {
          "color": "gray"
         },
         "showlegend": false,
         "type": "scatter",
         "x": [
          1633,
          1634
         ],
         "y": [
          81.37,
          81.57
         ]
        },
        {
         "line": {
          "color": "green"
         },
         "showlegend": false,
         "type": "scatter",
         "x": [
          1634,
          1635
         ],
         "y": [
          81.57,
          81.59
         ]
        },
        {
         "line": {
          "color": "green"
         },
         "showlegend": false,
         "type": "scatter",
         "x": [
          1635,
          1636
         ],
         "y": [
          81.59,
          81.59
         ]
        },
        {
         "line": {
          "color": "green"
         },
         "showlegend": false,
         "type": "scatter",
         "x": [
          1636,
          1637
         ],
         "y": [
          81.59,
          81.55
         ]
        },
        {
         "line": {
          "color": "green"
         },
         "showlegend": false,
         "type": "scatter",
         "x": [
          1637,
          1638
         ],
         "y": [
          81.55,
          81.59
         ]
        },
        {
         "line": {
          "color": "green"
         },
         "showlegend": false,
         "type": "scatter",
         "x": [
          1638,
          1639
         ],
         "y": [
          81.59,
          81.64
         ]
        },
        {
         "line": {
          "color": "green"
         },
         "showlegend": false,
         "type": "scatter",
         "x": [
          1639,
          1640
         ],
         "y": [
          81.64,
          81.71
         ]
        },
        {
         "line": {
          "color": "green"
         },
         "showlegend": false,
         "type": "scatter",
         "x": [
          1640,
          1641
         ],
         "y": [
          81.71,
          81.84
         ]
        },
        {
         "line": {
          "color": "green"
         },
         "showlegend": false,
         "type": "scatter",
         "x": [
          1641,
          1642
         ],
         "y": [
          81.84,
          81.83
         ]
        },
        {
         "line": {
          "color": "green"
         },
         "showlegend": false,
         "type": "scatter",
         "x": [
          1642,
          1643
         ],
         "y": [
          81.83,
          81.84
         ]
        },
        {
         "line": {
          "color": "green"
         },
         "showlegend": false,
         "type": "scatter",
         "x": [
          1643,
          1644
         ],
         "y": [
          81.84,
          81.84
         ]
        },
        {
         "line": {
          "color": "green"
         },
         "showlegend": false,
         "type": "scatter",
         "x": [
          1644,
          1645
         ],
         "y": [
          81.84,
          81.85
         ]
        },
        {
         "line": {
          "color": "green"
         },
         "showlegend": false,
         "type": "scatter",
         "x": [
          1645,
          1646
         ],
         "y": [
          81.85,
          81.85
         ]
        },
        {
         "line": {
          "color": "green"
         },
         "showlegend": false,
         "type": "scatter",
         "x": [
          1646,
          1647
         ],
         "y": [
          81.85,
          81.81
         ]
        },
        {
         "line": {
          "color": "green"
         },
         "showlegend": false,
         "type": "scatter",
         "x": [
          1647,
          1648
         ],
         "y": [
          81.81,
          81.84
         ]
        },
        {
         "line": {
          "color": "green"
         },
         "showlegend": false,
         "type": "scatter",
         "x": [
          1648,
          1649
         ],
         "y": [
          81.84,
          81.82
         ]
        },
        {
         "line": {
          "color": "green"
         },
         "showlegend": false,
         "type": "scatter",
         "x": [
          1649,
          1650
         ],
         "y": [
          81.82,
          81.79
         ]
        },
        {
         "line": {
          "color": "gray"
         },
         "showlegend": false,
         "type": "scatter",
         "x": [
          1650,
          1651
         ],
         "y": [
          81.79,
          81.79
         ]
        },
        {
         "line": {
          "color": "gray"
         },
         "showlegend": false,
         "type": "scatter",
         "x": [
          1651,
          1652
         ],
         "y": [
          81.79,
          81.78
         ]
        },
        {
         "line": {
          "color": "gray"
         },
         "showlegend": false,
         "type": "scatter",
         "x": [
          1652,
          1653
         ],
         "y": [
          81.78,
          81.79
         ]
        },
        {
         "line": {
          "color": "gray"
         },
         "showlegend": false,
         "type": "scatter",
         "x": [
          1653,
          1654
         ],
         "y": [
          81.79,
          81.83
         ]
        },
        {
         "line": {
          "color": "gray"
         },
         "showlegend": false,
         "type": "scatter",
         "x": [
          1654,
          1655
         ],
         "y": [
          81.83,
          81.82
         ]
        },
        {
         "line": {
          "color": "gray"
         },
         "showlegend": false,
         "type": "scatter",
         "x": [
          1655,
          1656
         ],
         "y": [
          81.82,
          81.8
         ]
        },
        {
         "line": {
          "color": "green"
         },
         "showlegend": false,
         "type": "scatter",
         "x": [
          1656,
          1657
         ],
         "y": [
          81.8,
          81.78
         ]
        },
        {
         "line": {
          "color": "gray"
         },
         "showlegend": false,
         "type": "scatter",
         "x": [
          1657,
          1658
         ],
         "y": [
          81.78,
          81.8
         ]
        },
        {
         "line": {
          "color": "gray"
         },
         "showlegend": false,
         "type": "scatter",
         "x": [
          1658,
          1659
         ],
         "y": [
          81.8,
          81.79
         ]
        },
        {
         "line": {
          "color": "gray"
         },
         "showlegend": false,
         "type": "scatter",
         "x": [
          1659,
          1660
         ],
         "y": [
          81.79,
          81.79
         ]
        },
        {
         "line": {
          "color": "gray"
         },
         "showlegend": false,
         "type": "scatter",
         "x": [
          1660,
          1661
         ],
         "y": [
          81.79,
          81.82
         ]
        },
        {
         "line": {
          "color": "green"
         },
         "showlegend": false,
         "type": "scatter",
         "x": [
          1661,
          1662
         ],
         "y": [
          81.82,
          81.78
         ]
        },
        {
         "line": {
          "color": "gray"
         },
         "showlegend": false,
         "type": "scatter",
         "x": [
          1662,
          1663
         ],
         "y": [
          81.78,
          81.76
         ]
        },
        {
         "line": {
          "color": "gray"
         },
         "showlegend": false,
         "type": "scatter",
         "x": [
          1663,
          1664
         ],
         "y": [
          81.76,
          81.77
         ]
        },
        {
         "line": {
          "color": "red"
         },
         "showlegend": false,
         "type": "scatter",
         "x": [
          1664,
          1665
         ],
         "y": [
          81.77,
          81.77
         ]
        },
        {
         "line": {
          "color": "red"
         },
         "showlegend": false,
         "type": "scatter",
         "x": [
          1665,
          1666
         ],
         "y": [
          81.77,
          81.77
         ]
        },
        {
         "line": {
          "color": "gray"
         },
         "showlegend": false,
         "type": "scatter",
         "x": [
          1666,
          1667
         ],
         "y": [
          81.77,
          81.79
         ]
        },
        {
         "line": {
          "color": "gray"
         },
         "showlegend": false,
         "type": "scatter",
         "x": [
          1667,
          1668
         ],
         "y": [
          81.79,
          81.77
         ]
        },
        {
         "line": {
          "color": "gray"
         },
         "showlegend": false,
         "type": "scatter",
         "x": [
          1668,
          1669
         ],
         "y": [
          81.77,
          81.73
         ]
        },
        {
         "line": {
          "color": "red"
         },
         "showlegend": false,
         "type": "scatter",
         "x": [
          1669,
          1670
         ],
         "y": [
          81.73,
          81.72
         ]
        },
        {
         "line": {
          "color": "red"
         },
         "showlegend": false,
         "type": "scatter",
         "x": [
          1670,
          1671
         ],
         "y": [
          81.72,
          81.73
         ]
        },
        {
         "line": {
          "color": "red"
         },
         "showlegend": false,
         "type": "scatter",
         "x": [
          1671,
          1672
         ],
         "y": [
          81.73,
          81.73
         ]
        },
        {
         "line": {
          "color": "red"
         },
         "showlegend": false,
         "type": "scatter",
         "x": [
          1672,
          1673
         ],
         "y": [
          81.73,
          81.73
         ]
        },
        {
         "line": {
          "color": "red"
         },
         "showlegend": false,
         "type": "scatter",
         "x": [
          1673,
          1674
         ],
         "y": [
          81.73,
          81.75
         ]
        },
        {
         "line": {
          "color": "red"
         },
         "showlegend": false,
         "type": "scatter",
         "x": [
          1674,
          1675
         ],
         "y": [
          81.75,
          81.71
         ]
        },
        {
         "line": {
          "color": "red"
         },
         "showlegend": false,
         "type": "scatter",
         "x": [
          1675,
          1676
         ],
         "y": [
          81.71,
          81.79
         ]
        },
        {
         "line": {
          "color": "gray"
         },
         "showlegend": false,
         "type": "scatter",
         "x": [
          1676,
          1677
         ],
         "y": [
          81.79,
          81.67
         ]
        },
        {
         "line": {
          "color": "gray"
         },
         "showlegend": false,
         "type": "scatter",
         "x": [
          1677,
          1678
         ],
         "y": [
          81.67,
          81.71
         ]
        },
        {
         "line": {
          "color": "red"
         },
         "showlegend": false,
         "type": "scatter",
         "x": [
          1678,
          1679
         ],
         "y": [
          81.71,
          81.65
         ]
        },
        {
         "line": {
          "color": "red"
         },
         "showlegend": false,
         "type": "scatter",
         "x": [
          1679,
          1680
         ],
         "y": [
          81.65,
          81.7
         ]
        },
        {
         "line": {
          "color": "gray"
         },
         "showlegend": false,
         "type": "scatter",
         "x": [
          1680,
          1681
         ],
         "y": [
          81.7,
          81.69
         ]
        },
        {
         "line": {
          "color": "gray"
         },
         "showlegend": false,
         "type": "scatter",
         "x": [
          1681,
          1682
         ],
         "y": [
          81.69,
          81.66
         ]
        },
        {
         "line": {
          "color": "red"
         },
         "showlegend": false,
         "type": "scatter",
         "x": [
          1682,
          1683
         ],
         "y": [
          81.66,
          81.65
         ]
        },
        {
         "line": {
          "color": "red"
         },
         "showlegend": false,
         "type": "scatter",
         "x": [
          1683,
          1684
         ],
         "y": [
          81.65,
          81.64
         ]
        },
        {
         "line": {
          "color": "red"
         },
         "showlegend": false,
         "type": "scatter",
         "x": [
          1684,
          1685
         ],
         "y": [
          81.64,
          81.59
         ]
        },
        {
         "line": {
          "color": "red"
         },
         "showlegend": false,
         "type": "scatter",
         "x": [
          1685,
          1686
         ],
         "y": [
          81.59,
          81.61
         ]
        },
        {
         "line": {
          "color": "red"
         },
         "showlegend": false,
         "type": "scatter",
         "x": [
          1686,
          1687
         ],
         "y": [
          81.61,
          81.6
         ]
        },
        {
         "line": {
          "color": "red"
         },
         "showlegend": false,
         "type": "scatter",
         "x": [
          1687,
          1688
         ],
         "y": [
          81.6,
          81.54
         ]
        },
        {
         "line": {
          "color": "red"
         },
         "showlegend": false,
         "type": "scatter",
         "x": [
          1688,
          1689
         ],
         "y": [
          81.54,
          81.56
         ]
        },
        {
         "line": {
          "color": "red"
         },
         "showlegend": false,
         "type": "scatter",
         "x": [
          1689,
          1690
         ],
         "y": [
          81.56,
          81.53
         ]
        },
        {
         "line": {
          "color": "red"
         },
         "showlegend": false,
         "type": "scatter",
         "x": [
          1690,
          1691
         ],
         "y": [
          81.53,
          81.5
         ]
        },
        {
         "line": {
          "color": "red"
         },
         "showlegend": false,
         "type": "scatter",
         "x": [
          1691,
          1692
         ],
         "y": [
          81.5,
          81.49
         ]
        },
        {
         "line": {
          "color": "red"
         },
         "showlegend": false,
         "type": "scatter",
         "x": [
          1692,
          1693
         ],
         "y": [
          81.49,
          81.44
         ]
        },
        {
         "line": {
          "color": "red"
         },
         "showlegend": false,
         "type": "scatter",
         "x": [
          1693,
          1694
         ],
         "y": [
          81.44,
          81.45
         ]
        },
        {
         "line": {
          "color": "red"
         },
         "showlegend": false,
         "type": "scatter",
         "x": [
          1694,
          1695
         ],
         "y": [
          81.45,
          81.44
         ]
        },
        {
         "line": {
          "color": "red"
         },
         "showlegend": false,
         "type": "scatter",
         "x": [
          1695,
          1696
         ],
         "y": [
          81.44,
          81.46
         ]
        },
        {
         "line": {
          "color": "gray"
         },
         "showlegend": false,
         "type": "scatter",
         "x": [
          1696,
          1697
         ],
         "y": [
          81.46,
          81.52
         ]
        },
        {
         "line": {
          "color": "green"
         },
         "showlegend": false,
         "type": "scatter",
         "x": [
          1697,
          1698
         ],
         "y": [
          81.52,
          81.5
         ]
        },
        {
         "line": {
          "color": "gray"
         },
         "showlegend": false,
         "type": "scatter",
         "x": [
          1698,
          1699
         ],
         "y": [
          81.5,
          81.51
         ]
        },
        {
         "line": {
          "color": "green"
         },
         "showlegend": false,
         "type": "scatter",
         "x": [
          1699,
          1700
         ],
         "y": [
          81.51,
          81.53
         ]
        },
        {
         "line": {
          "color": "green"
         },
         "showlegend": false,
         "type": "scatter",
         "x": [
          1700,
          1701
         ],
         "y": [
          81.53,
          81.53
         ]
        },
        {
         "line": {
          "color": "green"
         },
         "showlegend": false,
         "type": "scatter",
         "x": [
          1701,
          1702
         ],
         "y": [
          81.53,
          81.54
         ]
        },
        {
         "line": {
          "color": "green"
         },
         "showlegend": false,
         "type": "scatter",
         "x": [
          1702,
          1703
         ],
         "y": [
          81.54,
          81.55
         ]
        },
        {
         "line": {
          "color": "green"
         },
         "showlegend": false,
         "type": "scatter",
         "x": [
          1703,
          1704
         ],
         "y": [
          81.55,
          81.61
         ]
        },
        {
         "line": {
          "color": "green"
         },
         "showlegend": false,
         "type": "scatter",
         "x": [
          1704,
          1705
         ],
         "y": [
          81.61,
          81.63
         ]
        },
        {
         "line": {
          "color": "green"
         },
         "showlegend": false,
         "type": "scatter",
         "x": [
          1705,
          1706
         ],
         "y": [
          81.63,
          81.63
         ]
        },
        {
         "line": {
          "color": "green"
         },
         "showlegend": false,
         "type": "scatter",
         "x": [
          1706,
          1707
         ],
         "y": [
          81.63,
          81.62
         ]
        },
        {
         "line": {
          "color": "green"
         },
         "showlegend": false,
         "type": "scatter",
         "x": [
          1707,
          1708
         ],
         "y": [
          81.62,
          81.6
         ]
        },
        {
         "line": {
          "color": "green"
         },
         "showlegend": false,
         "type": "scatter",
         "x": [
          1708,
          1709
         ],
         "y": [
          81.6,
          81.63
         ]
        },
        {
         "line": {
          "color": "green"
         },
         "showlegend": false,
         "type": "scatter",
         "x": [
          1709,
          1710
         ],
         "y": [
          81.63,
          81.58
         ]
        },
        {
         "line": {
          "color": "gray"
         },
         "showlegend": false,
         "type": "scatter",
         "x": [
          1710,
          1711
         ],
         "y": [
          81.58,
          81.61
         ]
        },
        {
         "line": {
          "color": "green"
         },
         "showlegend": false,
         "type": "scatter",
         "x": [
          1711,
          1712
         ],
         "y": [
          81.61,
          81.57
         ]
        },
        {
         "line": {
          "color": "gray"
         },
         "showlegend": false,
         "type": "scatter",
         "x": [
          1712,
          1713
         ],
         "y": [
          81.57,
          81.64
         ]
        },
        {
         "line": {
          "color": "green"
         },
         "showlegend": false,
         "type": "scatter",
         "x": [
          1713,
          1714
         ],
         "y": [
          81.64,
          81.67
         ]
        },
        {
         "line": {
          "color": "green"
         },
         "showlegend": false,
         "type": "scatter",
         "x": [
          1714,
          1715
         ],
         "y": [
          81.67,
          81.59
         ]
        },
        {
         "line": {
          "color": "gray"
         },
         "showlegend": false,
         "type": "scatter",
         "x": [
          1715,
          1716
         ],
         "y": [
          81.59,
          81.59
         ]
        },
        {
         "line": {
          "color": "gray"
         },
         "showlegend": false,
         "type": "scatter",
         "x": [
          1716,
          1717
         ],
         "y": [
          81.59,
          81.55
         ]
        },
        {
         "line": {
          "color": "gray"
         },
         "showlegend": false,
         "type": "scatter",
         "x": [
          1717,
          1718
         ],
         "y": [
          81.55,
          81.54
         ]
        },
        {
         "line": {
          "color": "gray"
         },
         "showlegend": false,
         "type": "scatter",
         "x": [
          1718,
          1719
         ],
         "y": [
          81.54,
          81.55
         ]
        },
        {
         "line": {
          "color": "red"
         },
         "showlegend": false,
         "type": "scatter",
         "x": [
          1719,
          1720
         ],
         "y": [
          81.55,
          81.49
         ]
        },
        {
         "line": {
          "color": "red"
         },
         "showlegend": false,
         "type": "scatter",
         "x": [
          1720,
          1721
         ],
         "y": [
          81.49,
          81.46
         ]
        },
        {
         "line": {
          "color": "red"
         },
         "showlegend": false,
         "type": "scatter",
         "x": [
          1721,
          1722
         ],
         "y": [
          81.46,
          81.44
         ]
        },
        {
         "line": {
          "color": "red"
         },
         "showlegend": false,
         "type": "scatter",
         "x": [
          1722,
          1723
         ],
         "y": [
          81.44,
          81.44
         ]
        },
        {
         "line": {
          "color": "red"
         },
         "showlegend": false,
         "type": "scatter",
         "x": [
          1723,
          1724
         ],
         "y": [
          81.44,
          81.43
         ]
        },
        {
         "line": {
          "color": "red"
         },
         "showlegend": false,
         "type": "scatter",
         "x": [
          1724,
          1725
         ],
         "y": [
          81.43,
          81.43
         ]
        },
        {
         "line": {
          "color": "red"
         },
         "showlegend": false,
         "type": "scatter",
         "x": [
          1725,
          1726
         ],
         "y": [
          81.43,
          81.38
         ]
        },
        {
         "line": {
          "color": "red"
         },
         "showlegend": false,
         "type": "scatter",
         "x": [
          1726,
          1727
         ],
         "y": [
          81.38,
          81.38
         ]
        },
        {
         "line": {
          "color": "red"
         },
         "showlegend": false,
         "type": "scatter",
         "x": [
          1727,
          1728
         ],
         "y": [
          81.38,
          81.37
         ]
        },
        {
         "line": {
          "color": "red"
         },
         "showlegend": false,
         "type": "scatter",
         "x": [
          1728,
          1729
         ],
         "y": [
          81.37,
          81.37
         ]
        },
        {
         "line": {
          "color": "red"
         },
         "showlegend": false,
         "type": "scatter",
         "x": [
          1729,
          1730
         ],
         "y": [
          81.37,
          81.42
         ]
        },
        {
         "line": {
          "color": "gray"
         },
         "showlegend": false,
         "type": "scatter",
         "x": [
          1730,
          1731
         ],
         "y": [
          81.42,
          81.43
         ]
        },
        {
         "line": {
          "color": "gray"
         },
         "showlegend": false,
         "type": "scatter",
         "x": [
          1731,
          1732
         ],
         "y": [
          81.43,
          81.47
         ]
        },
        {
         "line": {
          "color": "green"
         },
         "showlegend": false,
         "type": "scatter",
         "x": [
          1732,
          1733
         ],
         "y": [
          81.47,
          81.45
         ]
        },
        {
         "line": {
          "color": "green"
         },
         "showlegend": false,
         "type": "scatter",
         "x": [
          1733,
          1734
         ],
         "y": [
          81.45,
          81.38
         ]
        },
        {
         "line": {
          "color": "gray"
         },
         "showlegend": false,
         "type": "scatter",
         "x": [
          1734,
          1735
         ],
         "y": [
          81.38,
          81.37
         ]
        },
        {
         "line": {
          "color": "gray"
         },
         "showlegend": false,
         "type": "scatter",
         "x": [
          1735,
          1736
         ],
         "y": [
          81.37,
          81.39
         ]
        },
        {
         "line": {
          "color": "gray"
         },
         "showlegend": false,
         "type": "scatter",
         "x": [
          1736,
          1737
         ],
         "y": [
          81.39,
          81.43
         ]
        },
        {
         "line": {
          "color": "green"
         },
         "showlegend": false,
         "type": "scatter",
         "x": [
          1737,
          1738
         ],
         "y": [
          81.43,
          81.42
         ]
        },
        {
         "line": {
          "color": "gray"
         },
         "showlegend": false,
         "type": "scatter",
         "x": [
          1738,
          1739
         ],
         "y": [
          81.42,
          81.45
         ]
        },
        {
         "line": {
          "color": "green"
         },
         "showlegend": false,
         "type": "scatter",
         "x": [
          1739,
          1740
         ],
         "y": [
          81.45,
          81.49
         ]
        },
        {
         "line": {
          "color": "green"
         },
         "showlegend": false,
         "type": "scatter",
         "x": [
          1740,
          1741
         ],
         "y": [
          81.49,
          81.49
         ]
        },
        {
         "line": {
          "color": "green"
         },
         "showlegend": false,
         "type": "scatter",
         "x": [
          1741,
          1742
         ],
         "y": [
          81.49,
          81.49
         ]
        },
        {
         "line": {
          "color": "green"
         },
         "showlegend": false,
         "type": "scatter",
         "x": [
          1742,
          1743
         ],
         "y": [
          81.49,
          81.47
         ]
        },
        {
         "line": {
          "color": "green"
         },
         "showlegend": false,
         "type": "scatter",
         "x": [
          1743,
          1744
         ],
         "y": [
          81.47,
          81.48
         ]
        },
        {
         "line": {
          "color": "green"
         },
         "showlegend": false,
         "type": "scatter",
         "x": [
          1744,
          1745
         ],
         "y": [
          81.48,
          81.49
         ]
        },
        {
         "line": {
          "color": "green"
         },
         "showlegend": false,
         "type": "scatter",
         "x": [
          1745,
          1746
         ],
         "y": [
          81.49,
          81.48
         ]
        },
        {
         "line": {
          "color": "green"
         },
         "showlegend": false,
         "type": "scatter",
         "x": [
          1746,
          1747
         ],
         "y": [
          81.48,
          81.53
         ]
        },
        {
         "line": {
          "color": "green"
         },
         "showlegend": false,
         "type": "scatter",
         "x": [
          1747,
          1748
         ],
         "y": [
          81.53,
          81.51
         ]
        },
        {
         "line": {
          "color": "green"
         },
         "showlegend": false,
         "type": "scatter",
         "x": [
          1748,
          1749
         ],
         "y": [
          81.51,
          81.52
         ]
        },
        {
         "line": {
          "color": "green"
         },
         "showlegend": false,
         "type": "scatter",
         "x": [
          1749,
          1750
         ],
         "y": [
          81.52,
          81.49
         ]
        },
        {
         "line": {
          "color": "gray"
         },
         "showlegend": false,
         "type": "scatter",
         "x": [
          1750,
          1751
         ],
         "y": [
          81.49,
          81.47
         ]
        },
        {
         "line": {
          "color": "gray"
         },
         "showlegend": false,
         "type": "scatter",
         "x": [
          1751,
          1752
         ],
         "y": [
          81.47,
          81.52
         ]
        },
        {
         "line": {
          "color": "green"
         },
         "showlegend": false,
         "type": "scatter",
         "x": [
          1752,
          1753
         ],
         "y": [
          81.52,
          81.51
         ]
        },
        {
         "line": {
          "color": "green"
         },
         "showlegend": false,
         "type": "scatter",
         "x": [
          1753,
          1754
         ],
         "y": [
          81.51,
          81.54
         ]
        },
        {
         "line": {
          "color": "green"
         },
         "showlegend": false,
         "type": "scatter",
         "x": [
          1754,
          1755
         ],
         "y": [
          81.54,
          81.52
         ]
        },
        {
         "line": {
          "color": "gray"
         },
         "showlegend": false,
         "type": "scatter",
         "x": [
          1755,
          1756
         ],
         "y": [
          81.52,
          81.52
         ]
        },
        {
         "line": {
          "color": "gray"
         },
         "showlegend": false,
         "type": "scatter",
         "x": [
          1756,
          1757
         ],
         "y": [
          81.52,
          81.47
         ]
        },
        {
         "line": {
          "color": "gray"
         },
         "showlegend": false,
         "type": "scatter",
         "x": [
          1757,
          1758
         ],
         "y": [
          81.47,
          81.48
         ]
        },
        {
         "line": {
          "color": "gray"
         },
         "showlegend": false,
         "type": "scatter",
         "x": [
          1758,
          1759
         ],
         "y": [
          81.48,
          81.53
         ]
        },
        {
         "line": {
          "color": "gray"
         },
         "showlegend": false,
         "type": "scatter",
         "x": [
          1759,
          1760
         ],
         "y": [
          81.53,
          81.52
         ]
        },
        {
         "line": {
          "color": "gray"
         },
         "showlegend": false,
         "type": "scatter",
         "x": [
          1760,
          1761
         ],
         "y": [
          81.52,
          81.57
         ]
        },
        {
         "line": {
          "color": "green"
         },
         "showlegend": false,
         "type": "scatter",
         "x": [
          1761,
          1762
         ],
         "y": [
          81.57,
          81.49
         ]
        },
        {
         "line": {
          "color": "gray"
         },
         "showlegend": false,
         "type": "scatter",
         "x": [
          1762,
          1763
         ],
         "y": [
          81.49,
          81.52
         ]
        },
        {
         "line": {
          "color": "gray"
         },
         "showlegend": false,
         "type": "scatter",
         "x": [
          1763,
          1764
         ],
         "y": [
          81.52,
          81.62
         ]
        },
        {
         "line": {
          "color": "green"
         },
         "showlegend": false,
         "type": "scatter",
         "x": [
          1764,
          1765
         ],
         "y": [
          81.62,
          81.6
         ]
        },
        {
         "line": {
          "color": "green"
         },
         "showlegend": false,
         "type": "scatter",
         "x": [
          1765,
          1766
         ],
         "y": [
          81.6,
          81.71
         ]
        },
        {
         "line": {
          "color": "green"
         },
         "showlegend": false,
         "type": "scatter",
         "x": [
          1766,
          1767
         ],
         "y": [
          81.71,
          81.78
         ]
        },
        {
         "line": {
          "color": "green"
         },
         "showlegend": false,
         "type": "scatter",
         "x": [
          1767,
          1768
         ],
         "y": [
          81.78,
          81.61
         ]
        },
        {
         "line": {
          "color": "gray"
         },
         "showlegend": false,
         "type": "scatter",
         "x": [
          1768,
          1769
         ],
         "y": [
          81.61,
          81.63
         ]
        },
        {
         "line": {
          "color": "gray"
         },
         "showlegend": false,
         "type": "scatter",
         "x": [
          1769,
          1770
         ],
         "y": [
          81.63,
          81.81
         ]
        },
        {
         "line": {
          "color": "green"
         },
         "showlegend": false,
         "type": "scatter",
         "x": [
          1770,
          1771
         ],
         "y": [
          81.81,
          81.67
         ]
        },
        {
         "line": {
          "color": "green"
         },
         "showlegend": false,
         "type": "scatter",
         "x": [
          1771,
          1772
         ],
         "y": [
          81.67,
          81.68
         ]
        },
        {
         "line": {
          "color": "gray"
         },
         "showlegend": false,
         "type": "scatter",
         "x": [
          1772,
          1773
         ],
         "y": [
          81.68,
          81.65
         ]
        },
        {
         "line": {
          "color": "gray"
         },
         "showlegend": false,
         "type": "scatter",
         "x": [
          1773,
          1774
         ],
         "y": [
          81.65,
          81.74
         ]
        },
        {
         "line": {
          "color": "green"
         },
         "showlegend": false,
         "type": "scatter",
         "x": [
          1774,
          1775
         ],
         "y": [
          81.74,
          81.65
         ]
        },
        {
         "line": {
          "color": "gray"
         },
         "showlegend": false,
         "type": "scatter",
         "x": [
          1775,
          1776
         ],
         "y": [
          81.65,
          81.67
         ]
        },
        {
         "line": {
          "color": "gray"
         },
         "showlegend": false,
         "type": "scatter",
         "x": [
          1776,
          1777
         ],
         "y": [
          81.67,
          81.69
         ]
        },
        {
         "line": {
          "color": "gray"
         },
         "showlegend": false,
         "type": "scatter",
         "x": [
          1777,
          1778
         ],
         "y": [
          81.69,
          81.52
         ]
        },
        {
         "line": {
          "color": "red"
         },
         "showlegend": false,
         "type": "scatter",
         "x": [
          1778,
          1779
         ],
         "y": [
          81.52,
          81.59
         ]
        },
        {
         "line": {
          "color": "gray"
         },
         "showlegend": false,
         "type": "scatter",
         "x": [
          1779,
          1780
         ],
         "y": [
          81.59,
          81.72
         ]
        },
        {
         "line": {
          "color": "green"
         },
         "showlegend": false,
         "type": "scatter",
         "x": [
          1780,
          1781
         ],
         "y": [
          81.72,
          81.65
         ]
        },
        {
         "line": {
          "color": "gray"
         },
         "showlegend": false,
         "type": "scatter",
         "x": [
          1781,
          1782
         ],
         "y": [
          81.65,
          81.61
         ]
        },
        {
         "line": {
          "color": "gray"
         },
         "showlegend": false,
         "type": "scatter",
         "x": [
          1782,
          1783
         ],
         "y": [
          81.61,
          81.8
         ]
        },
        {
         "line": {
          "color": "green"
         },
         "showlegend": false,
         "type": "scatter",
         "x": [
          1783,
          1784
         ],
         "y": [
          81.8,
          81.81
         ]
        },
        {
         "line": {
          "color": "green"
         },
         "showlegend": false,
         "type": "scatter",
         "x": [
          1784,
          1785
         ],
         "y": [
          81.81,
          81.74
         ]
        },
        {
         "line": {
          "color": "green"
         },
         "showlegend": false,
         "type": "scatter",
         "x": [
          1785,
          1786
         ],
         "y": [
          81.74,
          81.72
         ]
        },
        {
         "line": {
          "color": "gray"
         },
         "showlegend": false,
         "type": "scatter",
         "x": [
          1786,
          1787
         ],
         "y": [
          81.72,
          81.57
         ]
        },
        {
         "line": {
          "color": "gray"
         },
         "showlegend": false,
         "type": "scatter",
         "x": [
          1787,
          1788
         ],
         "y": [
          81.57,
          81.7
         ]
        },
        {
         "line": {
          "color": "gray"
         },
         "showlegend": false,
         "type": "scatter",
         "x": [
          1788,
          1789
         ],
         "y": [
          81.7,
          81.58
         ]
        },
        {
         "line": {
          "color": "gray"
         },
         "showlegend": false,
         "type": "scatter",
         "x": [
          1789,
          1790
         ],
         "y": [
          81.58,
          81.6
         ]
        },
        {
         "line": {
          "color": "gray"
         },
         "showlegend": false,
         "type": "scatter",
         "x": [
          1790,
          1791
         ],
         "y": [
          81.6,
          81.6
         ]
        },
        {
         "line": {
          "color": "gray"
         },
         "showlegend": false,
         "type": "scatter",
         "x": [
          1791,
          1792
         ],
         "y": [
          81.6,
          81.55
         ]
        },
        {
         "line": {
          "color": "gray"
         },
         "showlegend": false,
         "type": "scatter",
         "x": [
          1792,
          1793
         ],
         "y": [
          81.55,
          81.6
         ]
        },
        {
         "line": {
          "color": "gray"
         },
         "showlegend": false,
         "type": "scatter",
         "x": [
          1793,
          1794
         ],
         "y": [
          81.6,
          81.63
         ]
        },
        {
         "line": {
          "color": "gray"
         },
         "showlegend": false,
         "type": "scatter",
         "x": [
          1794,
          1795
         ],
         "y": [
          81.63,
          81.54
         ]
        },
        {
         "line": {
          "color": "red"
         },
         "showlegend": false,
         "type": "scatter",
         "x": [
          1795,
          1796
         ],
         "y": [
          81.54,
          81.56
         ]
        },
        {
         "line": {
          "color": "red"
         },
         "showlegend": false,
         "type": "scatter",
         "x": [
          1796,
          1797
         ],
         "y": [
          81.56,
          81.63
         ]
        },
        {
         "line": {
          "color": "gray"
         },
         "showlegend": false,
         "type": "scatter",
         "x": [
          1797,
          1798
         ],
         "y": [
          81.63,
          81.58
         ]
        },
        {
         "line": {
          "color": "red"
         },
         "showlegend": false,
         "type": "scatter",
         "x": [
          1798,
          1799
         ],
         "y": [
          81.58,
          81.42
         ]
        },
        {
         "line": {
          "color": "red"
         },
         "showlegend": false,
         "type": "scatter",
         "x": [
          1799,
          1800
         ],
         "y": [
          81.42,
          81.55
         ]
        },
        {
         "line": {
          "color": "gray"
         },
         "showlegend": false,
         "type": "scatter",
         "x": [
          1800,
          1801
         ],
         "y": [
          81.55,
          81.57
         ]
        },
        {
         "line": {
          "color": "gray"
         },
         "showlegend": false,
         "type": "scatter",
         "x": [
          1801,
          1802
         ],
         "y": [
          81.57,
          81.57
         ]
        },
        {
         "line": {
          "color": "gray"
         },
         "showlegend": false,
         "type": "scatter",
         "x": [
          1802,
          1803
         ],
         "y": [
          81.57,
          81.61
         ]
        },
        {
         "line": {
          "color": "gray"
         },
         "showlegend": false,
         "type": "scatter",
         "x": [
          1803,
          1804
         ],
         "y": [
          81.61,
          81.56
         ]
        },
        {
         "line": {
          "color": "gray"
         },
         "showlegend": false,
         "type": "scatter",
         "x": [
          1804,
          1805
         ],
         "y": [
          81.56,
          81.57
         ]
        },
        {
         "line": {
          "color": "gray"
         },
         "showlegend": false,
         "type": "scatter",
         "x": [
          1805,
          1806
         ],
         "y": [
          81.57,
          81.52
         ]
        },
        {
         "line": {
          "color": "gray"
         },
         "showlegend": false,
         "type": "scatter",
         "x": [
          1806,
          1807
         ],
         "y": [
          81.52,
          81.52
         ]
        },
        {
         "line": {
          "color": "gray"
         },
         "showlegend": false,
         "type": "scatter",
         "x": [
          1807,
          1808
         ],
         "y": [
          81.52,
          81.42
         ]
        },
        {
         "line": {
          "color": "red"
         },
         "showlegend": false,
         "type": "scatter",
         "x": [
          1808,
          1809
         ],
         "y": [
          81.42,
          81.49
         ]
        },
        {
         "line": {
          "color": "gray"
         },
         "showlegend": false,
         "type": "scatter",
         "x": [
          1809,
          1810
         ],
         "y": [
          81.49,
          81.51
         ]
        },
        {
         "line": {
          "color": "gray"
         },
         "showlegend": false,
         "type": "scatter",
         "x": [
          1810,
          1811
         ],
         "y": [
          81.51,
          81.49
         ]
        },
        {
         "line": {
          "color": "gray"
         },
         "showlegend": false,
         "type": "scatter",
         "x": [
          1811,
          1812
         ],
         "y": [
          81.49,
          81.59
         ]
        },
        {
         "line": {
          "color": "green"
         },
         "showlegend": false,
         "type": "scatter",
         "x": [
          1812,
          1813
         ],
         "y": [
          81.59,
          81.42
         ]
        },
        {
         "line": {
          "color": "red"
         },
         "showlegend": false,
         "type": "scatter",
         "x": [
          1813,
          1814
         ],
         "y": [
          81.42,
          81.46
         ]
        },
        {
         "line": {
          "color": "gray"
         },
         "showlegend": false,
         "type": "scatter",
         "x": [
          1814,
          1815
         ],
         "y": [
          81.46,
          81.4
         ]
        },
        {
         "line": {
          "color": "red"
         },
         "showlegend": false,
         "type": "scatter",
         "x": [
          1815,
          1816
         ],
         "y": [
          81.4,
          81.45
         ]
        },
        {
         "line": {
          "color": "gray"
         },
         "showlegend": false,
         "type": "scatter",
         "x": [
          1816,
          1817
         ],
         "y": [
          81.45,
          81.4
         ]
        },
        {
         "line": {
          "color": "red"
         },
         "showlegend": false,
         "type": "scatter",
         "x": [
          1817,
          1818
         ],
         "y": [
          81.4,
          81.41
         ]
        },
        {
         "line": {
          "color": "gray"
         },
         "showlegend": false,
         "type": "scatter",
         "x": [
          1818,
          1819
         ],
         "y": [
          81.41,
          81.39
         ]
        },
        {
         "line": {
          "color": "red"
         },
         "showlegend": false,
         "type": "scatter",
         "x": [
          1819,
          1820
         ],
         "y": [
          81.39,
          81.35
         ]
        },
        {
         "line": {
          "color": "red"
         },
         "showlegend": false,
         "type": "scatter",
         "x": [
          1820,
          1821
         ],
         "y": [
          81.35,
          81.31
         ]
        },
        {
         "line": {
          "color": "red"
         },
         "showlegend": false,
         "type": "scatter",
         "x": [
          1821,
          1822
         ],
         "y": [
          81.31,
          81.28
         ]
        },
        {
         "line": {
          "color": "red"
         },
         "showlegend": false,
         "type": "scatter",
         "x": [
          1822,
          1823
         ],
         "y": [
          81.28,
          81.4
         ]
        },
        {
         "line": {
          "color": "gray"
         },
         "showlegend": false,
         "type": "scatter",
         "x": [
          1823,
          1824
         ],
         "y": [
          81.4,
          81.33
         ]
        },
        {
         "line": {
          "color": "gray"
         },
         "showlegend": false,
         "type": "scatter",
         "x": [
          1824,
          1825
         ],
         "y": [
          81.33,
          81.37
         ]
        },
        {
         "line": {
          "color": "gray"
         },
         "showlegend": false,
         "type": "scatter",
         "x": [
          1825,
          1826
         ],
         "y": [
          81.37,
          81.39
         ]
        },
        {
         "line": {
          "color": "gray"
         },
         "showlegend": false,
         "type": "scatter",
         "x": [
          1826,
          1827
         ],
         "y": [
          81.39,
          81.43
         ]
        },
        {
         "line": {
          "color": "gray"
         },
         "showlegend": false,
         "type": "scatter",
         "x": [
          1827,
          1828
         ],
         "y": [
          81.43,
          81.47
         ]
        },
        {
         "line": {
          "color": "green"
         },
         "showlegend": false,
         "type": "scatter",
         "x": [
          1828,
          1829
         ],
         "y": [
          81.47,
          81.44
         ]
        },
        {
         "line": {
          "color": "green"
         },
         "showlegend": false,
         "type": "scatter",
         "x": [
          1829,
          1830
         ],
         "y": [
          81.44,
          81.37
         ]
        },
        {
         "line": {
          "color": "gray"
         },
         "showlegend": false,
         "type": "scatter",
         "x": [
          1830,
          1831
         ],
         "y": [
          81.37,
          81.45
         ]
        },
        {
         "line": {
          "color": "green"
         },
         "showlegend": false,
         "type": "scatter",
         "x": [
          1831,
          1832
         ],
         "y": [
          81.45,
          81.6
         ]
        },
        {
         "line": {
          "color": "green"
         },
         "showlegend": false,
         "type": "scatter",
         "x": [
          1832,
          1833
         ],
         "y": [
          81.6,
          81.74
         ]
        },
        {
         "line": {
          "color": "green"
         },
         "showlegend": false,
         "type": "scatter",
         "x": [
          1833,
          1834
         ],
         "y": [
          81.74,
          81.65
         ]
        },
        {
         "line": {
          "color": "green"
         },
         "showlegend": false,
         "type": "scatter",
         "x": [
          1834,
          1835
         ],
         "y": [
          81.65,
          81.79
         ]
        },
        {
         "line": {
          "color": "green"
         },
         "showlegend": false,
         "type": "scatter",
         "x": [
          1835,
          1836
         ],
         "y": [
          81.79,
          81.95
         ]
        },
        {
         "line": {
          "color": "green"
         },
         "showlegend": false,
         "type": "scatter",
         "x": [
          1836,
          1837
         ],
         "y": [
          81.95,
          82.06
         ]
        },
        {
         "line": {
          "color": "green"
         },
         "showlegend": false,
         "type": "scatter",
         "x": [
          1837,
          1838
         ],
         "y": [
          82.06,
          82.13
         ]
        },
        {
         "line": {
          "color": "green"
         },
         "showlegend": false,
         "type": "scatter",
         "x": [
          1838,
          1839
         ],
         "y": [
          82.13,
          82.09
         ]
        },
        {
         "line": {
          "color": "green"
         },
         "showlegend": false,
         "type": "scatter",
         "x": [
          1839,
          1840
         ],
         "y": [
          82.09,
          82.19
         ]
        },
        {
         "line": {
          "color": "green"
         },
         "showlegend": false,
         "type": "scatter",
         "x": [
          1840,
          1841
         ],
         "y": [
          82.19,
          82.37
         ]
        },
        {
         "line": {
          "color": "green"
         },
         "showlegend": false,
         "type": "scatter",
         "x": [
          1841,
          1842
         ],
         "y": [
          82.37,
          82.39
         ]
        },
        {
         "line": {
          "color": "green"
         },
         "showlegend": false,
         "type": "scatter",
         "x": [
          1842,
          1843
         ],
         "y": [
          82.39,
          82.42
         ]
        },
        {
         "line": {
          "color": "green"
         },
         "showlegend": false,
         "type": "scatter",
         "x": [
          1843,
          1844
         ],
         "y": [
          82.42,
          82.34
         ]
        },
        {
         "line": {
          "color": "green"
         },
         "showlegend": false,
         "type": "scatter",
         "x": [
          1844,
          1845
         ],
         "y": [
          82.34,
          82.36
         ]
        },
        {
         "line": {
          "color": "green"
         },
         "showlegend": false,
         "type": "scatter",
         "x": [
          1845,
          1846
         ],
         "y": [
          82.36,
          82.35
         ]
        },
        {
         "line": {
          "color": "green"
         },
         "showlegend": false,
         "type": "scatter",
         "x": [
          1846,
          1847
         ],
         "y": [
          82.35,
          82.36
         ]
        },
        {
         "line": {
          "color": "green"
         },
         "showlegend": false,
         "type": "scatter",
         "x": [
          1847,
          1848
         ],
         "y": [
          82.36,
          82.29
         ]
        },
        {
         "line": {
          "color": "gray"
         },
         "showlegend": false,
         "type": "scatter",
         "x": [
          1848,
          1849
         ],
         "y": [
          82.29,
          82
         ]
        },
        {
         "line": {
          "color": "gray"
         },
         "showlegend": false,
         "type": "scatter",
         "x": [
          1849,
          1850
         ],
         "y": [
          82,
          81.96
         ]
        },
        {
         "line": {
          "color": "red"
         },
         "showlegend": false,
         "type": "scatter",
         "x": [
          1850,
          1851
         ],
         "y": [
          81.96,
          82.1
         ]
        },
        {
         "line": {
          "color": "gray"
         },
         "showlegend": false,
         "type": "scatter",
         "x": [
          1851,
          1852
         ],
         "y": [
          82.1,
          81.86
         ]
        },
        {
         "line": {
          "color": "red"
         },
         "showlegend": false,
         "type": "scatter",
         "x": [
          1852,
          1853
         ],
         "y": [
          81.86,
          81.93
         ]
        },
        {
         "line": {
          "color": "red"
         },
         "showlegend": false,
         "type": "scatter",
         "x": [
          1853,
          1854
         ],
         "y": [
          81.93,
          81.79
         ]
        },
        {
         "line": {
          "color": "red"
         },
         "showlegend": false,
         "type": "scatter",
         "x": [
          1854,
          1855
         ],
         "y": [
          81.79,
          81.72
         ]
        },
        {
         "line": {
          "color": "red"
         },
         "showlegend": false,
         "type": "scatter",
         "x": [
          1855,
          1856
         ],
         "y": [
          81.72,
          81.67
         ]
        },
        {
         "line": {
          "color": "red"
         },
         "showlegend": false,
         "type": "scatter",
         "x": [
          1856,
          1857
         ],
         "y": [
          81.67,
          81.63
         ]
        },
        {
         "line": {
          "color": "red"
         },
         "showlegend": false,
         "type": "scatter",
         "x": [
          1857,
          1858
         ],
         "y": [
          81.63,
          81.72
         ]
        },
        {
         "line": {
          "color": "red"
         },
         "showlegend": false,
         "type": "scatter",
         "x": [
          1858,
          1859
         ],
         "y": [
          81.72,
          81.64
         ]
        },
        {
         "line": {
          "color": "red"
         },
         "showlegend": false,
         "type": "scatter",
         "x": [
          1859,
          1860
         ],
         "y": [
          81.64,
          81.56
         ]
        },
        {
         "line": {
          "color": "red"
         },
         "showlegend": false,
         "type": "scatter",
         "x": [
          1860,
          1861
         ],
         "y": [
          81.56,
          81.64
         ]
        },
        {
         "line": {
          "color": "red"
         },
         "showlegend": false,
         "type": "scatter",
         "x": [
          1861,
          1862
         ],
         "y": [
          81.64,
          81.56
         ]
        },
        {
         "line": {
          "color": "red"
         },
         "showlegend": false,
         "type": "scatter",
         "x": [
          1862,
          1863
         ],
         "y": [
          81.56,
          81.6
         ]
        },
        {
         "line": {
          "color": "red"
         },
         "showlegend": false,
         "type": "scatter",
         "x": [
          1863,
          1864
         ],
         "y": [
          81.6,
          81.5
         ]
        },
        {
         "line": {
          "color": "red"
         },
         "showlegend": false,
         "type": "scatter",
         "x": [
          1864,
          1865
         ],
         "y": [
          81.5,
          81.77
         ]
        },
        {
         "line": {
          "color": "gray"
         },
         "showlegend": false,
         "type": "scatter",
         "x": [
          1865,
          1866
         ],
         "y": [
          81.77,
          81.85
         ]
        },
        {
         "line": {
          "color": "green"
         },
         "showlegend": false,
         "type": "scatter",
         "x": [
          1866,
          1867
         ],
         "y": [
          81.85,
          82.04
         ]
        },
        {
         "line": {
          "color": "green"
         },
         "showlegend": false,
         "type": "scatter",
         "x": [
          1867,
          1868
         ],
         "y": [
          82.04,
          82.1
         ]
        },
        {
         "line": {
          "color": "green"
         },
         "showlegend": false,
         "type": "scatter",
         "x": [
          1868,
          1869
         ],
         "y": [
          82.1,
          82.09
         ]
        },
        {
         "line": {
          "color": "green"
         },
         "showlegend": false,
         "type": "scatter",
         "x": [
          1869,
          1870
         ],
         "y": [
          82.09,
          82.05
         ]
        },
        {
         "line": {
          "color": "green"
         },
         "showlegend": false,
         "type": "scatter",
         "x": [
          1870,
          1871
         ],
         "y": [
          82.05,
          82.02
         ]
        },
        {
         "line": {
          "color": "green"
         },
         "showlegend": false,
         "type": "scatter",
         "x": [
          1871,
          1872
         ],
         "y": [
          82.02,
          82.02
         ]
        },
        {
         "line": {
          "color": "green"
         },
         "showlegend": false,
         "type": "scatter",
         "x": [
          1872,
          1873
         ],
         "y": [
          82.02,
          82.02
         ]
        },
        {
         "line": {
          "color": "green"
         },
         "showlegend": false,
         "type": "scatter",
         "x": [
          1873,
          1874
         ],
         "y": [
          82.02,
          81.99
         ]
        },
        {
         "line": {
          "color": "green"
         },
         "showlegend": false,
         "type": "scatter",
         "x": [
          1874,
          1875
         ],
         "y": [
          81.99,
          81.97
         ]
        },
        {
         "line": {
          "color": "gray"
         },
         "showlegend": false,
         "type": "scatter",
         "x": [
          1875,
          1876
         ],
         "y": [
          81.97,
          81.96
         ]
        },
        {
         "line": {
          "color": "gray"
         },
         "showlegend": false,
         "type": "scatter",
         "x": [
          1876,
          1877
         ],
         "y": [
          81.96,
          81.85
         ]
        },
        {
         "line": {
          "color": "red"
         },
         "showlegend": false,
         "type": "scatter",
         "x": [
          1877,
          1878
         ],
         "y": [
          81.85,
          81.84
         ]
        },
        {
         "line": {
          "color": "red"
         },
         "showlegend": false,
         "type": "scatter",
         "x": [
          1878,
          1879
         ],
         "y": [
          81.84,
          81.95
         ]
        },
        {
         "line": {
          "color": "gray"
         },
         "showlegend": false,
         "type": "scatter",
         "x": [
          1879,
          1880
         ],
         "y": [
          81.95,
          81.96
         ]
        },
        {
         "line": {
          "color": "gray"
         },
         "showlegend": false,
         "type": "scatter",
         "x": [
          1880,
          1881
         ],
         "y": [
          81.96,
          81.99
         ]
        },
        {
         "line": {
          "color": "gray"
         },
         "showlegend": false,
         "type": "scatter",
         "x": [
          1881,
          1882
         ],
         "y": [
          81.99,
          82.01
         ]
        },
        {
         "line": {
          "color": "green"
         },
         "showlegend": false,
         "type": "scatter",
         "x": [
          1882,
          1883
         ],
         "y": [
          82.01,
          81.94
         ]
        },
        {
         "line": {
          "color": "gray"
         },
         "showlegend": false,
         "type": "scatter",
         "x": [
          1883,
          1884
         ],
         "y": [
          81.94,
          81.94
         ]
        },
        {
         "line": {
          "color": "gray"
         },
         "showlegend": false,
         "type": "scatter",
         "x": [
          1884,
          1885
         ],
         "y": [
          81.94,
          81.93
         ]
        },
        {
         "line": {
          "color": "red"
         },
         "showlegend": false,
         "type": "scatter",
         "x": [
          1885,
          1886
         ],
         "y": [
          81.93,
          81.94
         ]
        },
        {
         "line": {
          "color": "gray"
         },
         "showlegend": false,
         "type": "scatter",
         "x": [
          1886,
          1887
         ],
         "y": [
          81.94,
          81.93
         ]
        },
        {
         "line": {
          "color": "red"
         },
         "showlegend": false,
         "type": "scatter",
         "x": [
          1887,
          1888
         ],
         "y": [
          81.93,
          81.95
         ]
        },
        {
         "line": {
          "color": "gray"
         },
         "showlegend": false,
         "type": "scatter",
         "x": [
          1888,
          1889
         ],
         "y": [
          81.95,
          81.91
         ]
        },
        {
         "line": {
          "color": "red"
         },
         "showlegend": false,
         "type": "scatter",
         "x": [
          1889,
          1890
         ],
         "y": [
          81.91,
          81.88
         ]
        },
        {
         "line": {
          "color": "red"
         },
         "showlegend": false,
         "type": "scatter",
         "x": [
          1890,
          1891
         ],
         "y": [
          81.88,
          81.93
         ]
        },
        {
         "line": {
          "color": "gray"
         },
         "showlegend": false,
         "type": "scatter",
         "x": [
          1891,
          1892
         ],
         "y": [
          81.93,
          81.92
         ]
        },
        {
         "line": {
          "color": "gray"
         },
         "showlegend": false,
         "type": "scatter",
         "x": [
          1892,
          1893
         ],
         "y": [
          81.92,
          81.95
         ]
        },
        {
         "line": {
          "color": "gray"
         },
         "showlegend": false,
         "type": "scatter",
         "x": [
          1893,
          1894
         ],
         "y": [
          81.95,
          81.95
         ]
        },
        {
         "line": {
          "color": "gray"
         },
         "showlegend": false,
         "type": "scatter",
         "x": [
          1894,
          1895
         ],
         "y": [
          81.95,
          82.02
         ]
        },
        {
         "line": {
          "color": "green"
         },
         "showlegend": false,
         "type": "scatter",
         "x": [
          1895,
          1896
         ],
         "y": [
          82.02,
          82.06
         ]
        },
        {
         "line": {
          "color": "green"
         },
         "showlegend": false,
         "type": "scatter",
         "x": [
          1896,
          1897
         ],
         "y": [
          82.06,
          82.07
         ]
        },
        {
         "line": {
          "color": "green"
         },
         "showlegend": false,
         "type": "scatter",
         "x": [
          1897,
          1898
         ],
         "y": [
          82.07,
          82.15
         ]
        },
        {
         "line": {
          "color": "green"
         },
         "showlegend": false,
         "type": "scatter",
         "x": [
          1898,
          1899
         ],
         "y": [
          82.15,
          82.17
         ]
        },
        {
         "line": {
          "color": "green"
         },
         "showlegend": false,
         "type": "scatter",
         "x": [
          1899,
          1900
         ],
         "y": [
          82.17,
          82.18
         ]
        },
        {
         "line": {
          "color": "green"
         },
         "showlegend": false,
         "type": "scatter",
         "x": [
          1900,
          1901
         ],
         "y": [
          82.18,
          82.08
         ]
        },
        {
         "line": {
          "color": "gray"
         },
         "showlegend": false,
         "type": "scatter",
         "x": [
          1901,
          1902
         ],
         "y": [
          82.08,
          82.05
         ]
        },
        {
         "line": {
          "color": "gray"
         },
         "showlegend": false,
         "type": "scatter",
         "x": [
          1902,
          1903
         ],
         "y": [
          82.05,
          82
         ]
        },
        {
         "line": {
          "color": "gray"
         },
         "showlegend": false,
         "type": "scatter",
         "x": [
          1903,
          1904
         ],
         "y": [
          82,
          81.98
         ]
        },
        {
         "line": {
          "color": "red"
         },
         "showlegend": false,
         "type": "scatter",
         "x": [
          1904,
          1905
         ],
         "y": [
          81.98,
          81.96
         ]
        },
        {
         "line": {
          "color": "red"
         },
         "showlegend": false,
         "type": "scatter",
         "x": [
          1905,
          1906
         ],
         "y": [
          81.96,
          81.92
         ]
        },
        {
         "line": {
          "color": "red"
         },
         "showlegend": false,
         "type": "scatter",
         "x": [
          1906,
          1907
         ],
         "y": [
          81.92,
          81.94
         ]
        },
        {
         "line": {
          "color": "red"
         },
         "showlegend": false,
         "type": "scatter",
         "x": [
          1907,
          1908
         ],
         "y": [
          81.94,
          81.93
         ]
        },
        {
         "line": {
          "color": "red"
         },
         "showlegend": false,
         "type": "scatter",
         "x": [
          1908,
          1909
         ],
         "y": [
          81.93,
          81.92
         ]
        },
        {
         "line": {
          "color": "red"
         },
         "showlegend": false,
         "type": "scatter",
         "x": [
          1909,
          1910
         ],
         "y": [
          81.92,
          81.93
         ]
        },
        {
         "line": {
          "color": "red"
         },
         "showlegend": false,
         "type": "scatter",
         "x": [
          1910,
          1911
         ],
         "y": [
          81.93,
          81.92
         ]
        },
        {
         "line": {
          "color": "red"
         },
         "showlegend": false,
         "type": "scatter",
         "x": [
          1911,
          1912
         ],
         "y": [
          81.92,
          81.91
         ]
        },
        {
         "line": {
          "color": "red"
         },
         "showlegend": false,
         "type": "scatter",
         "x": [
          1912,
          1913
         ],
         "y": [
          81.91,
          81.9
         ]
        },
        {
         "line": {
          "color": "red"
         },
         "showlegend": false,
         "type": "scatter",
         "x": [
          1913,
          1914
         ],
         "y": [
          81.9,
          81.86
         ]
        },
        {
         "line": {
          "color": "red"
         },
         "showlegend": false,
         "type": "scatter",
         "x": [
          1914,
          1915
         ],
         "y": [
          81.86,
          81.86
         ]
        },
        {
         "line": {
          "color": "red"
         },
         "showlegend": false,
         "type": "scatter",
         "x": [
          1915,
          1916
         ],
         "y": [
          81.86,
          81.93
         ]
        },
        {
         "line": {
          "color": "gray"
         },
         "showlegend": false,
         "type": "scatter",
         "x": [
          1916,
          1917
         ],
         "y": [
          81.93,
          81.92
         ]
        },
        {
         "line": {
          "color": "red"
         },
         "showlegend": false,
         "type": "scatter",
         "x": [
          1917,
          1918
         ],
         "y": [
          81.92,
          81.88
         ]
        },
        {
         "line": {
          "color": "red"
         },
         "showlegend": false,
         "type": "scatter",
         "x": [
          1918,
          1919
         ],
         "y": [
          81.88,
          81.9
         ]
        },
        {
         "line": {
          "color": "red"
         },
         "showlegend": false,
         "type": "scatter",
         "x": [
          1919,
          1920
         ],
         "y": [
          81.9,
          81.91
         ]
        },
        {
         "line": {
          "color": "gray"
         },
         "showlegend": false,
         "type": "scatter",
         "x": [
          1920,
          1921
         ],
         "y": [
          81.91,
          81.92
         ]
        },
        {
         "line": {
          "color": "gray"
         },
         "showlegend": false,
         "type": "scatter",
         "x": [
          1921,
          1922
         ],
         "y": [
          81.92,
          81.92
         ]
        },
        {
         "line": {
          "color": "gray"
         },
         "showlegend": false,
         "type": "scatter",
         "x": [
          1922,
          1923
         ],
         "y": [
          81.92,
          81.89
         ]
        },
        {
         "line": {
          "color": "gray"
         },
         "showlegend": false,
         "type": "scatter",
         "x": [
          1923,
          1924
         ],
         "y": [
          81.89,
          81.88
         ]
        },
        {
         "line": {
          "color": "gray"
         },
         "showlegend": false,
         "type": "scatter",
         "x": [
          1924,
          1925
         ],
         "y": [
          81.88,
          81.9
         ]
        },
        {
         "line": {
          "color": "gray"
         },
         "showlegend": false,
         "type": "scatter",
         "x": [
          1925,
          1926
         ],
         "y": [
          81.9,
          81.89
         ]
        },
        {
         "line": {
          "color": "gray"
         },
         "showlegend": false,
         "type": "scatter",
         "x": [
          1926,
          1927
         ],
         "y": [
          81.89,
          81.88
         ]
        },
        {
         "line": {
          "color": "gray"
         },
         "showlegend": false,
         "type": "scatter",
         "x": [
          1927,
          1928
         ],
         "y": [
          81.88,
          81.92
         ]
        },
        {
         "line": {
          "color": "green"
         },
         "showlegend": false,
         "type": "scatter",
         "x": [
          1928,
          1929
         ],
         "y": [
          81.92,
          81.77
         ]
        },
        {
         "line": {
          "color": "green"
         },
         "showlegend": false,
         "type": "scatter",
         "x": [
          1929,
          1930
         ],
         "y": [
          81.77,
          81.75
         ]
        },
        {
         "line": {
          "color": "red"
         },
         "showlegend": false,
         "type": "scatter",
         "x": [
          1930,
          1931
         ],
         "y": [
          81.75,
          81.76
         ]
        },
        {
         "line": {
          "color": "red"
         },
         "showlegend": false,
         "type": "scatter",
         "x": [
          1931,
          1932
         ],
         "y": [
          81.76,
          81.75
         ]
        },
        {
         "line": {
          "color": "red"
         },
         "showlegend": false,
         "type": "scatter",
         "x": [
          1932,
          1933
         ],
         "y": [
          81.75,
          81.75
         ]
        },
        {
         "line": {
          "color": "gray"
         },
         "showlegend": false,
         "type": "scatter",
         "x": [
          1933,
          1934
         ],
         "y": [
          81.75,
          81.74
         ]
        },
        {
         "line": {
          "color": "red"
         },
         "showlegend": false,
         "type": "scatter",
         "x": [
          1934,
          1935
         ],
         "y": [
          81.74,
          81.75
         ]
        },
        {
         "line": {
          "color": "red"
         },
         "showlegend": false,
         "type": "scatter",
         "x": [
          1935,
          1936
         ],
         "y": [
          81.75,
          81.76
         ]
        },
        {
         "line": {
          "color": "gray"
         },
         "showlegend": false,
         "type": "scatter",
         "x": [
          1936,
          1937
         ],
         "y": [
          81.76,
          81.75
         ]
        },
        {
         "line": {
          "color": "gray"
         },
         "showlegend": false,
         "type": "scatter",
         "x": [
          1937,
          1938
         ],
         "y": [
          81.75,
          81.76
         ]
        },
        {
         "line": {
          "color": "gray"
         },
         "showlegend": false,
         "type": "scatter",
         "x": [
          1938,
          1939
         ],
         "y": [
          81.76,
          81.78
         ]
        },
        {
         "line": {
          "color": "gray"
         },
         "showlegend": false,
         "type": "scatter",
         "x": [
          1939,
          1940
         ],
         "y": [
          81.78,
          81.78
         ]
        },
        {
         "line": {
          "color": "gray"
         },
         "showlegend": false,
         "type": "scatter",
         "x": [
          1940,
          1941
         ],
         "y": [
          81.78,
          81.77
         ]
        },
        {
         "line": {
          "color": "gray"
         },
         "showlegend": false,
         "type": "scatter",
         "x": [
          1941,
          1942
         ],
         "y": [
          81.77,
          81.79
         ]
        },
        {
         "line": {
          "color": "gray"
         },
         "showlegend": false,
         "type": "scatter",
         "x": [
          1942,
          1943
         ],
         "y": [
          81.79,
          81.79
         ]
        },
        {
         "line": {
          "color": "gray"
         },
         "showlegend": false,
         "type": "scatter",
         "x": [
          1943,
          1944
         ],
         "y": [
          81.79,
          81.82
         ]
        },
        {
         "line": {
          "color": "green"
         },
         "showlegend": false,
         "type": "scatter",
         "x": [
          1944,
          1945
         ],
         "y": [
          81.82,
          81.8
         ]
        },
        {
         "line": {
          "color": "gray"
         },
         "showlegend": false,
         "type": "scatter",
         "x": [
          1945,
          1946
         ],
         "y": [
          81.8,
          81.8
         ]
        },
        {
         "line": {
          "color": "gray"
         },
         "showlegend": false,
         "type": "scatter",
         "x": [
          1946,
          1947
         ],
         "y": [
          81.8,
          81.79
         ]
        },
        {
         "line": {
          "color": "gray"
         },
         "showlegend": false,
         "type": "scatter",
         "x": [
          1947,
          1948
         ],
         "y": [
          81.79,
          81.8
         ]
        },
        {
         "line": {
          "color": "gray"
         },
         "showlegend": false,
         "type": "scatter",
         "x": [
          1948,
          1949
         ],
         "y": [
          81.8,
          81.78
         ]
        },
        {
         "line": {
          "color": "gray"
         },
         "showlegend": false,
         "type": "scatter",
         "x": [
          1949,
          1950
         ],
         "y": [
          81.78,
          81.77
         ]
        },
        {
         "line": {
          "color": "gray"
         },
         "showlegend": false,
         "type": "scatter",
         "x": [
          1950,
          1951
         ],
         "y": [
          81.77,
          81.76
         ]
        },
        {
         "line": {
          "color": "red"
         },
         "showlegend": false,
         "type": "scatter",
         "x": [
          1951,
          1952
         ],
         "y": [
          81.76,
          81.77
         ]
        },
        {
         "line": {
          "color": "gray"
         },
         "showlegend": false,
         "type": "scatter",
         "x": [
          1952,
          1953
         ],
         "y": [
          81.77,
          81.78
         ]
        },
        {
         "line": {
          "color": "gray"
         },
         "showlegend": false,
         "type": "scatter",
         "x": [
          1953,
          1954
         ],
         "y": [
          81.78,
          81.75
         ]
        },
        {
         "line": {
          "color": "gray"
         },
         "showlegend": false,
         "type": "scatter",
         "x": [
          1954,
          1955
         ],
         "y": [
          81.75,
          81.75
         ]
        },
        {
         "line": {
          "color": "gray"
         },
         "showlegend": false,
         "type": "scatter",
         "x": [
          1955,
          1956
         ],
         "y": [
          81.75,
          81.73
         ]
        },
        {
         "line": {
          "color": "red"
         },
         "showlegend": false,
         "type": "scatter",
         "x": [
          1956,
          1957
         ],
         "y": [
          81.73,
          81.73
         ]
        },
        {
         "line": {
          "color": "red"
         },
         "showlegend": false,
         "type": "scatter",
         "x": [
          1957,
          1958
         ],
         "y": [
          81.73,
          81.72
         ]
        },
        {
         "line": {
          "color": "gray"
         },
         "showlegend": false,
         "type": "scatter",
         "x": [
          1958,
          1959
         ],
         "y": [
          81.72,
          81.71
         ]
        },
        {
         "line": {
          "color": "red"
         },
         "showlegend": false,
         "type": "scatter",
         "x": [
          1959,
          1960
         ],
         "y": [
          81.71,
          81.71
         ]
        },
        {
         "line": {
          "color": "red"
         },
         "showlegend": false,
         "type": "scatter",
         "x": [
          1960,
          1961
         ],
         "y": [
          81.71,
          81.72
         ]
        },
        {
         "line": {
          "color": "gray"
         },
         "showlegend": false,
         "type": "scatter",
         "x": [
          1961,
          1962
         ],
         "y": [
          81.72,
          81.73
         ]
        },
        {
         "line": {
          "color": "gray"
         },
         "showlegend": false,
         "type": "scatter",
         "x": [
          1962,
          1963
         ],
         "y": [
          81.73,
          81.75
         ]
        },
        {
         "line": {
          "color": "green"
         },
         "showlegend": false,
         "type": "scatter",
         "x": [
          1963,
          1964
         ],
         "y": [
          81.75,
          81.74
         ]
        },
        {
         "line": {
          "color": "green"
         },
         "showlegend": false,
         "type": "scatter",
         "x": [
          1964,
          1965
         ],
         "y": [
          81.74,
          81.76
         ]
        },
        {
         "line": {
          "color": "green"
         },
         "showlegend": false,
         "type": "scatter",
         "x": [
          1965,
          1966
         ],
         "y": [
          81.76,
          81.79
         ]
        },
        {
         "line": {
          "color": "green"
         },
         "showlegend": false,
         "type": "scatter",
         "x": [
          1966,
          1967
         ],
         "y": [
          81.79,
          81.82
         ]
        },
        {
         "line": {
          "color": "green"
         },
         "showlegend": false,
         "type": "scatter",
         "x": [
          1967,
          1968
         ],
         "y": [
          81.82,
          81.85
         ]
        },
        {
         "line": {
          "color": "green"
         },
         "showlegend": false,
         "type": "scatter",
         "x": [
          1968,
          1969
         ],
         "y": [
          81.85,
          81.86
         ]
        },
        {
         "line": {
          "color": "green"
         },
         "showlegend": false,
         "type": "scatter",
         "x": [
          1969,
          1970
         ],
         "y": [
          81.86,
          81.86
         ]
        },
        {
         "line": {
          "color": "green"
         },
         "showlegend": false,
         "type": "scatter",
         "x": [
          1970,
          1971
         ],
         "y": [
          81.86,
          81.83
         ]
        },
        {
         "line": {
          "color": "green"
         },
         "showlegend": false,
         "type": "scatter",
         "x": [
          1971,
          1972
         ],
         "y": [
          81.83,
          81.84
         ]
        },
        {
         "line": {
          "color": "green"
         },
         "showlegend": false,
         "type": "scatter",
         "x": [
          1972,
          1973
         ],
         "y": [
          81.84,
          81.82
         ]
        },
        {
         "line": {
          "color": "gray"
         },
         "showlegend": false,
         "type": "scatter",
         "x": [
          1973,
          1974
         ],
         "y": [
          81.82,
          81.8
         ]
        },
        {
         "line": {
          "color": "gray"
         },
         "showlegend": false,
         "type": "scatter",
         "x": [
          1974,
          1975
         ],
         "y": [
          81.8,
          81.8
         ]
        },
        {
         "line": {
          "color": "gray"
         },
         "showlegend": false,
         "type": "scatter",
         "x": [
          1975,
          1976
         ],
         "y": [
          81.8,
          81.8
         ]
        },
        {
         "line": {
          "color": "red"
         },
         "showlegend": false,
         "type": "scatter",
         "x": [
          1976,
          1977
         ],
         "y": [
          81.8,
          81.78
         ]
        },
        {
         "line": {
          "color": "red"
         },
         "showlegend": false,
         "type": "scatter",
         "x": [
          1977,
          1978
         ],
         "y": [
          81.78,
          81.79
         ]
        },
        {
         "line": {
          "color": "red"
         },
         "showlegend": false,
         "type": "scatter",
         "x": [
          1978,
          1979
         ],
         "y": [
          81.79,
          81.84
         ]
        },
        {
         "line": {
          "color": "gray"
         },
         "showlegend": false,
         "type": "scatter",
         "x": [
          1979,
          1980
         ],
         "y": [
          81.84,
          81.85
         ]
        },
        {
         "line": {
          "color": "green"
         },
         "showlegend": false,
         "type": "scatter",
         "x": [
          1980,
          1981
         ],
         "y": [
          81.85,
          81.85
         ]
        },
        {
         "line": {
          "color": "green"
         },
         "showlegend": false,
         "type": "scatter",
         "x": [
          1981,
          1982
         ],
         "y": [
          81.85,
          81.88
         ]
        },
        {
         "line": {
          "color": "green"
         },
         "showlegend": false,
         "type": "scatter",
         "x": [
          1982,
          1983
         ],
         "y": [
          81.88,
          81.92
         ]
        },
        {
         "line": {
          "color": "green"
         },
         "showlegend": false,
         "type": "scatter",
         "x": [
          1983,
          1984
         ],
         "y": [
          81.92,
          81.92
         ]
        },
        {
         "line": {
          "color": "green"
         },
         "showlegend": false,
         "type": "scatter",
         "x": [
          1984,
          1985
         ],
         "y": [
          81.92,
          81.89
         ]
        },
        {
         "line": {
          "color": "gray"
         },
         "showlegend": false,
         "type": "scatter",
         "x": [
          1985,
          1986
         ],
         "y": [
          81.89,
          81.92
         ]
        },
        {
         "line": {
          "color": "green"
         },
         "showlegend": false,
         "type": "scatter",
         "x": [
          1986,
          1987
         ],
         "y": [
          81.92,
          81.91
         ]
        },
        {
         "line": {
          "color": "green"
         },
         "showlegend": false,
         "type": "scatter",
         "x": [
          1987,
          1988
         ],
         "y": [
          81.91,
          81.89
         ]
        },
        {
         "line": {
          "color": "gray"
         },
         "showlegend": false,
         "type": "scatter",
         "x": [
          1988,
          1989
         ],
         "y": [
          81.89,
          81.87
         ]
        },
        {
         "line": {
          "color": "gray"
         },
         "showlegend": false,
         "type": "scatter",
         "x": [
          1989,
          1990
         ],
         "y": [
          81.87,
          81.88
         ]
        },
        {
         "line": {
          "color": "gray"
         },
         "showlegend": false,
         "type": "scatter",
         "x": [
          1990,
          1991
         ],
         "y": [
          81.88,
          81.9
         ]
        },
        {
         "line": {
          "color": "gray"
         },
         "showlegend": false,
         "type": "scatter",
         "x": [
          1991,
          1992
         ],
         "y": [
          81.9,
          81.89
         ]
        },
        {
         "line": {
          "color": "gray"
         },
         "showlegend": false,
         "type": "scatter",
         "x": [
          1992,
          1993
         ],
         "y": [
          81.89,
          81.9
         ]
        },
        {
         "line": {
          "color": "gray"
         },
         "showlegend": false,
         "type": "scatter",
         "x": [
          1993,
          1994
         ],
         "y": [
          81.9,
          81.9
         ]
        },
        {
         "line": {
          "color": "gray"
         },
         "showlegend": false,
         "type": "scatter",
         "x": [
          1994,
          1995
         ],
         "y": [
          81.9,
          81.89
         ]
        },
        {
         "line": {
          "color": "gray"
         },
         "showlegend": false,
         "type": "scatter",
         "x": [
          1995,
          1996
         ],
         "y": [
          81.89,
          81.87
         ]
        },
        {
         "line": {
          "color": "gray"
         },
         "showlegend": false,
         "type": "scatter",
         "x": [
          1996,
          1997
         ],
         "y": [
          81.87,
          81.9
         ]
        },
        {
         "line": {
          "color": "gray"
         },
         "showlegend": false,
         "type": "scatter",
         "x": [
          1997,
          1998
         ],
         "y": [
          81.9,
          81.86
         ]
        },
        {
         "line": {
          "color": "red"
         },
         "showlegend": false,
         "type": "scatter",
         "x": [
          1998,
          1999
         ],
         "y": [
          81.86,
          81.9
         ]
        },
        {
         "line": {
          "color": "gray"
         },
         "showlegend": false,
         "type": "scatter",
         "x": [
          1999,
          2000
         ],
         "y": [
          81.9,
          81.92
         ]
        },
        {
         "line": {
          "color": "green"
         },
         "showlegend": false,
         "type": "scatter",
         "x": [
          2000,
          2001
         ],
         "y": [
          81.92,
          81.93
         ]
        },
        {
         "line": {
          "color": "green"
         },
         "showlegend": false,
         "type": "scatter",
         "x": [
          2001,
          2002
         ],
         "y": [
          81.93,
          81.87
         ]
        },
        {
         "line": {
          "color": "gray"
         },
         "showlegend": false,
         "type": "scatter",
         "x": [
          2002,
          2003
         ],
         "y": [
          81.87,
          81.88
         ]
        },
        {
         "line": {
          "color": "red"
         },
         "showlegend": false,
         "type": "scatter",
         "x": [
          2003,
          2004
         ],
         "y": [
          81.88,
          81.84
         ]
        },
        {
         "line": {
          "color": "red"
         },
         "showlegend": false,
         "type": "scatter",
         "x": [
          2004,
          2005
         ],
         "y": [
          81.84,
          81.85
         ]
        },
        {
         "line": {
          "color": "gray"
         },
         "showlegend": false,
         "type": "scatter",
         "x": [
          2005,
          2006
         ],
         "y": [
          81.85,
          81.86
         ]
        },
        {
         "line": {
          "color": "gray"
         },
         "showlegend": false,
         "type": "scatter",
         "x": [
          2006,
          2007
         ],
         "y": [
          81.86,
          81.86
         ]
        },
        {
         "line": {
          "color": "gray"
         },
         "showlegend": false,
         "type": "scatter",
         "x": [
          2007,
          2008
         ],
         "y": [
          81.86,
          81.85
         ]
        },
        {
         "line": {
          "color": "red"
         },
         "showlegend": false,
         "type": "scatter",
         "x": [
          2008,
          2009
         ],
         "y": [
          81.85,
          81.88
         ]
        },
        {
         "line": {
          "color": "gray"
         },
         "showlegend": false,
         "type": "scatter",
         "x": [
          2009,
          2010
         ],
         "y": [
          81.88,
          81.88
         ]
        },
        {
         "line": {
          "color": "gray"
         },
         "showlegend": false,
         "type": "scatter",
         "x": [
          2010,
          2011
         ],
         "y": [
          81.88,
          81.87
         ]
        },
        {
         "line": {
          "color": "gray"
         },
         "showlegend": false,
         "type": "scatter",
         "x": [
          2011,
          2012
         ],
         "y": [
          81.87,
          81.72
         ]
        },
        {
         "line": {
          "color": "red"
         },
         "showlegend": false,
         "type": "scatter",
         "x": [
          2012,
          2013
         ],
         "y": [
          81.72,
          81.52
         ]
        },
        {
         "line": {
          "color": "red"
         },
         "showlegend": false,
         "type": "scatter",
         "x": [
          2013,
          2014
         ],
         "y": [
          81.52,
          81.45
         ]
        },
        {
         "line": {
          "color": "red"
         },
         "showlegend": false,
         "type": "scatter",
         "x": [
          2014,
          2015
         ],
         "y": [
          81.45,
          81.48
         ]
        },
        {
         "line": {
          "color": "red"
         },
         "showlegend": false,
         "type": "scatter",
         "x": [
          2015,
          2016
         ],
         "y": [
          81.48,
          81.46
         ]
        },
        {
         "line": {
          "color": "red"
         },
         "showlegend": false,
         "type": "scatter",
         "x": [
          2016,
          2017
         ],
         "y": [
          81.46,
          81.34
         ]
        },
        {
         "line": {
          "color": "red"
         },
         "showlegend": false,
         "type": "scatter",
         "x": [
          2017,
          2018
         ],
         "y": [
          81.34,
          81.59
         ]
        },
        {
         "line": {
          "color": "green"
         },
         "showlegend": false,
         "type": "scatter",
         "x": [
          2018,
          2019
         ],
         "y": [
          81.59,
          81.63
         ]
        },
        {
         "line": {
          "color": "green"
         },
         "showlegend": false,
         "type": "scatter",
         "x": [
          2019,
          2020
         ],
         "y": [
          81.63,
          81.68
         ]
        },
        {
         "line": {
          "color": "green"
         },
         "showlegend": false,
         "type": "scatter",
         "x": [
          2020,
          2021
         ],
         "y": [
          81.68,
          81.65
         ]
        },
        {
         "line": {
          "color": "green"
         },
         "showlegend": false,
         "type": "scatter",
         "x": [
          2021,
          2022
         ],
         "y": [
          81.65,
          81.6
         ]
        },
        {
         "line": {
          "color": "green"
         },
         "showlegend": false,
         "type": "scatter",
         "x": [
          2022,
          2023
         ],
         "y": [
          81.6,
          81.67
         ]
        },
        {
         "line": {
          "color": "green"
         },
         "showlegend": false,
         "type": "scatter",
         "x": [
          2023,
          2024
         ],
         "y": [
          81.67,
          81.74
         ]
        },
        {
         "line": {
          "color": "green"
         },
         "showlegend": false,
         "type": "scatter",
         "x": [
          2024,
          2025
         ],
         "y": [
          81.74,
          81.78
         ]
        },
        {
         "line": {
          "color": "green"
         },
         "showlegend": false,
         "type": "scatter",
         "x": [
          2025,
          2026
         ],
         "y": [
          81.78,
          81.75
         ]
        },
        {
         "line": {
          "color": "green"
         },
         "showlegend": false,
         "type": "scatter",
         "x": [
          2026,
          2027
         ],
         "y": [
          81.75,
          81.63
         ]
        },
        {
         "line": {
          "color": "gray"
         },
         "showlegend": false,
         "type": "scatter",
         "x": [
          2027,
          2028
         ],
         "y": [
          81.63,
          81.62
         ]
        },
        {
         "line": {
          "color": "gray"
         },
         "showlegend": false,
         "type": "scatter",
         "x": [
          2028,
          2029
         ],
         "y": [
          81.62,
          81.67
         ]
        },
        {
         "line": {
          "color": "gray"
         },
         "showlegend": false,
         "type": "scatter",
         "x": [
          2029,
          2030
         ],
         "y": [
          81.67,
          81.69
         ]
        },
        {
         "line": {
          "color": "gray"
         },
         "showlegend": false,
         "type": "scatter",
         "x": [
          2030,
          2031
         ],
         "y": [
          81.69,
          81.69
         ]
        },
        {
         "line": {
          "color": "gray"
         },
         "showlegend": false,
         "type": "scatter",
         "x": [
          2031,
          2032
         ],
         "y": [
          81.69,
          81.8
         ]
        },
        {
         "line": {
          "color": "green"
         },
         "showlegend": false,
         "type": "scatter",
         "x": [
          2032,
          2033
         ],
         "y": [
          81.8,
          81.82
         ]
        },
        {
         "line": {
          "color": "green"
         },
         "showlegend": false,
         "type": "scatter",
         "x": [
          2033,
          2034
         ],
         "y": [
          81.82,
          81.75
         ]
        },
        {
         "line": {
          "color": "gray"
         },
         "showlegend": false,
         "type": "scatter",
         "x": [
          2034,
          2035
         ],
         "y": [
          81.75,
          81.73
         ]
        },
        {
         "line": {
          "color": "gray"
         },
         "showlegend": false,
         "type": "scatter",
         "x": [
          2035,
          2036
         ],
         "y": [
          81.73,
          81.7
         ]
        },
        {
         "line": {
          "color": "gray"
         },
         "showlegend": false,
         "type": "scatter",
         "x": [
          2036,
          2037
         ],
         "y": [
          81.7,
          81.67
         ]
        },
        {
         "line": {
          "color": "red"
         },
         "showlegend": false,
         "type": "scatter",
         "x": [
          2037,
          2038
         ],
         "y": [
          81.67,
          81.62
         ]
        },
        {
         "line": {
          "color": "red"
         },
         "showlegend": false,
         "type": "scatter",
         "x": [
          2038,
          2039
         ],
         "y": [
          81.62,
          81.53
         ]
        },
        {
         "line": {
          "color": "red"
         },
         "showlegend": false,
         "type": "scatter",
         "x": [
          2039,
          2040
         ],
         "y": [
          81.53,
          81.36
         ]
        },
        {
         "line": {
          "color": "red"
         },
         "showlegend": false,
         "type": "scatter",
         "x": [
          2040,
          2041
         ],
         "y": [
          81.36,
          81.3
         ]
        },
        {
         "line": {
          "color": "red"
         },
         "showlegend": false,
         "type": "scatter",
         "x": [
          2041,
          2042
         ],
         "y": [
          81.3,
          81.44
         ]
        },
        {
         "line": {
          "color": "red"
         },
         "showlegend": false,
         "type": "scatter",
         "x": [
          2042,
          2043
         ],
         "y": [
          81.44,
          81.33
         ]
        },
        {
         "line": {
          "color": "red"
         },
         "showlegend": false,
         "type": "scatter",
         "x": [
          2043,
          2044
         ],
         "y": [
          81.33,
          81.34
         ]
        },
        {
         "line": {
          "color": "red"
         },
         "showlegend": false,
         "type": "scatter",
         "x": [
          2044,
          2045
         ],
         "y": [
          81.34,
          81.39
         ]
        },
        {
         "line": {
          "color": "red"
         },
         "showlegend": false,
         "type": "scatter",
         "x": [
          2045,
          2046
         ],
         "y": [
          81.39,
          81.32
         ]
        },
        {
         "line": {
          "color": "red"
         },
         "showlegend": false,
         "type": "scatter",
         "x": [
          2046,
          2047
         ],
         "y": [
          81.32,
          81.28
         ]
        },
        {
         "line": {
          "color": "red"
         },
         "showlegend": false,
         "type": "scatter",
         "x": [
          2047,
          2048
         ],
         "y": [
          81.28,
          81.44
         ]
        },
        {
         "line": {
          "color": "gray"
         },
         "showlegend": false,
         "type": "scatter",
         "x": [
          2048,
          2049
         ],
         "y": [
          81.44,
          81.45
         ]
        },
        {
         "line": {
          "color": "gray"
         },
         "showlegend": false,
         "type": "scatter",
         "x": [
          2049,
          2050
         ],
         "y": [
          81.45,
          81.49
         ]
        },
        {
         "line": {
          "color": "green"
         },
         "showlegend": false,
         "type": "scatter",
         "x": [
          2050,
          2051
         ],
         "y": [
          81.49,
          81.4
         ]
        },
        {
         "line": {
          "color": "gray"
         },
         "showlegend": false,
         "type": "scatter",
         "x": [
          2051,
          2052
         ],
         "y": [
          81.4,
          81.34
         ]
        },
        {
         "line": {
          "color": "red"
         },
         "showlegend": false,
         "type": "scatter",
         "x": [
          2052,
          2053
         ],
         "y": [
          81.34,
          81.35
         ]
        },
        {
         "line": {
          "color": "gray"
         },
         "showlegend": false,
         "type": "scatter",
         "x": [
          2053,
          2054
         ],
         "y": [
          81.35,
          81.32
         ]
        },
        {
         "line": {
          "color": "red"
         },
         "showlegend": false,
         "type": "scatter",
         "x": [
          2054,
          2055
         ],
         "y": [
          81.32,
          81.38
         ]
        },
        {
         "line": {
          "color": "gray"
         },
         "showlegend": false,
         "type": "scatter",
         "x": [
          2055,
          2056
         ],
         "y": [
          81.38,
          81.26
         ]
        },
        {
         "line": {
          "color": "red"
         },
         "showlegend": false,
         "type": "scatter",
         "x": [
          2056,
          2057
         ],
         "y": [
          81.26,
          81.21
         ]
        },
        {
         "line": {
          "color": "red"
         },
         "showlegend": false,
         "type": "scatter",
         "x": [
          2057,
          2058
         ],
         "y": [
          81.21,
          81.15
         ]
        },
        {
         "line": {
          "color": "red"
         },
         "showlegend": false,
         "type": "scatter",
         "x": [
          2058,
          2059
         ],
         "y": [
          81.15,
          81.15
         ]
        },
        {
         "line": {
          "color": "red"
         },
         "showlegend": false,
         "type": "scatter",
         "x": [
          2059,
          2060
         ],
         "y": [
          81.15,
          81.19
         ]
        },
        {
         "line": {
          "color": "gray"
         },
         "showlegend": false,
         "type": "scatter",
         "x": [
          2060,
          2061
         ],
         "y": [
          81.19,
          81.19
         ]
        },
        {
         "line": {
          "color": "gray"
         },
         "showlegend": false,
         "type": "scatter",
         "x": [
          2061,
          2062
         ],
         "y": [
          81.19,
          81.18
         ]
        },
        {
         "line": {
          "color": "gray"
         },
         "showlegend": false,
         "type": "scatter",
         "x": [
          2062,
          2063
         ],
         "y": [
          81.18,
          81.27
         ]
        },
        {
         "line": {
          "color": "green"
         },
         "showlegend": false,
         "type": "scatter",
         "x": [
          2063,
          2064
         ],
         "y": [
          81.27,
          81.28
         ]
        },
        {
         "line": {
          "color": "green"
         },
         "showlegend": false,
         "type": "scatter",
         "x": [
          2064,
          2065
         ],
         "y": [
          81.28,
          81.26
         ]
        },
        {
         "line": {
          "color": "gray"
         },
         "showlegend": false,
         "type": "scatter",
         "x": [
          2065,
          2066
         ],
         "y": [
          81.26,
          81.21
         ]
        },
        {
         "line": {
          "color": "gray"
         },
         "showlegend": false,
         "type": "scatter",
         "x": [
          2066,
          2067
         ],
         "y": [
          81.21,
          81.22
         ]
        },
        {
         "line": {
          "color": "gray"
         },
         "showlegend": false,
         "type": "scatter",
         "x": [
          2067,
          2068
         ],
         "y": [
          81.22,
          81.23
         ]
        },
        {
         "line": {
          "color": "gray"
         },
         "showlegend": false,
         "type": "scatter",
         "x": [
          2068,
          2069
         ],
         "y": [
          81.23,
          81.15
         ]
        },
        {
         "line": {
          "color": "red"
         },
         "showlegend": false,
         "type": "scatter",
         "x": [
          2069,
          2070
         ],
         "y": [
          81.15,
          81.11
         ]
        },
        {
         "line": {
          "color": "red"
         },
         "showlegend": false,
         "type": "scatter",
         "x": [
          2070,
          2071
         ],
         "y": [
          81.11,
          81.35
         ]
        },
        {
         "line": {
          "color": "green"
         },
         "showlegend": false,
         "type": "scatter",
         "x": [
          2071,
          2072
         ],
         "y": [
          81.35,
          81.34
         ]
        },
        {
         "line": {
          "color": "green"
         },
         "showlegend": false,
         "type": "scatter",
         "x": [
          2072,
          2073
         ],
         "y": [
          81.34,
          81.41
         ]
        },
        {
         "line": {
          "color": "green"
         },
         "showlegend": false,
         "type": "scatter",
         "x": [
          2073,
          2074
         ],
         "y": [
          81.41,
          81.4
         ]
        },
        {
         "line": {
          "color": "green"
         },
         "showlegend": false,
         "type": "scatter",
         "x": [
          2074,
          2075
         ],
         "y": [
          81.4,
          81.42
         ]
        },
        {
         "line": {
          "color": "green"
         },
         "showlegend": false,
         "type": "scatter",
         "x": [
          2075,
          2076
         ],
         "y": [
          81.42,
          81.37
         ]
        },
        {
         "line": {
          "color": "green"
         },
         "showlegend": false,
         "type": "scatter",
         "x": [
          2076,
          2077
         ],
         "y": [
          81.37,
          81.3
         ]
        },
        {
         "line": {
          "color": "gray"
         },
         "showlegend": false,
         "type": "scatter",
         "x": [
          2077,
          2078
         ],
         "y": [
          81.3,
          81.26
         ]
        },
        {
         "line": {
          "color": "gray"
         },
         "showlegend": false,
         "type": "scatter",
         "x": [
          2078,
          2079
         ],
         "y": [
          81.26,
          81.23
         ]
        },
        {
         "line": {
          "color": "gray"
         },
         "showlegend": false,
         "type": "scatter",
         "x": [
          2079,
          2080
         ],
         "y": [
          81.23,
          81.29
         ]
        },
        {
         "line": {
          "color": "gray"
         },
         "showlegend": false,
         "type": "scatter",
         "x": [
          2080,
          2081
         ],
         "y": [
          81.29,
          81.28
         ]
        },
        {
         "line": {
          "color": "gray"
         },
         "showlegend": false,
         "type": "scatter",
         "x": [
          2081,
          2082
         ],
         "y": [
          81.28,
          81.33
         ]
        },
        {
         "line": {
          "color": "gray"
         },
         "showlegend": false,
         "type": "scatter",
         "x": [
          2082,
          2083
         ],
         "y": [
          81.33,
          81.03
         ]
        },
        {
         "line": {
          "color": "red"
         },
         "showlegend": false,
         "type": "scatter",
         "x": [
          2083,
          2084
         ],
         "y": [
          81.03,
          81.31
         ]
        },
        {
         "line": {
          "color": "gray"
         },
         "showlegend": false,
         "type": "scatter",
         "x": [
          2084,
          2085
         ],
         "y": [
          81.31,
          81.41
         ]
        },
        {
         "line": {
          "color": "green"
         },
         "showlegend": false,
         "type": "scatter",
         "x": [
          2085,
          2086
         ],
         "y": [
          81.41,
          81.39
         ]
        },
        {
         "line": {
          "color": "green"
         },
         "showlegend": false,
         "type": "scatter",
         "x": [
          2086,
          2087
         ],
         "y": [
          81.39,
          81.61
         ]
        },
        {
         "line": {
          "color": "green"
         },
         "showlegend": false,
         "type": "scatter",
         "x": [
          2087,
          2088
         ],
         "y": [
          81.61,
          81.64
         ]
        },
        {
         "line": {
          "color": "green"
         },
         "showlegend": false,
         "type": "scatter",
         "x": [
          2088,
          2089
         ],
         "y": [
          81.64,
          81.64
         ]
        },
        {
         "line": {
          "color": "green"
         },
         "showlegend": false,
         "type": "scatter",
         "x": [
          2089,
          2090
         ],
         "y": [
          81.64,
          81.61
         ]
        },
        {
         "line": {
          "color": "green"
         },
         "showlegend": false,
         "type": "scatter",
         "x": [
          2090,
          2091
         ],
         "y": [
          81.61,
          81.81
         ]
        },
        {
         "line": {
          "color": "green"
         },
         "showlegend": false,
         "type": "scatter",
         "x": [
          2091,
          2092
         ],
         "y": [
          81.81,
          82.01
         ]
        },
        {
         "line": {
          "color": "green"
         },
         "showlegend": false,
         "type": "scatter",
         "x": [
          2092,
          2093
         ],
         "y": [
          82.01,
          82
         ]
        },
        {
         "line": {
          "color": "green"
         },
         "showlegend": false,
         "type": "scatter",
         "x": [
          2093,
          2094
         ],
         "y": [
          82,
          81.86
         ]
        },
        {
         "line": {
          "color": "green"
         },
         "showlegend": false,
         "type": "scatter",
         "x": [
          2094,
          2095
         ],
         "y": [
          81.86,
          81.88
         ]
        },
        {
         "line": {
          "color": "green"
         },
         "showlegend": false,
         "type": "scatter",
         "x": [
          2095,
          2096
         ],
         "y": [
          81.88,
          81.89
         ]
        },
        {
         "line": {
          "color": "green"
         },
         "showlegend": false,
         "type": "scatter",
         "x": [
          2096,
          2097
         ],
         "y": [
          81.89,
          82.14
         ]
        },
        {
         "line": {
          "color": "green"
         },
         "showlegend": false,
         "type": "scatter",
         "x": [
          2097,
          2098
         ],
         "y": [
          82.14,
          81.99
         ]
        },
        {
         "line": {
          "color": "green"
         },
         "showlegend": false,
         "type": "scatter",
         "x": [
          2098,
          2099
         ],
         "y": [
          81.99,
          81.97
         ]
        },
        {
         "line": {
          "color": "green"
         },
         "showlegend": false,
         "type": "scatter",
         "x": [
          2099,
          2100
         ],
         "y": [
          81.97,
          82.06
         ]
        },
        {
         "line": {
          "color": "green"
         },
         "showlegend": false,
         "type": "scatter",
         "x": [
          2100,
          2101
         ],
         "y": [
          82.06,
          81.99
         ]
        },
        {
         "line": {
          "color": "gray"
         },
         "showlegend": false,
         "type": "scatter",
         "x": [
          2101,
          2102
         ],
         "y": [
          81.99,
          82.07
         ]
        },
        {
         "line": {
          "color": "green"
         },
         "showlegend": false,
         "type": "scatter",
         "x": [
          2102,
          2103
         ],
         "y": [
          82.07,
          82.03
         ]
        },
        {
         "line": {
          "color": "green"
         },
         "showlegend": false,
         "type": "scatter",
         "x": [
          2103,
          2104
         ],
         "y": [
          82.03,
          82
         ]
        },
        {
         "line": {
          "color": "gray"
         },
         "showlegend": false,
         "type": "scatter",
         "x": [
          2104,
          2105
         ],
         "y": [
          82,
          81.95
         ]
        },
        {
         "line": {
          "color": "gray"
         },
         "showlegend": false,
         "type": "scatter",
         "x": [
          2105,
          2106
         ],
         "y": [
          81.95,
          81.89
         ]
        },
        {
         "line": {
          "color": "gray"
         },
         "showlegend": false,
         "type": "scatter",
         "x": [
          2106,
          2107
         ],
         "y": [
          81.89,
          81.66
         ]
        },
        {
         "line": {
          "color": "red"
         },
         "showlegend": false,
         "type": "scatter",
         "x": [
          2107,
          2108
         ],
         "y": [
          81.66,
          81.69
         ]
        },
        {
         "line": {
          "color": "red"
         },
         "showlegend": false,
         "type": "scatter",
         "x": [
          2108,
          2109
         ],
         "y": [
          81.69,
          81.79
         ]
        },
        {
         "line": {
          "color": "gray"
         },
         "showlegend": false,
         "type": "scatter",
         "x": [
          2109,
          2110
         ],
         "y": [
          81.79,
          81.82
         ]
        },
        {
         "line": {
          "color": "gray"
         },
         "showlegend": false,
         "type": "scatter",
         "x": [
          2110,
          2111
         ],
         "y": [
          81.82,
          81.9
         ]
        },
        {
         "line": {
          "color": "gray"
         },
         "showlegend": false,
         "type": "scatter",
         "x": [
          2111,
          2112
         ],
         "y": [
          81.9,
          81.91
         ]
        },
        {
         "line": {
          "color": "green"
         },
         "showlegend": false,
         "type": "scatter",
         "x": [
          2112,
          2113
         ],
         "y": [
          81.91,
          81.89
         ]
        },
        {
         "line": {
          "color": "gray"
         },
         "showlegend": false,
         "type": "scatter",
         "x": [
          2113,
          2114
         ],
         "y": [
          81.89,
          81.77
         ]
        },
        {
         "line": {
          "color": "gray"
         },
         "showlegend": false,
         "type": "scatter",
         "x": [
          2114,
          2115
         ],
         "y": [
          81.77,
          81.64
         ]
        },
        {
         "line": {
          "color": "red"
         },
         "showlegend": false,
         "type": "scatter",
         "x": [
          2115,
          2116
         ],
         "y": [
          81.64,
          81.59
         ]
        },
        {
         "line": {
          "color": "red"
         },
         "showlegend": false,
         "type": "scatter",
         "x": [
          2116,
          2117
         ],
         "y": [
          81.59,
          81.58
         ]
        },
        {
         "line": {
          "color": "red"
         },
         "showlegend": false,
         "type": "scatter",
         "x": [
          2117,
          2118
         ],
         "y": [
          81.58,
          81.75
         ]
        },
        {
         "line": {
          "color": "gray"
         },
         "showlegend": false,
         "type": "scatter",
         "x": [
          2118,
          2119
         ],
         "y": [
          81.75,
          81.75
         ]
        },
        {
         "line": {
          "color": "gray"
         },
         "showlegend": false,
         "type": "scatter",
         "x": [
          2119,
          2120
         ],
         "y": [
          81.75,
          81.9
         ]
        },
        {
         "line": {
          "color": "green"
         },
         "showlegend": false,
         "type": "scatter",
         "x": [
          2120,
          2121
         ],
         "y": [
          81.9,
          81.84
         ]
        },
        {
         "line": {
          "color": "green"
         },
         "showlegend": false,
         "type": "scatter",
         "x": [
          2121,
          2122
         ],
         "y": [
          81.84,
          81.76
         ]
        },
        {
         "line": {
          "color": "gray"
         },
         "showlegend": false,
         "type": "scatter",
         "x": [
          2122,
          2123
         ],
         "y": [
          81.76,
          81.71
         ]
        },
        {
         "line": {
          "color": "gray"
         },
         "showlegend": false,
         "type": "scatter",
         "x": [
          2123,
          2124
         ],
         "y": [
          81.71,
          81.75
         ]
        },
        {
         "line": {
          "color": "gray"
         },
         "showlegend": false,
         "type": "scatter",
         "x": [
          2124,
          2125
         ],
         "y": [
          81.75,
          81.79
         ]
        },
        {
         "line": {
          "color": "gray"
         },
         "showlegend": false,
         "type": "scatter",
         "x": [
          2125,
          2126
         ],
         "y": [
          81.79,
          81.81
         ]
        },
        {
         "line": {
          "color": "green"
         },
         "showlegend": false,
         "type": "scatter",
         "x": [
          2126,
          2127
         ],
         "y": [
          81.81,
          81.83
         ]
        },
        {
         "line": {
          "color": "green"
         },
         "showlegend": false,
         "type": "scatter",
         "x": [
          2127,
          2128
         ],
         "y": [
          81.83,
          81.86
         ]
        },
        {
         "line": {
          "color": "green"
         },
         "showlegend": false,
         "type": "scatter",
         "x": [
          2128,
          2129
         ],
         "y": [
          81.86,
          81.86
         ]
        },
        {
         "line": {
          "color": "green"
         },
         "showlegend": false,
         "type": "scatter",
         "x": [
          2129,
          2130
         ],
         "y": [
          81.86,
          81.87
         ]
        },
        {
         "line": {
          "color": "green"
         },
         "showlegend": false,
         "type": "scatter",
         "x": [
          2130,
          2131
         ],
         "y": [
          81.87,
          81.85
         ]
        },
        {
         "line": {
          "color": "green"
         },
         "showlegend": false,
         "type": "scatter",
         "x": [
          2131,
          2132
         ],
         "y": [
          81.85,
          81.86
         ]
        },
        {
         "line": {
          "color": "green"
         },
         "showlegend": false,
         "type": "scatter",
         "x": [
          2132,
          2133
         ],
         "y": [
          81.86,
          81.86
         ]
        },
        {
         "line": {
          "color": "green"
         },
         "showlegend": false,
         "type": "scatter",
         "x": [
          2133,
          2134
         ],
         "y": [
          81.86,
          81.93
         ]
        },
        {
         "line": {
          "color": "green"
         },
         "showlegend": false,
         "type": "scatter",
         "x": [
          2134,
          2135
         ],
         "y": [
          81.93,
          81.89
         ]
        },
        {
         "line": {
          "color": "green"
         },
         "showlegend": false,
         "type": "scatter",
         "x": [
          2135,
          2136
         ],
         "y": [
          81.89,
          81.9
         ]
        },
        {
         "line": {
          "color": "green"
         },
         "showlegend": false,
         "type": "scatter",
         "x": [
          2136,
          2137
         ],
         "y": [
          81.9,
          81.83
         ]
        },
        {
         "line": {
          "color": "gray"
         },
         "showlegend": false,
         "type": "scatter",
         "x": [
          2137,
          2138
         ],
         "y": [
          81.83,
          81.83
         ]
        },
        {
         "line": {
          "color": "gray"
         },
         "showlegend": false,
         "type": "scatter",
         "x": [
          2138,
          2139
         ],
         "y": [
          81.83,
          81.88
         ]
        },
        {
         "line": {
          "color": "gray"
         },
         "showlegend": false,
         "type": "scatter",
         "x": [
          2139,
          2140
         ],
         "y": [
          81.88,
          81.88
         ]
        },
        {
         "line": {
          "color": "green"
         },
         "showlegend": false,
         "type": "scatter",
         "x": [
          2140,
          2141
         ],
         "y": [
          81.88,
          81.87
         ]
        },
        {
         "line": {
          "color": "gray"
         },
         "showlegend": false,
         "type": "scatter",
         "x": [
          2141,
          2142
         ],
         "y": [
          81.87,
          81.8
         ]
        },
        {
         "line": {
          "color": "gray"
         },
         "showlegend": false,
         "type": "scatter",
         "x": [
          2142,
          2143
         ],
         "y": [
          81.8,
          81.72
         ]
        },
        {
         "line": {
          "color": "red"
         },
         "showlegend": false,
         "type": "scatter",
         "x": [
          2143,
          2144
         ],
         "y": [
          81.72,
          81.83
         ]
        },
        {
         "line": {
          "color": "gray"
         },
         "showlegend": false,
         "type": "scatter",
         "x": [
          2144,
          2145
         ],
         "y": [
          81.83,
          81.74
         ]
        },
        {
         "line": {
          "color": "gray"
         },
         "showlegend": false,
         "type": "scatter",
         "x": [
          2145,
          2146
         ],
         "y": [
          81.74,
          81.82
         ]
        },
        {
         "line": {
          "color": "gray"
         },
         "showlegend": false,
         "type": "scatter",
         "x": [
          2146,
          2147
         ],
         "y": [
          81.82,
          81.82
         ]
        },
        {
         "line": {
          "color": "gray"
         },
         "showlegend": false,
         "type": "scatter",
         "x": [
          2147,
          2148
         ],
         "y": [
          81.82,
          81.82
         ]
        },
        {
         "line": {
          "color": "gray"
         },
         "showlegend": false,
         "type": "scatter",
         "x": [
          2148,
          2149
         ],
         "y": [
          81.82,
          81.94
         ]
        },
        {
         "line": {
          "color": "green"
         },
         "showlegend": false,
         "type": "scatter",
         "x": [
          2149,
          2150
         ],
         "y": [
          81.94,
          81.93
         ]
        },
        {
         "line": {
          "color": "green"
         },
         "showlegend": false,
         "type": "scatter",
         "x": [
          2150,
          2151
         ],
         "y": [
          81.93,
          81.94
         ]
        },
        {
         "line": {
          "color": "green"
         },
         "showlegend": false,
         "type": "scatter",
         "x": [
          2151,
          2152
         ],
         "y": [
          81.94,
          81.96
         ]
        },
        {
         "line": {
          "color": "green"
         },
         "showlegend": false,
         "type": "scatter",
         "x": [
          2152,
          2153
         ],
         "y": [
          81.96,
          81.95
         ]
        },
        {
         "line": {
          "color": "green"
         },
         "showlegend": false,
         "type": "scatter",
         "x": [
          2153,
          2154
         ],
         "y": [
          81.95,
          81.92
         ]
        },
        {
         "line": {
          "color": "green"
         },
         "showlegend": false,
         "type": "scatter",
         "x": [
          2154,
          2155
         ],
         "y": [
          81.92,
          81.98
         ]
        },
        {
         "line": {
          "color": "green"
         },
         "showlegend": false,
         "type": "scatter",
         "x": [
          2155,
          2156
         ],
         "y": [
          81.98,
          81.94
         ]
        },
        {
         "line": {
          "color": "gray"
         },
         "showlegend": false,
         "type": "scatter",
         "x": [
          2156,
          2157
         ],
         "y": [
          81.94,
          81.95
         ]
        },
        {
         "line": {
          "color": "green"
         },
         "showlegend": false,
         "type": "scatter",
         "x": [
          2157,
          2158
         ],
         "y": [
          81.95,
          81.98
         ]
        },
        {
         "line": {
          "color": "green"
         },
         "showlegend": false,
         "type": "scatter",
         "x": [
          2158,
          2159
         ],
         "y": [
          81.98,
          82
         ]
        },
        {
         "line": {
          "color": "green"
         },
         "showlegend": false,
         "type": "scatter",
         "x": [
          2159,
          2160
         ],
         "y": [
          82,
          82
         ]
        },
        {
         "line": {
          "color": "green"
         },
         "showlegend": false,
         "type": "scatter",
         "x": [
          2160,
          2161
         ],
         "y": [
          82,
          82
         ]
        },
        {
         "line": {
          "color": "green"
         },
         "showlegend": false,
         "type": "scatter",
         "x": [
          2161,
          2162
         ],
         "y": [
          82,
          82.01
         ]
        },
        {
         "line": {
          "color": "green"
         },
         "showlegend": false,
         "type": "scatter",
         "x": [
          2162,
          2163
         ],
         "y": [
          82.01,
          82.05
         ]
        },
        {
         "line": {
          "color": "green"
         },
         "showlegend": false,
         "type": "scatter",
         "x": [
          2163,
          2164
         ],
         "y": [
          82.05,
          82.07
         ]
        },
        {
         "line": {
          "color": "green"
         },
         "showlegend": false,
         "type": "scatter",
         "x": [
          2164,
          2165
         ],
         "y": [
          82.07,
          82.08
         ]
        },
        {
         "line": {
          "color": "green"
         },
         "showlegend": false,
         "type": "scatter",
         "x": [
          2165,
          2166
         ],
         "y": [
          82.08,
          82.07
         ]
        },
        {
         "line": {
          "color": "green"
         },
         "showlegend": false,
         "type": "scatter",
         "x": [
          2166,
          2167
         ],
         "y": [
          82.07,
          82.08
         ]
        },
        {
         "line": {
          "color": "green"
         },
         "showlegend": false,
         "type": "scatter",
         "x": [
          2167,
          2168
         ],
         "y": [
          82.08,
          82.04
         ]
        },
        {
         "line": {
          "color": "gray"
         },
         "showlegend": false,
         "type": "scatter",
         "x": [
          2168,
          2169
         ],
         "y": [
          82.04,
          82.05
         ]
        },
        {
         "line": {
          "color": "gray"
         },
         "showlegend": false,
         "type": "scatter",
         "x": [
          2169,
          2170
         ],
         "y": [
          82.05,
          82.04
         ]
        },
        {
         "line": {
          "color": "gray"
         },
         "showlegend": false,
         "type": "scatter",
         "x": [
          2170,
          2171
         ],
         "y": [
          82.04,
          82.04
         ]
        },
        {
         "line": {
          "color": "gray"
         },
         "showlegend": false,
         "type": "scatter",
         "x": [
          2171,
          2172
         ],
         "y": [
          82.04,
          82.03
         ]
        },
        {
         "line": {
          "color": "gray"
         },
         "showlegend": false,
         "type": "scatter",
         "x": [
          2172,
          2173
         ],
         "y": [
          82.03,
          82.02
         ]
        },
        {
         "line": {
          "color": "gray"
         },
         "showlegend": false,
         "type": "scatter",
         "x": [
          2173,
          2174
         ],
         "y": [
          82.02,
          82
         ]
        },
        {
         "line": {
          "color": "red"
         },
         "showlegend": false,
         "type": "scatter",
         "x": [
          2174,
          2175
         ],
         "y": [
          82,
          81.99
         ]
        },
        {
         "line": {
          "color": "red"
         },
         "showlegend": false,
         "type": "scatter",
         "x": [
          2175,
          2176
         ],
         "y": [
          81.99,
          81.99
         ]
        },
        {
         "line": {
          "color": "gray"
         },
         "showlegend": false,
         "type": "scatter",
         "x": [
          2176,
          2177
         ],
         "y": [
          81.99,
          82.01
         ]
        },
        {
         "line": {
          "color": "gray"
         },
         "showlegend": false,
         "type": "scatter",
         "x": [
          2177,
          2178
         ],
         "y": [
          82.01,
          82.01
         ]
        },
        {
         "line": {
          "color": "red"
         },
         "showlegend": false,
         "type": "scatter",
         "x": [
          2178,
          2179
         ],
         "y": [
          82.01,
          82.02
         ]
        },
        {
         "line": {
          "color": "gray"
         },
         "showlegend": false,
         "type": "scatter",
         "x": [
          2179,
          2180
         ],
         "y": [
          82.02,
          81.89
         ]
        },
        {
         "line": {
          "color": "red"
         },
         "showlegend": false,
         "type": "scatter",
         "x": [
          2180,
          2181
         ],
         "y": [
          81.89,
          81.89
         ]
        },
        {
         "line": {
          "color": "red"
         },
         "showlegend": false,
         "type": "scatter",
         "x": [
          2181,
          2182
         ],
         "y": [
          81.89,
          81.96
         ]
        },
        {
         "line": {
          "color": "red"
         },
         "showlegend": false,
         "type": "scatter",
         "x": [
          2182,
          2183
         ],
         "y": [
          81.96,
          81.92
         ]
        },
        {
         "line": {
          "color": "red"
         },
         "showlegend": false,
         "type": "scatter",
         "x": [
          2183,
          2184
         ],
         "y": [
          81.92,
          81.92
         ]
        },
        {
         "line": {
          "color": "red"
         },
         "showlegend": false,
         "type": "scatter",
         "x": [
          2184,
          2185
         ],
         "y": [
          81.92,
          82.06
         ]
        },
        {
         "line": {
          "color": "green"
         },
         "showlegend": false,
         "type": "scatter",
         "x": [
          2185,
          2186
         ],
         "y": [
          82.06,
          82.05
         ]
        },
        {
         "line": {
          "color": "green"
         },
         "showlegend": false,
         "type": "scatter",
         "x": [
          2186,
          2187
         ],
         "y": [
          82.05,
          82.05
         ]
        },
        {
         "line": {
          "color": "green"
         },
         "showlegend": false,
         "type": "scatter",
         "x": [
          2187,
          2188
         ],
         "y": [
          82.05,
          82.06
         ]
        },
        {
         "line": {
          "color": "green"
         },
         "showlegend": false,
         "type": "scatter",
         "x": [
          2188,
          2189
         ],
         "y": [
          82.06,
          82.06
         ]
        },
        {
         "line": {
          "color": "green"
         },
         "showlegend": false,
         "type": "scatter",
         "x": [
          2189,
          2190
         ],
         "y": [
          82.06,
          82.05
         ]
        },
        {
         "line": {
          "color": "green"
         },
         "showlegend": false,
         "type": "scatter",
         "x": [
          2190,
          2191
         ],
         "y": [
          82.05,
          81.99
         ]
        },
        {
         "line": {
          "color": "green"
         },
         "showlegend": false,
         "type": "scatter",
         "x": [
          2191,
          2192
         ],
         "y": [
          81.99,
          81.97
         ]
        },
        {
         "line": {
          "color": "gray"
         },
         "showlegend": false,
         "type": "scatter",
         "x": [
          2192,
          2193
         ],
         "y": [
          81.97,
          81.97
         ]
        },
        {
         "line": {
          "color": "gray"
         },
         "showlegend": false,
         "type": "scatter",
         "x": [
          2193,
          2194
         ],
         "y": [
          81.97,
          81.96
         ]
        },
        {
         "line": {
          "color": "red"
         },
         "showlegend": false,
         "type": "scatter",
         "x": [
          2194,
          2195
         ],
         "y": [
          81.96,
          81.95
         ]
        },
        {
         "line": {
          "color": "red"
         },
         "showlegend": false,
         "type": "scatter",
         "x": [
          2195,
          2196
         ],
         "y": [
          81.95,
          81.98
         ]
        },
        {
         "line": {
          "color": "gray"
         },
         "showlegend": false,
         "type": "scatter",
         "x": [
          2196,
          2197
         ],
         "y": [
          81.98,
          81.99
         ]
        },
        {
         "line": {
          "color": "green"
         },
         "showlegend": false,
         "type": "scatter",
         "x": [
          2197,
          2198
         ],
         "y": [
          81.99,
          82.03
         ]
        },
        {
         "line": {
          "color": "green"
         },
         "showlegend": false,
         "type": "scatter",
         "x": [
          2198,
          2199
         ],
         "y": [
          82.03,
          82.01
         ]
        }
       ],
       "layout": {
        "autosize": true,
        "height": 1000,
        "template": {
         "data": {
          "bar": [
           {
            "error_x": {
             "color": "#2a3f5f"
            },
            "error_y": {
             "color": "#2a3f5f"
            },
            "marker": {
             "line": {
              "color": "#E5ECF6",
              "width": 0.5
             },
             "pattern": {
              "fillmode": "overlay",
              "size": 10,
              "solidity": 0.2
             }
            },
            "type": "bar"
           }
          ],
          "barpolar": [
           {
            "marker": {
             "line": {
              "color": "#E5ECF6",
              "width": 0.5
             },
             "pattern": {
              "fillmode": "overlay",
              "size": 10,
              "solidity": 0.2
             }
            },
            "type": "barpolar"
           }
          ],
          "carpet": [
           {
            "aaxis": {
             "endlinecolor": "#2a3f5f",
             "gridcolor": "white",
             "linecolor": "white",
             "minorgridcolor": "white",
             "startlinecolor": "#2a3f5f"
            },
            "baxis": {
             "endlinecolor": "#2a3f5f",
             "gridcolor": "white",
             "linecolor": "white",
             "minorgridcolor": "white",
             "startlinecolor": "#2a3f5f"
            },
            "type": "carpet"
           }
          ],
          "choropleth": [
           {
            "colorbar": {
             "outlinewidth": 0,
             "ticks": ""
            },
            "type": "choropleth"
           }
          ],
          "contour": [
           {
            "colorbar": {
             "outlinewidth": 0,
             "ticks": ""
            },
            "colorscale": [
             [
              0,
              "#0d0887"
             ],
             [
              0.1111111111111111,
              "#46039f"
             ],
             [
              0.2222222222222222,
              "#7201a8"
             ],
             [
              0.3333333333333333,
              "#9c179e"
             ],
             [
              0.4444444444444444,
              "#bd3786"
             ],
             [
              0.5555555555555556,
              "#d8576b"
             ],
             [
              0.6666666666666666,
              "#ed7953"
             ],
             [
              0.7777777777777778,
              "#fb9f3a"
             ],
             [
              0.8888888888888888,
              "#fdca26"
             ],
             [
              1,
              "#f0f921"
             ]
            ],
            "type": "contour"
           }
          ],
          "contourcarpet": [
           {
            "colorbar": {
             "outlinewidth": 0,
             "ticks": ""
            },
            "type": "contourcarpet"
           }
          ],
          "heatmap": [
           {
            "colorbar": {
             "outlinewidth": 0,
             "ticks": ""
            },
            "colorscale": [
             [
              0,
              "#0d0887"
             ],
             [
              0.1111111111111111,
              "#46039f"
             ],
             [
              0.2222222222222222,
              "#7201a8"
             ],
             [
              0.3333333333333333,
              "#9c179e"
             ],
             [
              0.4444444444444444,
              "#bd3786"
             ],
             [
              0.5555555555555556,
              "#d8576b"
             ],
             [
              0.6666666666666666,
              "#ed7953"
             ],
             [
              0.7777777777777778,
              "#fb9f3a"
             ],
             [
              0.8888888888888888,
              "#fdca26"
             ],
             [
              1,
              "#f0f921"
             ]
            ],
            "type": "heatmap"
           }
          ],
          "heatmapgl": [
           {
            "colorbar": {
             "outlinewidth": 0,
             "ticks": ""
            },
            "colorscale": [
             [
              0,
              "#0d0887"
             ],
             [
              0.1111111111111111,
              "#46039f"
             ],
             [
              0.2222222222222222,
              "#7201a8"
             ],
             [
              0.3333333333333333,
              "#9c179e"
             ],
             [
              0.4444444444444444,
              "#bd3786"
             ],
             [
              0.5555555555555556,
              "#d8576b"
             ],
             [
              0.6666666666666666,
              "#ed7953"
             ],
             [
              0.7777777777777778,
              "#fb9f3a"
             ],
             [
              0.8888888888888888,
              "#fdca26"
             ],
             [
              1,
              "#f0f921"
             ]
            ],
            "type": "heatmapgl"
           }
          ],
          "histogram": [
           {
            "marker": {
             "pattern": {
              "fillmode": "overlay",
              "size": 10,
              "solidity": 0.2
             }
            },
            "type": "histogram"
           }
          ],
          "histogram2d": [
           {
            "colorbar": {
             "outlinewidth": 0,
             "ticks": ""
            },
            "colorscale": [
             [
              0,
              "#0d0887"
             ],
             [
              0.1111111111111111,
              "#46039f"
             ],
             [
              0.2222222222222222,
              "#7201a8"
             ],
             [
              0.3333333333333333,
              "#9c179e"
             ],
             [
              0.4444444444444444,
              "#bd3786"
             ],
             [
              0.5555555555555556,
              "#d8576b"
             ],
             [
              0.6666666666666666,
              "#ed7953"
             ],
             [
              0.7777777777777778,
              "#fb9f3a"
             ],
             [
              0.8888888888888888,
              "#fdca26"
             ],
             [
              1,
              "#f0f921"
             ]
            ],
            "type": "histogram2d"
           }
          ],
          "histogram2dcontour": [
           {
            "colorbar": {
             "outlinewidth": 0,
             "ticks": ""
            },
            "colorscale": [
             [
              0,
              "#0d0887"
             ],
             [
              0.1111111111111111,
              "#46039f"
             ],
             [
              0.2222222222222222,
              "#7201a8"
             ],
             [
              0.3333333333333333,
              "#9c179e"
             ],
             [
              0.4444444444444444,
              "#bd3786"
             ],
             [
              0.5555555555555556,
              "#d8576b"
             ],
             [
              0.6666666666666666,
              "#ed7953"
             ],
             [
              0.7777777777777778,
              "#fb9f3a"
             ],
             [
              0.8888888888888888,
              "#fdca26"
             ],
             [
              1,
              "#f0f921"
             ]
            ],
            "type": "histogram2dcontour"
           }
          ],
          "mesh3d": [
           {
            "colorbar": {
             "outlinewidth": 0,
             "ticks": ""
            },
            "type": "mesh3d"
           }
          ],
          "parcoords": [
           {
            "line": {
             "colorbar": {
              "outlinewidth": 0,
              "ticks": ""
             }
            },
            "type": "parcoords"
           }
          ],
          "pie": [
           {
            "automargin": true,
            "type": "pie"
           }
          ],
          "scatter": [
           {
            "fillpattern": {
             "fillmode": "overlay",
             "size": 10,
             "solidity": 0.2
            },
            "type": "scatter"
           }
          ],
          "scatter3d": [
           {
            "line": {
             "colorbar": {
              "outlinewidth": 0,
              "ticks": ""
             }
            },
            "marker": {
             "colorbar": {
              "outlinewidth": 0,
              "ticks": ""
             }
            },
            "type": "scatter3d"
           }
          ],
          "scattercarpet": [
           {
            "marker": {
             "colorbar": {
              "outlinewidth": 0,
              "ticks": ""
             }
            },
            "type": "scattercarpet"
           }
          ],
          "scattergeo": [
           {
            "marker": {
             "colorbar": {
              "outlinewidth": 0,
              "ticks": ""
             }
            },
            "type": "scattergeo"
           }
          ],
          "scattergl": [
           {
            "marker": {
             "colorbar": {
              "outlinewidth": 0,
              "ticks": ""
             }
            },
            "type": "scattergl"
           }
          ],
          "scattermapbox": [
           {
            "marker": {
             "colorbar": {
              "outlinewidth": 0,
              "ticks": ""
             }
            },
            "type": "scattermapbox"
           }
          ],
          "scatterpolar": [
           {
            "marker": {
             "colorbar": {
              "outlinewidth": 0,
              "ticks": ""
             }
            },
            "type": "scatterpolar"
           }
          ],
          "scatterpolargl": [
           {
            "marker": {
             "colorbar": {
              "outlinewidth": 0,
              "ticks": ""
             }
            },
            "type": "scatterpolargl"
           }
          ],
          "scatterternary": [
           {
            "marker": {
             "colorbar": {
              "outlinewidth": 0,
              "ticks": ""
             }
            },
            "type": "scatterternary"
           }
          ],
          "surface": [
           {
            "colorbar": {
             "outlinewidth": 0,
             "ticks": ""
            },
            "colorscale": [
             [
              0,
              "#0d0887"
             ],
             [
              0.1111111111111111,
              "#46039f"
             ],
             [
              0.2222222222222222,
              "#7201a8"
             ],
             [
              0.3333333333333333,
              "#9c179e"
             ],
             [
              0.4444444444444444,
              "#bd3786"
             ],
             [
              0.5555555555555556,
              "#d8576b"
             ],
             [
              0.6666666666666666,
              "#ed7953"
             ],
             [
              0.7777777777777778,
              "#fb9f3a"
             ],
             [
              0.8888888888888888,
              "#fdca26"
             ],
             [
              1,
              "#f0f921"
             ]
            ],
            "type": "surface"
           }
          ],
          "table": [
           {
            "cells": {
             "fill": {
              "color": "#EBF0F8"
             },
             "line": {
              "color": "white"
             }
            },
            "header": {
             "fill": {
              "color": "#C8D4E3"
             },
             "line": {
              "color": "white"
             }
            },
            "type": "table"
           }
          ]
         },
         "layout": {
          "annotationdefaults": {
           "arrowcolor": "#2a3f5f",
           "arrowhead": 0,
           "arrowwidth": 1
          },
          "autotypenumbers": "strict",
          "coloraxis": {
           "colorbar": {
            "outlinewidth": 0,
            "ticks": ""
           }
          },
          "colorscale": {
           "diverging": [
            [
             0,
             "#8e0152"
            ],
            [
             0.1,
             "#c51b7d"
            ],
            [
             0.2,
             "#de77ae"
            ],
            [
             0.3,
             "#f1b6da"
            ],
            [
             0.4,
             "#fde0ef"
            ],
            [
             0.5,
             "#f7f7f7"
            ],
            [
             0.6,
             "#e6f5d0"
            ],
            [
             0.7,
             "#b8e186"
            ],
            [
             0.8,
             "#7fbc41"
            ],
            [
             0.9,
             "#4d9221"
            ],
            [
             1,
             "#276419"
            ]
           ],
           "sequential": [
            [
             0,
             "#0d0887"
            ],
            [
             0.1111111111111111,
             "#46039f"
            ],
            [
             0.2222222222222222,
             "#7201a8"
            ],
            [
             0.3333333333333333,
             "#9c179e"
            ],
            [
             0.4444444444444444,
             "#bd3786"
            ],
            [
             0.5555555555555556,
             "#d8576b"
            ],
            [
             0.6666666666666666,
             "#ed7953"
            ],
            [
             0.7777777777777778,
             "#fb9f3a"
            ],
            [
             0.8888888888888888,
             "#fdca26"
            ],
            [
             1,
             "#f0f921"
            ]
           ],
           "sequentialminus": [
            [
             0,
             "#0d0887"
            ],
            [
             0.1111111111111111,
             "#46039f"
            ],
            [
             0.2222222222222222,
             "#7201a8"
            ],
            [
             0.3333333333333333,
             "#9c179e"
            ],
            [
             0.4444444444444444,
             "#bd3786"
            ],
            [
             0.5555555555555556,
             "#d8576b"
            ],
            [
             0.6666666666666666,
             "#ed7953"
            ],
            [
             0.7777777777777778,
             "#fb9f3a"
            ],
            [
             0.8888888888888888,
             "#fdca26"
            ],
            [
             1,
             "#f0f921"
            ]
           ]
          },
          "colorway": [
           "#636efa",
           "#EF553B",
           "#00cc96",
           "#ab63fa",
           "#FFA15A",
           "#19d3f3",
           "#FF6692",
           "#B6E880",
           "#FF97FF",
           "#FECB52"
          ],
          "font": {
           "color": "#2a3f5f"
          },
          "geo": {
           "bgcolor": "white",
           "lakecolor": "white",
           "landcolor": "#E5ECF6",
           "showlakes": true,
           "showland": true,
           "subunitcolor": "white"
          },
          "hoverlabel": {
           "align": "left"
          },
          "hovermode": "closest",
          "mapbox": {
           "style": "light"
          },
          "paper_bgcolor": "white",
          "plot_bgcolor": "#E5ECF6",
          "polar": {
           "angularaxis": {
            "gridcolor": "white",
            "linecolor": "white",
            "ticks": ""
           },
           "bgcolor": "#E5ECF6",
           "radialaxis": {
            "gridcolor": "white",
            "linecolor": "white",
            "ticks": ""
           }
          },
          "scene": {
           "xaxis": {
            "backgroundcolor": "#E5ECF6",
            "gridcolor": "white",
            "gridwidth": 2,
            "linecolor": "white",
            "showbackground": true,
            "ticks": "",
            "zerolinecolor": "white"
           },
           "yaxis": {
            "backgroundcolor": "#E5ECF6",
            "gridcolor": "white",
            "gridwidth": 2,
            "linecolor": "white",
            "showbackground": true,
            "ticks": "",
            "zerolinecolor": "white"
           },
           "zaxis": {
            "backgroundcolor": "#E5ECF6",
            "gridcolor": "white",
            "gridwidth": 2,
            "linecolor": "white",
            "showbackground": true,
            "ticks": "",
            "zerolinecolor": "white"
           }
          },
          "shapedefaults": {
           "line": {
            "color": "#2a3f5f"
           }
          },
          "ternary": {
           "aaxis": {
            "gridcolor": "white",
            "linecolor": "white",
            "ticks": ""
           },
           "baxis": {
            "gridcolor": "white",
            "linecolor": "white",
            "ticks": ""
           },
           "bgcolor": "#E5ECF6",
           "caxis": {
            "gridcolor": "white",
            "linecolor": "white",
            "ticks": ""
           }
          },
          "title": {
           "x": 0.05
          },
          "xaxis": {
           "automargin": true,
           "gridcolor": "white",
           "linecolor": "white",
           "ticks": "",
           "title": {
            "standoff": 15
           },
           "zerolinecolor": "white",
           "zerolinewidth": 2
          },
          "yaxis": {
           "automargin": true,
           "gridcolor": "white",
           "linecolor": "white",
           "ticks": "",
           "title": {
            "standoff": 15
           },
           "zerolinecolor": "white",
           "zerolinewidth": 2
          }
         }
        },
        "title": {
         "text": "Wykres liniowy z kolorami"
        },
        "width": 1400,
        "xaxis": {
         "title": {
          "text": "Indeks"
         }
        },
        "yaxis": {
         "title": {
          "text": "Close"
         }
        }
       }
      }
     },
     "metadata": {},
     "output_type": "display_data"
    }
   ],
   "source": [
    "# Graph green/red\n",
    "def graphGreenRed(Y_test, batch_size):\n",
    "    \n",
    "    # model = load_model('./results/19/saved_models/best_model_Timestep_10.keras')\n",
    "    # predict = model.predict(x_test, batch_size=batch_size)\n",
    "    predict_classes = np.where(predict > 0.65, 1,0)\n",
    "    concat = np.hstack((predict_classes, Y_test[:,2:]))\n",
    "    # df = pd.DataFrame(concat, columns=['Sell', 'Buy', 'Price'])\n",
    "    df = pd.DataFrame(concat, columns=['Sell', 'Buy', 'Close', 'Open', 'High', 'Low'])\n",
    "    \n",
    "    # Tworzenie wykresu liniowego\n",
    "    fig = go.Figure()\n",
    "\n",
    "    # Layout - set size\n",
    "    fig.update_layout(\n",
    "        autosize=True,\n",
    "        width=1400,\n",
    "        height=1000\n",
    "    )\n",
    "    \n",
    "    start = 1000\n",
    "    end = start + 1200\n",
    "    \n",
    "    # Dodawanie linii do wykresu\n",
    "    for i in range(start, len(df[:end])):\n",
    "\n",
    "        color = 'gray'\n",
    "        if df.at[i-1, 'Buy'] == 1:\n",
    "            color = 'green'\n",
    "        elif df.at[i-1, 'Sell'] == 1:\n",
    "            color = 'red'\n",
    "\n",
    "        fig.add_trace(go.Scatter(x=[i-1, i], y=[df.at[i-1, 'Open'], df.at[i, 'Open']], line=dict(color=color), showlegend=False))\n",
    "    \n",
    "    # Ustawienia osi i tytuł\n",
    "    fig.update_layout(\n",
    "        xaxis_title='Indeks',\n",
    "        yaxis_title='Close',\n",
    "        title='Wykres liniowy z kolorami'\n",
    "    )\n",
    "    \n",
    "    # Wyświetlanie wykresu\n",
    "    fig.show()\n",
    "    \n",
    "graphGreenRed(Y_test, 64)"
   ]
  },
  {
   "cell_type": "code",
   "execution_count": 33,
   "metadata": {},
   "outputs": [
    {
     "name": "stdout",
     "output_type": "stream",
     "text": [
      "[[ 1.    0.   82.79 82.93 82.94 82.77]\n",
      " [ 1.    0.   82.78 82.79 82.8  82.74]\n",
      " [ 1.    0.   82.84 82.77 82.89 82.76]\n",
      " [ 1.    0.   82.9  82.83 82.94 82.83]\n",
      " [ 1.    0.   82.9  82.89 82.92 82.87]\n",
      " [ 1.    0.   82.92 82.89 82.94 82.86]]\n",
      "\u001b[1m83/83\u001b[0m \u001b[32m━━━━━━━━━━━━━━━━━━━━\u001b[0m\u001b[37m\u001b[0m \u001b[1m3s\u001b[0m 25ms/step\n",
      "      Sell  Buy  Close   Open   High    Low\n",
      "3619   0.0  1.0  82.79  82.93  82.94  82.77\n",
      "3620   1.0  0.0  82.78  82.79  82.80  82.74\n",
      "3621   1.0  0.0  82.84  82.77  82.89  82.76\n",
      "3622   0.0  0.0  82.90  82.83  82.94  82.83\n",
      "3623   0.0  1.0  82.90  82.89  82.92  82.87\n",
      "3624   0.0  1.0  82.92  82.89  82.94  82.86\n",
      "3625   0.0  1.0  82.81  82.91  82.93  82.79\n",
      "3626   1.0  0.0  82.80  82.81  82.83  82.79\n",
      "3627   1.0  0.0  82.90  82.79  82.92  82.79\n",
      "3628   0.0  1.0  82.78  82.88  82.90  82.78\n",
      "3629   1.0  0.0  82.84  82.77  82.86  82.77\n",
      "3630   0.0  0.0  82.73  82.85  82.86  82.58\n",
      "3631   1.0  0.0  82.64  82.70  82.72  82.63\n",
      "3632   1.0  0.0  82.67  82.63  82.67  82.62\n",
      "3633   1.0  0.0  82.73  82.68  82.79  82.67\n",
      "3634   0.0  0.0  82.74  82.72  82.76  82.70\n",
      "3635   0.0  0.0  82.73  82.73  82.82  82.69\n",
      "3636   0.0  0.0  82.81  82.72  82.81  82.59\n",
      "3637   0.0  1.0  82.80  82.80  82.87  82.74\n",
      "3638   0.0  1.0  82.84  82.79  82.87  82.78\n",
      "3639   0.0  1.0  82.91  82.84  82.92  82.82\n",
      "3640   0.0  1.0  83.07  82.92  83.09  82.87\n",
      "3641   0.0  1.0  83.08  83.08  83.09  82.98\n",
      "3642   0.0  1.0  83.00  83.07  83.10  82.96\n",
      "3643   0.0  1.0  83.07  83.01  83.08  83.00\n",
      "3644   0.0  1.0  83.13  83.06  83.15  83.06\n",
      "3645   0.0  1.0  83.11  83.14  83.14  83.05\n",
      "3646   0.0  1.0  83.17  83.12  83.22  83.09\n",
      "3647   0.0  1.0  83.27  83.17  83.31  83.14\n",
      "3648   0.0  1.0  83.35  83.26  83.44  83.19\n",
      "3649   0.0  1.0  83.42  83.39  83.44  83.32\n",
      "3650   0.0  1.0  83.44  83.42  83.48  83.37\n",
      "3651   0.0  1.0  83.39  83.44  83.46  83.32\n",
      "3652   0.0  1.0  83.34  83.40  83.48  83.33\n",
      "3653   0.0  1.0  83.34  83.34  83.47  83.32\n",
      "3654   0.0  1.0  83.22  83.35  83.35  83.15\n",
      "3655   0.0  0.0  83.17  83.23  83.33  83.11\n",
      "3656   1.0  0.0  83.08  83.17  83.21  83.07\n",
      "3657   1.0  0.0  83.27  83.08  83.33  83.06\n",
      "3658   0.0  0.0  83.06  83.28  83.30  83.04\n",
      "3659   1.0  0.0  83.18  83.07  83.18  83.06\n",
      "3660   1.0  0.0  83.14  83.19  83.22  83.06\n",
      "3661   1.0  0.0  82.89  83.15  83.16  82.85\n",
      "3662   1.0  0.0  82.80  82.88  82.94  82.72\n",
      "3663   1.0  0.0  82.86  82.79  82.95  82.77\n",
      "3664   1.0  0.0  82.81  82.85  82.87  82.71\n",
      "3665   1.0  0.0  82.80  82.81  82.85  82.76\n"
     ]
    }
   ],
   "source": [
    "print(Y_test[3619:3625])\n",
    "model = load_model('./results/19/saved_models/best_model_Timestep_10.keras')\n",
    "predict = model.predict(x_test, batch_size=64)\n",
    "predict_classes = np.where(predict > 0.55, 1,0)\n",
    "concat = np.hstack((predict_classes, Y_test[:,2:]))\n",
    "# df = pd.DataFrame(concat, columns=['Sell', 'Buy', 'Price'])\n",
    "df = pd.DataFrame(concat, columns=['Sell', 'Buy', 'Close', 'Open', 'High', 'Low'])\n",
    "print(df.loc[3619:3665])"
   ]
  },
  {
   "cell_type": "code",
   "execution_count": 77,
   "metadata": {},
   "outputs": [
    {
     "name": "stdout",
     "output_type": "stream",
     "text": [
      "i = 0.0: (-4.47, 143)\n",
      "i = 0.05: (-3.45, 123)\n",
      "i = 0.1: (-3.37, 110)\n",
      "i = 0.15: (-3.72, 106)\n",
      "i = 0.2: (-3.45, 102)\n",
      "i = 0.25: (-3.5, 100)\n",
      "i = 0.3: (-3.72, 99)\n",
      "i = 0.35: (-3.67, 99)\n",
      "i = 0.4: (-3.6, 98)\n",
      "i = 0.45: (-3.55, 98)\n",
      "i = 0.5: (-3.5, 98)\n",
      "i = 0.55: (-3.45, 98)\n",
      "i = 0.6: (-3.62, 98)\n",
      "i = 0.65: (-3.62, 98)\n",
      "i = 0.7: (-3.62, 98)\n",
      "i = 0.75: (-3.62, 98)\n",
      "i = 0.8: (-3.62, 98)\n",
      "i = 0.85: (-3.62, 98)\n",
      "i = 0.9: (-3.62, 98)\n",
      "i = 0.95: (-3.62, 98)\n",
      "i = 1.0: (-3.62, 98)\n",
      "i = 1.05: (-3.62, 98)\n",
      "i = 1.1: (-3.62, 98)\n",
      "i = 1.15: (-3.62, 98)\n",
      "i = 1.2: (-3.62, 98)\n",
      "i = 1.25: (-3.62, 98)\n",
      "i = 1.3: (-3.62, 98)\n",
      "i = 1.35: (-3.62, 98)\n",
      "i = 1.4: (-3.62, 98)\n",
      "i = 1.45: (-3.62, 98)\n",
      "i = 1.5: (-3.62, 98)\n",
      "i = 1.55: (-3.62, 98)\n",
      "i = 1.6: (-3.62, 98)\n",
      "i = 1.65: (-3.62, 98)\n",
      "i = 1.7: (-3.62, 98)\n",
      "i = 1.75: (-3.62, 98)\n",
      "i = 1.8: (-3.62, 98)\n",
      "i = 1.85: (-3.62, 98)\n",
      "i = 1.9: (-3.62, 98)\n",
      "i = 1.95: (-3.62, 98)\n"
     ]
    }
   ],
   "source": [
    "# Profit\n",
    "def funcProfitTP(Y_test, tp, batch_size):\n",
    "    # model = load_model('./results/19/saved_models/best_model_Timestep_10.keras')\n",
    "    # predict = model.predict(x_test, batch_size=batch_size)\n",
    "    predict_classes = np.where(predict > 0.90, 1,0)\n",
    "    concat = np.hstack((predict_classes, Y_test[:,2:]))\n",
    "    # df = pd.DataFrame(concat, columns=['Sell', 'Buy', 'Price'])\n",
    "    df = pd.DataFrame(concat, columns=['Sell', 'Buy', 'Close', 'Open', 'High', 'Low'])\n",
    "    # df = df.iloc[3620:3625]\n",
    "\n",
    "    # Absolute difference prices\n",
    "    spread = 0.03\n",
    "    # tp = 1000 # 0.20\n",
    "    sl = 2\n",
    "    sum = 0\n",
    "    sell = 0\n",
    "    buy = 0\n",
    "    transact = 0\n",
    "\n",
    "    # for i in range(3619, 4765):\n",
    "    for i in range(0, len(df)):\n",
    "        # print(df.at[i, 'Buy'])\n",
    "\n",
    "        if (i-3) >= 0:\n",
    "            buyCondition = 0\n",
    "            sellCondition = 0\n",
    "            # Buy condition\n",
    "            if df.at[i,'Buy'] == 1 and df.at[i-1,'Buy'] == 1 and buy == 0: \n",
    "            # if df.at[i,'Buy'] == 1 and df.at[i-1,'Buy'] == 1 and df.at[i-2,'Buy'] == 1 and df.at[i-3,'Buy'] == 0 and buy == 0: \n",
    "                buyCondition = 1\n",
    "            # Sell condition\n",
    "            if df.at[i,'Sell'] == 1 and df.at[i-1,'Sell'] == 1 and sell == 0: \n",
    "                sellCondition = 1\n",
    "\n",
    "            if df.at[i,'Buy'] == 0:                              # B 0 \n",
    "                if df.at[i-1,'Buy'] == 0:                        # B-1 0\n",
    "                    buy = 0\n",
    "                elif df.at[i-1,'Buy'] == 1 and buy > 0:         # B-1 1\n",
    "                    sum += df.at[i,'Open'] - buy\n",
    "                    buy = 0 \n",
    "            elif buyCondition == 1:                               # B 1\n",
    "                buy = df.at[i,'Open'] + spread\n",
    "                transact += 1\n",
    "                            \n",
    "            if df.at[i,'Sell'] == 0:                              # S 0\n",
    "                if df.at[i-1,'Sell'] == 0:                         # S-1 0\n",
    "                    sell = 0\n",
    "                elif df.at[i-1,'Sell'] == 1 and sell > 0:        # S-1 1\n",
    "                    sum += sell - df.at[i,'Open'] - spread\n",
    "                    sell = 0\n",
    "            elif sellCondition == 1:                           # S 1\n",
    "                sell = df.at[i,'Open']\n",
    "                transact += 1\n",
    "        \n",
    "        # TP block\n",
    "        if buy > 0:\n",
    "            if df.at[i,'High'] >=(buy + tp):\n",
    "                sum += tp\n",
    "                buy = 0  \n",
    "        elif sell > 0:\n",
    "            if df.at[i,'Low'] <= (sell - tp):\n",
    "                sum += tp\n",
    "                sell = 0\n",
    "#     for i in range(0, len(df)):\n",
    "#         if (i-1) >= 0:\n",
    "#             if df.at[i,'Sell'] > 0.8 and df.at[i-1,'Sell'] < 0.2:                  # S 0 1 \n",
    "#                 if buy > 0:\n",
    "#                     sell = df.at[i,'Open'] - spread\n",
    "#                     sum += df.at[i,'Open'] - buy\n",
    "#                     buy = 0\n",
    "#                 elif sell == 0:\n",
    "#                     sell = df.at[i,'Open'] - spread\n",
    "#             elif df.at[i,'Sell'] > 0.8 and df.at[i-1,'Sell'] > 0.8 and sell > 0:   # S 1 1 sell >0\n",
    "#                 if df.at[i-1,'High'] >= (sell + sl):\n",
    "#                     sum -= sl\n",
    "#                     sell = 0\n",
    "#                 if df.at[i-1,'Low'] <= (sell - tp):\n",
    "#                     sum += tp\n",
    "#                     sell = 0\n",
    "# # --------------------------------------------------------------------------------------------------------\n",
    "\n",
    "#             elif df.at[i,'Buy'] > 0.8 and df.at[i-1,'Buy'] < 0.2:               # B 0 1 \n",
    "#                 if sell > 0:\n",
    "#                     buy = df.at[i,'Open'] + spread\n",
    "#                     sum += sell - df.at[i,'Open']\n",
    "#                     sell = 0\n",
    "#                 elif buy == 0:\n",
    "#                     buy = df.at[i,'Open'] + spread\n",
    "#             elif df.at[i,'Buy'] > 0.8 and df.at[i-1,'Buy'] > 0.8 and buy > 0:   # B 1 1 buy >0\n",
    "#                 if df.at[i-1,'Low'] <= (buy - sl):\n",
    "#                     sum -= sl\n",
    "#                     buy = 0\n",
    "#                 if df.at[i-1,'High'] >= (buy + tp):\n",
    "#                     sum += tp\n",
    "#                     buy = 0\n",
    "    return round(sum, 2), transact\n",
    "\n",
    "for i in range(0, 200, 5):\n",
    "    print(f\"i = {i/100}: {funcProfitTP(Y_test, i/100, 64)}\")"
   ]
  }
 ],
 "metadata": {
  "kernelspec": {
   "display_name": "tf",
   "language": "python",
   "name": "python3"
  },
  "language_info": {
   "codemirror_mode": {
    "name": "ipython",
    "version": 3
   },
   "file_extension": ".py",
   "mimetype": "text/x-python",
   "name": "python",
   "nbconvert_exporter": "python",
   "pygments_lexer": "ipython3",
   "version": "3.10.8"
  }
 },
 "nbformat": 4,
 "nbformat_minor": 2
}
