{
 "cells": [
  {
   "cell_type": "code",
   "execution_count": null,
   "metadata": {},
   "outputs": [],
   "source": [
    "# Intallation packages before use Jupyter\n",
    "\n",
    "# !pip install pandas\n",
    "# !pip install -U scikit-learn\n",
    "# !pip install keras\n",
    "# !pip install matplotlib\n",
    "# !pip install kaleido\n",
    "# !pip install plotly"
   ]
  },
  {
   "cell_type": "code",
   "execution_count": 1,
   "metadata": {},
   "outputs": [
    {
     "name": "stdout",
     "output_type": "stream",
     "text": [
      "2.16.1\n",
      "Num GPUs Available:  0\n"
     ]
    }
   ],
   "source": [
    "import numpy as np\n",
    "import pandas as pd\n",
    "import tensorflow as tf\n",
    "from pandas import DataFrame\n",
    "from pandas import Series\n",
    "from pandas import concat\n",
    "from pandas import read_csv\n",
    "# from pandas import datetime\n",
    "from sklearn.metrics import mean_squared_error\n",
    "from sklearn.preprocessing import MinMaxScaler\n",
    "from sklearn.model_selection import train_test_split\n",
    "from keras.models import Sequential, load_model\n",
    "from keras.metrics import Precision, Accuracy\n",
    "from keras.layers import LSTM, Dense, Dropout\n",
    "from keras.callbacks import ModelCheckpoint, EarlyStopping, Callback\n",
    "from keras.optimizers import schedules\n",
    "from math import sqrt\n",
    "import matplotlib\n",
    "import matplotlib.pyplot as plt\n",
    "import plotly.graph_objects as go\n",
    "from plotly.subplots import make_subplots\n",
    "# be able to save images on server\n",
    "matplotlib.use('Agg')\n",
    "\n",
    "# Not show warnings\n",
    "import os\n",
    "os.environ['TF_CPP_MIN_LOG_LEVEL'] = '3'\n",
    "\n",
    "# !pip install -U kaleido # w Google Colab wymagany Runtime restart po instalacji (Runtime -> Restart Runtime)\n",
    "import kaleido #required\n",
    "# kaleido.__version__ #0.2.1\n",
    "\n",
    "print(tf.__version__)\n",
    "print(\"Num GPUs Available: \", len(tf.config.list_physical_devices('GPU')))\n"
   ]
  },
  {
   "cell_type": "code",
   "execution_count": 3,
   "metadata": {},
   "outputs": [],
   "source": [
    "# Zip\n",
    "# importing the \"tarfile\" module\n",
    "import tarfile # type: ignore\n",
    "\n",
    "# open file\n",
    "file = tarfile.open('./data/8_150_1H.tar.gz')\n",
    "\n",
    "# extracting a specific file\n",
    "file.extractall(path='./data/8_150_1H/')\n",
    "\n",
    "file.close()"
   ]
  },
  {
   "cell_type": "code",
   "execution_count": 4,
   "metadata": {},
   "outputs": [],
   "source": [
    "# Data generator\n",
    "def data(time, features):\n",
    "    # Timestep \n",
    "    # timestepsPerSample = 20\n",
    "    timestepsPerSample = time\n",
    "\n",
    "    # Timesteps in input data\n",
    "    timestepsPerSampleWholeData = 150\n",
    "\n",
    "    # Replace 'your_file.csv' with the actual file path\n",
    "    file_features = './data/8_150_1H/8_150_1H_f.csv'\n",
    "    file_labels = './data/8_150_1H/8_150_1H_l.csv'\n",
    "    # file_features = './data/2_150x9/2_150x9f.csv'\n",
    "    # file_labels = './data/2_150x9/2_150x9l.csv'\n",
    "\n",
    "    # Read the .csv file and create an array\n",
    "    data_strings = np.genfromtxt(file_features, delimiter=';')\n",
    "    labels_strings = np.genfromtxt(file_labels,delimiter=';')\n",
    "\n",
    "\n",
    "    # Wycinanie wybranych kolumn\n",
    "    #  0    1         2             3        4       5        6    7        8\n",
    "    # RSI, VWAP, HeikenResult, closeHeiken, CMF, Stochastic, OBV, QQE, TrendFilter\n",
    "    # data_s = data_strings[:,[0,2,3,4,5,6,7,8]]\n",
    "    if features == 0:\n",
    "        data_s = data_strings[:,[0,4,5,8]]\n",
    "    elif features == 1:\n",
    "        data_s = data_strings[:,[0,1,4,5,6,8]]\n",
    "    elif features == 2:\n",
    "        data_s = data_strings[:,:]\n",
    "        \n",
    "    num_features = data_s.shape[1]\n",
    "    # print(data_strings[:3])\n",
    "    # print(data_s[:3])\n",
    "\n",
    "    \n",
    "    # Convert from strings to float and int\n",
    "    X = data_s.astype(float).reshape((-1,timestepsPerSampleWholeData,num_features))\n",
    "    Y = labels_strings.astype(float).reshape((-1,6))\n",
    "    # print(X.shape)\n",
    "    # print(Y.shape)\n",
    "\n",
    "    # Modification from imported to new size X[samples,timesteps]\n",
    "    # X_mod = X[1000:11000,timestepsPerSampleWholeData - timestepsPerSample:]\n",
    "    # Y_mod = Y[1000:11000]\n",
    "    X_mod = X[:,timestepsPerSampleWholeData - timestepsPerSample:]\n",
    "    Y_mod = Y[:]\n",
    "    timestepsPerSampleWholeData = X_mod.shape[1]\n",
    "    # print(X_mod.shape)\n",
    "    # print(Y_mod.shape)\n",
    "    # print(X_mod[:1])\n",
    "\n",
    "    # Splitting\n",
    "    x_train, x_test, Y_train, Y_test = train_test_split(X_mod,Y_mod, test_size=0.15, shuffle=False)\n",
    "    y_train = Y_train[:, 0:2]\n",
    "    y_test = Y_test[:, 0:2]\n",
    "    # print(y_train[:2])\n",
    "    # print(y_test[:2])\n",
    "\n",
    "    # Summarize\n",
    "    num_samples = x_train.shape[0]\n",
    "    test_samples = x_test.shape[0]\n",
    "    print(f\"Train shape: {x_train.shape}\")\n",
    "    print(f\"Timesteps: {timestepsPerSampleWholeData}\")\n",
    "    print(f\"Train Samples: {num_samples}\")\n",
    "    print(f\"Test Samples: {test_samples}\")\n",
    "    print(f\"Num features: {num_features}\")\n",
    "    return x_train, x_test, y_train, y_test, Y_test"
   ]
  },
  {
   "cell_type": "code",
   "execution_count": 5,
   "metadata": {},
   "outputs": [
    {
     "name": "stdout",
     "output_type": "stream",
     "text": [
      "Train shape: (6885, 10, 4)\n",
      "Timesteps: 10\n",
      "Train Samples: 6885\n",
      "Test Samples: 1215\n",
      "Num features: 4\n"
     ]
    }
   ],
   "source": [
    "# Data gen\n",
    "timeStep = 10\n",
    "features = 0\n",
    "\n",
    "x_train, x_test, y_train, y_test, Y_test = data(timeStep, features)"
   ]
  },
  {
   "cell_type": "code",
   "execution_count": 6,
   "metadata": {},
   "outputs": [],
   "source": [
    "# fit lstm model\n",
    "from tabnanny import verbose\n",
    "\n",
    "def shuffle_weights(model, weights=None):\n",
    "    \"\"\"Randomly permute the weights in `model`, or the given `weights`.\n",
    "    This is a fast approximation of re-initializing the weights of a model.\n",
    "    Assumes weights are distributed independently of the dimensions of the weight tensors\n",
    "      (i.e., the weights have the same distribution along each dimension).\n",
    "    :param Model model: Modify the weights of the given model.\n",
    "    :param list(ndarray) weights: The model's weights will be replaced by a random permutation of these weights.\n",
    "      If `None`, permute the model's current weights.\n",
    "    \"\"\"\n",
    "    if weights is None:\n",
    "        weights = model.get_weights()\n",
    "    weights = [np.random.permutation(w.flat).reshape(w.shape) for w in weights]\n",
    "    # Faster, but less random: only permutes along the first dimension\n",
    "    # weights = [np.random.permutation(w) for w in weights]\n",
    "    model.set_weights(weights)\n",
    "\n",
    "\n",
    "def fit_lstmModel(i, x_train, y_train, x_test, y_test, batch_size, nb_epoch, neurons, time, denseType, dropout, modelVar, learning_rate):\n",
    "    LstmLayer = LSTM(\n",
    "    units=neurons,\n",
    "    activation=\"tanh\",\n",
    "    recurrent_activation=\"sigmoid\",\n",
    "    use_bias=True, # true if cuDNN\n",
    "    kernel_initializer=\"glorot_uniform\",\n",
    "    recurrent_initializer=\"orthogonal\",\n",
    "    bias_initializer=\"zeros\",\n",
    "    unit_forget_bias=True,\n",
    "    kernel_regularizer=None,\n",
    "    recurrent_regularizer=None,\n",
    "    bias_regularizer=None,\n",
    "    activity_regularizer=None,\n",
    "    kernel_constraint=None,\n",
    "    recurrent_constraint=None,\n",
    "    bias_constraint=None,\n",
    "    dropout=dropout, # !important parameter for optimization => 0 if cuDNN\n",
    "    recurrent_dropout=0.0,\n",
    "    seed=None,\n",
    "    return_sequences=False,\n",
    "    return_state=False,\n",
    "    go_backwards=False,\n",
    "    stateful=False,\n",
    "    unroll=False, # false if cuDNN\n",
    "    input_shape=(x_train.shape[1],x_train.shape[2]),\n",
    "    # input_dim=(x_train.shape[1])\n",
    "    ) \n",
    "\n",
    "    if modelVar == 0:\n",
    "        model = Sequential() # initializing model\n",
    "        # input layer and LSTM layer with 50 neurons\n",
    "        model.add(LstmLayer)\n",
    "        # model.add(Dense(100, activation='relu'))\n",
    "        # model.add(Dense(100, activation='relu'))\n",
    "        # model.add(Dense(20, activation='relu'))\n",
    "        # outpute layer with sigmoid activation\n",
    "        model.add(Dense(y_train.shape[1], activation='sigmoid'))\n",
    "        \n",
    "    if modelVar == 1:\n",
    "        model = Sequential()\n",
    "\n",
    "        # Assuming `data` is your input matrix with shape (samples, time_steps, features)\n",
    "        model.add(LSTM(units=50, return_sequences=True, input_shape=(x_train.shape[1],x_train.shape[2])))\n",
    "        model.add(Dropout(dropout))\n",
    "\n",
    "        model.add(LSTM(units=50, return_sequences=False))\n",
    "        model.add(Dropout(dropout))\n",
    "\n",
    "        model.add(Dense(units=25))\n",
    "        model.add(Dropout(dropout))\n",
    "\n",
    "        # Output layer for price prediction\n",
    "        model.add(Dense(y_train.shape[1], activation='sigmoid'))\n",
    "\n",
    "    elif modelVar == 2:\n",
    "        model = Sequential()\n",
    "\n",
    "        # Assuming `data` is your input matrix with shape (samples, time_steps, features)\n",
    "        model.add(LSTM(units=150, return_sequences=True, input_shape=(x_train.shape[1],x_train.shape[2])))\n",
    "        model.add(Dropout(dropout))\n",
    "\n",
    "        model.add(LSTM(units=150, return_sequences=False))\n",
    "        model.add(Dropout(dropout))\n",
    "\n",
    "        model.add(Dense(units=75))\n",
    "        model.add(Dropout(dropout))\n",
    "\n",
    "        # Output layer for price prediction\n",
    "        model.add(Dense(y_train.shape[1], activation='sigmoid'))\n",
    "\n",
    "    elif modelVar == 3:\n",
    "        model = Sequential()\n",
    "\n",
    "        # Assuming `data` is your input matrix with shape (samples, time_steps, features)\n",
    "        model.add(LSTM(units=300, return_sequences=True, input_shape=(x_train.shape[1],x_train.shape[2])))\n",
    "        model.add(Dropout(dropout))\n",
    "\n",
    "        model.add(LSTM(units=300, return_sequences=False))\n",
    "        model.add(Dropout(dropout))\n",
    "\n",
    "        model.add(Dense(units=150))\n",
    "        model.add(Dropout(dropout))\n",
    "\n",
    "        # Output layer for price prediction\n",
    "        model.add(Dense(y_train.shape[1], activation='sigmoid'))\n",
    "\n",
    "    elif modelVar == 4:\n",
    "        model = Sequential()\n",
    "\n",
    "        # Assuming `data` is your input matrix with shape (samples, time_steps, features)\n",
    "        model.add(LSTM(units=1000, return_sequences=True, input_shape=(x_train.shape[1],x_train.shape[2])))\n",
    "        model.add(Dropout(dropout))\n",
    "\n",
    "        model.add(LSTM(units=1000, return_sequences=False))\n",
    "        model.add(Dropout(dropout))\n",
    "\n",
    "        model.add(Dense(units=500))\n",
    "        model.add(Dropout(dropout))\n",
    "\n",
    "        # Output layer for price prediction\n",
    "        model.add(Dense(y_train.shape[1], activation='sigmoid'))\n",
    "    \n",
    "    # Callback Checkpoint\n",
    "    checkpoint = ModelCheckpoint(\n",
    "            filepath='./saved_models/last_saved_model.keras',\n",
    "            save_best_only=True,\n",
    "            monitor='val_loss',\n",
    "            verbose=1\n",
    "            )\n",
    "\n",
    "    # Callback EarlyStopping\n",
    "    earlyStopping = EarlyStopping(monitor='val_loss',\n",
    "                                             start_from_epoch=5,\n",
    "                                             restore_best_weights=True,\n",
    "                                             verbose=0,\n",
    "                                             patience=3)\n",
    "    \n",
    "    #  Callback profit\n",
    "    profitList = list()\n",
    "    \n",
    "    class MyCallback(Callback):\n",
    "        def on_epoch_end(self, epoch, logs=None):\n",
    "            predict = model.predict(x_test, batch_size=batch_size)\n",
    "            profit = funcProfit(predict, Y_test) # profit = funcProfit(predict, Y_test)\n",
    "            \n",
    "            if len(profitListSaveModel) == 0:\n",
    "                model.save(f'./saved_models/best_model_{str(testingParameter)}_{str(time)}.keras')\n",
    "                print(f\"New best model saved, previous best profit -> First\")\n",
    "            elif profit > max(profitListSaveModel):\n",
    "                model.save(f'./saved_models/best_model_{str(testingParameter)}_{str(time)}.keras')\n",
    "                print(f\"New best model saved, previous best profit -> {str(max(profitListSaveModel))}\")\n",
    "            \n",
    "            profitList.append(profit)\n",
    "            profitListSaveModel.append(profit)\n",
    "            print(f\"Profit: {profit}\")\n",
    "\n",
    "\n",
    "    # Optimizer\n",
    "    num_samples = x_train.shape[0]\n",
    "    STEPS_PER_EPOCH = num_samples/batch_size\n",
    "\n",
    "    lr_schedule = schedules.InverseTimeDecay(\n",
    "    # lr_schedule = schedules.ExponentialDecay(\n",
    "    0.001,\n",
    "    decay_steps=STEPS_PER_EPOCH*100,\n",
    "    decay_rate=0.9,\n",
    "    staircase=False)\n",
    "\n",
    "    def get_optimizer():\n",
    "         # return tf.keras.optimizers.Adam(learning_rate=0.001)\n",
    "        # return tf.keras.optimizers.Adam() # type: ignore\n",
    "        # return tf.keras.optimizers.RMSprop(learning_rate=learning_rate) # type: ignore\n",
    "        return tf.keras.optimizers.Adam(learning_rate= lr_schedule) # type: ignore\n",
    "\n",
    "    optimizer = get_optimizer()\n",
    "\n",
    "    # defining loss function, optimizer, metrics and then compiling model\n",
    "    model.compile(loss='binary_crossentropy',optimizer=optimizer,metrics=['accuracy'])\n",
    "    # model.compile(loss='binary_crossentropy',optimizer=optimizer,metrics=['precision'])\n",
    "\n",
    "    # Save initial weights on first compile. In next compile restore initial weights\n",
    "    if i == 0:\n",
    "        model.save_weights(\"./saved_models/initial.weights.h5\")\n",
    "    elif i > 0:\n",
    "        shuffle_weights(model, weights=None)\n",
    "        \n",
    "    model.summary()\n",
    "\n",
    "    # fit model\n",
    "    history = model.fit(x_train, y_train, epochs=nb_epoch, batch_size=batch_size, \n",
    "                        shuffle=False, validation_data=(x_test, y_test), callbacks=[checkpoint, earlyStopping, MyCallback()], verbose=2) # type: ignore\n",
    "    \n",
    "    # Convert list() to array\n",
    "    profitArray = np.array(profitList)\n",
    "    \n",
    "    return model, history, profitArray"
   ]
  },
  {
   "cell_type": "code",
   "execution_count": 7,
   "metadata": {},
   "outputs": [],
   "source": [
    "# Profit old\n",
    "def funcProfitOld(predict, Y_test):\n",
    "    predict_classes = np.where(predict > 0.5, 1,0)\n",
    "    concat = np.hstack((predict_classes, Y_test[:,2:]))\n",
    "    # df = pd.DataFrame(concat, columns=['Sell', 'Buy', 'Price'])\n",
    "    df = pd.DataFrame(concat, columns=['Sell', 'Buy', 'Price', 'Open', 'High', 'Low'])\n",
    "\n",
    "    # Absolute difference prices\n",
    "    sum = 0\n",
    "    for i in range(0, len(df)):\n",
    "        if (i-1) > 0:\n",
    "            diff = abs((df.at[i,'Sell'] - df.at[i-1,'Sell']))\n",
    "            if diff < 0.5:\n",
    "                if df.at[i,'Sell'] == 1:\n",
    "                    sum += (df.at[i,'Price'] - df.at[i-1,'Price'])*(-1)\n",
    "                elif df.at[i,'Buy'] == 1:\n",
    "                    sum += (df.at[i,'Price'] - df.at[i-1,'Price'])\n",
    "                if df.at[i,'Sell'] != df.at[i-1,'Sell']:\n",
    "                    sum -= 0.03\n",
    "    return sum\n",
    "\n",
    "\n",
    "# Profit\n",
    "def funcProfit(predict, Y_test):\n",
    "    predict_classes = np.where(predict > 0.56, 1,0)\n",
    "    concat = np.hstack((predict_classes, Y_test[:,2:]))\n",
    "    # df = pd.DataFrame(concat, columns=['Sell', 'Buy', 'Price'])\n",
    "    df = pd.DataFrame(concat, columns=['Sell', 'Buy', 'Close', 'Open', 'High', 'Low'])\n",
    "\n",
    "    # Absolute difference prices\n",
    "    spread = 0.03\n",
    "    tp = 1000 # 0.20\n",
    "    sum = 0\n",
    "    sell = 0\n",
    "    buy = 0\n",
    "    for i in range(0, len(df)):\n",
    "        if (i-1) >= 0:\n",
    "            if df.at[i,'Sell'] > 0.8 and df.at[i-1,'Sell'] < 0.2:                  # S 0 1 \n",
    "                if buy > 0:\n",
    "                    sell = df.at[i,'Open'] - spread\n",
    "                    sum += df.at[i,'Open'] - buy\n",
    "                    buy = 0\n",
    "                elif sell == 0:\n",
    "                    sell = df.at[i,'Open'] - spread\n",
    "            elif df.at[i,'Sell'] > 0.8 and df.at[i-1,'Sell'] > 0.8 and sell > 0:   # S 1 1 sell >0\n",
    "                if df.at[i-1,'High'] >= (sell + tp):\n",
    "                    sum -= tp\n",
    "                    sell = 0\n",
    "                if df.at[i-1,'Low'] <= (sell - tp):\n",
    "                    sum += tp\n",
    "                    sell = 0\n",
    "# --------------------------------------------------------------------------------------------------------\n",
    "\n",
    "            elif df.at[i,'Buy'] > 0.8 and df.at[i-1,'Buy'] < 0.2:               # B 0 1 \n",
    "                if sell > 0:\n",
    "                    buy = df.at[i,'Open'] + spread\n",
    "                    sum += sell - df.at[i,'Open']\n",
    "                    sell = 0\n",
    "                elif buy == 0:\n",
    "                    buy = df.at[i,'Open'] + spread\n",
    "            elif df.at[i,'Buy'] > 0.8 and df.at[i-1,'Buy'] > 0.8 and buy > 0:   # B 1 1 buy >0\n",
    "                if df.at[i-1,'Low'] <= (buy - tp):\n",
    "                    sum -= tp\n",
    "                    buy = 0\n",
    "                if df.at[i-1,'High'] >= (buy + tp):\n",
    "                    sum += tp\n",
    "                    buy = 0\n",
    "\n",
    "    return round(sum, 2)\n",
    "\n",
    "# Profit improved\n",
    "def funcProfitTP(predict, Y_test):\n",
    "    predict_classes = np.where(predict > 0.56, 1,0)\n",
    "    concat = np.hstack((predict_classes, Y_test[:,2:]))\n",
    "    # df = pd.DataFrame(concat, columns=['Sell', 'Buy', 'Price'])\n",
    "    df = pd.DataFrame(concat, columns=['Sell', 'Buy', 'Close', 'Open', 'High', 'Low'])\n",
    "\n",
    "    # Absolute difference prices\n",
    "    spread = 0.03\n",
    "    tp = 1000 # 0.20\n",
    "    sl = 2\n",
    "    sum = 0\n",
    "    sell = 0\n",
    "    buy = 0\n",
    "    transact = 0\n",
    "\n",
    "    # for i in range(3619, 4765):\n",
    "    for i in range(0, len(df)):\n",
    "        # print(df.at[i, 'Buy'])\n",
    "\n",
    "        if (i-3) >= 0:\n",
    "            buyCondition = 0\n",
    "            sellCondition = 0\n",
    "            # Buy condition\n",
    "            if df.at[i,'Buy'] == 1 and df.at[i-1,'Buy'] == 1 and buy == 0: \n",
    "            # if df.at[i,'Buy'] == 1 and df.at[i-1,'Buy'] == 1 and df.at[i-2,'Buy'] == 1 and df.at[i-3,'Buy'] == 0 and buy == 0: \n",
    "                buyCondition = 1\n",
    "            # Sell condition\n",
    "            if df.at[i,'Sell'] == 1 and df.at[i-1,'Sell'] == 1 and sell == 0: \n",
    "                sellCondition = 1\n",
    "\n",
    "            if df.at[i,'Buy'] == 0:                              # B 0 \n",
    "                if df.at[i-1,'Buy'] == 0:                        # B-1 0\n",
    "                    buy = 0\n",
    "                elif df.at[i-1,'Buy'] == 1 and buy > 0:         # B-1 1\n",
    "                    sum += df.at[i,'Open'] - buy\n",
    "                    buy = 0 \n",
    "            elif buyCondition == 1:                               # B 1\n",
    "                buy = df.at[i,'Open'] + spread\n",
    "                transact += 1\n",
    "                            \n",
    "            if df.at[i,'Sell'] == 0:                              # S 0\n",
    "                if df.at[i-1,'Sell'] == 0:                         # S-1 0\n",
    "                    sell = 0\n",
    "                elif df.at[i-1,'Sell'] == 1 and sell > 0:        # S-1 1\n",
    "                    sum += sell - df.at[i,'Open'] - spread\n",
    "                    sell = 0\n",
    "            elif sellCondition == 1:                           # S 1\n",
    "                sell = df.at[i,'Open']\n",
    "                transact += 1\n",
    "        \n",
    "        # TP block\n",
    "        if buy > 0:\n",
    "            if df.at[i,'High'] >=(buy + tp):\n",
    "                sum += tp\n",
    "                buy = 0  \n",
    "        elif sell > 0:\n",
    "            if df.at[i,'Low'] <= (sell - tp):\n",
    "                sum += tp\n",
    "                sell = 0\n",
    "    return round(sum, 2)"
   ]
  },
  {
   "cell_type": "code",
   "execution_count": 8,
   "metadata": {},
   "outputs": [],
   "source": [
    "# Experiment\n",
    "def experiment(i, repeats, epochs, neurons, time, denseType, dropout, modelVar, features, learning_rate):\n",
    "    # # Data gen\n",
    "    # x_train, x_test, y_train, y_test, Y_test = data(time, features)\n",
    "\n",
    "    # Evaluate declaration\n",
    "    accuracy = list()\n",
    "    profit = list()\n",
    "    profitOld = list()\n",
    "    metrics = list()\n",
    "\n",
    "    # Repeats\n",
    "    for r in range(repeats):\n",
    "        print(f\"Repeat {r} running...\")\n",
    "        # Batch size\n",
    "        batch_size = 64\n",
    "        # model\n",
    "        model, history, profitArray = fit_lstmModel(i, x_train, y_train, x_test, y_test, batch_size, epochs, neurons, time, denseType, dropout, modelVar, learning_rate)\n",
    "        i += 1\n",
    "        \n",
    "        # forecast the entire training dataset to build up state for forecasting\n",
    "        model = load_model(filepath=\"./saved_models/last_saved_model.keras\")\n",
    "        predict = model.predict(x_test, batch_size=batch_size)\n",
    "        test_loss, test_acc = model.evaluate(x_test, y_test, verbose=0) # type: ignore\n",
    "\n",
    "        metric = pd.DataFrame(history.history)\n",
    "        metric['epoch'] = history.epoch\n",
    "\n",
    "        # Add column Profit with profit result for epochs\n",
    "        metric = metric.assign(Profit=profitArray)\n",
    "\n",
    "        metrics.append(metric)\n",
    "        accuracy.append(test_acc*100)\n",
    "        # profit.append(funcProfit(predict, Y_test))\n",
    "        profit.append(funcProfitTP(predict, Y_test))\n",
    "    \n",
    "    return accuracy, profit, profitOld, metrics"
   ]
  },
  {
   "cell_type": "code",
   "execution_count": 9,
   "metadata": {},
   "outputs": [],
   "source": [
    "# Output\n",
    "def plotsOut(d, metrics):\n",
    "    fig = make_subplots(rows=1, cols=3, subplot_titles=('Accuracy', 'Loss', 'Profit'))\n",
    "\n",
    "    # Layout - set size\n",
    "    fig.update_layout(\n",
    "        autosize=True,\n",
    "        width=1600,\n",
    "        height=1000\n",
    "    )\n",
    "\n",
    "    for idx, m in enumerate(metrics):\n",
    "        fig.add_trace(go.Scatter(x=m['epoch'], y=m['accuracy'], name=f'accuracy{str(idx)}', line_color='#0000ff', showlegend=False), row=1, col=1)\n",
    "        fig.add_trace(go.Scatter(x=m['epoch'], y=m['loss'], name=f'loss{str(idx)}', line_color='#0000ff', showlegend=False), row=1, col=2)\n",
    "        fig.add_trace(go.Scatter(x=m['epoch'], y=m['val_accuracy'], name=f'val_accuracy{str(idx)}', line_color='#EF8260', showlegend=False), row=1, col=1)\n",
    "        fig.add_trace(go.Scatter(x=m['epoch'], y=m['val_loss'], name=f'val_loss{str(idx)}', line_color='#EF8260', showlegend=False), row=1, col=2)\n",
    "        fig.add_trace(go.Scatter(x=m['epoch'], y=m['Profit'], name=f'profit{str(idx)}', line_color='#EF8260', showlegend=False), row=1, col=3)\n",
    "\n",
    "    fig.update_xaxes(title_text='epochs')\n",
    "    fig.update_yaxes(title_text='')\n",
    "    # fig.update_layout(width=1000, title='Accuracy and Loss')\n",
    "    fig.write_image(file=f\"compare_models_{str(testingParameter)}_{str(d)}.jpg\", engine=\"kaleido\")\n",
    "    fig.show()"
   ]
  },
  {
   "cell_type": "code",
   "execution_count": 11,
   "metadata": {},
   "outputs": [
    {
     "name": "stdout",
     "output_type": "stream",
     "text": [
      "0 Features test start...\n",
      "Train shape: (6885, 10, 4)\n",
      "Timesteps: 10\n",
      "Train Samples: 6885\n",
      "Test Samples: 1215\n",
      "Num features: 4\n",
      "Repeat 0 running...\n"
     ]
    },
    {
     "name": "stderr",
     "output_type": "stream",
     "text": [
      "C:\\Users\\kucha\\AppData\\Roaming\\Python\\Python310\\site-packages\\keras\\src\\layers\\rnn\\rnn.py:204: UserWarning: Do not pass an `input_shape`/`input_dim` argument to a layer. When using Sequential models, prefer using an `Input(shape)` object as the first layer in the model instead.\n",
      "  super().__init__(**kwargs)\n"
     ]
    },
    {
     "data": {
      "text/html": [
       "<pre style=\"white-space:pre;overflow-x:auto;line-height:normal;font-family:Menlo,'DejaVu Sans Mono',consolas,'Courier New',monospace\"><span style=\"font-weight: bold\">Model: \"sequential\"</span>\n",
       "</pre>\n"
      ],
      "text/plain": [
       "\u001b[1mModel: \"sequential\"\u001b[0m\n"
      ]
     },
     "metadata": {},
     "output_type": "display_data"
    },
    {
     "data": {
      "text/html": [
       "<pre style=\"white-space:pre;overflow-x:auto;line-height:normal;font-family:Menlo,'DejaVu Sans Mono',consolas,'Courier New',monospace\">┏━━━━━━━━━━━━━━━━━━━━━━━━━━━━━━━━━┳━━━━━━━━━━━━━━━━━━━━━━━━┳━━━━━━━━━━━━━━━┓\n",
       "┃<span style=\"font-weight: bold\"> Layer (type)                    </span>┃<span style=\"font-weight: bold\"> Output Shape           </span>┃<span style=\"font-weight: bold\">       Param # </span>┃\n",
       "┡━━━━━━━━━━━━━━━━━━━━━━━━━━━━━━━━━╇━━━━━━━━━━━━━━━━━━━━━━━━╇━━━━━━━━━━━━━━━┩\n",
       "│ lstm_1 (<span style=\"color: #0087ff; text-decoration-color: #0087ff\">LSTM</span>)                   │ (<span style=\"color: #00d7ff; text-decoration-color: #00d7ff\">None</span>, <span style=\"color: #00af00; text-decoration-color: #00af00\">10</span>, <span style=\"color: #00af00; text-decoration-color: #00af00\">150</span>)        │        <span style=\"color: #00af00; text-decoration-color: #00af00\">93,000</span> │\n",
       "├─────────────────────────────────┼────────────────────────┼───────────────┤\n",
       "│ dropout (<span style=\"color: #0087ff; text-decoration-color: #0087ff\">Dropout</span>)               │ (<span style=\"color: #00d7ff; text-decoration-color: #00d7ff\">None</span>, <span style=\"color: #00af00; text-decoration-color: #00af00\">10</span>, <span style=\"color: #00af00; text-decoration-color: #00af00\">150</span>)        │             <span style=\"color: #00af00; text-decoration-color: #00af00\">0</span> │\n",
       "├─────────────────────────────────┼────────────────────────┼───────────────┤\n",
       "│ lstm_2 (<span style=\"color: #0087ff; text-decoration-color: #0087ff\">LSTM</span>)                   │ (<span style=\"color: #00d7ff; text-decoration-color: #00d7ff\">None</span>, <span style=\"color: #00af00; text-decoration-color: #00af00\">150</span>)            │       <span style=\"color: #00af00; text-decoration-color: #00af00\">180,600</span> │\n",
       "├─────────────────────────────────┼────────────────────────┼───────────────┤\n",
       "│ dropout_1 (<span style=\"color: #0087ff; text-decoration-color: #0087ff\">Dropout</span>)             │ (<span style=\"color: #00d7ff; text-decoration-color: #00d7ff\">None</span>, <span style=\"color: #00af00; text-decoration-color: #00af00\">150</span>)            │             <span style=\"color: #00af00; text-decoration-color: #00af00\">0</span> │\n",
       "├─────────────────────────────────┼────────────────────────┼───────────────┤\n",
       "│ dense (<span style=\"color: #0087ff; text-decoration-color: #0087ff\">Dense</span>)                   │ (<span style=\"color: #00d7ff; text-decoration-color: #00d7ff\">None</span>, <span style=\"color: #00af00; text-decoration-color: #00af00\">75</span>)             │        <span style=\"color: #00af00; text-decoration-color: #00af00\">11,325</span> │\n",
       "├─────────────────────────────────┼────────────────────────┼───────────────┤\n",
       "│ dropout_2 (<span style=\"color: #0087ff; text-decoration-color: #0087ff\">Dropout</span>)             │ (<span style=\"color: #00d7ff; text-decoration-color: #00d7ff\">None</span>, <span style=\"color: #00af00; text-decoration-color: #00af00\">75</span>)             │             <span style=\"color: #00af00; text-decoration-color: #00af00\">0</span> │\n",
       "├─────────────────────────────────┼────────────────────────┼───────────────┤\n",
       "│ dense_1 (<span style=\"color: #0087ff; text-decoration-color: #0087ff\">Dense</span>)                 │ (<span style=\"color: #00d7ff; text-decoration-color: #00d7ff\">None</span>, <span style=\"color: #00af00; text-decoration-color: #00af00\">2</span>)              │           <span style=\"color: #00af00; text-decoration-color: #00af00\">152</span> │\n",
       "└─────────────────────────────────┴────────────────────────┴───────────────┘\n",
       "</pre>\n"
      ],
      "text/plain": [
       "┏━━━━━━━━━━━━━━━━━━━━━━━━━━━━━━━━━┳━━━━━━━━━━━━━━━━━━━━━━━━┳━━━━━━━━━━━━━━━┓\n",
       "┃\u001b[1m \u001b[0m\u001b[1mLayer (type)                   \u001b[0m\u001b[1m \u001b[0m┃\u001b[1m \u001b[0m\u001b[1mOutput Shape          \u001b[0m\u001b[1m \u001b[0m┃\u001b[1m \u001b[0m\u001b[1m      Param #\u001b[0m\u001b[1m \u001b[0m┃\n",
       "┡━━━━━━━━━━━━━━━━━━━━━━━━━━━━━━━━━╇━━━━━━━━━━━━━━━━━━━━━━━━╇━━━━━━━━━━━━━━━┩\n",
       "│ lstm_1 (\u001b[38;5;33mLSTM\u001b[0m)                   │ (\u001b[38;5;45mNone\u001b[0m, \u001b[38;5;34m10\u001b[0m, \u001b[38;5;34m150\u001b[0m)        │        \u001b[38;5;34m93,000\u001b[0m │\n",
       "├─────────────────────────────────┼────────────────────────┼───────────────┤\n",
       "│ dropout (\u001b[38;5;33mDropout\u001b[0m)               │ (\u001b[38;5;45mNone\u001b[0m, \u001b[38;5;34m10\u001b[0m, \u001b[38;5;34m150\u001b[0m)        │             \u001b[38;5;34m0\u001b[0m │\n",
       "├─────────────────────────────────┼────────────────────────┼───────────────┤\n",
       "│ lstm_2 (\u001b[38;5;33mLSTM\u001b[0m)                   │ (\u001b[38;5;45mNone\u001b[0m, \u001b[38;5;34m150\u001b[0m)            │       \u001b[38;5;34m180,600\u001b[0m │\n",
       "├─────────────────────────────────┼────────────────────────┼───────────────┤\n",
       "│ dropout_1 (\u001b[38;5;33mDropout\u001b[0m)             │ (\u001b[38;5;45mNone\u001b[0m, \u001b[38;5;34m150\u001b[0m)            │             \u001b[38;5;34m0\u001b[0m │\n",
       "├─────────────────────────────────┼────────────────────────┼───────────────┤\n",
       "│ dense (\u001b[38;5;33mDense\u001b[0m)                   │ (\u001b[38;5;45mNone\u001b[0m, \u001b[38;5;34m75\u001b[0m)             │        \u001b[38;5;34m11,325\u001b[0m │\n",
       "├─────────────────────────────────┼────────────────────────┼───────────────┤\n",
       "│ dropout_2 (\u001b[38;5;33mDropout\u001b[0m)             │ (\u001b[38;5;45mNone\u001b[0m, \u001b[38;5;34m75\u001b[0m)             │             \u001b[38;5;34m0\u001b[0m │\n",
       "├─────────────────────────────────┼────────────────────────┼───────────────┤\n",
       "│ dense_1 (\u001b[38;5;33mDense\u001b[0m)                 │ (\u001b[38;5;45mNone\u001b[0m, \u001b[38;5;34m2\u001b[0m)              │           \u001b[38;5;34m152\u001b[0m │\n",
       "└─────────────────────────────────┴────────────────────────┴───────────────┘\n"
      ]
     },
     "metadata": {},
     "output_type": "display_data"
    },
    {
     "data": {
      "text/html": [
       "<pre style=\"white-space:pre;overflow-x:auto;line-height:normal;font-family:Menlo,'DejaVu Sans Mono',consolas,'Courier New',monospace\"><span style=\"font-weight: bold\"> Total params: </span><span style=\"color: #00af00; text-decoration-color: #00af00\">285,077</span> (1.09 MB)\n",
       "</pre>\n"
      ],
      "text/plain": [
       "\u001b[1m Total params: \u001b[0m\u001b[38;5;34m285,077\u001b[0m (1.09 MB)\n"
      ]
     },
     "metadata": {},
     "output_type": "display_data"
    },
    {
     "data": {
      "text/html": [
       "<pre style=\"white-space:pre;overflow-x:auto;line-height:normal;font-family:Menlo,'DejaVu Sans Mono',consolas,'Courier New',monospace\"><span style=\"font-weight: bold\"> Trainable params: </span><span style=\"color: #00af00; text-decoration-color: #00af00\">285,077</span> (1.09 MB)\n",
       "</pre>\n"
      ],
      "text/plain": [
       "\u001b[1m Trainable params: \u001b[0m\u001b[38;5;34m285,077\u001b[0m (1.09 MB)\n"
      ]
     },
     "metadata": {},
     "output_type": "display_data"
    },
    {
     "data": {
      "text/html": [
       "<pre style=\"white-space:pre;overflow-x:auto;line-height:normal;font-family:Menlo,'DejaVu Sans Mono',consolas,'Courier New',monospace\"><span style=\"font-weight: bold\"> Non-trainable params: </span><span style=\"color: #00af00; text-decoration-color: #00af00\">0</span> (0.00 B)\n",
       "</pre>\n"
      ],
      "text/plain": [
       "\u001b[1m Non-trainable params: \u001b[0m\u001b[38;5;34m0\u001b[0m (0.00 B)\n"
      ]
     },
     "metadata": {},
     "output_type": "display_data"
    },
    {
     "name": "stdout",
     "output_type": "stream",
     "text": [
      "Epoch 1/40\n",
      "\n",
      "Epoch 1: val_loss improved from inf to 0.60640, saving model to ./saved_models/last_saved_model.keras\n",
      "\u001b[1m19/19\u001b[0m \u001b[32m━━━━━━━━━━━━━━━━━━━━\u001b[0m\u001b[37m\u001b[0m \u001b[1m1s\u001b[0m 56ms/step\n",
      "New best model saved, previous best profit -> First\n",
      "Profit: -11.76\n",
      "108/108 - 16s - 150ms/step - accuracy: 0.6500 - loss: 0.6301 - val_accuracy: 0.6626 - val_loss: 0.6064\n",
      "Epoch 2/40\n",
      "\n",
      "Epoch 2: val_loss improved from 0.60640 to 0.58765, saving model to ./saved_models/last_saved_model.keras\n",
      "\u001b[1m19/19\u001b[0m \u001b[32m━━━━━━━━━━━━━━━━━━━━\u001b[0m\u001b[37m\u001b[0m \u001b[1m0s\u001b[0m 23ms/step\n",
      "New best model saved, previous best profit -> -11.76\n",
      "Profit: -11.42\n",
      "108/108 - 8s - 70ms/step - accuracy: 0.6879 - loss: 0.5897 - val_accuracy: 0.6790 - val_loss: 0.5876\n",
      "Epoch 3/40\n",
      "\n",
      "Epoch 3: val_loss improved from 0.58765 to 0.56967, saving model to ./saved_models/last_saved_model.keras\n",
      "\u001b[1m19/19\u001b[0m \u001b[32m━━━━━━━━━━━━━━━━━━━━\u001b[0m\u001b[37m\u001b[0m \u001b[1m0s\u001b[0m 22ms/step\n",
      "Profit: -14.85\n",
      "108/108 - 6s - 57ms/step - accuracy: 0.7041 - loss: 0.5724 - val_accuracy: 0.6930 - val_loss: 0.5697\n",
      "Epoch 4/40\n",
      "\n",
      "Epoch 4: val_loss improved from 0.56967 to 0.55601, saving model to ./saved_models/last_saved_model.keras\n",
      "\u001b[1m19/19\u001b[0m \u001b[32m━━━━━━━━━━━━━━━━━━━━\u001b[0m\u001b[37m\u001b[0m \u001b[1m0s\u001b[0m 23ms/step\n",
      "Profit: -19.0\n",
      "108/108 - 7s - 63ms/step - accuracy: 0.7168 - loss: 0.5566 - val_accuracy: 0.7111 - val_loss: 0.5560\n",
      "Epoch 5/40\n",
      "\n",
      "Epoch 5: val_loss improved from 0.55601 to 0.55080, saving model to ./saved_models/last_saved_model.keras\n",
      "\u001b[1m19/19\u001b[0m \u001b[32m━━━━━━━━━━━━━━━━━━━━\u001b[0m\u001b[37m\u001b[0m \u001b[1m1s\u001b[0m 26ms/step\n",
      "Profit: -23.04\n",
      "108/108 - 7s - 66ms/step - accuracy: 0.7185 - loss: 0.5467 - val_accuracy: 0.7185 - val_loss: 0.5508\n",
      "Epoch 6/40\n",
      "\n",
      "Epoch 6: val_loss improved from 0.55080 to 0.55005, saving model to ./saved_models/last_saved_model.keras\n",
      "\u001b[1m19/19\u001b[0m \u001b[32m━━━━━━━━━━━━━━━━━━━━\u001b[0m\u001b[37m\u001b[0m \u001b[1m1s\u001b[0m 24ms/step\n",
      "Profit: -17.9\n",
      "108/108 - 10s - 90ms/step - accuracy: 0.7226 - loss: 0.5434 - val_accuracy: 0.7144 - val_loss: 0.5500\n",
      "Epoch 7/40\n",
      "\n",
      "Epoch 7: val_loss improved from 0.55005 to 0.54921, saving model to ./saved_models/last_saved_model.keras\n",
      "\u001b[1m19/19\u001b[0m \u001b[32m━━━━━━━━━━━━━━━━━━━━\u001b[0m\u001b[37m\u001b[0m \u001b[1m1s\u001b[0m 31ms/step\n",
      "Profit: -17.0\n",
      "108/108 - 10s - 96ms/step - accuracy: 0.7287 - loss: 0.5412 - val_accuracy: 0.7193 - val_loss: 0.5492\n",
      "Epoch 8/40\n",
      "\n",
      "Epoch 8: val_loss improved from 0.54921 to 0.54872, saving model to ./saved_models/last_saved_model.keras\n",
      "\u001b[1m19/19\u001b[0m \u001b[32m━━━━━━━━━━━━━━━━━━━━\u001b[0m\u001b[37m\u001b[0m \u001b[1m0s\u001b[0m 18ms/step\n",
      "Profit: -15.8\n",
      "108/108 - 8s - 71ms/step - accuracy: 0.7274 - loss: 0.5383 - val_accuracy: 0.7169 - val_loss: 0.5487\n",
      "Epoch 9/40\n",
      "\n",
      "Epoch 9: val_loss did not improve from 0.54872\n",
      "\u001b[1m19/19\u001b[0m \u001b[32m━━━━━━━━━━━━━━━━━━━━\u001b[0m\u001b[37m\u001b[0m \u001b[1m0s\u001b[0m 17ms/step\n",
      "Profit: -17.42\n",
      "108/108 - 7s - 62ms/step - accuracy: 0.7284 - loss: 0.5381 - val_accuracy: 0.7160 - val_loss: 0.5499\n",
      "Epoch 10/40\n",
      "\n",
      "Epoch 10: val_loss did not improve from 0.54872\n",
      "\u001b[1m19/19\u001b[0m \u001b[32m━━━━━━━━━━━━━━━━━━━━\u001b[0m\u001b[37m\u001b[0m \u001b[1m0s\u001b[0m 19ms/step\n",
      "Profit: -16.1\n",
      "108/108 - 6s - 57ms/step - accuracy: 0.7317 - loss: 0.5355 - val_accuracy: 0.7152 - val_loss: 0.5490\n",
      "Epoch 11/40\n",
      "\n",
      "Epoch 11: val_loss did not improve from 0.54872\n",
      "\u001b[1m19/19\u001b[0m \u001b[32m━━━━━━━━━━━━━━━━━━━━\u001b[0m\u001b[37m\u001b[0m \u001b[1m0s\u001b[0m 16ms/step\n",
      "Profit: -17.56\n",
      "108/108 - 6s - 52ms/step - accuracy: 0.7317 - loss: 0.5362 - val_accuracy: 0.7152 - val_loss: 0.5498\n",
      "\u001b[1m19/19\u001b[0m \u001b[32m━━━━━━━━━━━━━━━━━━━━\u001b[0m\u001b[37m\u001b[0m \u001b[1m1s\u001b[0m 42ms/step\n",
      "Repeat 1 running...\n"
     ]
    },
    {
     "name": "stderr",
     "output_type": "stream",
     "text": [
      "C:\\Users\\kucha\\AppData\\Roaming\\Python\\Python310\\site-packages\\keras\\src\\layers\\rnn\\rnn.py:204: UserWarning: Do not pass an `input_shape`/`input_dim` argument to a layer. When using Sequential models, prefer using an `Input(shape)` object as the first layer in the model instead.\n",
      "  super().__init__(**kwargs)\n"
     ]
    },
    {
     "data": {
      "text/html": [
       "<pre style=\"white-space:pre;overflow-x:auto;line-height:normal;font-family:Menlo,'DejaVu Sans Mono',consolas,'Courier New',monospace\"><span style=\"font-weight: bold\">Model: \"sequential_1\"</span>\n",
       "</pre>\n"
      ],
      "text/plain": [
       "\u001b[1mModel: \"sequential_1\"\u001b[0m\n"
      ]
     },
     "metadata": {},
     "output_type": "display_data"
    },
    {
     "data": {
      "text/html": [
       "<pre style=\"white-space:pre;overflow-x:auto;line-height:normal;font-family:Menlo,'DejaVu Sans Mono',consolas,'Courier New',monospace\">┏━━━━━━━━━━━━━━━━━━━━━━━━━━━━━━━━━┳━━━━━━━━━━━━━━━━━━━━━━━━┳━━━━━━━━━━━━━━━┓\n",
       "┃<span style=\"font-weight: bold\"> Layer (type)                    </span>┃<span style=\"font-weight: bold\"> Output Shape           </span>┃<span style=\"font-weight: bold\">       Param # </span>┃\n",
       "┡━━━━━━━━━━━━━━━━━━━━━━━━━━━━━━━━━╇━━━━━━━━━━━━━━━━━━━━━━━━╇━━━━━━━━━━━━━━━┩\n",
       "│ lstm_4 (<span style=\"color: #0087ff; text-decoration-color: #0087ff\">LSTM</span>)                   │ (<span style=\"color: #00d7ff; text-decoration-color: #00d7ff\">None</span>, <span style=\"color: #00af00; text-decoration-color: #00af00\">10</span>, <span style=\"color: #00af00; text-decoration-color: #00af00\">150</span>)        │        <span style=\"color: #00af00; text-decoration-color: #00af00\">93,000</span> │\n",
       "├─────────────────────────────────┼────────────────────────┼───────────────┤\n",
       "│ dropout_3 (<span style=\"color: #0087ff; text-decoration-color: #0087ff\">Dropout</span>)             │ (<span style=\"color: #00d7ff; text-decoration-color: #00d7ff\">None</span>, <span style=\"color: #00af00; text-decoration-color: #00af00\">10</span>, <span style=\"color: #00af00; text-decoration-color: #00af00\">150</span>)        │             <span style=\"color: #00af00; text-decoration-color: #00af00\">0</span> │\n",
       "├─────────────────────────────────┼────────────────────────┼───────────────┤\n",
       "│ lstm_5 (<span style=\"color: #0087ff; text-decoration-color: #0087ff\">LSTM</span>)                   │ (<span style=\"color: #00d7ff; text-decoration-color: #00d7ff\">None</span>, <span style=\"color: #00af00; text-decoration-color: #00af00\">150</span>)            │       <span style=\"color: #00af00; text-decoration-color: #00af00\">180,600</span> │\n",
       "├─────────────────────────────────┼────────────────────────┼───────────────┤\n",
       "│ dropout_4 (<span style=\"color: #0087ff; text-decoration-color: #0087ff\">Dropout</span>)             │ (<span style=\"color: #00d7ff; text-decoration-color: #00d7ff\">None</span>, <span style=\"color: #00af00; text-decoration-color: #00af00\">150</span>)            │             <span style=\"color: #00af00; text-decoration-color: #00af00\">0</span> │\n",
       "├─────────────────────────────────┼────────────────────────┼───────────────┤\n",
       "│ dense_2 (<span style=\"color: #0087ff; text-decoration-color: #0087ff\">Dense</span>)                 │ (<span style=\"color: #00d7ff; text-decoration-color: #00d7ff\">None</span>, <span style=\"color: #00af00; text-decoration-color: #00af00\">75</span>)             │        <span style=\"color: #00af00; text-decoration-color: #00af00\">11,325</span> │\n",
       "├─────────────────────────────────┼────────────────────────┼───────────────┤\n",
       "│ dropout_5 (<span style=\"color: #0087ff; text-decoration-color: #0087ff\">Dropout</span>)             │ (<span style=\"color: #00d7ff; text-decoration-color: #00d7ff\">None</span>, <span style=\"color: #00af00; text-decoration-color: #00af00\">75</span>)             │             <span style=\"color: #00af00; text-decoration-color: #00af00\">0</span> │\n",
       "├─────────────────────────────────┼────────────────────────┼───────────────┤\n",
       "│ dense_3 (<span style=\"color: #0087ff; text-decoration-color: #0087ff\">Dense</span>)                 │ (<span style=\"color: #00d7ff; text-decoration-color: #00d7ff\">None</span>, <span style=\"color: #00af00; text-decoration-color: #00af00\">2</span>)              │           <span style=\"color: #00af00; text-decoration-color: #00af00\">152</span> │\n",
       "└─────────────────────────────────┴────────────────────────┴───────────────┘\n",
       "</pre>\n"
      ],
      "text/plain": [
       "┏━━━━━━━━━━━━━━━━━━━━━━━━━━━━━━━━━┳━━━━━━━━━━━━━━━━━━━━━━━━┳━━━━━━━━━━━━━━━┓\n",
       "┃\u001b[1m \u001b[0m\u001b[1mLayer (type)                   \u001b[0m\u001b[1m \u001b[0m┃\u001b[1m \u001b[0m\u001b[1mOutput Shape          \u001b[0m\u001b[1m \u001b[0m┃\u001b[1m \u001b[0m\u001b[1m      Param #\u001b[0m\u001b[1m \u001b[0m┃\n",
       "┡━━━━━━━━━━━━━━━━━━━━━━━━━━━━━━━━━╇━━━━━━━━━━━━━━━━━━━━━━━━╇━━━━━━━━━━━━━━━┩\n",
       "│ lstm_4 (\u001b[38;5;33mLSTM\u001b[0m)                   │ (\u001b[38;5;45mNone\u001b[0m, \u001b[38;5;34m10\u001b[0m, \u001b[38;5;34m150\u001b[0m)        │        \u001b[38;5;34m93,000\u001b[0m │\n",
       "├─────────────────────────────────┼────────────────────────┼───────────────┤\n",
       "│ dropout_3 (\u001b[38;5;33mDropout\u001b[0m)             │ (\u001b[38;5;45mNone\u001b[0m, \u001b[38;5;34m10\u001b[0m, \u001b[38;5;34m150\u001b[0m)        │             \u001b[38;5;34m0\u001b[0m │\n",
       "├─────────────────────────────────┼────────────────────────┼───────────────┤\n",
       "│ lstm_5 (\u001b[38;5;33mLSTM\u001b[0m)                   │ (\u001b[38;5;45mNone\u001b[0m, \u001b[38;5;34m150\u001b[0m)            │       \u001b[38;5;34m180,600\u001b[0m │\n",
       "├─────────────────────────────────┼────────────────────────┼───────────────┤\n",
       "│ dropout_4 (\u001b[38;5;33mDropout\u001b[0m)             │ (\u001b[38;5;45mNone\u001b[0m, \u001b[38;5;34m150\u001b[0m)            │             \u001b[38;5;34m0\u001b[0m │\n",
       "├─────────────────────────────────┼────────────────────────┼───────────────┤\n",
       "│ dense_2 (\u001b[38;5;33mDense\u001b[0m)                 │ (\u001b[38;5;45mNone\u001b[0m, \u001b[38;5;34m75\u001b[0m)             │        \u001b[38;5;34m11,325\u001b[0m │\n",
       "├─────────────────────────────────┼────────────────────────┼───────────────┤\n",
       "│ dropout_5 (\u001b[38;5;33mDropout\u001b[0m)             │ (\u001b[38;5;45mNone\u001b[0m, \u001b[38;5;34m75\u001b[0m)             │             \u001b[38;5;34m0\u001b[0m │\n",
       "├─────────────────────────────────┼────────────────────────┼───────────────┤\n",
       "│ dense_3 (\u001b[38;5;33mDense\u001b[0m)                 │ (\u001b[38;5;45mNone\u001b[0m, \u001b[38;5;34m2\u001b[0m)              │           \u001b[38;5;34m152\u001b[0m │\n",
       "└─────────────────────────────────┴────────────────────────┴───────────────┘\n"
      ]
     },
     "metadata": {},
     "output_type": "display_data"
    },
    {
     "data": {
      "text/html": [
       "<pre style=\"white-space:pre;overflow-x:auto;line-height:normal;font-family:Menlo,'DejaVu Sans Mono',consolas,'Courier New',monospace\"><span style=\"font-weight: bold\"> Total params: </span><span style=\"color: #00af00; text-decoration-color: #00af00\">285,077</span> (1.09 MB)\n",
       "</pre>\n"
      ],
      "text/plain": [
       "\u001b[1m Total params: \u001b[0m\u001b[38;5;34m285,077\u001b[0m (1.09 MB)\n"
      ]
     },
     "metadata": {},
     "output_type": "display_data"
    },
    {
     "data": {
      "text/html": [
       "<pre style=\"white-space:pre;overflow-x:auto;line-height:normal;font-family:Menlo,'DejaVu Sans Mono',consolas,'Courier New',monospace\"><span style=\"font-weight: bold\"> Trainable params: </span><span style=\"color: #00af00; text-decoration-color: #00af00\">285,077</span> (1.09 MB)\n",
       "</pre>\n"
      ],
      "text/plain": [
       "\u001b[1m Trainable params: \u001b[0m\u001b[38;5;34m285,077\u001b[0m (1.09 MB)\n"
      ]
     },
     "metadata": {},
     "output_type": "display_data"
    },
    {
     "data": {
      "text/html": [
       "<pre style=\"white-space:pre;overflow-x:auto;line-height:normal;font-family:Menlo,'DejaVu Sans Mono',consolas,'Courier New',monospace\"><span style=\"font-weight: bold\"> Non-trainable params: </span><span style=\"color: #00af00; text-decoration-color: #00af00\">0</span> (0.00 B)\n",
       "</pre>\n"
      ],
      "text/plain": [
       "\u001b[1m Non-trainable params: \u001b[0m\u001b[38;5;34m0\u001b[0m (0.00 B)\n"
      ]
     },
     "metadata": {},
     "output_type": "display_data"
    },
    {
     "name": "stdout",
     "output_type": "stream",
     "text": [
      "Epoch 1/40\n",
      "\n",
      "Epoch 1: val_loss improved from inf to 0.62286, saving model to ./saved_models/last_saved_model.keras\n",
      "\u001b[1m19/19\u001b[0m \u001b[32m━━━━━━━━━━━━━━━━━━━━\u001b[0m\u001b[37m\u001b[0m \u001b[1m1s\u001b[0m 46ms/step\n",
      "New best model saved, previous best profit -> -11.42\n",
      "Profit: -9.63\n",
      "108/108 - 16s - 150ms/step - accuracy: 0.6081 - loss: 0.6622 - val_accuracy: 0.6584 - val_loss: 0.6229\n",
      "Epoch 2/40\n",
      "\n",
      "Epoch 2: val_loss improved from 0.62286 to 0.60252, saving model to ./saved_models/last_saved_model.keras\n",
      "\u001b[1m19/19\u001b[0m \u001b[32m━━━━━━━━━━━━━━━━━━━━\u001b[0m\u001b[37m\u001b[0m \u001b[1m0s\u001b[0m 17ms/step\n",
      "Profit: -17.32\n",
      "108/108 - 6s - 56ms/step - accuracy: 0.6796 - loss: 0.6016 - val_accuracy: 0.6831 - val_loss: 0.6025\n",
      "Epoch 3/40\n",
      "\n",
      "Epoch 3: val_loss improved from 0.60252 to 0.57556, saving model to ./saved_models/last_saved_model.keras\n",
      "\u001b[1m19/19\u001b[0m \u001b[32m━━━━━━━━━━━━━━━━━━━━\u001b[0m\u001b[37m\u001b[0m \u001b[1m0s\u001b[0m 19ms/step\n",
      "New best model saved, previous best profit -> -9.63\n",
      "Profit: -6.25\n",
      "108/108 - 6s - 55ms/step - accuracy: 0.7007 - loss: 0.5772 - val_accuracy: 0.6988 - val_loss: 0.5756\n",
      "Epoch 4/40\n",
      "\n",
      "Epoch 4: val_loss improved from 0.57556 to 0.56148, saving model to ./saved_models/last_saved_model.keras\n",
      "\u001b[1m19/19\u001b[0m \u001b[32m━━━━━━━━━━━━━━━━━━━━\u001b[0m\u001b[37m\u001b[0m \u001b[1m0s\u001b[0m 18ms/step\n",
      "Profit: -9.77\n",
      "108/108 - 6s - 55ms/step - accuracy: 0.7123 - loss: 0.5628 - val_accuracy: 0.6963 - val_loss: 0.5615\n",
      "Epoch 5/40\n",
      "\n",
      "Epoch 5: val_loss improved from 0.56148 to 0.55670, saving model to ./saved_models/last_saved_model.keras\n",
      "\u001b[1m19/19\u001b[0m \u001b[32m━━━━━━━━━━━━━━━━━━━━\u001b[0m\u001b[37m\u001b[0m \u001b[1m0s\u001b[0m 19ms/step\n",
      "Profit: -13.99\n",
      "108/108 - 6s - 56ms/step - accuracy: 0.7140 - loss: 0.5555 - val_accuracy: 0.7012 - val_loss: 0.5567\n",
      "Epoch 6/40\n",
      "\n",
      "Epoch 6: val_loss improved from 0.55670 to 0.55572, saving model to ./saved_models/last_saved_model.keras\n",
      "\u001b[1m19/19\u001b[0m \u001b[32m━━━━━━━━━━━━━━━━━━━━\u001b[0m\u001b[37m\u001b[0m \u001b[1m0s\u001b[0m 21ms/step\n",
      "Profit: -16.97\n",
      "108/108 - 6s - 56ms/step - accuracy: 0.7197 - loss: 0.5509 - val_accuracy: 0.7070 - val_loss: 0.5557\n",
      "Epoch 7/40\n",
      "\n",
      "Epoch 7: val_loss improved from 0.55572 to 0.55408, saving model to ./saved_models/last_saved_model.keras\n",
      "\u001b[1m19/19\u001b[0m \u001b[32m━━━━━━━━━━━━━━━━━━━━\u001b[0m\u001b[37m\u001b[0m \u001b[1m1s\u001b[0m 27ms/step\n",
      "Profit: -16.75\n",
      "108/108 - 7s - 63ms/step - accuracy: 0.7210 - loss: 0.5483 - val_accuracy: 0.7144 - val_loss: 0.5541\n",
      "Epoch 8/40\n",
      "\n",
      "Epoch 8: val_loss improved from 0.55408 to 0.55249, saving model to ./saved_models/last_saved_model.keras\n",
      "\u001b[1m19/19\u001b[0m \u001b[32m━━━━━━━━━━━━━━━━━━━━\u001b[0m\u001b[37m\u001b[0m \u001b[1m0s\u001b[0m 24ms/step\n",
      "Profit: -14.97\n",
      "108/108 - 8s - 70ms/step - accuracy: 0.7223 - loss: 0.5461 - val_accuracy: 0.7128 - val_loss: 0.5525\n",
      "Epoch 9/40\n",
      "\n",
      "Epoch 9: val_loss improved from 0.55249 to 0.55159, saving model to ./saved_models/last_saved_model.keras\n",
      "\u001b[1m19/19\u001b[0m \u001b[32m━━━━━━━━━━━━━━━━━━━━\u001b[0m\u001b[37m\u001b[0m \u001b[1m1s\u001b[0m 26ms/step\n",
      "Profit: -15.15\n",
      "108/108 - 7s - 60ms/step - accuracy: 0.7208 - loss: 0.5423 - val_accuracy: 0.7128 - val_loss: 0.5516\n",
      "Epoch 10/40\n",
      "\n",
      "Epoch 10: val_loss improved from 0.55159 to 0.55086, saving model to ./saved_models/last_saved_model.keras\n",
      "\u001b[1m19/19\u001b[0m \u001b[32m━━━━━━━━━━━━━━━━━━━━\u001b[0m\u001b[37m\u001b[0m \u001b[1m0s\u001b[0m 23ms/step\n",
      "Profit: -12.07\n",
      "108/108 - 6s - 59ms/step - accuracy: 0.7251 - loss: 0.5438 - val_accuracy: 0.7160 - val_loss: 0.5509\n",
      "Epoch 11/40\n",
      "\n",
      "Epoch 11: val_loss did not improve from 0.55086\n",
      "\u001b[1m19/19\u001b[0m \u001b[32m━━━━━━━━━━━━━━━━━━━━\u001b[0m\u001b[37m\u001b[0m \u001b[1m0s\u001b[0m 23ms/step\n",
      "Profit: -13.05\n",
      "108/108 - 10s - 92ms/step - accuracy: 0.7245 - loss: 0.5425 - val_accuracy: 0.7136 - val_loss: 0.5521\n",
      "Epoch 12/40\n",
      "\n",
      "Epoch 12: val_loss did not improve from 0.55086\n",
      "\u001b[1m19/19\u001b[0m \u001b[32m━━━━━━━━━━━━━━━━━━━━\u001b[0m\u001b[37m\u001b[0m \u001b[1m1s\u001b[0m 27ms/step\n",
      "Profit: -14.11\n",
      "108/108 - 6s - 58ms/step - accuracy: 0.7256 - loss: 0.5405 - val_accuracy: 0.7136 - val_loss: 0.5516\n",
      "Epoch 13/40\n",
      "\n",
      "Epoch 13: val_loss improved from 0.55086 to 0.54996, saving model to ./saved_models/last_saved_model.keras\n",
      "\u001b[1m19/19\u001b[0m \u001b[32m━━━━━━━━━━━━━━━━━━━━\u001b[0m\u001b[37m\u001b[0m \u001b[1m0s\u001b[0m 21ms/step\n",
      "Profit: -15.33\n",
      "108/108 - 10s - 91ms/step - accuracy: 0.7290 - loss: 0.5379 - val_accuracy: 0.7144 - val_loss: 0.5500\n",
      "Epoch 14/40\n",
      "\n",
      "Epoch 14: val_loss did not improve from 0.54996\n",
      "\u001b[1m19/19\u001b[0m \u001b[32m━━━━━━━━━━━━━━━━━━━━\u001b[0m\u001b[37m\u001b[0m \u001b[1m0s\u001b[0m 22ms/step\n",
      "Profit: -12.45\n",
      "108/108 - 10s - 95ms/step - accuracy: 0.7309 - loss: 0.5388 - val_accuracy: 0.7103 - val_loss: 0.5507\n",
      "Epoch 15/40\n",
      "\n",
      "Epoch 15: val_loss did not improve from 0.54996\n",
      "\u001b[1m19/19\u001b[0m \u001b[32m━━━━━━━━━━━━━━━━━━━━\u001b[0m\u001b[37m\u001b[0m \u001b[1m0s\u001b[0m 22ms/step\n",
      "Profit: -11.57\n",
      "108/108 - 6s - 60ms/step - accuracy: 0.7277 - loss: 0.5377 - val_accuracy: 0.7078 - val_loss: 0.5508\n",
      "Epoch 16/40\n",
      "\n",
      "Epoch 16: val_loss did not improve from 0.54996\n",
      "\u001b[1m19/19\u001b[0m \u001b[32m━━━━━━━━━━━━━━━━━━━━\u001b[0m\u001b[37m\u001b[0m \u001b[1m0s\u001b[0m 22ms/step\n",
      "Profit: -11.09\n",
      "108/108 - 6s - 57ms/step - accuracy: 0.7294 - loss: 0.5378 - val_accuracy: 0.7086 - val_loss: 0.5507\n",
      "\u001b[1m19/19\u001b[0m \u001b[32m━━━━━━━━━━━━━━━━━━━━\u001b[0m\u001b[37m\u001b[0m \u001b[1m2s\u001b[0m 62ms/step\n",
      "Repeat 2 running...\n"
     ]
    },
    {
     "name": "stderr",
     "output_type": "stream",
     "text": [
      "C:\\Users\\kucha\\AppData\\Roaming\\Python\\Python310\\site-packages\\keras\\src\\layers\\rnn\\rnn.py:204: UserWarning: Do not pass an `input_shape`/`input_dim` argument to a layer. When using Sequential models, prefer using an `Input(shape)` object as the first layer in the model instead.\n",
      "  super().__init__(**kwargs)\n"
     ]
    },
    {
     "data": {
      "text/html": [
       "<pre style=\"white-space:pre;overflow-x:auto;line-height:normal;font-family:Menlo,'DejaVu Sans Mono',consolas,'Courier New',monospace\"><span style=\"font-weight: bold\">Model: \"sequential_2\"</span>\n",
       "</pre>\n"
      ],
      "text/plain": [
       "\u001b[1mModel: \"sequential_2\"\u001b[0m\n"
      ]
     },
     "metadata": {},
     "output_type": "display_data"
    },
    {
     "data": {
      "text/html": [
       "<pre style=\"white-space:pre;overflow-x:auto;line-height:normal;font-family:Menlo,'DejaVu Sans Mono',consolas,'Courier New',monospace\">┏━━━━━━━━━━━━━━━━━━━━━━━━━━━━━━━━━┳━━━━━━━━━━━━━━━━━━━━━━━━┳━━━━━━━━━━━━━━━┓\n",
       "┃<span style=\"font-weight: bold\"> Layer (type)                    </span>┃<span style=\"font-weight: bold\"> Output Shape           </span>┃<span style=\"font-weight: bold\">       Param # </span>┃\n",
       "┡━━━━━━━━━━━━━━━━━━━━━━━━━━━━━━━━━╇━━━━━━━━━━━━━━━━━━━━━━━━╇━━━━━━━━━━━━━━━┩\n",
       "│ lstm_7 (<span style=\"color: #0087ff; text-decoration-color: #0087ff\">LSTM</span>)                   │ (<span style=\"color: #00d7ff; text-decoration-color: #00d7ff\">None</span>, <span style=\"color: #00af00; text-decoration-color: #00af00\">10</span>, <span style=\"color: #00af00; text-decoration-color: #00af00\">150</span>)        │        <span style=\"color: #00af00; text-decoration-color: #00af00\">93,000</span> │\n",
       "├─────────────────────────────────┼────────────────────────┼───────────────┤\n",
       "│ dropout_6 (<span style=\"color: #0087ff; text-decoration-color: #0087ff\">Dropout</span>)             │ (<span style=\"color: #00d7ff; text-decoration-color: #00d7ff\">None</span>, <span style=\"color: #00af00; text-decoration-color: #00af00\">10</span>, <span style=\"color: #00af00; text-decoration-color: #00af00\">150</span>)        │             <span style=\"color: #00af00; text-decoration-color: #00af00\">0</span> │\n",
       "├─────────────────────────────────┼────────────────────────┼───────────────┤\n",
       "│ lstm_8 (<span style=\"color: #0087ff; text-decoration-color: #0087ff\">LSTM</span>)                   │ (<span style=\"color: #00d7ff; text-decoration-color: #00d7ff\">None</span>, <span style=\"color: #00af00; text-decoration-color: #00af00\">150</span>)            │       <span style=\"color: #00af00; text-decoration-color: #00af00\">180,600</span> │\n",
       "├─────────────────────────────────┼────────────────────────┼───────────────┤\n",
       "│ dropout_7 (<span style=\"color: #0087ff; text-decoration-color: #0087ff\">Dropout</span>)             │ (<span style=\"color: #00d7ff; text-decoration-color: #00d7ff\">None</span>, <span style=\"color: #00af00; text-decoration-color: #00af00\">150</span>)            │             <span style=\"color: #00af00; text-decoration-color: #00af00\">0</span> │\n",
       "├─────────────────────────────────┼────────────────────────┼───────────────┤\n",
       "│ dense_4 (<span style=\"color: #0087ff; text-decoration-color: #0087ff\">Dense</span>)                 │ (<span style=\"color: #00d7ff; text-decoration-color: #00d7ff\">None</span>, <span style=\"color: #00af00; text-decoration-color: #00af00\">75</span>)             │        <span style=\"color: #00af00; text-decoration-color: #00af00\">11,325</span> │\n",
       "├─────────────────────────────────┼────────────────────────┼───────────────┤\n",
       "│ dropout_8 (<span style=\"color: #0087ff; text-decoration-color: #0087ff\">Dropout</span>)             │ (<span style=\"color: #00d7ff; text-decoration-color: #00d7ff\">None</span>, <span style=\"color: #00af00; text-decoration-color: #00af00\">75</span>)             │             <span style=\"color: #00af00; text-decoration-color: #00af00\">0</span> │\n",
       "├─────────────────────────────────┼────────────────────────┼───────────────┤\n",
       "│ dense_5 (<span style=\"color: #0087ff; text-decoration-color: #0087ff\">Dense</span>)                 │ (<span style=\"color: #00d7ff; text-decoration-color: #00d7ff\">None</span>, <span style=\"color: #00af00; text-decoration-color: #00af00\">2</span>)              │           <span style=\"color: #00af00; text-decoration-color: #00af00\">152</span> │\n",
       "└─────────────────────────────────┴────────────────────────┴───────────────┘\n",
       "</pre>\n"
      ],
      "text/plain": [
       "┏━━━━━━━━━━━━━━━━━━━━━━━━━━━━━━━━━┳━━━━━━━━━━━━━━━━━━━━━━━━┳━━━━━━━━━━━━━━━┓\n",
       "┃\u001b[1m \u001b[0m\u001b[1mLayer (type)                   \u001b[0m\u001b[1m \u001b[0m┃\u001b[1m \u001b[0m\u001b[1mOutput Shape          \u001b[0m\u001b[1m \u001b[0m┃\u001b[1m \u001b[0m\u001b[1m      Param #\u001b[0m\u001b[1m \u001b[0m┃\n",
       "┡━━━━━━━━━━━━━━━━━━━━━━━━━━━━━━━━━╇━━━━━━━━━━━━━━━━━━━━━━━━╇━━━━━━━━━━━━━━━┩\n",
       "│ lstm_7 (\u001b[38;5;33mLSTM\u001b[0m)                   │ (\u001b[38;5;45mNone\u001b[0m, \u001b[38;5;34m10\u001b[0m, \u001b[38;5;34m150\u001b[0m)        │        \u001b[38;5;34m93,000\u001b[0m │\n",
       "├─────────────────────────────────┼────────────────────────┼───────────────┤\n",
       "│ dropout_6 (\u001b[38;5;33mDropout\u001b[0m)             │ (\u001b[38;5;45mNone\u001b[0m, \u001b[38;5;34m10\u001b[0m, \u001b[38;5;34m150\u001b[0m)        │             \u001b[38;5;34m0\u001b[0m │\n",
       "├─────────────────────────────────┼────────────────────────┼───────────────┤\n",
       "│ lstm_8 (\u001b[38;5;33mLSTM\u001b[0m)                   │ (\u001b[38;5;45mNone\u001b[0m, \u001b[38;5;34m150\u001b[0m)            │       \u001b[38;5;34m180,600\u001b[0m │\n",
       "├─────────────────────────────────┼────────────────────────┼───────────────┤\n",
       "│ dropout_7 (\u001b[38;5;33mDropout\u001b[0m)             │ (\u001b[38;5;45mNone\u001b[0m, \u001b[38;5;34m150\u001b[0m)            │             \u001b[38;5;34m0\u001b[0m │\n",
       "├─────────────────────────────────┼────────────────────────┼───────────────┤\n",
       "│ dense_4 (\u001b[38;5;33mDense\u001b[0m)                 │ (\u001b[38;5;45mNone\u001b[0m, \u001b[38;5;34m75\u001b[0m)             │        \u001b[38;5;34m11,325\u001b[0m │\n",
       "├─────────────────────────────────┼────────────────────────┼───────────────┤\n",
       "│ dropout_8 (\u001b[38;5;33mDropout\u001b[0m)             │ (\u001b[38;5;45mNone\u001b[0m, \u001b[38;5;34m75\u001b[0m)             │             \u001b[38;5;34m0\u001b[0m │\n",
       "├─────────────────────────────────┼────────────────────────┼───────────────┤\n",
       "│ dense_5 (\u001b[38;5;33mDense\u001b[0m)                 │ (\u001b[38;5;45mNone\u001b[0m, \u001b[38;5;34m2\u001b[0m)              │           \u001b[38;5;34m152\u001b[0m │\n",
       "└─────────────────────────────────┴────────────────────────┴───────────────┘\n"
      ]
     },
     "metadata": {},
     "output_type": "display_data"
    },
    {
     "data": {
      "text/html": [
       "<pre style=\"white-space:pre;overflow-x:auto;line-height:normal;font-family:Menlo,'DejaVu Sans Mono',consolas,'Courier New',monospace\"><span style=\"font-weight: bold\"> Total params: </span><span style=\"color: #00af00; text-decoration-color: #00af00\">285,077</span> (1.09 MB)\n",
       "</pre>\n"
      ],
      "text/plain": [
       "\u001b[1m Total params: \u001b[0m\u001b[38;5;34m285,077\u001b[0m (1.09 MB)\n"
      ]
     },
     "metadata": {},
     "output_type": "display_data"
    },
    {
     "data": {
      "text/html": [
       "<pre style=\"white-space:pre;overflow-x:auto;line-height:normal;font-family:Menlo,'DejaVu Sans Mono',consolas,'Courier New',monospace\"><span style=\"font-weight: bold\"> Trainable params: </span><span style=\"color: #00af00; text-decoration-color: #00af00\">285,077</span> (1.09 MB)\n",
       "</pre>\n"
      ],
      "text/plain": [
       "\u001b[1m Trainable params: \u001b[0m\u001b[38;5;34m285,077\u001b[0m (1.09 MB)\n"
      ]
     },
     "metadata": {},
     "output_type": "display_data"
    },
    {
     "data": {
      "text/html": [
       "<pre style=\"white-space:pre;overflow-x:auto;line-height:normal;font-family:Menlo,'DejaVu Sans Mono',consolas,'Courier New',monospace\"><span style=\"font-weight: bold\"> Non-trainable params: </span><span style=\"color: #00af00; text-decoration-color: #00af00\">0</span> (0.00 B)\n",
       "</pre>\n"
      ],
      "text/plain": [
       "\u001b[1m Non-trainable params: \u001b[0m\u001b[38;5;34m0\u001b[0m (0.00 B)\n"
      ]
     },
     "metadata": {},
     "output_type": "display_data"
    },
    {
     "name": "stdout",
     "output_type": "stream",
     "text": [
      "Epoch 1/40\n",
      "\n",
      "Epoch 1: val_loss improved from inf to 0.62299, saving model to ./saved_models/last_saved_model.keras\n",
      "\u001b[1m19/19\u001b[0m \u001b[32m━━━━━━━━━━━━━━━━━━━━\u001b[0m\u001b[37m\u001b[0m \u001b[1m2s\u001b[0m 67ms/step\n",
      "Profit: -7.41\n",
      "108/108 - 15s - 143ms/step - accuracy: 0.5987 - loss: 0.6689 - val_accuracy: 0.6617 - val_loss: 0.6230\n",
      "Epoch 2/40\n",
      "\n",
      "Epoch 2: val_loss improved from 0.62299 to 0.60521, saving model to ./saved_models/last_saved_model.keras\n",
      "\u001b[1m19/19\u001b[0m \u001b[32m━━━━━━━━━━━━━━━━━━━━\u001b[0m\u001b[37m\u001b[0m \u001b[1m0s\u001b[0m 23ms/step\n",
      "Profit: -15.08\n",
      "108/108 - 8s - 74ms/step - accuracy: 0.6723 - loss: 0.6072 - val_accuracy: 0.6790 - val_loss: 0.6052\n",
      "Epoch 3/40\n",
      "\n",
      "Epoch 3: val_loss improved from 0.60521 to 0.57751, saving model to ./saved_models/last_saved_model.keras\n",
      "\u001b[1m19/19\u001b[0m \u001b[32m━━━━━━━━━━━━━━━━━━━━\u001b[0m\u001b[37m\u001b[0m \u001b[1m0s\u001b[0m 22ms/step\n",
      "New best model saved, previous best profit -> -6.25\n",
      "Profit: -5.27\n",
      "108/108 - 6s - 59ms/step - accuracy: 0.6975 - loss: 0.5821 - val_accuracy: 0.7021 - val_loss: 0.5775\n",
      "Epoch 4/40\n",
      "\n",
      "Epoch 4: val_loss improved from 0.57751 to 0.56327, saving model to ./saved_models/last_saved_model.keras\n",
      "\u001b[1m19/19\u001b[0m \u001b[32m━━━━━━━━━━━━━━━━━━━━\u001b[0m\u001b[37m\u001b[0m \u001b[1m0s\u001b[0m 22ms/step\n",
      "Profit: -11.03\n",
      "108/108 - 6s - 57ms/step - accuracy: 0.7108 - loss: 0.5621 - val_accuracy: 0.6963 - val_loss: 0.5633\n",
      "Epoch 5/40\n",
      "\n",
      "Epoch 5: val_loss improved from 0.56327 to 0.55674, saving model to ./saved_models/last_saved_model.keras\n",
      "\u001b[1m19/19\u001b[0m \u001b[32m━━━━━━━━━━━━━━━━━━━━\u001b[0m\u001b[37m\u001b[0m \u001b[1m0s\u001b[0m 21ms/step\n",
      "Profit: -13.33\n",
      "108/108 - 6s - 59ms/step - accuracy: 0.7146 - loss: 0.5551 - val_accuracy: 0.7004 - val_loss: 0.5567\n",
      "Epoch 6/40\n",
      "\n",
      "Epoch 6: val_loss improved from 0.55674 to 0.55506, saving model to ./saved_models/last_saved_model.keras\n",
      "\u001b[1m19/19\u001b[0m \u001b[32m━━━━━━━━━━━━━━━━━━━━\u001b[0m\u001b[37m\u001b[0m \u001b[1m1s\u001b[0m 34ms/step\n",
      "Profit: -13.61\n",
      "108/108 - 7s - 63ms/step - accuracy: 0.7153 - loss: 0.5542 - val_accuracy: 0.7086 - val_loss: 0.5551\n",
      "Epoch 7/40\n",
      "\n",
      "Epoch 7: val_loss improved from 0.55506 to 0.55246, saving model to ./saved_models/last_saved_model.keras\n",
      "\u001b[1m19/19\u001b[0m \u001b[32m━━━━━━━━━━━━━━━━━━━━\u001b[0m\u001b[37m\u001b[0m \u001b[1m0s\u001b[0m 25ms/step\n",
      "Profit: -18.75\n",
      "108/108 - 7s - 64ms/step - accuracy: 0.7169 - loss: 0.5486 - val_accuracy: 0.7136 - val_loss: 0.5525\n",
      "Epoch 8/40\n",
      "\n",
      "Epoch 8: val_loss did not improve from 0.55246\n",
      "\u001b[1m19/19\u001b[0m \u001b[32m━━━━━━━━━━━━━━━━━━━━\u001b[0m\u001b[37m\u001b[0m \u001b[1m0s\u001b[0m 23ms/step\n",
      "Profit: -17.81\n",
      "108/108 - 7s - 62ms/step - accuracy: 0.7187 - loss: 0.5468 - val_accuracy: 0.7095 - val_loss: 0.5530\n",
      "Epoch 9/40\n",
      "\n",
      "Epoch 9: val_loss improved from 0.55246 to 0.55158, saving model to ./saved_models/last_saved_model.keras\n",
      "\u001b[1m19/19\u001b[0m \u001b[32m━━━━━━━━━━━━━━━━━━━━\u001b[0m\u001b[37m\u001b[0m \u001b[1m0s\u001b[0m 23ms/step\n",
      "Profit: -15.61\n",
      "108/108 - 7s - 61ms/step - accuracy: 0.7230 - loss: 0.5434 - val_accuracy: 0.7136 - val_loss: 0.5516\n",
      "Epoch 10/40\n",
      "\n",
      "Epoch 10: val_loss improved from 0.55158 to 0.55103, saving model to ./saved_models/last_saved_model.keras\n",
      "\u001b[1m19/19\u001b[0m \u001b[32m━━━━━━━━━━━━━━━━━━━━\u001b[0m\u001b[37m\u001b[0m \u001b[1m0s\u001b[0m 23ms/step\n",
      "Profit: -14.59\n",
      "108/108 - 7s - 62ms/step - accuracy: 0.7239 - loss: 0.5446 - val_accuracy: 0.7152 - val_loss: 0.5510\n",
      "Epoch 11/40\n",
      "\n",
      "Epoch 11: val_loss improved from 0.55103 to 0.54953, saving model to ./saved_models/last_saved_model.keras\n",
      "\u001b[1m19/19\u001b[0m \u001b[32m━━━━━━━━━━━━━━━━━━━━\u001b[0m\u001b[37m\u001b[0m \u001b[1m1s\u001b[0m 31ms/step\n",
      "Profit: -13.45\n",
      "108/108 - 7s - 63ms/step - accuracy: 0.7252 - loss: 0.5414 - val_accuracy: 0.7169 - val_loss: 0.5495\n",
      "Epoch 12/40\n",
      "\n",
      "Epoch 12: val_loss improved from 0.54953 to 0.54927, saving model to ./saved_models/last_saved_model.keras\n",
      "\u001b[1m19/19\u001b[0m \u001b[32m━━━━━━━━━━━━━━━━━━━━\u001b[0m\u001b[37m\u001b[0m \u001b[1m0s\u001b[0m 23ms/step\n",
      "Profit: -13.55\n",
      "108/108 - 7s - 61ms/step - accuracy: 0.7249 - loss: 0.5406 - val_accuracy: 0.7169 - val_loss: 0.5493\n",
      "Epoch 13/40\n",
      "\n",
      "Epoch 13: val_loss did not improve from 0.54927\n",
      "\u001b[1m19/19\u001b[0m \u001b[32m━━━━━━━━━━━━━━━━━━━━\u001b[0m\u001b[37m\u001b[0m \u001b[1m0s\u001b[0m 23ms/step\n",
      "Profit: -12.93\n",
      "108/108 - 7s - 60ms/step - accuracy: 0.7280 - loss: 0.5372 - val_accuracy: 0.7152 - val_loss: 0.5499\n",
      "Epoch 14/40\n",
      "\n",
      "Epoch 14: val_loss did not improve from 0.54927\n",
      "\u001b[1m19/19\u001b[0m \u001b[32m━━━━━━━━━━━━━━━━━━━━\u001b[0m\u001b[37m\u001b[0m \u001b[1m0s\u001b[0m 22ms/step\n",
      "Profit: -11.27\n",
      "108/108 - 6s - 59ms/step - accuracy: 0.7271 - loss: 0.5384 - val_accuracy: 0.7128 - val_loss: 0.5504\n",
      "Epoch 15/40\n",
      "\n",
      "Epoch 15: val_loss did not improve from 0.54927\n",
      "\u001b[1m19/19\u001b[0m \u001b[32m━━━━━━━━━━━━━━━━━━━━\u001b[0m\u001b[37m\u001b[0m \u001b[1m0s\u001b[0m 22ms/step\n",
      "Profit: -12.51\n",
      "108/108 - 6s - 56ms/step - accuracy: 0.7304 - loss: 0.5393 - val_accuracy: 0.7111 - val_loss: 0.5501\n",
      "\u001b[1m19/19\u001b[0m \u001b[32m━━━━━━━━━━━━━━━━━━━━\u001b[0m\u001b[37m\u001b[0m \u001b[1m1s\u001b[0m 45ms/step\n",
      "Repeat 3 running...\n"
     ]
    },
    {
     "name": "stderr",
     "output_type": "stream",
     "text": [
      "C:\\Users\\kucha\\AppData\\Roaming\\Python\\Python310\\site-packages\\keras\\src\\layers\\rnn\\rnn.py:204: UserWarning: Do not pass an `input_shape`/`input_dim` argument to a layer. When using Sequential models, prefer using an `Input(shape)` object as the first layer in the model instead.\n",
      "  super().__init__(**kwargs)\n"
     ]
    },
    {
     "data": {
      "text/html": [
       "<pre style=\"white-space:pre;overflow-x:auto;line-height:normal;font-family:Menlo,'DejaVu Sans Mono',consolas,'Courier New',monospace\"><span style=\"font-weight: bold\">Model: \"sequential_3\"</span>\n",
       "</pre>\n"
      ],
      "text/plain": [
       "\u001b[1mModel: \"sequential_3\"\u001b[0m\n"
      ]
     },
     "metadata": {},
     "output_type": "display_data"
    },
    {
     "data": {
      "text/html": [
       "<pre style=\"white-space:pre;overflow-x:auto;line-height:normal;font-family:Menlo,'DejaVu Sans Mono',consolas,'Courier New',monospace\">┏━━━━━━━━━━━━━━━━━━━━━━━━━━━━━━━━━┳━━━━━━━━━━━━━━━━━━━━━━━━┳━━━━━━━━━━━━━━━┓\n",
       "┃<span style=\"font-weight: bold\"> Layer (type)                    </span>┃<span style=\"font-weight: bold\"> Output Shape           </span>┃<span style=\"font-weight: bold\">       Param # </span>┃\n",
       "┡━━━━━━━━━━━━━━━━━━━━━━━━━━━━━━━━━╇━━━━━━━━━━━━━━━━━━━━━━━━╇━━━━━━━━━━━━━━━┩\n",
       "│ lstm_10 (<span style=\"color: #0087ff; text-decoration-color: #0087ff\">LSTM</span>)                  │ (<span style=\"color: #00d7ff; text-decoration-color: #00d7ff\">None</span>, <span style=\"color: #00af00; text-decoration-color: #00af00\">10</span>, <span style=\"color: #00af00; text-decoration-color: #00af00\">150</span>)        │        <span style=\"color: #00af00; text-decoration-color: #00af00\">93,000</span> │\n",
       "├─────────────────────────────────┼────────────────────────┼───────────────┤\n",
       "│ dropout_9 (<span style=\"color: #0087ff; text-decoration-color: #0087ff\">Dropout</span>)             │ (<span style=\"color: #00d7ff; text-decoration-color: #00d7ff\">None</span>, <span style=\"color: #00af00; text-decoration-color: #00af00\">10</span>, <span style=\"color: #00af00; text-decoration-color: #00af00\">150</span>)        │             <span style=\"color: #00af00; text-decoration-color: #00af00\">0</span> │\n",
       "├─────────────────────────────────┼────────────────────────┼───────────────┤\n",
       "│ lstm_11 (<span style=\"color: #0087ff; text-decoration-color: #0087ff\">LSTM</span>)                  │ (<span style=\"color: #00d7ff; text-decoration-color: #00d7ff\">None</span>, <span style=\"color: #00af00; text-decoration-color: #00af00\">150</span>)            │       <span style=\"color: #00af00; text-decoration-color: #00af00\">180,600</span> │\n",
       "├─────────────────────────────────┼────────────────────────┼───────────────┤\n",
       "│ dropout_10 (<span style=\"color: #0087ff; text-decoration-color: #0087ff\">Dropout</span>)            │ (<span style=\"color: #00d7ff; text-decoration-color: #00d7ff\">None</span>, <span style=\"color: #00af00; text-decoration-color: #00af00\">150</span>)            │             <span style=\"color: #00af00; text-decoration-color: #00af00\">0</span> │\n",
       "├─────────────────────────────────┼────────────────────────┼───────────────┤\n",
       "│ dense_6 (<span style=\"color: #0087ff; text-decoration-color: #0087ff\">Dense</span>)                 │ (<span style=\"color: #00d7ff; text-decoration-color: #00d7ff\">None</span>, <span style=\"color: #00af00; text-decoration-color: #00af00\">75</span>)             │        <span style=\"color: #00af00; text-decoration-color: #00af00\">11,325</span> │\n",
       "├─────────────────────────────────┼────────────────────────┼───────────────┤\n",
       "│ dropout_11 (<span style=\"color: #0087ff; text-decoration-color: #0087ff\">Dropout</span>)            │ (<span style=\"color: #00d7ff; text-decoration-color: #00d7ff\">None</span>, <span style=\"color: #00af00; text-decoration-color: #00af00\">75</span>)             │             <span style=\"color: #00af00; text-decoration-color: #00af00\">0</span> │\n",
       "├─────────────────────────────────┼────────────────────────┼───────────────┤\n",
       "│ dense_7 (<span style=\"color: #0087ff; text-decoration-color: #0087ff\">Dense</span>)                 │ (<span style=\"color: #00d7ff; text-decoration-color: #00d7ff\">None</span>, <span style=\"color: #00af00; text-decoration-color: #00af00\">2</span>)              │           <span style=\"color: #00af00; text-decoration-color: #00af00\">152</span> │\n",
       "└─────────────────────────────────┴────────────────────────┴───────────────┘\n",
       "</pre>\n"
      ],
      "text/plain": [
       "┏━━━━━━━━━━━━━━━━━━━━━━━━━━━━━━━━━┳━━━━━━━━━━━━━━━━━━━━━━━━┳━━━━━━━━━━━━━━━┓\n",
       "┃\u001b[1m \u001b[0m\u001b[1mLayer (type)                   \u001b[0m\u001b[1m \u001b[0m┃\u001b[1m \u001b[0m\u001b[1mOutput Shape          \u001b[0m\u001b[1m \u001b[0m┃\u001b[1m \u001b[0m\u001b[1m      Param #\u001b[0m\u001b[1m \u001b[0m┃\n",
       "┡━━━━━━━━━━━━━━━━━━━━━━━━━━━━━━━━━╇━━━━━━━━━━━━━━━━━━━━━━━━╇━━━━━━━━━━━━━━━┩\n",
       "│ lstm_10 (\u001b[38;5;33mLSTM\u001b[0m)                  │ (\u001b[38;5;45mNone\u001b[0m, \u001b[38;5;34m10\u001b[0m, \u001b[38;5;34m150\u001b[0m)        │        \u001b[38;5;34m93,000\u001b[0m │\n",
       "├─────────────────────────────────┼────────────────────────┼───────────────┤\n",
       "│ dropout_9 (\u001b[38;5;33mDropout\u001b[0m)             │ (\u001b[38;5;45mNone\u001b[0m, \u001b[38;5;34m10\u001b[0m, \u001b[38;5;34m150\u001b[0m)        │             \u001b[38;5;34m0\u001b[0m │\n",
       "├─────────────────────────────────┼────────────────────────┼───────────────┤\n",
       "│ lstm_11 (\u001b[38;5;33mLSTM\u001b[0m)                  │ (\u001b[38;5;45mNone\u001b[0m, \u001b[38;5;34m150\u001b[0m)            │       \u001b[38;5;34m180,600\u001b[0m │\n",
       "├─────────────────────────────────┼────────────────────────┼───────────────┤\n",
       "│ dropout_10 (\u001b[38;5;33mDropout\u001b[0m)            │ (\u001b[38;5;45mNone\u001b[0m, \u001b[38;5;34m150\u001b[0m)            │             \u001b[38;5;34m0\u001b[0m │\n",
       "├─────────────────────────────────┼────────────────────────┼───────────────┤\n",
       "│ dense_6 (\u001b[38;5;33mDense\u001b[0m)                 │ (\u001b[38;5;45mNone\u001b[0m, \u001b[38;5;34m75\u001b[0m)             │        \u001b[38;5;34m11,325\u001b[0m │\n",
       "├─────────────────────────────────┼────────────────────────┼───────────────┤\n",
       "│ dropout_11 (\u001b[38;5;33mDropout\u001b[0m)            │ (\u001b[38;5;45mNone\u001b[0m, \u001b[38;5;34m75\u001b[0m)             │             \u001b[38;5;34m0\u001b[0m │\n",
       "├─────────────────────────────────┼────────────────────────┼───────────────┤\n",
       "│ dense_7 (\u001b[38;5;33mDense\u001b[0m)                 │ (\u001b[38;5;45mNone\u001b[0m, \u001b[38;5;34m2\u001b[0m)              │           \u001b[38;5;34m152\u001b[0m │\n",
       "└─────────────────────────────────┴────────────────────────┴───────────────┘\n"
      ]
     },
     "metadata": {},
     "output_type": "display_data"
    },
    {
     "data": {
      "text/html": [
       "<pre style=\"white-space:pre;overflow-x:auto;line-height:normal;font-family:Menlo,'DejaVu Sans Mono',consolas,'Courier New',monospace\"><span style=\"font-weight: bold\"> Total params: </span><span style=\"color: #00af00; text-decoration-color: #00af00\">285,077</span> (1.09 MB)\n",
       "</pre>\n"
      ],
      "text/plain": [
       "\u001b[1m Total params: \u001b[0m\u001b[38;5;34m285,077\u001b[0m (1.09 MB)\n"
      ]
     },
     "metadata": {},
     "output_type": "display_data"
    },
    {
     "data": {
      "text/html": [
       "<pre style=\"white-space:pre;overflow-x:auto;line-height:normal;font-family:Menlo,'DejaVu Sans Mono',consolas,'Courier New',monospace\"><span style=\"font-weight: bold\"> Trainable params: </span><span style=\"color: #00af00; text-decoration-color: #00af00\">285,077</span> (1.09 MB)\n",
       "</pre>\n"
      ],
      "text/plain": [
       "\u001b[1m Trainable params: \u001b[0m\u001b[38;5;34m285,077\u001b[0m (1.09 MB)\n"
      ]
     },
     "metadata": {},
     "output_type": "display_data"
    },
    {
     "data": {
      "text/html": [
       "<pre style=\"white-space:pre;overflow-x:auto;line-height:normal;font-family:Menlo,'DejaVu Sans Mono',consolas,'Courier New',monospace\"><span style=\"font-weight: bold\"> Non-trainable params: </span><span style=\"color: #00af00; text-decoration-color: #00af00\">0</span> (0.00 B)\n",
       "</pre>\n"
      ],
      "text/plain": [
       "\u001b[1m Non-trainable params: \u001b[0m\u001b[38;5;34m0\u001b[0m (0.00 B)\n"
      ]
     },
     "metadata": {},
     "output_type": "display_data"
    },
    {
     "name": "stdout",
     "output_type": "stream",
     "text": [
      "Epoch 1/40\n",
      "\n",
      "Epoch 1: val_loss improved from inf to 0.62282, saving model to ./saved_models/last_saved_model.keras\n",
      "\u001b[1m19/19\u001b[0m \u001b[32m━━━━━━━━━━━━━━━━━━━━\u001b[0m\u001b[37m\u001b[0m \u001b[1m1s\u001b[0m 55ms/step\n",
      "Profit: -7.99\n",
      "108/108 - 14s - 132ms/step - accuracy: 0.6129 - loss: 0.6635 - val_accuracy: 0.6601 - val_loss: 0.6228\n",
      "Epoch 2/40\n",
      "\n",
      "Epoch 2: val_loss improved from 0.62282 to 0.60001, saving model to ./saved_models/last_saved_model.keras\n",
      "\u001b[1m19/19\u001b[0m \u001b[32m━━━━━━━━━━━━━━━━━━━━\u001b[0m\u001b[37m\u001b[0m \u001b[1m0s\u001b[0m 22ms/step\n",
      "Profit: -17.4\n",
      "108/108 - 9s - 81ms/step - accuracy: 0.6812 - loss: 0.6021 - val_accuracy: 0.6823 - val_loss: 0.6000\n",
      "Epoch 3/40\n",
      "\n",
      "Epoch 3: val_loss improved from 0.60001 to 0.57149, saving model to ./saved_models/last_saved_model.keras\n",
      "\u001b[1m19/19\u001b[0m \u001b[32m━━━━━━━━━━━━━━━━━━━━\u001b[0m\u001b[37m\u001b[0m \u001b[1m0s\u001b[0m 23ms/step\n",
      "Profit: -12.17\n",
      "108/108 - 7s - 62ms/step - accuracy: 0.6973 - loss: 0.5783 - val_accuracy: 0.7029 - val_loss: 0.5715\n",
      "Epoch 4/40\n",
      "\n",
      "Epoch 4: val_loss improved from 0.57149 to 0.56060, saving model to ./saved_models/last_saved_model.keras\n",
      "\u001b[1m19/19\u001b[0m \u001b[32m━━━━━━━━━━━━━━━━━━━━\u001b[0m\u001b[37m\u001b[0m \u001b[1m1s\u001b[0m 26ms/step\n",
      "Profit: -10.87\n",
      "108/108 - 10s - 95ms/step - accuracy: 0.7124 - loss: 0.5614 - val_accuracy: 0.7029 - val_loss: 0.5606\n",
      "Epoch 5/40\n",
      "\n",
      "Epoch 5: val_loss improved from 0.56060 to 0.55705, saving model to ./saved_models/last_saved_model.keras\n",
      "\u001b[1m19/19\u001b[0m \u001b[32m━━━━━━━━━━━━━━━━━━━━\u001b[0m\u001b[37m\u001b[0m \u001b[1m0s\u001b[0m 23ms/step\n",
      "Profit: -12.61\n",
      "108/108 - 7s - 61ms/step - accuracy: 0.7149 - loss: 0.5546 - val_accuracy: 0.6996 - val_loss: 0.5570\n",
      "Epoch 6/40\n",
      "\n",
      "Epoch 6: val_loss improved from 0.55705 to 0.55601, saving model to ./saved_models/last_saved_model.keras\n",
      "\u001b[1m19/19\u001b[0m \u001b[32m━━━━━━━━━━━━━━━━━━━━\u001b[0m\u001b[37m\u001b[0m \u001b[1m0s\u001b[0m 23ms/step\n",
      "Profit: -12.75\n",
      "108/108 - 10s - 93ms/step - accuracy: 0.7156 - loss: 0.5510 - val_accuracy: 0.7053 - val_loss: 0.5560\n",
      "Epoch 7/40\n",
      "\n",
      "Epoch 7: val_loss improved from 0.55601 to 0.55277, saving model to ./saved_models/last_saved_model.keras\n",
      "\u001b[1m19/19\u001b[0m \u001b[32m━━━━━━━━━━━━━━━━━━━━\u001b[0m\u001b[37m\u001b[0m \u001b[1m0s\u001b[0m 24ms/step\n",
      "Profit: -16.07\n",
      "108/108 - 7s - 67ms/step - accuracy: 0.7197 - loss: 0.5476 - val_accuracy: 0.7103 - val_loss: 0.5528\n",
      "Epoch 8/40\n",
      "\n",
      "Epoch 8: val_loss did not improve from 0.55277\n",
      "\u001b[1m19/19\u001b[0m \u001b[32m━━━━━━━━━━━━━━━━━━━━\u001b[0m\u001b[37m\u001b[0m \u001b[1m0s\u001b[0m 24ms/step\n",
      "Profit: -12.79\n",
      "108/108 - 7s - 64ms/step - accuracy: 0.7220 - loss: 0.5453 - val_accuracy: 0.7119 - val_loss: 0.5528\n",
      "Epoch 9/40\n",
      "\n",
      "Epoch 9: val_loss improved from 0.55277 to 0.55029, saving model to ./saved_models/last_saved_model.keras\n",
      "\u001b[1m19/19\u001b[0m \u001b[32m━━━━━━━━━━━━━━━━━━━━\u001b[0m\u001b[37m\u001b[0m \u001b[1m0s\u001b[0m 24ms/step\n",
      "Profit: -14.23\n",
      "108/108 - 10s - 91ms/step - accuracy: 0.7219 - loss: 0.5451 - val_accuracy: 0.7169 - val_loss: 0.5503\n",
      "Epoch 10/40\n",
      "\n",
      "Epoch 10: val_loss improved from 0.55029 to 0.54979, saving model to ./saved_models/last_saved_model.keras\n",
      "\u001b[1m19/19\u001b[0m \u001b[32m━━━━━━━━━━━━━━━━━━━━\u001b[0m\u001b[37m\u001b[0m \u001b[1m0s\u001b[0m 22ms/step\n",
      "Profit: -13.61\n",
      "108/108 - 7s - 61ms/step - accuracy: 0.7240 - loss: 0.5425 - val_accuracy: 0.7177 - val_loss: 0.5498\n",
      "Epoch 11/40\n",
      "\n",
      "Epoch 11: val_loss improved from 0.54979 to 0.54969, saving model to ./saved_models/last_saved_model.keras\n",
      "\u001b[1m19/19\u001b[0m \u001b[32m━━━━━━━━━━━━━━━━━━━━\u001b[0m\u001b[37m\u001b[0m \u001b[1m0s\u001b[0m 23ms/step\n",
      "Profit: -13.85\n",
      "108/108 - 6s - 60ms/step - accuracy: 0.7277 - loss: 0.5419 - val_accuracy: 0.7177 - val_loss: 0.5497\n",
      "Epoch 12/40\n",
      "\n",
      "Epoch 12: val_loss did not improve from 0.54969\n",
      "\u001b[1m19/19\u001b[0m \u001b[32m━━━━━━━━━━━━━━━━━━━━\u001b[0m\u001b[37m\u001b[0m \u001b[1m1s\u001b[0m 28ms/step\n",
      "Profit: -14.09\n",
      "108/108 - 6s - 59ms/step - accuracy: 0.7275 - loss: 0.5411 - val_accuracy: 0.7144 - val_loss: 0.5506\n",
      "Epoch 13/40\n",
      "\n",
      "Epoch 13: val_loss improved from 0.54969 to 0.54840, saving model to ./saved_models/last_saved_model.keras\n",
      "\u001b[1m19/19\u001b[0m \u001b[32m━━━━━━━━━━━━━━━━━━━━\u001b[0m\u001b[37m\u001b[0m \u001b[1m0s\u001b[0m 23ms/step\n",
      "Profit: -13.09\n",
      "108/108 - 6s - 59ms/step - accuracy: 0.7306 - loss: 0.5393 - val_accuracy: 0.7193 - val_loss: 0.5484\n",
      "Epoch 14/40\n",
      "\n",
      "Epoch 14: val_loss did not improve from 0.54840\n",
      "\u001b[1m19/19\u001b[0m \u001b[32m━━━━━━━━━━━━━━━━━━━━\u001b[0m\u001b[37m\u001b[0m \u001b[1m0s\u001b[0m 23ms/step\n",
      "Profit: -13.99\n",
      "108/108 - 6s - 60ms/step - accuracy: 0.7296 - loss: 0.5379 - val_accuracy: 0.7152 - val_loss: 0.5489\n",
      "Epoch 15/40\n",
      "\n",
      "Epoch 15: val_loss did not improve from 0.54840\n",
      "\u001b[1m19/19\u001b[0m \u001b[32m━━━━━━━━━━━━━━━━━━━━\u001b[0m\u001b[37m\u001b[0m \u001b[1m0s\u001b[0m 18ms/step\n",
      "Profit: -12.69\n",
      "108/108 - 6s - 60ms/step - accuracy: 0.7287 - loss: 0.5384 - val_accuracy: 0.7169 - val_loss: 0.5498\n",
      "Epoch 16/40\n",
      "\n",
      "Epoch 16: val_loss did not improve from 0.54840\n",
      "\u001b[1m19/19\u001b[0m \u001b[32m━━━━━━━━━━━━━━━━━━━━\u001b[0m\u001b[37m\u001b[0m \u001b[1m0s\u001b[0m 22ms/step\n",
      "Profit: -11.85\n",
      "108/108 - 7s - 61ms/step - accuracy: 0.7290 - loss: 0.5372 - val_accuracy: 0.7111 - val_loss: 0.5497\n",
      "\u001b[1m19/19\u001b[0m \u001b[32m━━━━━━━━━━━━━━━━━━━━\u001b[0m\u001b[37m\u001b[0m \u001b[1m1s\u001b[0m 46ms/step\n",
      "Repeat 4 running...\n"
     ]
    },
    {
     "name": "stderr",
     "output_type": "stream",
     "text": [
      "C:\\Users\\kucha\\AppData\\Roaming\\Python\\Python310\\site-packages\\keras\\src\\layers\\rnn\\rnn.py:204: UserWarning: Do not pass an `input_shape`/`input_dim` argument to a layer. When using Sequential models, prefer using an `Input(shape)` object as the first layer in the model instead.\n",
      "  super().__init__(**kwargs)\n"
     ]
    },
    {
     "data": {
      "text/html": [
       "<pre style=\"white-space:pre;overflow-x:auto;line-height:normal;font-family:Menlo,'DejaVu Sans Mono',consolas,'Courier New',monospace\"><span style=\"font-weight: bold\">Model: \"sequential_4\"</span>\n",
       "</pre>\n"
      ],
      "text/plain": [
       "\u001b[1mModel: \"sequential_4\"\u001b[0m\n"
      ]
     },
     "metadata": {},
     "output_type": "display_data"
    },
    {
     "data": {
      "text/html": [
       "<pre style=\"white-space:pre;overflow-x:auto;line-height:normal;font-family:Menlo,'DejaVu Sans Mono',consolas,'Courier New',monospace\">┏━━━━━━━━━━━━━━━━━━━━━━━━━━━━━━━━━┳━━━━━━━━━━━━━━━━━━━━━━━━┳━━━━━━━━━━━━━━━┓\n",
       "┃<span style=\"font-weight: bold\"> Layer (type)                    </span>┃<span style=\"font-weight: bold\"> Output Shape           </span>┃<span style=\"font-weight: bold\">       Param # </span>┃\n",
       "┡━━━━━━━━━━━━━━━━━━━━━━━━━━━━━━━━━╇━━━━━━━━━━━━━━━━━━━━━━━━╇━━━━━━━━━━━━━━━┩\n",
       "│ lstm_13 (<span style=\"color: #0087ff; text-decoration-color: #0087ff\">LSTM</span>)                  │ (<span style=\"color: #00d7ff; text-decoration-color: #00d7ff\">None</span>, <span style=\"color: #00af00; text-decoration-color: #00af00\">10</span>, <span style=\"color: #00af00; text-decoration-color: #00af00\">150</span>)        │        <span style=\"color: #00af00; text-decoration-color: #00af00\">93,000</span> │\n",
       "├─────────────────────────────────┼────────────────────────┼───────────────┤\n",
       "│ dropout_12 (<span style=\"color: #0087ff; text-decoration-color: #0087ff\">Dropout</span>)            │ (<span style=\"color: #00d7ff; text-decoration-color: #00d7ff\">None</span>, <span style=\"color: #00af00; text-decoration-color: #00af00\">10</span>, <span style=\"color: #00af00; text-decoration-color: #00af00\">150</span>)        │             <span style=\"color: #00af00; text-decoration-color: #00af00\">0</span> │\n",
       "├─────────────────────────────────┼────────────────────────┼───────────────┤\n",
       "│ lstm_14 (<span style=\"color: #0087ff; text-decoration-color: #0087ff\">LSTM</span>)                  │ (<span style=\"color: #00d7ff; text-decoration-color: #00d7ff\">None</span>, <span style=\"color: #00af00; text-decoration-color: #00af00\">150</span>)            │       <span style=\"color: #00af00; text-decoration-color: #00af00\">180,600</span> │\n",
       "├─────────────────────────────────┼────────────────────────┼───────────────┤\n",
       "│ dropout_13 (<span style=\"color: #0087ff; text-decoration-color: #0087ff\">Dropout</span>)            │ (<span style=\"color: #00d7ff; text-decoration-color: #00d7ff\">None</span>, <span style=\"color: #00af00; text-decoration-color: #00af00\">150</span>)            │             <span style=\"color: #00af00; text-decoration-color: #00af00\">0</span> │\n",
       "├─────────────────────────────────┼────────────────────────┼───────────────┤\n",
       "│ dense_8 (<span style=\"color: #0087ff; text-decoration-color: #0087ff\">Dense</span>)                 │ (<span style=\"color: #00d7ff; text-decoration-color: #00d7ff\">None</span>, <span style=\"color: #00af00; text-decoration-color: #00af00\">75</span>)             │        <span style=\"color: #00af00; text-decoration-color: #00af00\">11,325</span> │\n",
       "├─────────────────────────────────┼────────────────────────┼───────────────┤\n",
       "│ dropout_14 (<span style=\"color: #0087ff; text-decoration-color: #0087ff\">Dropout</span>)            │ (<span style=\"color: #00d7ff; text-decoration-color: #00d7ff\">None</span>, <span style=\"color: #00af00; text-decoration-color: #00af00\">75</span>)             │             <span style=\"color: #00af00; text-decoration-color: #00af00\">0</span> │\n",
       "├─────────────────────────────────┼────────────────────────┼───────────────┤\n",
       "│ dense_9 (<span style=\"color: #0087ff; text-decoration-color: #0087ff\">Dense</span>)                 │ (<span style=\"color: #00d7ff; text-decoration-color: #00d7ff\">None</span>, <span style=\"color: #00af00; text-decoration-color: #00af00\">2</span>)              │           <span style=\"color: #00af00; text-decoration-color: #00af00\">152</span> │\n",
       "└─────────────────────────────────┴────────────────────────┴───────────────┘\n",
       "</pre>\n"
      ],
      "text/plain": [
       "┏━━━━━━━━━━━━━━━━━━━━━━━━━━━━━━━━━┳━━━━━━━━━━━━━━━━━━━━━━━━┳━━━━━━━━━━━━━━━┓\n",
       "┃\u001b[1m \u001b[0m\u001b[1mLayer (type)                   \u001b[0m\u001b[1m \u001b[0m┃\u001b[1m \u001b[0m\u001b[1mOutput Shape          \u001b[0m\u001b[1m \u001b[0m┃\u001b[1m \u001b[0m\u001b[1m      Param #\u001b[0m\u001b[1m \u001b[0m┃\n",
       "┡━━━━━━━━━━━━━━━━━━━━━━━━━━━━━━━━━╇━━━━━━━━━━━━━━━━━━━━━━━━╇━━━━━━━━━━━━━━━┩\n",
       "│ lstm_13 (\u001b[38;5;33mLSTM\u001b[0m)                  │ (\u001b[38;5;45mNone\u001b[0m, \u001b[38;5;34m10\u001b[0m, \u001b[38;5;34m150\u001b[0m)        │        \u001b[38;5;34m93,000\u001b[0m │\n",
       "├─────────────────────────────────┼────────────────────────┼───────────────┤\n",
       "│ dropout_12 (\u001b[38;5;33mDropout\u001b[0m)            │ (\u001b[38;5;45mNone\u001b[0m, \u001b[38;5;34m10\u001b[0m, \u001b[38;5;34m150\u001b[0m)        │             \u001b[38;5;34m0\u001b[0m │\n",
       "├─────────────────────────────────┼────────────────────────┼───────────────┤\n",
       "│ lstm_14 (\u001b[38;5;33mLSTM\u001b[0m)                  │ (\u001b[38;5;45mNone\u001b[0m, \u001b[38;5;34m150\u001b[0m)            │       \u001b[38;5;34m180,600\u001b[0m │\n",
       "├─────────────────────────────────┼────────────────────────┼───────────────┤\n",
       "│ dropout_13 (\u001b[38;5;33mDropout\u001b[0m)            │ (\u001b[38;5;45mNone\u001b[0m, \u001b[38;5;34m150\u001b[0m)            │             \u001b[38;5;34m0\u001b[0m │\n",
       "├─────────────────────────────────┼────────────────────────┼───────────────┤\n",
       "│ dense_8 (\u001b[38;5;33mDense\u001b[0m)                 │ (\u001b[38;5;45mNone\u001b[0m, \u001b[38;5;34m75\u001b[0m)             │        \u001b[38;5;34m11,325\u001b[0m │\n",
       "├─────────────────────────────────┼────────────────────────┼───────────────┤\n",
       "│ dropout_14 (\u001b[38;5;33mDropout\u001b[0m)            │ (\u001b[38;5;45mNone\u001b[0m, \u001b[38;5;34m75\u001b[0m)             │             \u001b[38;5;34m0\u001b[0m │\n",
       "├─────────────────────────────────┼────────────────────────┼───────────────┤\n",
       "│ dense_9 (\u001b[38;5;33mDense\u001b[0m)                 │ (\u001b[38;5;45mNone\u001b[0m, \u001b[38;5;34m2\u001b[0m)              │           \u001b[38;5;34m152\u001b[0m │\n",
       "└─────────────────────────────────┴────────────────────────┴───────────────┘\n"
      ]
     },
     "metadata": {},
     "output_type": "display_data"
    },
    {
     "data": {
      "text/html": [
       "<pre style=\"white-space:pre;overflow-x:auto;line-height:normal;font-family:Menlo,'DejaVu Sans Mono',consolas,'Courier New',monospace\"><span style=\"font-weight: bold\"> Total params: </span><span style=\"color: #00af00; text-decoration-color: #00af00\">285,077</span> (1.09 MB)\n",
       "</pre>\n"
      ],
      "text/plain": [
       "\u001b[1m Total params: \u001b[0m\u001b[38;5;34m285,077\u001b[0m (1.09 MB)\n"
      ]
     },
     "metadata": {},
     "output_type": "display_data"
    },
    {
     "data": {
      "text/html": [
       "<pre style=\"white-space:pre;overflow-x:auto;line-height:normal;font-family:Menlo,'DejaVu Sans Mono',consolas,'Courier New',monospace\"><span style=\"font-weight: bold\"> Trainable params: </span><span style=\"color: #00af00; text-decoration-color: #00af00\">285,077</span> (1.09 MB)\n",
       "</pre>\n"
      ],
      "text/plain": [
       "\u001b[1m Trainable params: \u001b[0m\u001b[38;5;34m285,077\u001b[0m (1.09 MB)\n"
      ]
     },
     "metadata": {},
     "output_type": "display_data"
    },
    {
     "data": {
      "text/html": [
       "<pre style=\"white-space:pre;overflow-x:auto;line-height:normal;font-family:Menlo,'DejaVu Sans Mono',consolas,'Courier New',monospace\"><span style=\"font-weight: bold\"> Non-trainable params: </span><span style=\"color: #00af00; text-decoration-color: #00af00\">0</span> (0.00 B)\n",
       "</pre>\n"
      ],
      "text/plain": [
       "\u001b[1m Non-trainable params: \u001b[0m\u001b[38;5;34m0\u001b[0m (0.00 B)\n"
      ]
     },
     "metadata": {},
     "output_type": "display_data"
    },
    {
     "name": "stdout",
     "output_type": "stream",
     "text": [
      "Epoch 1/40\n",
      "\n",
      "Epoch 1: val_loss improved from inf to 0.62527, saving model to ./saved_models/last_saved_model.keras\n",
      "\u001b[1m19/19\u001b[0m \u001b[32m━━━━━━━━━━━━━━━━━━━━\u001b[0m\u001b[37m\u001b[0m \u001b[1m2s\u001b[0m 56ms/step\n",
      "Profit: -6.59\n",
      "108/108 - 14s - 127ms/step - accuracy: 0.5990 - loss: 0.6675 - val_accuracy: 0.6527 - val_loss: 0.6253\n",
      "Epoch 2/40\n",
      "\n",
      "Epoch 2: val_loss improved from 0.62527 to 0.60347, saving model to ./saved_models/last_saved_model.keras\n",
      "\u001b[1m19/19\u001b[0m \u001b[32m━━━━━━━━━━━━━━━━━━━━\u001b[0m\u001b[37m\u001b[0m \u001b[1m0s\u001b[0m 22ms/step\n",
      "Profit: -15.0\n",
      "108/108 - 7s - 61ms/step - accuracy: 0.6741 - loss: 0.6040 - val_accuracy: 0.6790 - val_loss: 0.6035\n",
      "Epoch 3/40\n",
      "\n",
      "Epoch 3: val_loss improved from 0.60347 to 0.57577, saving model to ./saved_models/last_saved_model.keras\n",
      "\u001b[1m19/19\u001b[0m \u001b[32m━━━━━━━━━━━━━━━━━━━━\u001b[0m\u001b[37m\u001b[0m \u001b[1m0s\u001b[0m 21ms/step\n",
      "Profit: -9.77\n",
      "108/108 - 6s - 59ms/step - accuracy: 0.6959 - loss: 0.5815 - val_accuracy: 0.7037 - val_loss: 0.5758\n",
      "Epoch 4/40\n",
      "\n",
      "Epoch 4: val_loss improved from 0.57577 to 0.56239, saving model to ./saved_models/last_saved_model.keras\n",
      "\u001b[1m19/19\u001b[0m \u001b[32m━━━━━━━━━━━━━━━━━━━━\u001b[0m\u001b[37m\u001b[0m \u001b[1m0s\u001b[0m 23ms/step\n",
      "Profit: -9.99\n",
      "108/108 - 7s - 61ms/step - accuracy: 0.7117 - loss: 0.5626 - val_accuracy: 0.6971 - val_loss: 0.5624\n",
      "Epoch 5/40\n",
      "\n",
      "Epoch 5: val_loss improved from 0.56239 to 0.55973, saving model to ./saved_models/last_saved_model.keras\n",
      "\u001b[1m19/19\u001b[0m \u001b[32m━━━━━━━━━━━━━━━━━━━━\u001b[0m\u001b[37m\u001b[0m \u001b[1m0s\u001b[0m 23ms/step\n",
      "Profit: -10.53\n",
      "108/108 - 6s - 60ms/step - accuracy: 0.7129 - loss: 0.5584 - val_accuracy: 0.7004 - val_loss: 0.5597\n",
      "Epoch 6/40\n",
      "\n",
      "Epoch 6: val_loss improved from 0.55973 to 0.55520, saving model to ./saved_models/last_saved_model.keras\n",
      "\u001b[1m19/19\u001b[0m \u001b[32m━━━━━━━━━━━━━━━━━━━━\u001b[0m\u001b[37m\u001b[0m \u001b[1m1s\u001b[0m 25ms/step\n",
      "Profit: -18.53\n",
      "108/108 - 7s - 63ms/step - accuracy: 0.7175 - loss: 0.5535 - val_accuracy: 0.7029 - val_loss: 0.5552\n",
      "Epoch 7/40\n",
      "\n",
      "Epoch 7: val_loss improved from 0.55520 to 0.55328, saving model to ./saved_models/last_saved_model.keras\n",
      "\u001b[1m19/19\u001b[0m \u001b[32m━━━━━━━━━━━━━━━━━━━━\u001b[0m\u001b[37m\u001b[0m \u001b[1m1s\u001b[0m 28ms/step\n",
      "Profit: -17.99\n",
      "108/108 - 7s - 66ms/step - accuracy: 0.7206 - loss: 0.5487 - val_accuracy: 0.7111 - val_loss: 0.5533\n",
      "Epoch 8/40\n",
      "\n",
      "Epoch 8: val_loss improved from 0.55328 to 0.55315, saving model to ./saved_models/last_saved_model.keras\n",
      "\u001b[1m19/19\u001b[0m \u001b[32m━━━━━━━━━━━━━━━━━━━━\u001b[0m\u001b[37m\u001b[0m \u001b[1m0s\u001b[0m 23ms/step\n",
      "Profit: -19.19\n",
      "108/108 - 6s - 59ms/step - accuracy: 0.7219 - loss: 0.5450 - val_accuracy: 0.7103 - val_loss: 0.5531\n",
      "Epoch 9/40\n",
      "\n",
      "Epoch 9: val_loss improved from 0.55315 to 0.55185, saving model to ./saved_models/last_saved_model.keras\n",
      "\u001b[1m19/19\u001b[0m \u001b[32m━━━━━━━━━━━━━━━━━━━━\u001b[0m\u001b[37m\u001b[0m \u001b[1m0s\u001b[0m 22ms/step\n",
      "Profit: -14.91\n",
      "108/108 - 6s - 59ms/step - accuracy: 0.7214 - loss: 0.5444 - val_accuracy: 0.7169 - val_loss: 0.5519\n",
      "Epoch 10/40\n",
      "\n",
      "Epoch 10: val_loss improved from 0.55185 to 0.55162, saving model to ./saved_models/last_saved_model.keras\n",
      "\u001b[1m19/19\u001b[0m \u001b[32m━━━━━━━━━━━━━━━━━━━━\u001b[0m\u001b[37m\u001b[0m \u001b[1m0s\u001b[0m 22ms/step\n",
      "Profit: -14.75\n",
      "108/108 - 6s - 60ms/step - accuracy: 0.7235 - loss: 0.5424 - val_accuracy: 0.7152 - val_loss: 0.5516\n",
      "Epoch 11/40\n",
      "\n",
      "Epoch 11: val_loss improved from 0.55162 to 0.55125, saving model to ./saved_models/last_saved_model.keras\n",
      "\u001b[1m19/19\u001b[0m \u001b[32m━━━━━━━━━━━━━━━━━━━━\u001b[0m\u001b[37m\u001b[0m \u001b[1m0s\u001b[0m 24ms/step\n",
      "Profit: -17.35\n",
      "108/108 - 6s - 59ms/step - accuracy: 0.7242 - loss: 0.5422 - val_accuracy: 0.7169 - val_loss: 0.5512\n",
      "Epoch 12/40\n",
      "\n",
      "Epoch 12: val_loss did not improve from 0.55125\n",
      "\u001b[1m19/19\u001b[0m \u001b[32m━━━━━━━━━━━━━━━━━━━━\u001b[0m\u001b[37m\u001b[0m \u001b[1m1s\u001b[0m 31ms/step\n",
      "Profit: -14.37\n",
      "108/108 - 7s - 64ms/step - accuracy: 0.7267 - loss: 0.5417 - val_accuracy: 0.7169 - val_loss: 0.5517\n",
      "Epoch 13/40\n",
      "\n",
      "Epoch 13: val_loss did not improve from 0.55125\n",
      "\u001b[1m19/19\u001b[0m \u001b[32m━━━━━━━━━━━━━━━━━━━━\u001b[0m\u001b[37m\u001b[0m \u001b[1m0s\u001b[0m 24ms/step\n",
      "Profit: -12.91\n",
      "108/108 - 7s - 63ms/step - accuracy: 0.7291 - loss: 0.5384 - val_accuracy: 0.7111 - val_loss: 0.5516\n",
      "Epoch 14/40\n",
      "\n",
      "Epoch 14: val_loss improved from 0.55125 to 0.55073, saving model to ./saved_models/last_saved_model.keras\n",
      "\u001b[1m19/19\u001b[0m \u001b[32m━━━━━━━━━━━━━━━━━━━━\u001b[0m\u001b[37m\u001b[0m \u001b[1m1s\u001b[0m 27ms/step\n",
      "Profit: -11.61\n",
      "108/108 - 7s - 61ms/step - accuracy: 0.7280 - loss: 0.5383 - val_accuracy: 0.7152 - val_loss: 0.5507\n",
      "Epoch 15/40\n",
      "\n",
      "Epoch 15: val_loss did not improve from 0.55073\n",
      "\u001b[1m19/19\u001b[0m \u001b[32m━━━━━━━━━━━━━━━━━━━━\u001b[0m\u001b[37m\u001b[0m \u001b[1m1s\u001b[0m 25ms/step\n",
      "Profit: -17.01\n",
      "108/108 - 7s - 62ms/step - accuracy: 0.7287 - loss: 0.5395 - val_accuracy: 0.7103 - val_loss: 0.5509\n",
      "Epoch 16/40\n",
      "\n",
      "Epoch 16: val_loss did not improve from 0.55073\n",
      "\u001b[1m19/19\u001b[0m \u001b[32m━━━━━━━━━━━━━━━━━━━━\u001b[0m\u001b[37m\u001b[0m \u001b[1m0s\u001b[0m 22ms/step\n",
      "Profit: -11.29\n",
      "108/108 - 7s - 61ms/step - accuracy: 0.7296 - loss: 0.5366 - val_accuracy: 0.7136 - val_loss: 0.5511\n",
      "Epoch 17/40\n",
      "\n",
      "Epoch 17: val_loss did not improve from 0.55073\n",
      "\u001b[1m19/19\u001b[0m \u001b[32m━━━━━━━━━━━━━━━━━━━━\u001b[0m\u001b[37m\u001b[0m \u001b[1m1s\u001b[0m 30ms/step\n",
      "Profit: -9.63\n",
      "108/108 - 7s - 61ms/step - accuracy: 0.7310 - loss: 0.5347 - val_accuracy: 0.7152 - val_loss: 0.5508\n",
      "\u001b[1m19/19\u001b[0m \u001b[32m━━━━━━━━━━━━━━━━━━━━\u001b[0m\u001b[37m\u001b[0m \u001b[1m2s\u001b[0m 57ms/step\n"
     ]
    },
    {
     "data": {
      "application/vnd.plotly.v1+json": {
       "config": {
        "plotlyServerURL": "https://plot.ly"
       },
       "data": [
        {
         "line": {
          "color": "#0000ff"
         },
         "name": "accuracy0",
         "showlegend": false,
         "type": "scatter",
         "x": [
          0,
          1,
          2,
          3,
          4,
          5,
          6,
          7,
          8,
          9,
          10
         ],
         "xaxis": "x",
         "y": [
          0.6499636769294739,
          0.6878721714019775,
          0.7041394114494324,
          0.7167755961418152,
          0.7185184955596924,
          0.7225853204727173,
          0.7286855578422546,
          0.7273783683776855,
          0.7283950448036194,
          0.7317356467247009,
          0.7317356467247009
         ],
         "yaxis": "y"
        },
        {
         "line": {
          "color": "#0000ff"
         },
         "name": "loss0",
         "showlegend": false,
         "type": "scatter",
         "x": [
          0,
          1,
          2,
          3,
          4,
          5,
          6,
          7,
          8,
          9,
          10
         ],
         "xaxis": "x2",
         "y": [
          0.6301380395889282,
          0.5896955132484436,
          0.5724207758903503,
          0.5566492676734924,
          0.546679675579071,
          0.5433852076530457,
          0.5411960482597351,
          0.5383389592170715,
          0.5381072759628296,
          0.5354698300361633,
          0.5361982583999634
         ],
         "yaxis": "y2"
        },
        {
         "line": {
          "color": "#EF8260"
         },
         "name": "val_accuracy0",
         "showlegend": false,
         "type": "scatter",
         "x": [
          0,
          1,
          2,
          3,
          4,
          5,
          6,
          7,
          8,
          9,
          10
         ],
         "xaxis": "x",
         "y": [
          0.6625514626502991,
          0.6790123581886292,
          0.6930041313171387,
          0.7111111283302307,
          0.7185184955596924,
          0.7144032716751099,
          0.7193415760993958,
          0.7168724536895752,
          0.7160493731498718,
          0.7152263522148132,
          0.7152263522148132
         ],
         "yaxis": "y"
        },
        {
         "line": {
          "color": "#EF8260"
         },
         "name": "val_loss0",
         "showlegend": false,
         "type": "scatter",
         "x": [
          0,
          1,
          2,
          3,
          4,
          5,
          6,
          7,
          8,
          9,
          10
         ],
         "xaxis": "x2",
         "y": [
          0.6063969135284424,
          0.5876451730728149,
          0.5696730017662048,
          0.5560089349746704,
          0.5507991909980774,
          0.5500452518463135,
          0.5492079257965088,
          0.5487157106399536,
          0.5498837232589722,
          0.5489866733551025,
          0.5498185157775879
         ],
         "yaxis": "y2"
        },
        {
         "line": {
          "color": "#EF8260"
         },
         "name": "profit0",
         "showlegend": false,
         "type": "scatter",
         "x": [
          0,
          1,
          2,
          3,
          4,
          5,
          6,
          7,
          8,
          9,
          10
         ],
         "xaxis": "x3",
         "y": [
          -11.76,
          -11.42,
          -14.85,
          -19,
          -23.04,
          -17.9,
          -17,
          -15.8,
          -17.42,
          -16.1,
          -17.56
         ],
         "yaxis": "y3"
        },
        {
         "line": {
          "color": "#0000ff"
         },
         "name": "accuracy1",
         "showlegend": false,
         "type": "scatter",
         "x": [
          0,
          1,
          2,
          3,
          4,
          5,
          6,
          7,
          8,
          9,
          10,
          11,
          12,
          13,
          14,
          15
         ],
         "xaxis": "x",
         "y": [
          0.6081336140632629,
          0.6795933246612549,
          0.700653612613678,
          0.7122730612754822,
          0.7140159606933594,
          0.7196804881095886,
          0.7209876775741577,
          0.7222948670387268,
          0.7208424210548401,
          0.7250544428825378,
          0.7244734764099121,
          0.7256354689598083,
          0.7289760112762451,
          0.7308642268180847,
          0.727668821811676,
          0.729411780834198
         ],
         "yaxis": "y"
        },
        {
         "line": {
          "color": "#0000ff"
         },
         "name": "loss1",
         "showlegend": false,
         "type": "scatter",
         "x": [
          0,
          1,
          2,
          3,
          4,
          5,
          6,
          7,
          8,
          9,
          10,
          11,
          12,
          13,
          14,
          15
         ],
         "xaxis": "x2",
         "y": [
          0.6621769070625305,
          0.6016266345977783,
          0.5771753787994385,
          0.5628466606140137,
          0.5554835200309753,
          0.5508628487586975,
          0.5483179092407227,
          0.5461434125900269,
          0.5423069596290588,
          0.5437914729118347,
          0.5425349473953247,
          0.5404926538467407,
          0.5378829836845398,
          0.5387953519821167,
          0.5376814603805542,
          0.5377668142318726
         ],
         "yaxis": "y2"
        },
        {
         "line": {
          "color": "#EF8260"
         },
         "name": "val_accuracy1",
         "showlegend": false,
         "type": "scatter",
         "x": [
          0,
          1,
          2,
          3,
          4,
          5,
          6,
          7,
          8,
          9,
          10,
          11,
          12,
          13,
          14,
          15
         ],
         "xaxis": "x",
         "y": [
          0.6584362387657166,
          0.6831275820732117,
          0.6987654566764832,
          0.6962962746620178,
          0.7012345790863037,
          0.7069959044456482,
          0.7144032716751099,
          0.7127572298049927,
          0.7127572298049927,
          0.7160493731498718,
          0.7135802507400513,
          0.7135802507400513,
          0.7144032716751099,
          0.7102880477905273,
          0.7078189253807068,
          0.7086419463157654
         ],
         "yaxis": "y"
        },
        {
         "line": {
          "color": "#EF8260"
         },
         "name": "val_loss1",
         "showlegend": false,
         "type": "scatter",
         "x": [
          0,
          1,
          2,
          3,
          4,
          5,
          6,
          7,
          8,
          9,
          10,
          11,
          12,
          13,
          14,
          15
         ],
         "xaxis": "x2",
         "y": [
          0.6228600144386292,
          0.6025221943855286,
          0.5755590796470642,
          0.5614840984344482,
          0.5566951632499695,
          0.5557183623313904,
          0.5540755987167358,
          0.552487313747406,
          0.5515912175178528,
          0.5508588552474976,
          0.5521371364593506,
          0.5515621900558472,
          0.5499569773674011,
          0.5506826639175415,
          0.5508176684379578,
          0.5507481694221497
         ],
         "yaxis": "y2"
        },
        {
         "line": {
          "color": "#EF8260"
         },
         "name": "profit1",
         "showlegend": false,
         "type": "scatter",
         "x": [
          0,
          1,
          2,
          3,
          4,
          5,
          6,
          7,
          8,
          9,
          10,
          11,
          12,
          13,
          14,
          15
         ],
         "xaxis": "x3",
         "y": [
          -9.63,
          -17.32,
          -6.25,
          -9.77,
          -13.99,
          -16.97,
          -16.75,
          -14.97,
          -15.15,
          -12.07,
          -13.05,
          -14.11,
          -15.33,
          -12.45,
          -11.57,
          -11.09
         ],
         "yaxis": "y3"
        },
        {
         "line": {
          "color": "#0000ff"
         },
         "name": "accuracy2",
         "showlegend": false,
         "type": "scatter",
         "x": [
          0,
          1,
          2,
          3,
          4,
          5,
          6,
          7,
          8,
          9,
          10,
          11,
          12,
          13,
          14
         ],
         "xaxis": "x",
         "y": [
          0.5986928343772888,
          0.6723311543464661,
          0.6974582672119141,
          0.7108206152915955,
          0.7145969271659851,
          0.7153231501579285,
          0.7169208526611328,
          0.71866375207901,
          0.7230210900306702,
          0.7238925099372864,
          0.7251996994018555,
          0.724909245967865,
          0.7279593348503113,
          0.7270878553390503,
          0.7304284572601318
         ],
         "yaxis": "y"
        },
        {
         "line": {
          "color": "#0000ff"
         },
         "name": "loss2",
         "showlegend": false,
         "type": "scatter",
         "x": [
          0,
          1,
          2,
          3,
          4,
          5,
          6,
          7,
          8,
          9,
          10,
          11,
          12,
          13,
          14
         ],
         "xaxis": "x2",
         "y": [
          0.6688756942749023,
          0.6071776747703552,
          0.5820677280426025,
          0.5621470808982849,
          0.5551140904426575,
          0.5541899800300598,
          0.5485734343528748,
          0.5467736124992371,
          0.5434486269950867,
          0.5445597767829895,
          0.5413609743118286,
          0.5405662059783936,
          0.5372469425201416,
          0.538399875164032,
          0.5393310189247131
         ],
         "yaxis": "y2"
        },
        {
         "line": {
          "color": "#EF8260"
         },
         "name": "val_accuracy2",
         "showlegend": false,
         "type": "scatter",
         "x": [
          0,
          1,
          2,
          3,
          4,
          5,
          6,
          7,
          8,
          9,
          10,
          11,
          12,
          13,
          14
         ],
         "xaxis": "x",
         "y": [
          0.6617283821105957,
          0.6790123581886292,
          0.7020576000213623,
          0.6962962746620178,
          0.7004114985466003,
          0.7086419463157654,
          0.7135802507400513,
          0.7094650268554688,
          0.7135802507400513,
          0.7152263522148132,
          0.7168724536895752,
          0.7168724536895752,
          0.7152263522148132,
          0.7127572298049927,
          0.7111111283302307
         ],
         "yaxis": "y"
        },
        {
         "line": {
          "color": "#EF8260"
         },
         "name": "val_loss2",
         "showlegend": false,
         "type": "scatter",
         "x": [
          0,
          1,
          2,
          3,
          4,
          5,
          6,
          7,
          8,
          9,
          10,
          11,
          12,
          13,
          14
         ],
         "xaxis": "x2",
         "y": [
          0.6229883432388306,
          0.6052110195159912,
          0.5775132179260254,
          0.5632725954055786,
          0.5567438006401062,
          0.555059552192688,
          0.5524552464485168,
          0.5529953837394714,
          0.5515778660774231,
          0.5510300397872925,
          0.5495348572731018,
          0.5492681860923767,
          0.5498694181442261,
          0.5504233241081238,
          0.5501170754432678
         ],
         "yaxis": "y2"
        },
        {
         "line": {
          "color": "#EF8260"
         },
         "name": "profit2",
         "showlegend": false,
         "type": "scatter",
         "x": [
          0,
          1,
          2,
          3,
          4,
          5,
          6,
          7,
          8,
          9,
          10,
          11,
          12,
          13,
          14
         ],
         "xaxis": "x3",
         "y": [
          -7.41,
          -15.08,
          -5.27,
          -11.03,
          -13.33,
          -13.61,
          -18.75,
          -17.81,
          -15.61,
          -14.59,
          -13.45,
          -13.55,
          -12.93,
          -11.27,
          -12.51
         ],
         "yaxis": "y3"
        },
        {
         "line": {
          "color": "#0000ff"
         },
         "name": "accuracy3",
         "showlegend": false,
         "type": "scatter",
         "x": [
          0,
          1,
          2,
          3,
          4,
          5,
          6,
          7,
          8,
          9,
          10,
          11,
          12,
          13,
          14,
          15
         ],
         "xaxis": "x",
         "y": [
          0.6129266619682312,
          0.6811909675598145,
          0.6973130106925964,
          0.7124183177947998,
          0.7148874402046204,
          0.7156136631965637,
          0.7196804881095886,
          0.7220043540000916,
          0.7218590974807739,
          0.724037766456604,
          0.727668821811676,
          0.7275236248970032,
          0.7305737137794495,
          0.7295570373535156,
          0.7286855578422546,
          0.7289760112762451
         ],
         "yaxis": "y"
        },
        {
         "line": {
          "color": "#0000ff"
         },
         "name": "loss3",
         "showlegend": false,
         "type": "scatter",
         "x": [
          0,
          1,
          2,
          3,
          4,
          5,
          6,
          7,
          8,
          9,
          10,
          11,
          12,
          13,
          14,
          15
         ],
         "xaxis": "x2",
         "y": [
          0.6634525656700134,
          0.6021328568458557,
          0.5782525539398193,
          0.5614266991615295,
          0.554644763469696,
          0.5510232448577881,
          0.5475589632987976,
          0.5453020334243774,
          0.545120358467102,
          0.5425155162811279,
          0.5419025421142578,
          0.5411133766174316,
          0.5392723083496094,
          0.5379220247268677,
          0.5384069681167603,
          0.5371515154838562
         ],
         "yaxis": "y2"
        },
        {
         "line": {
          "color": "#EF8260"
         },
         "name": "val_accuracy3",
         "showlegend": false,
         "type": "scatter",
         "x": [
          0,
          1,
          2,
          3,
          4,
          5,
          6,
          7,
          8,
          9,
          10,
          11,
          12,
          13,
          14,
          15
         ],
         "xaxis": "x",
         "y": [
          0.6600822806358337,
          0.6823045015335083,
          0.7028806805610657,
          0.7028806805610657,
          0.6995884776115417,
          0.7053498029708862,
          0.7102880477905273,
          0.7119341492652893,
          0.7168724536895752,
          0.7176954746246338,
          0.7176954746246338,
          0.7144032716751099,
          0.7193415760993958,
          0.7152263522148132,
          0.7168724536895752,
          0.7111111283302307
         ],
         "yaxis": "y"
        },
        {
         "line": {
          "color": "#EF8260"
         },
         "name": "val_loss3",
         "showlegend": false,
         "type": "scatter",
         "x": [
          0,
          1,
          2,
          3,
          4,
          5,
          6,
          7,
          8,
          9,
          10,
          11,
          12,
          13,
          14,
          15
         ],
         "xaxis": "x2",
         "y": [
          0.6228157877922058,
          0.6000097393989563,
          0.5714860558509827,
          0.560600996017456,
          0.5570455193519592,
          0.5560080409049988,
          0.5527743101119995,
          0.5527878403663635,
          0.5502894520759583,
          0.549785852432251,
          0.5496916770935059,
          0.5506311058998108,
          0.5484024286270142,
          0.548880934715271,
          0.5497660636901855,
          0.5496862530708313
         ],
         "yaxis": "y2"
        },
        {
         "line": {
          "color": "#EF8260"
         },
         "name": "profit3",
         "showlegend": false,
         "type": "scatter",
         "x": [
          0,
          1,
          2,
          3,
          4,
          5,
          6,
          7,
          8,
          9,
          10,
          11,
          12,
          13,
          14,
          15
         ],
         "xaxis": "x3",
         "y": [
          -7.99,
          -17.4,
          -12.17,
          -10.87,
          -12.61,
          -12.75,
          -16.07,
          -12.79,
          -14.23,
          -13.61,
          -13.85,
          -14.09,
          -13.09,
          -13.99,
          -12.69,
          -11.85
         ],
         "yaxis": "y3"
        },
        {
         "line": {
          "color": "#0000ff"
         },
         "name": "accuracy4",
         "showlegend": false,
         "type": "scatter",
         "x": [
          0,
          1,
          2,
          3,
          4,
          5,
          6,
          7,
          8,
          9,
          10,
          11,
          12,
          13,
          14,
          15,
          16
         ],
         "xaxis": "x",
         "y": [
          0.5989832878112793,
          0.6740740537643433,
          0.6958605647087097,
          0.7116920948028564,
          0.7128540277481079,
          0.7175018191337585,
          0.7205519080162048,
          0.7218590974807739,
          0.7214233875274658,
          0.7234567999839783,
          0.7241830229759216,
          0.7266521453857422,
          0.7291212677955627,
          0.7279593348503113,
          0.7286855578422546,
          0.7295570373535156,
          0.7310094237327576
         ],
         "yaxis": "y"
        },
        {
         "line": {
          "color": "#0000ff"
         },
         "name": "loss4",
         "showlegend": false,
         "type": "scatter",
         "x": [
          0,
          1,
          2,
          3,
          4,
          5,
          6,
          7,
          8,
          9,
          10,
          11,
          12,
          13,
          14,
          15,
          16
         ],
         "xaxis": "x2",
         "y": [
          0.6674501299858093,
          0.604012131690979,
          0.5815445780754089,
          0.5625737309455872,
          0.5584241151809692,
          0.5534802079200745,
          0.5486857295036316,
          0.5450081825256348,
          0.5443881154060364,
          0.542426347732544,
          0.5422142148017883,
          0.5417419672012329,
          0.5383874177932739,
          0.5383070111274719,
          0.5394964218139648,
          0.5366160273551941,
          0.5346645712852478
         ],
         "yaxis": "y2"
        },
        {
         "line": {
          "color": "#EF8260"
         },
         "name": "val_accuracy4",
         "showlegend": false,
         "type": "scatter",
         "x": [
          0,
          1,
          2,
          3,
          4,
          5,
          6,
          7,
          8,
          9,
          10,
          11,
          12,
          13,
          14,
          15,
          16
         ],
         "xaxis": "x",
         "y": [
          0.6526749134063721,
          0.6790123581886292,
          0.7037037014961243,
          0.6971193552017212,
          0.7004114985466003,
          0.7028806805610657,
          0.7111111283302307,
          0.7102880477905273,
          0.7168724536895752,
          0.7152263522148132,
          0.7168724536895752,
          0.7168724536895752,
          0.7111111283302307,
          0.7152263522148132,
          0.7102880477905273,
          0.7135802507400513,
          0.7152263522148132
         ],
         "yaxis": "y"
        },
        {
         "line": {
          "color": "#EF8260"
         },
         "name": "val_loss4",
         "showlegend": false,
         "type": "scatter",
         "x": [
          0,
          1,
          2,
          3,
          4,
          5,
          6,
          7,
          8,
          9,
          10,
          11,
          12,
          13,
          14,
          15,
          16
         ],
         "xaxis": "x2",
         "y": [
          0.6252692937850952,
          0.6034659743309021,
          0.5757685899734497,
          0.56238853931427,
          0.5597296357154846,
          0.5552043914794922,
          0.5532791614532471,
          0.5531491041183472,
          0.5518510937690735,
          0.551616907119751,
          0.5512495636940002,
          0.551657497882843,
          0.5515926480293274,
          0.550731360912323,
          0.5508595108985901,
          0.5510556101799011,
          0.5507851839065552
         ],
         "yaxis": "y2"
        },
        {
         "line": {
          "color": "#EF8260"
         },
         "name": "profit4",
         "showlegend": false,
         "type": "scatter",
         "x": [
          0,
          1,
          2,
          3,
          4,
          5,
          6,
          7,
          8,
          9,
          10,
          11,
          12,
          13,
          14,
          15,
          16
         ],
         "xaxis": "x3",
         "y": [
          -6.59,
          -15,
          -9.77,
          -9.99,
          -10.53,
          -18.53,
          -17.99,
          -19.19,
          -14.91,
          -14.75,
          -17.35,
          -14.37,
          -12.91,
          -11.61,
          -17.01,
          -11.29,
          -9.63
         ],
         "yaxis": "y3"
        }
       ],
       "layout": {
        "annotations": [
         {
          "font": {
           "size": 16
          },
          "showarrow": false,
          "text": "Accuracy",
          "x": 0.14444444444444446,
          "xanchor": "center",
          "xref": "paper",
          "y": 1,
          "yanchor": "bottom",
          "yref": "paper"
         },
         {
          "font": {
           "size": 16
          },
          "showarrow": false,
          "text": "Loss",
          "x": 0.5,
          "xanchor": "center",
          "xref": "paper",
          "y": 1,
          "yanchor": "bottom",
          "yref": "paper"
         },
         {
          "font": {
           "size": 16
          },
          "showarrow": false,
          "text": "Profit",
          "x": 0.8555555555555556,
          "xanchor": "center",
          "xref": "paper",
          "y": 1,
          "yanchor": "bottom",
          "yref": "paper"
         }
        ],
        "autosize": true,
        "height": 1000,
        "template": {
         "data": {
          "bar": [
           {
            "error_x": {
             "color": "#2a3f5f"
            },
            "error_y": {
             "color": "#2a3f5f"
            },
            "marker": {
             "line": {
              "color": "#E5ECF6",
              "width": 0.5
             },
             "pattern": {
              "fillmode": "overlay",
              "size": 10,
              "solidity": 0.2
             }
            },
            "type": "bar"
           }
          ],
          "barpolar": [
           {
            "marker": {
             "line": {
              "color": "#E5ECF6",
              "width": 0.5
             },
             "pattern": {
              "fillmode": "overlay",
              "size": 10,
              "solidity": 0.2
             }
            },
            "type": "barpolar"
           }
          ],
          "carpet": [
           {
            "aaxis": {
             "endlinecolor": "#2a3f5f",
             "gridcolor": "white",
             "linecolor": "white",
             "minorgridcolor": "white",
             "startlinecolor": "#2a3f5f"
            },
            "baxis": {
             "endlinecolor": "#2a3f5f",
             "gridcolor": "white",
             "linecolor": "white",
             "minorgridcolor": "white",
             "startlinecolor": "#2a3f5f"
            },
            "type": "carpet"
           }
          ],
          "choropleth": [
           {
            "colorbar": {
             "outlinewidth": 0,
             "ticks": ""
            },
            "type": "choropleth"
           }
          ],
          "contour": [
           {
            "colorbar": {
             "outlinewidth": 0,
             "ticks": ""
            },
            "colorscale": [
             [
              0,
              "#0d0887"
             ],
             [
              0.1111111111111111,
              "#46039f"
             ],
             [
              0.2222222222222222,
              "#7201a8"
             ],
             [
              0.3333333333333333,
              "#9c179e"
             ],
             [
              0.4444444444444444,
              "#bd3786"
             ],
             [
              0.5555555555555556,
              "#d8576b"
             ],
             [
              0.6666666666666666,
              "#ed7953"
             ],
             [
              0.7777777777777778,
              "#fb9f3a"
             ],
             [
              0.8888888888888888,
              "#fdca26"
             ],
             [
              1,
              "#f0f921"
             ]
            ],
            "type": "contour"
           }
          ],
          "contourcarpet": [
           {
            "colorbar": {
             "outlinewidth": 0,
             "ticks": ""
            },
            "type": "contourcarpet"
           }
          ],
          "heatmap": [
           {
            "colorbar": {
             "outlinewidth": 0,
             "ticks": ""
            },
            "colorscale": [
             [
              0,
              "#0d0887"
             ],
             [
              0.1111111111111111,
              "#46039f"
             ],
             [
              0.2222222222222222,
              "#7201a8"
             ],
             [
              0.3333333333333333,
              "#9c179e"
             ],
             [
              0.4444444444444444,
              "#bd3786"
             ],
             [
              0.5555555555555556,
              "#d8576b"
             ],
             [
              0.6666666666666666,
              "#ed7953"
             ],
             [
              0.7777777777777778,
              "#fb9f3a"
             ],
             [
              0.8888888888888888,
              "#fdca26"
             ],
             [
              1,
              "#f0f921"
             ]
            ],
            "type": "heatmap"
           }
          ],
          "heatmapgl": [
           {
            "colorbar": {
             "outlinewidth": 0,
             "ticks": ""
            },
            "colorscale": [
             [
              0,
              "#0d0887"
             ],
             [
              0.1111111111111111,
              "#46039f"
             ],
             [
              0.2222222222222222,
              "#7201a8"
             ],
             [
              0.3333333333333333,
              "#9c179e"
             ],
             [
              0.4444444444444444,
              "#bd3786"
             ],
             [
              0.5555555555555556,
              "#d8576b"
             ],
             [
              0.6666666666666666,
              "#ed7953"
             ],
             [
              0.7777777777777778,
              "#fb9f3a"
             ],
             [
              0.8888888888888888,
              "#fdca26"
             ],
             [
              1,
              "#f0f921"
             ]
            ],
            "type": "heatmapgl"
           }
          ],
          "histogram": [
           {
            "marker": {
             "pattern": {
              "fillmode": "overlay",
              "size": 10,
              "solidity": 0.2
             }
            },
            "type": "histogram"
           }
          ],
          "histogram2d": [
           {
            "colorbar": {
             "outlinewidth": 0,
             "ticks": ""
            },
            "colorscale": [
             [
              0,
              "#0d0887"
             ],
             [
              0.1111111111111111,
              "#46039f"
             ],
             [
              0.2222222222222222,
              "#7201a8"
             ],
             [
              0.3333333333333333,
              "#9c179e"
             ],
             [
              0.4444444444444444,
              "#bd3786"
             ],
             [
              0.5555555555555556,
              "#d8576b"
             ],
             [
              0.6666666666666666,
              "#ed7953"
             ],
             [
              0.7777777777777778,
              "#fb9f3a"
             ],
             [
              0.8888888888888888,
              "#fdca26"
             ],
             [
              1,
              "#f0f921"
             ]
            ],
            "type": "histogram2d"
           }
          ],
          "histogram2dcontour": [
           {
            "colorbar": {
             "outlinewidth": 0,
             "ticks": ""
            },
            "colorscale": [
             [
              0,
              "#0d0887"
             ],
             [
              0.1111111111111111,
              "#46039f"
             ],
             [
              0.2222222222222222,
              "#7201a8"
             ],
             [
              0.3333333333333333,
              "#9c179e"
             ],
             [
              0.4444444444444444,
              "#bd3786"
             ],
             [
              0.5555555555555556,
              "#d8576b"
             ],
             [
              0.6666666666666666,
              "#ed7953"
             ],
             [
              0.7777777777777778,
              "#fb9f3a"
             ],
             [
              0.8888888888888888,
              "#fdca26"
             ],
             [
              1,
              "#f0f921"
             ]
            ],
            "type": "histogram2dcontour"
           }
          ],
          "mesh3d": [
           {
            "colorbar": {
             "outlinewidth": 0,
             "ticks": ""
            },
            "type": "mesh3d"
           }
          ],
          "parcoords": [
           {
            "line": {
             "colorbar": {
              "outlinewidth": 0,
              "ticks": ""
             }
            },
            "type": "parcoords"
           }
          ],
          "pie": [
           {
            "automargin": true,
            "type": "pie"
           }
          ],
          "scatter": [
           {
            "fillpattern": {
             "fillmode": "overlay",
             "size": 10,
             "solidity": 0.2
            },
            "type": "scatter"
           }
          ],
          "scatter3d": [
           {
            "line": {
             "colorbar": {
              "outlinewidth": 0,
              "ticks": ""
             }
            },
            "marker": {
             "colorbar": {
              "outlinewidth": 0,
              "ticks": ""
             }
            },
            "type": "scatter3d"
           }
          ],
          "scattercarpet": [
           {
            "marker": {
             "colorbar": {
              "outlinewidth": 0,
              "ticks": ""
             }
            },
            "type": "scattercarpet"
           }
          ],
          "scattergeo": [
           {
            "marker": {
             "colorbar": {
              "outlinewidth": 0,
              "ticks": ""
             }
            },
            "type": "scattergeo"
           }
          ],
          "scattergl": [
           {
            "marker": {
             "colorbar": {
              "outlinewidth": 0,
              "ticks": ""
             }
            },
            "type": "scattergl"
           }
          ],
          "scattermapbox": [
           {
            "marker": {
             "colorbar": {
              "outlinewidth": 0,
              "ticks": ""
             }
            },
            "type": "scattermapbox"
           }
          ],
          "scatterpolar": [
           {
            "marker": {
             "colorbar": {
              "outlinewidth": 0,
              "ticks": ""
             }
            },
            "type": "scatterpolar"
           }
          ],
          "scatterpolargl": [
           {
            "marker": {
             "colorbar": {
              "outlinewidth": 0,
              "ticks": ""
             }
            },
            "type": "scatterpolargl"
           }
          ],
          "scatterternary": [
           {
            "marker": {
             "colorbar": {
              "outlinewidth": 0,
              "ticks": ""
             }
            },
            "type": "scatterternary"
           }
          ],
          "surface": [
           {
            "colorbar": {
             "outlinewidth": 0,
             "ticks": ""
            },
            "colorscale": [
             [
              0,
              "#0d0887"
             ],
             [
              0.1111111111111111,
              "#46039f"
             ],
             [
              0.2222222222222222,
              "#7201a8"
             ],
             [
              0.3333333333333333,
              "#9c179e"
             ],
             [
              0.4444444444444444,
              "#bd3786"
             ],
             [
              0.5555555555555556,
              "#d8576b"
             ],
             [
              0.6666666666666666,
              "#ed7953"
             ],
             [
              0.7777777777777778,
              "#fb9f3a"
             ],
             [
              0.8888888888888888,
              "#fdca26"
             ],
             [
              1,
              "#f0f921"
             ]
            ],
            "type": "surface"
           }
          ],
          "table": [
           {
            "cells": {
             "fill": {
              "color": "#EBF0F8"
             },
             "line": {
              "color": "white"
             }
            },
            "header": {
             "fill": {
              "color": "#C8D4E3"
             },
             "line": {
              "color": "white"
             }
            },
            "type": "table"
           }
          ]
         },
         "layout": {
          "annotationdefaults": {
           "arrowcolor": "#2a3f5f",
           "arrowhead": 0,
           "arrowwidth": 1
          },
          "autotypenumbers": "strict",
          "coloraxis": {
           "colorbar": {
            "outlinewidth": 0,
            "ticks": ""
           }
          },
          "colorscale": {
           "diverging": [
            [
             0,
             "#8e0152"
            ],
            [
             0.1,
             "#c51b7d"
            ],
            [
             0.2,
             "#de77ae"
            ],
            [
             0.3,
             "#f1b6da"
            ],
            [
             0.4,
             "#fde0ef"
            ],
            [
             0.5,
             "#f7f7f7"
            ],
            [
             0.6,
             "#e6f5d0"
            ],
            [
             0.7,
             "#b8e186"
            ],
            [
             0.8,
             "#7fbc41"
            ],
            [
             0.9,
             "#4d9221"
            ],
            [
             1,
             "#276419"
            ]
           ],
           "sequential": [
            [
             0,
             "#0d0887"
            ],
            [
             0.1111111111111111,
             "#46039f"
            ],
            [
             0.2222222222222222,
             "#7201a8"
            ],
            [
             0.3333333333333333,
             "#9c179e"
            ],
            [
             0.4444444444444444,
             "#bd3786"
            ],
            [
             0.5555555555555556,
             "#d8576b"
            ],
            [
             0.6666666666666666,
             "#ed7953"
            ],
            [
             0.7777777777777778,
             "#fb9f3a"
            ],
            [
             0.8888888888888888,
             "#fdca26"
            ],
            [
             1,
             "#f0f921"
            ]
           ],
           "sequentialminus": [
            [
             0,
             "#0d0887"
            ],
            [
             0.1111111111111111,
             "#46039f"
            ],
            [
             0.2222222222222222,
             "#7201a8"
            ],
            [
             0.3333333333333333,
             "#9c179e"
            ],
            [
             0.4444444444444444,
             "#bd3786"
            ],
            [
             0.5555555555555556,
             "#d8576b"
            ],
            [
             0.6666666666666666,
             "#ed7953"
            ],
            [
             0.7777777777777778,
             "#fb9f3a"
            ],
            [
             0.8888888888888888,
             "#fdca26"
            ],
            [
             1,
             "#f0f921"
            ]
           ]
          },
          "colorway": [
           "#636efa",
           "#EF553B",
           "#00cc96",
           "#ab63fa",
           "#FFA15A",
           "#19d3f3",
           "#FF6692",
           "#B6E880",
           "#FF97FF",
           "#FECB52"
          ],
          "font": {
           "color": "#2a3f5f"
          },
          "geo": {
           "bgcolor": "white",
           "lakecolor": "white",
           "landcolor": "#E5ECF6",
           "showlakes": true,
           "showland": true,
           "subunitcolor": "white"
          },
          "hoverlabel": {
           "align": "left"
          },
          "hovermode": "closest",
          "mapbox": {
           "style": "light"
          },
          "paper_bgcolor": "white",
          "plot_bgcolor": "#E5ECF6",
          "polar": {
           "angularaxis": {
            "gridcolor": "white",
            "linecolor": "white",
            "ticks": ""
           },
           "bgcolor": "#E5ECF6",
           "radialaxis": {
            "gridcolor": "white",
            "linecolor": "white",
            "ticks": ""
           }
          },
          "scene": {
           "xaxis": {
            "backgroundcolor": "#E5ECF6",
            "gridcolor": "white",
            "gridwidth": 2,
            "linecolor": "white",
            "showbackground": true,
            "ticks": "",
            "zerolinecolor": "white"
           },
           "yaxis": {
            "backgroundcolor": "#E5ECF6",
            "gridcolor": "white",
            "gridwidth": 2,
            "linecolor": "white",
            "showbackground": true,
            "ticks": "",
            "zerolinecolor": "white"
           },
           "zaxis": {
            "backgroundcolor": "#E5ECF6",
            "gridcolor": "white",
            "gridwidth": 2,
            "linecolor": "white",
            "showbackground": true,
            "ticks": "",
            "zerolinecolor": "white"
           }
          },
          "shapedefaults": {
           "line": {
            "color": "#2a3f5f"
           }
          },
          "ternary": {
           "aaxis": {
            "gridcolor": "white",
            "linecolor": "white",
            "ticks": ""
           },
           "baxis": {
            "gridcolor": "white",
            "linecolor": "white",
            "ticks": ""
           },
           "bgcolor": "#E5ECF6",
           "caxis": {
            "gridcolor": "white",
            "linecolor": "white",
            "ticks": ""
           }
          },
          "title": {
           "x": 0.05
          },
          "xaxis": {
           "automargin": true,
           "gridcolor": "white",
           "linecolor": "white",
           "ticks": "",
           "title": {
            "standoff": 15
           },
           "zerolinecolor": "white",
           "zerolinewidth": 2
          },
          "yaxis": {
           "automargin": true,
           "gridcolor": "white",
           "linecolor": "white",
           "ticks": "",
           "title": {
            "standoff": 15
           },
           "zerolinecolor": "white",
           "zerolinewidth": 2
          }
         }
        },
        "width": 1600,
        "xaxis": {
         "anchor": "y",
         "domain": [
          0,
          0.2888888888888889
         ],
         "title": {
          "text": "epochs"
         }
        },
        "xaxis2": {
         "anchor": "y2",
         "domain": [
          0.35555555555555557,
          0.6444444444444445
         ],
         "title": {
          "text": "epochs"
         }
        },
        "xaxis3": {
         "anchor": "y3",
         "domain": [
          0.7111111111111111,
          1
         ],
         "title": {
          "text": "epochs"
         }
        },
        "yaxis": {
         "anchor": "x",
         "domain": [
          0,
          1
         ],
         "title": {
          "text": ""
         }
        },
        "yaxis2": {
         "anchor": "x2",
         "domain": [
          0,
          1
         ],
         "title": {
          "text": ""
         }
        },
        "yaxis3": {
         "anchor": "x3",
         "domain": [
          0,
          1
         ],
         "title": {
          "text": ""
         }
        }
       }
      }
     },
     "metadata": {},
     "output_type": "display_data"
    },
    {
     "name": "stdout",
     "output_type": "stream",
     "text": [
      "1 Features test start...\n",
      "Train shape: (6885, 10, 6)\n",
      "Timesteps: 10\n",
      "Train Samples: 6885\n",
      "Test Samples: 1215\n",
      "Num features: 6\n",
      "Repeat 0 running...\n"
     ]
    },
    {
     "name": "stderr",
     "output_type": "stream",
     "text": [
      "C:\\Users\\kucha\\AppData\\Roaming\\Python\\Python310\\site-packages\\keras\\src\\layers\\rnn\\rnn.py:204: UserWarning:\n",
      "\n",
      "Do not pass an `input_shape`/`input_dim` argument to a layer. When using Sequential models, prefer using an `Input(shape)` object as the first layer in the model instead.\n",
      "\n"
     ]
    },
    {
     "data": {
      "text/html": [
       "<pre style=\"white-space:pre;overflow-x:auto;line-height:normal;font-family:Menlo,'DejaVu Sans Mono',consolas,'Courier New',monospace\"><span style=\"font-weight: bold\">Model: \"sequential_5\"</span>\n",
       "</pre>\n"
      ],
      "text/plain": [
       "\u001b[1mModel: \"sequential_5\"\u001b[0m\n"
      ]
     },
     "metadata": {},
     "output_type": "display_data"
    },
    {
     "data": {
      "text/html": [
       "<pre style=\"white-space:pre;overflow-x:auto;line-height:normal;font-family:Menlo,'DejaVu Sans Mono',consolas,'Courier New',monospace\">┏━━━━━━━━━━━━━━━━━━━━━━━━━━━━━━━━━┳━━━━━━━━━━━━━━━━━━━━━━━━┳━━━━━━━━━━━━━━━┓\n",
       "┃<span style=\"font-weight: bold\"> Layer (type)                    </span>┃<span style=\"font-weight: bold\"> Output Shape           </span>┃<span style=\"font-weight: bold\">       Param # </span>┃\n",
       "┡━━━━━━━━━━━━━━━━━━━━━━━━━━━━━━━━━╇━━━━━━━━━━━━━━━━━━━━━━━━╇━━━━━━━━━━━━━━━┩\n",
       "│ lstm_16 (<span style=\"color: #0087ff; text-decoration-color: #0087ff\">LSTM</span>)                  │ (<span style=\"color: #00d7ff; text-decoration-color: #00d7ff\">None</span>, <span style=\"color: #00af00; text-decoration-color: #00af00\">10</span>, <span style=\"color: #00af00; text-decoration-color: #00af00\">150</span>)        │        <span style=\"color: #00af00; text-decoration-color: #00af00\">94,200</span> │\n",
       "├─────────────────────────────────┼────────────────────────┼───────────────┤\n",
       "│ dropout_15 (<span style=\"color: #0087ff; text-decoration-color: #0087ff\">Dropout</span>)            │ (<span style=\"color: #00d7ff; text-decoration-color: #00d7ff\">None</span>, <span style=\"color: #00af00; text-decoration-color: #00af00\">10</span>, <span style=\"color: #00af00; text-decoration-color: #00af00\">150</span>)        │             <span style=\"color: #00af00; text-decoration-color: #00af00\">0</span> │\n",
       "├─────────────────────────────────┼────────────────────────┼───────────────┤\n",
       "│ lstm_17 (<span style=\"color: #0087ff; text-decoration-color: #0087ff\">LSTM</span>)                  │ (<span style=\"color: #00d7ff; text-decoration-color: #00d7ff\">None</span>, <span style=\"color: #00af00; text-decoration-color: #00af00\">150</span>)            │       <span style=\"color: #00af00; text-decoration-color: #00af00\">180,600</span> │\n",
       "├─────────────────────────────────┼────────────────────────┼───────────────┤\n",
       "│ dropout_16 (<span style=\"color: #0087ff; text-decoration-color: #0087ff\">Dropout</span>)            │ (<span style=\"color: #00d7ff; text-decoration-color: #00d7ff\">None</span>, <span style=\"color: #00af00; text-decoration-color: #00af00\">150</span>)            │             <span style=\"color: #00af00; text-decoration-color: #00af00\">0</span> │\n",
       "├─────────────────────────────────┼────────────────────────┼───────────────┤\n",
       "│ dense_10 (<span style=\"color: #0087ff; text-decoration-color: #0087ff\">Dense</span>)                │ (<span style=\"color: #00d7ff; text-decoration-color: #00d7ff\">None</span>, <span style=\"color: #00af00; text-decoration-color: #00af00\">75</span>)             │        <span style=\"color: #00af00; text-decoration-color: #00af00\">11,325</span> │\n",
       "├─────────────────────────────────┼────────────────────────┼───────────────┤\n",
       "│ dropout_17 (<span style=\"color: #0087ff; text-decoration-color: #0087ff\">Dropout</span>)            │ (<span style=\"color: #00d7ff; text-decoration-color: #00d7ff\">None</span>, <span style=\"color: #00af00; text-decoration-color: #00af00\">75</span>)             │             <span style=\"color: #00af00; text-decoration-color: #00af00\">0</span> │\n",
       "├─────────────────────────────────┼────────────────────────┼───────────────┤\n",
       "│ dense_11 (<span style=\"color: #0087ff; text-decoration-color: #0087ff\">Dense</span>)                │ (<span style=\"color: #00d7ff; text-decoration-color: #00d7ff\">None</span>, <span style=\"color: #00af00; text-decoration-color: #00af00\">2</span>)              │           <span style=\"color: #00af00; text-decoration-color: #00af00\">152</span> │\n",
       "└─────────────────────────────────┴────────────────────────┴───────────────┘\n",
       "</pre>\n"
      ],
      "text/plain": [
       "┏━━━━━━━━━━━━━━━━━━━━━━━━━━━━━━━━━┳━━━━━━━━━━━━━━━━━━━━━━━━┳━━━━━━━━━━━━━━━┓\n",
       "┃\u001b[1m \u001b[0m\u001b[1mLayer (type)                   \u001b[0m\u001b[1m \u001b[0m┃\u001b[1m \u001b[0m\u001b[1mOutput Shape          \u001b[0m\u001b[1m \u001b[0m┃\u001b[1m \u001b[0m\u001b[1m      Param #\u001b[0m\u001b[1m \u001b[0m┃\n",
       "┡━━━━━━━━━━━━━━━━━━━━━━━━━━━━━━━━━╇━━━━━━━━━━━━━━━━━━━━━━━━╇━━━━━━━━━━━━━━━┩\n",
       "│ lstm_16 (\u001b[38;5;33mLSTM\u001b[0m)                  │ (\u001b[38;5;45mNone\u001b[0m, \u001b[38;5;34m10\u001b[0m, \u001b[38;5;34m150\u001b[0m)        │        \u001b[38;5;34m94,200\u001b[0m │\n",
       "├─────────────────────────────────┼────────────────────────┼───────────────┤\n",
       "│ dropout_15 (\u001b[38;5;33mDropout\u001b[0m)            │ (\u001b[38;5;45mNone\u001b[0m, \u001b[38;5;34m10\u001b[0m, \u001b[38;5;34m150\u001b[0m)        │             \u001b[38;5;34m0\u001b[0m │\n",
       "├─────────────────────────────────┼────────────────────────┼───────────────┤\n",
       "│ lstm_17 (\u001b[38;5;33mLSTM\u001b[0m)                  │ (\u001b[38;5;45mNone\u001b[0m, \u001b[38;5;34m150\u001b[0m)            │       \u001b[38;5;34m180,600\u001b[0m │\n",
       "├─────────────────────────────────┼────────────────────────┼───────────────┤\n",
       "│ dropout_16 (\u001b[38;5;33mDropout\u001b[0m)            │ (\u001b[38;5;45mNone\u001b[0m, \u001b[38;5;34m150\u001b[0m)            │             \u001b[38;5;34m0\u001b[0m │\n",
       "├─────────────────────────────────┼────────────────────────┼───────────────┤\n",
       "│ dense_10 (\u001b[38;5;33mDense\u001b[0m)                │ (\u001b[38;5;45mNone\u001b[0m, \u001b[38;5;34m75\u001b[0m)             │        \u001b[38;5;34m11,325\u001b[0m │\n",
       "├─────────────────────────────────┼────────────────────────┼───────────────┤\n",
       "│ dropout_17 (\u001b[38;5;33mDropout\u001b[0m)            │ (\u001b[38;5;45mNone\u001b[0m, \u001b[38;5;34m75\u001b[0m)             │             \u001b[38;5;34m0\u001b[0m │\n",
       "├─────────────────────────────────┼────────────────────────┼───────────────┤\n",
       "│ dense_11 (\u001b[38;5;33mDense\u001b[0m)                │ (\u001b[38;5;45mNone\u001b[0m, \u001b[38;5;34m2\u001b[0m)              │           \u001b[38;5;34m152\u001b[0m │\n",
       "└─────────────────────────────────┴────────────────────────┴───────────────┘\n"
      ]
     },
     "metadata": {},
     "output_type": "display_data"
    },
    {
     "data": {
      "text/html": [
       "<pre style=\"white-space:pre;overflow-x:auto;line-height:normal;font-family:Menlo,'DejaVu Sans Mono',consolas,'Courier New',monospace\"><span style=\"font-weight: bold\"> Total params: </span><span style=\"color: #00af00; text-decoration-color: #00af00\">286,277</span> (1.09 MB)\n",
       "</pre>\n"
      ],
      "text/plain": [
       "\u001b[1m Total params: \u001b[0m\u001b[38;5;34m286,277\u001b[0m (1.09 MB)\n"
      ]
     },
     "metadata": {},
     "output_type": "display_data"
    },
    {
     "data": {
      "text/html": [
       "<pre style=\"white-space:pre;overflow-x:auto;line-height:normal;font-family:Menlo,'DejaVu Sans Mono',consolas,'Courier New',monospace\"><span style=\"font-weight: bold\"> Trainable params: </span><span style=\"color: #00af00; text-decoration-color: #00af00\">286,277</span> (1.09 MB)\n",
       "</pre>\n"
      ],
      "text/plain": [
       "\u001b[1m Trainable params: \u001b[0m\u001b[38;5;34m286,277\u001b[0m (1.09 MB)\n"
      ]
     },
     "metadata": {},
     "output_type": "display_data"
    },
    {
     "data": {
      "text/html": [
       "<pre style=\"white-space:pre;overflow-x:auto;line-height:normal;font-family:Menlo,'DejaVu Sans Mono',consolas,'Courier New',monospace\"><span style=\"font-weight: bold\"> Non-trainable params: </span><span style=\"color: #00af00; text-decoration-color: #00af00\">0</span> (0.00 B)\n",
       "</pre>\n"
      ],
      "text/plain": [
       "\u001b[1m Non-trainable params: \u001b[0m\u001b[38;5;34m0\u001b[0m (0.00 B)\n"
      ]
     },
     "metadata": {},
     "output_type": "display_data"
    },
    {
     "name": "stdout",
     "output_type": "stream",
     "text": [
      "Epoch 1/40\n",
      "\n",
      "Epoch 1: val_loss improved from inf to 0.60307, saving model to ./saved_models/last_saved_model.keras\n",
      "\u001b[1m19/19\u001b[0m \u001b[32m━━━━━━━━━━━━━━━━━━━━\u001b[0m\u001b[37m\u001b[0m \u001b[1m2s\u001b[0m 76ms/step\n",
      "New best model saved, previous best profit -> First\n",
      "Profit: -10.74\n",
      "108/108 - 15s - 143ms/step - accuracy: 0.6469 - loss: 0.6305 - val_accuracy: 0.6675 - val_loss: 0.6031\n",
      "Epoch 2/40\n",
      "\n",
      "Epoch 2: val_loss improved from 0.60307 to 0.58429, saving model to ./saved_models/last_saved_model.keras\n",
      "\u001b[1m19/19\u001b[0m \u001b[32m━━━━━━━━━━━━━━━━━━━━\u001b[0m\u001b[37m\u001b[0m \u001b[1m1s\u001b[0m 25ms/step\n",
      "New best model saved, previous best profit -> -10.74\n",
      "Profit: -8.56\n",
      "108/108 - 8s - 71ms/step - accuracy: 0.6874 - loss: 0.5909 - val_accuracy: 0.6848 - val_loss: 0.5843\n",
      "Epoch 3/40\n",
      "\n",
      "Epoch 3: val_loss improved from 0.58429 to 0.56548, saving model to ./saved_models/last_saved_model.keras\n",
      "\u001b[1m19/19\u001b[0m \u001b[32m━━━━━━━━━━━━━━━━━━━━\u001b[0m\u001b[37m\u001b[0m \u001b[1m1s\u001b[0m 37ms/step\n",
      "Profit: -15.31\n",
      "108/108 - 8s - 73ms/step - accuracy: 0.7078 - loss: 0.5699 - val_accuracy: 0.7062 - val_loss: 0.5655\n",
      "Epoch 4/40\n",
      "\n",
      "Epoch 4: val_loss improved from 0.56548 to 0.55355, saving model to ./saved_models/last_saved_model.keras\n",
      "\u001b[1m19/19\u001b[0m \u001b[32m━━━━━━━━━━━━━━━━━━━━\u001b[0m\u001b[37m\u001b[0m \u001b[1m1s\u001b[0m 29ms/step\n",
      "Profit: -14.66\n",
      "108/108 - 8s - 74ms/step - accuracy: 0.7165 - loss: 0.5568 - val_accuracy: 0.7185 - val_loss: 0.5536\n",
      "Epoch 5/40\n",
      "\n",
      "Epoch 5: val_loss improved from 0.55355 to 0.54927, saving model to ./saved_models/last_saved_model.keras\n",
      "\u001b[1m19/19\u001b[0m \u001b[32m━━━━━━━━━━━━━━━━━━━━\u001b[0m\u001b[37m\u001b[0m \u001b[1m0s\u001b[0m 23ms/step\n",
      "Profit: -11.64\n",
      "108/108 - 8s - 78ms/step - accuracy: 0.7160 - loss: 0.5478 - val_accuracy: 0.7193 - val_loss: 0.5493\n",
      "Epoch 6/40\n",
      "\n",
      "Epoch 6: val_loss did not improve from 0.54927\n",
      "\u001b[1m19/19\u001b[0m \u001b[32m━━━━━━━━━━━━━━━━━━━━\u001b[0m\u001b[37m\u001b[0m \u001b[1m0s\u001b[0m 22ms/step\n",
      "Profit: -13.62\n",
      "108/108 - 6s - 59ms/step - accuracy: 0.7258 - loss: 0.5431 - val_accuracy: 0.7144 - val_loss: 0.5499\n",
      "Epoch 7/40\n",
      "\n",
      "Epoch 7: val_loss improved from 0.54927 to 0.54709, saving model to ./saved_models/last_saved_model.keras\n",
      "\u001b[1m19/19\u001b[0m \u001b[32m━━━━━━━━━━━━━━━━━━━━\u001b[0m\u001b[37m\u001b[0m \u001b[1m1s\u001b[0m 34ms/step\n",
      "Profit: -14.06\n",
      "108/108 - 7s - 65ms/step - accuracy: 0.7262 - loss: 0.5409 - val_accuracy: 0.7119 - val_loss: 0.5471\n",
      "Epoch 8/40\n",
      "\n",
      "Epoch 8: val_loss improved from 0.54709 to 0.54685, saving model to ./saved_models/last_saved_model.keras\n",
      "\u001b[1m19/19\u001b[0m \u001b[32m━━━━━━━━━━━━━━━━━━━━\u001b[0m\u001b[37m\u001b[0m \u001b[1m0s\u001b[0m 25ms/step\n",
      "Profit: -12.84\n",
      "108/108 - 7s - 63ms/step - accuracy: 0.7291 - loss: 0.5374 - val_accuracy: 0.7152 - val_loss: 0.5468\n",
      "Epoch 9/40\n",
      "\n",
      "Epoch 9: val_loss improved from 0.54685 to 0.54544, saving model to ./saved_models/last_saved_model.keras\n",
      "\u001b[1m19/19\u001b[0m \u001b[32m━━━━━━━━━━━━━━━━━━━━\u001b[0m\u001b[37m\u001b[0m \u001b[1m1s\u001b[0m 28ms/step\n",
      "Profit: -17.68\n",
      "108/108 - 8s - 72ms/step - accuracy: 0.7285 - loss: 0.5369 - val_accuracy: 0.7144 - val_loss: 0.5454\n",
      "Epoch 10/40\n",
      "\n",
      "Epoch 10: val_loss did not improve from 0.54544\n",
      "\u001b[1m19/19\u001b[0m \u001b[32m━━━━━━━━━━━━━━━━━━━━\u001b[0m\u001b[37m\u001b[0m \u001b[1m0s\u001b[0m 18ms/step\n",
      "Profit: -16.26\n",
      "108/108 - 7s - 62ms/step - accuracy: 0.7297 - loss: 0.5328 - val_accuracy: 0.7128 - val_loss: 0.5457\n",
      "Epoch 11/40\n",
      "\n",
      "Epoch 11: val_loss did not improve from 0.54544\n",
      "\u001b[1m19/19\u001b[0m \u001b[32m━━━━━━━━━━━━━━━━━━━━\u001b[0m\u001b[37m\u001b[0m \u001b[1m0s\u001b[0m 21ms/step\n",
      "Profit: -14.24\n",
      "108/108 - 6s - 57ms/step - accuracy: 0.7319 - loss: 0.5331 - val_accuracy: 0.7103 - val_loss: 0.5462\n",
      "Epoch 12/40\n",
      "\n",
      "Epoch 12: val_loss improved from 0.54544 to 0.54522, saving model to ./saved_models/last_saved_model.keras\n",
      "\u001b[1m19/19\u001b[0m \u001b[32m━━━━━━━━━━━━━━━━━━━━\u001b[0m\u001b[37m\u001b[0m \u001b[1m0s\u001b[0m 25ms/step\n",
      "Profit: -12.7\n",
      "108/108 - 7s - 64ms/step - accuracy: 0.7335 - loss: 0.5326 - val_accuracy: 0.7185 - val_loss: 0.5452\n",
      "Epoch 13/40\n",
      "\n",
      "Epoch 13: val_loss improved from 0.54522 to 0.54452, saving model to ./saved_models/last_saved_model.keras\n",
      "\u001b[1m19/19\u001b[0m \u001b[32m━━━━━━━━━━━━━━━━━━━━\u001b[0m\u001b[37m\u001b[0m \u001b[1m0s\u001b[0m 20ms/step\n",
      "Profit: -17.28\n",
      "108/108 - 7s - 65ms/step - accuracy: 0.7336 - loss: 0.5316 - val_accuracy: 0.7152 - val_loss: 0.5445\n",
      "Epoch 14/40\n",
      "\n",
      "Epoch 14: val_loss improved from 0.54452 to 0.54422, saving model to ./saved_models/last_saved_model.keras\n",
      "\u001b[1m19/19\u001b[0m \u001b[32m━━━━━━━━━━━━━━━━━━━━\u001b[0m\u001b[37m\u001b[0m \u001b[1m0s\u001b[0m 23ms/step\n",
      "Profit: -15.7\n",
      "108/108 - 7s - 62ms/step - accuracy: 0.7317 - loss: 0.5307 - val_accuracy: 0.7210 - val_loss: 0.5442\n",
      "Epoch 15/40\n",
      "\n",
      "Epoch 15: val_loss did not improve from 0.54422\n",
      "\u001b[1m19/19\u001b[0m \u001b[32m━━━━━━━━━━━━━━━━━━━━\u001b[0m\u001b[37m\u001b[0m \u001b[1m0s\u001b[0m 20ms/step\n",
      "Profit: -13.92\n",
      "108/108 - 10s - 94ms/step - accuracy: 0.7338 - loss: 0.5298 - val_accuracy: 0.7193 - val_loss: 0.5465\n",
      "Epoch 16/40\n",
      "\n",
      "Epoch 16: val_loss improved from 0.54422 to 0.54380, saving model to ./saved_models/last_saved_model.keras\n",
      "\u001b[1m19/19\u001b[0m \u001b[32m━━━━━━━━━━━━━━━━━━━━\u001b[0m\u001b[37m\u001b[0m \u001b[1m0s\u001b[0m 20ms/step\n",
      "Profit: -12.3\n",
      "108/108 - 7s - 63ms/step - accuracy: 0.7338 - loss: 0.5271 - val_accuracy: 0.7202 - val_loss: 0.5438\n",
      "Epoch 17/40\n",
      "\n",
      "Epoch 17: val_loss did not improve from 0.54380\n",
      "\u001b[1m19/19\u001b[0m \u001b[32m━━━━━━━━━━━━━━━━━━━━\u001b[0m\u001b[37m\u001b[0m \u001b[1m0s\u001b[0m 18ms/step\n",
      "Profit: -11.6\n",
      "108/108 - 6s - 57ms/step - accuracy: 0.7358 - loss: 0.5277 - val_accuracy: 0.7185 - val_loss: 0.5459\n",
      "Epoch 18/40\n",
      "\n",
      "Epoch 18: val_loss did not improve from 0.54380\n",
      "\u001b[1m19/19\u001b[0m \u001b[32m━━━━━━━━━━━━━━━━━━━━\u001b[0m\u001b[37m\u001b[0m \u001b[1m0s\u001b[0m 18ms/step\n",
      "Profit: -13.72\n",
      "108/108 - 6s - 59ms/step - accuracy: 0.7342 - loss: 0.5261 - val_accuracy: 0.7177 - val_loss: 0.5443\n",
      "Epoch 19/40\n",
      "\n",
      "Epoch 19: val_loss improved from 0.54380 to 0.54379, saving model to ./saved_models/last_saved_model.keras\n",
      "\u001b[1m19/19\u001b[0m \u001b[32m━━━━━━━━━━━━━━━━━━━━\u001b[0m\u001b[37m\u001b[0m \u001b[1m0s\u001b[0m 18ms/step\n",
      "Profit: -11.48\n",
      "108/108 - 6s - 54ms/step - accuracy: 0.7377 - loss: 0.5254 - val_accuracy: 0.7218 - val_loss: 0.5438\n",
      "Epoch 20/40\n",
      "\n",
      "Epoch 20: val_loss did not improve from 0.54379\n",
      "\u001b[1m19/19\u001b[0m \u001b[32m━━━━━━━━━━━━━━━━━━━━\u001b[0m\u001b[37m\u001b[0m \u001b[1m0s\u001b[0m 19ms/step\n",
      "Profit: -11.62\n",
      "108/108 - 6s - 59ms/step - accuracy: 0.7349 - loss: 0.5241 - val_accuracy: 0.7193 - val_loss: 0.5461\n",
      "Epoch 21/40\n",
      "\n",
      "Epoch 21: val_loss did not improve from 0.54379\n",
      "\u001b[1m19/19\u001b[0m \u001b[32m━━━━━━━━━━━━━━━━━━━━\u001b[0m\u001b[37m\u001b[0m \u001b[1m0s\u001b[0m 19ms/step\n",
      "Profit: -11.46\n",
      "108/108 - 6s - 57ms/step - accuracy: 0.7368 - loss: 0.5217 - val_accuracy: 0.7169 - val_loss: 0.5449\n",
      "Epoch 22/40\n",
      "\n",
      "Epoch 22: val_loss did not improve from 0.54379\n",
      "\u001b[1m19/19\u001b[0m \u001b[32m━━━━━━━━━━━━━━━━━━━━\u001b[0m\u001b[37m\u001b[0m \u001b[1m0s\u001b[0m 19ms/step\n",
      "Profit: -11.26\n",
      "108/108 - 6s - 58ms/step - accuracy: 0.7362 - loss: 0.5222 - val_accuracy: 0.7193 - val_loss: 0.5440\n",
      "\u001b[1m19/19\u001b[0m \u001b[32m━━━━━━━━━━━━━━━━━━━━\u001b[0m\u001b[37m\u001b[0m \u001b[1m3s\u001b[0m 144ms/step\n",
      "Repeat 1 running...\n"
     ]
    },
    {
     "name": "stderr",
     "output_type": "stream",
     "text": [
      "C:\\Users\\kucha\\AppData\\Roaming\\Python\\Python310\\site-packages\\keras\\src\\layers\\rnn\\rnn.py:204: UserWarning:\n",
      "\n",
      "Do not pass an `input_shape`/`input_dim` argument to a layer. When using Sequential models, prefer using an `Input(shape)` object as the first layer in the model instead.\n",
      "\n"
     ]
    },
    {
     "data": {
      "text/html": [
       "<pre style=\"white-space:pre;overflow-x:auto;line-height:normal;font-family:Menlo,'DejaVu Sans Mono',consolas,'Courier New',monospace\"><span style=\"font-weight: bold\">Model: \"sequential_6\"</span>\n",
       "</pre>\n"
      ],
      "text/plain": [
       "\u001b[1mModel: \"sequential_6\"\u001b[0m\n"
      ]
     },
     "metadata": {},
     "output_type": "display_data"
    },
    {
     "data": {
      "text/html": [
       "<pre style=\"white-space:pre;overflow-x:auto;line-height:normal;font-family:Menlo,'DejaVu Sans Mono',consolas,'Courier New',monospace\">┏━━━━━━━━━━━━━━━━━━━━━━━━━━━━━━━━━┳━━━━━━━━━━━━━━━━━━━━━━━━┳━━━━━━━━━━━━━━━┓\n",
       "┃<span style=\"font-weight: bold\"> Layer (type)                    </span>┃<span style=\"font-weight: bold\"> Output Shape           </span>┃<span style=\"font-weight: bold\">       Param # </span>┃\n",
       "┡━━━━━━━━━━━━━━━━━━━━━━━━━━━━━━━━━╇━━━━━━━━━━━━━━━━━━━━━━━━╇━━━━━━━━━━━━━━━┩\n",
       "│ lstm_19 (<span style=\"color: #0087ff; text-decoration-color: #0087ff\">LSTM</span>)                  │ (<span style=\"color: #00d7ff; text-decoration-color: #00d7ff\">None</span>, <span style=\"color: #00af00; text-decoration-color: #00af00\">10</span>, <span style=\"color: #00af00; text-decoration-color: #00af00\">150</span>)        │        <span style=\"color: #00af00; text-decoration-color: #00af00\">94,200</span> │\n",
       "├─────────────────────────────────┼────────────────────────┼───────────────┤\n",
       "│ dropout_18 (<span style=\"color: #0087ff; text-decoration-color: #0087ff\">Dropout</span>)            │ (<span style=\"color: #00d7ff; text-decoration-color: #00d7ff\">None</span>, <span style=\"color: #00af00; text-decoration-color: #00af00\">10</span>, <span style=\"color: #00af00; text-decoration-color: #00af00\">150</span>)        │             <span style=\"color: #00af00; text-decoration-color: #00af00\">0</span> │\n",
       "├─────────────────────────────────┼────────────────────────┼───────────────┤\n",
       "│ lstm_20 (<span style=\"color: #0087ff; text-decoration-color: #0087ff\">LSTM</span>)                  │ (<span style=\"color: #00d7ff; text-decoration-color: #00d7ff\">None</span>, <span style=\"color: #00af00; text-decoration-color: #00af00\">150</span>)            │       <span style=\"color: #00af00; text-decoration-color: #00af00\">180,600</span> │\n",
       "├─────────────────────────────────┼────────────────────────┼───────────────┤\n",
       "│ dropout_19 (<span style=\"color: #0087ff; text-decoration-color: #0087ff\">Dropout</span>)            │ (<span style=\"color: #00d7ff; text-decoration-color: #00d7ff\">None</span>, <span style=\"color: #00af00; text-decoration-color: #00af00\">150</span>)            │             <span style=\"color: #00af00; text-decoration-color: #00af00\">0</span> │\n",
       "├─────────────────────────────────┼────────────────────────┼───────────────┤\n",
       "│ dense_12 (<span style=\"color: #0087ff; text-decoration-color: #0087ff\">Dense</span>)                │ (<span style=\"color: #00d7ff; text-decoration-color: #00d7ff\">None</span>, <span style=\"color: #00af00; text-decoration-color: #00af00\">75</span>)             │        <span style=\"color: #00af00; text-decoration-color: #00af00\">11,325</span> │\n",
       "├─────────────────────────────────┼────────────────────────┼───────────────┤\n",
       "│ dropout_20 (<span style=\"color: #0087ff; text-decoration-color: #0087ff\">Dropout</span>)            │ (<span style=\"color: #00d7ff; text-decoration-color: #00d7ff\">None</span>, <span style=\"color: #00af00; text-decoration-color: #00af00\">75</span>)             │             <span style=\"color: #00af00; text-decoration-color: #00af00\">0</span> │\n",
       "├─────────────────────────────────┼────────────────────────┼───────────────┤\n",
       "│ dense_13 (<span style=\"color: #0087ff; text-decoration-color: #0087ff\">Dense</span>)                │ (<span style=\"color: #00d7ff; text-decoration-color: #00d7ff\">None</span>, <span style=\"color: #00af00; text-decoration-color: #00af00\">2</span>)              │           <span style=\"color: #00af00; text-decoration-color: #00af00\">152</span> │\n",
       "└─────────────────────────────────┴────────────────────────┴───────────────┘\n",
       "</pre>\n"
      ],
      "text/plain": [
       "┏━━━━━━━━━━━━━━━━━━━━━━━━━━━━━━━━━┳━━━━━━━━━━━━━━━━━━━━━━━━┳━━━━━━━━━━━━━━━┓\n",
       "┃\u001b[1m \u001b[0m\u001b[1mLayer (type)                   \u001b[0m\u001b[1m \u001b[0m┃\u001b[1m \u001b[0m\u001b[1mOutput Shape          \u001b[0m\u001b[1m \u001b[0m┃\u001b[1m \u001b[0m\u001b[1m      Param #\u001b[0m\u001b[1m \u001b[0m┃\n",
       "┡━━━━━━━━━━━━━━━━━━━━━━━━━━━━━━━━━╇━━━━━━━━━━━━━━━━━━━━━━━━╇━━━━━━━━━━━━━━━┩\n",
       "│ lstm_19 (\u001b[38;5;33mLSTM\u001b[0m)                  │ (\u001b[38;5;45mNone\u001b[0m, \u001b[38;5;34m10\u001b[0m, \u001b[38;5;34m150\u001b[0m)        │        \u001b[38;5;34m94,200\u001b[0m │\n",
       "├─────────────────────────────────┼────────────────────────┼───────────────┤\n",
       "│ dropout_18 (\u001b[38;5;33mDropout\u001b[0m)            │ (\u001b[38;5;45mNone\u001b[0m, \u001b[38;5;34m10\u001b[0m, \u001b[38;5;34m150\u001b[0m)        │             \u001b[38;5;34m0\u001b[0m │\n",
       "├─────────────────────────────────┼────────────────────────┼───────────────┤\n",
       "│ lstm_20 (\u001b[38;5;33mLSTM\u001b[0m)                  │ (\u001b[38;5;45mNone\u001b[0m, \u001b[38;5;34m150\u001b[0m)            │       \u001b[38;5;34m180,600\u001b[0m │\n",
       "├─────────────────────────────────┼────────────────────────┼───────────────┤\n",
       "│ dropout_19 (\u001b[38;5;33mDropout\u001b[0m)            │ (\u001b[38;5;45mNone\u001b[0m, \u001b[38;5;34m150\u001b[0m)            │             \u001b[38;5;34m0\u001b[0m │\n",
       "├─────────────────────────────────┼────────────────────────┼───────────────┤\n",
       "│ dense_12 (\u001b[38;5;33mDense\u001b[0m)                │ (\u001b[38;5;45mNone\u001b[0m, \u001b[38;5;34m75\u001b[0m)             │        \u001b[38;5;34m11,325\u001b[0m │\n",
       "├─────────────────────────────────┼────────────────────────┼───────────────┤\n",
       "│ dropout_20 (\u001b[38;5;33mDropout\u001b[0m)            │ (\u001b[38;5;45mNone\u001b[0m, \u001b[38;5;34m75\u001b[0m)             │             \u001b[38;5;34m0\u001b[0m │\n",
       "├─────────────────────────────────┼────────────────────────┼───────────────┤\n",
       "│ dense_13 (\u001b[38;5;33mDense\u001b[0m)                │ (\u001b[38;5;45mNone\u001b[0m, \u001b[38;5;34m2\u001b[0m)              │           \u001b[38;5;34m152\u001b[0m │\n",
       "└─────────────────────────────────┴────────────────────────┴───────────────┘\n"
      ]
     },
     "metadata": {},
     "output_type": "display_data"
    },
    {
     "data": {
      "text/html": [
       "<pre style=\"white-space:pre;overflow-x:auto;line-height:normal;font-family:Menlo,'DejaVu Sans Mono',consolas,'Courier New',monospace\"><span style=\"font-weight: bold\"> Total params: </span><span style=\"color: #00af00; text-decoration-color: #00af00\">286,277</span> (1.09 MB)\n",
       "</pre>\n"
      ],
      "text/plain": [
       "\u001b[1m Total params: \u001b[0m\u001b[38;5;34m286,277\u001b[0m (1.09 MB)\n"
      ]
     },
     "metadata": {},
     "output_type": "display_data"
    },
    {
     "data": {
      "text/html": [
       "<pre style=\"white-space:pre;overflow-x:auto;line-height:normal;font-family:Menlo,'DejaVu Sans Mono',consolas,'Courier New',monospace\"><span style=\"font-weight: bold\"> Trainable params: </span><span style=\"color: #00af00; text-decoration-color: #00af00\">286,277</span> (1.09 MB)\n",
       "</pre>\n"
      ],
      "text/plain": [
       "\u001b[1m Trainable params: \u001b[0m\u001b[38;5;34m286,277\u001b[0m (1.09 MB)\n"
      ]
     },
     "metadata": {},
     "output_type": "display_data"
    },
    {
     "data": {
      "text/html": [
       "<pre style=\"white-space:pre;overflow-x:auto;line-height:normal;font-family:Menlo,'DejaVu Sans Mono',consolas,'Courier New',monospace\"><span style=\"font-weight: bold\"> Non-trainable params: </span><span style=\"color: #00af00; text-decoration-color: #00af00\">0</span> (0.00 B)\n",
       "</pre>\n"
      ],
      "text/plain": [
       "\u001b[1m Non-trainable params: \u001b[0m\u001b[38;5;34m0\u001b[0m (0.00 B)\n"
      ]
     },
     "metadata": {},
     "output_type": "display_data"
    },
    {
     "name": "stdout",
     "output_type": "stream",
     "text": [
      "Epoch 1/40\n",
      "\n",
      "Epoch 1: val_loss improved from inf to 0.62465, saving model to ./saved_models/last_saved_model.keras\n",
      "\u001b[1m19/19\u001b[0m \u001b[32m━━━━━━━━━━━━━━━━━━━━\u001b[0m\u001b[37m\u001b[0m \u001b[1m1s\u001b[0m 56ms/step\n",
      "New best model saved, previous best profit -> -8.56\n",
      "Profit: -6.84\n",
      "108/108 - 13s - 118ms/step - accuracy: 0.6139 - loss: 0.6602 - val_accuracy: 0.6601 - val_loss: 0.6246\n",
      "Epoch 2/40\n",
      "\n",
      "Epoch 2: val_loss improved from 0.62465 to 0.60143, saving model to ./saved_models/last_saved_model.keras\n",
      "\u001b[1m19/19\u001b[0m \u001b[32m━━━━━━━━━━━━━━━━━━━━\u001b[0m\u001b[37m\u001b[0m \u001b[1m0s\u001b[0m 18ms/step\n",
      "Profit: -10.96\n",
      "108/108 - 6s - 59ms/step - accuracy: 0.6754 - loss: 0.6058 - val_accuracy: 0.6848 - val_loss: 0.6014\n",
      "Epoch 3/40\n",
      "\n",
      "Epoch 3: val_loss improved from 0.60143 to 0.57533, saving model to ./saved_models/last_saved_model.keras\n",
      "\u001b[1m19/19\u001b[0m \u001b[32m━━━━━━━━━━━━━━━━━━━━\u001b[0m\u001b[37m\u001b[0m \u001b[1m0s\u001b[0m 20ms/step\n",
      "Profit: -13.35\n",
      "108/108 - 7s - 61ms/step - accuracy: 0.6988 - loss: 0.5792 - val_accuracy: 0.7021 - val_loss: 0.5753\n",
      "Epoch 4/40\n",
      "\n",
      "Epoch 4: val_loss improved from 0.57533 to 0.56303, saving model to ./saved_models/last_saved_model.keras\n",
      "\u001b[1m19/19\u001b[0m \u001b[32m━━━━━━━━━━━━━━━━━━━━\u001b[0m\u001b[37m\u001b[0m \u001b[1m0s\u001b[0m 23ms/step\n",
      "Profit: -15.21\n",
      "108/108 - 7s - 66ms/step - accuracy: 0.7123 - loss: 0.5644 - val_accuracy: 0.7037 - val_loss: 0.5630\n",
      "Epoch 5/40\n",
      "\n",
      "Epoch 5: val_loss improved from 0.56303 to 0.55791, saving model to ./saved_models/last_saved_model.keras\n",
      "\u001b[1m19/19\u001b[0m \u001b[32m━━━━━━━━━━━━━━━━━━━━\u001b[0m\u001b[37m\u001b[0m \u001b[1m0s\u001b[0m 21ms/step\n",
      "Profit: -9.93\n",
      "108/108 - 7s - 67ms/step - accuracy: 0.7182 - loss: 0.5543 - val_accuracy: 0.6971 - val_loss: 0.5579\n",
      "Epoch 6/40\n",
      "\n",
      "Epoch 6: val_loss improved from 0.55791 to 0.55546, saving model to ./saved_models/last_saved_model.keras\n",
      "\u001b[1m19/19\u001b[0m \u001b[32m━━━━━━━━━━━━━━━━━━━━\u001b[0m\u001b[37m\u001b[0m \u001b[1m0s\u001b[0m 23ms/step\n",
      "Profit: -14.41\n",
      "108/108 - 10s - 92ms/step - accuracy: 0.7200 - loss: 0.5520 - val_accuracy: 0.7062 - val_loss: 0.5555\n",
      "Epoch 7/40\n",
      "\n",
      "Epoch 7: val_loss improved from 0.55546 to 0.55348, saving model to ./saved_models/last_saved_model.keras\n",
      "\u001b[1m19/19\u001b[0m \u001b[32m━━━━━━━━━━━━━━━━━━━━\u001b[0m\u001b[37m\u001b[0m \u001b[1m0s\u001b[0m 18ms/step\n",
      "Profit: -12.95\n",
      "108/108 - 6s - 60ms/step - accuracy: 0.7235 - loss: 0.5478 - val_accuracy: 0.7103 - val_loss: 0.5535\n",
      "Epoch 8/40\n",
      "\n",
      "Epoch 8: val_loss improved from 0.55348 to 0.55124, saving model to ./saved_models/last_saved_model.keras\n",
      "\u001b[1m19/19\u001b[0m \u001b[32m━━━━━━━━━━━━━━━━━━━━\u001b[0m\u001b[37m\u001b[0m \u001b[1m0s\u001b[0m 20ms/step\n",
      "Profit: -16.53\n",
      "108/108 - 6s - 59ms/step - accuracy: 0.7242 - loss: 0.5454 - val_accuracy: 0.7152 - val_loss: 0.5512\n",
      "Epoch 9/40\n",
      "\n",
      "Epoch 9: val_loss improved from 0.55124 to 0.55019, saving model to ./saved_models/last_saved_model.keras\n",
      "\u001b[1m19/19\u001b[0m \u001b[32m━━━━━━━━━━━━━━━━━━━━\u001b[0m\u001b[37m\u001b[0m \u001b[1m0s\u001b[0m 18ms/step\n",
      "Profit: -16.09\n",
      "108/108 - 6s - 59ms/step - accuracy: 0.7265 - loss: 0.5433 - val_accuracy: 0.7152 - val_loss: 0.5502\n",
      "Epoch 10/40\n",
      "\n",
      "Epoch 10: val_loss improved from 0.55019 to 0.54961, saving model to ./saved_models/last_saved_model.keras\n",
      "\u001b[1m19/19\u001b[0m \u001b[32m━━━━━━━━━━━━━━━━━━━━\u001b[0m\u001b[37m\u001b[0m \u001b[1m0s\u001b[0m 18ms/step\n",
      "Profit: -16.39\n",
      "108/108 - 6s - 59ms/step - accuracy: 0.7277 - loss: 0.5425 - val_accuracy: 0.7119 - val_loss: 0.5496\n",
      "Epoch 11/40\n",
      "\n",
      "Epoch 11: val_loss improved from 0.54961 to 0.54851, saving model to ./saved_models/last_saved_model.keras\n",
      "\u001b[1m19/19\u001b[0m \u001b[32m━━━━━━━━━━━━━━━━━━━━\u001b[0m\u001b[37m\u001b[0m \u001b[1m0s\u001b[0m 18ms/step\n",
      "Profit: -15.85\n",
      "108/108 - 6s - 59ms/step - accuracy: 0.7264 - loss: 0.5401 - val_accuracy: 0.7144 - val_loss: 0.5485\n",
      "Epoch 12/40\n",
      "\n",
      "Epoch 12: val_loss did not improve from 0.54851\n",
      "\u001b[1m19/19\u001b[0m \u001b[32m━━━━━━━━━━━━━━━━━━━━\u001b[0m\u001b[37m\u001b[0m \u001b[1m0s\u001b[0m 20ms/step\n",
      "Profit: -16.83\n",
      "108/108 - 7s - 61ms/step - accuracy: 0.7291 - loss: 0.5390 - val_accuracy: 0.7062 - val_loss: 0.5488\n",
      "Epoch 13/40\n",
      "\n",
      "Epoch 13: val_loss improved from 0.54851 to 0.54816, saving model to ./saved_models/last_saved_model.keras\n",
      "\u001b[1m19/19\u001b[0m \u001b[32m━━━━━━━━━━━━━━━━━━━━\u001b[0m\u001b[37m\u001b[0m \u001b[1m0s\u001b[0m 20ms/step\n",
      "Profit: -16.21\n",
      "108/108 - 7s - 61ms/step - accuracy: 0.7281 - loss: 0.5378 - val_accuracy: 0.7053 - val_loss: 0.5482\n",
      "Epoch 14/40\n",
      "\n",
      "Epoch 14: val_loss improved from 0.54816 to 0.54724, saving model to ./saved_models/last_saved_model.keras\n",
      "\u001b[1m19/19\u001b[0m \u001b[32m━━━━━━━━━━━━━━━━━━━━\u001b[0m\u001b[37m\u001b[0m \u001b[1m0s\u001b[0m 18ms/step\n",
      "Profit: -14.87\n",
      "108/108 - 7s - 62ms/step - accuracy: 0.7284 - loss: 0.5365 - val_accuracy: 0.7062 - val_loss: 0.5472\n",
      "Epoch 15/40\n",
      "\n",
      "Epoch 15: val_loss did not improve from 0.54724\n",
      "\u001b[1m19/19\u001b[0m \u001b[32m━━━━━━━━━━━━━━━━━━━━\u001b[0m\u001b[37m\u001b[0m \u001b[1m0s\u001b[0m 18ms/step\n",
      "Profit: -15.09\n",
      "108/108 - 6s - 60ms/step - accuracy: 0.7288 - loss: 0.5365 - val_accuracy: 0.7037 - val_loss: 0.5478\n",
      "Epoch 16/40\n",
      "\n",
      "Epoch 16: val_loss improved from 0.54724 to 0.54711, saving model to ./saved_models/last_saved_model.keras\n",
      "\u001b[1m19/19\u001b[0m \u001b[32m━━━━━━━━━━━━━━━━━━━━\u001b[0m\u001b[37m\u001b[0m \u001b[1m1s\u001b[0m 26ms/step\n",
      "Profit: -11.51\n",
      "108/108 - 6s - 59ms/step - accuracy: 0.7358 - loss: 0.5322 - val_accuracy: 0.7078 - val_loss: 0.5471\n",
      "Epoch 17/40\n",
      "\n",
      "Epoch 17: val_loss improved from 0.54711 to 0.54610, saving model to ./saved_models/last_saved_model.keras\n",
      "\u001b[1m19/19\u001b[0m \u001b[32m━━━━━━━━━━━━━━━━━━━━\u001b[0m\u001b[37m\u001b[0m \u001b[1m0s\u001b[0m 23ms/step\n",
      "Profit: -15.62\n",
      "108/108 - 11s - 101ms/step - accuracy: 0.7291 - loss: 0.5338 - val_accuracy: 0.7103 - val_loss: 0.5461\n",
      "Epoch 18/40\n",
      "\n",
      "Epoch 18: val_loss improved from 0.54610 to 0.54579, saving model to ./saved_models/last_saved_model.keras\n",
      "\u001b[1m19/19\u001b[0m \u001b[32m━━━━━━━━━━━━━━━━━━━━\u001b[0m\u001b[37m\u001b[0m \u001b[1m0s\u001b[0m 19ms/step\n",
      "Profit: -14.86\n",
      "108/108 - 7s - 61ms/step - accuracy: 0.7326 - loss: 0.5326 - val_accuracy: 0.7095 - val_loss: 0.5458\n",
      "Epoch 19/40\n",
      "\n",
      "Epoch 19: val_loss did not improve from 0.54579\n",
      "\u001b[1m19/19\u001b[0m \u001b[32m━━━━━━━━━━━━━━━━━━━━\u001b[0m\u001b[37m\u001b[0m \u001b[1m0s\u001b[0m 19ms/step\n",
      "Profit: -14.8\n",
      "108/108 - 6s - 59ms/step - accuracy: 0.7354 - loss: 0.5305 - val_accuracy: 0.7086 - val_loss: 0.5461\n",
      "Epoch 20/40\n",
      "\n",
      "Epoch 20: val_loss did not improve from 0.54579\n",
      "\u001b[1m19/19\u001b[0m \u001b[32m━━━━━━━━━━━━━━━━━━━━\u001b[0m\u001b[37m\u001b[0m \u001b[1m0s\u001b[0m 19ms/step\n",
      "Profit: -15.62\n",
      "108/108 - 11s - 97ms/step - accuracy: 0.7333 - loss: 0.5296 - val_accuracy: 0.7078 - val_loss: 0.5458\n",
      "Epoch 21/40\n",
      "\n",
      "Epoch 21: val_loss improved from 0.54579 to 0.54496, saving model to ./saved_models/last_saved_model.keras\n",
      "\u001b[1m19/19\u001b[0m \u001b[32m━━━━━━━━━━━━━━━━━━━━\u001b[0m\u001b[37m\u001b[0m \u001b[1m0s\u001b[0m 20ms/step\n",
      "Profit: -16.46\n",
      "108/108 - 7s - 62ms/step - accuracy: 0.7375 - loss: 0.5290 - val_accuracy: 0.7086 - val_loss: 0.5450\n",
      "Epoch 22/40\n",
      "\n",
      "Epoch 22: val_loss improved from 0.54496 to 0.54399, saving model to ./saved_models/last_saved_model.keras\n",
      "\u001b[1m19/19\u001b[0m \u001b[32m━━━━━━━━━━━━━━━━━━━━\u001b[0m\u001b[37m\u001b[0m \u001b[1m0s\u001b[0m 20ms/step\n",
      "Profit: -16.3\n",
      "108/108 - 7s - 68ms/step - accuracy: 0.7389 - loss: 0.5271 - val_accuracy: 0.7095 - val_loss: 0.5440\n",
      "Epoch 23/40\n",
      "\n",
      "Epoch 23: val_loss improved from 0.54399 to 0.54250, saving model to ./saved_models/last_saved_model.keras\n",
      "\u001b[1m19/19\u001b[0m \u001b[32m━━━━━━━━━━━━━━━━━━━━\u001b[0m\u001b[37m\u001b[0m \u001b[1m0s\u001b[0m 21ms/step\n",
      "Profit: -16.22\n",
      "108/108 - 7s - 62ms/step - accuracy: 0.7383 - loss: 0.5276 - val_accuracy: 0.7086 - val_loss: 0.5425\n",
      "Epoch 24/40\n",
      "\n",
      "Epoch 24: val_loss improved from 0.54250 to 0.54210, saving model to ./saved_models/last_saved_model.keras\n",
      "\u001b[1m19/19\u001b[0m \u001b[32m━━━━━━━━━━━━━━━━━━━━\u001b[0m\u001b[37m\u001b[0m \u001b[1m0s\u001b[0m 19ms/step\n",
      "Profit: -13.3\n",
      "108/108 - 11s - 102ms/step - accuracy: 0.7383 - loss: 0.5262 - val_accuracy: 0.7136 - val_loss: 0.5421\n",
      "Epoch 25/40\n",
      "\n",
      "Epoch 25: val_loss improved from 0.54210 to 0.54125, saving model to ./saved_models/last_saved_model.keras\n",
      "\u001b[1m19/19\u001b[0m \u001b[32m━━━━━━━━━━━━━━━━━━━━\u001b[0m\u001b[37m\u001b[0m \u001b[1m0s\u001b[0m 20ms/step\n",
      "Profit: -16.06\n",
      "108/108 - 7s - 62ms/step - accuracy: 0.7389 - loss: 0.5241 - val_accuracy: 0.7111 - val_loss: 0.5412\n",
      "Epoch 26/40\n",
      "\n",
      "Epoch 26: val_loss did not improve from 0.54125\n",
      "\u001b[1m19/19\u001b[0m \u001b[32m━━━━━━━━━━━━━━━━━━━━\u001b[0m\u001b[37m\u001b[0m \u001b[1m0s\u001b[0m 21ms/step\n",
      "Profit: -13.18\n",
      "108/108 - 10s - 96ms/step - accuracy: 0.7405 - loss: 0.5233 - val_accuracy: 0.7103 - val_loss: 0.5420\n",
      "Epoch 27/40\n",
      "\n",
      "Epoch 27: val_loss did not improve from 0.54125\n",
      "\u001b[1m19/19\u001b[0m \u001b[32m━━━━━━━━━━━━━━━━━━━━\u001b[0m\u001b[37m\u001b[0m \u001b[1m0s\u001b[0m 18ms/step\n",
      "Profit: -12.52\n",
      "108/108 - 6s - 59ms/step - accuracy: 0.7428 - loss: 0.5200 - val_accuracy: 0.7152 - val_loss: 0.5420\n",
      "Epoch 28/40\n",
      "\n",
      "Epoch 28: val_loss did not improve from 0.54125\n",
      "\u001b[1m19/19\u001b[0m \u001b[32m━━━━━━━━━━━━━━━━━━━━\u001b[0m\u001b[37m\u001b[0m \u001b[1m1s\u001b[0m 27ms/step\n",
      "Profit: -13.98\n",
      "108/108 - 7s - 68ms/step - accuracy: 0.7431 - loss: 0.5212 - val_accuracy: 0.7111 - val_loss: 0.5427\n",
      "\u001b[1m19/19\u001b[0m \u001b[32m━━━━━━━━━━━━━━━━━━━━\u001b[0m\u001b[37m\u001b[0m \u001b[1m1s\u001b[0m 44ms/step\n",
      "Repeat 2 running...\n"
     ]
    },
    {
     "name": "stderr",
     "output_type": "stream",
     "text": [
      "C:\\Users\\kucha\\AppData\\Roaming\\Python\\Python310\\site-packages\\keras\\src\\layers\\rnn\\rnn.py:204: UserWarning:\n",
      "\n",
      "Do not pass an `input_shape`/`input_dim` argument to a layer. When using Sequential models, prefer using an `Input(shape)` object as the first layer in the model instead.\n",
      "\n"
     ]
    },
    {
     "data": {
      "text/html": [
       "<pre style=\"white-space:pre;overflow-x:auto;line-height:normal;font-family:Menlo,'DejaVu Sans Mono',consolas,'Courier New',monospace\"><span style=\"font-weight: bold\">Model: \"sequential_7\"</span>\n",
       "</pre>\n"
      ],
      "text/plain": [
       "\u001b[1mModel: \"sequential_7\"\u001b[0m\n"
      ]
     },
     "metadata": {},
     "output_type": "display_data"
    },
    {
     "data": {
      "text/html": [
       "<pre style=\"white-space:pre;overflow-x:auto;line-height:normal;font-family:Menlo,'DejaVu Sans Mono',consolas,'Courier New',monospace\">┏━━━━━━━━━━━━━━━━━━━━━━━━━━━━━━━━━┳━━━━━━━━━━━━━━━━━━━━━━━━┳━━━━━━━━━━━━━━━┓\n",
       "┃<span style=\"font-weight: bold\"> Layer (type)                    </span>┃<span style=\"font-weight: bold\"> Output Shape           </span>┃<span style=\"font-weight: bold\">       Param # </span>┃\n",
       "┡━━━━━━━━━━━━━━━━━━━━━━━━━━━━━━━━━╇━━━━━━━━━━━━━━━━━━━━━━━━╇━━━━━━━━━━━━━━━┩\n",
       "│ lstm_22 (<span style=\"color: #0087ff; text-decoration-color: #0087ff\">LSTM</span>)                  │ (<span style=\"color: #00d7ff; text-decoration-color: #00d7ff\">None</span>, <span style=\"color: #00af00; text-decoration-color: #00af00\">10</span>, <span style=\"color: #00af00; text-decoration-color: #00af00\">150</span>)        │        <span style=\"color: #00af00; text-decoration-color: #00af00\">94,200</span> │\n",
       "├─────────────────────────────────┼────────────────────────┼───────────────┤\n",
       "│ dropout_21 (<span style=\"color: #0087ff; text-decoration-color: #0087ff\">Dropout</span>)            │ (<span style=\"color: #00d7ff; text-decoration-color: #00d7ff\">None</span>, <span style=\"color: #00af00; text-decoration-color: #00af00\">10</span>, <span style=\"color: #00af00; text-decoration-color: #00af00\">150</span>)        │             <span style=\"color: #00af00; text-decoration-color: #00af00\">0</span> │\n",
       "├─────────────────────────────────┼────────────────────────┼───────────────┤\n",
       "│ lstm_23 (<span style=\"color: #0087ff; text-decoration-color: #0087ff\">LSTM</span>)                  │ (<span style=\"color: #00d7ff; text-decoration-color: #00d7ff\">None</span>, <span style=\"color: #00af00; text-decoration-color: #00af00\">150</span>)            │       <span style=\"color: #00af00; text-decoration-color: #00af00\">180,600</span> │\n",
       "├─────────────────────────────────┼────────────────────────┼───────────────┤\n",
       "│ dropout_22 (<span style=\"color: #0087ff; text-decoration-color: #0087ff\">Dropout</span>)            │ (<span style=\"color: #00d7ff; text-decoration-color: #00d7ff\">None</span>, <span style=\"color: #00af00; text-decoration-color: #00af00\">150</span>)            │             <span style=\"color: #00af00; text-decoration-color: #00af00\">0</span> │\n",
       "├─────────────────────────────────┼────────────────────────┼───────────────┤\n",
       "│ dense_14 (<span style=\"color: #0087ff; text-decoration-color: #0087ff\">Dense</span>)                │ (<span style=\"color: #00d7ff; text-decoration-color: #00d7ff\">None</span>, <span style=\"color: #00af00; text-decoration-color: #00af00\">75</span>)             │        <span style=\"color: #00af00; text-decoration-color: #00af00\">11,325</span> │\n",
       "├─────────────────────────────────┼────────────────────────┼───────────────┤\n",
       "│ dropout_23 (<span style=\"color: #0087ff; text-decoration-color: #0087ff\">Dropout</span>)            │ (<span style=\"color: #00d7ff; text-decoration-color: #00d7ff\">None</span>, <span style=\"color: #00af00; text-decoration-color: #00af00\">75</span>)             │             <span style=\"color: #00af00; text-decoration-color: #00af00\">0</span> │\n",
       "├─────────────────────────────────┼────────────────────────┼───────────────┤\n",
       "│ dense_15 (<span style=\"color: #0087ff; text-decoration-color: #0087ff\">Dense</span>)                │ (<span style=\"color: #00d7ff; text-decoration-color: #00d7ff\">None</span>, <span style=\"color: #00af00; text-decoration-color: #00af00\">2</span>)              │           <span style=\"color: #00af00; text-decoration-color: #00af00\">152</span> │\n",
       "└─────────────────────────────────┴────────────────────────┴───────────────┘\n",
       "</pre>\n"
      ],
      "text/plain": [
       "┏━━━━━━━━━━━━━━━━━━━━━━━━━━━━━━━━━┳━━━━━━━━━━━━━━━━━━━━━━━━┳━━━━━━━━━━━━━━━┓\n",
       "┃\u001b[1m \u001b[0m\u001b[1mLayer (type)                   \u001b[0m\u001b[1m \u001b[0m┃\u001b[1m \u001b[0m\u001b[1mOutput Shape          \u001b[0m\u001b[1m \u001b[0m┃\u001b[1m \u001b[0m\u001b[1m      Param #\u001b[0m\u001b[1m \u001b[0m┃\n",
       "┡━━━━━━━━━━━━━━━━━━━━━━━━━━━━━━━━━╇━━━━━━━━━━━━━━━━━━━━━━━━╇━━━━━━━━━━━━━━━┩\n",
       "│ lstm_22 (\u001b[38;5;33mLSTM\u001b[0m)                  │ (\u001b[38;5;45mNone\u001b[0m, \u001b[38;5;34m10\u001b[0m, \u001b[38;5;34m150\u001b[0m)        │        \u001b[38;5;34m94,200\u001b[0m │\n",
       "├─────────────────────────────────┼────────────────────────┼───────────────┤\n",
       "│ dropout_21 (\u001b[38;5;33mDropout\u001b[0m)            │ (\u001b[38;5;45mNone\u001b[0m, \u001b[38;5;34m10\u001b[0m, \u001b[38;5;34m150\u001b[0m)        │             \u001b[38;5;34m0\u001b[0m │\n",
       "├─────────────────────────────────┼────────────────────────┼───────────────┤\n",
       "│ lstm_23 (\u001b[38;5;33mLSTM\u001b[0m)                  │ (\u001b[38;5;45mNone\u001b[0m, \u001b[38;5;34m150\u001b[0m)            │       \u001b[38;5;34m180,600\u001b[0m │\n",
       "├─────────────────────────────────┼────────────────────────┼───────────────┤\n",
       "│ dropout_22 (\u001b[38;5;33mDropout\u001b[0m)            │ (\u001b[38;5;45mNone\u001b[0m, \u001b[38;5;34m150\u001b[0m)            │             \u001b[38;5;34m0\u001b[0m │\n",
       "├─────────────────────────────────┼────────────────────────┼───────────────┤\n",
       "│ dense_14 (\u001b[38;5;33mDense\u001b[0m)                │ (\u001b[38;5;45mNone\u001b[0m, \u001b[38;5;34m75\u001b[0m)             │        \u001b[38;5;34m11,325\u001b[0m │\n",
       "├─────────────────────────────────┼────────────────────────┼───────────────┤\n",
       "│ dropout_23 (\u001b[38;5;33mDropout\u001b[0m)            │ (\u001b[38;5;45mNone\u001b[0m, \u001b[38;5;34m75\u001b[0m)             │             \u001b[38;5;34m0\u001b[0m │\n",
       "├─────────────────────────────────┼────────────────────────┼───────────────┤\n",
       "│ dense_15 (\u001b[38;5;33mDense\u001b[0m)                │ (\u001b[38;5;45mNone\u001b[0m, \u001b[38;5;34m2\u001b[0m)              │           \u001b[38;5;34m152\u001b[0m │\n",
       "└─────────────────────────────────┴────────────────────────┴───────────────┘\n"
      ]
     },
     "metadata": {},
     "output_type": "display_data"
    },
    {
     "data": {
      "text/html": [
       "<pre style=\"white-space:pre;overflow-x:auto;line-height:normal;font-family:Menlo,'DejaVu Sans Mono',consolas,'Courier New',monospace\"><span style=\"font-weight: bold\"> Total params: </span><span style=\"color: #00af00; text-decoration-color: #00af00\">286,277</span> (1.09 MB)\n",
       "</pre>\n"
      ],
      "text/plain": [
       "\u001b[1m Total params: \u001b[0m\u001b[38;5;34m286,277\u001b[0m (1.09 MB)\n"
      ]
     },
     "metadata": {},
     "output_type": "display_data"
    },
    {
     "data": {
      "text/html": [
       "<pre style=\"white-space:pre;overflow-x:auto;line-height:normal;font-family:Menlo,'DejaVu Sans Mono',consolas,'Courier New',monospace\"><span style=\"font-weight: bold\"> Trainable params: </span><span style=\"color: #00af00; text-decoration-color: #00af00\">286,277</span> (1.09 MB)\n",
       "</pre>\n"
      ],
      "text/plain": [
       "\u001b[1m Trainable params: \u001b[0m\u001b[38;5;34m286,277\u001b[0m (1.09 MB)\n"
      ]
     },
     "metadata": {},
     "output_type": "display_data"
    },
    {
     "data": {
      "text/html": [
       "<pre style=\"white-space:pre;overflow-x:auto;line-height:normal;font-family:Menlo,'DejaVu Sans Mono',consolas,'Courier New',monospace\"><span style=\"font-weight: bold\"> Non-trainable params: </span><span style=\"color: #00af00; text-decoration-color: #00af00\">0</span> (0.00 B)\n",
       "</pre>\n"
      ],
      "text/plain": [
       "\u001b[1m Non-trainable params: \u001b[0m\u001b[38;5;34m0\u001b[0m (0.00 B)\n"
      ]
     },
     "metadata": {},
     "output_type": "display_data"
    },
    {
     "name": "stdout",
     "output_type": "stream",
     "text": [
      "Epoch 1/40\n",
      "\n",
      "Epoch 1: val_loss improved from inf to 0.62742, saving model to ./saved_models/last_saved_model.keras\n",
      "\u001b[1m19/19\u001b[0m \u001b[32m━━━━━━━━━━━━━━━━━━━━\u001b[0m\u001b[37m\u001b[0m \u001b[1m1s\u001b[0m 42ms/step\n",
      "New best model saved, previous best profit -> -6.84\n",
      "Profit: -6.83\n",
      "108/108 - 13s - 118ms/step - accuracy: 0.6054 - loss: 0.6667 - val_accuracy: 0.6527 - val_loss: 0.6274\n",
      "Epoch 2/40\n",
      "\n",
      "Epoch 2: val_loss improved from 0.62742 to 0.60017, saving model to ./saved_models/last_saved_model.keras\n",
      "\u001b[1m19/19\u001b[0m \u001b[32m━━━━━━━━━━━━━━━━━━━━\u001b[0m\u001b[37m\u001b[0m \u001b[1m0s\u001b[0m 18ms/step\n",
      "Profit: -16.98\n",
      "108/108 - 7s - 63ms/step - accuracy: 0.6751 - loss: 0.6023 - val_accuracy: 0.6864 - val_loss: 0.6002\n",
      "Epoch 3/40\n",
      "\n",
      "Epoch 3: val_loss improved from 0.60017 to 0.57394, saving model to ./saved_models/last_saved_model.keras\n",
      "\u001b[1m19/19\u001b[0m \u001b[32m━━━━━━━━━━━━━━━━━━━━\u001b[0m\u001b[37m\u001b[0m \u001b[1m0s\u001b[0m 19ms/step\n",
      "Profit: -10.95\n",
      "108/108 - 6s - 59ms/step - accuracy: 0.6998 - loss: 0.5768 - val_accuracy: 0.7029 - val_loss: 0.5739\n",
      "Epoch 4/40\n",
      "\n",
      "Epoch 4: val_loss improved from 0.57394 to 0.56159, saving model to ./saved_models/last_saved_model.keras\n",
      "\u001b[1m19/19\u001b[0m \u001b[32m━━━━━━━━━━━━━━━━━━━━\u001b[0m\u001b[37m\u001b[0m \u001b[1m0s\u001b[0m 20ms/step\n",
      "Profit: -9.75\n",
      "108/108 - 7s - 63ms/step - accuracy: 0.7123 - loss: 0.5630 - val_accuracy: 0.7012 - val_loss: 0.5616\n",
      "Epoch 5/40\n",
      "\n",
      "Epoch 5: val_loss improved from 0.56159 to 0.55683, saving model to ./saved_models/last_saved_model.keras\n",
      "\u001b[1m19/19\u001b[0m \u001b[32m━━━━━━━━━━━━━━━━━━━━\u001b[0m\u001b[37m\u001b[0m \u001b[1m0s\u001b[0m 19ms/step\n",
      "Profit: -9.43\n",
      "108/108 - 7s - 61ms/step - accuracy: 0.7160 - loss: 0.5539 - val_accuracy: 0.6988 - val_loss: 0.5568\n",
      "Epoch 6/40\n",
      "\n",
      "Epoch 6: val_loss improved from 0.55683 to 0.55293, saving model to ./saved_models/last_saved_model.keras\n",
      "\u001b[1m19/19\u001b[0m \u001b[32m━━━━━━━━━━━━━━━━━━━━\u001b[0m\u001b[37m\u001b[0m \u001b[1m0s\u001b[0m 20ms/step\n",
      "Profit: -16.99\n",
      "108/108 - 7s - 61ms/step - accuracy: 0.7227 - loss: 0.5508 - val_accuracy: 0.7136 - val_loss: 0.5529\n",
      "Epoch 7/40\n",
      "\n",
      "Epoch 7: val_loss improved from 0.55293 to 0.55228, saving model to ./saved_models/last_saved_model.keras\n",
      "\u001b[1m19/19\u001b[0m \u001b[32m━━━━━━━━━━━━━━━━━━━━\u001b[0m\u001b[37m\u001b[0m \u001b[1m0s\u001b[0m 18ms/step\n",
      "Profit: -13.95\n",
      "108/108 - 7s - 61ms/step - accuracy: 0.7217 - loss: 0.5457 - val_accuracy: 0.7136 - val_loss: 0.5523\n",
      "Epoch 8/40\n",
      "\n",
      "Epoch 8: val_loss improved from 0.55228 to 0.55064, saving model to ./saved_models/last_saved_model.keras\n",
      "\u001b[1m19/19\u001b[0m \u001b[32m━━━━━━━━━━━━━━━━━━━━\u001b[0m\u001b[37m\u001b[0m \u001b[1m0s\u001b[0m 18ms/step\n",
      "Profit: -14.67\n",
      "108/108 - 6s - 57ms/step - accuracy: 0.7232 - loss: 0.5461 - val_accuracy: 0.7169 - val_loss: 0.5506\n",
      "Epoch 9/40\n",
      "\n",
      "Epoch 9: val_loss improved from 0.55064 to 0.54895, saving model to ./saved_models/last_saved_model.keras\n",
      "\u001b[1m19/19\u001b[0m \u001b[32m━━━━━━━━━━━━━━━━━━━━\u001b[0m\u001b[37m\u001b[0m \u001b[1m0s\u001b[0m 23ms/step\n",
      "Profit: -15.87\n",
      "108/108 - 7s - 63ms/step - accuracy: 0.7264 - loss: 0.5438 - val_accuracy: 0.7136 - val_loss: 0.5490\n",
      "Epoch 10/40\n",
      "\n",
      "Epoch 10: val_loss improved from 0.54895 to 0.54831, saving model to ./saved_models/last_saved_model.keras\n",
      "\u001b[1m19/19\u001b[0m \u001b[32m━━━━━━━━━━━━━━━━━━━━\u001b[0m\u001b[37m\u001b[0m \u001b[1m0s\u001b[0m 19ms/step\n",
      "Profit: -15.41\n",
      "108/108 - 7s - 62ms/step - accuracy: 0.7275 - loss: 0.5417 - val_accuracy: 0.7119 - val_loss: 0.5483\n",
      "Epoch 11/40\n",
      "\n",
      "Epoch 11: val_loss did not improve from 0.54831\n",
      "\u001b[1m19/19\u001b[0m \u001b[32m━━━━━━━━━━━━━━━━━━━━\u001b[0m\u001b[37m\u001b[0m \u001b[1m0s\u001b[0m 20ms/step\n",
      "Profit: -14.09\n",
      "108/108 - 6s - 60ms/step - accuracy: 0.7287 - loss: 0.5398 - val_accuracy: 0.7144 - val_loss: 0.5485\n",
      "Epoch 12/40\n",
      "\n",
      "Epoch 12: val_loss did not improve from 0.54831\n",
      "\u001b[1m19/19\u001b[0m \u001b[32m━━━━━━━━━━━━━━━━━━━━\u001b[0m\u001b[37m\u001b[0m \u001b[1m0s\u001b[0m 20ms/step\n",
      "Profit: -13.95\n",
      "108/108 - 7s - 62ms/step - accuracy: 0.7282 - loss: 0.5397 - val_accuracy: 0.7119 - val_loss: 0.5485\n",
      "Epoch 13/40\n",
      "\n",
      "Epoch 13: val_loss improved from 0.54831 to 0.54728, saving model to ./saved_models/last_saved_model.keras\n",
      "\u001b[1m19/19\u001b[0m \u001b[32m━━━━━━━━━━━━━━━━━━━━\u001b[0m\u001b[37m\u001b[0m \u001b[1m0s\u001b[0m 20ms/step\n",
      "Profit: -15.19\n",
      "108/108 - 7s - 60ms/step - accuracy: 0.7296 - loss: 0.5378 - val_accuracy: 0.7136 - val_loss: 0.5473\n",
      "Epoch 14/40\n",
      "\n",
      "Epoch 14: val_loss improved from 0.54728 to 0.54652, saving model to ./saved_models/last_saved_model.keras\n",
      "\u001b[1m19/19\u001b[0m \u001b[32m━━━━━━━━━━━━━━━━━━━━\u001b[0m\u001b[37m\u001b[0m \u001b[1m0s\u001b[0m 18ms/step\n",
      "Profit: -16.39\n",
      "108/108 - 6s - 59ms/step - accuracy: 0.7301 - loss: 0.5370 - val_accuracy: 0.7095 - val_loss: 0.5465\n",
      "Epoch 15/40\n",
      "\n",
      "Epoch 15: val_loss did not improve from 0.54652\n",
      "\u001b[1m19/19\u001b[0m \u001b[32m━━━━━━━━━━━━━━━━━━━━\u001b[0m\u001b[37m\u001b[0m \u001b[1m0s\u001b[0m 18ms/step\n",
      "Profit: -13.77\n",
      "108/108 - 6s - 58ms/step - accuracy: 0.7345 - loss: 0.5342 - val_accuracy: 0.7128 - val_loss: 0.5467\n",
      "Epoch 16/40\n",
      "\n",
      "Epoch 16: val_loss improved from 0.54652 to 0.54645, saving model to ./saved_models/last_saved_model.keras\n",
      "\u001b[1m19/19\u001b[0m \u001b[32m━━━━━━━━━━━━━━━━━━━━\u001b[0m\u001b[37m\u001b[0m \u001b[1m0s\u001b[0m 19ms/step\n",
      "Profit: -10.83\n",
      "108/108 - 10s - 95ms/step - accuracy: 0.7332 - loss: 0.5340 - val_accuracy: 0.7160 - val_loss: 0.5465\n",
      "Epoch 17/40\n",
      "\n",
      "Epoch 17: val_loss did not improve from 0.54645\n",
      "\u001b[1m19/19\u001b[0m \u001b[32m━━━━━━━━━━━━━━━━━━━━\u001b[0m\u001b[37m\u001b[0m \u001b[1m0s\u001b[0m 18ms/step\n",
      "Profit: -14.37\n",
      "108/108 - 6s - 58ms/step - accuracy: 0.7346 - loss: 0.5329 - val_accuracy: 0.7053 - val_loss: 0.5483\n",
      "Epoch 18/40\n",
      "\n",
      "Epoch 18: val_loss improved from 0.54645 to 0.54557, saving model to ./saved_models/last_saved_model.keras\n",
      "\u001b[1m19/19\u001b[0m \u001b[32m━━━━━━━━━━━━━━━━━━━━\u001b[0m\u001b[37m\u001b[0m \u001b[1m0s\u001b[0m 21ms/step\n",
      "Profit: -11.39\n",
      "108/108 - 7s - 61ms/step - accuracy: 0.7332 - loss: 0.5321 - val_accuracy: 0.7062 - val_loss: 0.5456\n",
      "Epoch 19/40\n",
      "\n",
      "Epoch 19: val_loss did not improve from 0.54557\n",
      "\u001b[1m19/19\u001b[0m \u001b[32m━━━━━━━━━━━━━━━━━━━━\u001b[0m\u001b[37m\u001b[0m \u001b[1m0s\u001b[0m 20ms/step\n",
      "Profit: -15.13\n",
      "108/108 - 7s - 62ms/step - accuracy: 0.7323 - loss: 0.5312 - val_accuracy: 0.7086 - val_loss: 0.5461\n",
      "Epoch 20/40\n",
      "\n",
      "Epoch 20: val_loss improved from 0.54557 to 0.54457, saving model to ./saved_models/last_saved_model.keras\n",
      "\u001b[1m19/19\u001b[0m \u001b[32m━━━━━━━━━━━━━━━━━━━━\u001b[0m\u001b[37m\u001b[0m \u001b[1m0s\u001b[0m 20ms/step\n",
      "Profit: -14.6\n",
      "108/108 - 7s - 61ms/step - accuracy: 0.7361 - loss: 0.5298 - val_accuracy: 0.7086 - val_loss: 0.5446\n",
      "Epoch 21/40\n",
      "\n",
      "Epoch 21: val_loss improved from 0.54457 to 0.54405, saving model to ./saved_models/last_saved_model.keras\n",
      "\u001b[1m19/19\u001b[0m \u001b[32m━━━━━━━━━━━━━━━━━━━━\u001b[0m\u001b[37m\u001b[0m \u001b[1m0s\u001b[0m 20ms/step\n",
      "Profit: -15.94\n",
      "108/108 - 7s - 63ms/step - accuracy: 0.7348 - loss: 0.5283 - val_accuracy: 0.7053 - val_loss: 0.5440\n",
      "Epoch 22/40\n",
      "\n",
      "Epoch 22: val_loss improved from 0.54405 to 0.54328, saving model to ./saved_models/last_saved_model.keras\n",
      "\u001b[1m19/19\u001b[0m \u001b[32m━━━━━━━━━━━━━━━━━━━━\u001b[0m\u001b[37m\u001b[0m \u001b[1m0s\u001b[0m 18ms/step\n",
      "Profit: -13.86\n",
      "108/108 - 7s - 65ms/step - accuracy: 0.7371 - loss: 0.5276 - val_accuracy: 0.7086 - val_loss: 0.5433\n",
      "Epoch 23/40\n",
      "\n",
      "Epoch 23: val_loss improved from 0.54328 to 0.54306, saving model to ./saved_models/last_saved_model.keras\n",
      "\u001b[1m19/19\u001b[0m \u001b[32m━━━━━━━━━━━━━━━━━━━━\u001b[0m\u001b[37m\u001b[0m \u001b[1m0s\u001b[0m 22ms/step\n",
      "Profit: -13.96\n",
      "108/108 - 7s - 63ms/step - accuracy: 0.7393 - loss: 0.5260 - val_accuracy: 0.7053 - val_loss: 0.5431\n",
      "Epoch 24/40\n",
      "\n",
      "Epoch 24: val_loss improved from 0.54306 to 0.54242, saving model to ./saved_models/last_saved_model.keras\n",
      "\u001b[1m19/19\u001b[0m \u001b[32m━━━━━━━━━━━━━━━━━━━━\u001b[0m\u001b[37m\u001b[0m \u001b[1m0s\u001b[0m 18ms/step\n",
      "Profit: -13.86\n",
      "108/108 - 6s - 57ms/step - accuracy: 0.7403 - loss: 0.5268 - val_accuracy: 0.7128 - val_loss: 0.5424\n",
      "Epoch 25/40\n",
      "\n",
      "Epoch 25: val_loss improved from 0.54242 to 0.54192, saving model to ./saved_models/last_saved_model.keras\n",
      "\u001b[1m19/19\u001b[0m \u001b[32m━━━━━━━━━━━━━━━━━━━━\u001b[0m\u001b[37m\u001b[0m \u001b[1m0s\u001b[0m 17ms/step\n",
      "Profit: -15.5\n",
      "108/108 - 6s - 59ms/step - accuracy: 0.7426 - loss: 0.5233 - val_accuracy: 0.7078 - val_loss: 0.5419\n",
      "Epoch 26/40\n",
      "\n",
      "Epoch 26: val_loss did not improve from 0.54192\n",
      "\u001b[1m19/19\u001b[0m \u001b[32m━━━━━━━━━━━━━━━━━━━━\u001b[0m\u001b[37m\u001b[0m \u001b[1m0s\u001b[0m 18ms/step\n",
      "Profit: -8.74\n",
      "108/108 - 6s - 56ms/step - accuracy: 0.7426 - loss: 0.5248 - val_accuracy: 0.7103 - val_loss: 0.5421\n",
      "Epoch 27/40\n",
      "\n",
      "Epoch 27: val_loss did not improve from 0.54192\n",
      "\u001b[1m19/19\u001b[0m \u001b[32m━━━━━━━━━━━━━━━━━━━━\u001b[0m\u001b[37m\u001b[0m \u001b[1m0s\u001b[0m 18ms/step\n",
      "Profit: -11.66\n",
      "108/108 - 6s - 57ms/step - accuracy: 0.7416 - loss: 0.5210 - val_accuracy: 0.7152 - val_loss: 0.5427\n",
      "Epoch 28/40\n",
      "\n",
      "Epoch 28: val_loss did not improve from 0.54192\n",
      "\u001b[1m19/19\u001b[0m \u001b[32m━━━━━━━━━━━━━━━━━━━━\u001b[0m\u001b[37m\u001b[0m \u001b[1m0s\u001b[0m 18ms/step\n",
      "Profit: -9.98\n",
      "108/108 - 6s - 57ms/step - accuracy: 0.7391 - loss: 0.5190 - val_accuracy: 0.7152 - val_loss: 0.5437\n",
      "\u001b[1m19/19\u001b[0m \u001b[32m━━━━━━━━━━━━━━━━━━━━\u001b[0m\u001b[37m\u001b[0m \u001b[1m1s\u001b[0m 42ms/step\n",
      "Repeat 3 running...\n"
     ]
    },
    {
     "name": "stderr",
     "output_type": "stream",
     "text": [
      "C:\\Users\\kucha\\AppData\\Roaming\\Python\\Python310\\site-packages\\keras\\src\\layers\\rnn\\rnn.py:204: UserWarning:\n",
      "\n",
      "Do not pass an `input_shape`/`input_dim` argument to a layer. When using Sequential models, prefer using an `Input(shape)` object as the first layer in the model instead.\n",
      "\n"
     ]
    },
    {
     "data": {
      "text/html": [
       "<pre style=\"white-space:pre;overflow-x:auto;line-height:normal;font-family:Menlo,'DejaVu Sans Mono',consolas,'Courier New',monospace\"><span style=\"font-weight: bold\">Model: \"sequential_8\"</span>\n",
       "</pre>\n"
      ],
      "text/plain": [
       "\u001b[1mModel: \"sequential_8\"\u001b[0m\n"
      ]
     },
     "metadata": {},
     "output_type": "display_data"
    },
    {
     "data": {
      "text/html": [
       "<pre style=\"white-space:pre;overflow-x:auto;line-height:normal;font-family:Menlo,'DejaVu Sans Mono',consolas,'Courier New',monospace\">┏━━━━━━━━━━━━━━━━━━━━━━━━━━━━━━━━━┳━━━━━━━━━━━━━━━━━━━━━━━━┳━━━━━━━━━━━━━━━┓\n",
       "┃<span style=\"font-weight: bold\"> Layer (type)                    </span>┃<span style=\"font-weight: bold\"> Output Shape           </span>┃<span style=\"font-weight: bold\">       Param # </span>┃\n",
       "┡━━━━━━━━━━━━━━━━━━━━━━━━━━━━━━━━━╇━━━━━━━━━━━━━━━━━━━━━━━━╇━━━━━━━━━━━━━━━┩\n",
       "│ lstm_25 (<span style=\"color: #0087ff; text-decoration-color: #0087ff\">LSTM</span>)                  │ (<span style=\"color: #00d7ff; text-decoration-color: #00d7ff\">None</span>, <span style=\"color: #00af00; text-decoration-color: #00af00\">10</span>, <span style=\"color: #00af00; text-decoration-color: #00af00\">150</span>)        │        <span style=\"color: #00af00; text-decoration-color: #00af00\">94,200</span> │\n",
       "├─────────────────────────────────┼────────────────────────┼───────────────┤\n",
       "│ dropout_24 (<span style=\"color: #0087ff; text-decoration-color: #0087ff\">Dropout</span>)            │ (<span style=\"color: #00d7ff; text-decoration-color: #00d7ff\">None</span>, <span style=\"color: #00af00; text-decoration-color: #00af00\">10</span>, <span style=\"color: #00af00; text-decoration-color: #00af00\">150</span>)        │             <span style=\"color: #00af00; text-decoration-color: #00af00\">0</span> │\n",
       "├─────────────────────────────────┼────────────────────────┼───────────────┤\n",
       "│ lstm_26 (<span style=\"color: #0087ff; text-decoration-color: #0087ff\">LSTM</span>)                  │ (<span style=\"color: #00d7ff; text-decoration-color: #00d7ff\">None</span>, <span style=\"color: #00af00; text-decoration-color: #00af00\">150</span>)            │       <span style=\"color: #00af00; text-decoration-color: #00af00\">180,600</span> │\n",
       "├─────────────────────────────────┼────────────────────────┼───────────────┤\n",
       "│ dropout_25 (<span style=\"color: #0087ff; text-decoration-color: #0087ff\">Dropout</span>)            │ (<span style=\"color: #00d7ff; text-decoration-color: #00d7ff\">None</span>, <span style=\"color: #00af00; text-decoration-color: #00af00\">150</span>)            │             <span style=\"color: #00af00; text-decoration-color: #00af00\">0</span> │\n",
       "├─────────────────────────────────┼────────────────────────┼───────────────┤\n",
       "│ dense_16 (<span style=\"color: #0087ff; text-decoration-color: #0087ff\">Dense</span>)                │ (<span style=\"color: #00d7ff; text-decoration-color: #00d7ff\">None</span>, <span style=\"color: #00af00; text-decoration-color: #00af00\">75</span>)             │        <span style=\"color: #00af00; text-decoration-color: #00af00\">11,325</span> │\n",
       "├─────────────────────────────────┼────────────────────────┼───────────────┤\n",
       "│ dropout_26 (<span style=\"color: #0087ff; text-decoration-color: #0087ff\">Dropout</span>)            │ (<span style=\"color: #00d7ff; text-decoration-color: #00d7ff\">None</span>, <span style=\"color: #00af00; text-decoration-color: #00af00\">75</span>)             │             <span style=\"color: #00af00; text-decoration-color: #00af00\">0</span> │\n",
       "├─────────────────────────────────┼────────────────────────┼───────────────┤\n",
       "│ dense_17 (<span style=\"color: #0087ff; text-decoration-color: #0087ff\">Dense</span>)                │ (<span style=\"color: #00d7ff; text-decoration-color: #00d7ff\">None</span>, <span style=\"color: #00af00; text-decoration-color: #00af00\">2</span>)              │           <span style=\"color: #00af00; text-decoration-color: #00af00\">152</span> │\n",
       "└─────────────────────────────────┴────────────────────────┴───────────────┘\n",
       "</pre>\n"
      ],
      "text/plain": [
       "┏━━━━━━━━━━━━━━━━━━━━━━━━━━━━━━━━━┳━━━━━━━━━━━━━━━━━━━━━━━━┳━━━━━━━━━━━━━━━┓\n",
       "┃\u001b[1m \u001b[0m\u001b[1mLayer (type)                   \u001b[0m\u001b[1m \u001b[0m┃\u001b[1m \u001b[0m\u001b[1mOutput Shape          \u001b[0m\u001b[1m \u001b[0m┃\u001b[1m \u001b[0m\u001b[1m      Param #\u001b[0m\u001b[1m \u001b[0m┃\n",
       "┡━━━━━━━━━━━━━━━━━━━━━━━━━━━━━━━━━╇━━━━━━━━━━━━━━━━━━━━━━━━╇━━━━━━━━━━━━━━━┩\n",
       "│ lstm_25 (\u001b[38;5;33mLSTM\u001b[0m)                  │ (\u001b[38;5;45mNone\u001b[0m, \u001b[38;5;34m10\u001b[0m, \u001b[38;5;34m150\u001b[0m)        │        \u001b[38;5;34m94,200\u001b[0m │\n",
       "├─────────────────────────────────┼────────────────────────┼───────────────┤\n",
       "│ dropout_24 (\u001b[38;5;33mDropout\u001b[0m)            │ (\u001b[38;5;45mNone\u001b[0m, \u001b[38;5;34m10\u001b[0m, \u001b[38;5;34m150\u001b[0m)        │             \u001b[38;5;34m0\u001b[0m │\n",
       "├─────────────────────────────────┼────────────────────────┼───────────────┤\n",
       "│ lstm_26 (\u001b[38;5;33mLSTM\u001b[0m)                  │ (\u001b[38;5;45mNone\u001b[0m, \u001b[38;5;34m150\u001b[0m)            │       \u001b[38;5;34m180,600\u001b[0m │\n",
       "├─────────────────────────────────┼────────────────────────┼───────────────┤\n",
       "│ dropout_25 (\u001b[38;5;33mDropout\u001b[0m)            │ (\u001b[38;5;45mNone\u001b[0m, \u001b[38;5;34m150\u001b[0m)            │             \u001b[38;5;34m0\u001b[0m │\n",
       "├─────────────────────────────────┼────────────────────────┼───────────────┤\n",
       "│ dense_16 (\u001b[38;5;33mDense\u001b[0m)                │ (\u001b[38;5;45mNone\u001b[0m, \u001b[38;5;34m75\u001b[0m)             │        \u001b[38;5;34m11,325\u001b[0m │\n",
       "├─────────────────────────────────┼────────────────────────┼───────────────┤\n",
       "│ dropout_26 (\u001b[38;5;33mDropout\u001b[0m)            │ (\u001b[38;5;45mNone\u001b[0m, \u001b[38;5;34m75\u001b[0m)             │             \u001b[38;5;34m0\u001b[0m │\n",
       "├─────────────────────────────────┼────────────────────────┼───────────────┤\n",
       "│ dense_17 (\u001b[38;5;33mDense\u001b[0m)                │ (\u001b[38;5;45mNone\u001b[0m, \u001b[38;5;34m2\u001b[0m)              │           \u001b[38;5;34m152\u001b[0m │\n",
       "└─────────────────────────────────┴────────────────────────┴───────────────┘\n"
      ]
     },
     "metadata": {},
     "output_type": "display_data"
    },
    {
     "data": {
      "text/html": [
       "<pre style=\"white-space:pre;overflow-x:auto;line-height:normal;font-family:Menlo,'DejaVu Sans Mono',consolas,'Courier New',monospace\"><span style=\"font-weight: bold\"> Total params: </span><span style=\"color: #00af00; text-decoration-color: #00af00\">286,277</span> (1.09 MB)\n",
       "</pre>\n"
      ],
      "text/plain": [
       "\u001b[1m Total params: \u001b[0m\u001b[38;5;34m286,277\u001b[0m (1.09 MB)\n"
      ]
     },
     "metadata": {},
     "output_type": "display_data"
    },
    {
     "data": {
      "text/html": [
       "<pre style=\"white-space:pre;overflow-x:auto;line-height:normal;font-family:Menlo,'DejaVu Sans Mono',consolas,'Courier New',monospace\"><span style=\"font-weight: bold\"> Trainable params: </span><span style=\"color: #00af00; text-decoration-color: #00af00\">286,277</span> (1.09 MB)\n",
       "</pre>\n"
      ],
      "text/plain": [
       "\u001b[1m Trainable params: \u001b[0m\u001b[38;5;34m286,277\u001b[0m (1.09 MB)\n"
      ]
     },
     "metadata": {},
     "output_type": "display_data"
    },
    {
     "data": {
      "text/html": [
       "<pre style=\"white-space:pre;overflow-x:auto;line-height:normal;font-family:Menlo,'DejaVu Sans Mono',consolas,'Courier New',monospace\"><span style=\"font-weight: bold\"> Non-trainable params: </span><span style=\"color: #00af00; text-decoration-color: #00af00\">0</span> (0.00 B)\n",
       "</pre>\n"
      ],
      "text/plain": [
       "\u001b[1m Non-trainable params: \u001b[0m\u001b[38;5;34m0\u001b[0m (0.00 B)\n"
      ]
     },
     "metadata": {},
     "output_type": "display_data"
    },
    {
     "name": "stdout",
     "output_type": "stream",
     "text": [
      "Epoch 1/40\n",
      "\n",
      "Epoch 1: val_loss improved from inf to 0.62736, saving model to ./saved_models/last_saved_model.keras\n",
      "\u001b[1m19/19\u001b[0m \u001b[32m━━━━━━━━━━━━━━━━━━━━\u001b[0m\u001b[37m\u001b[0m \u001b[1m1s\u001b[0m 44ms/step\n",
      "New best model saved, previous best profit -> -6.83\n",
      "Profit: -5.43\n",
      "108/108 - 15s - 138ms/step - accuracy: 0.6070 - loss: 0.6638 - val_accuracy: 0.6584 - val_loss: 0.6274\n",
      "Epoch 2/40\n",
      "\n",
      "Epoch 2: val_loss improved from 0.62736 to 0.60381, saving model to ./saved_models/last_saved_model.keras\n",
      "\u001b[1m19/19\u001b[0m \u001b[32m━━━━━━━━━━━━━━━━━━━━\u001b[0m\u001b[37m\u001b[0m \u001b[1m0s\u001b[0m 18ms/step\n",
      "Profit: -15.5\n",
      "108/108 - 6s - 60ms/step - accuracy: 0.6781 - loss: 0.6034 - val_accuracy: 0.6831 - val_loss: 0.6038\n",
      "Epoch 3/40\n",
      "\n",
      "Epoch 3: val_loss improved from 0.60381 to 0.57592, saving model to ./saved_models/last_saved_model.keras\n",
      "\u001b[1m19/19\u001b[0m \u001b[32m━━━━━━━━━━━━━━━━━━━━\u001b[0m\u001b[37m\u001b[0m \u001b[1m0s\u001b[0m 18ms/step\n",
      "Profit: -12.11\n",
      "108/108 - 6s - 59ms/step - accuracy: 0.6976 - loss: 0.5776 - val_accuracy: 0.7053 - val_loss: 0.5759\n",
      "Epoch 4/40\n",
      "\n",
      "Epoch 4: val_loss improved from 0.57592 to 0.56371, saving model to ./saved_models/last_saved_model.keras\n",
      "\u001b[1m19/19\u001b[0m \u001b[32m━━━━━━━━━━━━━━━━━━━━\u001b[0m\u001b[37m\u001b[0m \u001b[1m0s\u001b[0m 22ms/step\n",
      "Profit: -15.39\n",
      "108/108 - 7s - 67ms/step - accuracy: 0.7102 - loss: 0.5654 - val_accuracy: 0.7045 - val_loss: 0.5637\n",
      "Epoch 5/40\n",
      "\n",
      "Epoch 5: val_loss improved from 0.56371 to 0.55666, saving model to ./saved_models/last_saved_model.keras\n",
      "\u001b[1m19/19\u001b[0m \u001b[32m━━━━━━━━━━━━━━━━━━━━\u001b[0m\u001b[37m\u001b[0m \u001b[1m0s\u001b[0m 22ms/step\n",
      "Profit: -10.99\n",
      "108/108 - 7s - 65ms/step - accuracy: 0.7143 - loss: 0.5569 - val_accuracy: 0.7078 - val_loss: 0.5567\n",
      "Epoch 6/40\n",
      "\n",
      "Epoch 6: val_loss improved from 0.55666 to 0.55592, saving model to ./saved_models/last_saved_model.keras\n",
      "\u001b[1m19/19\u001b[0m \u001b[32m━━━━━━━━━━━━━━━━━━━━\u001b[0m\u001b[37m\u001b[0m \u001b[1m0s\u001b[0m 20ms/step\n",
      "Profit: -16.61\n",
      "108/108 - 7s - 65ms/step - accuracy: 0.7175 - loss: 0.5513 - val_accuracy: 0.7086 - val_loss: 0.5559\n",
      "Epoch 7/40\n",
      "\n",
      "Epoch 7: val_loss improved from 0.55592 to 0.55215, saving model to ./saved_models/last_saved_model.keras\n",
      "\u001b[1m19/19\u001b[0m \u001b[32m━━━━━━━━━━━━━━━━━━━━\u001b[0m\u001b[37m\u001b[0m \u001b[1m0s\u001b[0m 20ms/step\n",
      "Profit: -16.57\n",
      "108/108 - 7s - 62ms/step - accuracy: 0.7181 - loss: 0.5488 - val_accuracy: 0.7144 - val_loss: 0.5521\n",
      "Epoch 8/40\n",
      "\n",
      "Epoch 8: val_loss improved from 0.55215 to 0.55089, saving model to ./saved_models/last_saved_model.keras\n",
      "\u001b[1m19/19\u001b[0m \u001b[32m━━━━━━━━━━━━━━━━━━━━\u001b[0m\u001b[37m\u001b[0m \u001b[1m0s\u001b[0m 19ms/step\n",
      "Profit: -16.09\n",
      "108/108 - 7s - 61ms/step - accuracy: 0.7248 - loss: 0.5452 - val_accuracy: 0.7086 - val_loss: 0.5509\n",
      "Epoch 9/40\n",
      "\n",
      "Epoch 9: val_loss improved from 0.55089 to 0.54957, saving model to ./saved_models/last_saved_model.keras\n",
      "\u001b[1m19/19\u001b[0m \u001b[32m━━━━━━━━━━━━━━━━━━━━\u001b[0m\u001b[37m\u001b[0m \u001b[1m0s\u001b[0m 18ms/step\n",
      "Profit: -17.03\n",
      "108/108 - 6s - 60ms/step - accuracy: 0.7251 - loss: 0.5435 - val_accuracy: 0.7144 - val_loss: 0.5496\n",
      "Epoch 10/40\n",
      "\n",
      "Epoch 10: val_loss did not improve from 0.54957\n",
      "\u001b[1m19/19\u001b[0m \u001b[32m━━━━━━━━━━━━━━━━━━━━\u001b[0m\u001b[37m\u001b[0m \u001b[1m0s\u001b[0m 19ms/step\n",
      "Profit: -16.21\n",
      "108/108 - 6s - 59ms/step - accuracy: 0.7285 - loss: 0.5400 - val_accuracy: 0.7119 - val_loss: 0.5512\n",
      "Epoch 11/40\n",
      "\n",
      "Epoch 11: val_loss improved from 0.54957 to 0.54837, saving model to ./saved_models/last_saved_model.keras\n",
      "\u001b[1m19/19\u001b[0m \u001b[32m━━━━━━━━━━━━━━━━━━━━\u001b[0m\u001b[37m\u001b[0m \u001b[1m1s\u001b[0m 29ms/step\n",
      "Profit: -14.71\n",
      "108/108 - 10s - 97ms/step - accuracy: 0.7267 - loss: 0.5409 - val_accuracy: 0.7119 - val_loss: 0.5484\n",
      "Epoch 12/40\n",
      "\n",
      "Epoch 12: val_loss did not improve from 0.54837\n",
      "\u001b[1m19/19\u001b[0m \u001b[32m━━━━━━━━━━━━━━━━━━━━\u001b[0m\u001b[37m\u001b[0m \u001b[1m0s\u001b[0m 19ms/step\n",
      "Profit: -15.55\n",
      "108/108 - 6s - 58ms/step - accuracy: 0.7281 - loss: 0.5369 - val_accuracy: 0.7086 - val_loss: 0.5488\n",
      "Epoch 13/40\n",
      "\n",
      "Epoch 13: val_loss improved from 0.54837 to 0.54753, saving model to ./saved_models/last_saved_model.keras\n",
      "\u001b[1m19/19\u001b[0m \u001b[32m━━━━━━━━━━━━━━━━━━━━\u001b[0m\u001b[37m\u001b[0m \u001b[1m0s\u001b[0m 18ms/step\n",
      "Profit: -13.35\n",
      "108/108 - 6s - 58ms/step - accuracy: 0.7296 - loss: 0.5366 - val_accuracy: 0.7062 - val_loss: 0.5475\n",
      "Epoch 14/40\n",
      "\n",
      "Epoch 14: val_loss improved from 0.54753 to 0.54702, saving model to ./saved_models/last_saved_model.keras\n",
      "\u001b[1m19/19\u001b[0m \u001b[32m━━━━━━━━━━━━━━━━━━━━\u001b[0m\u001b[37m\u001b[0m \u001b[1m0s\u001b[0m 18ms/step\n",
      "Profit: -14.95\n",
      "108/108 - 6s - 58ms/step - accuracy: 0.7306 - loss: 0.5371 - val_accuracy: 0.7095 - val_loss: 0.5470\n",
      "Epoch 15/40\n",
      "\n",
      "Epoch 15: val_loss improved from 0.54702 to 0.54570, saving model to ./saved_models/last_saved_model.keras\n",
      "\u001b[1m19/19\u001b[0m \u001b[32m━━━━━━━━━━━━━━━━━━━━\u001b[0m\u001b[37m\u001b[0m \u001b[1m1s\u001b[0m 28ms/step\n",
      "Profit: -18.93\n",
      "108/108 - 7s - 69ms/step - accuracy: 0.7323 - loss: 0.5362 - val_accuracy: 0.7111 - val_loss: 0.5457\n",
      "Epoch 16/40\n",
      "\n",
      "Epoch 16: val_loss improved from 0.54570 to 0.54560, saving model to ./saved_models/last_saved_model.keras\n",
      "\u001b[1m19/19\u001b[0m \u001b[32m━━━━━━━━━━━━━━━━━━━━\u001b[0m\u001b[37m\u001b[0m \u001b[1m0s\u001b[0m 18ms/step\n",
      "Profit: -16.7\n",
      "108/108 - 6s - 59ms/step - accuracy: 0.7326 - loss: 0.5334 - val_accuracy: 0.7119 - val_loss: 0.5456\n",
      "Epoch 17/40\n",
      "\n",
      "Epoch 17: val_loss improved from 0.54560 to 0.54555, saving model to ./saved_models/last_saved_model.keras\n",
      "\u001b[1m19/19\u001b[0m \u001b[32m━━━━━━━━━━━━━━━━━━━━\u001b[0m\u001b[37m\u001b[0m \u001b[1m0s\u001b[0m 18ms/step\n",
      "Profit: -14.69\n",
      "108/108 - 6s - 59ms/step - accuracy: 0.7323 - loss: 0.5326 - val_accuracy: 0.7136 - val_loss: 0.5455\n",
      "Epoch 18/40\n",
      "\n",
      "Epoch 18: val_loss improved from 0.54555 to 0.54525, saving model to ./saved_models/last_saved_model.keras\n",
      "\u001b[1m19/19\u001b[0m \u001b[32m━━━━━━━━━━━━━━━━━━━━\u001b[0m\u001b[37m\u001b[0m \u001b[1m0s\u001b[0m 18ms/step\n",
      "Profit: -14.9\n",
      "108/108 - 6s - 59ms/step - accuracy: 0.7349 - loss: 0.5335 - val_accuracy: 0.7128 - val_loss: 0.5453\n",
      "Epoch 19/40\n",
      "\n",
      "Epoch 19: val_loss improved from 0.54525 to 0.54288, saving model to ./saved_models/last_saved_model.keras\n",
      "\u001b[1m19/19\u001b[0m \u001b[32m━━━━━━━━━━━━━━━━━━━━\u001b[0m\u001b[37m\u001b[0m \u001b[1m0s\u001b[0m 18ms/step\n",
      "Profit: -14.7\n",
      "108/108 - 6s - 58ms/step - accuracy: 0.7359 - loss: 0.5300 - val_accuracy: 0.7128 - val_loss: 0.5429\n",
      "Epoch 20/40\n",
      "\n",
      "Epoch 20: val_loss did not improve from 0.54288\n",
      "\u001b[1m19/19\u001b[0m \u001b[32m━━━━━━━━━━━━━━━━━━━━\u001b[0m\u001b[37m\u001b[0m \u001b[1m0s\u001b[0m 18ms/step\n",
      "Profit: -13.38\n",
      "108/108 - 6s - 60ms/step - accuracy: 0.7355 - loss: 0.5306 - val_accuracy: 0.7095 - val_loss: 0.5431\n",
      "Epoch 21/40\n",
      "\n",
      "Epoch 21: val_loss improved from 0.54288 to 0.54040, saving model to ./saved_models/last_saved_model.keras\n",
      "\u001b[1m19/19\u001b[0m \u001b[32m━━━━━━━━━━━━━━━━━━━━\u001b[0m\u001b[37m\u001b[0m \u001b[1m0s\u001b[0m 18ms/step\n",
      "Profit: -13.7\n",
      "108/108 - 6s - 58ms/step - accuracy: 0.7413 - loss: 0.5297 - val_accuracy: 0.7095 - val_loss: 0.5404\n",
      "Epoch 22/40\n",
      "\n",
      "Epoch 22: val_loss did not improve from 0.54040\n",
      "\u001b[1m19/19\u001b[0m \u001b[32m━━━━━━━━━━━━━━━━━━━━\u001b[0m\u001b[37m\u001b[0m \u001b[1m1s\u001b[0m 29ms/step\n",
      "Profit: -13.92\n",
      "108/108 - 8s - 74ms/step - accuracy: 0.7387 - loss: 0.5264 - val_accuracy: 0.7103 - val_loss: 0.5423\n",
      "Epoch 23/40\n",
      "\n",
      "Epoch 23: val_loss did not improve from 0.54040\n",
      "\u001b[1m19/19\u001b[0m \u001b[32m━━━━━━━━━━━━━━━━━━━━\u001b[0m\u001b[37m\u001b[0m \u001b[1m1s\u001b[0m 25ms/step\n",
      "Profit: -14.84\n",
      "108/108 - 9s - 84ms/step - accuracy: 0.7413 - loss: 0.5259 - val_accuracy: 0.7119 - val_loss: 0.5411\n",
      "Epoch 24/40\n",
      "\n",
      "Epoch 24: val_loss did not improve from 0.54040\n",
      "\u001b[1m19/19\u001b[0m \u001b[32m━━━━━━━━━━━━━━━━━━━━\u001b[0m\u001b[37m\u001b[0m \u001b[1m1s\u001b[0m 25ms/step\n",
      "Profit: -10.64\n",
      "108/108 - 7s - 65ms/step - accuracy: 0.7402 - loss: 0.5239 - val_accuracy: 0.7070 - val_loss: 0.5427\n",
      "\u001b[1m19/19\u001b[0m \u001b[32m━━━━━━━━━━━━━━━━━━━━\u001b[0m\u001b[37m\u001b[0m \u001b[1m2s\u001b[0m 51ms/step\n",
      "Repeat 4 running...\n"
     ]
    },
    {
     "name": "stderr",
     "output_type": "stream",
     "text": [
      "C:\\Users\\kucha\\AppData\\Roaming\\Python\\Python310\\site-packages\\keras\\src\\layers\\rnn\\rnn.py:204: UserWarning:\n",
      "\n",
      "Do not pass an `input_shape`/`input_dim` argument to a layer. When using Sequential models, prefer using an `Input(shape)` object as the first layer in the model instead.\n",
      "\n"
     ]
    },
    {
     "data": {
      "text/html": [
       "<pre style=\"white-space:pre;overflow-x:auto;line-height:normal;font-family:Menlo,'DejaVu Sans Mono',consolas,'Courier New',monospace\"><span style=\"font-weight: bold\">Model: \"sequential_9\"</span>\n",
       "</pre>\n"
      ],
      "text/plain": [
       "\u001b[1mModel: \"sequential_9\"\u001b[0m\n"
      ]
     },
     "metadata": {},
     "output_type": "display_data"
    },
    {
     "data": {
      "text/html": [
       "<pre style=\"white-space:pre;overflow-x:auto;line-height:normal;font-family:Menlo,'DejaVu Sans Mono',consolas,'Courier New',monospace\">┏━━━━━━━━━━━━━━━━━━━━━━━━━━━━━━━━━┳━━━━━━━━━━━━━━━━━━━━━━━━┳━━━━━━━━━━━━━━━┓\n",
       "┃<span style=\"font-weight: bold\"> Layer (type)                    </span>┃<span style=\"font-weight: bold\"> Output Shape           </span>┃<span style=\"font-weight: bold\">       Param # </span>┃\n",
       "┡━━━━━━━━━━━━━━━━━━━━━━━━━━━━━━━━━╇━━━━━━━━━━━━━━━━━━━━━━━━╇━━━━━━━━━━━━━━━┩\n",
       "│ lstm_28 (<span style=\"color: #0087ff; text-decoration-color: #0087ff\">LSTM</span>)                  │ (<span style=\"color: #00d7ff; text-decoration-color: #00d7ff\">None</span>, <span style=\"color: #00af00; text-decoration-color: #00af00\">10</span>, <span style=\"color: #00af00; text-decoration-color: #00af00\">150</span>)        │        <span style=\"color: #00af00; text-decoration-color: #00af00\">94,200</span> │\n",
       "├─────────────────────────────────┼────────────────────────┼───────────────┤\n",
       "│ dropout_27 (<span style=\"color: #0087ff; text-decoration-color: #0087ff\">Dropout</span>)            │ (<span style=\"color: #00d7ff; text-decoration-color: #00d7ff\">None</span>, <span style=\"color: #00af00; text-decoration-color: #00af00\">10</span>, <span style=\"color: #00af00; text-decoration-color: #00af00\">150</span>)        │             <span style=\"color: #00af00; text-decoration-color: #00af00\">0</span> │\n",
       "├─────────────────────────────────┼────────────────────────┼───────────────┤\n",
       "│ lstm_29 (<span style=\"color: #0087ff; text-decoration-color: #0087ff\">LSTM</span>)                  │ (<span style=\"color: #00d7ff; text-decoration-color: #00d7ff\">None</span>, <span style=\"color: #00af00; text-decoration-color: #00af00\">150</span>)            │       <span style=\"color: #00af00; text-decoration-color: #00af00\">180,600</span> │\n",
       "├─────────────────────────────────┼────────────────────────┼───────────────┤\n",
       "│ dropout_28 (<span style=\"color: #0087ff; text-decoration-color: #0087ff\">Dropout</span>)            │ (<span style=\"color: #00d7ff; text-decoration-color: #00d7ff\">None</span>, <span style=\"color: #00af00; text-decoration-color: #00af00\">150</span>)            │             <span style=\"color: #00af00; text-decoration-color: #00af00\">0</span> │\n",
       "├─────────────────────────────────┼────────────────────────┼───────────────┤\n",
       "│ dense_18 (<span style=\"color: #0087ff; text-decoration-color: #0087ff\">Dense</span>)                │ (<span style=\"color: #00d7ff; text-decoration-color: #00d7ff\">None</span>, <span style=\"color: #00af00; text-decoration-color: #00af00\">75</span>)             │        <span style=\"color: #00af00; text-decoration-color: #00af00\">11,325</span> │\n",
       "├─────────────────────────────────┼────────────────────────┼───────────────┤\n",
       "│ dropout_29 (<span style=\"color: #0087ff; text-decoration-color: #0087ff\">Dropout</span>)            │ (<span style=\"color: #00d7ff; text-decoration-color: #00d7ff\">None</span>, <span style=\"color: #00af00; text-decoration-color: #00af00\">75</span>)             │             <span style=\"color: #00af00; text-decoration-color: #00af00\">0</span> │\n",
       "├─────────────────────────────────┼────────────────────────┼───────────────┤\n",
       "│ dense_19 (<span style=\"color: #0087ff; text-decoration-color: #0087ff\">Dense</span>)                │ (<span style=\"color: #00d7ff; text-decoration-color: #00d7ff\">None</span>, <span style=\"color: #00af00; text-decoration-color: #00af00\">2</span>)              │           <span style=\"color: #00af00; text-decoration-color: #00af00\">152</span> │\n",
       "└─────────────────────────────────┴────────────────────────┴───────────────┘\n",
       "</pre>\n"
      ],
      "text/plain": [
       "┏━━━━━━━━━━━━━━━━━━━━━━━━━━━━━━━━━┳━━━━━━━━━━━━━━━━━━━━━━━━┳━━━━━━━━━━━━━━━┓\n",
       "┃\u001b[1m \u001b[0m\u001b[1mLayer (type)                   \u001b[0m\u001b[1m \u001b[0m┃\u001b[1m \u001b[0m\u001b[1mOutput Shape          \u001b[0m\u001b[1m \u001b[0m┃\u001b[1m \u001b[0m\u001b[1m      Param #\u001b[0m\u001b[1m \u001b[0m┃\n",
       "┡━━━━━━━━━━━━━━━━━━━━━━━━━━━━━━━━━╇━━━━━━━━━━━━━━━━━━━━━━━━╇━━━━━━━━━━━━━━━┩\n",
       "│ lstm_28 (\u001b[38;5;33mLSTM\u001b[0m)                  │ (\u001b[38;5;45mNone\u001b[0m, \u001b[38;5;34m10\u001b[0m, \u001b[38;5;34m150\u001b[0m)        │        \u001b[38;5;34m94,200\u001b[0m │\n",
       "├─────────────────────────────────┼────────────────────────┼───────────────┤\n",
       "│ dropout_27 (\u001b[38;5;33mDropout\u001b[0m)            │ (\u001b[38;5;45mNone\u001b[0m, \u001b[38;5;34m10\u001b[0m, \u001b[38;5;34m150\u001b[0m)        │             \u001b[38;5;34m0\u001b[0m │\n",
       "├─────────────────────────────────┼────────────────────────┼───────────────┤\n",
       "│ lstm_29 (\u001b[38;5;33mLSTM\u001b[0m)                  │ (\u001b[38;5;45mNone\u001b[0m, \u001b[38;5;34m150\u001b[0m)            │       \u001b[38;5;34m180,600\u001b[0m │\n",
       "├─────────────────────────────────┼────────────────────────┼───────────────┤\n",
       "│ dropout_28 (\u001b[38;5;33mDropout\u001b[0m)            │ (\u001b[38;5;45mNone\u001b[0m, \u001b[38;5;34m150\u001b[0m)            │             \u001b[38;5;34m0\u001b[0m │\n",
       "├─────────────────────────────────┼────────────────────────┼───────────────┤\n",
       "│ dense_18 (\u001b[38;5;33mDense\u001b[0m)                │ (\u001b[38;5;45mNone\u001b[0m, \u001b[38;5;34m75\u001b[0m)             │        \u001b[38;5;34m11,325\u001b[0m │\n",
       "├─────────────────────────────────┼────────────────────────┼───────────────┤\n",
       "│ dropout_29 (\u001b[38;5;33mDropout\u001b[0m)            │ (\u001b[38;5;45mNone\u001b[0m, \u001b[38;5;34m75\u001b[0m)             │             \u001b[38;5;34m0\u001b[0m │\n",
       "├─────────────────────────────────┼────────────────────────┼───────────────┤\n",
       "│ dense_19 (\u001b[38;5;33mDense\u001b[0m)                │ (\u001b[38;5;45mNone\u001b[0m, \u001b[38;5;34m2\u001b[0m)              │           \u001b[38;5;34m152\u001b[0m │\n",
       "└─────────────────────────────────┴────────────────────────┴───────────────┘\n"
      ]
     },
     "metadata": {},
     "output_type": "display_data"
    },
    {
     "data": {
      "text/html": [
       "<pre style=\"white-space:pre;overflow-x:auto;line-height:normal;font-family:Menlo,'DejaVu Sans Mono',consolas,'Courier New',monospace\"><span style=\"font-weight: bold\"> Total params: </span><span style=\"color: #00af00; text-decoration-color: #00af00\">286,277</span> (1.09 MB)\n",
       "</pre>\n"
      ],
      "text/plain": [
       "\u001b[1m Total params: \u001b[0m\u001b[38;5;34m286,277\u001b[0m (1.09 MB)\n"
      ]
     },
     "metadata": {},
     "output_type": "display_data"
    },
    {
     "data": {
      "text/html": [
       "<pre style=\"white-space:pre;overflow-x:auto;line-height:normal;font-family:Menlo,'DejaVu Sans Mono',consolas,'Courier New',monospace\"><span style=\"font-weight: bold\"> Trainable params: </span><span style=\"color: #00af00; text-decoration-color: #00af00\">286,277</span> (1.09 MB)\n",
       "</pre>\n"
      ],
      "text/plain": [
       "\u001b[1m Trainable params: \u001b[0m\u001b[38;5;34m286,277\u001b[0m (1.09 MB)\n"
      ]
     },
     "metadata": {},
     "output_type": "display_data"
    },
    {
     "data": {
      "text/html": [
       "<pre style=\"white-space:pre;overflow-x:auto;line-height:normal;font-family:Menlo,'DejaVu Sans Mono',consolas,'Courier New',monospace\"><span style=\"font-weight: bold\"> Non-trainable params: </span><span style=\"color: #00af00; text-decoration-color: #00af00\">0</span> (0.00 B)\n",
       "</pre>\n"
      ],
      "text/plain": [
       "\u001b[1m Non-trainable params: \u001b[0m\u001b[38;5;34m0\u001b[0m (0.00 B)\n"
      ]
     },
     "metadata": {},
     "output_type": "display_data"
    },
    {
     "name": "stdout",
     "output_type": "stream",
     "text": [
      "Epoch 1/40\n",
      "\n",
      "Epoch 1: val_loss improved from inf to 0.62505, saving model to ./saved_models/last_saved_model.keras\n",
      "\u001b[1m19/19\u001b[0m \u001b[32m━━━━━━━━━━━━━━━━━━━━\u001b[0m\u001b[37m\u001b[0m \u001b[1m1s\u001b[0m 52ms/step\n",
      "New best model saved, previous best profit -> -5.43\n",
      "Profit: -2.19\n",
      "108/108 - 14s - 134ms/step - accuracy: 0.6004 - loss: 0.6700 - val_accuracy: 0.6527 - val_loss: 0.6250\n",
      "Epoch 2/40\n",
      "\n",
      "Epoch 2: val_loss improved from 0.62505 to 0.60503, saving model to ./saved_models/last_saved_model.keras\n",
      "\u001b[1m19/19\u001b[0m \u001b[32m━━━━━━━━━━━━━━━━━━━━\u001b[0m\u001b[37m\u001b[0m \u001b[1m1s\u001b[0m 27ms/step\n",
      "Profit: -10.52\n",
      "108/108 - 7s - 64ms/step - accuracy: 0.6732 - loss: 0.6091 - val_accuracy: 0.6840 - val_loss: 0.6050\n",
      "Epoch 3/40\n",
      "\n",
      "Epoch 3: val_loss improved from 0.60503 to 0.57739, saving model to ./saved_models/last_saved_model.keras\n",
      "\u001b[1m19/19\u001b[0m \u001b[32m━━━━━━━━━━━━━━━━━━━━\u001b[0m\u001b[37m\u001b[0m \u001b[1m0s\u001b[0m 19ms/step\n",
      "Profit: -15.23\n",
      "108/108 - 8s - 77ms/step - accuracy: 0.6959 - loss: 0.5835 - val_accuracy: 0.6996 - val_loss: 0.5774\n",
      "Epoch 4/40\n",
      "\n",
      "Epoch 4: val_loss improved from 0.57739 to 0.56420, saving model to ./saved_models/last_saved_model.keras\n",
      "\u001b[1m19/19\u001b[0m \u001b[32m━━━━━━━━━━━━━━━━━━━━\u001b[0m\u001b[37m\u001b[0m \u001b[1m1s\u001b[0m 33ms/step\n",
      "Profit: -14.47\n",
      "108/108 - 8s - 73ms/step - accuracy: 0.7076 - loss: 0.5684 - val_accuracy: 0.7086 - val_loss: 0.5642\n",
      "Epoch 5/40\n",
      "\n",
      "Epoch 5: val_loss improved from 0.56420 to 0.55644, saving model to ./saved_models/last_saved_model.keras\n",
      "\u001b[1m19/19\u001b[0m \u001b[32m━━━━━━━━━━━━━━━━━━━━\u001b[0m\u001b[37m\u001b[0m \u001b[1m0s\u001b[0m 20ms/step\n",
      "Profit: -15.83\n",
      "108/108 - 7s - 68ms/step - accuracy: 0.7123 - loss: 0.5602 - val_accuracy: 0.7053 - val_loss: 0.5564\n",
      "Epoch 6/40\n",
      "\n",
      "Epoch 6: val_loss improved from 0.55644 to 0.55469, saving model to ./saved_models/last_saved_model.keras\n",
      "\u001b[1m19/19\u001b[0m \u001b[32m━━━━━━━━━━━━━━━━━━━━\u001b[0m\u001b[37m\u001b[0m \u001b[1m0s\u001b[0m 22ms/step\n",
      "Profit: -10.09\n",
      "108/108 - 10s - 90ms/step - accuracy: 0.7174 - loss: 0.5528 - val_accuracy: 0.7053 - val_loss: 0.5547\n",
      "Epoch 7/40\n",
      "\n",
      "Epoch 7: val_loss improved from 0.55469 to 0.55256, saving model to ./saved_models/last_saved_model.keras\n",
      "\u001b[1m19/19\u001b[0m \u001b[32m━━━━━━━━━━━━━━━━━━━━\u001b[0m\u001b[37m\u001b[0m \u001b[1m0s\u001b[0m 19ms/step\n",
      "Profit: -20.07\n",
      "108/108 - 7s - 67ms/step - accuracy: 0.7229 - loss: 0.5509 - val_accuracy: 0.7062 - val_loss: 0.5526\n",
      "Epoch 8/40\n",
      "\n",
      "Epoch 8: val_loss improved from 0.55256 to 0.55217, saving model to ./saved_models/last_saved_model.keras\n",
      "\u001b[1m19/19\u001b[0m \u001b[32m━━━━━━━━━━━━━━━━━━━━\u001b[0m\u001b[37m\u001b[0m \u001b[1m0s\u001b[0m 18ms/step\n",
      "Profit: -14.59\n",
      "108/108 - 9s - 87ms/step - accuracy: 0.7242 - loss: 0.5447 - val_accuracy: 0.7128 - val_loss: 0.5522\n",
      "Epoch 9/40\n",
      "\n",
      "Epoch 9: val_loss improved from 0.55217 to 0.55036, saving model to ./saved_models/last_saved_model.keras\n",
      "\u001b[1m19/19\u001b[0m \u001b[32m━━━━━━━━━━━━━━━━━━━━\u001b[0m\u001b[37m\u001b[0m \u001b[1m0s\u001b[0m 18ms/step\n",
      "Profit: -16.43\n",
      "108/108 - 6s - 60ms/step - accuracy: 0.7277 - loss: 0.5452 - val_accuracy: 0.7144 - val_loss: 0.5504\n",
      "Epoch 10/40\n",
      "\n",
      "Epoch 10: val_loss improved from 0.55036 to 0.54986, saving model to ./saved_models/last_saved_model.keras\n",
      "\u001b[1m19/19\u001b[0m \u001b[32m━━━━━━━━━━━━━━━━━━━━\u001b[0m\u001b[37m\u001b[0m \u001b[1m0s\u001b[0m 18ms/step\n",
      "Profit: -16.07\n",
      "108/108 - 7s - 63ms/step - accuracy: 0.7203 - loss: 0.5427 - val_accuracy: 0.7152 - val_loss: 0.5499\n",
      "Epoch 11/40\n",
      "\n",
      "Epoch 11: val_loss improved from 0.54986 to 0.54892, saving model to ./saved_models/last_saved_model.keras\n",
      "\u001b[1m19/19\u001b[0m \u001b[32m━━━━━━━━━━━━━━━━━━━━\u001b[0m\u001b[37m\u001b[0m \u001b[1m0s\u001b[0m 21ms/step\n",
      "Profit: -14.41\n",
      "108/108 - 7s - 62ms/step - accuracy: 0.7258 - loss: 0.5410 - val_accuracy: 0.7119 - val_loss: 0.5489\n",
      "Epoch 12/40\n",
      "\n",
      "Epoch 12: val_loss improved from 0.54892 to 0.54776, saving model to ./saved_models/last_saved_model.keras\n",
      "\u001b[1m19/19\u001b[0m \u001b[32m━━━━━━━━━━━━━━━━━━━━\u001b[0m\u001b[37m\u001b[0m \u001b[1m0s\u001b[0m 21ms/step\n",
      "Profit: -16.47\n",
      "108/108 - 8s - 74ms/step - accuracy: 0.7274 - loss: 0.5399 - val_accuracy: 0.7119 - val_loss: 0.5478\n",
      "Epoch 13/40\n",
      "\n",
      "Epoch 13: val_loss improved from 0.54776 to 0.54653, saving model to ./saved_models/last_saved_model.keras\n",
      "\u001b[1m19/19\u001b[0m \u001b[32m━━━━━━━━━━━━━━━━━━━━\u001b[0m\u001b[37m\u001b[0m \u001b[1m0s\u001b[0m 23ms/step\n",
      "Profit: -16.49\n",
      "108/108 - 9s - 81ms/step - accuracy: 0.7309 - loss: 0.5374 - val_accuracy: 0.7169 - val_loss: 0.5465\n",
      "Epoch 14/40\n",
      "\n",
      "Epoch 14: val_loss did not improve from 0.54653\n",
      "\u001b[1m19/19\u001b[0m \u001b[32m━━━━━━━━━━━━━━━━━━━━\u001b[0m\u001b[37m\u001b[0m \u001b[1m0s\u001b[0m 21ms/step\n",
      "Profit: -16.83\n",
      "108/108 - 7s - 63ms/step - accuracy: 0.7310 - loss: 0.5379 - val_accuracy: 0.7053 - val_loss: 0.5478\n",
      "Epoch 15/40\n",
      "\n",
      "Epoch 15: val_loss did not improve from 0.54653\n",
      "\u001b[1m19/19\u001b[0m \u001b[32m━━━━━━━━━━━━━━━━━━━━\u001b[0m\u001b[37m\u001b[0m \u001b[1m0s\u001b[0m 18ms/step\n",
      "Profit: -18.7\n",
      "108/108 - 7s - 62ms/step - accuracy: 0.7320 - loss: 0.5357 - val_accuracy: 0.7136 - val_loss: 0.5468\n",
      "Epoch 16/40\n",
      "\n",
      "Epoch 16: val_loss did not improve from 0.54653\n",
      "\u001b[1m19/19\u001b[0m \u001b[32m━━━━━━━━━━━━━━━━━━━━\u001b[0m\u001b[37m\u001b[0m \u001b[1m0s\u001b[0m 18ms/step\n",
      "Profit: -16.36\n",
      "108/108 - 6s - 58ms/step - accuracy: 0.7336 - loss: 0.5363 - val_accuracy: 0.7078 - val_loss: 0.5469\n",
      "\u001b[1m19/19\u001b[0m \u001b[32m━━━━━━━━━━━━━━━━━━━━\u001b[0m\u001b[37m\u001b[0m \u001b[1m1s\u001b[0m 42ms/step\n"
     ]
    },
    {
     "data": {
      "application/vnd.plotly.v1+json": {
       "config": {
        "plotlyServerURL": "https://plot.ly"
       },
       "data": [
        {
         "line": {
          "color": "#0000ff"
         },
         "name": "accuracy0",
         "showlegend": false,
         "type": "scatter",
         "x": [
          0,
          1,
          2,
          3,
          4,
          5,
          6,
          7,
          8,
          9,
          10,
          11,
          12,
          13,
          14,
          15,
          16,
          17,
          18,
          19,
          20,
          21
         ],
         "xaxis": "x",
         "y": [
          0.6469135880470276,
          0.6874364614486694,
          0.7077705264091492,
          0.7164850831031799,
          0.7160493731498718,
          0.7257806658744812,
          0.7262164354324341,
          0.7291212677955627,
          0.728540301322937,
          0.7297022342681885,
          0.7318809032440186,
          0.7334786057472229,
          0.7336238026618958,
          0.7317356467247009,
          0.7337690591812134,
          0.7337690591812134,
          0.7358024716377258,
          0.7342047691345215,
          0.7376906275749207,
          0.7349309921264648,
          0.7368191480636597,
          0.7362381815910339
         ],
         "yaxis": "y"
        },
        {
         "line": {
          "color": "#0000ff"
         },
         "name": "loss0",
         "showlegend": false,
         "type": "scatter",
         "x": [
          0,
          1,
          2,
          3,
          4,
          5,
          6,
          7,
          8,
          9,
          10,
          11,
          12,
          13,
          14,
          15,
          16,
          17,
          18,
          19,
          20,
          21
         ],
         "xaxis": "x2",
         "y": [
          0.6305180191993713,
          0.5908504128456116,
          0.5699001550674438,
          0.5568478107452393,
          0.5477727651596069,
          0.5431494116783142,
          0.540908932685852,
          0.5374108552932739,
          0.5369203686714172,
          0.5327619314193726,
          0.5331078767776489,
          0.5325561761856079,
          0.5315611958503723,
          0.5307012796401978,
          0.529813289642334,
          0.5271109342575073,
          0.5277103185653687,
          0.5260886549949646,
          0.5254488587379456,
          0.524106502532959,
          0.5217220187187195,
          0.5221904516220093
         ],
         "yaxis": "y2"
        },
        {
         "line": {
          "color": "#EF8260"
         },
         "name": "val_accuracy0",
         "showlegend": false,
         "type": "scatter",
         "x": [
          0,
          1,
          2,
          3,
          4,
          5,
          6,
          7,
          8,
          9,
          10,
          11,
          12,
          13,
          14,
          15,
          16,
          17,
          18,
          19,
          20,
          21
         ],
         "xaxis": "x",
         "y": [
          0.6674897074699402,
          0.6847736835479736,
          0.7061728239059448,
          0.7185184955596924,
          0.7193415760993958,
          0.7144032716751099,
          0.7119341492652893,
          0.7152263522148132,
          0.7144032716751099,
          0.7127572298049927,
          0.7102880477905273,
          0.7185184955596924,
          0.7152263522148132,
          0.7209876775741577,
          0.7193415760993958,
          0.7201645970344543,
          0.7185184955596924,
          0.7176954746246338,
          0.7218106985092163,
          0.7193415760993958,
          0.7168724536895752,
          0.7193415760993958
         ],
         "yaxis": "y"
        },
        {
         "line": {
          "color": "#EF8260"
         },
         "name": "val_loss0",
         "showlegend": false,
         "type": "scatter",
         "x": [
          0,
          1,
          2,
          3,
          4,
          5,
          6,
          7,
          8,
          9,
          10,
          11,
          12,
          13,
          14,
          15,
          16,
          17,
          18,
          19,
          20,
          21
         ],
         "xaxis": "x2",
         "y": [
          0.603065013885498,
          0.5842862129211426,
          0.5654765367507935,
          0.5535547733306885,
          0.5492700338363647,
          0.5499034523963928,
          0.5470905303955078,
          0.5468494296073914,
          0.5454433560371399,
          0.545703649520874,
          0.5461642146110535,
          0.5452175140380859,
          0.5445238947868347,
          0.5442221164703369,
          0.5464966297149658,
          0.5437951683998108,
          0.5458745360374451,
          0.54428631067276,
          0.5437874794006348,
          0.5460595488548279,
          0.5448891520500183,
          0.5439505577087402
         ],
         "yaxis": "y2"
        },
        {
         "line": {
          "color": "#EF8260"
         },
         "name": "profit0",
         "showlegend": false,
         "type": "scatter",
         "x": [
          0,
          1,
          2,
          3,
          4,
          5,
          6,
          7,
          8,
          9,
          10,
          11,
          12,
          13,
          14,
          15,
          16,
          17,
          18,
          19,
          20,
          21
         ],
         "xaxis": "x3",
         "y": [
          -10.74,
          -8.56,
          -15.31,
          -14.66,
          -11.64,
          -13.62,
          -14.06,
          -12.84,
          -17.68,
          -16.26,
          -14.24,
          -12.7,
          -17.28,
          -15.7,
          -13.92,
          -12.3,
          -11.6,
          -13.72,
          -11.48,
          -11.62,
          -11.46,
          -11.26
         ],
         "yaxis": "y3"
        },
        {
         "line": {
          "color": "#0000ff"
         },
         "name": "accuracy1",
         "showlegend": false,
         "type": "scatter",
         "x": [
          0,
          1,
          2,
          3,
          4,
          5,
          6,
          7,
          8,
          9,
          10,
          11,
          12,
          13,
          14,
          15,
          16,
          17,
          18,
          19,
          20,
          21,
          22,
          23,
          24,
          25,
          26,
          27
         ],
         "xaxis": "x",
         "y": [
          0.613943338394165,
          0.6753812432289124,
          0.6987654566764832,
          0.7122730612754822,
          0.7182280421257019,
          0.7199709415435791,
          0.7234567999839783,
          0.7241830229759216,
          0.7265068888664246,
          0.727668821811676,
          0.7263616323471069,
          0.7291212677955627,
          0.7281045913696289,
          0.7283950448036194,
          0.7288308143615723,
          0.7358024716377258,
          0.7291212677955627,
          0.7326071262359619,
          0.7353667616844177,
          0.7333333492279053,
          0.737545371055603,
          0.7388525605201721,
          0.7382715940475464,
          0.7382715940475464,
          0.7388525605201721,
          0.7404502630233765,
          0.7427741289138794,
          0.7430646419525146
         ],
         "yaxis": "y"
        },
        {
         "line": {
          "color": "#0000ff"
         },
         "name": "loss1",
         "showlegend": false,
         "type": "scatter",
         "x": [
          0,
          1,
          2,
          3,
          4,
          5,
          6,
          7,
          8,
          9,
          10,
          11,
          12,
          13,
          14,
          15,
          16,
          17,
          18,
          19,
          20,
          21,
          22,
          23,
          24,
          25,
          26,
          27
         ],
         "xaxis": "x2",
         "y": [
          0.6601603031158447,
          0.6058480143547058,
          0.5792438387870789,
          0.5644190311431885,
          0.5542644262313843,
          0.5519606471061707,
          0.547793984413147,
          0.5454245805740356,
          0.5433185696601868,
          0.5425426959991455,
          0.540111780166626,
          0.5389849543571472,
          0.537846565246582,
          0.5365336537361145,
          0.5365324020385742,
          0.532203197479248,
          0.5338403582572937,
          0.5326088070869446,
          0.5305371284484863,
          0.5295913219451904,
          0.5289903879165649,
          0.527069628238678,
          0.5276399850845337,
          0.5261558890342712,
          0.5241012573242188,
          0.5232905149459839,
          0.5199634432792664,
          0.5212037563323975
         ],
         "yaxis": "y2"
        },
        {
         "line": {
          "color": "#EF8260"
         },
         "name": "val_accuracy1",
         "showlegend": false,
         "type": "scatter",
         "x": [
          0,
          1,
          2,
          3,
          4,
          5,
          6,
          7,
          8,
          9,
          10,
          11,
          12,
          13,
          14,
          15,
          16,
          17,
          18,
          19,
          20,
          21,
          22,
          23,
          24,
          25,
          26,
          27
         ],
         "xaxis": "x",
         "y": [
          0.6600822806358337,
          0.6847736835479736,
          0.7020576000213623,
          0.7037037014961243,
          0.6971193552017212,
          0.7061728239059448,
          0.7102880477905273,
          0.7152263522148132,
          0.7152263522148132,
          0.7119341492652893,
          0.7144032716751099,
          0.7061728239059448,
          0.7053498029708862,
          0.7061728239059448,
          0.7037037014961243,
          0.7078189253807068,
          0.7102880477905273,
          0.7094650268554688,
          0.7086419463157654,
          0.7078189253807068,
          0.7086419463157654,
          0.7094650268554688,
          0.7086419463157654,
          0.7135802507400513,
          0.7111111283302307,
          0.7102880477905273,
          0.7152263522148132,
          0.7111111283302307
         ],
         "yaxis": "y"
        },
        {
         "line": {
          "color": "#EF8260"
         },
         "name": "val_loss1",
         "showlegend": false,
         "type": "scatter",
         "x": [
          0,
          1,
          2,
          3,
          4,
          5,
          6,
          7,
          8,
          9,
          10,
          11,
          12,
          13,
          14,
          15,
          16,
          17,
          18,
          19,
          20,
          21,
          22,
          23,
          24,
          25,
          26,
          27
         ],
         "xaxis": "x2",
         "y": [
          0.624647855758667,
          0.601428747177124,
          0.5753255486488342,
          0.563025176525116,
          0.5579068660736084,
          0.5554633736610413,
          0.5534771680831909,
          0.5512376427650452,
          0.5501853823661804,
          0.5496065616607666,
          0.5485082268714905,
          0.5488499999046326,
          0.548164427280426,
          0.5472359657287598,
          0.5478413105010986,
          0.5471076965332031,
          0.5460984110832214,
          0.5457873940467834,
          0.5461071133613586,
          0.5458402633666992,
          0.5449634194374084,
          0.5439900159835815,
          0.5425017476081848,
          0.5421048402786255,
          0.5412459373474121,
          0.5420032143592834,
          0.5419537425041199,
          0.542660653591156
         ],
         "yaxis": "y2"
        },
        {
         "line": {
          "color": "#EF8260"
         },
         "name": "profit1",
         "showlegend": false,
         "type": "scatter",
         "x": [
          0,
          1,
          2,
          3,
          4,
          5,
          6,
          7,
          8,
          9,
          10,
          11,
          12,
          13,
          14,
          15,
          16,
          17,
          18,
          19,
          20,
          21,
          22,
          23,
          24,
          25,
          26,
          27
         ],
         "xaxis": "x3",
         "y": [
          -6.84,
          -10.96,
          -13.35,
          -15.21,
          -9.93,
          -14.41,
          -12.95,
          -16.53,
          -16.09,
          -16.39,
          -15.85,
          -16.83,
          -16.21,
          -14.87,
          -15.09,
          -11.51,
          -15.62,
          -14.86,
          -14.8,
          -15.62,
          -16.46,
          -16.3,
          -16.22,
          -13.3,
          -16.06,
          -13.18,
          -12.52,
          -13.98
         ],
         "yaxis": "y3"
        },
        {
         "line": {
          "color": "#0000ff"
         },
         "name": "accuracy2",
         "showlegend": false,
         "type": "scatter",
         "x": [
          0,
          1,
          2,
          3,
          4,
          5,
          6,
          7,
          8,
          9,
          10,
          11,
          12,
          13,
          14,
          15,
          16,
          17,
          18,
          19,
          20,
          21,
          22,
          23,
          24,
          25,
          26,
          27
         ],
         "xaxis": "x",
         "y": [
          0.6053739786148071,
          0.6750907897949219,
          0.699782133102417,
          0.7122730612754822,
          0.7160493731498718,
          0.7227305769920349,
          0.7217138409614563,
          0.723166286945343,
          0.7263616323471069,
          0.7275236248970032,
          0.7286855578422546,
          0.7282498478889465,
          0.7295570373535156,
          0.7301380038261414,
          0.7344952821731567,
          0.7331880927085876,
          0.7346405386924744,
          0.7331880927085876,
          0.7323166131973267,
          0.7360929846763611,
          0.734785795211792,
          0.7371096611022949,
          0.739288330078125,
          0.7403050065040588,
          0.7426289319992065,
          0.7426289319992065,
          0.7416121959686279,
          0.7391430735588074
         ],
         "yaxis": "y"
        },
        {
         "line": {
          "color": "#0000ff"
         },
         "name": "loss2",
         "showlegend": false,
         "type": "scatter",
         "x": [
          0,
          1,
          2,
          3,
          4,
          5,
          6,
          7,
          8,
          9,
          10,
          11,
          12,
          13,
          14,
          15,
          16,
          17,
          18,
          19,
          20,
          21,
          22,
          23,
          24,
          25,
          26,
          27
         ],
         "xaxis": "x2",
         "y": [
          0.6666693091392517,
          0.6023048162460327,
          0.5768195986747742,
          0.5629616379737854,
          0.5539093613624573,
          0.5507968664169312,
          0.5456592440605164,
          0.546135425567627,
          0.5437847971916199,
          0.5417072772979736,
          0.5397604703903198,
          0.5397103428840637,
          0.5377660989761353,
          0.5370466709136963,
          0.5342233180999756,
          0.5339764952659607,
          0.5329281091690063,
          0.5320764780044556,
          0.5311795473098755,
          0.5298423767089844,
          0.5282966494560242,
          0.5276363492012024,
          0.5259916186332703,
          0.5267583727836609,
          0.5233171582221985,
          0.5247721076011658,
          0.5209929347038269,
          0.5189651846885681
         ],
         "yaxis": "y2"
        },
        {
         "line": {
          "color": "#EF8260"
         },
         "name": "val_accuracy2",
         "showlegend": false,
         "type": "scatter",
         "x": [
          0,
          1,
          2,
          3,
          4,
          5,
          6,
          7,
          8,
          9,
          10,
          11,
          12,
          13,
          14,
          15,
          16,
          17,
          18,
          19,
          20,
          21,
          22,
          23,
          24,
          25,
          26,
          27
         ],
         "xaxis": "x",
         "y": [
          0.6526749134063721,
          0.6864197254180908,
          0.7028806805610657,
          0.7012345790863037,
          0.6987654566764832,
          0.7135802507400513,
          0.7135802507400513,
          0.7168724536895752,
          0.7135802507400513,
          0.7119341492652893,
          0.7144032716751099,
          0.7119341492652893,
          0.7135802507400513,
          0.7094650268554688,
          0.7127572298049927,
          0.7160493731498718,
          0.7053498029708862,
          0.7061728239059448,
          0.7086419463157654,
          0.7086419463157654,
          0.7053498029708862,
          0.7086419463157654,
          0.7053498029708862,
          0.7127572298049927,
          0.7078189253807068,
          0.7102880477905273,
          0.7152263522148132,
          0.7152263522148132
         ],
         "yaxis": "y"
        },
        {
         "line": {
          "color": "#EF8260"
         },
         "name": "val_loss2",
         "showlegend": false,
         "type": "scatter",
         "x": [
          0,
          1,
          2,
          3,
          4,
          5,
          6,
          7,
          8,
          9,
          10,
          11,
          12,
          13,
          14,
          15,
          16,
          17,
          18,
          19,
          20,
          21,
          22,
          23,
          24,
          25,
          26,
          27
         ],
         "xaxis": "x2",
         "y": [
          0.6274207830429077,
          0.600170373916626,
          0.5739350318908691,
          0.5615923404693604,
          0.556831419467926,
          0.5529277920722961,
          0.5522814393043518,
          0.5506367087364197,
          0.5489532351493835,
          0.5483131408691406,
          0.5484982132911682,
          0.5484921336174011,
          0.5472774505615234,
          0.5465242862701416,
          0.5466792583465576,
          0.546454131603241,
          0.5483371019363403,
          0.5455749034881592,
          0.546073853969574,
          0.5445694923400879,
          0.5440476536750793,
          0.5432780385017395,
          0.5430588722229004,
          0.5424189567565918,
          0.5419199466705322,
          0.5421006679534912,
          0.5427221655845642,
          0.5436604022979736
         ],
         "yaxis": "y2"
        },
        {
         "line": {
          "color": "#EF8260"
         },
         "name": "profit2",
         "showlegend": false,
         "type": "scatter",
         "x": [
          0,
          1,
          2,
          3,
          4,
          5,
          6,
          7,
          8,
          9,
          10,
          11,
          12,
          13,
          14,
          15,
          16,
          17,
          18,
          19,
          20,
          21,
          22,
          23,
          24,
          25,
          26,
          27
         ],
         "xaxis": "x3",
         "y": [
          -6.83,
          -16.98,
          -10.95,
          -9.75,
          -9.43,
          -16.99,
          -13.95,
          -14.67,
          -15.87,
          -15.41,
          -14.09,
          -13.95,
          -15.19,
          -16.39,
          -13.77,
          -10.83,
          -14.37,
          -11.39,
          -15.13,
          -14.6,
          -15.94,
          -13.86,
          -13.96,
          -13.86,
          -15.5,
          -8.74,
          -11.66,
          -9.98
         ],
         "yaxis": "y3"
        },
        {
         "line": {
          "color": "#0000ff"
         },
         "name": "accuracy3",
         "showlegend": false,
         "type": "scatter",
         "x": [
          0,
          1,
          2,
          3,
          4,
          5,
          6,
          7,
          8,
          9,
          10,
          11,
          12,
          13,
          14,
          15,
          16,
          17,
          18,
          19,
          20,
          21,
          22,
          23
         ],
         "xaxis": "x",
         "y": [
          0.6069716811180115,
          0.6781408786773682,
          0.6976034641265869,
          0.7102396488189697,
          0.7143064737319946,
          0.7175018191337585,
          0.7180827856063843,
          0.7247639894485474,
          0.7250544428825378,
          0.728540301322937,
          0.7266521453857422,
          0.7281045913696289,
          0.7295570373535156,
          0.7305737137794495,
          0.7323166131973267,
          0.7326071262359619,
          0.7323166131973267,
          0.7349309921264648,
          0.7359477281570435,
          0.7355119585990906,
          0.7413217425346375,
          0.7387073636054993,
          0.7413217425346375,
          0.7401597499847412
         ],
         "yaxis": "y"
        },
        {
         "line": {
          "color": "#0000ff"
         },
         "name": "loss3",
         "showlegend": false,
         "type": "scatter",
         "x": [
          0,
          1,
          2,
          3,
          4,
          5,
          6,
          7,
          8,
          9,
          10,
          11,
          12,
          13,
          14,
          15,
          16,
          17,
          18,
          19,
          20,
          21,
          22,
          23
         ],
         "xaxis": "x2",
         "y": [
          0.6637654900550842,
          0.6033832430839539,
          0.5776437520980835,
          0.5654243230819702,
          0.5568801164627075,
          0.5513383746147156,
          0.548790454864502,
          0.5452499985694885,
          0.5435160398483276,
          0.5400161743164062,
          0.5408572554588318,
          0.5368849039077759,
          0.5366271138191223,
          0.537078857421875,
          0.5362175107002258,
          0.5334262251853943,
          0.532604455947876,
          0.5335306525230408,
          0.5299954414367676,
          0.5305666923522949,
          0.5296545624732971,
          0.5264247059822083,
          0.5259080529212952,
          0.5239481329917908
         ],
         "yaxis": "y2"
        },
        {
         "line": {
          "color": "#EF8260"
         },
         "name": "val_accuracy3",
         "showlegend": false,
         "type": "scatter",
         "x": [
          0,
          1,
          2,
          3,
          4,
          5,
          6,
          7,
          8,
          9,
          10,
          11,
          12,
          13,
          14,
          15,
          16,
          17,
          18,
          19,
          20,
          21,
          22,
          23
         ],
         "xaxis": "x",
         "y": [
          0.6584362387657166,
          0.6831275820732117,
          0.7053498029708862,
          0.7045267224311829,
          0.7078189253807068,
          0.7086419463157654,
          0.7144032716751099,
          0.7086419463157654,
          0.7144032716751099,
          0.7119341492652893,
          0.7119341492652893,
          0.7086419463157654,
          0.7061728239059448,
          0.7094650268554688,
          0.7111111283302307,
          0.7119341492652893,
          0.7135802507400513,
          0.7127572298049927,
          0.7127572298049927,
          0.7094650268554688,
          0.7094650268554688,
          0.7102880477905273,
          0.7119341492652893,
          0.7069959044456482
         ],
         "yaxis": "y"
        },
        {
         "line": {
          "color": "#EF8260"
         },
         "name": "val_loss3",
         "showlegend": false,
         "type": "scatter",
         "x": [
          0,
          1,
          2,
          3,
          4,
          5,
          6,
          7,
          8,
          9,
          10,
          11,
          12,
          13,
          14,
          15,
          16,
          17,
          18,
          19,
          20,
          21,
          22,
          23
         ],
         "xaxis": "x2",
         "y": [
          0.6273605227470398,
          0.6038068532943726,
          0.5759168863296509,
          0.5637093782424927,
          0.5566638112068176,
          0.5559239387512207,
          0.5521460175514221,
          0.5508946776390076,
          0.5495721697807312,
          0.5511777400970459,
          0.5483695864677429,
          0.5487637519836426,
          0.5475276708602905,
          0.5470165610313416,
          0.5457016229629517,
          0.5455983281135559,
          0.5455461740493774,
          0.545254111289978,
          0.5428803563117981,
          0.543117880821228,
          0.5403962135314941,
          0.542277455329895,
          0.541104257106781,
          0.5426713824272156
         ],
         "yaxis": "y2"
        },
        {
         "line": {
          "color": "#EF8260"
         },
         "name": "profit3",
         "showlegend": false,
         "type": "scatter",
         "x": [
          0,
          1,
          2,
          3,
          4,
          5,
          6,
          7,
          8,
          9,
          10,
          11,
          12,
          13,
          14,
          15,
          16,
          17,
          18,
          19,
          20,
          21,
          22,
          23
         ],
         "xaxis": "x3",
         "y": [
          -5.43,
          -15.5,
          -12.11,
          -15.39,
          -10.99,
          -16.61,
          -16.57,
          -16.09,
          -17.03,
          -16.21,
          -14.71,
          -15.55,
          -13.35,
          -14.95,
          -18.93,
          -16.7,
          -14.69,
          -14.9,
          -14.7,
          -13.38,
          -13.7,
          -13.92,
          -14.84,
          -10.64
         ],
         "yaxis": "y3"
        },
        {
         "line": {
          "color": "#0000ff"
         },
         "name": "accuracy4",
         "showlegend": false,
         "type": "scatter",
         "x": [
          0,
          1,
          2,
          3,
          4,
          5,
          6,
          7,
          8,
          9,
          10,
          11,
          12,
          13,
          14,
          15
         ],
         "xaxis": "x",
         "y": [
          0.600435733795166,
          0.673202633857727,
          0.6958605647087097,
          0.7076252698898315,
          0.7122730612754822,
          0.7173565626144409,
          0.7228758335113525,
          0.7241830229759216,
          0.727668821811676,
          0.7202614545822144,
          0.7257806658744812,
          0.7273783683776855,
          0.7308642268180847,
          0.7310094237327576,
          0.7320261597633362,
          0.7336238026618958
         ],
         "yaxis": "y"
        },
        {
         "line": {
          "color": "#0000ff"
         },
         "name": "loss4",
         "showlegend": false,
         "type": "scatter",
         "x": [
          0,
          1,
          2,
          3,
          4,
          5,
          6,
          7,
          8,
          9,
          10,
          11,
          12,
          13,
          14,
          15
         ],
         "xaxis": "x2",
         "y": [
          0.6700170040130615,
          0.6090712547302246,
          0.5835192203521729,
          0.568370521068573,
          0.5601552724838257,
          0.5528210997581482,
          0.5509331822395325,
          0.5447226762771606,
          0.5452073812484741,
          0.5427235960960388,
          0.5410146117210388,
          0.5398738980293274,
          0.537446141242981,
          0.5379408597946167,
          0.535664439201355,
          0.5363202095031738
         ],
         "yaxis": "y2"
        },
        {
         "line": {
          "color": "#EF8260"
         },
         "name": "val_accuracy4",
         "showlegend": false,
         "type": "scatter",
         "x": [
          0,
          1,
          2,
          3,
          4,
          5,
          6,
          7,
          8,
          9,
          10,
          11,
          12,
          13,
          14,
          15
         ],
         "xaxis": "x",
         "y": [
          0.6526749134063721,
          0.6839506030082703,
          0.6995884776115417,
          0.7086419463157654,
          0.7053498029708862,
          0.7053498029708862,
          0.7061728239059448,
          0.7127572298049927,
          0.7144032716751099,
          0.7152263522148132,
          0.7119341492652893,
          0.7119341492652893,
          0.7168724536895752,
          0.7053498029708862,
          0.7135802507400513,
          0.7078189253807068
         ],
         "yaxis": "y"
        },
        {
         "line": {
          "color": "#EF8260"
         },
         "name": "val_loss4",
         "showlegend": false,
         "type": "scatter",
         "x": [
          0,
          1,
          2,
          3,
          4,
          5,
          6,
          7,
          8,
          9,
          10,
          11,
          12,
          13,
          14,
          15
         ],
         "xaxis": "x2",
         "y": [
          0.6250477433204651,
          0.605033278465271,
          0.577394962310791,
          0.5642048120498657,
          0.5564383864402771,
          0.5546890497207642,
          0.5525612831115723,
          0.5521660447120667,
          0.5503557920455933,
          0.5498559474945068,
          0.5489187836647034,
          0.5477577447891235,
          0.5465265512466431,
          0.5477803349494934,
          0.5467977523803711,
          0.546852171421051
         ],
         "yaxis": "y2"
        },
        {
         "line": {
          "color": "#EF8260"
         },
         "name": "profit4",
         "showlegend": false,
         "type": "scatter",
         "x": [
          0,
          1,
          2,
          3,
          4,
          5,
          6,
          7,
          8,
          9,
          10,
          11,
          12,
          13,
          14,
          15
         ],
         "xaxis": "x3",
         "y": [
          -2.19,
          -10.52,
          -15.23,
          -14.47,
          -15.83,
          -10.09,
          -20.07,
          -14.59,
          -16.43,
          -16.07,
          -14.41,
          -16.47,
          -16.49,
          -16.83,
          -18.7,
          -16.36
         ],
         "yaxis": "y3"
        }
       ],
       "layout": {
        "annotations": [
         {
          "font": {
           "size": 16
          },
          "showarrow": false,
          "text": "Accuracy",
          "x": 0.14444444444444446,
          "xanchor": "center",
          "xref": "paper",
          "y": 1,
          "yanchor": "bottom",
          "yref": "paper"
         },
         {
          "font": {
           "size": 16
          },
          "showarrow": false,
          "text": "Loss",
          "x": 0.5,
          "xanchor": "center",
          "xref": "paper",
          "y": 1,
          "yanchor": "bottom",
          "yref": "paper"
         },
         {
          "font": {
           "size": 16
          },
          "showarrow": false,
          "text": "Profit",
          "x": 0.8555555555555556,
          "xanchor": "center",
          "xref": "paper",
          "y": 1,
          "yanchor": "bottom",
          "yref": "paper"
         }
        ],
        "autosize": true,
        "height": 1000,
        "template": {
         "data": {
          "bar": [
           {
            "error_x": {
             "color": "#2a3f5f"
            },
            "error_y": {
             "color": "#2a3f5f"
            },
            "marker": {
             "line": {
              "color": "#E5ECF6",
              "width": 0.5
             },
             "pattern": {
              "fillmode": "overlay",
              "size": 10,
              "solidity": 0.2
             }
            },
            "type": "bar"
           }
          ],
          "barpolar": [
           {
            "marker": {
             "line": {
              "color": "#E5ECF6",
              "width": 0.5
             },
             "pattern": {
              "fillmode": "overlay",
              "size": 10,
              "solidity": 0.2
             }
            },
            "type": "barpolar"
           }
          ],
          "carpet": [
           {
            "aaxis": {
             "endlinecolor": "#2a3f5f",
             "gridcolor": "white",
             "linecolor": "white",
             "minorgridcolor": "white",
             "startlinecolor": "#2a3f5f"
            },
            "baxis": {
             "endlinecolor": "#2a3f5f",
             "gridcolor": "white",
             "linecolor": "white",
             "minorgridcolor": "white",
             "startlinecolor": "#2a3f5f"
            },
            "type": "carpet"
           }
          ],
          "choropleth": [
           {
            "colorbar": {
             "outlinewidth": 0,
             "ticks": ""
            },
            "type": "choropleth"
           }
          ],
          "contour": [
           {
            "colorbar": {
             "outlinewidth": 0,
             "ticks": ""
            },
            "colorscale": [
             [
              0,
              "#0d0887"
             ],
             [
              0.1111111111111111,
              "#46039f"
             ],
             [
              0.2222222222222222,
              "#7201a8"
             ],
             [
              0.3333333333333333,
              "#9c179e"
             ],
             [
              0.4444444444444444,
              "#bd3786"
             ],
             [
              0.5555555555555556,
              "#d8576b"
             ],
             [
              0.6666666666666666,
              "#ed7953"
             ],
             [
              0.7777777777777778,
              "#fb9f3a"
             ],
             [
              0.8888888888888888,
              "#fdca26"
             ],
             [
              1,
              "#f0f921"
             ]
            ],
            "type": "contour"
           }
          ],
          "contourcarpet": [
           {
            "colorbar": {
             "outlinewidth": 0,
             "ticks": ""
            },
            "type": "contourcarpet"
           }
          ],
          "heatmap": [
           {
            "colorbar": {
             "outlinewidth": 0,
             "ticks": ""
            },
            "colorscale": [
             [
              0,
              "#0d0887"
             ],
             [
              0.1111111111111111,
              "#46039f"
             ],
             [
              0.2222222222222222,
              "#7201a8"
             ],
             [
              0.3333333333333333,
              "#9c179e"
             ],
             [
              0.4444444444444444,
              "#bd3786"
             ],
             [
              0.5555555555555556,
              "#d8576b"
             ],
             [
              0.6666666666666666,
              "#ed7953"
             ],
             [
              0.7777777777777778,
              "#fb9f3a"
             ],
             [
              0.8888888888888888,
              "#fdca26"
             ],
             [
              1,
              "#f0f921"
             ]
            ],
            "type": "heatmap"
           }
          ],
          "heatmapgl": [
           {
            "colorbar": {
             "outlinewidth": 0,
             "ticks": ""
            },
            "colorscale": [
             [
              0,
              "#0d0887"
             ],
             [
              0.1111111111111111,
              "#46039f"
             ],
             [
              0.2222222222222222,
              "#7201a8"
             ],
             [
              0.3333333333333333,
              "#9c179e"
             ],
             [
              0.4444444444444444,
              "#bd3786"
             ],
             [
              0.5555555555555556,
              "#d8576b"
             ],
             [
              0.6666666666666666,
              "#ed7953"
             ],
             [
              0.7777777777777778,
              "#fb9f3a"
             ],
             [
              0.8888888888888888,
              "#fdca26"
             ],
             [
              1,
              "#f0f921"
             ]
            ],
            "type": "heatmapgl"
           }
          ],
          "histogram": [
           {
            "marker": {
             "pattern": {
              "fillmode": "overlay",
              "size": 10,
              "solidity": 0.2
             }
            },
            "type": "histogram"
           }
          ],
          "histogram2d": [
           {
            "colorbar": {
             "outlinewidth": 0,
             "ticks": ""
            },
            "colorscale": [
             [
              0,
              "#0d0887"
             ],
             [
              0.1111111111111111,
              "#46039f"
             ],
             [
              0.2222222222222222,
              "#7201a8"
             ],
             [
              0.3333333333333333,
              "#9c179e"
             ],
             [
              0.4444444444444444,
              "#bd3786"
             ],
             [
              0.5555555555555556,
              "#d8576b"
             ],
             [
              0.6666666666666666,
              "#ed7953"
             ],
             [
              0.7777777777777778,
              "#fb9f3a"
             ],
             [
              0.8888888888888888,
              "#fdca26"
             ],
             [
              1,
              "#f0f921"
             ]
            ],
            "type": "histogram2d"
           }
          ],
          "histogram2dcontour": [
           {
            "colorbar": {
             "outlinewidth": 0,
             "ticks": ""
            },
            "colorscale": [
             [
              0,
              "#0d0887"
             ],
             [
              0.1111111111111111,
              "#46039f"
             ],
             [
              0.2222222222222222,
              "#7201a8"
             ],
             [
              0.3333333333333333,
              "#9c179e"
             ],
             [
              0.4444444444444444,
              "#bd3786"
             ],
             [
              0.5555555555555556,
              "#d8576b"
             ],
             [
              0.6666666666666666,
              "#ed7953"
             ],
             [
              0.7777777777777778,
              "#fb9f3a"
             ],
             [
              0.8888888888888888,
              "#fdca26"
             ],
             [
              1,
              "#f0f921"
             ]
            ],
            "type": "histogram2dcontour"
           }
          ],
          "mesh3d": [
           {
            "colorbar": {
             "outlinewidth": 0,
             "ticks": ""
            },
            "type": "mesh3d"
           }
          ],
          "parcoords": [
           {
            "line": {
             "colorbar": {
              "outlinewidth": 0,
              "ticks": ""
             }
            },
            "type": "parcoords"
           }
          ],
          "pie": [
           {
            "automargin": true,
            "type": "pie"
           }
          ],
          "scatter": [
           {
            "fillpattern": {
             "fillmode": "overlay",
             "size": 10,
             "solidity": 0.2
            },
            "type": "scatter"
           }
          ],
          "scatter3d": [
           {
            "line": {
             "colorbar": {
              "outlinewidth": 0,
              "ticks": ""
             }
            },
            "marker": {
             "colorbar": {
              "outlinewidth": 0,
              "ticks": ""
             }
            },
            "type": "scatter3d"
           }
          ],
          "scattercarpet": [
           {
            "marker": {
             "colorbar": {
              "outlinewidth": 0,
              "ticks": ""
             }
            },
            "type": "scattercarpet"
           }
          ],
          "scattergeo": [
           {
            "marker": {
             "colorbar": {
              "outlinewidth": 0,
              "ticks": ""
             }
            },
            "type": "scattergeo"
           }
          ],
          "scattergl": [
           {
            "marker": {
             "colorbar": {
              "outlinewidth": 0,
              "ticks": ""
             }
            },
            "type": "scattergl"
           }
          ],
          "scattermapbox": [
           {
            "marker": {
             "colorbar": {
              "outlinewidth": 0,
              "ticks": ""
             }
            },
            "type": "scattermapbox"
           }
          ],
          "scatterpolar": [
           {
            "marker": {
             "colorbar": {
              "outlinewidth": 0,
              "ticks": ""
             }
            },
            "type": "scatterpolar"
           }
          ],
          "scatterpolargl": [
           {
            "marker": {
             "colorbar": {
              "outlinewidth": 0,
              "ticks": ""
             }
            },
            "type": "scatterpolargl"
           }
          ],
          "scatterternary": [
           {
            "marker": {
             "colorbar": {
              "outlinewidth": 0,
              "ticks": ""
             }
            },
            "type": "scatterternary"
           }
          ],
          "surface": [
           {
            "colorbar": {
             "outlinewidth": 0,
             "ticks": ""
            },
            "colorscale": [
             [
              0,
              "#0d0887"
             ],
             [
              0.1111111111111111,
              "#46039f"
             ],
             [
              0.2222222222222222,
              "#7201a8"
             ],
             [
              0.3333333333333333,
              "#9c179e"
             ],
             [
              0.4444444444444444,
              "#bd3786"
             ],
             [
              0.5555555555555556,
              "#d8576b"
             ],
             [
              0.6666666666666666,
              "#ed7953"
             ],
             [
              0.7777777777777778,
              "#fb9f3a"
             ],
             [
              0.8888888888888888,
              "#fdca26"
             ],
             [
              1,
              "#f0f921"
             ]
            ],
            "type": "surface"
           }
          ],
          "table": [
           {
            "cells": {
             "fill": {
              "color": "#EBF0F8"
             },
             "line": {
              "color": "white"
             }
            },
            "header": {
             "fill": {
              "color": "#C8D4E3"
             },
             "line": {
              "color": "white"
             }
            },
            "type": "table"
           }
          ]
         },
         "layout": {
          "annotationdefaults": {
           "arrowcolor": "#2a3f5f",
           "arrowhead": 0,
           "arrowwidth": 1
          },
          "autotypenumbers": "strict",
          "coloraxis": {
           "colorbar": {
            "outlinewidth": 0,
            "ticks": ""
           }
          },
          "colorscale": {
           "diverging": [
            [
             0,
             "#8e0152"
            ],
            [
             0.1,
             "#c51b7d"
            ],
            [
             0.2,
             "#de77ae"
            ],
            [
             0.3,
             "#f1b6da"
            ],
            [
             0.4,
             "#fde0ef"
            ],
            [
             0.5,
             "#f7f7f7"
            ],
            [
             0.6,
             "#e6f5d0"
            ],
            [
             0.7,
             "#b8e186"
            ],
            [
             0.8,
             "#7fbc41"
            ],
            [
             0.9,
             "#4d9221"
            ],
            [
             1,
             "#276419"
            ]
           ],
           "sequential": [
            [
             0,
             "#0d0887"
            ],
            [
             0.1111111111111111,
             "#46039f"
            ],
            [
             0.2222222222222222,
             "#7201a8"
            ],
            [
             0.3333333333333333,
             "#9c179e"
            ],
            [
             0.4444444444444444,
             "#bd3786"
            ],
            [
             0.5555555555555556,
             "#d8576b"
            ],
            [
             0.6666666666666666,
             "#ed7953"
            ],
            [
             0.7777777777777778,
             "#fb9f3a"
            ],
            [
             0.8888888888888888,
             "#fdca26"
            ],
            [
             1,
             "#f0f921"
            ]
           ],
           "sequentialminus": [
            [
             0,
             "#0d0887"
            ],
            [
             0.1111111111111111,
             "#46039f"
            ],
            [
             0.2222222222222222,
             "#7201a8"
            ],
            [
             0.3333333333333333,
             "#9c179e"
            ],
            [
             0.4444444444444444,
             "#bd3786"
            ],
            [
             0.5555555555555556,
             "#d8576b"
            ],
            [
             0.6666666666666666,
             "#ed7953"
            ],
            [
             0.7777777777777778,
             "#fb9f3a"
            ],
            [
             0.8888888888888888,
             "#fdca26"
            ],
            [
             1,
             "#f0f921"
            ]
           ]
          },
          "colorway": [
           "#636efa",
           "#EF553B",
           "#00cc96",
           "#ab63fa",
           "#FFA15A",
           "#19d3f3",
           "#FF6692",
           "#B6E880",
           "#FF97FF",
           "#FECB52"
          ],
          "font": {
           "color": "#2a3f5f"
          },
          "geo": {
           "bgcolor": "white",
           "lakecolor": "white",
           "landcolor": "#E5ECF6",
           "showlakes": true,
           "showland": true,
           "subunitcolor": "white"
          },
          "hoverlabel": {
           "align": "left"
          },
          "hovermode": "closest",
          "mapbox": {
           "style": "light"
          },
          "paper_bgcolor": "white",
          "plot_bgcolor": "#E5ECF6",
          "polar": {
           "angularaxis": {
            "gridcolor": "white",
            "linecolor": "white",
            "ticks": ""
           },
           "bgcolor": "#E5ECF6",
           "radialaxis": {
            "gridcolor": "white",
            "linecolor": "white",
            "ticks": ""
           }
          },
          "scene": {
           "xaxis": {
            "backgroundcolor": "#E5ECF6",
            "gridcolor": "white",
            "gridwidth": 2,
            "linecolor": "white",
            "showbackground": true,
            "ticks": "",
            "zerolinecolor": "white"
           },
           "yaxis": {
            "backgroundcolor": "#E5ECF6",
            "gridcolor": "white",
            "gridwidth": 2,
            "linecolor": "white",
            "showbackground": true,
            "ticks": "",
            "zerolinecolor": "white"
           },
           "zaxis": {
            "backgroundcolor": "#E5ECF6",
            "gridcolor": "white",
            "gridwidth": 2,
            "linecolor": "white",
            "showbackground": true,
            "ticks": "",
            "zerolinecolor": "white"
           }
          },
          "shapedefaults": {
           "line": {
            "color": "#2a3f5f"
           }
          },
          "ternary": {
           "aaxis": {
            "gridcolor": "white",
            "linecolor": "white",
            "ticks": ""
           },
           "baxis": {
            "gridcolor": "white",
            "linecolor": "white",
            "ticks": ""
           },
           "bgcolor": "#E5ECF6",
           "caxis": {
            "gridcolor": "white",
            "linecolor": "white",
            "ticks": ""
           }
          },
          "title": {
           "x": 0.05
          },
          "xaxis": {
           "automargin": true,
           "gridcolor": "white",
           "linecolor": "white",
           "ticks": "",
           "title": {
            "standoff": 15
           },
           "zerolinecolor": "white",
           "zerolinewidth": 2
          },
          "yaxis": {
           "automargin": true,
           "gridcolor": "white",
           "linecolor": "white",
           "ticks": "",
           "title": {
            "standoff": 15
           },
           "zerolinecolor": "white",
           "zerolinewidth": 2
          }
         }
        },
        "width": 1600,
        "xaxis": {
         "anchor": "y",
         "domain": [
          0,
          0.2888888888888889
         ],
         "title": {
          "text": "epochs"
         }
        },
        "xaxis2": {
         "anchor": "y2",
         "domain": [
          0.35555555555555557,
          0.6444444444444445
         ],
         "title": {
          "text": "epochs"
         }
        },
        "xaxis3": {
         "anchor": "y3",
         "domain": [
          0.7111111111111111,
          1
         ],
         "title": {
          "text": "epochs"
         }
        },
        "yaxis": {
         "anchor": "x",
         "domain": [
          0,
          1
         ],
         "title": {
          "text": ""
         }
        },
        "yaxis2": {
         "anchor": "x2",
         "domain": [
          0,
          1
         ],
         "title": {
          "text": ""
         }
        },
        "yaxis3": {
         "anchor": "x3",
         "domain": [
          0,
          1
         ],
         "title": {
          "text": ""
         }
        }
       }
      }
     },
     "metadata": {},
     "output_type": "display_data"
    },
    {
     "name": "stdout",
     "output_type": "stream",
     "text": [
      "               0          1\n",
      "count   5.000000   5.000000\n",
      "mean   71.654322  71.341565\n",
      "std     0.189480   0.580232\n",
      "min    71.440327  70.781893\n",
      "25%    71.522635  70.946503\n",
      "50%    71.687245  71.111113\n",
      "75%    71.687245  71.687245\n",
      "max    71.934158  72.181070\n",
      "               0          1\n",
      "count   5.000000   5.000000\n",
      "mean  -13.518000 -14.686000\n",
      "std     0.927534   2.134919\n",
      "min   -14.450000 -16.850000\n",
      "25%   -14.370000 -16.780000\n",
      "50%   -13.450000 -14.420000\n",
      "75%   -13.090000 -13.440000\n",
      "max   -12.230000 -11.940000\n"
     ]
    }
   ],
   "source": [
    "# Run\n",
    "from numpy import dtype\n",
    "\n",
    "repeats = 5\n",
    "testingParameter = \"Features\"\n",
    "runMeter = 0\n",
    "results_acc = DataFrame(dtype='float')\n",
    "results_profit = DataFrame(dtype='float')\n",
    "results_profitOld = DataFrame(dtype='float')\n",
    "metrics = list()\n",
    "\n",
    "# vary training epochs\n",
    "learning_rate = 0.001\n",
    "model = 2 # [0, 1, 2, 3, 4]\n",
    "dropout = 0.2 # [0, 0.2, 0.4, 0.6, 0.8]\n",
    "denseType = 0\n",
    "neuronsLstm = 150\n",
    "epochs = 40\n",
    "\n",
    "timeStep = 10 # [10, 20, 50, 100, 150] # 150\n",
    "features = [0, 1] # 0 \n",
    "# features = [0, 1, 2, 3] # 0 \n",
    "\n",
    "# # Data gen\n",
    "# x_train, x_test, y_train, y_test, Y_test = data(timeStep, features)\n",
    "\n",
    "# for dr in dropout:\n",
    "for feat in features:\n",
    "    print(f\"{feat} {testingParameter} test start...\")\n",
    " \n",
    "    x_train, x_test, y_train, y_test, Y_test = data(timeStep, feat)\n",
    "\n",
    "    #  Profit list\n",
    "    profitListSaveModel = list()\n",
    "\n",
    "    # Experiment\n",
    "    results_acc[str(feat)], results_profit[str(feat)], results_profitOld[str(feat)], metrics = experiment(\n",
    "                                                                                            runMeter, \n",
    "                                                                                            repeats, \n",
    "                                                                                            epochs, \n",
    "                                                                                            neuronsLstm, \n",
    "                                                                                            timeStep, \n",
    "                                                                                            denseType, \n",
    "                                                                                            dropout, \n",
    "                                                                                            model, \n",
    "                                                                                            feat, \n",
    "                                                                                            learning_rate\n",
    "                                                                                            )\n",
    "    # runMeter commented if next loop parameter has different model weights  \n",
    "    #  runMeter += 1\n",
    "\n",
    "    plotsOut(feat, metrics)\n",
    "\n",
    "# summarize results\n",
    "print(results_acc.describe())\n",
    "print(results_profit.describe())"
   ]
  },
  {
   "cell_type": "code",
   "execution_count": 12,
   "metadata": {},
   "outputs": [
    {
     "name": "stdout",
     "output_type": "stream",
     "text": [
      "               0          1\n",
      "count   5.000000   5.000000\n",
      "mean   71.654322  71.341565\n",
      "std     0.189480   0.580232\n",
      "min    71.440327  70.781893\n",
      "25%    71.522635  70.946503\n",
      "50%    71.687245  71.111113\n",
      "75%    71.687245  71.687245\n",
      "max    71.934158  72.181070\n",
      "               0          1\n",
      "count   5.000000   5.000000\n",
      "mean  -13.518000 -14.686000\n",
      "std     0.927534   2.134919\n",
      "min   -14.450000 -16.850000\n",
      "25%   -14.370000 -16.780000\n",
      "50%   -13.450000 -14.420000\n",
      "75%   -13.090000 -13.440000\n",
      "max   -12.230000 -11.940000\n"
     ]
    }
   ],
   "source": [
    "# summarize results\n",
    "print(results_acc.describe())\n",
    "print(results_profit.describe())"
   ]
  },
  {
   "cell_type": "code",
   "execution_count": 13,
   "metadata": {},
   "outputs": [
    {
     "name": "stdout",
     "output_type": "stream",
     "text": [
      "               0          1\n",
      "count   5.000000   5.000000\n",
      "mean   71.654322  71.341565\n",
      "std     0.189480   0.580232\n",
      "min    71.440327  70.781893\n",
      "25%    71.522635  70.946503\n",
      "50%    71.687245  71.111113\n",
      "75%    71.687245  71.687245\n",
      "max    71.934158  72.181070\n"
     ]
    },
    {
     "data": {
      "image/png": "[encoded data removed]",
      "text/plain": [
       "<Figure size 1000x600 with 2 Axes>"
      ]
     },
     "metadata": {},
     "output_type": "display_data"
    }
   ],
   "source": [
    "%matplotlib inline\n",
    "print(results_acc.describe())\n",
    "\n",
    "# 2 subplots in one row\n",
    "fig, ax = plt.subplots(1, 2, figsize=(10, 6))\n",
    "\n",
    "# Generate boxplots\n",
    "results_acc.boxplot(ax=ax[0])\n",
    "results_profit.boxplot(ax=ax[1])\n",
    "\n",
    "# Set labels and titles\n",
    "ax[0].set_title('Accuracy')\n",
    "ax[0].set_xlabel('Model')\n",
    "ax[0].set_ylabel('Accuracy')\n",
    "ax[1].set_title('Profit')\n",
    "ax[1].set_xlabel('Model')\n",
    "ax[1].set_ylabel('Profit')\n",
    "\n",
    "# Save to .png and show plot\n",
    "plt.savefig(f'boxplot_{testingParameter}.png')\n",
    "plt.show()"
   ]
  },
  {
   "cell_type": "code",
   "execution_count": 17,
   "metadata": {},
   "outputs": [
    {
     "ename": "ValueError",
     "evalue": "File not found: filepath=./results/18/saved_models/best_model_Features_10.keras. Please ensure the file is an accessible `.keras` zip file.",
     "output_type": "error",
     "traceback": [
      "\u001b[1;31m---------------------------------------------------------------------------\u001b[0m",
      "\u001b[1;31mValueError\u001b[0m                                Traceback (most recent call last)",
      "Cell \u001b[1;32mIn[17], line 2\u001b[0m\n\u001b[0;32m      1\u001b[0m batch_size \u001b[38;5;241m=\u001b[39m \u001b[38;5;241m64\u001b[39m\n\u001b[1;32m----> 2\u001b[0m model \u001b[38;5;241m=\u001b[39m \u001b[43mload_model\u001b[49m\u001b[43m(\u001b[49m\u001b[38;5;124;43m'\u001b[39;49m\u001b[38;5;124;43m./results/18/saved_models/best_model_Features_10.keras\u001b[39;49m\u001b[38;5;124;43m'\u001b[39;49m\u001b[43m)\u001b[49m\n\u001b[0;32m      3\u001b[0m predict \u001b[38;5;241m=\u001b[39m model\u001b[38;5;241m.\u001b[39mpredict(x_test, batch_size\u001b[38;5;241m=\u001b[39mbatch_size)\n",
      "File \u001b[1;32m~\\AppData\\Roaming\\Python\\Python310\\site-packages\\keras\\src\\saving\\saving_api.py:187\u001b[0m, in \u001b[0;36mload_model\u001b[1;34m(filepath, custom_objects, compile, safe_mode)\u001b[0m\n\u001b[0;32m    183\u001b[0m     \u001b[38;5;28;01mreturn\u001b[39;00m legacy_h5_format\u001b[38;5;241m.\u001b[39mload_model_from_hdf5(\n\u001b[0;32m    184\u001b[0m         filepath, custom_objects\u001b[38;5;241m=\u001b[39mcustom_objects, \u001b[38;5;28mcompile\u001b[39m\u001b[38;5;241m=\u001b[39m\u001b[38;5;28mcompile\u001b[39m\n\u001b[0;32m    185\u001b[0m     )\n\u001b[0;32m    186\u001b[0m \u001b[38;5;28;01melif\u001b[39;00m \u001b[38;5;28mstr\u001b[39m(filepath)\u001b[38;5;241m.\u001b[39mendswith(\u001b[38;5;124m\"\u001b[39m\u001b[38;5;124m.keras\u001b[39m\u001b[38;5;124m\"\u001b[39m):\n\u001b[1;32m--> 187\u001b[0m     \u001b[38;5;28;01mraise\u001b[39;00m \u001b[38;5;167;01mValueError\u001b[39;00m(\n\u001b[0;32m    188\u001b[0m         \u001b[38;5;124mf\u001b[39m\u001b[38;5;124m\"\u001b[39m\u001b[38;5;124mFile not found: filepath=\u001b[39m\u001b[38;5;132;01m{\u001b[39;00mfilepath\u001b[38;5;132;01m}\u001b[39;00m\u001b[38;5;124m. \u001b[39m\u001b[38;5;124m\"\u001b[39m\n\u001b[0;32m    189\u001b[0m         \u001b[38;5;124m\"\u001b[39m\u001b[38;5;124mPlease ensure the file is an accessible `.keras` \u001b[39m\u001b[38;5;124m\"\u001b[39m\n\u001b[0;32m    190\u001b[0m         \u001b[38;5;124m\"\u001b[39m\u001b[38;5;124mzip file.\u001b[39m\u001b[38;5;124m\"\u001b[39m\n\u001b[0;32m    191\u001b[0m     )\n\u001b[0;32m    192\u001b[0m \u001b[38;5;28;01melse\u001b[39;00m:\n\u001b[0;32m    193\u001b[0m     \u001b[38;5;28;01mraise\u001b[39;00m \u001b[38;5;167;01mValueError\u001b[39;00m(\n\u001b[0;32m    194\u001b[0m         \u001b[38;5;124mf\u001b[39m\u001b[38;5;124m\"\u001b[39m\u001b[38;5;124mFile format not supported: filepath=\u001b[39m\u001b[38;5;132;01m{\u001b[39;00mfilepath\u001b[38;5;132;01m}\u001b[39;00m\u001b[38;5;124m. \u001b[39m\u001b[38;5;124m\"\u001b[39m\n\u001b[0;32m    195\u001b[0m         \u001b[38;5;124m\"\u001b[39m\u001b[38;5;124mKeras 3 only supports V3 `.keras` files and \u001b[39m\u001b[38;5;124m\"\u001b[39m\n\u001b[1;32m   (...)\u001b[0m\n\u001b[0;32m    204\u001b[0m         \u001b[38;5;124m\"\u001b[39m\u001b[38;5;124mmight have a different name).\u001b[39m\u001b[38;5;124m\"\u001b[39m\n\u001b[0;32m    205\u001b[0m     )\n",
      "\u001b[1;31mValueError\u001b[0m: File not found: filepath=./results/18/saved_models/best_model_Features_10.keras. Please ensure the file is an accessible `.keras` zip file."
     ]
    }
   ],
   "source": [
    "batch_size = 64\n",
    "model = load_model('./results/18/saved_models/best_model_Features_10.keras')\n",
    "predict = model.predict(x_test, batch_size=batch_size)"
   ]
  },
  {
   "cell_type": "code",
   "execution_count": 79,
   "metadata": {},
   "outputs": [
    {
     "data": {
      "application/vnd.plotly.v1+json": {
       "config": {
        "plotlyServerURL": "https://plot.ly"
       },
       "data": [
        {
         "line": {
          "color": "gray"
         },
         "showlegend": false,
         "type": "scatter",
         "x": [
          999,
          1000
         ],
         "y": [
          77.91,
          77.97
         ]
        },
        {
         "line": {
          "color": "green"
         },
         "showlegend": false,
         "type": "scatter",
         "x": [
          1000,
          1001
         ],
         "y": [
          77.97,
          77.85
         ]
        },
        {
         "line": {
          "color": "gray"
         },
         "showlegend": false,
         "type": "scatter",
         "x": [
          1001,
          1002
         ],
         "y": [
          77.85,
          77.83
         ]
        },
        {
         "line": {
          "color": "gray"
         },
         "showlegend": false,
         "type": "scatter",
         "x": [
          1002,
          1003
         ],
         "y": [
          77.83,
          77.84
         ]
        },
        {
         "line": {
          "color": "gray"
         },
         "showlegend": false,
         "type": "scatter",
         "x": [
          1003,
          1004
         ],
         "y": [
          77.84,
          77.86
         ]
        },
        {
         "line": {
          "color": "gray"
         },
         "showlegend": false,
         "type": "scatter",
         "x": [
          1004,
          1005
         ],
         "y": [
          77.86,
          77.94
         ]
        },
        {
         "line": {
          "color": "green"
         },
         "showlegend": false,
         "type": "scatter",
         "x": [
          1005,
          1006
         ],
         "y": [
          77.94,
          78.03
         ]
        },
        {
         "line": {
          "color": "green"
         },
         "showlegend": false,
         "type": "scatter",
         "x": [
          1006,
          1007
         ],
         "y": [
          78.03,
          78.04
         ]
        },
        {
         "line": {
          "color": "green"
         },
         "showlegend": false,
         "type": "scatter",
         "x": [
          1007,
          1008
         ],
         "y": [
          78.04,
          78.05
         ]
        },
        {
         "line": {
          "color": "green"
         },
         "showlegend": false,
         "type": "scatter",
         "x": [
          1008,
          1009
         ],
         "y": [
          78.05,
          78.14
         ]
        },
        {
         "line": {
          "color": "green"
         },
         "showlegend": false,
         "type": "scatter",
         "x": [
          1009,
          1010
         ],
         "y": [
          78.14,
          78.06
         ]
        },
        {
         "line": {
          "color": "green"
         },
         "showlegend": false,
         "type": "scatter",
         "x": [
          1010,
          1011
         ],
         "y": [
          78.06,
          78.13
         ]
        },
        {
         "line": {
          "color": "green"
         },
         "showlegend": false,
         "type": "scatter",
         "x": [
          1011,
          1012
         ],
         "y": [
          78.13,
          78.16
         ]
        },
        {
         "line": {
          "color": "green"
         },
         "showlegend": false,
         "type": "scatter",
         "x": [
          1012,
          1013
         ],
         "y": [
          78.16,
          78.19
         ]
        },
        {
         "line": {
          "color": "green"
         },
         "showlegend": false,
         "type": "scatter",
         "x": [
          1013,
          1014
         ],
         "y": [
          78.19,
          78.25
         ]
        },
        {
         "line": {
          "color": "green"
         },
         "showlegend": false,
         "type": "scatter",
         "x": [
          1014,
          1015
         ],
         "y": [
          78.25,
          78.22
         ]
        },
        {
         "line": {
          "color": "green"
         },
         "showlegend": false,
         "type": "scatter",
         "x": [
          1015,
          1016
         ],
         "y": [
          78.22,
          78.15
         ]
        },
        {
         "line": {
          "color": "green"
         },
         "showlegend": false,
         "type": "scatter",
         "x": [
          1016,
          1017
         ],
         "y": [
          78.15,
          78.14
         ]
        },
        {
         "line": {
          "color": "green"
         },
         "showlegend": false,
         "type": "scatter",
         "x": [
          1017,
          1018
         ],
         "y": [
          78.14,
          78.07
         ]
        },
        {
         "line": {
          "color": "gray"
         },
         "showlegend": false,
         "type": "scatter",
         "x": [
          1018,
          1019
         ],
         "y": [
          78.07,
          78.17
         ]
        },
        {
         "line": {
          "color": "gray"
         },
         "showlegend": false,
         "type": "scatter",
         "x": [
          1019,
          1020
         ],
         "y": [
          78.17,
          78.23
         ]
        },
        {
         "line": {
          "color": "green"
         },
         "showlegend": false,
         "type": "scatter",
         "x": [
          1020,
          1021
         ],
         "y": [
          78.23,
          78.35
         ]
        },
        {
         "line": {
          "color": "green"
         },
         "showlegend": false,
         "type": "scatter",
         "x": [
          1021,
          1022
         ],
         "y": [
          78.35,
          78.39
         ]
        },
        {
         "line": {
          "color": "green"
         },
         "showlegend": false,
         "type": "scatter",
         "x": [
          1022,
          1023
         ],
         "y": [
          78.39,
          78.47
         ]
        },
        {
         "line": {
          "color": "green"
         },
         "showlegend": false,
         "type": "scatter",
         "x": [
          1023,
          1024
         ],
         "y": [
          78.47,
          78.44
         ]
        },
        {
         "line": {
          "color": "green"
         },
         "showlegend": false,
         "type": "scatter",
         "x": [
          1024,
          1025
         ],
         "y": [
          78.44,
          78.5
         ]
        },
        {
         "line": {
          "color": "green"
         },
         "showlegend": false,
         "type": "scatter",
         "x": [
          1025,
          1026
         ],
         "y": [
          78.5,
          78.46
         ]
        },
        {
         "line": {
          "color": "green"
         },
         "showlegend": false,
         "type": "scatter",
         "x": [
          1026,
          1027
         ],
         "y": [
          78.46,
          78.47
         ]
        },
        {
         "line": {
          "color": "green"
         },
         "showlegend": false,
         "type": "scatter",
         "x": [
          1027,
          1028
         ],
         "y": [
          78.47,
          78.45
         ]
        },
        {
         "line": {
          "color": "green"
         },
         "showlegend": false,
         "type": "scatter",
         "x": [
          1028,
          1029
         ],
         "y": [
          78.45,
          78.44
         ]
        },
        {
         "line": {
          "color": "green"
         },
         "showlegend": false,
         "type": "scatter",
         "x": [
          1029,
          1030
         ],
         "y": [
          78.44,
          78.47
         ]
        },
        {
         "line": {
          "color": "green"
         },
         "showlegend": false,
         "type": "scatter",
         "x": [
          1030,
          1031
         ],
         "y": [
          78.47,
          78.5
         ]
        },
        {
         "line": {
          "color": "green"
         },
         "showlegend": false,
         "type": "scatter",
         "x": [
          1031,
          1032
         ],
         "y": [
          78.5,
          78.64
         ]
        },
        {
         "line": {
          "color": "green"
         },
         "showlegend": false,
         "type": "scatter",
         "x": [
          1032,
          1033
         ],
         "y": [
          78.64,
          78.52
         ]
        },
        {
         "line": {
          "color": "gray"
         },
         "showlegend": false,
         "type": "scatter",
         "x": [
          1033,
          1034
         ],
         "y": [
          78.52,
          78.47
         ]
        },
        {
         "line": {
          "color": "gray"
         },
         "showlegend": false,
         "type": "scatter",
         "x": [
          1034,
          1035
         ],
         "y": [
          78.47,
          78.57
         ]
        },
        {
         "line": {
          "color": "gray"
         },
         "showlegend": false,
         "type": "scatter",
         "x": [
          1035,
          1036
         ],
         "y": [
          78.57,
          78.56
         ]
        },
        {
         "line": {
          "color": "green"
         },
         "showlegend": false,
         "type": "scatter",
         "x": [
          1036,
          1037
         ],
         "y": [
          78.56,
          78.56
         ]
        },
        {
         "line": {
          "color": "green"
         },
         "showlegend": false,
         "type": "scatter",
         "x": [
          1037,
          1038
         ],
         "y": [
          78.56,
          78.6
         ]
        },
        {
         "line": {
          "color": "green"
         },
         "showlegend": false,
         "type": "scatter",
         "x": [
          1038,
          1039
         ],
         "y": [
          78.6,
          78.53
         ]
        },
        {
         "line": {
          "color": "gray"
         },
         "showlegend": false,
         "type": "scatter",
         "x": [
          1039,
          1040
         ],
         "y": [
          78.53,
          78.72
         ]
        },
        {
         "line": {
          "color": "green"
         },
         "showlegend": false,
         "type": "scatter",
         "x": [
          1040,
          1041
         ],
         "y": [
          78.72,
          78.66
         ]
        },
        {
         "line": {
          "color": "green"
         },
         "showlegend": false,
         "type": "scatter",
         "x": [
          1041,
          1042
         ],
         "y": [
          78.66,
          78.71
         ]
        },
        {
         "line": {
          "color": "green"
         },
         "showlegend": false,
         "type": "scatter",
         "x": [
          1042,
          1043
         ],
         "y": [
          78.71,
          78.56
         ]
        },
        {
         "line": {
          "color": "gray"
         },
         "showlegend": false,
         "type": "scatter",
         "x": [
          1043,
          1044
         ],
         "y": [
          78.56,
          78.55
         ]
        },
        {
         "line": {
          "color": "gray"
         },
         "showlegend": false,
         "type": "scatter",
         "x": [
          1044,
          1045
         ],
         "y": [
          78.55,
          78.6
         ]
        },
        {
         "line": {
          "color": "gray"
         },
         "showlegend": false,
         "type": "scatter",
         "x": [
          1045,
          1046
         ],
         "y": [
          78.6,
          78.56
         ]
        },
        {
         "line": {
          "color": "gray"
         },
         "showlegend": false,
         "type": "scatter",
         "x": [
          1046,
          1047
         ],
         "y": [
          78.56,
          78.61
         ]
        },
        {
         "line": {
          "color": "gray"
         },
         "showlegend": false,
         "type": "scatter",
         "x": [
          1047,
          1048
         ],
         "y": [
          78.61,
          78.41
         ]
        },
        {
         "line": {
          "color": "red"
         },
         "showlegend": false,
         "type": "scatter",
         "x": [
          1048,
          1049
         ],
         "y": [
          78.41,
          78.41
         ]
        },
        {
         "line": {
          "color": "red"
         },
         "showlegend": false,
         "type": "scatter",
         "x": [
          1049,
          1050
         ],
         "y": [
          78.41,
          78.41
         ]
        },
        {
         "line": {
          "color": "red"
         },
         "showlegend": false,
         "type": "scatter",
         "x": [
          1050,
          1051
         ],
         "y": [
          78.41,
          78.47
         ]
        },
        {
         "line": {
          "color": "gray"
         },
         "showlegend": false,
         "type": "scatter",
         "x": [
          1051,
          1052
         ],
         "y": [
          78.47,
          78.5
         ]
        },
        {
         "line": {
          "color": "gray"
         },
         "showlegend": false,
         "type": "scatter",
         "x": [
          1052,
          1053
         ],
         "y": [
          78.5,
          78.34
         ]
        },
        {
         "line": {
          "color": "red"
         },
         "showlegend": false,
         "type": "scatter",
         "x": [
          1053,
          1054
         ],
         "y": [
          78.34,
          78.4
         ]
        },
        {
         "line": {
          "color": "red"
         },
         "showlegend": false,
         "type": "scatter",
         "x": [
          1054,
          1055
         ],
         "y": [
          78.4,
          78.45
         ]
        },
        {
         "line": {
          "color": "gray"
         },
         "showlegend": false,
         "type": "scatter",
         "x": [
          1055,
          1056
         ],
         "y": [
          78.45,
          78.4
         ]
        },
        {
         "line": {
          "color": "gray"
         },
         "showlegend": false,
         "type": "scatter",
         "x": [
          1056,
          1057
         ],
         "y": [
          78.4,
          78.53
         ]
        },
        {
         "line": {
          "color": "gray"
         },
         "showlegend": false,
         "type": "scatter",
         "x": [
          1057,
          1058
         ],
         "y": [
          78.53,
          78.46
         ]
        },
        {
         "line": {
          "color": "gray"
         },
         "showlegend": false,
         "type": "scatter",
         "x": [
          1058,
          1059
         ],
         "y": [
          78.46,
          78.58
         ]
        },
        {
         "line": {
          "color": "green"
         },
         "showlegend": false,
         "type": "scatter",
         "x": [
          1059,
          1060
         ],
         "y": [
          78.58,
          78.53
         ]
        },
        {
         "line": {
          "color": "gray"
         },
         "showlegend": false,
         "type": "scatter",
         "x": [
          1060,
          1061
         ],
         "y": [
          78.53,
          78.71
         ]
        },
        {
         "line": {
          "color": "green"
         },
         "showlegend": false,
         "type": "scatter",
         "x": [
          1061,
          1062
         ],
         "y": [
          78.71,
          78.71
         ]
        },
        {
         "line": {
          "color": "green"
         },
         "showlegend": false,
         "type": "scatter",
         "x": [
          1062,
          1063
         ],
         "y": [
          78.71,
          78.65
         ]
        },
        {
         "line": {
          "color": "green"
         },
         "showlegend": false,
         "type": "scatter",
         "x": [
          1063,
          1064
         ],
         "y": [
          78.65,
          78.53
         ]
        },
        {
         "line": {
          "color": "gray"
         },
         "showlegend": false,
         "type": "scatter",
         "x": [
          1064,
          1065
         ],
         "y": [
          78.53,
          78.6
         ]
        },
        {
         "line": {
          "color": "green"
         },
         "showlegend": false,
         "type": "scatter",
         "x": [
          1065,
          1066
         ],
         "y": [
          78.6,
          78.83
         ]
        },
        {
         "line": {
          "color": "green"
         },
         "showlegend": false,
         "type": "scatter",
         "x": [
          1066,
          1067
         ],
         "y": [
          78.83,
          78.71
         ]
        },
        {
         "line": {
          "color": "green"
         },
         "showlegend": false,
         "type": "scatter",
         "x": [
          1067,
          1068
         ],
         "y": [
          78.71,
          78.72
         ]
        },
        {
         "line": {
          "color": "green"
         },
         "showlegend": false,
         "type": "scatter",
         "x": [
          1068,
          1069
         ],
         "y": [
          78.72,
          78.71
         ]
        },
        {
         "line": {
          "color": "green"
         },
         "showlegend": false,
         "type": "scatter",
         "x": [
          1069,
          1070
         ],
         "y": [
          78.71,
          78.76
         ]
        },
        {
         "line": {
          "color": "green"
         },
         "showlegend": false,
         "type": "scatter",
         "x": [
          1070,
          1071
         ],
         "y": [
          78.76,
          78.53
         ]
        },
        {
         "line": {
          "color": "gray"
         },
         "showlegend": false,
         "type": "scatter",
         "x": [
          1071,
          1072
         ],
         "y": [
          78.53,
          78.38
         ]
        },
        {
         "line": {
          "color": "red"
         },
         "showlegend": false,
         "type": "scatter",
         "x": [
          1072,
          1073
         ],
         "y": [
          78.38,
          78.38
         ]
        },
        {
         "line": {
          "color": "red"
         },
         "showlegend": false,
         "type": "scatter",
         "x": [
          1073,
          1074
         ],
         "y": [
          78.38,
          78.47
         ]
        },
        {
         "line": {
          "color": "gray"
         },
         "showlegend": false,
         "type": "scatter",
         "x": [
          1074,
          1075
         ],
         "y": [
          78.47,
          78.35
         ]
        },
        {
         "line": {
          "color": "red"
         },
         "showlegend": false,
         "type": "scatter",
         "x": [
          1075,
          1076
         ],
         "y": [
          78.35,
          78.28
         ]
        },
        {
         "line": {
          "color": "red"
         },
         "showlegend": false,
         "type": "scatter",
         "x": [
          1076,
          1077
         ],
         "y": [
          78.28,
          78.26
         ]
        },
        {
         "line": {
          "color": "red"
         },
         "showlegend": false,
         "type": "scatter",
         "x": [
          1077,
          1078
         ],
         "y": [
          78.26,
          78.47
         ]
        },
        {
         "line": {
          "color": "gray"
         },
         "showlegend": false,
         "type": "scatter",
         "x": [
          1078,
          1079
         ],
         "y": [
          78.47,
          78.43
         ]
        },
        {
         "line": {
          "color": "gray"
         },
         "showlegend": false,
         "type": "scatter",
         "x": [
          1079,
          1080
         ],
         "y": [
          78.43,
          78.5
         ]
        },
        {
         "line": {
          "color": "gray"
         },
         "showlegend": false,
         "type": "scatter",
         "x": [
          1080,
          1081
         ],
         "y": [
          78.5,
          78.58
         ]
        },
        {
         "line": {
          "color": "green"
         },
         "showlegend": false,
         "type": "scatter",
         "x": [
          1081,
          1082
         ],
         "y": [
          78.58,
          78.71
         ]
        },
        {
         "line": {
          "color": "green"
         },
         "showlegend": false,
         "type": "scatter",
         "x": [
          1082,
          1083
         ],
         "y": [
          78.71,
          78.7
         ]
        },
        {
         "line": {
          "color": "green"
         },
         "showlegend": false,
         "type": "scatter",
         "x": [
          1083,
          1084
         ],
         "y": [
          78.7,
          78.76
         ]
        },
        {
         "line": {
          "color": "green"
         },
         "showlegend": false,
         "type": "scatter",
         "x": [
          1084,
          1085
         ],
         "y": [
          78.76,
          78.8
         ]
        },
        {
         "line": {
          "color": "green"
         },
         "showlegend": false,
         "type": "scatter",
         "x": [
          1085,
          1086
         ],
         "y": [
          78.8,
          78.89
         ]
        },
        {
         "line": {
          "color": "green"
         },
         "showlegend": false,
         "type": "scatter",
         "x": [
          1086,
          1087
         ],
         "y": [
          78.89,
          78.91
         ]
        },
        {
         "line": {
          "color": "green"
         },
         "showlegend": false,
         "type": "scatter",
         "x": [
          1087,
          1088
         ],
         "y": [
          78.91,
          78.82
         ]
        },
        {
         "line": {
          "color": "green"
         },
         "showlegend": false,
         "type": "scatter",
         "x": [
          1088,
          1089
         ],
         "y": [
          78.82,
          78.87
         ]
        },
        {
         "line": {
          "color": "green"
         },
         "showlegend": false,
         "type": "scatter",
         "x": [
          1089,
          1090
         ],
         "y": [
          78.87,
          78.92
         ]
        },
        {
         "line": {
          "color": "green"
         },
         "showlegend": false,
         "type": "scatter",
         "x": [
          1090,
          1091
         ],
         "y": [
          78.92,
          78.91
         ]
        },
        {
         "line": {
          "color": "green"
         },
         "showlegend": false,
         "type": "scatter",
         "x": [
          1091,
          1092
         ],
         "y": [
          78.91,
          78.98
         ]
        },
        {
         "line": {
          "color": "green"
         },
         "showlegend": false,
         "type": "scatter",
         "x": [
          1092,
          1093
         ],
         "y": [
          78.98,
          78.16
         ]
        },
        {
         "line": {
          "color": "red"
         },
         "showlegend": false,
         "type": "scatter",
         "x": [
          1093,
          1094
         ],
         "y": [
          78.16,
          78.47
         ]
        },
        {
         "line": {
          "color": "gray"
         },
         "showlegend": false,
         "type": "scatter",
         "x": [
          1094,
          1095
         ],
         "y": [
          78.47,
          78.66
         ]
        },
        {
         "line": {
          "color": "gray"
         },
         "showlegend": false,
         "type": "scatter",
         "x": [
          1095,
          1096
         ],
         "y": [
          78.66,
          78.46
         ]
        },
        {
         "line": {
          "color": "gray"
         },
         "showlegend": false,
         "type": "scatter",
         "x": [
          1096,
          1097
         ],
         "y": [
          78.46,
          78.67
         ]
        },
        {
         "line": {
          "color": "gray"
         },
         "showlegend": false,
         "type": "scatter",
         "x": [
          1097,
          1098
         ],
         "y": [
          78.67,
          78.64
         ]
        },
        {
         "line": {
          "color": "gray"
         },
         "showlegend": false,
         "type": "scatter",
         "x": [
          1098,
          1099
         ],
         "y": [
          78.64,
          78.59
         ]
        },
        {
         "line": {
          "color": "gray"
         },
         "showlegend": false,
         "type": "scatter",
         "x": [
          1099,
          1100
         ],
         "y": [
          78.59,
          78.48
         ]
        },
        {
         "line": {
          "color": "gray"
         },
         "showlegend": false,
         "type": "scatter",
         "x": [
          1100,
          1101
         ],
         "y": [
          78.48,
          78.31
         ]
        },
        {
         "line": {
          "color": "red"
         },
         "showlegend": false,
         "type": "scatter",
         "x": [
          1101,
          1102
         ],
         "y": [
          78.31,
          78.26
         ]
        },
        {
         "line": {
          "color": "red"
         },
         "showlegend": false,
         "type": "scatter",
         "x": [
          1102,
          1103
         ],
         "y": [
          78.26,
          78.29
         ]
        },
        {
         "line": {
          "color": "red"
         },
         "showlegend": false,
         "type": "scatter",
         "x": [
          1103,
          1104
         ],
         "y": [
          78.29,
          78.42
         ]
        },
        {
         "line": {
          "color": "gray"
         },
         "showlegend": false,
         "type": "scatter",
         "x": [
          1104,
          1105
         ],
         "y": [
          78.42,
          78.34
         ]
        },
        {
         "line": {
          "color": "gray"
         },
         "showlegend": false,
         "type": "scatter",
         "x": [
          1105,
          1106
         ],
         "y": [
          78.34,
          78.31
         ]
        },
        {
         "line": {
          "color": "gray"
         },
         "showlegend": false,
         "type": "scatter",
         "x": [
          1106,
          1107
         ],
         "y": [
          78.31,
          78.54
         ]
        },
        {
         "line": {
          "color": "gray"
         },
         "showlegend": false,
         "type": "scatter",
         "x": [
          1107,
          1108
         ],
         "y": [
          78.54,
          78.62
         ]
        },
        {
         "line": {
          "color": "gray"
         },
         "showlegend": false,
         "type": "scatter",
         "x": [
          1108,
          1109
         ],
         "y": [
          78.62,
          78.51
         ]
        },
        {
         "line": {
          "color": "gray"
         },
         "showlegend": false,
         "type": "scatter",
         "x": [
          1109,
          1110
         ],
         "y": [
          78.51,
          78.64
         ]
        },
        {
         "line": {
          "color": "gray"
         },
         "showlegend": false,
         "type": "scatter",
         "x": [
          1110,
          1111
         ],
         "y": [
          78.64,
          78.67
         ]
        },
        {
         "line": {
          "color": "green"
         },
         "showlegend": false,
         "type": "scatter",
         "x": [
          1111,
          1112
         ],
         "y": [
          78.67,
          78.65
         ]
        },
        {
         "line": {
          "color": "green"
         },
         "showlegend": false,
         "type": "scatter",
         "x": [
          1112,
          1113
         ],
         "y": [
          78.65,
          78.54
         ]
        },
        {
         "line": {
          "color": "gray"
         },
         "showlegend": false,
         "type": "scatter",
         "x": [
          1113,
          1114
         ],
         "y": [
          78.54,
          78.54
         ]
        },
        {
         "line": {
          "color": "gray"
         },
         "showlegend": false,
         "type": "scatter",
         "x": [
          1114,
          1115
         ],
         "y": [
          78.54,
          78.46
         ]
        },
        {
         "line": {
          "color": "gray"
         },
         "showlegend": false,
         "type": "scatter",
         "x": [
          1115,
          1116
         ],
         "y": [
          78.46,
          78.28
         ]
        },
        {
         "line": {
          "color": "red"
         },
         "showlegend": false,
         "type": "scatter",
         "x": [
          1116,
          1117
         ],
         "y": [
          78.28,
          78.37
         ]
        },
        {
         "line": {
          "color": "red"
         },
         "showlegend": false,
         "type": "scatter",
         "x": [
          1117,
          1118
         ],
         "y": [
          78.37,
          78.65
         ]
        },
        {
         "line": {
          "color": "green"
         },
         "showlegend": false,
         "type": "scatter",
         "x": [
          1118,
          1119
         ],
         "y": [
          78.65,
          78.74
         ]
        },
        {
         "line": {
          "color": "green"
         },
         "showlegend": false,
         "type": "scatter",
         "x": [
          1119,
          1120
         ],
         "y": [
          78.74,
          78.75
         ]
        },
        {
         "line": {
          "color": "green"
         },
         "showlegend": false,
         "type": "scatter",
         "x": [
          1120,
          1121
         ],
         "y": [
          78.75,
          78.77
         ]
        },
        {
         "line": {
          "color": "green"
         },
         "showlegend": false,
         "type": "scatter",
         "x": [
          1121,
          1122
         ],
         "y": [
          78.77,
          78.75
         ]
        },
        {
         "line": {
          "color": "green"
         },
         "showlegend": false,
         "type": "scatter",
         "x": [
          1122,
          1123
         ],
         "y": [
          78.75,
          78.77
         ]
        },
        {
         "line": {
          "color": "green"
         },
         "showlegend": false,
         "type": "scatter",
         "x": [
          1123,
          1124
         ],
         "y": [
          78.77,
          78.76
         ]
        },
        {
         "line": {
          "color": "green"
         },
         "showlegend": false,
         "type": "scatter",
         "x": [
          1124,
          1125
         ],
         "y": [
          78.76,
          78.78
         ]
        },
        {
         "line": {
          "color": "green"
         },
         "showlegend": false,
         "type": "scatter",
         "x": [
          1125,
          1126
         ],
         "y": [
          78.78,
          78.78
         ]
        },
        {
         "line": {
          "color": "green"
         },
         "showlegend": false,
         "type": "scatter",
         "x": [
          1126,
          1127
         ],
         "y": [
          78.78,
          78.75
         ]
        },
        {
         "line": {
          "color": "green"
         },
         "showlegend": false,
         "type": "scatter",
         "x": [
          1127,
          1128
         ],
         "y": [
          78.75,
          78.73
         ]
        },
        {
         "line": {
          "color": "green"
         },
         "showlegend": false,
         "type": "scatter",
         "x": [
          1128,
          1129
         ],
         "y": [
          78.73,
          78.66
         ]
        },
        {
         "line": {
          "color": "gray"
         },
         "showlegend": false,
         "type": "scatter",
         "x": [
          1129,
          1130
         ],
         "y": [
          78.66,
          78.67
         ]
        },
        {
         "line": {
          "color": "gray"
         },
         "showlegend": false,
         "type": "scatter",
         "x": [
          1130,
          1131
         ],
         "y": [
          78.67,
          78.67
         ]
        },
        {
         "line": {
          "color": "gray"
         },
         "showlegend": false,
         "type": "scatter",
         "x": [
          1131,
          1132
         ],
         "y": [
          78.67,
          78.65
         ]
        },
        {
         "line": {
          "color": "gray"
         },
         "showlegend": false,
         "type": "scatter",
         "x": [
          1132,
          1133
         ],
         "y": [
          78.65,
          78.68
         ]
        },
        {
         "line": {
          "color": "gray"
         },
         "showlegend": false,
         "type": "scatter",
         "x": [
          1133,
          1134
         ],
         "y": [
          78.68,
          78.7
         ]
        },
        {
         "line": {
          "color": "gray"
         },
         "showlegend": false,
         "type": "scatter",
         "x": [
          1134,
          1135
         ],
         "y": [
          78.7,
          78.68
         ]
        },
        {
         "line": {
          "color": "gray"
         },
         "showlegend": false,
         "type": "scatter",
         "x": [
          1135,
          1136
         ],
         "y": [
          78.68,
          78.67
         ]
        },
        {
         "line": {
          "color": "gray"
         },
         "showlegend": false,
         "type": "scatter",
         "x": [
          1136,
          1137
         ],
         "y": [
          78.67,
          78.69
         ]
        },
        {
         "line": {
          "color": "gray"
         },
         "showlegend": false,
         "type": "scatter",
         "x": [
          1137,
          1138
         ],
         "y": [
          78.69,
          78.65
         ]
        },
        {
         "line": {
          "color": "red"
         },
         "showlegend": false,
         "type": "scatter",
         "x": [
          1138,
          1139
         ],
         "y": [
          78.65,
          78.67
         ]
        },
        {
         "line": {
          "color": "red"
         },
         "showlegend": false,
         "type": "scatter",
         "x": [
          1139,
          1140
         ],
         "y": [
          78.67,
          78.66
         ]
        },
        {
         "line": {
          "color": "red"
         },
         "showlegend": false,
         "type": "scatter",
         "x": [
          1140,
          1141
         ],
         "y": [
          78.66,
          78.68
         ]
        },
        {
         "line": {
          "color": "gray"
         },
         "showlegend": false,
         "type": "scatter",
         "x": [
          1141,
          1142
         ],
         "y": [
          78.68,
          78.66
         ]
        },
        {
         "line": {
          "color": "red"
         },
         "showlegend": false,
         "type": "scatter",
         "x": [
          1142,
          1143
         ],
         "y": [
          78.66,
          78.69
         ]
        },
        {
         "line": {
          "color": "gray"
         },
         "showlegend": false,
         "type": "scatter",
         "x": [
          1143,
          1144
         ],
         "y": [
          78.69,
          78.71
         ]
        },
        {
         "line": {
          "color": "gray"
         },
         "showlegend": false,
         "type": "scatter",
         "x": [
          1144,
          1145
         ],
         "y": [
          78.71,
          78.68
         ]
        },
        {
         "line": {
          "color": "gray"
         },
         "showlegend": false,
         "type": "scatter",
         "x": [
          1145,
          1146
         ],
         "y": [
          78.68,
          78.68
         ]
        },
        {
         "line": {
          "color": "gray"
         },
         "showlegend": false,
         "type": "scatter",
         "x": [
          1146,
          1147
         ],
         "y": [
          78.68,
          78.67
         ]
        },
        {
         "line": {
          "color": "gray"
         },
         "showlegend": false,
         "type": "scatter",
         "x": [
          1147,
          1148
         ],
         "y": [
          78.67,
          78.62
         ]
        },
        {
         "line": {
          "color": "red"
         },
         "showlegend": false,
         "type": "scatter",
         "x": [
          1148,
          1149
         ],
         "y": [
          78.62,
          78.61
         ]
        },
        {
         "line": {
          "color": "gray"
         },
         "showlegend": false,
         "type": "scatter",
         "x": [
          1149,
          1150
         ],
         "y": [
          78.61,
          78.64
         ]
        },
        {
         "line": {
          "color": "gray"
         },
         "showlegend": false,
         "type": "scatter",
         "x": [
          1150,
          1151
         ],
         "y": [
          78.64,
          78.72
         ]
        },
        {
         "line": {
          "color": "gray"
         },
         "showlegend": false,
         "type": "scatter",
         "x": [
          1151,
          1152
         ],
         "y": [
          78.72,
          78.7
         ]
        },
        {
         "line": {
          "color": "gray"
         },
         "showlegend": false,
         "type": "scatter",
         "x": [
          1152,
          1153
         ],
         "y": [
          78.7,
          78.75
         ]
        },
        {
         "line": {
          "color": "gray"
         },
         "showlegend": false,
         "type": "scatter",
         "x": [
          1153,
          1154
         ],
         "y": [
          78.75,
          78.74
         ]
        },
        {
         "line": {
          "color": "green"
         },
         "showlegend": false,
         "type": "scatter",
         "x": [
          1154,
          1155
         ],
         "y": [
          78.74,
          78.74
         ]
        },
        {
         "line": {
          "color": "green"
         },
         "showlegend": false,
         "type": "scatter",
         "x": [
          1155,
          1156
         ],
         "y": [
          78.74,
          78.74
         ]
        },
        {
         "line": {
          "color": "green"
         },
         "showlegend": false,
         "type": "scatter",
         "x": [
          1156,
          1157
         ],
         "y": [
          78.74,
          78.74
         ]
        },
        {
         "line": {
          "color": "green"
         },
         "showlegend": false,
         "type": "scatter",
         "x": [
          1157,
          1158
         ],
         "y": [
          78.74,
          78.86
         ]
        },
        {
         "line": {
          "color": "green"
         },
         "showlegend": false,
         "type": "scatter",
         "x": [
          1158,
          1159
         ],
         "y": [
          78.86,
          78.89
         ]
        },
        {
         "line": {
          "color": "green"
         },
         "showlegend": false,
         "type": "scatter",
         "x": [
          1159,
          1160
         ],
         "y": [
          78.89,
          78.92
         ]
        },
        {
         "line": {
          "color": "green"
         },
         "showlegend": false,
         "type": "scatter",
         "x": [
          1160,
          1161
         ],
         "y": [
          78.92,
          78.9
         ]
        },
        {
         "line": {
          "color": "green"
         },
         "showlegend": false,
         "type": "scatter",
         "x": [
          1161,
          1162
         ],
         "y": [
          78.9,
          78.85
         ]
        },
        {
         "line": {
          "color": "gray"
         },
         "showlegend": false,
         "type": "scatter",
         "x": [
          1162,
          1163
         ],
         "y": [
          78.85,
          78.8
         ]
        },
        {
         "line": {
          "color": "gray"
         },
         "showlegend": false,
         "type": "scatter",
         "x": [
          1163,
          1164
         ],
         "y": [
          78.8,
          78.87
         ]
        },
        {
         "line": {
          "color": "green"
         },
         "showlegend": false,
         "type": "scatter",
         "x": [
          1164,
          1165
         ],
         "y": [
          78.87,
          78.78
         ]
        },
        {
         "line": {
          "color": "gray"
         },
         "showlegend": false,
         "type": "scatter",
         "x": [
          1165,
          1166
         ],
         "y": [
          78.78,
          78.76
         ]
        },
        {
         "line": {
          "color": "red"
         },
         "showlegend": false,
         "type": "scatter",
         "x": [
          1166,
          1167
         ],
         "y": [
          78.76,
          78.76
         ]
        },
        {
         "line": {
          "color": "red"
         },
         "showlegend": false,
         "type": "scatter",
         "x": [
          1167,
          1168
         ],
         "y": [
          78.76,
          78.81
         ]
        },
        {
         "line": {
          "color": "gray"
         },
         "showlegend": false,
         "type": "scatter",
         "x": [
          1168,
          1169
         ],
         "y": [
          78.81,
          78.85
         ]
        },
        {
         "line": {
          "color": "gray"
         },
         "showlegend": false,
         "type": "scatter",
         "x": [
          1169,
          1170
         ],
         "y": [
          78.85,
          78.88
         ]
        },
        {
         "line": {
          "color": "gray"
         },
         "showlegend": false,
         "type": "scatter",
         "x": [
          1170,
          1171
         ],
         "y": [
          78.88,
          78.85
         ]
        },
        {
         "line": {
          "color": "gray"
         },
         "showlegend": false,
         "type": "scatter",
         "x": [
          1171,
          1172
         ],
         "y": [
          78.85,
          78.82
         ]
        },
        {
         "line": {
          "color": "gray"
         },
         "showlegend": false,
         "type": "scatter",
         "x": [
          1172,
          1173
         ],
         "y": [
          78.82,
          78.82
         ]
        },
        {
         "line": {
          "color": "gray"
         },
         "showlegend": false,
         "type": "scatter",
         "x": [
          1173,
          1174
         ],
         "y": [
          78.82,
          78.84
         ]
        },
        {
         "line": {
          "color": "gray"
         },
         "showlegend": false,
         "type": "scatter",
         "x": [
          1174,
          1175
         ],
         "y": [
          78.84,
          78.81
         ]
        },
        {
         "line": {
          "color": "red"
         },
         "showlegend": false,
         "type": "scatter",
         "x": [
          1175,
          1176
         ],
         "y": [
          78.81,
          78.76
         ]
        },
        {
         "line": {
          "color": "red"
         },
         "showlegend": false,
         "type": "scatter",
         "x": [
          1176,
          1177
         ],
         "y": [
          78.76,
          78.71
         ]
        },
        {
         "line": {
          "color": "red"
         },
         "showlegend": false,
         "type": "scatter",
         "x": [
          1177,
          1178
         ],
         "y": [
          78.71,
          78.74
         ]
        },
        {
         "line": {
          "color": "red"
         },
         "showlegend": false,
         "type": "scatter",
         "x": [
          1178,
          1179
         ],
         "y": [
          78.74,
          78.75
         ]
        },
        {
         "line": {
          "color": "red"
         },
         "showlegend": false,
         "type": "scatter",
         "x": [
          1179,
          1180
         ],
         "y": [
          78.75,
          78.75
         ]
        },
        {
         "line": {
          "color": "gray"
         },
         "showlegend": false,
         "type": "scatter",
         "x": [
          1180,
          1181
         ],
         "y": [
          78.75,
          78.73
         ]
        },
        {
         "line": {
          "color": "red"
         },
         "showlegend": false,
         "type": "scatter",
         "x": [
          1181,
          1182
         ],
         "y": [
          78.73,
          78.69
         ]
        },
        {
         "line": {
          "color": "red"
         },
         "showlegend": false,
         "type": "scatter",
         "x": [
          1182,
          1183
         ],
         "y": [
          78.69,
          78.67
         ]
        },
        {
         "line": {
          "color": "red"
         },
         "showlegend": false,
         "type": "scatter",
         "x": [
          1183,
          1184
         ],
         "y": [
          78.67,
          78.66
         ]
        },
        {
         "line": {
          "color": "red"
         },
         "showlegend": false,
         "type": "scatter",
         "x": [
          1184,
          1185
         ],
         "y": [
          78.66,
          78.7
         ]
        },
        {
         "line": {
          "color": "gray"
         },
         "showlegend": false,
         "type": "scatter",
         "x": [
          1185,
          1186
         ],
         "y": [
          78.7,
          78.69
         ]
        },
        {
         "line": {
          "color": "gray"
         },
         "showlegend": false,
         "type": "scatter",
         "x": [
          1186,
          1187
         ],
         "y": [
          78.69,
          78.72
         ]
        },
        {
         "line": {
          "color": "gray"
         },
         "showlegend": false,
         "type": "scatter",
         "x": [
          1187,
          1188
         ],
         "y": [
          78.72,
          78.73
         ]
        },
        {
         "line": {
          "color": "green"
         },
         "showlegend": false,
         "type": "scatter",
         "x": [
          1188,
          1189
         ],
         "y": [
          78.73,
          78.74
         ]
        },
        {
         "line": {
          "color": "green"
         },
         "showlegend": false,
         "type": "scatter",
         "x": [
          1189,
          1190
         ],
         "y": [
          78.74,
          78.73
         ]
        },
        {
         "line": {
          "color": "green"
         },
         "showlegend": false,
         "type": "scatter",
         "x": [
          1190,
          1191
         ],
         "y": [
          78.73,
          78.72
         ]
        },
        {
         "line": {
          "color": "green"
         },
         "showlegend": false,
         "type": "scatter",
         "x": [
          1191,
          1192
         ],
         "y": [
          78.72,
          78.72
         ]
        },
        {
         "line": {
          "color": "gray"
         },
         "showlegend": false,
         "type": "scatter",
         "x": [
          1192,
          1193
         ],
         "y": [
          78.72,
          78.7
         ]
        },
        {
         "line": {
          "color": "gray"
         },
         "showlegend": false,
         "type": "scatter",
         "x": [
          1193,
          1194
         ],
         "y": [
          78.7,
          78.71
         ]
        },
        {
         "line": {
          "color": "gray"
         },
         "showlegend": false,
         "type": "scatter",
         "x": [
          1194,
          1195
         ],
         "y": [
          78.71,
          78.71
         ]
        },
        {
         "line": {
          "color": "gray"
         },
         "showlegend": false,
         "type": "scatter",
         "x": [
          1195,
          1196
         ],
         "y": [
          78.71,
          78.73
         ]
        },
        {
         "line": {
          "color": "green"
         },
         "showlegend": false,
         "type": "scatter",
         "x": [
          1196,
          1197
         ],
         "y": [
          78.73,
          78.74
         ]
        },
        {
         "line": {
          "color": "green"
         },
         "showlegend": false,
         "type": "scatter",
         "x": [
          1197,
          1198
         ],
         "y": [
          78.74,
          78.73
         ]
        },
        {
         "line": {
          "color": "green"
         },
         "showlegend": false,
         "type": "scatter",
         "x": [
          1198,
          1199
         ],
         "y": [
          78.73,
          78.74
         ]
        },
        {
         "line": {
          "color": "green"
         },
         "showlegend": false,
         "type": "scatter",
         "x": [
          1199,
          1200
         ],
         "y": [
          78.74,
          78.75
         ]
        },
        {
         "line": {
          "color": "green"
         },
         "showlegend": false,
         "type": "scatter",
         "x": [
          1200,
          1201
         ],
         "y": [
          78.75,
          78.78
         ]
        },
        {
         "line": {
          "color": "green"
         },
         "showlegend": false,
         "type": "scatter",
         "x": [
          1201,
          1202
         ],
         "y": [
          78.78,
          78.75
         ]
        },
        {
         "line": {
          "color": "gray"
         },
         "showlegend": false,
         "type": "scatter",
         "x": [
          1202,
          1203
         ],
         "y": [
          78.75,
          78.7
         ]
        },
        {
         "line": {
          "color": "gray"
         },
         "showlegend": false,
         "type": "scatter",
         "x": [
          1203,
          1204
         ],
         "y": [
          78.7,
          78.67
         ]
        },
        {
         "line": {
          "color": "red"
         },
         "showlegend": false,
         "type": "scatter",
         "x": [
          1204,
          1205
         ],
         "y": [
          78.67,
          78.66
         ]
        },
        {
         "line": {
          "color": "red"
         },
         "showlegend": false,
         "type": "scatter",
         "x": [
          1205,
          1206
         ],
         "y": [
          78.66,
          78.67
         ]
        },
        {
         "line": {
          "color": "red"
         },
         "showlegend": false,
         "type": "scatter",
         "x": [
          1206,
          1207
         ],
         "y": [
          78.67,
          78.65
         ]
        },
        {
         "line": {
          "color": "red"
         },
         "showlegend": false,
         "type": "scatter",
         "x": [
          1207,
          1208
         ],
         "y": [
          78.65,
          78.62
         ]
        },
        {
         "line": {
          "color": "red"
         },
         "showlegend": false,
         "type": "scatter",
         "x": [
          1208,
          1209
         ],
         "y": [
          78.62,
          78.59
         ]
        },
        {
         "line": {
          "color": "red"
         },
         "showlegend": false,
         "type": "scatter",
         "x": [
          1209,
          1210
         ],
         "y": [
          78.59,
          78.61
         ]
        },
        {
         "line": {
          "color": "red"
         },
         "showlegend": false,
         "type": "scatter",
         "x": [
          1210,
          1211
         ],
         "y": [
          78.61,
          78.59
         ]
        },
        {
         "line": {
          "color": "red"
         },
         "showlegend": false,
         "type": "scatter",
         "x": [
          1211,
          1212
         ],
         "y": [
          78.59,
          78.6
         ]
        },
        {
         "line": {
          "color": "red"
         },
         "showlegend": false,
         "type": "scatter",
         "x": [
          1212,
          1213
         ],
         "y": [
          78.6,
          78.6
         ]
        },
        {
         "line": {
          "color": "gray"
         },
         "showlegend": false,
         "type": "scatter",
         "x": [
          1213,
          1214
         ],
         "y": [
          78.6,
          78.62
         ]
        },
        {
         "line": {
          "color": "gray"
         },
         "showlegend": false,
         "type": "scatter",
         "x": [
          1214,
          1215
         ],
         "y": [
          78.62,
          78.63
         ]
        },
        {
         "line": {
          "color": "gray"
         },
         "showlegend": false,
         "type": "scatter",
         "x": [
          1215,
          1216
         ],
         "y": [
          78.63,
          78.64
         ]
        },
        {
         "line": {
          "color": "gray"
         },
         "showlegend": false,
         "type": "scatter",
         "x": [
          1216,
          1217
         ],
         "y": [
          78.64,
          78.65
         ]
        },
        {
         "line": {
          "color": "green"
         },
         "showlegend": false,
         "type": "scatter",
         "x": [
          1217,
          1218
         ],
         "y": [
          78.65,
          78.6
         ]
        },
        {
         "line": {
          "color": "red"
         },
         "showlegend": false,
         "type": "scatter",
         "x": [
          1218,
          1219
         ],
         "y": [
          78.6,
          78.63
         ]
        },
        {
         "line": {
          "color": "gray"
         },
         "showlegend": false,
         "type": "scatter",
         "x": [
          1219,
          1220
         ],
         "y": [
          78.63,
          78.6
         ]
        },
        {
         "line": {
          "color": "red"
         },
         "showlegend": false,
         "type": "scatter",
         "x": [
          1220,
          1221
         ],
         "y": [
          78.6,
          78.58
         ]
        },
        {
         "line": {
          "color": "red"
         },
         "showlegend": false,
         "type": "scatter",
         "x": [
          1221,
          1222
         ],
         "y": [
          78.58,
          78.56
         ]
        },
        {
         "line": {
          "color": "red"
         },
         "showlegend": false,
         "type": "scatter",
         "x": [
          1222,
          1223
         ],
         "y": [
          78.56,
          78.58
         ]
        },
        {
         "line": {
          "color": "gray"
         },
         "showlegend": false,
         "type": "scatter",
         "x": [
          1223,
          1224
         ],
         "y": [
          78.58,
          78.61
         ]
        },
        {
         "line": {
          "color": "green"
         },
         "showlegend": false,
         "type": "scatter",
         "x": [
          1224,
          1225
         ],
         "y": [
          78.61,
          78.61
         ]
        },
        {
         "line": {
          "color": "green"
         },
         "showlegend": false,
         "type": "scatter",
         "x": [
          1225,
          1226
         ],
         "y": [
          78.61,
          78.64
         ]
        },
        {
         "line": {
          "color": "green"
         },
         "showlegend": false,
         "type": "scatter",
         "x": [
          1226,
          1227
         ],
         "y": [
          78.64,
          78.63
         ]
        },
        {
         "line": {
          "color": "green"
         },
         "showlegend": false,
         "type": "scatter",
         "x": [
          1227,
          1228
         ],
         "y": [
          78.63,
          78.65
         ]
        },
        {
         "line": {
          "color": "green"
         },
         "showlegend": false,
         "type": "scatter",
         "x": [
          1228,
          1229
         ],
         "y": [
          78.65,
          78.6
         ]
        },
        {
         "line": {
          "color": "gray"
         },
         "showlegend": false,
         "type": "scatter",
         "x": [
          1229,
          1230
         ],
         "y": [
          78.6,
          78.5
         ]
        },
        {
         "line": {
          "color": "red"
         },
         "showlegend": false,
         "type": "scatter",
         "x": [
          1230,
          1231
         ],
         "y": [
          78.5,
          78.55
         ]
        },
        {
         "line": {
          "color": "gray"
         },
         "showlegend": false,
         "type": "scatter",
         "x": [
          1231,
          1232
         ],
         "y": [
          78.55,
          78.53
         ]
        },
        {
         "line": {
          "color": "gray"
         },
         "showlegend": false,
         "type": "scatter",
         "x": [
          1232,
          1233
         ],
         "y": [
          78.53,
          78.54
         ]
        },
        {
         "line": {
          "color": "gray"
         },
         "showlegend": false,
         "type": "scatter",
         "x": [
          1233,
          1234
         ],
         "y": [
          78.54,
          78.65
         ]
        },
        {
         "line": {
          "color": "green"
         },
         "showlegend": false,
         "type": "scatter",
         "x": [
          1234,
          1235
         ],
         "y": [
          78.65,
          78.6
         ]
        },
        {
         "line": {
          "color": "gray"
         },
         "showlegend": false,
         "type": "scatter",
         "x": [
          1235,
          1236
         ],
         "y": [
          78.6,
          78.52
         ]
        },
        {
         "line": {
          "color": "red"
         },
         "showlegend": false,
         "type": "scatter",
         "x": [
          1236,
          1237
         ],
         "y": [
          78.52,
          78.48
         ]
        },
        {
         "line": {
          "color": "red"
         },
         "showlegend": false,
         "type": "scatter",
         "x": [
          1237,
          1238
         ],
         "y": [
          78.48,
          78.52
         ]
        },
        {
         "line": {
          "color": "red"
         },
         "showlegend": false,
         "type": "scatter",
         "x": [
          1238,
          1239
         ],
         "y": [
          78.52,
          78.54
         ]
        },
        {
         "line": {
          "color": "red"
         },
         "showlegend": false,
         "type": "scatter",
         "x": [
          1239,
          1240
         ],
         "y": [
          78.54,
          78.55
         ]
        },
        {
         "line": {
          "color": "gray"
         },
         "showlegend": false,
         "type": "scatter",
         "x": [
          1240,
          1241
         ],
         "y": [
          78.55,
          78.6
         ]
        },
        {
         "line": {
          "color": "gray"
         },
         "showlegend": false,
         "type": "scatter",
         "x": [
          1241,
          1242
         ],
         "y": [
          78.6,
          78.74
         ]
        },
        {
         "line": {
          "color": "green"
         },
         "showlegend": false,
         "type": "scatter",
         "x": [
          1242,
          1243
         ],
         "y": [
          78.74,
          78.83
         ]
        },
        {
         "line": {
          "color": "green"
         },
         "showlegend": false,
         "type": "scatter",
         "x": [
          1243,
          1244
         ],
         "y": [
          78.83,
          78.86
         ]
        },
        {
         "line": {
          "color": "green"
         },
         "showlegend": false,
         "type": "scatter",
         "x": [
          1244,
          1245
         ],
         "y": [
          78.86,
          78.77
         ]
        },
        {
         "line": {
          "color": "green"
         },
         "showlegend": false,
         "type": "scatter",
         "x": [
          1245,
          1246
         ],
         "y": [
          78.77,
          78.76
         ]
        },
        {
         "line": {
          "color": "gray"
         },
         "showlegend": false,
         "type": "scatter",
         "x": [
          1246,
          1247
         ],
         "y": [
          78.76,
          78.74
         ]
        },
        {
         "line": {
          "color": "gray"
         },
         "showlegend": false,
         "type": "scatter",
         "x": [
          1247,
          1248
         ],
         "y": [
          78.74,
          78.78
         ]
        },
        {
         "line": {
          "color": "green"
         },
         "showlegend": false,
         "type": "scatter",
         "x": [
          1248,
          1249
         ],
         "y": [
          78.78,
          78.68
         ]
        },
        {
         "line": {
          "color": "gray"
         },
         "showlegend": false,
         "type": "scatter",
         "x": [
          1249,
          1250
         ],
         "y": [
          78.68,
          78.9
         ]
        },
        {
         "line": {
          "color": "green"
         },
         "showlegend": false,
         "type": "scatter",
         "x": [
          1250,
          1251
         ],
         "y": [
          78.9,
          78.96
         ]
        },
        {
         "line": {
          "color": "green"
         },
         "showlegend": false,
         "type": "scatter",
         "x": [
          1251,
          1252
         ],
         "y": [
          78.96,
          78.94
         ]
        },
        {
         "line": {
          "color": "green"
         },
         "showlegend": false,
         "type": "scatter",
         "x": [
          1252,
          1253
         ],
         "y": [
          78.94,
          79.01
         ]
        },
        {
         "line": {
          "color": "green"
         },
         "showlegend": false,
         "type": "scatter",
         "x": [
          1253,
          1254
         ],
         "y": [
          79.01,
          78.87
         ]
        },
        {
         "line": {
          "color": "green"
         },
         "showlegend": false,
         "type": "scatter",
         "x": [
          1254,
          1255
         ],
         "y": [
          78.87,
          78.82
         ]
        },
        {
         "line": {
          "color": "gray"
         },
         "showlegend": false,
         "type": "scatter",
         "x": [
          1255,
          1256
         ],
         "y": [
          78.82,
          78.84
         ]
        },
        {
         "line": {
          "color": "green"
         },
         "showlegend": false,
         "type": "scatter",
         "x": [
          1256,
          1257
         ],
         "y": [
          78.84,
          78.74
         ]
        },
        {
         "line": {
          "color": "gray"
         },
         "showlegend": false,
         "type": "scatter",
         "x": [
          1257,
          1258
         ],
         "y": [
          78.74,
          78.98
         ]
        },
        {
         "line": {
          "color": "green"
         },
         "showlegend": false,
         "type": "scatter",
         "x": [
          1258,
          1259
         ],
         "y": [
          78.98,
          79.04
         ]
        },
        {
         "line": {
          "color": "green"
         },
         "showlegend": false,
         "type": "scatter",
         "x": [
          1259,
          1260
         ],
         "y": [
          79.04,
          79.11
         ]
        },
        {
         "line": {
          "color": "green"
         },
         "showlegend": false,
         "type": "scatter",
         "x": [
          1260,
          1261
         ],
         "y": [
          79.11,
          79.06
         ]
        },
        {
         "line": {
          "color": "green"
         },
         "showlegend": false,
         "type": "scatter",
         "x": [
          1261,
          1262
         ],
         "y": [
          79.06,
          78.96
         ]
        },
        {
         "line": {
          "color": "gray"
         },
         "showlegend": false,
         "type": "scatter",
         "x": [
          1262,
          1263
         ],
         "y": [
          78.96,
          78.98
         ]
        },
        {
         "line": {
          "color": "gray"
         },
         "showlegend": false,
         "type": "scatter",
         "x": [
          1263,
          1264
         ],
         "y": [
          78.98,
          79.08
         ]
        },
        {
         "line": {
          "color": "green"
         },
         "showlegend": false,
         "type": "scatter",
         "x": [
          1264,
          1265
         ],
         "y": [
          79.08,
          79.13
         ]
        },
        {
         "line": {
          "color": "green"
         },
         "showlegend": false,
         "type": "scatter",
         "x": [
          1265,
          1266
         ],
         "y": [
          79.13,
          79.23
         ]
        },
        {
         "line": {
          "color": "green"
         },
         "showlegend": false,
         "type": "scatter",
         "x": [
          1266,
          1267
         ],
         "y": [
          79.23,
          79.2
         ]
        },
        {
         "line": {
          "color": "green"
         },
         "showlegend": false,
         "type": "scatter",
         "x": [
          1267,
          1268
         ],
         "y": [
          79.2,
          79.19
         ]
        },
        {
         "line": {
          "color": "green"
         },
         "showlegend": false,
         "type": "scatter",
         "x": [
          1268,
          1269
         ],
         "y": [
          79.19,
          79.19
         ]
        },
        {
         "line": {
          "color": "green"
         },
         "showlegend": false,
         "type": "scatter",
         "x": [
          1269,
          1270
         ],
         "y": [
          79.19,
          79.12
         ]
        },
        {
         "line": {
          "color": "gray"
         },
         "showlegend": false,
         "type": "scatter",
         "x": [
          1270,
          1271
         ],
         "y": [
          79.12,
          79.12
         ]
        },
        {
         "line": {
          "color": "gray"
         },
         "showlegend": false,
         "type": "scatter",
         "x": [
          1271,
          1272
         ],
         "y": [
          79.12,
          79.02
         ]
        },
        {
         "line": {
          "color": "gray"
         },
         "showlegend": false,
         "type": "scatter",
         "x": [
          1272,
          1273
         ],
         "y": [
          79.02,
          78.99
         ]
        },
        {
         "line": {
          "color": "red"
         },
         "showlegend": false,
         "type": "scatter",
         "x": [
          1273,
          1274
         ],
         "y": [
          78.99,
          79
         ]
        },
        {
         "line": {
          "color": "red"
         },
         "showlegend": false,
         "type": "scatter",
         "x": [
          1274,
          1275
         ],
         "y": [
          79,
          79.03
         ]
        },
        {
         "line": {
          "color": "gray"
         },
         "showlegend": false,
         "type": "scatter",
         "x": [
          1275,
          1276
         ],
         "y": [
          79.03,
          79.04
         ]
        },
        {
         "line": {
          "color": "gray"
         },
         "showlegend": false,
         "type": "scatter",
         "x": [
          1276,
          1277
         ],
         "y": [
          79.04,
          79.05
         ]
        },
        {
         "line": {
          "color": "gray"
         },
         "showlegend": false,
         "type": "scatter",
         "x": [
          1277,
          1278
         ],
         "y": [
          79.05,
          79.06
         ]
        },
        {
         "line": {
          "color": "gray"
         },
         "showlegend": false,
         "type": "scatter",
         "x": [
          1278,
          1279
         ],
         "y": [
          79.06,
          78.94
         ]
        },
        {
         "line": {
          "color": "red"
         },
         "showlegend": false,
         "type": "scatter",
         "x": [
          1279,
          1280
         ],
         "y": [
          78.94,
          79.02
         ]
        },
        {
         "line": {
          "color": "gray"
         },
         "showlegend": false,
         "type": "scatter",
         "x": [
          1280,
          1281
         ],
         "y": [
          79.02,
          79.03
         ]
        },
        {
         "line": {
          "color": "gray"
         },
         "showlegend": false,
         "type": "scatter",
         "x": [
          1281,
          1282
         ],
         "y": [
          79.03,
          79.05
         ]
        },
        {
         "line": {
          "color": "gray"
         },
         "showlegend": false,
         "type": "scatter",
         "x": [
          1282,
          1283
         ],
         "y": [
          79.05,
          79.04
         ]
        },
        {
         "line": {
          "color": "gray"
         },
         "showlegend": false,
         "type": "scatter",
         "x": [
          1283,
          1284
         ],
         "y": [
          79.04,
          79.41
         ]
        },
        {
         "line": {
          "color": "green"
         },
         "showlegend": false,
         "type": "scatter",
         "x": [
          1284,
          1285
         ],
         "y": [
          79.41,
          79.24
         ]
        },
        {
         "line": {
          "color": "gray"
         },
         "showlegend": false,
         "type": "scatter",
         "x": [
          1285,
          1286
         ],
         "y": [
          79.24,
          79.25
         ]
        },
        {
         "line": {
          "color": "green"
         },
         "showlegend": false,
         "type": "scatter",
         "x": [
          1286,
          1287
         ],
         "y": [
          79.25,
          79.15
         ]
        },
        {
         "line": {
          "color": "gray"
         },
         "showlegend": false,
         "type": "scatter",
         "x": [
          1287,
          1288
         ],
         "y": [
          79.15,
          79.14
         ]
        },
        {
         "line": {
          "color": "gray"
         },
         "showlegend": false,
         "type": "scatter",
         "x": [
          1288,
          1289
         ],
         "y": [
          79.14,
          79.11
         ]
        },
        {
         "line": {
          "color": "gray"
         },
         "showlegend": false,
         "type": "scatter",
         "x": [
          1289,
          1290
         ],
         "y": [
          79.11,
          79.16
         ]
        },
        {
         "line": {
          "color": "gray"
         },
         "showlegend": false,
         "type": "scatter",
         "x": [
          1290,
          1291
         ],
         "y": [
          79.16,
          79.18
         ]
        },
        {
         "line": {
          "color": "gray"
         },
         "showlegend": false,
         "type": "scatter",
         "x": [
          1291,
          1292
         ],
         "y": [
          79.18,
          79.15
         ]
        },
        {
         "line": {
          "color": "gray"
         },
         "showlegend": false,
         "type": "scatter",
         "x": [
          1292,
          1293
         ],
         "y": [
          79.15,
          79.2
         ]
        },
        {
         "line": {
          "color": "gray"
         },
         "showlegend": false,
         "type": "scatter",
         "x": [
          1293,
          1294
         ],
         "y": [
          79.2,
          79.18
         ]
        },
        {
         "line": {
          "color": "gray"
         },
         "showlegend": false,
         "type": "scatter",
         "x": [
          1294,
          1295
         ],
         "y": [
          79.18,
          79.2
         ]
        },
        {
         "line": {
          "color": "gray"
         },
         "showlegend": false,
         "type": "scatter",
         "x": [
          1295,
          1296
         ],
         "y": [
          79.2,
          79.19
         ]
        },
        {
         "line": {
          "color": "gray"
         },
         "showlegend": false,
         "type": "scatter",
         "x": [
          1296,
          1297
         ],
         "y": [
          79.19,
          79.23
         ]
        },
        {
         "line": {
          "color": "gray"
         },
         "showlegend": false,
         "type": "scatter",
         "x": [
          1297,
          1298
         ],
         "y": [
          79.23,
          79.22
         ]
        },
        {
         "line": {
          "color": "gray"
         },
         "showlegend": false,
         "type": "scatter",
         "x": [
          1298,
          1299
         ],
         "y": [
          79.22,
          79.15
         ]
        },
        {
         "line": {
          "color": "gray"
         },
         "showlegend": false,
         "type": "scatter",
         "x": [
          1299,
          1300
         ],
         "y": [
          79.15,
          79.09
         ]
        },
        {
         "line": {
          "color": "red"
         },
         "showlegend": false,
         "type": "scatter",
         "x": [
          1300,
          1301
         ],
         "y": [
          79.09,
          79.06
         ]
        },
        {
         "line": {
          "color": "red"
         },
         "showlegend": false,
         "type": "scatter",
         "x": [
          1301,
          1302
         ],
         "y": [
          79.06,
          79.07
         ]
        },
        {
         "line": {
          "color": "red"
         },
         "showlegend": false,
         "type": "scatter",
         "x": [
          1302,
          1303
         ],
         "y": [
          79.07,
          79.13
         ]
        },
        {
         "line": {
          "color": "gray"
         },
         "showlegend": false,
         "type": "scatter",
         "x": [
          1303,
          1304
         ],
         "y": [
          79.13,
          79.2
         ]
        },
        {
         "line": {
          "color": "green"
         },
         "showlegend": false,
         "type": "scatter",
         "x": [
          1304,
          1305
         ],
         "y": [
          79.2,
          79.11
         ]
        },
        {
         "line": {
          "color": "gray"
         },
         "showlegend": false,
         "type": "scatter",
         "x": [
          1305,
          1306
         ],
         "y": [
          79.11,
          79.15
         ]
        },
        {
         "line": {
          "color": "gray"
         },
         "showlegend": false,
         "type": "scatter",
         "x": [
          1306,
          1307
         ],
         "y": [
          79.15,
          79.1
         ]
        },
        {
         "line": {
          "color": "red"
         },
         "showlegend": false,
         "type": "scatter",
         "x": [
          1307,
          1308
         ],
         "y": [
          79.1,
          79.04
         ]
        },
        {
         "line": {
          "color": "red"
         },
         "showlegend": false,
         "type": "scatter",
         "x": [
          1308,
          1309
         ],
         "y": [
          79.04,
          78.94
         ]
        },
        {
         "line": {
          "color": "red"
         },
         "showlegend": false,
         "type": "scatter",
         "x": [
          1309,
          1310
         ],
         "y": [
          78.94,
          78.97
         ]
        },
        {
         "line": {
          "color": "red"
         },
         "showlegend": false,
         "type": "scatter",
         "x": [
          1310,
          1311
         ],
         "y": [
          78.97,
          78.96
         ]
        },
        {
         "line": {
          "color": "red"
         },
         "showlegend": false,
         "type": "scatter",
         "x": [
          1311,
          1312
         ],
         "y": [
          78.96,
          79.01
         ]
        },
        {
         "line": {
          "color": "gray"
         },
         "showlegend": false,
         "type": "scatter",
         "x": [
          1312,
          1313
         ],
         "y": [
          79.01,
          79.22
         ]
        },
        {
         "line": {
          "color": "green"
         },
         "showlegend": false,
         "type": "scatter",
         "x": [
          1313,
          1314
         ],
         "y": [
          79.22,
          79.1
         ]
        },
        {
         "line": {
          "color": "gray"
         },
         "showlegend": false,
         "type": "scatter",
         "x": [
          1314,
          1315
         ],
         "y": [
          79.1,
          79.04
         ]
        },
        {
         "line": {
          "color": "red"
         },
         "showlegend": false,
         "type": "scatter",
         "x": [
          1315,
          1316
         ],
         "y": [
          79.04,
          79.06
         ]
        },
        {
         "line": {
          "color": "gray"
         },
         "showlegend": false,
         "type": "scatter",
         "x": [
          1316,
          1317
         ],
         "y": [
          79.06,
          78.94
         ]
        },
        {
         "line": {
          "color": "red"
         },
         "showlegend": false,
         "type": "scatter",
         "x": [
          1317,
          1318
         ],
         "y": [
          78.94,
          78.95
         ]
        },
        {
         "line": {
          "color": "red"
         },
         "showlegend": false,
         "type": "scatter",
         "x": [
          1318,
          1319
         ],
         "y": [
          78.95,
          79
         ]
        },
        {
         "line": {
          "color": "gray"
         },
         "showlegend": false,
         "type": "scatter",
         "x": [
          1319,
          1320
         ],
         "y": [
          79,
          79.11
         ]
        },
        {
         "line": {
          "color": "green"
         },
         "showlegend": false,
         "type": "scatter",
         "x": [
          1320,
          1321
         ],
         "y": [
          79.11,
          79.09
         ]
        },
        {
         "line": {
          "color": "gray"
         },
         "showlegend": false,
         "type": "scatter",
         "x": [
          1321,
          1322
         ],
         "y": [
          79.09,
          78.99
         ]
        },
        {
         "line": {
          "color": "gray"
         },
         "showlegend": false,
         "type": "scatter",
         "x": [
          1322,
          1323
         ],
         "y": [
          78.99,
          78.91
         ]
        },
        {
         "line": {
          "color": "red"
         },
         "showlegend": false,
         "type": "scatter",
         "x": [
          1323,
          1324
         ],
         "y": [
          78.91,
          78.86
         ]
        },
        {
         "line": {
          "color": "red"
         },
         "showlegend": false,
         "type": "scatter",
         "x": [
          1324,
          1325
         ],
         "y": [
          78.86,
          78.8
         ]
        },
        {
         "line": {
          "color": "red"
         },
         "showlegend": false,
         "type": "scatter",
         "x": [
          1325,
          1326
         ],
         "y": [
          78.8,
          78.78
         ]
        },
        {
         "line": {
          "color": "red"
         },
         "showlegend": false,
         "type": "scatter",
         "x": [
          1326,
          1327
         ],
         "y": [
          78.78,
          78.88
         ]
        },
        {
         "line": {
          "color": "gray"
         },
         "showlegend": false,
         "type": "scatter",
         "x": [
          1327,
          1328
         ],
         "y": [
          78.88,
          78.82
         ]
        },
        {
         "line": {
          "color": "gray"
         },
         "showlegend": false,
         "type": "scatter",
         "x": [
          1328,
          1329
         ],
         "y": [
          78.82,
          78.94
         ]
        },
        {
         "line": {
          "color": "green"
         },
         "showlegend": false,
         "type": "scatter",
         "x": [
          1329,
          1330
         ],
         "y": [
          78.94,
          78.92
         ]
        },
        {
         "line": {
          "color": "green"
         },
         "showlegend": false,
         "type": "scatter",
         "x": [
          1330,
          1331
         ],
         "y": [
          78.92,
          79.04
         ]
        },
        {
         "line": {
          "color": "green"
         },
         "showlegend": false,
         "type": "scatter",
         "x": [
          1331,
          1332
         ],
         "y": [
          79.04,
          79.36
         ]
        },
        {
         "line": {
          "color": "green"
         },
         "showlegend": false,
         "type": "scatter",
         "x": [
          1332,
          1333
         ],
         "y": [
          79.36,
          79.05
         ]
        },
        {
         "line": {
          "color": "gray"
         },
         "showlegend": false,
         "type": "scatter",
         "x": [
          1333,
          1334
         ],
         "y": [
          79.05,
          78.83
         ]
        },
        {
         "line": {
          "color": "red"
         },
         "showlegend": false,
         "type": "scatter",
         "x": [
          1334,
          1335
         ],
         "y": [
          78.83,
          78.68
         ]
        },
        {
         "line": {
          "color": "red"
         },
         "showlegend": false,
         "type": "scatter",
         "x": [
          1335,
          1336
         ],
         "y": [
          78.68,
          78.72
         ]
        },
        {
         "line": {
          "color": "red"
         },
         "showlegend": false,
         "type": "scatter",
         "x": [
          1336,
          1337
         ],
         "y": [
          78.72,
          78.81
         ]
        },
        {
         "line": {
          "color": "gray"
         },
         "showlegend": false,
         "type": "scatter",
         "x": [
          1337,
          1338
         ],
         "y": [
          78.81,
          79.08
         ]
        },
        {
         "line": {
          "color": "green"
         },
         "showlegend": false,
         "type": "scatter",
         "x": [
          1338,
          1339
         ],
         "y": [
          79.08,
          79.05
         ]
        },
        {
         "line": {
          "color": "green"
         },
         "showlegend": false,
         "type": "scatter",
         "x": [
          1339,
          1340
         ],
         "y": [
          79.05,
          79.06
         ]
        },
        {
         "line": {
          "color": "green"
         },
         "showlegend": false,
         "type": "scatter",
         "x": [
          1340,
          1341
         ],
         "y": [
          79.06,
          78.85
         ]
        },
        {
         "line": {
          "color": "gray"
         },
         "showlegend": false,
         "type": "scatter",
         "x": [
          1341,
          1342
         ],
         "y": [
          78.85,
          78.96
         ]
        },
        {
         "line": {
          "color": "gray"
         },
         "showlegend": false,
         "type": "scatter",
         "x": [
          1342,
          1343
         ],
         "y": [
          78.96,
          79.03
         ]
        },
        {
         "line": {
          "color": "gray"
         },
         "showlegend": false,
         "type": "scatter",
         "x": [
          1343,
          1344
         ],
         "y": [
          79.03,
          78.94
         ]
        },
        {
         "line": {
          "color": "gray"
         },
         "showlegend": false,
         "type": "scatter",
         "x": [
          1344,
          1345
         ],
         "y": [
          78.94,
          78.97
         ]
        },
        {
         "line": {
          "color": "gray"
         },
         "showlegend": false,
         "type": "scatter",
         "x": [
          1345,
          1346
         ],
         "y": [
          78.97,
          78.91
         ]
        },
        {
         "line": {
          "color": "gray"
         },
         "showlegend": false,
         "type": "scatter",
         "x": [
          1346,
          1347
         ],
         "y": [
          78.91,
          78.96
         ]
        },
        {
         "line": {
          "color": "gray"
         },
         "showlegend": false,
         "type": "scatter",
         "x": [
          1347,
          1348
         ],
         "y": [
          78.96,
          78.92
         ]
        },
        {
         "line": {
          "color": "gray"
         },
         "showlegend": false,
         "type": "scatter",
         "x": [
          1348,
          1349
         ],
         "y": [
          78.92,
          78.78
         ]
        },
        {
         "line": {
          "color": "red"
         },
         "showlegend": false,
         "type": "scatter",
         "x": [
          1349,
          1350
         ],
         "y": [
          78.78,
          78.83
         ]
        },
        {
         "line": {
          "color": "gray"
         },
         "showlegend": false,
         "type": "scatter",
         "x": [
          1350,
          1351
         ],
         "y": [
          78.83,
          78.96
         ]
        },
        {
         "line": {
          "color": "gray"
         },
         "showlegend": false,
         "type": "scatter",
         "x": [
          1351,
          1352
         ],
         "y": [
          78.96,
          78.96
         ]
        },
        {
         "line": {
          "color": "gray"
         },
         "showlegend": false,
         "type": "scatter",
         "x": [
          1352,
          1353
         ],
         "y": [
          78.96,
          78.93
         ]
        },
        {
         "line": {
          "color": "gray"
         },
         "showlegend": false,
         "type": "scatter",
         "x": [
          1353,
          1354
         ],
         "y": [
          78.93,
          78.91
         ]
        },
        {
         "line": {
          "color": "gray"
         },
         "showlegend": false,
         "type": "scatter",
         "x": [
          1354,
          1355
         ],
         "y": [
          78.91,
          78.94
         ]
        },
        {
         "line": {
          "color": "gray"
         },
         "showlegend": false,
         "type": "scatter",
         "x": [
          1355,
          1356
         ],
         "y": [
          78.94,
          78.9
         ]
        },
        {
         "line": {
          "color": "gray"
         },
         "showlegend": false,
         "type": "scatter",
         "x": [
          1356,
          1357
         ],
         "y": [
          78.9,
          79
         ]
        },
        {
         "line": {
          "color": "gray"
         },
         "showlegend": false,
         "type": "scatter",
         "x": [
          1357,
          1358
         ],
         "y": [
          79,
          78.97
         ]
        },
        {
         "line": {
          "color": "gray"
         },
         "showlegend": false,
         "type": "scatter",
         "x": [
          1358,
          1359
         ],
         "y": [
          78.97,
          78.95
         ]
        },
        {
         "line": {
          "color": "gray"
         },
         "showlegend": false,
         "type": "scatter",
         "x": [
          1359,
          1360
         ],
         "y": [
          78.95,
          79.05
         ]
        },
        {
         "line": {
          "color": "green"
         },
         "showlegend": false,
         "type": "scatter",
         "x": [
          1360,
          1361
         ],
         "y": [
          79.05,
          79.05
         ]
        },
        {
         "line": {
          "color": "green"
         },
         "showlegend": false,
         "type": "scatter",
         "x": [
          1361,
          1362
         ],
         "y": [
          79.05,
          79.07
         ]
        },
        {
         "line": {
          "color": "green"
         },
         "showlegend": false,
         "type": "scatter",
         "x": [
          1362,
          1363
         ],
         "y": [
          79.07,
          79.11
         ]
        },
        {
         "line": {
          "color": "green"
         },
         "showlegend": false,
         "type": "scatter",
         "x": [
          1363,
          1364
         ],
         "y": [
          79.11,
          79.2
         ]
        },
        {
         "line": {
          "color": "green"
         },
         "showlegend": false,
         "type": "scatter",
         "x": [
          1364,
          1365
         ],
         "y": [
          79.2,
          79.19
         ]
        },
        {
         "line": {
          "color": "green"
         },
         "showlegend": false,
         "type": "scatter",
         "x": [
          1365,
          1366
         ],
         "y": [
          79.19,
          79.13
         ]
        },
        {
         "line": {
          "color": "green"
         },
         "showlegend": false,
         "type": "scatter",
         "x": [
          1366,
          1367
         ],
         "y": [
          79.13,
          79.09
         ]
        },
        {
         "line": {
          "color": "gray"
         },
         "showlegend": false,
         "type": "scatter",
         "x": [
          1367,
          1368
         ],
         "y": [
          79.09,
          79.09
         ]
        },
        {
         "line": {
          "color": "gray"
         },
         "showlegend": false,
         "type": "scatter",
         "x": [
          1368,
          1369
         ],
         "y": [
          79.09,
          79.06
         ]
        },
        {
         "line": {
          "color": "gray"
         },
         "showlegend": false,
         "type": "scatter",
         "x": [
          1369,
          1370
         ],
         "y": [
          79.06,
          78.96
         ]
        },
        {
         "line": {
          "color": "red"
         },
         "showlegend": false,
         "type": "scatter",
         "x": [
          1370,
          1371
         ],
         "y": [
          78.96,
          79
         ]
        },
        {
         "line": {
          "color": "gray"
         },
         "showlegend": false,
         "type": "scatter",
         "x": [
          1371,
          1372
         ],
         "y": [
          79,
          78.99
         ]
        },
        {
         "line": {
          "color": "gray"
         },
         "showlegend": false,
         "type": "scatter",
         "x": [
          1372,
          1373
         ],
         "y": [
          78.99,
          78.94
         ]
        },
        {
         "line": {
          "color": "red"
         },
         "showlegend": false,
         "type": "scatter",
         "x": [
          1373,
          1374
         ],
         "y": [
          78.94,
          78.97
         ]
        },
        {
         "line": {
          "color": "red"
         },
         "showlegend": false,
         "type": "scatter",
         "x": [
          1374,
          1375
         ],
         "y": [
          78.97,
          79.1
         ]
        },
        {
         "line": {
          "color": "gray"
         },
         "showlegend": false,
         "type": "scatter",
         "x": [
          1375,
          1376
         ],
         "y": [
          79.1,
          79.14
         ]
        },
        {
         "line": {
          "color": "green"
         },
         "showlegend": false,
         "type": "scatter",
         "x": [
          1376,
          1377
         ],
         "y": [
          79.14,
          79.19
         ]
        },
        {
         "line": {
          "color": "green"
         },
         "showlegend": false,
         "type": "scatter",
         "x": [
          1377,
          1378
         ],
         "y": [
          79.19,
          79.11
         ]
        },
        {
         "line": {
          "color": "green"
         },
         "showlegend": false,
         "type": "scatter",
         "x": [
          1378,
          1379
         ],
         "y": [
          79.11,
          79.13
         ]
        },
        {
         "line": {
          "color": "green"
         },
         "showlegend": false,
         "type": "scatter",
         "x": [
          1379,
          1380
         ],
         "y": [
          79.13,
          79.11
         ]
        },
        {
         "line": {
          "color": "gray"
         },
         "showlegend": false,
         "type": "scatter",
         "x": [
          1380,
          1381
         ],
         "y": [
          79.11,
          79.11
         ]
        },
        {
         "line": {
          "color": "gray"
         },
         "showlegend": false,
         "type": "scatter",
         "x": [
          1381,
          1382
         ],
         "y": [
          79.11,
          79.16
         ]
        },
        {
         "line": {
          "color": "gray"
         },
         "showlegend": false,
         "type": "scatter",
         "x": [
          1382,
          1383
         ],
         "y": [
          79.16,
          79.19
         ]
        },
        {
         "line": {
          "color": "green"
         },
         "showlegend": false,
         "type": "scatter",
         "x": [
          1383,
          1384
         ],
         "y": [
          79.19,
          79.18
         ]
        },
        {
         "line": {
          "color": "green"
         },
         "showlegend": false,
         "type": "scatter",
         "x": [
          1384,
          1385
         ],
         "y": [
          79.18,
          79.15
         ]
        },
        {
         "line": {
          "color": "gray"
         },
         "showlegend": false,
         "type": "scatter",
         "x": [
          1385,
          1386
         ],
         "y": [
          79.15,
          79.2
         ]
        },
        {
         "line": {
          "color": "green"
         },
         "showlegend": false,
         "type": "scatter",
         "x": [
          1386,
          1387
         ],
         "y": [
          79.2,
          79.25
         ]
        },
        {
         "line": {
          "color": "green"
         },
         "showlegend": false,
         "type": "scatter",
         "x": [
          1387,
          1388
         ],
         "y": [
          79.25,
          79.28
         ]
        },
        {
         "line": {
          "color": "green"
         },
         "showlegend": false,
         "type": "scatter",
         "x": [
          1388,
          1389
         ],
         "y": [
          79.28,
          79.32
         ]
        },
        {
         "line": {
          "color": "green"
         },
         "showlegend": false,
         "type": "scatter",
         "x": [
          1389,
          1390
         ],
         "y": [
          79.32,
          79.32
         ]
        },
        {
         "line": {
          "color": "green"
         },
         "showlegend": false,
         "type": "scatter",
         "x": [
          1390,
          1391
         ],
         "y": [
          79.32,
          79.31
         ]
        },
        {
         "line": {
          "color": "green"
         },
         "showlegend": false,
         "type": "scatter",
         "x": [
          1391,
          1392
         ],
         "y": [
          79.31,
          79.34
         ]
        },
        {
         "line": {
          "color": "green"
         },
         "showlegend": false,
         "type": "scatter",
         "x": [
          1392,
          1393
         ],
         "y": [
          79.34,
          79.36
         ]
        },
        {
         "line": {
          "color": "green"
         },
         "showlegend": false,
         "type": "scatter",
         "x": [
          1393,
          1394
         ],
         "y": [
          79.36,
          79.36
         ]
        },
        {
         "line": {
          "color": "green"
         },
         "showlegend": false,
         "type": "scatter",
         "x": [
          1394,
          1395
         ],
         "y": [
          79.36,
          79.36
         ]
        },
        {
         "line": {
          "color": "green"
         },
         "showlegend": false,
         "type": "scatter",
         "x": [
          1395,
          1396
         ],
         "y": [
          79.36,
          79.37
         ]
        },
        {
         "line": {
          "color": "green"
         },
         "showlegend": false,
         "type": "scatter",
         "x": [
          1396,
          1397
         ],
         "y": [
          79.37,
          79.39
         ]
        },
        {
         "line": {
          "color": "green"
         },
         "showlegend": false,
         "type": "scatter",
         "x": [
          1397,
          1398
         ],
         "y": [
          79.39,
          79.33
         ]
        },
        {
         "line": {
          "color": "gray"
         },
         "showlegend": false,
         "type": "scatter",
         "x": [
          1398,
          1399
         ],
         "y": [
          79.33,
          79.32
         ]
        },
        {
         "line": {
          "color": "gray"
         },
         "showlegend": false,
         "type": "scatter",
         "x": [
          1399,
          1400
         ],
         "y": [
          79.32,
          79.34
         ]
        },
        {
         "line": {
          "color": "gray"
         },
         "showlegend": false,
         "type": "scatter",
         "x": [
          1400,
          1401
         ],
         "y": [
          79.34,
          79.35
         ]
        },
        {
         "line": {
          "color": "gray"
         },
         "showlegend": false,
         "type": "scatter",
         "x": [
          1401,
          1402
         ],
         "y": [
          79.35,
          79.33
         ]
        },
        {
         "line": {
          "color": "gray"
         },
         "showlegend": false,
         "type": "scatter",
         "x": [
          1402,
          1403
         ],
         "y": [
          79.33,
          79.35
         ]
        },
        {
         "line": {
          "color": "gray"
         },
         "showlegend": false,
         "type": "scatter",
         "x": [
          1403,
          1404
         ],
         "y": [
          79.35,
          79.37
         ]
        },
        {
         "line": {
          "color": "gray"
         },
         "showlegend": false,
         "type": "scatter",
         "x": [
          1404,
          1405
         ],
         "y": [
          79.37,
          79.33
         ]
        },
        {
         "line": {
          "color": "gray"
         },
         "showlegend": false,
         "type": "scatter",
         "x": [
          1405,
          1406
         ],
         "y": [
          79.33,
          79.34
         ]
        },
        {
         "line": {
          "color": "gray"
         },
         "showlegend": false,
         "type": "scatter",
         "x": [
          1406,
          1407
         ],
         "y": [
          79.34,
          79.33
         ]
        },
        {
         "line": {
          "color": "red"
         },
         "showlegend": false,
         "type": "scatter",
         "x": [
          1407,
          1408
         ],
         "y": [
          79.33,
          79.34
         ]
        },
        {
         "line": {
          "color": "gray"
         },
         "showlegend": false,
         "type": "scatter",
         "x": [
          1408,
          1409
         ],
         "y": [
          79.34,
          79.37
         ]
        },
        {
         "line": {
          "color": "green"
         },
         "showlegend": false,
         "type": "scatter",
         "x": [
          1409,
          1410
         ],
         "y": [
          79.37,
          79.34
         ]
        },
        {
         "line": {
          "color": "red"
         },
         "showlegend": false,
         "type": "scatter",
         "x": [
          1410,
          1411
         ],
         "y": [
          79.34,
          79.33
         ]
        },
        {
         "line": {
          "color": "red"
         },
         "showlegend": false,
         "type": "scatter",
         "x": [
          1411,
          1412
         ],
         "y": [
          79.33,
          79.31
         ]
        },
        {
         "line": {
          "color": "red"
         },
         "showlegend": false,
         "type": "scatter",
         "x": [
          1412,
          1413
         ],
         "y": [
          79.31,
          79.36
         ]
        },
        {
         "line": {
          "color": "gray"
         },
         "showlegend": false,
         "type": "scatter",
         "x": [
          1413,
          1414
         ],
         "y": [
          79.36,
          79.35
         ]
        },
        {
         "line": {
          "color": "green"
         },
         "showlegend": false,
         "type": "scatter",
         "x": [
          1414,
          1415
         ],
         "y": [
          79.35,
          79.37
         ]
        },
        {
         "line": {
          "color": "green"
         },
         "showlegend": false,
         "type": "scatter",
         "x": [
          1415,
          1416
         ],
         "y": [
          79.37,
          79.39
         ]
        },
        {
         "line": {
          "color": "green"
         },
         "showlegend": false,
         "type": "scatter",
         "x": [
          1416,
          1417
         ],
         "y": [
          79.39,
          79.29
         ]
        },
        {
         "line": {
          "color": "green"
         },
         "showlegend": false,
         "type": "scatter",
         "x": [
          1417,
          1418
         ],
         "y": [
          79.29,
          79.32
         ]
        },
        {
         "line": {
          "color": "gray"
         },
         "showlegend": false,
         "type": "scatter",
         "x": [
          1418,
          1419
         ],
         "y": [
          79.32,
          79.36
         ]
        },
        {
         "line": {
          "color": "green"
         },
         "showlegend": false,
         "type": "scatter",
         "x": [
          1419,
          1420
         ],
         "y": [
          79.36,
          79.37
         ]
        },
        {
         "line": {
          "color": "green"
         },
         "showlegend": false,
         "type": "scatter",
         "x": [
          1420,
          1421
         ],
         "y": [
          79.37,
          79.34
         ]
        },
        {
         "line": {
          "color": "gray"
         },
         "showlegend": false,
         "type": "scatter",
         "x": [
          1421,
          1422
         ],
         "y": [
          79.34,
          79.37
         ]
        },
        {
         "line": {
          "color": "green"
         },
         "showlegend": false,
         "type": "scatter",
         "x": [
          1422,
          1423
         ],
         "y": [
          79.37,
          79.43
         ]
        },
        {
         "line": {
          "color": "green"
         },
         "showlegend": false,
         "type": "scatter",
         "x": [
          1423,
          1424
         ],
         "y": [
          79.43,
          79.43
         ]
        },
        {
         "line": {
          "color": "green"
         },
         "showlegend": false,
         "type": "scatter",
         "x": [
          1424,
          1425
         ],
         "y": [
          79.43,
          79.42
         ]
        },
        {
         "line": {
          "color": "green"
         },
         "showlegend": false,
         "type": "scatter",
         "x": [
          1425,
          1426
         ],
         "y": [
          79.42,
          79.43
         ]
        },
        {
         "line": {
          "color": "green"
         },
         "showlegend": false,
         "type": "scatter",
         "x": [
          1426,
          1427
         ],
         "y": [
          79.43,
          79.47
         ]
        },
        {
         "line": {
          "color": "green"
         },
         "showlegend": false,
         "type": "scatter",
         "x": [
          1427,
          1428
         ],
         "y": [
          79.47,
          79.48
         ]
        },
        {
         "line": {
          "color": "green"
         },
         "showlegend": false,
         "type": "scatter",
         "x": [
          1428,
          1429
         ],
         "y": [
          79.48,
          79.44
         ]
        },
        {
         "line": {
          "color": "gray"
         },
         "showlegend": false,
         "type": "scatter",
         "x": [
          1429,
          1430
         ],
         "y": [
          79.44,
          79.45
         ]
        },
        {
         "line": {
          "color": "green"
         },
         "showlegend": false,
         "type": "scatter",
         "x": [
          1430,
          1431
         ],
         "y": [
          79.45,
          79.46
         ]
        },
        {
         "line": {
          "color": "green"
         },
         "showlegend": false,
         "type": "scatter",
         "x": [
          1431,
          1432
         ],
         "y": [
          79.46,
          79.49
         ]
        },
        {
         "line": {
          "color": "green"
         },
         "showlegend": false,
         "type": "scatter",
         "x": [
          1432,
          1433
         ],
         "y": [
          79.49,
          79.48
         ]
        },
        {
         "line": {
          "color": "green"
         },
         "showlegend": false,
         "type": "scatter",
         "x": [
          1433,
          1434
         ],
         "y": [
          79.48,
          79.46
         ]
        },
        {
         "line": {
          "color": "green"
         },
         "showlegend": false,
         "type": "scatter",
         "x": [
          1434,
          1435
         ],
         "y": [
          79.46,
          79.52
         ]
        },
        {
         "line": {
          "color": "green"
         },
         "showlegend": false,
         "type": "scatter",
         "x": [
          1435,
          1436
         ],
         "y": [
          79.52,
          79.54
         ]
        },
        {
         "line": {
          "color": "green"
         },
         "showlegend": false,
         "type": "scatter",
         "x": [
          1436,
          1437
         ],
         "y": [
          79.54,
          79.59
         ]
        },
        {
         "line": {
          "color": "green"
         },
         "showlegend": false,
         "type": "scatter",
         "x": [
          1437,
          1438
         ],
         "y": [
          79.59,
          79.61
         ]
        },
        {
         "line": {
          "color": "green"
         },
         "showlegend": false,
         "type": "scatter",
         "x": [
          1438,
          1439
         ],
         "y": [
          79.61,
          79.59
         ]
        },
        {
         "line": {
          "color": "green"
         },
         "showlegend": false,
         "type": "scatter",
         "x": [
          1439,
          1440
         ],
         "y": [
          79.59,
          79.56
         ]
        },
        {
         "line": {
          "color": "green"
         },
         "showlegend": false,
         "type": "scatter",
         "x": [
          1440,
          1441
         ],
         "y": [
          79.56,
          79.55
         ]
        },
        {
         "line": {
          "color": "gray"
         },
         "showlegend": false,
         "type": "scatter",
         "x": [
          1441,
          1442
         ],
         "y": [
          79.55,
          79.51
         ]
        },
        {
         "line": {
          "color": "gray"
         },
         "showlegend": false,
         "type": "scatter",
         "x": [
          1442,
          1443
         ],
         "y": [
          79.51,
          79.49
         ]
        },
        {
         "line": {
          "color": "red"
         },
         "showlegend": false,
         "type": "scatter",
         "x": [
          1443,
          1444
         ],
         "y": [
          79.49,
          79.49
         ]
        },
        {
         "line": {
          "color": "red"
         },
         "showlegend": false,
         "type": "scatter",
         "x": [
          1444,
          1445
         ],
         "y": [
          79.49,
          79.51
         ]
        },
        {
         "line": {
          "color": "red"
         },
         "showlegend": false,
         "type": "scatter",
         "x": [
          1445,
          1446
         ],
         "y": [
          79.51,
          79.51
         ]
        },
        {
         "line": {
          "color": "gray"
         },
         "showlegend": false,
         "type": "scatter",
         "x": [
          1446,
          1447
         ],
         "y": [
          79.51,
          79.5
         ]
        },
        {
         "line": {
          "color": "red"
         },
         "showlegend": false,
         "type": "scatter",
         "x": [
          1447,
          1448
         ],
         "y": [
          79.5,
          79.51
         ]
        },
        {
         "line": {
          "color": "gray"
         },
         "showlegend": false,
         "type": "scatter",
         "x": [
          1448,
          1449
         ],
         "y": [
          79.51,
          79.51
         ]
        },
        {
         "line": {
          "color": "gray"
         },
         "showlegend": false,
         "type": "scatter",
         "x": [
          1449,
          1450
         ],
         "y": [
          79.51,
          79.49
         ]
        },
        {
         "line": {
          "color": "gray"
         },
         "showlegend": false,
         "type": "scatter",
         "x": [
          1450,
          1451
         ],
         "y": [
          79.49,
          79.48
         ]
        },
        {
         "line": {
          "color": "red"
         },
         "showlegend": false,
         "type": "scatter",
         "x": [
          1451,
          1452
         ],
         "y": [
          79.48,
          79.5
         ]
        },
        {
         "line": {
          "color": "gray"
         },
         "showlegend": false,
         "type": "scatter",
         "x": [
          1452,
          1453
         ],
         "y": [
          79.5,
          79.49
         ]
        },
        {
         "line": {
          "color": "gray"
         },
         "showlegend": false,
         "type": "scatter",
         "x": [
          1453,
          1454
         ],
         "y": [
          79.49,
          79.5
         ]
        },
        {
         "line": {
          "color": "gray"
         },
         "showlegend": false,
         "type": "scatter",
         "x": [
          1454,
          1455
         ],
         "y": [
          79.5,
          79.48
         ]
        },
        {
         "line": {
          "color": "gray"
         },
         "showlegend": false,
         "type": "scatter",
         "x": [
          1455,
          1456
         ],
         "y": [
          79.48,
          79.51
         ]
        },
        {
         "line": {
          "color": "gray"
         },
         "showlegend": false,
         "type": "scatter",
         "x": [
          1456,
          1457
         ],
         "y": [
          79.51,
          79.51
         ]
        },
        {
         "line": {
          "color": "gray"
         },
         "showlegend": false,
         "type": "scatter",
         "x": [
          1457,
          1458
         ],
         "y": [
          79.51,
          79.51
         ]
        },
        {
         "line": {
          "color": "green"
         },
         "showlegend": false,
         "type": "scatter",
         "x": [
          1458,
          1459
         ],
         "y": [
          79.51,
          79.52
         ]
        },
        {
         "line": {
          "color": "green"
         },
         "showlegend": false,
         "type": "scatter",
         "x": [
          1459,
          1460
         ],
         "y": [
          79.52,
          79.52
         ]
        },
        {
         "line": {
          "color": "green"
         },
         "showlegend": false,
         "type": "scatter",
         "x": [
          1460,
          1461
         ],
         "y": [
          79.52,
          79.52
         ]
        },
        {
         "line": {
          "color": "green"
         },
         "showlegend": false,
         "type": "scatter",
         "x": [
          1461,
          1462
         ],
         "y": [
          79.52,
          79.53
         ]
        },
        {
         "line": {
          "color": "green"
         },
         "showlegend": false,
         "type": "scatter",
         "x": [
          1462,
          1463
         ],
         "y": [
          79.53,
          79.54
         ]
        },
        {
         "line": {
          "color": "green"
         },
         "showlegend": false,
         "type": "scatter",
         "x": [
          1463,
          1464
         ],
         "y": [
          79.54,
          79.52
         ]
        },
        {
         "line": {
          "color": "green"
         },
         "showlegend": false,
         "type": "scatter",
         "x": [
          1464,
          1465
         ],
         "y": [
          79.52,
          79.48
         ]
        },
        {
         "line": {
          "color": "gray"
         },
         "showlegend": false,
         "type": "scatter",
         "x": [
          1465,
          1466
         ],
         "y": [
          79.48,
          79.46
         ]
        },
        {
         "line": {
          "color": "gray"
         },
         "showlegend": false,
         "type": "scatter",
         "x": [
          1466,
          1467
         ],
         "y": [
          79.46,
          79.45
         ]
        },
        {
         "line": {
          "color": "red"
         },
         "showlegend": false,
         "type": "scatter",
         "x": [
          1467,
          1468
         ],
         "y": [
          79.45,
          79.43
         ]
        },
        {
         "line": {
          "color": "red"
         },
         "showlegend": false,
         "type": "scatter",
         "x": [
          1468,
          1469
         ],
         "y": [
          79.43,
          79.42
         ]
        },
        {
         "line": {
          "color": "red"
         },
         "showlegend": false,
         "type": "scatter",
         "x": [
          1469,
          1470
         ],
         "y": [
          79.42,
          79.45
         ]
        },
        {
         "line": {
          "color": "gray"
         },
         "showlegend": false,
         "type": "scatter",
         "x": [
          1470,
          1471
         ],
         "y": [
          79.45,
          79.41
         ]
        },
        {
         "line": {
          "color": "red"
         },
         "showlegend": false,
         "type": "scatter",
         "x": [
          1471,
          1472
         ],
         "y": [
          79.41,
          79.42
         ]
        },
        {
         "line": {
          "color": "red"
         },
         "showlegend": false,
         "type": "scatter",
         "x": [
          1472,
          1473
         ],
         "y": [
          79.42,
          79.41
         ]
        },
        {
         "line": {
          "color": "red"
         },
         "showlegend": false,
         "type": "scatter",
         "x": [
          1473,
          1474
         ],
         "y": [
          79.41,
          79.47
         ]
        },
        {
         "line": {
          "color": "green"
         },
         "showlegend": false,
         "type": "scatter",
         "x": [
          1474,
          1475
         ],
         "y": [
          79.47,
          79.49
         ]
        },
        {
         "line": {
          "color": "green"
         },
         "showlegend": false,
         "type": "scatter",
         "x": [
          1475,
          1476
         ],
         "y": [
          79.49,
          79.54
         ]
        },
        {
         "line": {
          "color": "green"
         },
         "showlegend": false,
         "type": "scatter",
         "x": [
          1476,
          1477
         ],
         "y": [
          79.54,
          79.56
         ]
        },
        {
         "line": {
          "color": "green"
         },
         "showlegend": false,
         "type": "scatter",
         "x": [
          1477,
          1478
         ],
         "y": [
          79.56,
          79.58
         ]
        },
        {
         "line": {
          "color": "green"
         },
         "showlegend": false,
         "type": "scatter",
         "x": [
          1478,
          1479
         ],
         "y": [
          79.58,
          79.56
         ]
        },
        {
         "line": {
          "color": "green"
         },
         "showlegend": false,
         "type": "scatter",
         "x": [
          1479,
          1480
         ],
         "y": [
          79.56,
          79.56
         ]
        },
        {
         "line": {
          "color": "green"
         },
         "showlegend": false,
         "type": "scatter",
         "x": [
          1480,
          1481
         ],
         "y": [
          79.56,
          79.61
         ]
        },
        {
         "line": {
          "color": "green"
         },
         "showlegend": false,
         "type": "scatter",
         "x": [
          1481,
          1482
         ],
         "y": [
          79.61,
          79.56
         ]
        },
        {
         "line": {
          "color": "green"
         },
         "showlegend": false,
         "type": "scatter",
         "x": [
          1482,
          1483
         ],
         "y": [
          79.56,
          79.56
         ]
        },
        {
         "line": {
          "color": "gray"
         },
         "showlegend": false,
         "type": "scatter",
         "x": [
          1483,
          1484
         ],
         "y": [
          79.56,
          79.56
         ]
        },
        {
         "line": {
          "color": "gray"
         },
         "showlegend": false,
         "type": "scatter",
         "x": [
          1484,
          1485
         ],
         "y": [
          79.56,
          79.58
         ]
        },
        {
         "line": {
          "color": "green"
         },
         "showlegend": false,
         "type": "scatter",
         "x": [
          1485,
          1486
         ],
         "y": [
          79.58,
          79.61
         ]
        },
        {
         "line": {
          "color": "green"
         },
         "showlegend": false,
         "type": "scatter",
         "x": [
          1486,
          1487
         ],
         "y": [
          79.61,
          79.6
         ]
        },
        {
         "line": {
          "color": "green"
         },
         "showlegend": false,
         "type": "scatter",
         "x": [
          1487,
          1488
         ],
         "y": [
          79.6,
          79.61
         ]
        },
        {
         "line": {
          "color": "green"
         },
         "showlegend": false,
         "type": "scatter",
         "x": [
          1488,
          1489
         ],
         "y": [
          79.61,
          79.58
         ]
        },
        {
         "line": {
          "color": "gray"
         },
         "showlegend": false,
         "type": "scatter",
         "x": [
          1489,
          1490
         ],
         "y": [
          79.58,
          79.56
         ]
        },
        {
         "line": {
          "color": "gray"
         },
         "showlegend": false,
         "type": "scatter",
         "x": [
          1490,
          1491
         ],
         "y": [
          79.56,
          79.55
         ]
        },
        {
         "line": {
          "color": "gray"
         },
         "showlegend": false,
         "type": "scatter",
         "x": [
          1491,
          1492
         ],
         "y": [
          79.55,
          79.54
         ]
        },
        {
         "line": {
          "color": "gray"
         },
         "showlegend": false,
         "type": "scatter",
         "x": [
          1492,
          1493
         ],
         "y": [
          79.54,
          79.6
         ]
        },
        {
         "line": {
          "color": "gray"
         },
         "showlegend": false,
         "type": "scatter",
         "x": [
          1493,
          1494
         ],
         "y": [
          79.6,
          79.54
         ]
        },
        {
         "line": {
          "color": "gray"
         },
         "showlegend": false,
         "type": "scatter",
         "x": [
          1494,
          1495
         ],
         "y": [
          79.54,
          79.53
         ]
        },
        {
         "line": {
          "color": "red"
         },
         "showlegend": false,
         "type": "scatter",
         "x": [
          1495,
          1496
         ],
         "y": [
          79.53,
          79.51
         ]
        },
        {
         "line": {
          "color": "red"
         },
         "showlegend": false,
         "type": "scatter",
         "x": [
          1496,
          1497
         ],
         "y": [
          79.51,
          79.5
         ]
        },
        {
         "line": {
          "color": "red"
         },
         "showlegend": false,
         "type": "scatter",
         "x": [
          1497,
          1498
         ],
         "y": [
          79.5,
          79.61
         ]
        },
        {
         "line": {
          "color": "green"
         },
         "showlegend": false,
         "type": "scatter",
         "x": [
          1498,
          1499
         ],
         "y": [
          79.61,
          79.56
         ]
        },
        {
         "line": {
          "color": "gray"
         },
         "showlegend": false,
         "type": "scatter",
         "x": [
          1499,
          1500
         ],
         "y": [
          79.56,
          79.49
         ]
        },
        {
         "line": {
          "color": "red"
         },
         "showlegend": false,
         "type": "scatter",
         "x": [
          1500,
          1501
         ],
         "y": [
          79.49,
          79.47
         ]
        },
        {
         "line": {
          "color": "red"
         },
         "showlegend": false,
         "type": "scatter",
         "x": [
          1501,
          1502
         ],
         "y": [
          79.47,
          79.48
         ]
        },
        {
         "line": {
          "color": "red"
         },
         "showlegend": false,
         "type": "scatter",
         "x": [
          1502,
          1503
         ],
         "y": [
          79.48,
          79.39
         ]
        },
        {
         "line": {
          "color": "red"
         },
         "showlegend": false,
         "type": "scatter",
         "x": [
          1503,
          1504
         ],
         "y": [
          79.39,
          79.42
         ]
        },
        {
         "line": {
          "color": "red"
         },
         "showlegend": false,
         "type": "scatter",
         "x": [
          1504,
          1505
         ],
         "y": [
          79.42,
          79.44
         ]
        },
        {
         "line": {
          "color": "red"
         },
         "showlegend": false,
         "type": "scatter",
         "x": [
          1505,
          1506
         ],
         "y": [
          79.44,
          79.47
         ]
        },
        {
         "line": {
          "color": "gray"
         },
         "showlegend": false,
         "type": "scatter",
         "x": [
          1506,
          1507
         ],
         "y": [
          79.47,
          79.51
         ]
        },
        {
         "line": {
          "color": "green"
         },
         "showlegend": false,
         "type": "scatter",
         "x": [
          1507,
          1508
         ],
         "y": [
          79.51,
          79.58
         ]
        },
        {
         "line": {
          "color": "green"
         },
         "showlegend": false,
         "type": "scatter",
         "x": [
          1508,
          1509
         ],
         "y": [
          79.58,
          79.48
         ]
        },
        {
         "line": {
          "color": "gray"
         },
         "showlegend": false,
         "type": "scatter",
         "x": [
          1509,
          1510
         ],
         "y": [
          79.48,
          79.43
         ]
        },
        {
         "line": {
          "color": "red"
         },
         "showlegend": false,
         "type": "scatter",
         "x": [
          1510,
          1511
         ],
         "y": [
          79.43,
          79.36
         ]
        },
        {
         "line": {
          "color": "red"
         },
         "showlegend": false,
         "type": "scatter",
         "x": [
          1511,
          1512
         ],
         "y": [
          79.36,
          79.3
         ]
        },
        {
         "line": {
          "color": "red"
         },
         "showlegend": false,
         "type": "scatter",
         "x": [
          1512,
          1513
         ],
         "y": [
          79.3,
          79.3
         ]
        },
        {
         "line": {
          "color": "red"
         },
         "showlegend": false,
         "type": "scatter",
         "x": [
          1513,
          1514
         ],
         "y": [
          79.3,
          79.34
         ]
        },
        {
         "line": {
          "color": "gray"
         },
         "showlegend": false,
         "type": "scatter",
         "x": [
          1514,
          1515
         ],
         "y": [
          79.34,
          79.36
         ]
        },
        {
         "line": {
          "color": "gray"
         },
         "showlegend": false,
         "type": "scatter",
         "x": [
          1515,
          1516
         ],
         "y": [
          79.36,
          79.45
         ]
        },
        {
         "line": {
          "color": "green"
         },
         "showlegend": false,
         "type": "scatter",
         "x": [
          1516,
          1517
         ],
         "y": [
          79.45,
          79.53
         ]
        },
        {
         "line": {
          "color": "green"
         },
         "showlegend": false,
         "type": "scatter",
         "x": [
          1517,
          1518
         ],
         "y": [
          79.53,
          79.51
         ]
        },
        {
         "line": {
          "color": "green"
         },
         "showlegend": false,
         "type": "scatter",
         "x": [
          1518,
          1519
         ],
         "y": [
          79.51,
          79.11
         ]
        },
        {
         "line": {
          "color": "red"
         },
         "showlegend": false,
         "type": "scatter",
         "x": [
          1519,
          1520
         ],
         "y": [
          79.11,
          79.11
         ]
        },
        {
         "line": {
          "color": "red"
         },
         "showlegend": false,
         "type": "scatter",
         "x": [
          1520,
          1521
         ],
         "y": [
          79.11,
          79.05
         ]
        },
        {
         "line": {
          "color": "red"
         },
         "showlegend": false,
         "type": "scatter",
         "x": [
          1521,
          1522
         ],
         "y": [
          79.05,
          79.07
         ]
        },
        {
         "line": {
          "color": "red"
         },
         "showlegend": false,
         "type": "scatter",
         "x": [
          1522,
          1523
         ],
         "y": [
          79.07,
          79.23
         ]
        },
        {
         "line": {
          "color": "gray"
         },
         "showlegend": false,
         "type": "scatter",
         "x": [
          1523,
          1524
         ],
         "y": [
          79.23,
          79.26
         ]
        },
        {
         "line": {
          "color": "green"
         },
         "showlegend": false,
         "type": "scatter",
         "x": [
          1524,
          1525
         ],
         "y": [
          79.26,
          79.34
         ]
        },
        {
         "line": {
          "color": "green"
         },
         "showlegend": false,
         "type": "scatter",
         "x": [
          1525,
          1526
         ],
         "y": [
          79.34,
          79.36
         ]
        },
        {
         "line": {
          "color": "green"
         },
         "showlegend": false,
         "type": "scatter",
         "x": [
          1526,
          1527
         ],
         "y": [
          79.36,
          79.43
         ]
        },
        {
         "line": {
          "color": "green"
         },
         "showlegend": false,
         "type": "scatter",
         "x": [
          1527,
          1528
         ],
         "y": [
          79.43,
          79.47
         ]
        },
        {
         "line": {
          "color": "green"
         },
         "showlegend": false,
         "type": "scatter",
         "x": [
          1528,
          1529
         ],
         "y": [
          79.47,
          79.6
         ]
        },
        {
         "line": {
          "color": "green"
         },
         "showlegend": false,
         "type": "scatter",
         "x": [
          1529,
          1530
         ],
         "y": [
          79.6,
          79.68
         ]
        },
        {
         "line": {
          "color": "green"
         },
         "showlegend": false,
         "type": "scatter",
         "x": [
          1530,
          1531
         ],
         "y": [
          79.68,
          79.66
         ]
        },
        {
         "line": {
          "color": "green"
         },
         "showlegend": false,
         "type": "scatter",
         "x": [
          1531,
          1532
         ],
         "y": [
          79.66,
          79.81
         ]
        },
        {
         "line": {
          "color": "green"
         },
         "showlegend": false,
         "type": "scatter",
         "x": [
          1532,
          1533
         ],
         "y": [
          79.81,
          79.76
         ]
        },
        {
         "line": {
          "color": "green"
         },
         "showlegend": false,
         "type": "scatter",
         "x": [
          1533,
          1534
         ],
         "y": [
          79.76,
          79.8
         ]
        },
        {
         "line": {
          "color": "green"
         },
         "showlegend": false,
         "type": "scatter",
         "x": [
          1534,
          1535
         ],
         "y": [
          79.8,
          79.82
         ]
        },
        {
         "line": {
          "color": "green"
         },
         "showlegend": false,
         "type": "scatter",
         "x": [
          1535,
          1536
         ],
         "y": [
          79.82,
          79.85
         ]
        },
        {
         "line": {
          "color": "green"
         },
         "showlegend": false,
         "type": "scatter",
         "x": [
          1536,
          1537
         ],
         "y": [
          79.85,
          79.9
         ]
        },
        {
         "line": {
          "color": "green"
         },
         "showlegend": false,
         "type": "scatter",
         "x": [
          1537,
          1538
         ],
         "y": [
          79.9,
          79.87
         ]
        },
        {
         "line": {
          "color": "green"
         },
         "showlegend": false,
         "type": "scatter",
         "x": [
          1538,
          1539
         ],
         "y": [
          79.87,
          79.95
         ]
        },
        {
         "line": {
          "color": "green"
         },
         "showlegend": false,
         "type": "scatter",
         "x": [
          1539,
          1540
         ],
         "y": [
          79.95,
          79.94
         ]
        },
        {
         "line": {
          "color": "green"
         },
         "showlegend": false,
         "type": "scatter",
         "x": [
          1540,
          1541
         ],
         "y": [
          79.94,
          79.87
         ]
        },
        {
         "line": {
          "color": "green"
         },
         "showlegend": false,
         "type": "scatter",
         "x": [
          1541,
          1542
         ],
         "y": [
          79.87,
          79.92
         ]
        },
        {
         "line": {
          "color": "green"
         },
         "showlegend": false,
         "type": "scatter",
         "x": [
          1542,
          1543
         ],
         "y": [
          79.92,
          79.92
         ]
        },
        {
         "line": {
          "color": "green"
         },
         "showlegend": false,
         "type": "scatter",
         "x": [
          1543,
          1544
         ],
         "y": [
          79.92,
          79.94
         ]
        },
        {
         "line": {
          "color": "green"
         },
         "showlegend": false,
         "type": "scatter",
         "x": [
          1544,
          1545
         ],
         "y": [
          79.94,
          79.96
         ]
        },
        {
         "line": {
          "color": "green"
         },
         "showlegend": false,
         "type": "scatter",
         "x": [
          1545,
          1546
         ],
         "y": [
          79.96,
          80.01
         ]
        },
        {
         "line": {
          "color": "green"
         },
         "showlegend": false,
         "type": "scatter",
         "x": [
          1546,
          1547
         ],
         "y": [
          80.01,
          79.99
         ]
        },
        {
         "line": {
          "color": "green"
         },
         "showlegend": false,
         "type": "scatter",
         "x": [
          1547,
          1548
         ],
         "y": [
          79.99,
          80.02
         ]
        },
        {
         "line": {
          "color": "green"
         },
         "showlegend": false,
         "type": "scatter",
         "x": [
          1548,
          1549
         ],
         "y": [
          80.02,
          80.01
         ]
        },
        {
         "line": {
          "color": "green"
         },
         "showlegend": false,
         "type": "scatter",
         "x": [
          1549,
          1550
         ],
         "y": [
          80.01,
          79.96
         ]
        },
        {
         "line": {
          "color": "gray"
         },
         "showlegend": false,
         "type": "scatter",
         "x": [
          1550,
          1551
         ],
         "y": [
          79.96,
          79.99
         ]
        },
        {
         "line": {
          "color": "green"
         },
         "showlegend": false,
         "type": "scatter",
         "x": [
          1551,
          1552
         ],
         "y": [
          79.99,
          80.07
         ]
        },
        {
         "line": {
          "color": "green"
         },
         "showlegend": false,
         "type": "scatter",
         "x": [
          1552,
          1553
         ],
         "y": [
          80.07,
          80.06
         ]
        },
        {
         "line": {
          "color": "green"
         },
         "showlegend": false,
         "type": "scatter",
         "x": [
          1553,
          1554
         ],
         "y": [
          80.06,
          80.08
         ]
        },
        {
         "line": {
          "color": "green"
         },
         "showlegend": false,
         "type": "scatter",
         "x": [
          1554,
          1555
         ],
         "y": [
          80.08,
          80.12
         ]
        },
        {
         "line": {
          "color": "green"
         },
         "showlegend": false,
         "type": "scatter",
         "x": [
          1555,
          1556
         ],
         "y": [
          80.12,
          80.07
         ]
        },
        {
         "line": {
          "color": "green"
         },
         "showlegend": false,
         "type": "scatter",
         "x": [
          1556,
          1557
         ],
         "y": [
          80.07,
          80
         ]
        },
        {
         "line": {
          "color": "gray"
         },
         "showlegend": false,
         "type": "scatter",
         "x": [
          1557,
          1558
         ],
         "y": [
          80,
          80.1
         ]
        },
        {
         "line": {
          "color": "green"
         },
         "showlegend": false,
         "type": "scatter",
         "x": [
          1558,
          1559
         ],
         "y": [
          80.1,
          80.19
         ]
        },
        {
         "line": {
          "color": "green"
         },
         "showlegend": false,
         "type": "scatter",
         "x": [
          1559,
          1560
         ],
         "y": [
          80.19,
          80.19
         ]
        },
        {
         "line": {
          "color": "green"
         },
         "showlegend": false,
         "type": "scatter",
         "x": [
          1560,
          1561
         ],
         "y": [
          80.19,
          80.25
         ]
        },
        {
         "line": {
          "color": "green"
         },
         "showlegend": false,
         "type": "scatter",
         "x": [
          1561,
          1562
         ],
         "y": [
          80.25,
          80.3
         ]
        },
        {
         "line": {
          "color": "green"
         },
         "showlegend": false,
         "type": "scatter",
         "x": [
          1562,
          1563
         ],
         "y": [
          80.3,
          80.25
         ]
        },
        {
         "line": {
          "color": "green"
         },
         "showlegend": false,
         "type": "scatter",
         "x": [
          1563,
          1564
         ],
         "y": [
          80.25,
          80.29
         ]
        },
        {
         "line": {
          "color": "green"
         },
         "showlegend": false,
         "type": "scatter",
         "x": [
          1564,
          1565
         ],
         "y": [
          80.29,
          80.19
         ]
        },
        {
         "line": {
          "color": "gray"
         },
         "showlegend": false,
         "type": "scatter",
         "x": [
          1565,
          1566
         ],
         "y": [
          80.19,
          80.18
         ]
        },
        {
         "line": {
          "color": "gray"
         },
         "showlegend": false,
         "type": "scatter",
         "x": [
          1566,
          1567
         ],
         "y": [
          80.18,
          80.23
         ]
        },
        {
         "line": {
          "color": "green"
         },
         "showlegend": false,
         "type": "scatter",
         "x": [
          1567,
          1568
         ],
         "y": [
          80.23,
          80.32
         ]
        },
        {
         "line": {
          "color": "green"
         },
         "showlegend": false,
         "type": "scatter",
         "x": [
          1568,
          1569
         ],
         "y": [
          80.32,
          80.27
         ]
        },
        {
         "line": {
          "color": "green"
         },
         "showlegend": false,
         "type": "scatter",
         "x": [
          1569,
          1570
         ],
         "y": [
          80.27,
          80.35
         ]
        },
        {
         "line": {
          "color": "green"
         },
         "showlegend": false,
         "type": "scatter",
         "x": [
          1570,
          1571
         ],
         "y": [
          80.35,
          80.31
         ]
        },
        {
         "line": {
          "color": "green"
         },
         "showlegend": false,
         "type": "scatter",
         "x": [
          1571,
          1572
         ],
         "y": [
          80.31,
          80.17
         ]
        },
        {
         "line": {
          "color": "gray"
         },
         "showlegend": false,
         "type": "scatter",
         "x": [
          1572,
          1573
         ],
         "y": [
          80.17,
          80.14
         ]
        },
        {
         "line": {
          "color": "red"
         },
         "showlegend": false,
         "type": "scatter",
         "x": [
          1573,
          1574
         ],
         "y": [
          80.14,
          80.19
         ]
        },
        {
         "line": {
          "color": "gray"
         },
         "showlegend": false,
         "type": "scatter",
         "x": [
          1574,
          1575
         ],
         "y": [
          80.19,
          80.2
         ]
        },
        {
         "line": {
          "color": "gray"
         },
         "showlegend": false,
         "type": "scatter",
         "x": [
          1575,
          1576
         ],
         "y": [
          80.2,
          80.49
         ]
        },
        {
         "line": {
          "color": "green"
         },
         "showlegend": false,
         "type": "scatter",
         "x": [
          1576,
          1577
         ],
         "y": [
          80.49,
          80.42
         ]
        },
        {
         "line": {
          "color": "green"
         },
         "showlegend": false,
         "type": "scatter",
         "x": [
          1577,
          1578
         ],
         "y": [
          80.42,
          80.39
         ]
        },
        {
         "line": {
          "color": "green"
         },
         "showlegend": false,
         "type": "scatter",
         "x": [
          1578,
          1579
         ],
         "y": [
          80.39,
          80.52
         ]
        },
        {
         "line": {
          "color": "green"
         },
         "showlegend": false,
         "type": "scatter",
         "x": [
          1579,
          1580
         ],
         "y": [
          80.52,
          80.54
         ]
        },
        {
         "line": {
          "color": "green"
         },
         "showlegend": false,
         "type": "scatter",
         "x": [
          1580,
          1581
         ],
         "y": [
          80.54,
          80.54
         ]
        },
        {
         "line": {
          "color": "green"
         },
         "showlegend": false,
         "type": "scatter",
         "x": [
          1581,
          1582
         ],
         "y": [
          80.54,
          80.51
         ]
        },
        {
         "line": {
          "color": "green"
         },
         "showlegend": false,
         "type": "scatter",
         "x": [
          1582,
          1583
         ],
         "y": [
          80.51,
          80.59
         ]
        },
        {
         "line": {
          "color": "green"
         },
         "showlegend": false,
         "type": "scatter",
         "x": [
          1583,
          1584
         ],
         "y": [
          80.59,
          80.73
         ]
        },
        {
         "line": {
          "color": "green"
         },
         "showlegend": false,
         "type": "scatter",
         "x": [
          1584,
          1585
         ],
         "y": [
          80.73,
          80.8
         ]
        },
        {
         "line": {
          "color": "green"
         },
         "showlegend": false,
         "type": "scatter",
         "x": [
          1585,
          1586
         ],
         "y": [
          80.8,
          80.83
         ]
        },
        {
         "line": {
          "color": "green"
         },
         "showlegend": false,
         "type": "scatter",
         "x": [
          1586,
          1587
         ],
         "y": [
          80.83,
          80.91
         ]
        },
        {
         "line": {
          "color": "green"
         },
         "showlegend": false,
         "type": "scatter",
         "x": [
          1587,
          1588
         ],
         "y": [
          80.91,
          80.9
         ]
        },
        {
         "line": {
          "color": "green"
         },
         "showlegend": false,
         "type": "scatter",
         "x": [
          1588,
          1589
         ],
         "y": [
          80.9,
          80.93
         ]
        },
        {
         "line": {
          "color": "green"
         },
         "showlegend": false,
         "type": "scatter",
         "x": [
          1589,
          1590
         ],
         "y": [
          80.93,
          80.88
         ]
        },
        {
         "line": {
          "color": "green"
         },
         "showlegend": false,
         "type": "scatter",
         "x": [
          1590,
          1591
         ],
         "y": [
          80.88,
          80.91
         ]
        },
        {
         "line": {
          "color": "green"
         },
         "showlegend": false,
         "type": "scatter",
         "x": [
          1591,
          1592
         ],
         "y": [
          80.91,
          80.73
         ]
        },
        {
         "line": {
          "color": "gray"
         },
         "showlegend": false,
         "type": "scatter",
         "x": [
          1592,
          1593
         ],
         "y": [
          80.73,
          81.02
         ]
        },
        {
         "line": {
          "color": "green"
         },
         "showlegend": false,
         "type": "scatter",
         "x": [
          1593,
          1594
         ],
         "y": [
          81.02,
          81.02
         ]
        },
        {
         "line": {
          "color": "green"
         },
         "showlegend": false,
         "type": "scatter",
         "x": [
          1594,
          1595
         ],
         "y": [
          81.02,
          80.79
         ]
        },
        {
         "line": {
          "color": "gray"
         },
         "showlegend": false,
         "type": "scatter",
         "x": [
          1595,
          1596
         ],
         "y": [
          80.79,
          80.79
         ]
        },
        {
         "line": {
          "color": "gray"
         },
         "showlegend": false,
         "type": "scatter",
         "x": [
          1596,
          1597
         ],
         "y": [
          80.79,
          80.75
         ]
        },
        {
         "line": {
          "color": "gray"
         },
         "showlegend": false,
         "type": "scatter",
         "x": [
          1597,
          1598
         ],
         "y": [
          80.75,
          80.73
         ]
        },
        {
         "line": {
          "color": "gray"
         },
         "showlegend": false,
         "type": "scatter",
         "x": [
          1598,
          1599
         ],
         "y": [
          80.73,
          80.76
         ]
        },
        {
         "line": {
          "color": "gray"
         },
         "showlegend": false,
         "type": "scatter",
         "x": [
          1599,
          1600
         ],
         "y": [
          80.76,
          80.88
         ]
        },
        {
         "line": {
          "color": "gray"
         },
         "showlegend": false,
         "type": "scatter",
         "x": [
          1600,
          1601
         ],
         "y": [
          80.88,
          81.03
         ]
        },
        {
         "line": {
          "color": "green"
         },
         "showlegend": false,
         "type": "scatter",
         "x": [
          1601,
          1602
         ],
         "y": [
          81.03,
          81.1
         ]
        },
        {
         "line": {
          "color": "green"
         },
         "showlegend": false,
         "type": "scatter",
         "x": [
          1602,
          1603
         ],
         "y": [
          81.1,
          81.17
         ]
        },
        {
         "line": {
          "color": "green"
         },
         "showlegend": false,
         "type": "scatter",
         "x": [
          1603,
          1604
         ],
         "y": [
          81.17,
          81.13
         ]
        },
        {
         "line": {
          "color": "green"
         },
         "showlegend": false,
         "type": "scatter",
         "x": [
          1604,
          1605
         ],
         "y": [
          81.13,
          81.16
         ]
        },
        {
         "line": {
          "color": "green"
         },
         "showlegend": false,
         "type": "scatter",
         "x": [
          1605,
          1606
         ],
         "y": [
          81.16,
          81.16
         ]
        },
        {
         "line": {
          "color": "green"
         },
         "showlegend": false,
         "type": "scatter",
         "x": [
          1606,
          1607
         ],
         "y": [
          81.16,
          81.2
         ]
        },
        {
         "line": {
          "color": "green"
         },
         "showlegend": false,
         "type": "scatter",
         "x": [
          1607,
          1608
         ],
         "y": [
          81.2,
          81.26
         ]
        },
        {
         "line": {
          "color": "green"
         },
         "showlegend": false,
         "type": "scatter",
         "x": [
          1608,
          1609
         ],
         "y": [
          81.26,
          81.34
         ]
        },
        {
         "line": {
          "color": "green"
         },
         "showlegend": false,
         "type": "scatter",
         "x": [
          1609,
          1610
         ],
         "y": [
          81.34,
          81.33
         ]
        },
        {
         "line": {
          "color": "green"
         },
         "showlegend": false,
         "type": "scatter",
         "x": [
          1610,
          1611
         ],
         "y": [
          81.33,
          81.36
         ]
        },
        {
         "line": {
          "color": "green"
         },
         "showlegend": false,
         "type": "scatter",
         "x": [
          1611,
          1612
         ],
         "y": [
          81.36,
          81.35
         ]
        },
        {
         "line": {
          "color": "green"
         },
         "showlegend": false,
         "type": "scatter",
         "x": [
          1612,
          1613
         ],
         "y": [
          81.35,
          81.32
         ]
        },
        {
         "line": {
          "color": "green"
         },
         "showlegend": false,
         "type": "scatter",
         "x": [
          1613,
          1614
         ],
         "y": [
          81.32,
          81.32
         ]
        },
        {
         "line": {
          "color": "green"
         },
         "showlegend": false,
         "type": "scatter",
         "x": [
          1614,
          1615
         ],
         "y": [
          81.32,
          81.34
         ]
        },
        {
         "line": {
          "color": "green"
         },
         "showlegend": false,
         "type": "scatter",
         "x": [
          1615,
          1616
         ],
         "y": [
          81.34,
          81.27
         ]
        },
        {
         "line": {
          "color": "gray"
         },
         "showlegend": false,
         "type": "scatter",
         "x": [
          1616,
          1617
         ],
         "y": [
          81.27,
          81.38
         ]
        },
        {
         "line": {
          "color": "green"
         },
         "showlegend": false,
         "type": "scatter",
         "x": [
          1617,
          1618
         ],
         "y": [
          81.38,
          81.47
         ]
        },
        {
         "line": {
          "color": "green"
         },
         "showlegend": false,
         "type": "scatter",
         "x": [
          1618,
          1619
         ],
         "y": [
          81.47,
          81.42
         ]
        },
        {
         "line": {
          "color": "green"
         },
         "showlegend": false,
         "type": "scatter",
         "x": [
          1619,
          1620
         ],
         "y": [
          81.42,
          81.55
         ]
        },
        {
         "line": {
          "color": "green"
         },
         "showlegend": false,
         "type": "scatter",
         "x": [
          1620,
          1621
         ],
         "y": [
          81.55,
          81.52
         ]
        },
        {
         "line": {
          "color": "green"
         },
         "showlegend": false,
         "type": "scatter",
         "x": [
          1621,
          1622
         ],
         "y": [
          81.52,
          81.47
         ]
        },
        {
         "line": {
          "color": "green"
         },
         "showlegend": false,
         "type": "scatter",
         "x": [
          1622,
          1623
         ],
         "y": [
          81.47,
          81.42
         ]
        },
        {
         "line": {
          "color": "gray"
         },
         "showlegend": false,
         "type": "scatter",
         "x": [
          1623,
          1624
         ],
         "y": [
          81.42,
          81.35
         ]
        },
        {
         "line": {
          "color": "gray"
         },
         "showlegend": false,
         "type": "scatter",
         "x": [
          1624,
          1625
         ],
         "y": [
          81.35,
          81.36
         ]
        },
        {
         "line": {
          "color": "gray"
         },
         "showlegend": false,
         "type": "scatter",
         "x": [
          1625,
          1626
         ],
         "y": [
          81.36,
          81.37
         ]
        },
        {
         "line": {
          "color": "gray"
         },
         "showlegend": false,
         "type": "scatter",
         "x": [
          1626,
          1627
         ],
         "y": [
          81.37,
          81.38
         ]
        },
        {
         "line": {
          "color": "gray"
         },
         "showlegend": false,
         "type": "scatter",
         "x": [
          1627,
          1628
         ],
         "y": [
          81.38,
          81.43
         ]
        },
        {
         "line": {
          "color": "gray"
         },
         "showlegend": false,
         "type": "scatter",
         "x": [
          1628,
          1629
         ],
         "y": [
          81.43,
          81.4
         ]
        },
        {
         "line": {
          "color": "gray"
         },
         "showlegend": false,
         "type": "scatter",
         "x": [
          1629,
          1630
         ],
         "y": [
          81.4,
          81.47
         ]
        },
        {
         "line": {
          "color": "green"
         },
         "showlegend": false,
         "type": "scatter",
         "x": [
          1630,
          1631
         ],
         "y": [
          81.47,
          81.46
         ]
        },
        {
         "line": {
          "color": "gray"
         },
         "showlegend": false,
         "type": "scatter",
         "x": [
          1631,
          1632
         ],
         "y": [
          81.46,
          81.49
         ]
        },
        {
         "line": {
          "color": "green"
         },
         "showlegend": false,
         "type": "scatter",
         "x": [
          1632,
          1633
         ],
         "y": [
          81.49,
          81.37
         ]
        },
        {
         "line": {
          "color": "gray"
         },
         "showlegend": false,
         "type": "scatter",
         "x": [
          1633,
          1634
         ],
         "y": [
          81.37,
          81.57
         ]
        },
        {
         "line": {
          "color": "green"
         },
         "showlegend": false,
         "type": "scatter",
         "x": [
          1634,
          1635
         ],
         "y": [
          81.57,
          81.59
         ]
        },
        {
         "line": {
          "color": "green"
         },
         "showlegend": false,
         "type": "scatter",
         "x": [
          1635,
          1636
         ],
         "y": [
          81.59,
          81.59
         ]
        },
        {
         "line": {
          "color": "green"
         },
         "showlegend": false,
         "type": "scatter",
         "x": [
          1636,
          1637
         ],
         "y": [
          81.59,
          81.55
         ]
        },
        {
         "line": {
          "color": "green"
         },
         "showlegend": false,
         "type": "scatter",
         "x": [
          1637,
          1638
         ],
         "y": [
          81.55,
          81.59
         ]
        },
        {
         "line": {
          "color": "green"
         },
         "showlegend": false,
         "type": "scatter",
         "x": [
          1638,
          1639
         ],
         "y": [
          81.59,
          81.64
         ]
        },
        {
         "line": {
          "color": "green"
         },
         "showlegend": false,
         "type": "scatter",
         "x": [
          1639,
          1640
         ],
         "y": [
          81.64,
          81.71
         ]
        },
        {
         "line": {
          "color": "green"
         },
         "showlegend": false,
         "type": "scatter",
         "x": [
          1640,
          1641
         ],
         "y": [
          81.71,
          81.84
         ]
        },
        {
         "line": {
          "color": "green"
         },
         "showlegend": false,
         "type": "scatter",
         "x": [
          1641,
          1642
         ],
         "y": [
          81.84,
          81.83
         ]
        },
        {
         "line": {
          "color": "green"
         },
         "showlegend": false,
         "type": "scatter",
         "x": [
          1642,
          1643
         ],
         "y": [
          81.83,
          81.84
         ]
        },
        {
         "line": {
          "color": "green"
         },
         "showlegend": false,
         "type": "scatter",
         "x": [
          1643,
          1644
         ],
         "y": [
          81.84,
          81.84
         ]
        },
        {
         "line": {
          "color": "green"
         },
         "showlegend": false,
         "type": "scatter",
         "x": [
          1644,
          1645
         ],
         "y": [
          81.84,
          81.85
         ]
        },
        {
         "line": {
          "color": "green"
         },
         "showlegend": false,
         "type": "scatter",
         "x": [
          1645,
          1646
         ],
         "y": [
          81.85,
          81.85
         ]
        },
        {
         "line": {
          "color": "green"
         },
         "showlegend": false,
         "type": "scatter",
         "x": [
          1646,
          1647
         ],
         "y": [
          81.85,
          81.81
         ]
        },
        {
         "line": {
          "color": "green"
         },
         "showlegend": false,
         "type": "scatter",
         "x": [
          1647,
          1648
         ],
         "y": [
          81.81,
          81.84
         ]
        },
        {
         "line": {
          "color": "green"
         },
         "showlegend": false,
         "type": "scatter",
         "x": [
          1648,
          1649
         ],
         "y": [
          81.84,
          81.82
         ]
        },
        {
         "line": {
          "color": "green"
         },
         "showlegend": false,
         "type": "scatter",
         "x": [
          1649,
          1650
         ],
         "y": [
          81.82,
          81.79
         ]
        },
        {
         "line": {
          "color": "gray"
         },
         "showlegend": false,
         "type": "scatter",
         "x": [
          1650,
          1651
         ],
         "y": [
          81.79,
          81.79
         ]
        },
        {
         "line": {
          "color": "gray"
         },
         "showlegend": false,
         "type": "scatter",
         "x": [
          1651,
          1652
         ],
         "y": [
          81.79,
          81.78
         ]
        },
        {
         "line": {
          "color": "gray"
         },
         "showlegend": false,
         "type": "scatter",
         "x": [
          1652,
          1653
         ],
         "y": [
          81.78,
          81.79
         ]
        },
        {
         "line": {
          "color": "gray"
         },
         "showlegend": false,
         "type": "scatter",
         "x": [
          1653,
          1654
         ],
         "y": [
          81.79,
          81.83
         ]
        },
        {
         "line": {
          "color": "gray"
         },
         "showlegend": false,
         "type": "scatter",
         "x": [
          1654,
          1655
         ],
         "y": [
          81.83,
          81.82
         ]
        },
        {
         "line": {
          "color": "gray"
         },
         "showlegend": false,
         "type": "scatter",
         "x": [
          1655,
          1656
         ],
         "y": [
          81.82,
          81.8
         ]
        },
        {
         "line": {
          "color": "green"
         },
         "showlegend": false,
         "type": "scatter",
         "x": [
          1656,
          1657
         ],
         "y": [
          81.8,
          81.78
         ]
        },
        {
         "line": {
          "color": "gray"
         },
         "showlegend": false,
         "type": "scatter",
         "x": [
          1657,
          1658
         ],
         "y": [
          81.78,
          81.8
         ]
        },
        {
         "line": {
          "color": "gray"
         },
         "showlegend": false,
         "type": "scatter",
         "x": [
          1658,
          1659
         ],
         "y": [
          81.8,
          81.79
         ]
        },
        {
         "line": {
          "color": "gray"
         },
         "showlegend": false,
         "type": "scatter",
         "x": [
          1659,
          1660
         ],
         "y": [
          81.79,
          81.79
         ]
        },
        {
         "line": {
          "color": "gray"
         },
         "showlegend": false,
         "type": "scatter",
         "x": [
          1660,
          1661
         ],
         "y": [
          81.79,
          81.82
         ]
        },
        {
         "line": {
          "color": "green"
         },
         "showlegend": false,
         "type": "scatter",
         "x": [
          1661,
          1662
         ],
         "y": [
          81.82,
          81.78
         ]
        },
        {
         "line": {
          "color": "gray"
         },
         "showlegend": false,
         "type": "scatter",
         "x": [
          1662,
          1663
         ],
         "y": [
          81.78,
          81.76
         ]
        },
        {
         "line": {
          "color": "gray"
         },
         "showlegend": false,
         "type": "scatter",
         "x": [
          1663,
          1664
         ],
         "y": [
          81.76,
          81.77
         ]
        },
        {
         "line": {
          "color": "red"
         },
         "showlegend": false,
         "type": "scatter",
         "x": [
          1664,
          1665
         ],
         "y": [
          81.77,
          81.77
         ]
        },
        {
         "line": {
          "color": "red"
         },
         "showlegend": false,
         "type": "scatter",
         "x": [
          1665,
          1666
         ],
         "y": [
          81.77,
          81.77
         ]
        },
        {
         "line": {
          "color": "gray"
         },
         "showlegend": false,
         "type": "scatter",
         "x": [
          1666,
          1667
         ],
         "y": [
          81.77,
          81.79
         ]
        },
        {
         "line": {
          "color": "gray"
         },
         "showlegend": false,
         "type": "scatter",
         "x": [
          1667,
          1668
         ],
         "y": [
          81.79,
          81.77
         ]
        },
        {
         "line": {
          "color": "gray"
         },
         "showlegend": false,
         "type": "scatter",
         "x": [
          1668,
          1669
         ],
         "y": [
          81.77,
          81.73
         ]
        },
        {
         "line": {
          "color": "red"
         },
         "showlegend": false,
         "type": "scatter",
         "x": [
          1669,
          1670
         ],
         "y": [
          81.73,
          81.72
         ]
        },
        {
         "line": {
          "color": "red"
         },
         "showlegend": false,
         "type": "scatter",
         "x": [
          1670,
          1671
         ],
         "y": [
          81.72,
          81.73
         ]
        },
        {
         "line": {
          "color": "red"
         },
         "showlegend": false,
         "type": "scatter",
         "x": [
          1671,
          1672
         ],
         "y": [
          81.73,
          81.73
         ]
        },
        {
         "line": {
          "color": "red"
         },
         "showlegend": false,
         "type": "scatter",
         "x": [
          1672,
          1673
         ],
         "y": [
          81.73,
          81.73
         ]
        },
        {
         "line": {
          "color": "red"
         },
         "showlegend": false,
         "type": "scatter",
         "x": [
          1673,
          1674
         ],
         "y": [
          81.73,
          81.75
         ]
        },
        {
         "line": {
          "color": "red"
         },
         "showlegend": false,
         "type": "scatter",
         "x": [
          1674,
          1675
         ],
         "y": [
          81.75,
          81.71
         ]
        },
        {
         "line": {
          "color": "red"
         },
         "showlegend": false,
         "type": "scatter",
         "x": [
          1675,
          1676
         ],
         "y": [
          81.71,
          81.79
         ]
        },
        {
         "line": {
          "color": "gray"
         },
         "showlegend": false,
         "type": "scatter",
         "x": [
          1676,
          1677
         ],
         "y": [
          81.79,
          81.67
         ]
        },
        {
         "line": {
          "color": "gray"
         },
         "showlegend": false,
         "type": "scatter",
         "x": [
          1677,
          1678
         ],
         "y": [
          81.67,
          81.71
         ]
        },
        {
         "line": {
          "color": "red"
         },
         "showlegend": false,
         "type": "scatter",
         "x": [
          1678,
          1679
         ],
         "y": [
          81.71,
          81.65
         ]
        },
        {
         "line": {
          "color": "red"
         },
         "showlegend": false,
         "type": "scatter",
         "x": [
          1679,
          1680
         ],
         "y": [
          81.65,
          81.7
         ]
        },
        {
         "line": {
          "color": "gray"
         },
         "showlegend": false,
         "type": "scatter",
         "x": [
          1680,
          1681
         ],
         "y": [
          81.7,
          81.69
         ]
        },
        {
         "line": {
          "color": "gray"
         },
         "showlegend": false,
         "type": "scatter",
         "x": [
          1681,
          1682
         ],
         "y": [
          81.69,
          81.66
         ]
        },
        {
         "line": {
          "color": "red"
         },
         "showlegend": false,
         "type": "scatter",
         "x": [
          1682,
          1683
         ],
         "y": [
          81.66,
          81.65
         ]
        },
        {
         "line": {
          "color": "red"
         },
         "showlegend": false,
         "type": "scatter",
         "x": [
          1683,
          1684
         ],
         "y": [
          81.65,
          81.64
         ]
        },
        {
         "line": {
          "color": "red"
         },
         "showlegend": false,
         "type": "scatter",
         "x": [
          1684,
          1685
         ],
         "y": [
          81.64,
          81.59
         ]
        },
        {
         "line": {
          "color": "red"
         },
         "showlegend": false,
         "type": "scatter",
         "x": [
          1685,
          1686
         ],
         "y": [
          81.59,
          81.61
         ]
        },
        {
         "line": {
          "color": "red"
         },
         "showlegend": false,
         "type": "scatter",
         "x": [
          1686,
          1687
         ],
         "y": [
          81.61,
          81.6
         ]
        },
        {
         "line": {
          "color": "red"
         },
         "showlegend": false,
         "type": "scatter",
         "x": [
          1687,
          1688
         ],
         "y": [
          81.6,
          81.54
         ]
        },
        {
         "line": {
          "color": "red"
         },
         "showlegend": false,
         "type": "scatter",
         "x": [
          1688,
          1689
         ],
         "y": [
          81.54,
          81.56
         ]
        },
        {
         "line": {
          "color": "red"
         },
         "showlegend": false,
         "type": "scatter",
         "x": [
          1689,
          1690
         ],
         "y": [
          81.56,
          81.53
         ]
        },
        {
         "line": {
          "color": "red"
         },
         "showlegend": false,
         "type": "scatter",
         "x": [
          1690,
          1691
         ],
         "y": [
          81.53,
          81.5
         ]
        },
        {
         "line": {
          "color": "red"
         },
         "showlegend": false,
         "type": "scatter",
         "x": [
          1691,
          1692
         ],
         "y": [
          81.5,
          81.49
         ]
        },
        {
         "line": {
          "color": "red"
         },
         "showlegend": false,
         "type": "scatter",
         "x": [
          1692,
          1693
         ],
         "y": [
          81.49,
          81.44
         ]
        },
        {
         "line": {
          "color": "red"
         },
         "showlegend": false,
         "type": "scatter",
         "x": [
          1693,
          1694
         ],
         "y": [
          81.44,
          81.45
         ]
        },
        {
         "line": {
          "color": "red"
         },
         "showlegend": false,
         "type": "scatter",
         "x": [
          1694,
          1695
         ],
         "y": [
          81.45,
          81.44
         ]
        },
        {
         "line": {
          "color": "red"
         },
         "showlegend": false,
         "type": "scatter",
         "x": [
          1695,
          1696
         ],
         "y": [
          81.44,
          81.46
         ]
        },
        {
         "line": {
          "color": "gray"
         },
         "showlegend": false,
         "type": "scatter",
         "x": [
          1696,
          1697
         ],
         "y": [
          81.46,
          81.52
         ]
        },
        {
         "line": {
          "color": "green"
         },
         "showlegend": false,
         "type": "scatter",
         "x": [
          1697,
          1698
         ],
         "y": [
          81.52,
          81.5
         ]
        },
        {
         "line": {
          "color": "gray"
         },
         "showlegend": false,
         "type": "scatter",
         "x": [
          1698,
          1699
         ],
         "y": [
          81.5,
          81.51
         ]
        },
        {
         "line": {
          "color": "green"
         },
         "showlegend": false,
         "type": "scatter",
         "x": [
          1699,
          1700
         ],
         "y": [
          81.51,
          81.53
         ]
        },
        {
         "line": {
          "color": "green"
         },
         "showlegend": false,
         "type": "scatter",
         "x": [
          1700,
          1701
         ],
         "y": [
          81.53,
          81.53
         ]
        },
        {
         "line": {
          "color": "green"
         },
         "showlegend": false,
         "type": "scatter",
         "x": [
          1701,
          1702
         ],
         "y": [
          81.53,
          81.54
         ]
        },
        {
         "line": {
          "color": "green"
         },
         "showlegend": false,
         "type": "scatter",
         "x": [
          1702,
          1703
         ],
         "y": [
          81.54,
          81.55
         ]
        },
        {
         "line": {
          "color": "green"
         },
         "showlegend": false,
         "type": "scatter",
         "x": [
          1703,
          1704
         ],
         "y": [
          81.55,
          81.61
         ]
        },
        {
         "line": {
          "color": "green"
         },
         "showlegend": false,
         "type": "scatter",
         "x": [
          1704,
          1705
         ],
         "y": [
          81.61,
          81.63
         ]
        },
        {
         "line": {
          "color": "green"
         },
         "showlegend": false,
         "type": "scatter",
         "x": [
          1705,
          1706
         ],
         "y": [
          81.63,
          81.63
         ]
        },
        {
         "line": {
          "color": "green"
         },
         "showlegend": false,
         "type": "scatter",
         "x": [
          1706,
          1707
         ],
         "y": [
          81.63,
          81.62
         ]
        },
        {
         "line": {
          "color": "green"
         },
         "showlegend": false,
         "type": "scatter",
         "x": [
          1707,
          1708
         ],
         "y": [
          81.62,
          81.6
         ]
        },
        {
         "line": {
          "color": "green"
         },
         "showlegend": false,
         "type": "scatter",
         "x": [
          1708,
          1709
         ],
         "y": [
          81.6,
          81.63
         ]
        },
        {
         "line": {
          "color": "green"
         },
         "showlegend": false,
         "type": "scatter",
         "x": [
          1709,
          1710
         ],
         "y": [
          81.63,
          81.58
         ]
        },
        {
         "line": {
          "color": "gray"
         },
         "showlegend": false,
         "type": "scatter",
         "x": [
          1710,
          1711
         ],
         "y": [
          81.58,
          81.61
         ]
        },
        {
         "line": {
          "color": "green"
         },
         "showlegend": false,
         "type": "scatter",
         "x": [
          1711,
          1712
         ],
         "y": [
          81.61,
          81.57
         ]
        },
        {
         "line": {
          "color": "gray"
         },
         "showlegend": false,
         "type": "scatter",
         "x": [
          1712,
          1713
         ],
         "y": [
          81.57,
          81.64
         ]
        },
        {
         "line": {
          "color": "green"
         },
         "showlegend": false,
         "type": "scatter",
         "x": [
          1713,
          1714
         ],
         "y": [
          81.64,
          81.67
         ]
        },
        {
         "line": {
          "color": "green"
         },
         "showlegend": false,
         "type": "scatter",
         "x": [
          1714,
          1715
         ],
         "y": [
          81.67,
          81.59
         ]
        },
        {
         "line": {
          "color": "gray"
         },
         "showlegend": false,
         "type": "scatter",
         "x": [
          1715,
          1716
         ],
         "y": [
          81.59,
          81.59
         ]
        },
        {
         "line": {
          "color": "gray"
         },
         "showlegend": false,
         "type": "scatter",
         "x": [
          1716,
          1717
         ],
         "y": [
          81.59,
          81.55
         ]
        },
        {
         "line": {
          "color": "gray"
         },
         "showlegend": false,
         "type": "scatter",
         "x": [
          1717,
          1718
         ],
         "y": [
          81.55,
          81.54
         ]
        },
        {
         "line": {
          "color": "gray"
         },
         "showlegend": false,
         "type": "scatter",
         "x": [
          1718,
          1719
         ],
         "y": [
          81.54,
          81.55
         ]
        },
        {
         "line": {
          "color": "red"
         },
         "showlegend": false,
         "type": "scatter",
         "x": [
          1719,
          1720
         ],
         "y": [
          81.55,
          81.49
         ]
        },
        {
         "line": {
          "color": "red"
         },
         "showlegend": false,
         "type": "scatter",
         "x": [
          1720,
          1721
         ],
         "y": [
          81.49,
          81.46
         ]
        },
        {
         "line": {
          "color": "red"
         },
         "showlegend": false,
         "type": "scatter",
         "x": [
          1721,
          1722
         ],
         "y": [
          81.46,
          81.44
         ]
        },
        {
         "line": {
          "color": "red"
         },
         "showlegend": false,
         "type": "scatter",
         "x": [
          1722,
          1723
         ],
         "y": [
          81.44,
          81.44
         ]
        },
        {
         "line": {
          "color": "red"
         },
         "showlegend": false,
         "type": "scatter",
         "x": [
          1723,
          1724
         ],
         "y": [
          81.44,
          81.43
         ]
        },
        {
         "line": {
          "color": "red"
         },
         "showlegend": false,
         "type": "scatter",
         "x": [
          1724,
          1725
         ],
         "y": [
          81.43,
          81.43
         ]
        },
        {
         "line": {
          "color": "red"
         },
         "showlegend": false,
         "type": "scatter",
         "x": [
          1725,
          1726
         ],
         "y": [
          81.43,
          81.38
         ]
        },
        {
         "line": {
          "color": "red"
         },
         "showlegend": false,
         "type": "scatter",
         "x": [
          1726,
          1727
         ],
         "y": [
          81.38,
          81.38
         ]
        },
        {
         "line": {
          "color": "red"
         },
         "showlegend": false,
         "type": "scatter",
         "x": [
          1727,
          1728
         ],
         "y": [
          81.38,
          81.37
         ]
        },
        {
         "line": {
          "color": "red"
         },
         "showlegend": false,
         "type": "scatter",
         "x": [
          1728,
          1729
         ],
         "y": [
          81.37,
          81.37
         ]
        },
        {
         "line": {
          "color": "red"
         },
         "showlegend": false,
         "type": "scatter",
         "x": [
          1729,
          1730
         ],
         "y": [
          81.37,
          81.42
         ]
        },
        {
         "line": {
          "color": "gray"
         },
         "showlegend": false,
         "type": "scatter",
         "x": [
          1730,
          1731
         ],
         "y": [
          81.42,
          81.43
         ]
        },
        {
         "line": {
          "color": "gray"
         },
         "showlegend": false,
         "type": "scatter",
         "x": [
          1731,
          1732
         ],
         "y": [
          81.43,
          81.47
         ]
        },
        {
         "line": {
          "color": "green"
         },
         "showlegend": false,
         "type": "scatter",
         "x": [
          1732,
          1733
         ],
         "y": [
          81.47,
          81.45
         ]
        },
        {
         "line": {
          "color": "green"
         },
         "showlegend": false,
         "type": "scatter",
         "x": [
          1733,
          1734
         ],
         "y": [
          81.45,
          81.38
         ]
        },
        {
         "line": {
          "color": "gray"
         },
         "showlegend": false,
         "type": "scatter",
         "x": [
          1734,
          1735
         ],
         "y": [
          81.38,
          81.37
         ]
        },
        {
         "line": {
          "color": "gray"
         },
         "showlegend": false,
         "type": "scatter",
         "x": [
          1735,
          1736
         ],
         "y": [
          81.37,
          81.39
         ]
        },
        {
         "line": {
          "color": "gray"
         },
         "showlegend": false,
         "type": "scatter",
         "x": [
          1736,
          1737
         ],
         "y": [
          81.39,
          81.43
         ]
        },
        {
         "line": {
          "color": "green"
         },
         "showlegend": false,
         "type": "scatter",
         "x": [
          1737,
          1738
         ],
         "y": [
          81.43,
          81.42
         ]
        },
        {
         "line": {
          "color": "gray"
         },
         "showlegend": false,
         "type": "scatter",
         "x": [
          1738,
          1739
         ],
         "y": [
          81.42,
          81.45
         ]
        },
        {
         "line": {
          "color": "green"
         },
         "showlegend": false,
         "type": "scatter",
         "x": [
          1739,
          1740
         ],
         "y": [
          81.45,
          81.49
         ]
        },
        {
         "line": {
          "color": "green"
         },
         "showlegend": false,
         "type": "scatter",
         "x": [
          1740,
          1741
         ],
         "y": [
          81.49,
          81.49
         ]
        },
        {
         "line": {
          "color": "green"
         },
         "showlegend": false,
         "type": "scatter",
         "x": [
          1741,
          1742
         ],
         "y": [
          81.49,
          81.49
         ]
        },
        {
         "line": {
          "color": "green"
         },
         "showlegend": false,
         "type": "scatter",
         "x": [
          1742,
          1743
         ],
         "y": [
          81.49,
          81.47
         ]
        },
        {
         "line": {
          "color": "green"
         },
         "showlegend": false,
         "type": "scatter",
         "x": [
          1743,
          1744
         ],
         "y": [
          81.47,
          81.48
         ]
        },
        {
         "line": {
          "color": "green"
         },
         "showlegend": false,
         "type": "scatter",
         "x": [
          1744,
          1745
         ],
         "y": [
          81.48,
          81.49
         ]
        },
        {
         "line": {
          "color": "green"
         },
         "showlegend": false,
         "type": "scatter",
         "x": [
          1745,
          1746
         ],
         "y": [
          81.49,
          81.48
         ]
        },
        {
         "line": {
          "color": "green"
         },
         "showlegend": false,
         "type": "scatter",
         "x": [
          1746,
          1747
         ],
         "y": [
          81.48,
          81.53
         ]
        },
        {
         "line": {
          "color": "green"
         },
         "showlegend": false,
         "type": "scatter",
         "x": [
          1747,
          1748
         ],
         "y": [
          81.53,
          81.51
         ]
        },
        {
         "line": {
          "color": "green"
         },
         "showlegend": false,
         "type": "scatter",
         "x": [
          1748,
          1749
         ],
         "y": [
          81.51,
          81.52
         ]
        },
        {
         "line": {
          "color": "green"
         },
         "showlegend": false,
         "type": "scatter",
         "x": [
          1749,
          1750
         ],
         "y": [
          81.52,
          81.49
         ]
        },
        {
         "line": {
          "color": "gray"
         },
         "showlegend": false,
         "type": "scatter",
         "x": [
          1750,
          1751
         ],
         "y": [
          81.49,
          81.47
         ]
        },
        {
         "line": {
          "color": "gray"
         },
         "showlegend": false,
         "type": "scatter",
         "x": [
          1751,
          1752
         ],
         "y": [
          81.47,
          81.52
         ]
        },
        {
         "line": {
          "color": "green"
         },
         "showlegend": false,
         "type": "scatter",
         "x": [
          1752,
          1753
         ],
         "y": [
          81.52,
          81.51
         ]
        },
        {
         "line": {
          "color": "green"
         },
         "showlegend": false,
         "type": "scatter",
         "x": [
          1753,
          1754
         ],
         "y": [
          81.51,
          81.54
         ]
        },
        {
         "line": {
          "color": "green"
         },
         "showlegend": false,
         "type": "scatter",
         "x": [
          1754,
          1755
         ],
         "y": [
          81.54,
          81.52
         ]
        },
        {
         "line": {
          "color": "gray"
         },
         "showlegend": false,
         "type": "scatter",
         "x": [
          1755,
          1756
         ],
         "y": [
          81.52,
          81.52
         ]
        },
        {
         "line": {
          "color": "gray"
         },
         "showlegend": false,
         "type": "scatter",
         "x": [
          1756,
          1757
         ],
         "y": [
          81.52,
          81.47
         ]
        },
        {
         "line": {
          "color": "gray"
         },
         "showlegend": false,
         "type": "scatter",
         "x": [
          1757,
          1758
         ],
         "y": [
          81.47,
          81.48
         ]
        },
        {
         "line": {
          "color": "gray"
         },
         "showlegend": false,
         "type": "scatter",
         "x": [
          1758,
          1759
         ],
         "y": [
          81.48,
          81.53
         ]
        },
        {
         "line": {
          "color": "gray"
         },
         "showlegend": false,
         "type": "scatter",
         "x": [
          1759,
          1760
         ],
         "y": [
          81.53,
          81.52
         ]
        },
        {
         "line": {
          "color": "gray"
         },
         "showlegend": false,
         "type": "scatter",
         "x": [
          1760,
          1761
         ],
         "y": [
          81.52,
          81.57
         ]
        },
        {
         "line": {
          "color": "green"
         },
         "showlegend": false,
         "type": "scatter",
         "x": [
          1761,
          1762
         ],
         "y": [
          81.57,
          81.49
         ]
        },
        {
         "line": {
          "color": "gray"
         },
         "showlegend": false,
         "type": "scatter",
         "x": [
          1762,
          1763
         ],
         "y": [
          81.49,
          81.52
         ]
        },
        {
         "line": {
          "color": "gray"
         },
         "showlegend": false,
         "type": "scatter",
         "x": [
          1763,
          1764
         ],
         "y": [
          81.52,
          81.62
         ]
        },
        {
         "line": {
          "color": "green"
         },
         "showlegend": false,
         "type": "scatter",
         "x": [
          1764,
          1765
         ],
         "y": [
          81.62,
          81.6
         ]
        },
        {
         "line": {
          "color": "green"
         },
         "showlegend": false,
         "type": "scatter",
         "x": [
          1765,
          1766
         ],
         "y": [
          81.6,
          81.71
         ]
        },
        {
         "line": {
          "color": "green"
         },
         "showlegend": false,
         "type": "scatter",
         "x": [
          1766,
          1767
         ],
         "y": [
          81.71,
          81.78
         ]
        },
        {
         "line": {
          "color": "green"
         },
         "showlegend": false,
         "type": "scatter",
         "x": [
          1767,
          1768
         ],
         "y": [
          81.78,
          81.61
         ]
        },
        {
         "line": {
          "color": "gray"
         },
         "showlegend": false,
         "type": "scatter",
         "x": [
          1768,
          1769
         ],
         "y": [
          81.61,
          81.63
         ]
        },
        {
         "line": {
          "color": "gray"
         },
         "showlegend": false,
         "type": "scatter",
         "x": [
          1769,
          1770
         ],
         "y": [
          81.63,
          81.81
         ]
        },
        {
         "line": {
          "color": "green"
         },
         "showlegend": false,
         "type": "scatter",
         "x": [
          1770,
          1771
         ],
         "y": [
          81.81,
          81.67
         ]
        },
        {
         "line": {
          "color": "green"
         },
         "showlegend": false,
         "type": "scatter",
         "x": [
          1771,
          1772
         ],
         "y": [
          81.67,
          81.68
         ]
        },
        {
         "line": {
          "color": "gray"
         },
         "showlegend": false,
         "type": "scatter",
         "x": [
          1772,
          1773
         ],
         "y": [
          81.68,
          81.65
         ]
        },
        {
         "line": {
          "color": "gray"
         },
         "showlegend": false,
         "type": "scatter",
         "x": [
          1773,
          1774
         ],
         "y": [
          81.65,
          81.74
         ]
        },
        {
         "line": {
          "color": "green"
         },
         "showlegend": false,
         "type": "scatter",
         "x": [
          1774,
          1775
         ],
         "y": [
          81.74,
          81.65
         ]
        },
        {
         "line": {
          "color": "gray"
         },
         "showlegend": false,
         "type": "scatter",
         "x": [
          1775,
          1776
         ],
         "y": [
          81.65,
          81.67
         ]
        },
        {
         "line": {
          "color": "gray"
         },
         "showlegend": false,
         "type": "scatter",
         "x": [
          1776,
          1777
         ],
         "y": [
          81.67,
          81.69
         ]
        },
        {
         "line": {
          "color": "gray"
         },
         "showlegend": false,
         "type": "scatter",
         "x": [
          1777,
          1778
         ],
         "y": [
          81.69,
          81.52
         ]
        },
        {
         "line": {
          "color": "red"
         },
         "showlegend": false,
         "type": "scatter",
         "x": [
          1778,
          1779
         ],
         "y": [
          81.52,
          81.59
         ]
        },
        {
         "line": {
          "color": "gray"
         },
         "showlegend": false,
         "type": "scatter",
         "x": [
          1779,
          1780
         ],
         "y": [
          81.59,
          81.72
         ]
        },
        {
         "line": {
          "color": "green"
         },
         "showlegend": false,
         "type": "scatter",
         "x": [
          1780,
          1781
         ],
         "y": [
          81.72,
          81.65
         ]
        },
        {
         "line": {
          "color": "gray"
         },
         "showlegend": false,
         "type": "scatter",
         "x": [
          1781,
          1782
         ],
         "y": [
          81.65,
          81.61
         ]
        },
        {
         "line": {
          "color": "gray"
         },
         "showlegend": false,
         "type": "scatter",
         "x": [
          1782,
          1783
         ],
         "y": [
          81.61,
          81.8
         ]
        },
        {
         "line": {
          "color": "green"
         },
         "showlegend": false,
         "type": "scatter",
         "x": [
          1783,
          1784
         ],
         "y": [
          81.8,
          81.81
         ]
        },
        {
         "line": {
          "color": "green"
         },
         "showlegend": false,
         "type": "scatter",
         "x": [
          1784,
          1785
         ],
         "y": [
          81.81,
          81.74
         ]
        },
        {
         "line": {
          "color": "green"
         },
         "showlegend": false,
         "type": "scatter",
         "x": [
          1785,
          1786
         ],
         "y": [
          81.74,
          81.72
         ]
        },
        {
         "line": {
          "color": "gray"
         },
         "showlegend": false,
         "type": "scatter",
         "x": [
          1786,
          1787
         ],
         "y": [
          81.72,
          81.57
         ]
        },
        {
         "line": {
          "color": "gray"
         },
         "showlegend": false,
         "type": "scatter",
         "x": [
          1787,
          1788
         ],
         "y": [
          81.57,
          81.7
         ]
        },
        {
         "line": {
          "color": "gray"
         },
         "showlegend": false,
         "type": "scatter",
         "x": [
          1788,
          1789
         ],
         "y": [
          81.7,
          81.58
         ]
        },
        {
         "line": {
          "color": "gray"
         },
         "showlegend": false,
         "type": "scatter",
         "x": [
          1789,
          1790
         ],
         "y": [
          81.58,
          81.6
         ]
        },
        {
         "line": {
          "color": "gray"
         },
         "showlegend": false,
         "type": "scatter",
         "x": [
          1790,
          1791
         ],
         "y": [
          81.6,
          81.6
         ]
        },
        {
         "line": {
          "color": "gray"
         },
         "showlegend": false,
         "type": "scatter",
         "x": [
          1791,
          1792
         ],
         "y": [
          81.6,
          81.55
         ]
        },
        {
         "line": {
          "color": "gray"
         },
         "showlegend": false,
         "type": "scatter",
         "x": [
          1792,
          1793
         ],
         "y": [
          81.55,
          81.6
         ]
        },
        {
         "line": {
          "color": "gray"
         },
         "showlegend": false,
         "type": "scatter",
         "x": [
          1793,
          1794
         ],
         "y": [
          81.6,
          81.63
         ]
        },
        {
         "line": {
          "color": "gray"
         },
         "showlegend": false,
         "type": "scatter",
         "x": [
          1794,
          1795
         ],
         "y": [
          81.63,
          81.54
         ]
        },
        {
         "line": {
          "color": "red"
         },
         "showlegend": false,
         "type": "scatter",
         "x": [
          1795,
          1796
         ],
         "y": [
          81.54,
          81.56
         ]
        },
        {
         "line": {
          "color": "red"
         },
         "showlegend": false,
         "type": "scatter",
         "x": [
          1796,
          1797
         ],
         "y": [
          81.56,
          81.63
         ]
        },
        {
         "line": {
          "color": "gray"
         },
         "showlegend": false,
         "type": "scatter",
         "x": [
          1797,
          1798
         ],
         "y": [
          81.63,
          81.58
         ]
        },
        {
         "line": {
          "color": "red"
         },
         "showlegend": false,
         "type": "scatter",
         "x": [
          1798,
          1799
         ],
         "y": [
          81.58,
          81.42
         ]
        },
        {
         "line": {
          "color": "red"
         },
         "showlegend": false,
         "type": "scatter",
         "x": [
          1799,
          1800
         ],
         "y": [
          81.42,
          81.55
         ]
        },
        {
         "line": {
          "color": "gray"
         },
         "showlegend": false,
         "type": "scatter",
         "x": [
          1800,
          1801
         ],
         "y": [
          81.55,
          81.57
         ]
        },
        {
         "line": {
          "color": "gray"
         },
         "showlegend": false,
         "type": "scatter",
         "x": [
          1801,
          1802
         ],
         "y": [
          81.57,
          81.57
         ]
        },
        {
         "line": {
          "color": "gray"
         },
         "showlegend": false,
         "type": "scatter",
         "x": [
          1802,
          1803
         ],
         "y": [
          81.57,
          81.61
         ]
        },
        {
         "line": {
          "color": "gray"
         },
         "showlegend": false,
         "type": "scatter",
         "x": [
          1803,
          1804
         ],
         "y": [
          81.61,
          81.56
         ]
        },
        {
         "line": {
          "color": "gray"
         },
         "showlegend": false,
         "type": "scatter",
         "x": [
          1804,
          1805
         ],
         "y": [
          81.56,
          81.57
         ]
        },
        {
         "line": {
          "color": "gray"
         },
         "showlegend": false,
         "type": "scatter",
         "x": [
          1805,
          1806
         ],
         "y": [
          81.57,
          81.52
         ]
        },
        {
         "line": {
          "color": "gray"
         },
         "showlegend": false,
         "type": "scatter",
         "x": [
          1806,
          1807
         ],
         "y": [
          81.52,
          81.52
         ]
        },
        {
         "line": {
          "color": "gray"
         },
         "showlegend": false,
         "type": "scatter",
         "x": [
          1807,
          1808
         ],
         "y": [
          81.52,
          81.42
         ]
        },
        {
         "line": {
          "color": "red"
         },
         "showlegend": false,
         "type": "scatter",
         "x": [
          1808,
          1809
         ],
         "y": [
          81.42,
          81.49
         ]
        },
        {
         "line": {
          "color": "gray"
         },
         "showlegend": false,
         "type": "scatter",
         "x": [
          1809,
          1810
         ],
         "y": [
          81.49,
          81.51
         ]
        },
        {
         "line": {
          "color": "gray"
         },
         "showlegend": false,
         "type": "scatter",
         "x": [
          1810,
          1811
         ],
         "y": [
          81.51,
          81.49
         ]
        },
        {
         "line": {
          "color": "gray"
         },
         "showlegend": false,
         "type": "scatter",
         "x": [
          1811,
          1812
         ],
         "y": [
          81.49,
          81.59
         ]
        },
        {
         "line": {
          "color": "green"
         },
         "showlegend": false,
         "type": "scatter",
         "x": [
          1812,
          1813
         ],
         "y": [
          81.59,
          81.42
         ]
        },
        {
         "line": {
          "color": "red"
         },
         "showlegend": false,
         "type": "scatter",
         "x": [
          1813,
          1814
         ],
         "y": [
          81.42,
          81.46
         ]
        },
        {
         "line": {
          "color": "gray"
         },
         "showlegend": false,
         "type": "scatter",
         "x": [
          1814,
          1815
         ],
         "y": [
          81.46,
          81.4
         ]
        },
        {
         "line": {
          "color": "red"
         },
         "showlegend": false,
         "type": "scatter",
         "x": [
          1815,
          1816
         ],
         "y": [
          81.4,
          81.45
         ]
        },
        {
         "line": {
          "color": "gray"
         },
         "showlegend": false,
         "type": "scatter",
         "x": [
          1816,
          1817
         ],
         "y": [
          81.45,
          81.4
         ]
        },
        {
         "line": {
          "color": "red"
         },
         "showlegend": false,
         "type": "scatter",
         "x": [
          1817,
          1818
         ],
         "y": [
          81.4,
          81.41
         ]
        },
        {
         "line": {
          "color": "gray"
         },
         "showlegend": false,
         "type": "scatter",
         "x": [
          1818,
          1819
         ],
         "y": [
          81.41,
          81.39
         ]
        },
        {
         "line": {
          "color": "red"
         },
         "showlegend": false,
         "type": "scatter",
         "x": [
          1819,
          1820
         ],
         "y": [
          81.39,
          81.35
         ]
        },
        {
         "line": {
          "color": "red"
         },
         "showlegend": false,
         "type": "scatter",
         "x": [
          1820,
          1821
         ],
         "y": [
          81.35,
          81.31
         ]
        },
        {
         "line": {
          "color": "red"
         },
         "showlegend": false,
         "type": "scatter",
         "x": [
          1821,
          1822
         ],
         "y": [
          81.31,
          81.28
         ]
        },
        {
         "line": {
          "color": "red"
         },
         "showlegend": false,
         "type": "scatter",
         "x": [
          1822,
          1823
         ],
         "y": [
          81.28,
          81.4
         ]
        },
        {
         "line": {
          "color": "gray"
         },
         "showlegend": false,
         "type": "scatter",
         "x": [
          1823,
          1824
         ],
         "y": [
          81.4,
          81.33
         ]
        },
        {
         "line": {
          "color": "gray"
         },
         "showlegend": false,
         "type": "scatter",
         "x": [
          1824,
          1825
         ],
         "y": [
          81.33,
          81.37
         ]
        },
        {
         "line": {
          "color": "gray"
         },
         "showlegend": false,
         "type": "scatter",
         "x": [
          1825,
          1826
         ],
         "y": [
          81.37,
          81.39
         ]
        },
        {
         "line": {
          "color": "gray"
         },
         "showlegend": false,
         "type": "scatter",
         "x": [
          1826,
          1827
         ],
         "y": [
          81.39,
          81.43
         ]
        },
        {
         "line": {
          "color": "gray"
         },
         "showlegend": false,
         "type": "scatter",
         "x": [
          1827,
          1828
         ],
         "y": [
          81.43,
          81.47
         ]
        },
        {
         "line": {
          "color": "green"
         },
         "showlegend": false,
         "type": "scatter",
         "x": [
          1828,
          1829
         ],
         "y": [
          81.47,
          81.44
         ]
        },
        {
         "line": {
          "color": "green"
         },
         "showlegend": false,
         "type": "scatter",
         "x": [
          1829,
          1830
         ],
         "y": [
          81.44,
          81.37
         ]
        },
        {
         "line": {
          "color": "gray"
         },
         "showlegend": false,
         "type": "scatter",
         "x": [
          1830,
          1831
         ],
         "y": [
          81.37,
          81.45
         ]
        },
        {
         "line": {
          "color": "green"
         },
         "showlegend": false,
         "type": "scatter",
         "x": [
          1831,
          1832
         ],
         "y": [
          81.45,
          81.6
         ]
        },
        {
         "line": {
          "color": "green"
         },
         "showlegend": false,
         "type": "scatter",
         "x": [
          1832,
          1833
         ],
         "y": [
          81.6,
          81.74
         ]
        },
        {
         "line": {
          "color": "green"
         },
         "showlegend": false,
         "type": "scatter",
         "x": [
          1833,
          1834
         ],
         "y": [
          81.74,
          81.65
         ]
        },
        {
         "line": {
          "color": "green"
         },
         "showlegend": false,
         "type": "scatter",
         "x": [
          1834,
          1835
         ],
         "y": [
          81.65,
          81.79
         ]
        },
        {
         "line": {
          "color": "green"
         },
         "showlegend": false,
         "type": "scatter",
         "x": [
          1835,
          1836
         ],
         "y": [
          81.79,
          81.95
         ]
        },
        {
         "line": {
          "color": "green"
         },
         "showlegend": false,
         "type": "scatter",
         "x": [
          1836,
          1837
         ],
         "y": [
          81.95,
          82.06
         ]
        },
        {
         "line": {
          "color": "green"
         },
         "showlegend": false,
         "type": "scatter",
         "x": [
          1837,
          1838
         ],
         "y": [
          82.06,
          82.13
         ]
        },
        {
         "line": {
          "color": "green"
         },
         "showlegend": false,
         "type": "scatter",
         "x": [
          1838,
          1839
         ],
         "y": [
          82.13,
          82.09
         ]
        },
        {
         "line": {
          "color": "green"
         },
         "showlegend": false,
         "type": "scatter",
         "x": [
          1839,
          1840
         ],
         "y": [
          82.09,
          82.19
         ]
        },
        {
         "line": {
          "color": "green"
         },
         "showlegend": false,
         "type": "scatter",
         "x": [
          1840,
          1841
         ],
         "y": [
          82.19,
          82.37
         ]
        },
        {
         "line": {
          "color": "green"
         },
         "showlegend": false,
         "type": "scatter",
         "x": [
          1841,
          1842
         ],
         "y": [
          82.37,
          82.39
         ]
        },
        {
         "line": {
          "color": "green"
         },
         "showlegend": false,
         "type": "scatter",
         "x": [
          1842,
          1843
         ],
         "y": [
          82.39,
          82.42
         ]
        },
        {
         "line": {
          "color": "green"
         },
         "showlegend": false,
         "type": "scatter",
         "x": [
          1843,
          1844
         ],
         "y": [
          82.42,
          82.34
         ]
        },
        {
         "line": {
          "color": "green"
         },
         "showlegend": false,
         "type": "scatter",
         "x": [
          1844,
          1845
         ],
         "y": [
          82.34,
          82.36
         ]
        },
        {
         "line": {
          "color": "green"
         },
         "showlegend": false,
         "type": "scatter",
         "x": [
          1845,
          1846
         ],
         "y": [
          82.36,
          82.35
         ]
        },
        {
         "line": {
          "color": "green"
         },
         "showlegend": false,
         "type": "scatter",
         "x": [
          1846,
          1847
         ],
         "y": [
          82.35,
          82.36
         ]
        },
        {
         "line": {
          "color": "green"
         },
         "showlegend": false,
         "type": "scatter",
         "x": [
          1847,
          1848
         ],
         "y": [
          82.36,
          82.29
         ]
        },
        {
         "line": {
          "color": "gray"
         },
         "showlegend": false,
         "type": "scatter",
         "x": [
          1848,
          1849
         ],
         "y": [
          82.29,
          82
         ]
        },
        {
         "line": {
          "color": "gray"
         },
         "showlegend": false,
         "type": "scatter",
         "x": [
          1849,
          1850
         ],
         "y": [
          82,
          81.96
         ]
        },
        {
         "line": {
          "color": "red"
         },
         "showlegend": false,
         "type": "scatter",
         "x": [
          1850,
          1851
         ],
         "y": [
          81.96,
          82.1
         ]
        },
        {
         "line": {
          "color": "gray"
         },
         "showlegend": false,
         "type": "scatter",
         "x": [
          1851,
          1852
         ],
         "y": [
          82.1,
          81.86
         ]
        },
        {
         "line": {
          "color": "red"
         },
         "showlegend": false,
         "type": "scatter",
         "x": [
          1852,
          1853
         ],
         "y": [
          81.86,
          81.93
         ]
        },
        {
         "line": {
          "color": "red"
         },
         "showlegend": false,
         "type": "scatter",
         "x": [
          1853,
          1854
         ],
         "y": [
          81.93,
          81.79
         ]
        },
        {
         "line": {
          "color": "red"
         },
         "showlegend": false,
         "type": "scatter",
         "x": [
          1854,
          1855
         ],
         "y": [
          81.79,
          81.72
         ]
        },
        {
         "line": {
          "color": "red"
         },
         "showlegend": false,
         "type": "scatter",
         "x": [
          1855,
          1856
         ],
         "y": [
          81.72,
          81.67
         ]
        },
        {
         "line": {
          "color": "red"
         },
         "showlegend": false,
         "type": "scatter",
         "x": [
          1856,
          1857
         ],
         "y": [
          81.67,
          81.63
         ]
        },
        {
         "line": {
          "color": "red"
         },
         "showlegend": false,
         "type": "scatter",
         "x": [
          1857,
          1858
         ],
         "y": [
          81.63,
          81.72
         ]
        },
        {
         "line": {
          "color": "red"
         },
         "showlegend": false,
         "type": "scatter",
         "x": [
          1858,
          1859
         ],
         "y": [
          81.72,
          81.64
         ]
        },
        {
         "line": {
          "color": "red"
         },
         "showlegend": false,
         "type": "scatter",
         "x": [
          1859,
          1860
         ],
         "y": [
          81.64,
          81.56
         ]
        },
        {
         "line": {
          "color": "red"
         },
         "showlegend": false,
         "type": "scatter",
         "x": [
          1860,
          1861
         ],
         "y": [
          81.56,
          81.64
         ]
        },
        {
         "line": {
          "color": "red"
         },
         "showlegend": false,
         "type": "scatter",
         "x": [
          1861,
          1862
         ],
         "y": [
          81.64,
          81.56
         ]
        },
        {
         "line": {
          "color": "red"
         },
         "showlegend": false,
         "type": "scatter",
         "x": [
          1862,
          1863
         ],
         "y": [
          81.56,
          81.6
         ]
        },
        {
         "line": {
          "color": "red"
         },
         "showlegend": false,
         "type": "scatter",
         "x": [
          1863,
          1864
         ],
         "y": [
          81.6,
          81.5
         ]
        },
        {
         "line": {
          "color": "red"
         },
         "showlegend": false,
         "type": "scatter",
         "x": [
          1864,
          1865
         ],
         "y": [
          81.5,
          81.77
         ]
        },
        {
         "line": {
          "color": "gray"
         },
         "showlegend": false,
         "type": "scatter",
         "x": [
          1865,
          1866
         ],
         "y": [
          81.77,
          81.85
         ]
        },
        {
         "line": {
          "color": "green"
         },
         "showlegend": false,
         "type": "scatter",
         "x": [
          1866,
          1867
         ],
         "y": [
          81.85,
          82.04
         ]
        },
        {
         "line": {
          "color": "green"
         },
         "showlegend": false,
         "type": "scatter",
         "x": [
          1867,
          1868
         ],
         "y": [
          82.04,
          82.1
         ]
        },
        {
         "line": {
          "color": "green"
         },
         "showlegend": false,
         "type": "scatter",
         "x": [
          1868,
          1869
         ],
         "y": [
          82.1,
          82.09
         ]
        },
        {
         "line": {
          "color": "green"
         },
         "showlegend": false,
         "type": "scatter",
         "x": [
          1869,
          1870
         ],
         "y": [
          82.09,
          82.05
         ]
        },
        {
         "line": {
          "color": "green"
         },
         "showlegend": false,
         "type": "scatter",
         "x": [
          1870,
          1871
         ],
         "y": [
          82.05,
          82.02
         ]
        },
        {
         "line": {
          "color": "green"
         },
         "showlegend": false,
         "type": "scatter",
         "x": [
          1871,
          1872
         ],
         "y": [
          82.02,
          82.02
         ]
        },
        {
         "line": {
          "color": "green"
         },
         "showlegend": false,
         "type": "scatter",
         "x": [
          1872,
          1873
         ],
         "y": [
          82.02,
          82.02
         ]
        },
        {
         "line": {
          "color": "green"
         },
         "showlegend": false,
         "type": "scatter",
         "x": [
          1873,
          1874
         ],
         "y": [
          82.02,
          81.99
         ]
        },
        {
         "line": {
          "color": "green"
         },
         "showlegend": false,
         "type": "scatter",
         "x": [
          1874,
          1875
         ],
         "y": [
          81.99,
          81.97
         ]
        },
        {
         "line": {
          "color": "gray"
         },
         "showlegend": false,
         "type": "scatter",
         "x": [
          1875,
          1876
         ],
         "y": [
          81.97,
          81.96
         ]
        },
        {
         "line": {
          "color": "gray"
         },
         "showlegend": false,
         "type": "scatter",
         "x": [
          1876,
          1877
         ],
         "y": [
          81.96,
          81.85
         ]
        },
        {
         "line": {
          "color": "red"
         },
         "showlegend": false,
         "type": "scatter",
         "x": [
          1877,
          1878
         ],
         "y": [
          81.85,
          81.84
         ]
        },
        {
         "line": {
          "color": "red"
         },
         "showlegend": false,
         "type": "scatter",
         "x": [
          1878,
          1879
         ],
         "y": [
          81.84,
          81.95
         ]
        },
        {
         "line": {
          "color": "gray"
         },
         "showlegend": false,
         "type": "scatter",
         "x": [
          1879,
          1880
         ],
         "y": [
          81.95,
          81.96
         ]
        },
        {
         "line": {
          "color": "gray"
         },
         "showlegend": false,
         "type": "scatter",
         "x": [
          1880,
          1881
         ],
         "y": [
          81.96,
          81.99
         ]
        },
        {
         "line": {
          "color": "gray"
         },
         "showlegend": false,
         "type": "scatter",
         "x": [
          1881,
          1882
         ],
         "y": [
          81.99,
          82.01
         ]
        },
        {
         "line": {
          "color": "green"
         },
         "showlegend": false,
         "type": "scatter",
         "x": [
          1882,
          1883
         ],
         "y": [
          82.01,
          81.94
         ]
        },
        {
         "line": {
          "color": "gray"
         },
         "showlegend": false,
         "type": "scatter",
         "x": [
          1883,
          1884
         ],
         "y": [
          81.94,
          81.94
         ]
        },
        {
         "line": {
          "color": "gray"
         },
         "showlegend": false,
         "type": "scatter",
         "x": [
          1884,
          1885
         ],
         "y": [
          81.94,
          81.93
         ]
        },
        {
         "line": {
          "color": "red"
         },
         "showlegend": false,
         "type": "scatter",
         "x": [
          1885,
          1886
         ],
         "y": [
          81.93,
          81.94
         ]
        },
        {
         "line": {
          "color": "gray"
         },
         "showlegend": false,
         "type": "scatter",
         "x": [
          1886,
          1887
         ],
         "y": [
          81.94,
          81.93
         ]
        },
        {
         "line": {
          "color": "red"
         },
         "showlegend": false,
         "type": "scatter",
         "x": [
          1887,
          1888
         ],
         "y": [
          81.93,
          81.95
         ]
        },
        {
         "line": {
          "color": "gray"
         },
         "showlegend": false,
         "type": "scatter",
         "x": [
          1888,
          1889
         ],
         "y": [
          81.95,
          81.91
         ]
        },
        {
         "line": {
          "color": "red"
         },
         "showlegend": false,
         "type": "scatter",
         "x": [
          1889,
          1890
         ],
         "y": [
          81.91,
          81.88
         ]
        },
        {
         "line": {
          "color": "red"
         },
         "showlegend": false,
         "type": "scatter",
         "x": [
          1890,
          1891
         ],
         "y": [
          81.88,
          81.93
         ]
        },
        {
         "line": {
          "color": "gray"
         },
         "showlegend": false,
         "type": "scatter",
         "x": [
          1891,
          1892
         ],
         "y": [
          81.93,
          81.92
         ]
        },
        {
         "line": {
          "color": "gray"
         },
         "showlegend": false,
         "type": "scatter",
         "x": [
          1892,
          1893
         ],
         "y": [
          81.92,
          81.95
         ]
        },
        {
         "line": {
          "color": "gray"
         },
         "showlegend": false,
         "type": "scatter",
         "x": [
          1893,
          1894
         ],
         "y": [
          81.95,
          81.95
         ]
        },
        {
         "line": {
          "color": "gray"
         },
         "showlegend": false,
         "type": "scatter",
         "x": [
          1894,
          1895
         ],
         "y": [
          81.95,
          82.02
         ]
        },
        {
         "line": {
          "color": "green"
         },
         "showlegend": false,
         "type": "scatter",
         "x": [
          1895,
          1896
         ],
         "y": [
          82.02,
          82.06
         ]
        },
        {
         "line": {
          "color": "green"
         },
         "showlegend": false,
         "type": "scatter",
         "x": [
          1896,
          1897
         ],
         "y": [
          82.06,
          82.07
         ]
        },
        {
         "line": {
          "color": "green"
         },
         "showlegend": false,
         "type": "scatter",
         "x": [
          1897,
          1898
         ],
         "y": [
          82.07,
          82.15
         ]
        },
        {
         "line": {
          "color": "green"
         },
         "showlegend": false,
         "type": "scatter",
         "x": [
          1898,
          1899
         ],
         "y": [
          82.15,
          82.17
         ]
        },
        {
         "line": {
          "color": "green"
         },
         "showlegend": false,
         "type": "scatter",
         "x": [
          1899,
          1900
         ],
         "y": [
          82.17,
          82.18
         ]
        },
        {
         "line": {
          "color": "green"
         },
         "showlegend": false,
         "type": "scatter",
         "x": [
          1900,
          1901
         ],
         "y": [
          82.18,
          82.08
         ]
        },
        {
         "line": {
          "color": "gray"
         },
         "showlegend": false,
         "type": "scatter",
         "x": [
          1901,
          1902
         ],
         "y": [
          82.08,
          82.05
         ]
        },
        {
         "line": {
          "color": "gray"
         },
         "showlegend": false,
         "type": "scatter",
         "x": [
          1902,
          1903
         ],
         "y": [
          82.05,
          82
         ]
        },
        {
         "line": {
          "color": "gray"
         },
         "showlegend": false,
         "type": "scatter",
         "x": [
          1903,
          1904
         ],
         "y": [
          82,
          81.98
         ]
        },
        {
         "line": {
          "color": "red"
         },
         "showlegend": false,
         "type": "scatter",
         "x": [
          1904,
          1905
         ],
         "y": [
          81.98,
          81.96
         ]
        },
        {
         "line": {
          "color": "red"
         },
         "showlegend": false,
         "type": "scatter",
         "x": [
          1905,
          1906
         ],
         "y": [
          81.96,
          81.92
         ]
        },
        {
         "line": {
          "color": "red"
         },
         "showlegend": false,
         "type": "scatter",
         "x": [
          1906,
          1907
         ],
         "y": [
          81.92,
          81.94
         ]
        },
        {
         "line": {
          "color": "red"
         },
         "showlegend": false,
         "type": "scatter",
         "x": [
          1907,
          1908
         ],
         "y": [
          81.94,
          81.93
         ]
        },
        {
         "line": {
          "color": "red"
         },
         "showlegend": false,
         "type": "scatter",
         "x": [
          1908,
          1909
         ],
         "y": [
          81.93,
          81.92
         ]
        },
        {
         "line": {
          "color": "red"
         },
         "showlegend": false,
         "type": "scatter",
         "x": [
          1909,
          1910
         ],
         "y": [
          81.92,
          81.93
         ]
        },
        {
         "line": {
          "color": "red"
         },
         "showlegend": false,
         "type": "scatter",
         "x": [
          1910,
          1911
         ],
         "y": [
          81.93,
          81.92
         ]
        },
        {
         "line": {
          "color": "red"
         },
         "showlegend": false,
         "type": "scatter",
         "x": [
          1911,
          1912
         ],
         "y": [
          81.92,
          81.91
         ]
        },
        {
         "line": {
          "color": "red"
         },
         "showlegend": false,
         "type": "scatter",
         "x": [
          1912,
          1913
         ],
         "y": [
          81.91,
          81.9
         ]
        },
        {
         "line": {
          "color": "red"
         },
         "showlegend": false,
         "type": "scatter",
         "x": [
          1913,
          1914
         ],
         "y": [
          81.9,
          81.86
         ]
        },
        {
         "line": {
          "color": "red"
         },
         "showlegend": false,
         "type": "scatter",
         "x": [
          1914,
          1915
         ],
         "y": [
          81.86,
          81.86
         ]
        },
        {
         "line": {
          "color": "red"
         },
         "showlegend": false,
         "type": "scatter",
         "x": [
          1915,
          1916
         ],
         "y": [
          81.86,
          81.93
         ]
        },
        {
         "line": {
          "color": "gray"
         },
         "showlegend": false,
         "type": "scatter",
         "x": [
          1916,
          1917
         ],
         "y": [
          81.93,
          81.92
         ]
        },
        {
         "line": {
          "color": "red"
         },
         "showlegend": false,
         "type": "scatter",
         "x": [
          1917,
          1918
         ],
         "y": [
          81.92,
          81.88
         ]
        },
        {
         "line": {
          "color": "red"
         },
         "showlegend": false,
         "type": "scatter",
         "x": [
          1918,
          1919
         ],
         "y": [
          81.88,
          81.9
         ]
        },
        {
         "line": {
          "color": "red"
         },
         "showlegend": false,
         "type": "scatter",
         "x": [
          1919,
          1920
         ],
         "y": [
          81.9,
          81.91
         ]
        },
        {
         "line": {
          "color": "gray"
         },
         "showlegend": false,
         "type": "scatter",
         "x": [
          1920,
          1921
         ],
         "y": [
          81.91,
          81.92
         ]
        },
        {
         "line": {
          "color": "gray"
         },
         "showlegend": false,
         "type": "scatter",
         "x": [
          1921,
          1922
         ],
         "y": [
          81.92,
          81.92
         ]
        },
        {
         "line": {
          "color": "gray"
         },
         "showlegend": false,
         "type": "scatter",
         "x": [
          1922,
          1923
         ],
         "y": [
          81.92,
          81.89
         ]
        },
        {
         "line": {
          "color": "gray"
         },
         "showlegend": false,
         "type": "scatter",
         "x": [
          1923,
          1924
         ],
         "y": [
          81.89,
          81.88
         ]
        },
        {
         "line": {
          "color": "gray"
         },
         "showlegend": false,
         "type": "scatter",
         "x": [
          1924,
          1925
         ],
         "y": [
          81.88,
          81.9
         ]
        },
        {
         "line": {
          "color": "gray"
         },
         "showlegend": false,
         "type": "scatter",
         "x": [
          1925,
          1926
         ],
         "y": [
          81.9,
          81.89
         ]
        },
        {
         "line": {
          "color": "gray"
         },
         "showlegend": false,
         "type": "scatter",
         "x": [
          1926,
          1927
         ],
         "y": [
          81.89,
          81.88
         ]
        },
        {
         "line": {
          "color": "gray"
         },
         "showlegend": false,
         "type": "scatter",
         "x": [
          1927,
          1928
         ],
         "y": [
          81.88,
          81.92
         ]
        },
        {
         "line": {
          "color": "green"
         },
         "showlegend": false,
         "type": "scatter",
         "x": [
          1928,
          1929
         ],
         "y": [
          81.92,
          81.77
         ]
        },
        {
         "line": {
          "color": "green"
         },
         "showlegend": false,
         "type": "scatter",
         "x": [
          1929,
          1930
         ],
         "y": [
          81.77,
          81.75
         ]
        },
        {
         "line": {
          "color": "red"
         },
         "showlegend": false,
         "type": "scatter",
         "x": [
          1930,
          1931
         ],
         "y": [
          81.75,
          81.76
         ]
        },
        {
         "line": {
          "color": "red"
         },
         "showlegend": false,
         "type": "scatter",
         "x": [
          1931,
          1932
         ],
         "y": [
          81.76,
          81.75
         ]
        },
        {
         "line": {
          "color": "red"
         },
         "showlegend": false,
         "type": "scatter",
         "x": [
          1932,
          1933
         ],
         "y": [
          81.75,
          81.75
         ]
        },
        {
         "line": {
          "color": "gray"
         },
         "showlegend": false,
         "type": "scatter",
         "x": [
          1933,
          1934
         ],
         "y": [
          81.75,
          81.74
         ]
        },
        {
         "line": {
          "color": "red"
         },
         "showlegend": false,
         "type": "scatter",
         "x": [
          1934,
          1935
         ],
         "y": [
          81.74,
          81.75
         ]
        },
        {
         "line": {
          "color": "red"
         },
         "showlegend": false,
         "type": "scatter",
         "x": [
          1935,
          1936
         ],
         "y": [
          81.75,
          81.76
         ]
        },
        {
         "line": {
          "color": "gray"
         },
         "showlegend": false,
         "type": "scatter",
         "x": [
          1936,
          1937
         ],
         "y": [
          81.76,
          81.75
         ]
        },
        {
         "line": {
          "color": "gray"
         },
         "showlegend": false,
         "type": "scatter",
         "x": [
          1937,
          1938
         ],
         "y": [
          81.75,
          81.76
         ]
        },
        {
         "line": {
          "color": "gray"
         },
         "showlegend": false,
         "type": "scatter",
         "x": [
          1938,
          1939
         ],
         "y": [
          81.76,
          81.78
         ]
        },
        {
         "line": {
          "color": "gray"
         },
         "showlegend": false,
         "type": "scatter",
         "x": [
          1939,
          1940
         ],
         "y": [
          81.78,
          81.78
         ]
        },
        {
         "line": {
          "color": "gray"
         },
         "showlegend": false,
         "type": "scatter",
         "x": [
          1940,
          1941
         ],
         "y": [
          81.78,
          81.77
         ]
        },
        {
         "line": {
          "color": "gray"
         },
         "showlegend": false,
         "type": "scatter",
         "x": [
          1941,
          1942
         ],
         "y": [
          81.77,
          81.79
         ]
        },
        {
         "line": {
          "color": "gray"
         },
         "showlegend": false,
         "type": "scatter",
         "x": [
          1942,
          1943
         ],
         "y": [
          81.79,
          81.79
         ]
        },
        {
         "line": {
          "color": "gray"
         },
         "showlegend": false,
         "type": "scatter",
         "x": [
          1943,
          1944
         ],
         "y": [
          81.79,
          81.82
         ]
        },
        {
         "line": {
          "color": "green"
         },
         "showlegend": false,
         "type": "scatter",
         "x": [
          1944,
          1945
         ],
         "y": [
          81.82,
          81.8
         ]
        },
        {
         "line": {
          "color": "gray"
         },
         "showlegend": false,
         "type": "scatter",
         "x": [
          1945,
          1946
         ],
         "y": [
          81.8,
          81.8
         ]
        },
        {
         "line": {
          "color": "gray"
         },
         "showlegend": false,
         "type": "scatter",
         "x": [
          1946,
          1947
         ],
         "y": [
          81.8,
          81.79
         ]
        },
        {
         "line": {
          "color": "gray"
         },
         "showlegend": false,
         "type": "scatter",
         "x": [
          1947,
          1948
         ],
         "y": [
          81.79,
          81.8
         ]
        },
        {
         "line": {
          "color": "gray"
         },
         "showlegend": false,
         "type": "scatter",
         "x": [
          1948,
          1949
         ],
         "y": [
          81.8,
          81.78
         ]
        },
        {
         "line": {
          "color": "gray"
         },
         "showlegend": false,
         "type": "scatter",
         "x": [
          1949,
          1950
         ],
         "y": [
          81.78,
          81.77
         ]
        },
        {
         "line": {
          "color": "gray"
         },
         "showlegend": false,
         "type": "scatter",
         "x": [
          1950,
          1951
         ],
         "y": [
          81.77,
          81.76
         ]
        },
        {
         "line": {
          "color": "red"
         },
         "showlegend": false,
         "type": "scatter",
         "x": [
          1951,
          1952
         ],
         "y": [
          81.76,
          81.77
         ]
        },
        {
         "line": {
          "color": "gray"
         },
         "showlegend": false,
         "type": "scatter",
         "x": [
          1952,
          1953
         ],
         "y": [
          81.77,
          81.78
         ]
        },
        {
         "line": {
          "color": "gray"
         },
         "showlegend": false,
         "type": "scatter",
         "x": [
          1953,
          1954
         ],
         "y": [
          81.78,
          81.75
         ]
        },
        {
         "line": {
          "color": "gray"
         },
         "showlegend": false,
         "type": "scatter",
         "x": [
          1954,
          1955
         ],
         "y": [
          81.75,
          81.75
         ]
        },
        {
         "line": {
          "color": "gray"
         },
         "showlegend": false,
         "type": "scatter",
         "x": [
          1955,
          1956
         ],
         "y": [
          81.75,
          81.73
         ]
        },
        {
         "line": {
          "color": "red"
         },
         "showlegend": false,
         "type": "scatter",
         "x": [
          1956,
          1957
         ],
         "y": [
          81.73,
          81.73
         ]
        },
        {
         "line": {
          "color": "red"
         },
         "showlegend": false,
         "type": "scatter",
         "x": [
          1957,
          1958
         ],
         "y": [
          81.73,
          81.72
         ]
        },
        {
         "line": {
          "color": "gray"
         },
         "showlegend": false,
         "type": "scatter",
         "x": [
          1958,
          1959
         ],
         "y": [
          81.72,
          81.71
         ]
        },
        {
         "line": {
          "color": "red"
         },
         "showlegend": false,
         "type": "scatter",
         "x": [
          1959,
          1960
         ],
         "y": [
          81.71,
          81.71
         ]
        },
        {
         "line": {
          "color": "red"
         },
         "showlegend": false,
         "type": "scatter",
         "x": [
          1960,
          1961
         ],
         "y": [
          81.71,
          81.72
         ]
        },
        {
         "line": {
          "color": "gray"
         },
         "showlegend": false,
         "type": "scatter",
         "x": [
          1961,
          1962
         ],
         "y": [
          81.72,
          81.73
         ]
        },
        {
         "line": {
          "color": "gray"
         },
         "showlegend": false,
         "type": "scatter",
         "x": [
          1962,
          1963
         ],
         "y": [
          81.73,
          81.75
         ]
        },
        {
         "line": {
          "color": "green"
         },
         "showlegend": false,
         "type": "scatter",
         "x": [
          1963,
          1964
         ],
         "y": [
          81.75,
          81.74
         ]
        },
        {
         "line": {
          "color": "green"
         },
         "showlegend": false,
         "type": "scatter",
         "x": [
          1964,
          1965
         ],
         "y": [
          81.74,
          81.76
         ]
        },
        {
         "line": {
          "color": "green"
         },
         "showlegend": false,
         "type": "scatter",
         "x": [
          1965,
          1966
         ],
         "y": [
          81.76,
          81.79
         ]
        },
        {
         "line": {
          "color": "green"
         },
         "showlegend": false,
         "type": "scatter",
         "x": [
          1966,
          1967
         ],
         "y": [
          81.79,
          81.82
         ]
        },
        {
         "line": {
          "color": "green"
         },
         "showlegend": false,
         "type": "scatter",
         "x": [
          1967,
          1968
         ],
         "y": [
          81.82,
          81.85
         ]
        },
        {
         "line": {
          "color": "green"
         },
         "showlegend": false,
         "type": "scatter",
         "x": [
          1968,
          1969
         ],
         "y": [
          81.85,
          81.86
         ]
        },
        {
         "line": {
          "color": "green"
         },
         "showlegend": false,
         "type": "scatter",
         "x": [
          1969,
          1970
         ],
         "y": [
          81.86,
          81.86
         ]
        },
        {
         "line": {
          "color": "green"
         },
         "showlegend": false,
         "type": "scatter",
         "x": [
          1970,
          1971
         ],
         "y": [
          81.86,
          81.83
         ]
        },
        {
         "line": {
          "color": "green"
         },
         "showlegend": false,
         "type": "scatter",
         "x": [
          1971,
          1972
         ],
         "y": [
          81.83,
          81.84
         ]
        },
        {
         "line": {
          "color": "green"
         },
         "showlegend": false,
         "type": "scatter",
         "x": [
          1972,
          1973
         ],
         "y": [
          81.84,
          81.82
         ]
        },
        {
         "line": {
          "color": "gray"
         },
         "showlegend": false,
         "type": "scatter",
         "x": [
          1973,
          1974
         ],
         "y": [
          81.82,
          81.8
         ]
        },
        {
         "line": {
          "color": "gray"
         },
         "showlegend": false,
         "type": "scatter",
         "x": [
          1974,
          1975
         ],
         "y": [
          81.8,
          81.8
         ]
        },
        {
         "line": {
          "color": "gray"
         },
         "showlegend": false,
         "type": "scatter",
         "x": [
          1975,
          1976
         ],
         "y": [
          81.8,
          81.8
         ]
        },
        {
         "line": {
          "color": "red"
         },
         "showlegend": false,
         "type": "scatter",
         "x": [
          1976,
          1977
         ],
         "y": [
          81.8,
          81.78
         ]
        },
        {
         "line": {
          "color": "red"
         },
         "showlegend": false,
         "type": "scatter",
         "x": [
          1977,
          1978
         ],
         "y": [
          81.78,
          81.79
         ]
        },
        {
         "line": {
          "color": "red"
         },
         "showlegend": false,
         "type": "scatter",
         "x": [
          1978,
          1979
         ],
         "y": [
          81.79,
          81.84
         ]
        },
        {
         "line": {
          "color": "gray"
         },
         "showlegend": false,
         "type": "scatter",
         "x": [
          1979,
          1980
         ],
         "y": [
          81.84,
          81.85
         ]
        },
        {
         "line": {
          "color": "green"
         },
         "showlegend": false,
         "type": "scatter",
         "x": [
          1980,
          1981
         ],
         "y": [
          81.85,
          81.85
         ]
        },
        {
         "line": {
          "color": "green"
         },
         "showlegend": false,
         "type": "scatter",
         "x": [
          1981,
          1982
         ],
         "y": [
          81.85,
          81.88
         ]
        },
        {
         "line": {
          "color": "green"
         },
         "showlegend": false,
         "type": "scatter",
         "x": [
          1982,
          1983
         ],
         "y": [
          81.88,
          81.92
         ]
        },
        {
         "line": {
          "color": "green"
         },
         "showlegend": false,
         "type": "scatter",
         "x": [
          1983,
          1984
         ],
         "y": [
          81.92,
          81.92
         ]
        },
        {
         "line": {
          "color": "green"
         },
         "showlegend": false,
         "type": "scatter",
         "x": [
          1984,
          1985
         ],
         "y": [
          81.92,
          81.89
         ]
        },
        {
         "line": {
          "color": "gray"
         },
         "showlegend": false,
         "type": "scatter",
         "x": [
          1985,
          1986
         ],
         "y": [
          81.89,
          81.92
         ]
        },
        {
         "line": {
          "color": "green"
         },
         "showlegend": false,
         "type": "scatter",
         "x": [
          1986,
          1987
         ],
         "y": [
          81.92,
          81.91
         ]
        },
        {
         "line": {
          "color": "green"
         },
         "showlegend": false,
         "type": "scatter",
         "x": [
          1987,
          1988
         ],
         "y": [
          81.91,
          81.89
         ]
        },
        {
         "line": {
          "color": "gray"
         },
         "showlegend": false,
         "type": "scatter",
         "x": [
          1988,
          1989
         ],
         "y": [
          81.89,
          81.87
         ]
        },
        {
         "line": {
          "color": "gray"
         },
         "showlegend": false,
         "type": "scatter",
         "x": [
          1989,
          1990
         ],
         "y": [
          81.87,
          81.88
         ]
        },
        {
         "line": {
          "color": "gray"
         },
         "showlegend": false,
         "type": "scatter",
         "x": [
          1990,
          1991
         ],
         "y": [
          81.88,
          81.9
         ]
        },
        {
         "line": {
          "color": "gray"
         },
         "showlegend": false,
         "type": "scatter",
         "x": [
          1991,
          1992
         ],
         "y": [
          81.9,
          81.89
         ]
        },
        {
         "line": {
          "color": "gray"
         },
         "showlegend": false,
         "type": "scatter",
         "x": [
          1992,
          1993
         ],
         "y": [
          81.89,
          81.9
         ]
        },
        {
         "line": {
          "color": "gray"
         },
         "showlegend": false,
         "type": "scatter",
         "x": [
          1993,
          1994
         ],
         "y": [
          81.9,
          81.9
         ]
        },
        {
         "line": {
          "color": "gray"
         },
         "showlegend": false,
         "type": "scatter",
         "x": [
          1994,
          1995
         ],
         "y": [
          81.9,
          81.89
         ]
        },
        {
         "line": {
          "color": "gray"
         },
         "showlegend": false,
         "type": "scatter",
         "x": [
          1995,
          1996
         ],
         "y": [
          81.89,
          81.87
         ]
        },
        {
         "line": {
          "color": "gray"
         },
         "showlegend": false,
         "type": "scatter",
         "x": [
          1996,
          1997
         ],
         "y": [
          81.87,
          81.9
         ]
        },
        {
         "line": {
          "color": "gray"
         },
         "showlegend": false,
         "type": "scatter",
         "x": [
          1997,
          1998
         ],
         "y": [
          81.9,
          81.86
         ]
        },
        {
         "line": {
          "color": "red"
         },
         "showlegend": false,
         "type": "scatter",
         "x": [
          1998,
          1999
         ],
         "y": [
          81.86,
          81.9
         ]
        },
        {
         "line": {
          "color": "gray"
         },
         "showlegend": false,
         "type": "scatter",
         "x": [
          1999,
          2000
         ],
         "y": [
          81.9,
          81.92
         ]
        },
        {
         "line": {
          "color": "green"
         },
         "showlegend": false,
         "type": "scatter",
         "x": [
          2000,
          2001
         ],
         "y": [
          81.92,
          81.93
         ]
        },
        {
         "line": {
          "color": "green"
         },
         "showlegend": false,
         "type": "scatter",
         "x": [
          2001,
          2002
         ],
         "y": [
          81.93,
          81.87
         ]
        },
        {
         "line": {
          "color": "gray"
         },
         "showlegend": false,
         "type": "scatter",
         "x": [
          2002,
          2003
         ],
         "y": [
          81.87,
          81.88
         ]
        },
        {
         "line": {
          "color": "red"
         },
         "showlegend": false,
         "type": "scatter",
         "x": [
          2003,
          2004
         ],
         "y": [
          81.88,
          81.84
         ]
        },
        {
         "line": {
          "color": "red"
         },
         "showlegend": false,
         "type": "scatter",
         "x": [
          2004,
          2005
         ],
         "y": [
          81.84,
          81.85
         ]
        },
        {
         "line": {
          "color": "gray"
         },
         "showlegend": false,
         "type": "scatter",
         "x": [
          2005,
          2006
         ],
         "y": [
          81.85,
          81.86
         ]
        },
        {
         "line": {
          "color": "gray"
         },
         "showlegend": false,
         "type": "scatter",
         "x": [
          2006,
          2007
         ],
         "y": [
          81.86,
          81.86
         ]
        },
        {
         "line": {
          "color": "gray"
         },
         "showlegend": false,
         "type": "scatter",
         "x": [
          2007,
          2008
         ],
         "y": [
          81.86,
          81.85
         ]
        },
        {
         "line": {
          "color": "red"
         },
         "showlegend": false,
         "type": "scatter",
         "x": [
          2008,
          2009
         ],
         "y": [
          81.85,
          81.88
         ]
        },
        {
         "line": {
          "color": "gray"
         },
         "showlegend": false,
         "type": "scatter",
         "x": [
          2009,
          2010
         ],
         "y": [
          81.88,
          81.88
         ]
        },
        {
         "line": {
          "color": "gray"
         },
         "showlegend": false,
         "type": "scatter",
         "x": [
          2010,
          2011
         ],
         "y": [
          81.88,
          81.87
         ]
        },
        {
         "line": {
          "color": "gray"
         },
         "showlegend": false,
         "type": "scatter",
         "x": [
          2011,
          2012
         ],
         "y": [
          81.87,
          81.72
         ]
        },
        {
         "line": {
          "color": "red"
         },
         "showlegend": false,
         "type": "scatter",
         "x": [
          2012,
          2013
         ],
         "y": [
          81.72,
          81.52
         ]
        },
        {
         "line": {
          "color": "red"
         },
         "showlegend": false,
         "type": "scatter",
         "x": [
          2013,
          2014
         ],
         "y": [
          81.52,
          81.45
         ]
        },
        {
         "line": {
          "color": "red"
         },
         "showlegend": false,
         "type": "scatter",
         "x": [
          2014,
          2015
         ],
         "y": [
          81.45,
          81.48
         ]
        },
        {
         "line": {
          "color": "red"
         },
         "showlegend": false,
         "type": "scatter",
         "x": [
          2015,
          2016
         ],
         "y": [
          81.48,
          81.46
         ]
        },
        {
         "line": {
          "color": "red"
         },
         "showlegend": false,
         "type": "scatter",
         "x": [
          2016,
          2017
         ],
         "y": [
          81.46,
          81.34
         ]
        },
        {
         "line": {
          "color": "red"
         },
         "showlegend": false,
         "type": "scatter",
         "x": [
          2017,
          2018
         ],
         "y": [
          81.34,
          81.59
         ]
        },
        {
         "line": {
          "color": "green"
         },
         "showlegend": false,
         "type": "scatter",
         "x": [
          2018,
          2019
         ],
         "y": [
          81.59,
          81.63
         ]
        },
        {
         "line": {
          "color": "green"
         },
         "showlegend": false,
         "type": "scatter",
         "x": [
          2019,
          2020
         ],
         "y": [
          81.63,
          81.68
         ]
        },
        {
         "line": {
          "color": "green"
         },
         "showlegend": false,
         "type": "scatter",
         "x": [
          2020,
          2021
         ],
         "y": [
          81.68,
          81.65
         ]
        },
        {
         "line": {
          "color": "green"
         },
         "showlegend": false,
         "type": "scatter",
         "x": [
          2021,
          2022
         ],
         "y": [
          81.65,
          81.6
         ]
        },
        {
         "line": {
          "color": "green"
         },
         "showlegend": false,
         "type": "scatter",
         "x": [
          2022,
          2023
         ],
         "y": [
          81.6,
          81.67
         ]
        },
        {
         "line": {
          "color": "green"
         },
         "showlegend": false,
         "type": "scatter",
         "x": [
          2023,
          2024
         ],
         "y": [
          81.67,
          81.74
         ]
        },
        {
         "line": {
          "color": "green"
         },
         "showlegend": false,
         "type": "scatter",
         "x": [
          2024,
          2025
         ],
         "y": [
          81.74,
          81.78
         ]
        },
        {
         "line": {
          "color": "green"
         },
         "showlegend": false,
         "type": "scatter",
         "x": [
          2025,
          2026
         ],
         "y": [
          81.78,
          81.75
         ]
        },
        {
         "line": {
          "color": "green"
         },
         "showlegend": false,
         "type": "scatter",
         "x": [
          2026,
          2027
         ],
         "y": [
          81.75,
          81.63
         ]
        },
        {
         "line": {
          "color": "gray"
         },
         "showlegend": false,
         "type": "scatter",
         "x": [
          2027,
          2028
         ],
         "y": [
          81.63,
          81.62
         ]
        },
        {
         "line": {
          "color": "gray"
         },
         "showlegend": false,
         "type": "scatter",
         "x": [
          2028,
          2029
         ],
         "y": [
          81.62,
          81.67
         ]
        },
        {
         "line": {
          "color": "gray"
         },
         "showlegend": false,
         "type": "scatter",
         "x": [
          2029,
          2030
         ],
         "y": [
          81.67,
          81.69
         ]
        },
        {
         "line": {
          "color": "gray"
         },
         "showlegend": false,
         "type": "scatter",
         "x": [
          2030,
          2031
         ],
         "y": [
          81.69,
          81.69
         ]
        },
        {
         "line": {
          "color": "gray"
         },
         "showlegend": false,
         "type": "scatter",
         "x": [
          2031,
          2032
         ],
         "y": [
          81.69,
          81.8
         ]
        },
        {
         "line": {
          "color": "green"
         },
         "showlegend": false,
         "type": "scatter",
         "x": [
          2032,
          2033
         ],
         "y": [
          81.8,
          81.82
         ]
        },
        {
         "line": {
          "color": "green"
         },
         "showlegend": false,
         "type": "scatter",
         "x": [
          2033,
          2034
         ],
         "y": [
          81.82,
          81.75
         ]
        },
        {
         "line": {
          "color": "gray"
         },
         "showlegend": false,
         "type": "scatter",
         "x": [
          2034,
          2035
         ],
         "y": [
          81.75,
          81.73
         ]
        },
        {
         "line": {
          "color": "gray"
         },
         "showlegend": false,
         "type": "scatter",
         "x": [
          2035,
          2036
         ],
         "y": [
          81.73,
          81.7
         ]
        },
        {
         "line": {
          "color": "gray"
         },
         "showlegend": false,
         "type": "scatter",
         "x": [
          2036,
          2037
         ],
         "y": [
          81.7,
          81.67
         ]
        },
        {
         "line": {
          "color": "red"
         },
         "showlegend": false,
         "type": "scatter",
         "x": [
          2037,
          2038
         ],
         "y": [
          81.67,
          81.62
         ]
        },
        {
         "line": {
          "color": "red"
         },
         "showlegend": false,
         "type": "scatter",
         "x": [
          2038,
          2039
         ],
         "y": [
          81.62,
          81.53
         ]
        },
        {
         "line": {
          "color": "red"
         },
         "showlegend": false,
         "type": "scatter",
         "x": [
          2039,
          2040
         ],
         "y": [
          81.53,
          81.36
         ]
        },
        {
         "line": {
          "color": "red"
         },
         "showlegend": false,
         "type": "scatter",
         "x": [
          2040,
          2041
         ],
         "y": [
          81.36,
          81.3
         ]
        },
        {
         "line": {
          "color": "red"
         },
         "showlegend": false,
         "type": "scatter",
         "x": [
          2041,
          2042
         ],
         "y": [
          81.3,
          81.44
         ]
        },
        {
         "line": {
          "color": "red"
         },
         "showlegend": false,
         "type": "scatter",
         "x": [
          2042,
          2043
         ],
         "y": [
          81.44,
          81.33
         ]
        },
        {
         "line": {
          "color": "red"
         },
         "showlegend": false,
         "type": "scatter",
         "x": [
          2043,
          2044
         ],
         "y": [
          81.33,
          81.34
         ]
        },
        {
         "line": {
          "color": "red"
         },
         "showlegend": false,
         "type": "scatter",
         "x": [
          2044,
          2045
         ],
         "y": [
          81.34,
          81.39
         ]
        },
        {
         "line": {
          "color": "red"
         },
         "showlegend": false,
         "type": "scatter",
         "x": [
          2045,
          2046
         ],
         "y": [
          81.39,
          81.32
         ]
        },
        {
         "line": {
          "color": "red"
         },
         "showlegend": false,
         "type": "scatter",
         "x": [
          2046,
          2047
         ],
         "y": [
          81.32,
          81.28
         ]
        },
        {
         "line": {
          "color": "red"
         },
         "showlegend": false,
         "type": "scatter",
         "x": [
          2047,
          2048
         ],
         "y": [
          81.28,
          81.44
         ]
        },
        {
         "line": {
          "color": "gray"
         },
         "showlegend": false,
         "type": "scatter",
         "x": [
          2048,
          2049
         ],
         "y": [
          81.44,
          81.45
         ]
        },
        {
         "line": {
          "color": "gray"
         },
         "showlegend": false,
         "type": "scatter",
         "x": [
          2049,
          2050
         ],
         "y": [
          81.45,
          81.49
         ]
        },
        {
         "line": {
          "color": "green"
         },
         "showlegend": false,
         "type": "scatter",
         "x": [
          2050,
          2051
         ],
         "y": [
          81.49,
          81.4
         ]
        },
        {
         "line": {
          "color": "gray"
         },
         "showlegend": false,
         "type": "scatter",
         "x": [
          2051,
          2052
         ],
         "y": [
          81.4,
          81.34
         ]
        },
        {
         "line": {
          "color": "red"
         },
         "showlegend": false,
         "type": "scatter",
         "x": [
          2052,
          2053
         ],
         "y": [
          81.34,
          81.35
         ]
        },
        {
         "line": {
          "color": "gray"
         },
         "showlegend": false,
         "type": "scatter",
         "x": [
          2053,
          2054
         ],
         "y": [
          81.35,
          81.32
         ]
        },
        {
         "line": {
          "color": "red"
         },
         "showlegend": false,
         "type": "scatter",
         "x": [
          2054,
          2055
         ],
         "y": [
          81.32,
          81.38
         ]
        },
        {
         "line": {
          "color": "gray"
         },
         "showlegend": false,
         "type": "scatter",
         "x": [
          2055,
          2056
         ],
         "y": [
          81.38,
          81.26
         ]
        },
        {
         "line": {
          "color": "red"
         },
         "showlegend": false,
         "type": "scatter",
         "x": [
          2056,
          2057
         ],
         "y": [
          81.26,
          81.21
         ]
        },
        {
         "line": {
          "color": "red"
         },
         "showlegend": false,
         "type": "scatter",
         "x": [
          2057,
          2058
         ],
         "y": [
          81.21,
          81.15
         ]
        },
        {
         "line": {
          "color": "red"
         },
         "showlegend": false,
         "type": "scatter",
         "x": [
          2058,
          2059
         ],
         "y": [
          81.15,
          81.15
         ]
        },
        {
         "line": {
          "color": "red"
         },
         "showlegend": false,
         "type": "scatter",
         "x": [
          2059,
          2060
         ],
         "y": [
          81.15,
          81.19
         ]
        },
        {
         "line": {
          "color": "gray"
         },
         "showlegend": false,
         "type": "scatter",
         "x": [
          2060,
          2061
         ],
         "y": [
          81.19,
          81.19
         ]
        },
        {
         "line": {
          "color": "gray"
         },
         "showlegend": false,
         "type": "scatter",
         "x": [
          2061,
          2062
         ],
         "y": [
          81.19,
          81.18
         ]
        },
        {
         "line": {
          "color": "gray"
         },
         "showlegend": false,
         "type": "scatter",
         "x": [
          2062,
          2063
         ],
         "y": [
          81.18,
          81.27
         ]
        },
        {
         "line": {
          "color": "green"
         },
         "showlegend": false,
         "type": "scatter",
         "x": [
          2063,
          2064
         ],
         "y": [
          81.27,
          81.28
         ]
        },
        {
         "line": {
          "color": "green"
         },
         "showlegend": false,
         "type": "scatter",
         "x": [
          2064,
          2065
         ],
         "y": [
          81.28,
          81.26
         ]
        },
        {
         "line": {
          "color": "gray"
         },
         "showlegend": false,
         "type": "scatter",
         "x": [
          2065,
          2066
         ],
         "y": [
          81.26,
          81.21
         ]
        },
        {
         "line": {
          "color": "gray"
         },
         "showlegend": false,
         "type": "scatter",
         "x": [
          2066,
          2067
         ],
         "y": [
          81.21,
          81.22
         ]
        },
        {
         "line": {
          "color": "gray"
         },
         "showlegend": false,
         "type": "scatter",
         "x": [
          2067,
          2068
         ],
         "y": [
          81.22,
          81.23
         ]
        },
        {
         "line": {
          "color": "gray"
         },
         "showlegend": false,
         "type": "scatter",
         "x": [
          2068,
          2069
         ],
         "y": [
          81.23,
          81.15
         ]
        },
        {
         "line": {
          "color": "red"
         },
         "showlegend": false,
         "type": "scatter",
         "x": [
          2069,
          2070
         ],
         "y": [
          81.15,
          81.11
         ]
        },
        {
         "line": {
          "color": "red"
         },
         "showlegend": false,
         "type": "scatter",
         "x": [
          2070,
          2071
         ],
         "y": [
          81.11,
          81.35
         ]
        },
        {
         "line": {
          "color": "green"
         },
         "showlegend": false,
         "type": "scatter",
         "x": [
          2071,
          2072
         ],
         "y": [
          81.35,
          81.34
         ]
        },
        {
         "line": {
          "color": "green"
         },
         "showlegend": false,
         "type": "scatter",
         "x": [
          2072,
          2073
         ],
         "y": [
          81.34,
          81.41
         ]
        },
        {
         "line": {
          "color": "green"
         },
         "showlegend": false,
         "type": "scatter",
         "x": [
          2073,
          2074
         ],
         "y": [
          81.41,
          81.4
         ]
        },
        {
         "line": {
          "color": "green"
         },
         "showlegend": false,
         "type": "scatter",
         "x": [
          2074,
          2075
         ],
         "y": [
          81.4,
          81.42
         ]
        },
        {
         "line": {
          "color": "green"
         },
         "showlegend": false,
         "type": "scatter",
         "x": [
          2075,
          2076
         ],
         "y": [
          81.42,
          81.37
         ]
        },
        {
         "line": {
          "color": "green"
         },
         "showlegend": false,
         "type": "scatter",
         "x": [
          2076,
          2077
         ],
         "y": [
          81.37,
          81.3
         ]
        },
        {
         "line": {
          "color": "gray"
         },
         "showlegend": false,
         "type": "scatter",
         "x": [
          2077,
          2078
         ],
         "y": [
          81.3,
          81.26
         ]
        },
        {
         "line": {
          "color": "gray"
         },
         "showlegend": false,
         "type": "scatter",
         "x": [
          2078,
          2079
         ],
         "y": [
          81.26,
          81.23
         ]
        },
        {
         "line": {
          "color": "gray"
         },
         "showlegend": false,
         "type": "scatter",
         "x": [
          2079,
          2080
         ],
         "y": [
          81.23,
          81.29
         ]
        },
        {
         "line": {
          "color": "gray"
         },
         "showlegend": false,
         "type": "scatter",
         "x": [
          2080,
          2081
         ],
         "y": [
          81.29,
          81.28
         ]
        },
        {
         "line": {
          "color": "gray"
         },
         "showlegend": false,
         "type": "scatter",
         "x": [
          2081,
          2082
         ],
         "y": [
          81.28,
          81.33
         ]
        },
        {
         "line": {
          "color": "gray"
         },
         "showlegend": false,
         "type": "scatter",
         "x": [
          2082,
          2083
         ],
         "y": [
          81.33,
          81.03
         ]
        },
        {
         "line": {
          "color": "red"
         },
         "showlegend": false,
         "type": "scatter",
         "x": [
          2083,
          2084
         ],
         "y": [
          81.03,
          81.31
         ]
        },
        {
         "line": {
          "color": "gray"
         },
         "showlegend": false,
         "type": "scatter",
         "x": [
          2084,
          2085
         ],
         "y": [
          81.31,
          81.41
         ]
        },
        {
         "line": {
          "color": "green"
         },
         "showlegend": false,
         "type": "scatter",
         "x": [
          2085,
          2086
         ],
         "y": [
          81.41,
          81.39
         ]
        },
        {
         "line": {
          "color": "green"
         },
         "showlegend": false,
         "type": "scatter",
         "x": [
          2086,
          2087
         ],
         "y": [
          81.39,
          81.61
         ]
        },
        {
         "line": {
          "color": "green"
         },
         "showlegend": false,
         "type": "scatter",
         "x": [
          2087,
          2088
         ],
         "y": [
          81.61,
          81.64
         ]
        },
        {
         "line": {
          "color": "green"
         },
         "showlegend": false,
         "type": "scatter",
         "x": [
          2088,
          2089
         ],
         "y": [
          81.64,
          81.64
         ]
        },
        {
         "line": {
          "color": "green"
         },
         "showlegend": false,
         "type": "scatter",
         "x": [
          2089,
          2090
         ],
         "y": [
          81.64,
          81.61
         ]
        },
        {
         "line": {
          "color": "green"
         },
         "showlegend": false,
         "type": "scatter",
         "x": [
          2090,
          2091
         ],
         "y": [
          81.61,
          81.81
         ]
        },
        {
         "line": {
          "color": "green"
         },
         "showlegend": false,
         "type": "scatter",
         "x": [
          2091,
          2092
         ],
         "y": [
          81.81,
          82.01
         ]
        },
        {
         "line": {
          "color": "green"
         },
         "showlegend": false,
         "type": "scatter",
         "x": [
          2092,
          2093
         ],
         "y": [
          82.01,
          82
         ]
        },
        {
         "line": {
          "color": "green"
         },
         "showlegend": false,
         "type": "scatter",
         "x": [
          2093,
          2094
         ],
         "y": [
          82,
          81.86
         ]
        },
        {
         "line": {
          "color": "green"
         },
         "showlegend": false,
         "type": "scatter",
         "x": [
          2094,
          2095
         ],
         "y": [
          81.86,
          81.88
         ]
        },
        {
         "line": {
          "color": "green"
         },
         "showlegend": false,
         "type": "scatter",
         "x": [
          2095,
          2096
         ],
         "y": [
          81.88,
          81.89
         ]
        },
        {
         "line": {
          "color": "green"
         },
         "showlegend": false,
         "type": "scatter",
         "x": [
          2096,
          2097
         ],
         "y": [
          81.89,
          82.14
         ]
        },
        {
         "line": {
          "color": "green"
         },
         "showlegend": false,
         "type": "scatter",
         "x": [
          2097,
          2098
         ],
         "y": [
          82.14,
          81.99
         ]
        },
        {
         "line": {
          "color": "green"
         },
         "showlegend": false,
         "type": "scatter",
         "x": [
          2098,
          2099
         ],
         "y": [
          81.99,
          81.97
         ]
        },
        {
         "line": {
          "color": "green"
         },
         "showlegend": false,
         "type": "scatter",
         "x": [
          2099,
          2100
         ],
         "y": [
          81.97,
          82.06
         ]
        },
        {
         "line": {
          "color": "green"
         },
         "showlegend": false,
         "type": "scatter",
         "x": [
          2100,
          2101
         ],
         "y": [
          82.06,
          81.99
         ]
        },
        {
         "line": {
          "color": "gray"
         },
         "showlegend": false,
         "type": "scatter",
         "x": [
          2101,
          2102
         ],
         "y": [
          81.99,
          82.07
         ]
        },
        {
         "line": {
          "color": "green"
         },
         "showlegend": false,
         "type": "scatter",
         "x": [
          2102,
          2103
         ],
         "y": [
          82.07,
          82.03
         ]
        },
        {
         "line": {
          "color": "green"
         },
         "showlegend": false,
         "type": "scatter",
         "x": [
          2103,
          2104
         ],
         "y": [
          82.03,
          82
         ]
        },
        {
         "line": {
          "color": "gray"
         },
         "showlegend": false,
         "type": "scatter",
         "x": [
          2104,
          2105
         ],
         "y": [
          82,
          81.95
         ]
        },
        {
         "line": {
          "color": "gray"
         },
         "showlegend": false,
         "type": "scatter",
         "x": [
          2105,
          2106
         ],
         "y": [
          81.95,
          81.89
         ]
        },
        {
         "line": {
          "color": "gray"
         },
         "showlegend": false,
         "type": "scatter",
         "x": [
          2106,
          2107
         ],
         "y": [
          81.89,
          81.66
         ]
        },
        {
         "line": {
          "color": "red"
         },
         "showlegend": false,
         "type": "scatter",
         "x": [
          2107,
          2108
         ],
         "y": [
          81.66,
          81.69
         ]
        },
        {
         "line": {
          "color": "red"
         },
         "showlegend": false,
         "type": "scatter",
         "x": [
          2108,
          2109
         ],
         "y": [
          81.69,
          81.79
         ]
        },
        {
         "line": {
          "color": "gray"
         },
         "showlegend": false,
         "type": "scatter",
         "x": [
          2109,
          2110
         ],
         "y": [
          81.79,
          81.82
         ]
        },
        {
         "line": {
          "color": "gray"
         },
         "showlegend": false,
         "type": "scatter",
         "x": [
          2110,
          2111
         ],
         "y": [
          81.82,
          81.9
         ]
        },
        {
         "line": {
          "color": "gray"
         },
         "showlegend": false,
         "type": "scatter",
         "x": [
          2111,
          2112
         ],
         "y": [
          81.9,
          81.91
         ]
        },
        {
         "line": {
          "color": "green"
         },
         "showlegend": false,
         "type": "scatter",
         "x": [
          2112,
          2113
         ],
         "y": [
          81.91,
          81.89
         ]
        },
        {
         "line": {
          "color": "gray"
         },
         "showlegend": false,
         "type": "scatter",
         "x": [
          2113,
          2114
         ],
         "y": [
          81.89,
          81.77
         ]
        },
        {
         "line": {
          "color": "gray"
         },
         "showlegend": false,
         "type": "scatter",
         "x": [
          2114,
          2115
         ],
         "y": [
          81.77,
          81.64
         ]
        },
        {
         "line": {
          "color": "red"
         },
         "showlegend": false,
         "type": "scatter",
         "x": [
          2115,
          2116
         ],
         "y": [
          81.64,
          81.59
         ]
        },
        {
         "line": {
          "color": "red"
         },
         "showlegend": false,
         "type": "scatter",
         "x": [
          2116,
          2117
         ],
         "y": [
          81.59,
          81.58
         ]
        },
        {
         "line": {
          "color": "red"
         },
         "showlegend": false,
         "type": "scatter",
         "x": [
          2117,
          2118
         ],
         "y": [
          81.58,
          81.75
         ]
        },
        {
         "line": {
          "color": "gray"
         },
         "showlegend": false,
         "type": "scatter",
         "x": [
          2118,
          2119
         ],
         "y": [
          81.75,
          81.75
         ]
        },
        {
         "line": {
          "color": "gray"
         },
         "showlegend": false,
         "type": "scatter",
         "x": [
          2119,
          2120
         ],
         "y": [
          81.75,
          81.9
         ]
        },
        {
         "line": {
          "color": "green"
         },
         "showlegend": false,
         "type": "scatter",
         "x": [
          2120,
          2121
         ],
         "y": [
          81.9,
          81.84
         ]
        },
        {
         "line": {
          "color": "green"
         },
         "showlegend": false,
         "type": "scatter",
         "x": [
          2121,
          2122
         ],
         "y": [
          81.84,
          81.76
         ]
        },
        {
         "line": {
          "color": "gray"
         },
         "showlegend": false,
         "type": "scatter",
         "x": [
          2122,
          2123
         ],
         "y": [
          81.76,
          81.71
         ]
        },
        {
         "line": {
          "color": "gray"
         },
         "showlegend": false,
         "type": "scatter",
         "x": [
          2123,
          2124
         ],
         "y": [
          81.71,
          81.75
         ]
        },
        {
         "line": {
          "color": "gray"
         },
         "showlegend": false,
         "type": "scatter",
         "x": [
          2124,
          2125
         ],
         "y": [
          81.75,
          81.79
         ]
        },
        {
         "line": {
          "color": "gray"
         },
         "showlegend": false,
         "type": "scatter",
         "x": [
          2125,
          2126
         ],
         "y": [
          81.79,
          81.81
         ]
        },
        {
         "line": {
          "color": "green"
         },
         "showlegend": false,
         "type": "scatter",
         "x": [
          2126,
          2127
         ],
         "y": [
          81.81,
          81.83
         ]
        },
        {
         "line": {
          "color": "green"
         },
         "showlegend": false,
         "type": "scatter",
         "x": [
          2127,
          2128
         ],
         "y": [
          81.83,
          81.86
         ]
        },
        {
         "line": {
          "color": "green"
         },
         "showlegend": false,
         "type": "scatter",
         "x": [
          2128,
          2129
         ],
         "y": [
          81.86,
          81.86
         ]
        },
        {
         "line": {
          "color": "green"
         },
         "showlegend": false,
         "type": "scatter",
         "x": [
          2129,
          2130
         ],
         "y": [
          81.86,
          81.87
         ]
        },
        {
         "line": {
          "color": "green"
         },
         "showlegend": false,
         "type": "scatter",
         "x": [
          2130,
          2131
         ],
         "y": [
          81.87,
          81.85
         ]
        },
        {
         "line": {
          "color": "green"
         },
         "showlegend": false,
         "type": "scatter",
         "x": [
          2131,
          2132
         ],
         "y": [
          81.85,
          81.86
         ]
        },
        {
         "line": {
          "color": "green"
         },
         "showlegend": false,
         "type": "scatter",
         "x": [
          2132,
          2133
         ],
         "y": [
          81.86,
          81.86
         ]
        },
        {
         "line": {
          "color": "green"
         },
         "showlegend": false,
         "type": "scatter",
         "x": [
          2133,
          2134
         ],
         "y": [
          81.86,
          81.93
         ]
        },
        {
         "line": {
          "color": "green"
         },
         "showlegend": false,
         "type": "scatter",
         "x": [
          2134,
          2135
         ],
         "y": [
          81.93,
          81.89
         ]
        },
        {
         "line": {
          "color": "green"
         },
         "showlegend": false,
         "type": "scatter",
         "x": [
          2135,
          2136
         ],
         "y": [
          81.89,
          81.9
         ]
        },
        {
         "line": {
          "color": "green"
         },
         "showlegend": false,
         "type": "scatter",
         "x": [
          2136,
          2137
         ],
         "y": [
          81.9,
          81.83
         ]
        },
        {
         "line": {
          "color": "gray"
         },
         "showlegend": false,
         "type": "scatter",
         "x": [
          2137,
          2138
         ],
         "y": [
          81.83,
          81.83
         ]
        },
        {
         "line": {
          "color": "gray"
         },
         "showlegend": false,
         "type": "scatter",
         "x": [
          2138,
          2139
         ],
         "y": [
          81.83,
          81.88
         ]
        },
        {
         "line": {
          "color": "gray"
         },
         "showlegend": false,
         "type": "scatter",
         "x": [
          2139,
          2140
         ],
         "y": [
          81.88,
          81.88
         ]
        },
        {
         "line": {
          "color": "green"
         },
         "showlegend": false,
         "type": "scatter",
         "x": [
          2140,
          2141
         ],
         "y": [
          81.88,
          81.87
         ]
        },
        {
         "line": {
          "color": "gray"
         },
         "showlegend": false,
         "type": "scatter",
         "x": [
          2141,
          2142
         ],
         "y": [
          81.87,
          81.8
         ]
        },
        {
         "line": {
          "color": "gray"
         },
         "showlegend": false,
         "type": "scatter",
         "x": [
          2142,
          2143
         ],
         "y": [
          81.8,
          81.72
         ]
        },
        {
         "line": {
          "color": "red"
         },
         "showlegend": false,
         "type": "scatter",
         "x": [
          2143,
          2144
         ],
         "y": [
          81.72,
          81.83
         ]
        },
        {
         "line": {
          "color": "gray"
         },
         "showlegend": false,
         "type": "scatter",
         "x": [
          2144,
          2145
         ],
         "y": [
          81.83,
          81.74
         ]
        },
        {
         "line": {
          "color": "gray"
         },
         "showlegend": false,
         "type": "scatter",
         "x": [
          2145,
          2146
         ],
         "y": [
          81.74,
          81.82
         ]
        },
        {
         "line": {
          "color": "gray"
         },
         "showlegend": false,
         "type": "scatter",
         "x": [
          2146,
          2147
         ],
         "y": [
          81.82,
          81.82
         ]
        },
        {
         "line": {
          "color": "gray"
         },
         "showlegend": false,
         "type": "scatter",
         "x": [
          2147,
          2148
         ],
         "y": [
          81.82,
          81.82
         ]
        },
        {
         "line": {
          "color": "gray"
         },
         "showlegend": false,
         "type": "scatter",
         "x": [
          2148,
          2149
         ],
         "y": [
          81.82,
          81.94
         ]
        },
        {
         "line": {
          "color": "green"
         },
         "showlegend": false,
         "type": "scatter",
         "x": [
          2149,
          2150
         ],
         "y": [
          81.94,
          81.93
         ]
        },
        {
         "line": {
          "color": "green"
         },
         "showlegend": false,
         "type": "scatter",
         "x": [
          2150,
          2151
         ],
         "y": [
          81.93,
          81.94
         ]
        },
        {
         "line": {
          "color": "green"
         },
         "showlegend": false,
         "type": "scatter",
         "x": [
          2151,
          2152
         ],
         "y": [
          81.94,
          81.96
         ]
        },
        {
         "line": {
          "color": "green"
         },
         "showlegend": false,
         "type": "scatter",
         "x": [
          2152,
          2153
         ],
         "y": [
          81.96,
          81.95
         ]
        },
        {
         "line": {
          "color": "green"
         },
         "showlegend": false,
         "type": "scatter",
         "x": [
          2153,
          2154
         ],
         "y": [
          81.95,
          81.92
         ]
        },
        {
         "line": {
          "color": "green"
         },
         "showlegend": false,
         "type": "scatter",
         "x": [
          2154,
          2155
         ],
         "y": [
          81.92,
          81.98
         ]
        },
        {
         "line": {
          "color": "green"
         },
         "showlegend": false,
         "type": "scatter",
         "x": [
          2155,
          2156
         ],
         "y": [
          81.98,
          81.94
         ]
        },
        {
         "line": {
          "color": "gray"
         },
         "showlegend": false,
         "type": "scatter",
         "x": [
          2156,
          2157
         ],
         "y": [
          81.94,
          81.95
         ]
        },
        {
         "line": {
          "color": "green"
         },
         "showlegend": false,
         "type": "scatter",
         "x": [
          2157,
          2158
         ],
         "y": [
          81.95,
          81.98
         ]
        },
        {
         "line": {
          "color": "green"
         },
         "showlegend": false,
         "type": "scatter",
         "x": [
          2158,
          2159
         ],
         "y": [
          81.98,
          82
         ]
        },
        {
         "line": {
          "color": "green"
         },
         "showlegend": false,
         "type": "scatter",
         "x": [
          2159,
          2160
         ],
         "y": [
          82,
          82
         ]
        },
        {
         "line": {
          "color": "green"
         },
         "showlegend": false,
         "type": "scatter",
         "x": [
          2160,
          2161
         ],
         "y": [
          82,
          82
         ]
        },
        {
         "line": {
          "color": "green"
         },
         "showlegend": false,
         "type": "scatter",
         "x": [
          2161,
          2162
         ],
         "y": [
          82,
          82.01
         ]
        },
        {
         "line": {
          "color": "green"
         },
         "showlegend": false,
         "type": "scatter",
         "x": [
          2162,
          2163
         ],
         "y": [
          82.01,
          82.05
         ]
        },
        {
         "line": {
          "color": "green"
         },
         "showlegend": false,
         "type": "scatter",
         "x": [
          2163,
          2164
         ],
         "y": [
          82.05,
          82.07
         ]
        },
        {
         "line": {
          "color": "green"
         },
         "showlegend": false,
         "type": "scatter",
         "x": [
          2164,
          2165
         ],
         "y": [
          82.07,
          82.08
         ]
        },
        {
         "line": {
          "color": "green"
         },
         "showlegend": false,
         "type": "scatter",
         "x": [
          2165,
          2166
         ],
         "y": [
          82.08,
          82.07
         ]
        },
        {
         "line": {
          "color": "green"
         },
         "showlegend": false,
         "type": "scatter",
         "x": [
          2166,
          2167
         ],
         "y": [
          82.07,
          82.08
         ]
        },
        {
         "line": {
          "color": "green"
         },
         "showlegend": false,
         "type": "scatter",
         "x": [
          2167,
          2168
         ],
         "y": [
          82.08,
          82.04
         ]
        },
        {
         "line": {
          "color": "gray"
         },
         "showlegend": false,
         "type": "scatter",
         "x": [
          2168,
          2169
         ],
         "y": [
          82.04,
          82.05
         ]
        },
        {
         "line": {
          "color": "gray"
         },
         "showlegend": false,
         "type": "scatter",
         "x": [
          2169,
          2170
         ],
         "y": [
          82.05,
          82.04
         ]
        },
        {
         "line": {
          "color": "gray"
         },
         "showlegend": false,
         "type": "scatter",
         "x": [
          2170,
          2171
         ],
         "y": [
          82.04,
          82.04
         ]
        },
        {
         "line": {
          "color": "gray"
         },
         "showlegend": false,
         "type": "scatter",
         "x": [
          2171,
          2172
         ],
         "y": [
          82.04,
          82.03
         ]
        },
        {
         "line": {
          "color": "gray"
         },
         "showlegend": false,
         "type": "scatter",
         "x": [
          2172,
          2173
         ],
         "y": [
          82.03,
          82.02
         ]
        },
        {
         "line": {
          "color": "gray"
         },
         "showlegend": false,
         "type": "scatter",
         "x": [
          2173,
          2174
         ],
         "y": [
          82.02,
          82
         ]
        },
        {
         "line": {
          "color": "red"
         },
         "showlegend": false,
         "type": "scatter",
         "x": [
          2174,
          2175
         ],
         "y": [
          82,
          81.99
         ]
        },
        {
         "line": {
          "color": "red"
         },
         "showlegend": false,
         "type": "scatter",
         "x": [
          2175,
          2176
         ],
         "y": [
          81.99,
          81.99
         ]
        },
        {
         "line": {
          "color": "gray"
         },
         "showlegend": false,
         "type": "scatter",
         "x": [
          2176,
          2177
         ],
         "y": [
          81.99,
          82.01
         ]
        },
        {
         "line": {
          "color": "gray"
         },
         "showlegend": false,
         "type": "scatter",
         "x": [
          2177,
          2178
         ],
         "y": [
          82.01,
          82.01
         ]
        },
        {
         "line": {
          "color": "red"
         },
         "showlegend": false,
         "type": "scatter",
         "x": [
          2178,
          2179
         ],
         "y": [
          82.01,
          82.02
         ]
        },
        {
         "line": {
          "color": "gray"
         },
         "showlegend": false,
         "type": "scatter",
         "x": [
          2179,
          2180
         ],
         "y": [
          82.02,
          81.89
         ]
        },
        {
         "line": {
          "color": "red"
         },
         "showlegend": false,
         "type": "scatter",
         "x": [
          2180,
          2181
         ],
         "y": [
          81.89,
          81.89
         ]
        },
        {
         "line": {
          "color": "red"
         },
         "showlegend": false,
         "type": "scatter",
         "x": [
          2181,
          2182
         ],
         "y": [
          81.89,
          81.96
         ]
        },
        {
         "line": {
          "color": "red"
         },
         "showlegend": false,
         "type": "scatter",
         "x": [
          2182,
          2183
         ],
         "y": [
          81.96,
          81.92
         ]
        },
        {
         "line": {
          "color": "red"
         },
         "showlegend": false,
         "type": "scatter",
         "x": [
          2183,
          2184
         ],
         "y": [
          81.92,
          81.92
         ]
        },
        {
         "line": {
          "color": "red"
         },
         "showlegend": false,
         "type": "scatter",
         "x": [
          2184,
          2185
         ],
         "y": [
          81.92,
          82.06
         ]
        },
        {
         "line": {
          "color": "green"
         },
         "showlegend": false,
         "type": "scatter",
         "x": [
          2185,
          2186
         ],
         "y": [
          82.06,
          82.05
         ]
        },
        {
         "line": {
          "color": "green"
         },
         "showlegend": false,
         "type": "scatter",
         "x": [
          2186,
          2187
         ],
         "y": [
          82.05,
          82.05
         ]
        },
        {
         "line": {
          "color": "green"
         },
         "showlegend": false,
         "type": "scatter",
         "x": [
          2187,
          2188
         ],
         "y": [
          82.05,
          82.06
         ]
        },
        {
         "line": {
          "color": "green"
         },
         "showlegend": false,
         "type": "scatter",
         "x": [
          2188,
          2189
         ],
         "y": [
          82.06,
          82.06
         ]
        },
        {
         "line": {
          "color": "green"
         },
         "showlegend": false,
         "type": "scatter",
         "x": [
          2189,
          2190
         ],
         "y": [
          82.06,
          82.05
         ]
        },
        {
         "line": {
          "color": "green"
         },
         "showlegend": false,
         "type": "scatter",
         "x": [
          2190,
          2191
         ],
         "y": [
          82.05,
          81.99
         ]
        },
        {
         "line": {
          "color": "green"
         },
         "showlegend": false,
         "type": "scatter",
         "x": [
          2191,
          2192
         ],
         "y": [
          81.99,
          81.97
         ]
        },
        {
         "line": {
          "color": "gray"
         },
         "showlegend": false,
         "type": "scatter",
         "x": [
          2192,
          2193
         ],
         "y": [
          81.97,
          81.97
         ]
        },
        {
         "line": {
          "color": "gray"
         },
         "showlegend": false,
         "type": "scatter",
         "x": [
          2193,
          2194
         ],
         "y": [
          81.97,
          81.96
         ]
        },
        {
         "line": {
          "color": "red"
         },
         "showlegend": false,
         "type": "scatter",
         "x": [
          2194,
          2195
         ],
         "y": [
          81.96,
          81.95
         ]
        },
        {
         "line": {
          "color": "red"
         },
         "showlegend": false,
         "type": "scatter",
         "x": [
          2195,
          2196
         ],
         "y": [
          81.95,
          81.98
         ]
        },
        {
         "line": {
          "color": "gray"
         },
         "showlegend": false,
         "type": "scatter",
         "x": [
          2196,
          2197
         ],
         "y": [
          81.98,
          81.99
         ]
        },
        {
         "line": {
          "color": "green"
         },
         "showlegend": false,
         "type": "scatter",
         "x": [
          2197,
          2198
         ],
         "y": [
          81.99,
          82.03
         ]
        },
        {
         "line": {
          "color": "green"
         },
         "showlegend": false,
         "type": "scatter",
         "x": [
          2198,
          2199
         ],
         "y": [
          82.03,
          82.01
         ]
        }
       ],
       "layout": {
        "autosize": true,
        "height": 1000,
        "template": {
         "data": {
          "bar": [
           {
            "error_x": {
             "color": "#2a3f5f"
            },
            "error_y": {
             "color": "#2a3f5f"
            },
            "marker": {
             "line": {
              "color": "#E5ECF6",
              "width": 0.5
             },
             "pattern": {
              "fillmode": "overlay",
              "size": 10,
              "solidity": 0.2
             }
            },
            "type": "bar"
           }
          ],
          "barpolar": [
           {
            "marker": {
             "line": {
              "color": "#E5ECF6",
              "width": 0.5
             },
             "pattern": {
              "fillmode": "overlay",
              "size": 10,
              "solidity": 0.2
             }
            },
            "type": "barpolar"
           }
          ],
          "carpet": [
           {
            "aaxis": {
             "endlinecolor": "#2a3f5f",
             "gridcolor": "white",
             "linecolor": "white",
             "minorgridcolor": "white",
             "startlinecolor": "#2a3f5f"
            },
            "baxis": {
             "endlinecolor": "#2a3f5f",
             "gridcolor": "white",
             "linecolor": "white",
             "minorgridcolor": "white",
             "startlinecolor": "#2a3f5f"
            },
            "type": "carpet"
           }
          ],
          "choropleth": [
           {
            "colorbar": {
             "outlinewidth": 0,
             "ticks": ""
            },
            "type": "choropleth"
           }
          ],
          "contour": [
           {
            "colorbar": {
             "outlinewidth": 0,
             "ticks": ""
            },
            "colorscale": [
             [
              0,
              "#0d0887"
             ],
             [
              0.1111111111111111,
              "#46039f"
             ],
             [
              0.2222222222222222,
              "#7201a8"
             ],
             [
              0.3333333333333333,
              "#9c179e"
             ],
             [
              0.4444444444444444,
              "#bd3786"
             ],
             [
              0.5555555555555556,
              "#d8576b"
             ],
             [
              0.6666666666666666,
              "#ed7953"
             ],
             [
              0.7777777777777778,
              "#fb9f3a"
             ],
             [
              0.8888888888888888,
              "#fdca26"
             ],
             [
              1,
              "#f0f921"
             ]
            ],
            "type": "contour"
           }
          ],
          "contourcarpet": [
           {
            "colorbar": {
             "outlinewidth": 0,
             "ticks": ""
            },
            "type": "contourcarpet"
           }
          ],
          "heatmap": [
           {
            "colorbar": {
             "outlinewidth": 0,
             "ticks": ""
            },
            "colorscale": [
             [
              0,
              "#0d0887"
             ],
             [
              0.1111111111111111,
              "#46039f"
             ],
             [
              0.2222222222222222,
              "#7201a8"
             ],
             [
              0.3333333333333333,
              "#9c179e"
             ],
             [
              0.4444444444444444,
              "#bd3786"
             ],
             [
              0.5555555555555556,
              "#d8576b"
             ],
             [
              0.6666666666666666,
              "#ed7953"
             ],
             [
              0.7777777777777778,
              "#fb9f3a"
             ],
             [
              0.8888888888888888,
              "#fdca26"
             ],
             [
              1,
              "#f0f921"
             ]
            ],
            "type": "heatmap"
           }
          ],
          "heatmapgl": [
           {
            "colorbar": {
             "outlinewidth": 0,
             "ticks": ""
            },
            "colorscale": [
             [
              0,
              "#0d0887"
             ],
             [
              0.1111111111111111,
              "#46039f"
             ],
             [
              0.2222222222222222,
              "#7201a8"
             ],
             [
              0.3333333333333333,
              "#9c179e"
             ],
             [
              0.4444444444444444,
              "#bd3786"
             ],
             [
              0.5555555555555556,
              "#d8576b"
             ],
             [
              0.6666666666666666,
              "#ed7953"
             ],
             [
              0.7777777777777778,
              "#fb9f3a"
             ],
             [
              0.8888888888888888,
              "#fdca26"
             ],
             [
              1,
              "#f0f921"
             ]
            ],
            "type": "heatmapgl"
           }
          ],
          "histogram": [
           {
            "marker": {
             "pattern": {
              "fillmode": "overlay",
              "size": 10,
              "solidity": 0.2
             }
            },
            "type": "histogram"
           }
          ],
          "histogram2d": [
           {
            "colorbar": {
             "outlinewidth": 0,
             "ticks": ""
            },
            "colorscale": [
             [
              0,
              "#0d0887"
             ],
             [
              0.1111111111111111,
              "#46039f"
             ],
             [
              0.2222222222222222,
              "#7201a8"
             ],
             [
              0.3333333333333333,
              "#9c179e"
             ],
             [
              0.4444444444444444,
              "#bd3786"
             ],
             [
              0.5555555555555556,
              "#d8576b"
             ],
             [
              0.6666666666666666,
              "#ed7953"
             ],
             [
              0.7777777777777778,
              "#fb9f3a"
             ],
             [
              0.8888888888888888,
              "#fdca26"
             ],
             [
              1,
              "#f0f921"
             ]
            ],
            "type": "histogram2d"
           }
          ],
          "histogram2dcontour": [
           {
            "colorbar": {
             "outlinewidth": 0,
             "ticks": ""
            },
            "colorscale": [
             [
              0,
              "#0d0887"
             ],
             [
              0.1111111111111111,
              "#46039f"
             ],
             [
              0.2222222222222222,
              "#7201a8"
             ],
             [
              0.3333333333333333,
              "#9c179e"
             ],
             [
              0.4444444444444444,
              "#bd3786"
             ],
             [
              0.5555555555555556,
              "#d8576b"
             ],
             [
              0.6666666666666666,
              "#ed7953"
             ],
             [
              0.7777777777777778,
              "#fb9f3a"
             ],
             [
              0.8888888888888888,
              "#fdca26"
             ],
             [
              1,
              "#f0f921"
             ]
            ],
            "type": "histogram2dcontour"
           }
          ],
          "mesh3d": [
           {
            "colorbar": {
             "outlinewidth": 0,
             "ticks": ""
            },
            "type": "mesh3d"
           }
          ],
          "parcoords": [
           {
            "line": {
             "colorbar": {
              "outlinewidth": 0,
              "ticks": ""
             }
            },
            "type": "parcoords"
           }
          ],
          "pie": [
           {
            "automargin": true,
            "type": "pie"
           }
          ],
          "scatter": [
           {
            "fillpattern": {
             "fillmode": "overlay",
             "size": 10,
             "solidity": 0.2
            },
            "type": "scatter"
           }
          ],
          "scatter3d": [
           {
            "line": {
             "colorbar": {
              "outlinewidth": 0,
              "ticks": ""
             }
            },
            "marker": {
             "colorbar": {
              "outlinewidth": 0,
              "ticks": ""
             }
            },
            "type": "scatter3d"
           }
          ],
          "scattercarpet": [
           {
            "marker": {
             "colorbar": {
              "outlinewidth": 0,
              "ticks": ""
             }
            },
            "type": "scattercarpet"
           }
          ],
          "scattergeo": [
           {
            "marker": {
             "colorbar": {
              "outlinewidth": 0,
              "ticks": ""
             }
            },
            "type": "scattergeo"
           }
          ],
          "scattergl": [
           {
            "marker": {
             "colorbar": {
              "outlinewidth": 0,
              "ticks": ""
             }
            },
            "type": "scattergl"
           }
          ],
          "scattermapbox": [
           {
            "marker": {
             "colorbar": {
              "outlinewidth": 0,
              "ticks": ""
             }
            },
            "type": "scattermapbox"
           }
          ],
          "scatterpolar": [
           {
            "marker": {
             "colorbar": {
              "outlinewidth": 0,
              "ticks": ""
             }
            },
            "type": "scatterpolar"
           }
          ],
          "scatterpolargl": [
           {
            "marker": {
             "colorbar": {
              "outlinewidth": 0,
              "ticks": ""
             }
            },
            "type": "scatterpolargl"
           }
          ],
          "scatterternary": [
           {
            "marker": {
             "colorbar": {
              "outlinewidth": 0,
              "ticks": ""
             }
            },
            "type": "scatterternary"
           }
          ],
          "surface": [
           {
            "colorbar": {
             "outlinewidth": 0,
             "ticks": ""
            },
            "colorscale": [
             [
              0,
              "#0d0887"
             ],
             [
              0.1111111111111111,
              "#46039f"
             ],
             [
              0.2222222222222222,
              "#7201a8"
             ],
             [
              0.3333333333333333,
              "#9c179e"
             ],
             [
              0.4444444444444444,
              "#bd3786"
             ],
             [
              0.5555555555555556,
              "#d8576b"
             ],
             [
              0.6666666666666666,
              "#ed7953"
             ],
             [
              0.7777777777777778,
              "#fb9f3a"
             ],
             [
              0.8888888888888888,
              "#fdca26"
             ],
             [
              1,
              "#f0f921"
             ]
            ],
            "type": "surface"
           }
          ],
          "table": [
           {
            "cells": {
             "fill": {
              "color": "#EBF0F8"
             },
             "line": {
              "color": "white"
             }
            },
            "header": {
             "fill": {
              "color": "#C8D4E3"
             },
             "line": {
              "color": "white"
             }
            },
            "type": "table"
           }
          ]
         },
         "layout": {
          "annotationdefaults": {
           "arrowcolor": "#2a3f5f",
           "arrowhead": 0,
           "arrowwidth": 1
          },
          "autotypenumbers": "strict",
          "coloraxis": {
           "colorbar": {
            "outlinewidth": 0,
            "ticks": ""
           }
          },
          "colorscale": {
           "diverging": [
            [
             0,
             "#8e0152"
            ],
            [
             0.1,
             "#c51b7d"
            ],
            [
             0.2,
             "#de77ae"
            ],
            [
             0.3,
             "#f1b6da"
            ],
            [
             0.4,
             "#fde0ef"
            ],
            [
             0.5,
             "#f7f7f7"
            ],
            [
             0.6,
             "#e6f5d0"
            ],
            [
             0.7,
             "#b8e186"
            ],
            [
             0.8,
             "#7fbc41"
            ],
            [
             0.9,
             "#4d9221"
            ],
            [
             1,
             "#276419"
            ]
           ],
           "sequential": [
            [
             0,
             "#0d0887"
            ],
            [
             0.1111111111111111,
             "#46039f"
            ],
            [
             0.2222222222222222,
             "#7201a8"
            ],
            [
             0.3333333333333333,
             "#9c179e"
            ],
            [
             0.4444444444444444,
             "#bd3786"
            ],
            [
             0.5555555555555556,
             "#d8576b"
            ],
            [
             0.6666666666666666,
             "#ed7953"
            ],
            [
             0.7777777777777778,
             "#fb9f3a"
            ],
            [
             0.8888888888888888,
             "#fdca26"
            ],
            [
             1,
             "#f0f921"
            ]
           ],
           "sequentialminus": [
            [
             0,
             "#0d0887"
            ],
            [
             0.1111111111111111,
             "#46039f"
            ],
            [
             0.2222222222222222,
             "#7201a8"
            ],
            [
             0.3333333333333333,
             "#9c179e"
            ],
            [
             0.4444444444444444,
             "#bd3786"
            ],
            [
             0.5555555555555556,
             "#d8576b"
            ],
            [
             0.6666666666666666,
             "#ed7953"
            ],
            [
             0.7777777777777778,
             "#fb9f3a"
            ],
            [
             0.8888888888888888,
             "#fdca26"
            ],
            [
             1,
             "#f0f921"
            ]
           ]
          },
          "colorway": [
           "#636efa",
           "#EF553B",
           "#00cc96",
           "#ab63fa",
           "#FFA15A",
           "#19d3f3",
           "#FF6692",
           "#B6E880",
           "#FF97FF",
           "#FECB52"
          ],
          "font": {
           "color": "#2a3f5f"
          },
          "geo": {
           "bgcolor": "white",
           "lakecolor": "white",
           "landcolor": "#E5ECF6",
           "showlakes": true,
           "showland": true,
           "subunitcolor": "white"
          },
          "hoverlabel": {
           "align": "left"
          },
          "hovermode": "closest",
          "mapbox": {
           "style": "light"
          },
          "paper_bgcolor": "white",
          "plot_bgcolor": "#E5ECF6",
          "polar": {
           "angularaxis": {
            "gridcolor": "white",
            "linecolor": "white",
            "ticks": ""
           },
           "bgcolor": "#E5ECF6",
           "radialaxis": {
            "gridcolor": "white",
            "linecolor": "white",
            "ticks": ""
           }
          },
          "scene": {
           "xaxis": {
            "backgroundcolor": "#E5ECF6",
            "gridcolor": "white",
            "gridwidth": 2,
            "linecolor": "white",
            "showbackground": true,
            "ticks": "",
            "zerolinecolor": "white"
           },
           "yaxis": {
            "backgroundcolor": "#E5ECF6",
            "gridcolor": "white",
            "gridwidth": 2,
            "linecolor": "white",
            "showbackground": true,
            "ticks": "",
            "zerolinecolor": "white"
           },
           "zaxis": {
            "backgroundcolor": "#E5ECF6",
            "gridcolor": "white",
            "gridwidth": 2,
            "linecolor": "white",
            "showbackground": true,
            "ticks": "",
            "zerolinecolor": "white"
           }
          },
          "shapedefaults": {
           "line": {
            "color": "#2a3f5f"
           }
          },
          "ternary": {
           "aaxis": {
            "gridcolor": "white",
            "linecolor": "white",
            "ticks": ""
           },
           "baxis": {
            "gridcolor": "white",
            "linecolor": "white",
            "ticks": ""
           },
           "bgcolor": "#E5ECF6",
           "caxis": {
            "gridcolor": "white",
            "linecolor": "white",
            "ticks": ""
           }
          },
          "title": {
           "x": 0.05
          },
          "xaxis": {
           "automargin": true,
           "gridcolor": "white",
           "linecolor": "white",
           "ticks": "",
           "title": {
            "standoff": 15
           },
           "zerolinecolor": "white",
           "zerolinewidth": 2
          },
          "yaxis": {
           "automargin": true,
           "gridcolor": "white",
           "linecolor": "white",
           "ticks": "",
           "title": {
            "standoff": 15
           },
           "zerolinecolor": "white",
           "zerolinewidth": 2
          }
         }
        },
        "title": {
         "text": "Wykres liniowy z kolorami"
        },
        "width": 1400,
        "xaxis": {
         "title": {
          "text": "Indeks"
         }
        },
        "yaxis": {
         "title": {
          "text": "Close"
         }
        }
       }
      }
     },
     "metadata": {},
     "output_type": "display_data"
    }
   ],
   "source": [
    "# Graph green/red\n",
    "def graphGreenRed(Y_test, batch_size):\n",
    "    \n",
    "    # model = load_model('./results/19/saved_models/best_model_Timestep_10.keras')\n",
    "    # predict = model.predict(x_test, batch_size=batch_size)\n",
    "    predict_classes = np.where(predict > 0.65, 1,0)\n",
    "    concat = np.hstack((predict_classes, Y_test[:,2:]))\n",
    "    # df = pd.DataFrame(concat, columns=['Sell', 'Buy', 'Price'])\n",
    "    df = pd.DataFrame(concat, columns=['Sell', 'Buy', 'Close', 'Open', 'High', 'Low'])\n",
    "    \n",
    "    # Tworzenie wykresu liniowego\n",
    "    fig = go.Figure()\n",
    "\n",
    "    # Layout - set size\n",
    "    fig.update_layout(\n",
    "        autosize=True,\n",
    "        width=1400,\n",
    "        height=1000\n",
    "    )\n",
    "    \n",
    "    start = 1000\n",
    "    end = start + 1200\n",
    "    \n",
    "    # Dodawanie linii do wykresu\n",
    "    for i in range(start, len(df[:end])):\n",
    "\n",
    "        color = 'gray'\n",
    "        if df.at[i-1, 'Buy'] == 1:\n",
    "            color = 'green'\n",
    "        elif df.at[i-1, 'Sell'] == 1:\n",
    "            color = 'red'\n",
    "\n",
    "        fig.add_trace(go.Scatter(x=[i-1, i], y=[df.at[i-1, 'Open'], df.at[i, 'Open']], line=dict(color=color), showlegend=False))\n",
    "    \n",
    "    # Ustawienia osi i tytuł\n",
    "    fig.update_layout(\n",
    "        xaxis_title='Indeks',\n",
    "        yaxis_title='Close',\n",
    "        title='Wykres liniowy z kolorami'\n",
    "    )\n",
    "    \n",
    "    # Wyświetlanie wykresu\n",
    "    fig.show()\n",
    "    \n",
    "graphGreenRed(Y_test, 64)"
   ]
  },
  {
   "cell_type": "code",
   "execution_count": 33,
   "metadata": {},
   "outputs": [
    {
     "name": "stdout",
     "output_type": "stream",
     "text": [
      "[[ 1.    0.   82.79 82.93 82.94 82.77]\n",
      " [ 1.    0.   82.78 82.79 82.8  82.74]\n",
      " [ 1.    0.   82.84 82.77 82.89 82.76]\n",
      " [ 1.    0.   82.9  82.83 82.94 82.83]\n",
      " [ 1.    0.   82.9  82.89 82.92 82.87]\n",
      " [ 1.    0.   82.92 82.89 82.94 82.86]]\n",
      "\u001b[1m83/83\u001b[0m \u001b[32m━━━━━━━━━━━━━━━━━━━━\u001b[0m\u001b[37m\u001b[0m \u001b[1m3s\u001b[0m 25ms/step\n",
      "      Sell  Buy  Close   Open   High    Low\n",
      "3619   0.0  1.0  82.79  82.93  82.94  82.77\n",
      "3620   1.0  0.0  82.78  82.79  82.80  82.74\n",
      "3621   1.0  0.0  82.84  82.77  82.89  82.76\n",
      "3622   0.0  0.0  82.90  82.83  82.94  82.83\n",
      "3623   0.0  1.0  82.90  82.89  82.92  82.87\n",
      "3624   0.0  1.0  82.92  82.89  82.94  82.86\n",
      "3625   0.0  1.0  82.81  82.91  82.93  82.79\n",
      "3626   1.0  0.0  82.80  82.81  82.83  82.79\n",
      "3627   1.0  0.0  82.90  82.79  82.92  82.79\n",
      "3628   0.0  1.0  82.78  82.88  82.90  82.78\n",
      "3629   1.0  0.0  82.84  82.77  82.86  82.77\n",
      "3630   0.0  0.0  82.73  82.85  82.86  82.58\n",
      "3631   1.0  0.0  82.64  82.70  82.72  82.63\n",
      "3632   1.0  0.0  82.67  82.63  82.67  82.62\n",
      "3633   1.0  0.0  82.73  82.68  82.79  82.67\n",
      "3634   0.0  0.0  82.74  82.72  82.76  82.70\n",
      "3635   0.0  0.0  82.73  82.73  82.82  82.69\n",
      "3636   0.0  0.0  82.81  82.72  82.81  82.59\n",
      "3637   0.0  1.0  82.80  82.80  82.87  82.74\n",
      "3638   0.0  1.0  82.84  82.79  82.87  82.78\n",
      "3639   0.0  1.0  82.91  82.84  82.92  82.82\n",
      "3640   0.0  1.0  83.07  82.92  83.09  82.87\n",
      "3641   0.0  1.0  83.08  83.08  83.09  82.98\n",
      "3642   0.0  1.0  83.00  83.07  83.10  82.96\n",
      "3643   0.0  1.0  83.07  83.01  83.08  83.00\n",
      "3644   0.0  1.0  83.13  83.06  83.15  83.06\n",
      "3645   0.0  1.0  83.11  83.14  83.14  83.05\n",
      "3646   0.0  1.0  83.17  83.12  83.22  83.09\n",
      "3647   0.0  1.0  83.27  83.17  83.31  83.14\n",
      "3648   0.0  1.0  83.35  83.26  83.44  83.19\n",
      "3649   0.0  1.0  83.42  83.39  83.44  83.32\n",
      "3650   0.0  1.0  83.44  83.42  83.48  83.37\n",
      "3651   0.0  1.0  83.39  83.44  83.46  83.32\n",
      "3652   0.0  1.0  83.34  83.40  83.48  83.33\n",
      "3653   0.0  1.0  83.34  83.34  83.47  83.32\n",
      "3654   0.0  1.0  83.22  83.35  83.35  83.15\n",
      "3655   0.0  0.0  83.17  83.23  83.33  83.11\n",
      "3656   1.0  0.0  83.08  83.17  83.21  83.07\n",
      "3657   1.0  0.0  83.27  83.08  83.33  83.06\n",
      "3658   0.0  0.0  83.06  83.28  83.30  83.04\n",
      "3659   1.0  0.0  83.18  83.07  83.18  83.06\n",
      "3660   1.0  0.0  83.14  83.19  83.22  83.06\n",
      "3661   1.0  0.0  82.89  83.15  83.16  82.85\n",
      "3662   1.0  0.0  82.80  82.88  82.94  82.72\n",
      "3663   1.0  0.0  82.86  82.79  82.95  82.77\n",
      "3664   1.0  0.0  82.81  82.85  82.87  82.71\n",
      "3665   1.0  0.0  82.80  82.81  82.85  82.76\n"
     ]
    }
   ],
   "source": [
    "print(Y_test[3619:3625])\n",
    "model = load_model('./results/19/saved_models/best_model_Timestep_10.keras')\n",
    "predict = model.predict(x_test, batch_size=64)\n",
    "predict_classes = np.where(predict > 0.55, 1,0)\n",
    "concat = np.hstack((predict_classes, Y_test[:,2:]))\n",
    "# df = pd.DataFrame(concat, columns=['Sell', 'Buy', 'Price'])\n",
    "df = pd.DataFrame(concat, columns=['Sell', 'Buy', 'Close', 'Open', 'High', 'Low'])\n",
    "print(df.loc[3619:3665])"
   ]
  },
  {
   "cell_type": "code",
   "execution_count": 77,
   "metadata": {},
   "outputs": [
    {
     "name": "stdout",
     "output_type": "stream",
     "text": [
      "i = 0.0: (-4.47, 143)\n",
      "i = 0.05: (-3.45, 123)\n",
      "i = 0.1: (-3.37, 110)\n",
      "i = 0.15: (-3.72, 106)\n",
      "i = 0.2: (-3.45, 102)\n",
      "i = 0.25: (-3.5, 100)\n",
      "i = 0.3: (-3.72, 99)\n",
      "i = 0.35: (-3.67, 99)\n",
      "i = 0.4: (-3.6, 98)\n",
      "i = 0.45: (-3.55, 98)\n",
      "i = 0.5: (-3.5, 98)\n",
      "i = 0.55: (-3.45, 98)\n",
      "i = 0.6: (-3.62, 98)\n",
      "i = 0.65: (-3.62, 98)\n",
      "i = 0.7: (-3.62, 98)\n",
      "i = 0.75: (-3.62, 98)\n",
      "i = 0.8: (-3.62, 98)\n",
      "i = 0.85: (-3.62, 98)\n",
      "i = 0.9: (-3.62, 98)\n",
      "i = 0.95: (-3.62, 98)\n",
      "i = 1.0: (-3.62, 98)\n",
      "i = 1.05: (-3.62, 98)\n",
      "i = 1.1: (-3.62, 98)\n",
      "i = 1.15: (-3.62, 98)\n",
      "i = 1.2: (-3.62, 98)\n",
      "i = 1.25: (-3.62, 98)\n",
      "i = 1.3: (-3.62, 98)\n",
      "i = 1.35: (-3.62, 98)\n",
      "i = 1.4: (-3.62, 98)\n",
      "i = 1.45: (-3.62, 98)\n",
      "i = 1.5: (-3.62, 98)\n",
      "i = 1.55: (-3.62, 98)\n",
      "i = 1.6: (-3.62, 98)\n",
      "i = 1.65: (-3.62, 98)\n",
      "i = 1.7: (-3.62, 98)\n",
      "i = 1.75: (-3.62, 98)\n",
      "i = 1.8: (-3.62, 98)\n",
      "i = 1.85: (-3.62, 98)\n",
      "i = 1.9: (-3.62, 98)\n",
      "i = 1.95: (-3.62, 98)\n"
     ]
    }
   ],
   "source": [
    "# # Profit\n",
    "# def funcProfitTP(Y_test, tp, batch_size):\n",
    "#     # model = load_model('./results/19/saved_models/best_model_Timestep_10.keras')\n",
    "#     # predict = model.predict(x_test, batch_size=batch_size)\n",
    "#     predict_classes = np.where(predict > 0.90, 1,0)\n",
    "#     concat = np.hstack((predict_classes, Y_test[:,2:]))\n",
    "#     # df = pd.DataFrame(concat, columns=['Sell', 'Buy', 'Price'])\n",
    "#     df = pd.DataFrame(concat, columns=['Sell', 'Buy', 'Close', 'Open', 'High', 'Low'])\n",
    "#     # df = df.iloc[3620:3625]\n",
    "\n",
    "#     # Absolute difference prices\n",
    "#     spread = 0.03\n",
    "#     # tp = 1000 # 0.20\n",
    "#     sl = 2\n",
    "#     sum = 0\n",
    "#     sell = 0\n",
    "#     buy = 0\n",
    "#     transact = 0\n",
    "\n",
    "#     # for i in range(3619, 4765):\n",
    "#     for i in range(0, len(df)):\n",
    "#         # print(df.at[i, 'Buy'])\n",
    "\n",
    "#         if (i-3) >= 0:\n",
    "#             buyCondition = 0\n",
    "#             sellCondition = 0\n",
    "#             # Buy condition\n",
    "#             if df.at[i,'Buy'] == 1 and df.at[i-1,'Buy'] == 1 and buy == 0: \n",
    "#             # if df.at[i,'Buy'] == 1 and df.at[i-1,'Buy'] == 1 and df.at[i-2,'Buy'] == 1 and df.at[i-3,'Buy'] == 0 and buy == 0: \n",
    "#                 buyCondition = 1\n",
    "#             # Sell condition\n",
    "#             if df.at[i,'Sell'] == 1 and df.at[i-1,'Sell'] == 1 and sell == 0: \n",
    "#                 sellCondition = 1\n",
    "\n",
    "#             if df.at[i,'Buy'] == 0:                              # B 0 \n",
    "#                 if df.at[i-1,'Buy'] == 0:                        # B-1 0\n",
    "#                     buy = 0\n",
    "#                 elif df.at[i-1,'Buy'] == 1 and buy > 0:         # B-1 1\n",
    "#                     sum += df.at[i,'Open'] - buy\n",
    "#                     buy = 0 \n",
    "#             elif buyCondition == 1:                               # B 1\n",
    "#                 buy = df.at[i,'Open'] + spread\n",
    "#                 transact += 1\n",
    "                            \n",
    "#             if df.at[i,'Sell'] == 0:                              # S 0\n",
    "#                 if df.at[i-1,'Sell'] == 0:                         # S-1 0\n",
    "#                     sell = 0\n",
    "#                 elif df.at[i-1,'Sell'] == 1 and sell > 0:        # S-1 1\n",
    "#                     sum += sell - df.at[i,'Open'] - spread\n",
    "#                     sell = 0\n",
    "#             elif sellCondition == 1:                           # S 1\n",
    "#                 sell = df.at[i,'Open']\n",
    "#                 transact += 1\n",
    "        \n",
    "#         # TP block\n",
    "#         if buy > 0:\n",
    "#             if df.at[i,'High'] >=(buy + tp):\n",
    "#                 sum += tp\n",
    "#                 buy = 0  \n",
    "#         elif sell > 0:\n",
    "#             if df.at[i,'Low'] <= (sell - tp):\n",
    "#                 sum += tp\n",
    "#                 sell = 0\n",
    "# #     for i in range(0, len(df)):\n",
    "# #         if (i-1) >= 0:\n",
    "# #             if df.at[i,'Sell'] > 0.8 and df.at[i-1,'Sell'] < 0.2:                  # S 0 1 \n",
    "# #                 if buy > 0:\n",
    "# #                     sell = df.at[i,'Open'] - spread\n",
    "# #                     sum += df.at[i,'Open'] - buy\n",
    "# #                     buy = 0\n",
    "# #                 elif sell == 0:\n",
    "# #                     sell = df.at[i,'Open'] - spread\n",
    "# #             elif df.at[i,'Sell'] > 0.8 and df.at[i-1,'Sell'] > 0.8 and sell > 0:   # S 1 1 sell >0\n",
    "# #                 if df.at[i-1,'High'] >= (sell + sl):\n",
    "# #                     sum -= sl\n",
    "# #                     sell = 0\n",
    "# #                 if df.at[i-1,'Low'] <= (sell - tp):\n",
    "# #                     sum += tp\n",
    "# #                     sell = 0\n",
    "# # # --------------------------------------------------------------------------------------------------------\n",
    "\n",
    "# #             elif df.at[i,'Buy'] > 0.8 and df.at[i-1,'Buy'] < 0.2:               # B 0 1 \n",
    "# #                 if sell > 0:\n",
    "# #                     buy = df.at[i,'Open'] + spread\n",
    "# #                     sum += sell - df.at[i,'Open']\n",
    "# #                     sell = 0\n",
    "# #                 elif buy == 0:\n",
    "# #                     buy = df.at[i,'Open'] + spread\n",
    "# #             elif df.at[i,'Buy'] > 0.8 and df.at[i-1,'Buy'] > 0.8 and buy > 0:   # B 1 1 buy >0\n",
    "# #                 if df.at[i-1,'Low'] <= (buy - sl):\n",
    "# #                     sum -= sl\n",
    "# #                     buy = 0\n",
    "# #                 if df.at[i-1,'High'] >= (buy + tp):\n",
    "# #                     sum += tp\n",
    "# #                     buy = 0\n",
    "#     return round(sum, 2), transact\n",
    "\n",
    "# for i in range(0, 200, 5):\n",
    "#     print(f\"i = {i/100}: {funcProfitTP(Y_test, i/100, 64)}\")"
   ]
  }
 ],
 "metadata": {
  "kernelspec": {
   "display_name": "tf",
   "language": "python",
   "name": "python3"
  },
  "language_info": {
   "codemirror_mode": {
    "name": "ipython",
    "version": 3
   },
   "file_extension": ".py",
   "mimetype": "text/x-python",
   "name": "python",
   "nbconvert_exporter": "python",
   "pygments_lexer": "ipython3",
   "version": "3.10.8"
  }
 },
 "nbformat": 4,
 "nbformat_minor": 2
}
